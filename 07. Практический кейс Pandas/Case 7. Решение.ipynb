{
 "cells": [
  {
   "cell_type": "code",
   "execution_count": 4,
   "id": "70bf9215",
   "metadata": {},
   "outputs": [],
   "source": [
    "import pandas as pd\n",
    "import numpy as np\n",
    "import glob"
   ]
  },
  {
   "cell_type": "markdown",
   "id": "adfa4ccf",
   "metadata": {},
   "source": [
    "Прочитаем все файлы csv из папки `Входящие` и загрузим их в один датафрейм"
   ]
  },
  {
   "cell_type": "code",
   "execution_count": null,
   "id": "37f30911",
   "metadata": {},
   "outputs": [
    {
     "name": "stdout",
     "output_type": "stream",
     "text": [
      "<class 'pandas.core.frame.DataFrame'>\n",
      "Index: 295737 entries, 0 to 95736\n",
      "Data columns (total 30 columns):\n",
      " #   Column                 Non-Null Count   Dtype  \n",
      "---  ------                 --------------   -----  \n",
      " 0   Дата                   295737 non-null  object \n",
      " 1   Номер                  295737 non-null  object \n",
      " 2   Сумма                  295737 non-null  object \n",
      " 3   Статус                 295737 non-null  object \n",
      " 4   Примечание             0 non-null       float64\n",
      " 5   Комментарий            134903 non-null  object \n",
      " 6   Контрагент             295737 non-null  object \n",
      " 7   ИНН/КПП                295737 non-null  object \n",
      " 8   Организация            295737 non-null  object \n",
      " 9   ИНН/КПП.1              295737 non-null  object \n",
      " 10  Тип документа          290231 non-null  object \n",
      " 11  Имя файла              295737 non-null  object \n",
      " 12  Дата.1                 206370 non-null  object \n",
      " 13  Номер.1                152476 non-null  object \n",
      " 14  Сумма.1                295737 non-null  object \n",
      " 15  Сумма НДС              295737 non-null  object \n",
      " 16  Ответственный          0 non-null       float64\n",
      " 17  Подразделение          295737 non-null  object \n",
      " 18  Код                    295737 non-null  int64  \n",
      " 19  Дата.2                 295737 non-null  object \n",
      " 20  Время                  295737 non-null  object \n",
      " 21  Тип пакета             295737 non-null  object \n",
      " 22  Идентификатор пакета   295737 non-null  object \n",
      " 23  Запущено в обработку   86377 non-null   object \n",
      " 24  Получено контрагентом  85256 non-null   object \n",
      " 25  Завершено              86330 non-null   object \n",
      " 26  Увеличение суммы       295737 non-null  object \n",
      " 27  НДС                    295737 non-null  object \n",
      " 28  Уменьшение суммы       295737 non-null  object \n",
      " 29  НДС.1                  295737 non-null  object \n",
      "dtypes: float64(2), int64(1), object(27)\n",
      "memory usage: 69.9+ MB\n"
     ]
    }
   ],
   "source": [
    "files = glob.glob(r\"Входящие\\*.csv\")\n",
    "\n",
    "df = pd.DataFrame()\n",
    "for file in files:\n",
    "    tmp = pd.read_csv(file, encoding='1251', sep=';')\n",
    "    df = pd.concat([df, tmp], axis=0)\n"
   ]
  },
  {
   "cell_type": "markdown",
   "id": "4ad4e6ab",
   "metadata": {},
   "source": [
    "Переименуем колонки"
   ]
  },
  {
   "cell_type": "code",
   "execution_count": null,
   "id": "d2fcacb3",
   "metadata": {},
   "outputs": [],
   "source": [
    "new_columns = [\"Дата\",\n",
    "\"Номер\",\n",
    "\"Сумма\",\n",
    "\"Статус\",\n",
    "\"Примечание\",\n",
    "\"Комментарий\",\n",
    "\"Контрагент\",\n",
    "\"ИНН/КПП\",\n",
    "\"Организация\",\n",
    "\"ИНН/КПП\",\n",
    "\"Тип документа\",\n",
    "\"Имя файла\",\n",
    "\"Дата\",\n",
    "\"Номер 1\",\n",
    "\"Сумма 1\",\n",
    "\"Сумма НДС\",\n",
    "\"Ответственный\",\n",
    "\"Подразделение\",\n",
    "\"Код\",\n",
    "\"Дата\",\n",
    "\"Время\",\n",
    "\"Тип пакета\",\n",
    "\"Идентификатор пакета\",\n",
    "\"Запущено в обработку\",\n",
    "\"Получено контрагентом\",\n",
    "\"Завершено\",\n",
    "\"Увеличение суммы\",\n",
    "\"НДC\",\n",
    "\"Уменьшение суммы\",\n",
    "\"НДС\"]"
   ]
  },
  {
   "cell_type": "code",
   "execution_count": 73,
   "id": "65e28a8f",
   "metadata": {},
   "outputs": [],
   "source": [
    "new_columns = [c.replace(' ', '_') for c in new_columns]"
   ]
  },
  {
   "cell_type": "code",
   "execution_count": 74,
   "id": "2c055f27",
   "metadata": {},
   "outputs": [],
   "source": [
    "df = df.set_axis(new_columns, axis=1)"
   ]
  },
  {
   "cell_type": "markdown",
   "id": "6ed803f7",
   "metadata": {},
   "source": [
    "Прочитаем файлы Аптек"
   ]
  },
  {
   "cell_type": "code",
   "execution_count": null,
   "id": "57ed3c5d",
   "metadata": {},
   "outputs": [],
   "source": [
    "files = glob.glob(r\"Аптеки\\csv\\correct\\*.csv\")\n",
    "\n",
    "apteki = pd.DataFrame()\n",
    "for file in files:\n",
    "    tmp = pd.read_csv(file, encoding='1251', sep=';')\n",
    "    apteki = pd.concat([apteki, tmp], axis=0)\n"
   ]
  },
  {
   "cell_type": "markdown",
   "id": "d5d00902",
   "metadata": {},
   "source": [
    "Создаём столбцы:"
   ]
  },
  {
   "cell_type": "code",
   "execution_count": 91,
   "id": "7b0b525e",
   "metadata": {},
   "outputs": [],
   "source": [
    "\n",
    "apteki[\"Номер счет-фактуры\"] = None\n",
    "apteki[\"Сумма счет-фактуры\"] = None\n",
    "apteki[\"Дата счет-фактуры\"] = None\n",
    "apteki[\"Сравнение дат\"] = None"
   ]
  },
  {
   "cell_type": "markdown",
   "id": "adc8821d",
   "metadata": {},
   "source": [
    "Если \"Поставщик\" - ЕАПТЕКА, то к \"Номер накладной\" нужно добавить /15."
   ]
  },
  {
   "cell_type": "code",
   "execution_count": 107,
   "id": "821ec61e",
   "metadata": {},
   "outputs": [],
   "source": [
    "mask = apteki['Поставщик'].str.contains('ЕАПТЕКА')"
   ]
  },
  {
   "cell_type": "code",
   "execution_count": 108,
   "id": "316ce622",
   "metadata": {},
   "outputs": [],
   "source": [
    "apteki.loc[mask, 'Номер накладной'] = apteki.loc[mask, 'Номер накладной'].astype(str) + f'/15'"
   ]
  }
 ],
 "metadata": {
  "kernelspec": {
   "display_name": ".venv",
   "language": "python",
   "name": "python3"
  },
  "language_info": {
   "codemirror_mode": {
    "name": "ipython",
    "version": 3
   },
   "file_extension": ".py",
   "mimetype": "text/x-python",
   "name": "python",
   "nbconvert_exporter": "python",
   "pygments_lexer": "ipython3",
   "version": "3.13.1"
  }
 },
 "nbformat": 4,
 "nbformat_minor": 5
}

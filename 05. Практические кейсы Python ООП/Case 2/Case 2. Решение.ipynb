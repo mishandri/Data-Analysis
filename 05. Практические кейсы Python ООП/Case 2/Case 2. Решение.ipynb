{
  "nbformat": 4,
  "nbformat_minor": 0,
  "metadata": {
    "colab": {
      "provenance": []
    },
    "kernelspec": {
      "name": "python3",
      "display_name": "Python 3"
    },
    "language_info": {
      "name": "python"
    }
  },
  "cells": [
    {
      "cell_type": "markdown",
      "source": [
        "## Кейс 2. Трек задач"
      ],
      "metadata": {
        "id": "XUqCUBW5fUST"
      }
    },
    {
      "cell_type": "markdown",
      "source": [
        "### **Решения**"
      ],
      "metadata": {
        "id": "CxmnD3GvffQ4"
      }
    },
    {
      "cell_type": "markdown",
      "source": [
        "#### **Задача 1**\n",
        "\n",
        "Для начала определите классы `Task` и `Project`."
      ],
      "metadata": {
        "id": "5bdLXu2ksLB7"
      }
    },
    {
      "cell_type": "markdown",
      "source": [
        "**Решение**\n",
        "\n",
        "Напишите свое решение ниже"
      ],
      "metadata": {
        "id": "qUL4LtIUnJge"
      }
    },
    {
      "cell_type": "code",
      "source": [
        "class Task:\n",
        "  def __init__(self, task_id, name, description, status, duration):\n",
        "    self.task_id = task_id\n",
        "    self.__name = name\n",
        "    self.__description = description\n",
        "    self.__status = status\n",
        "    self.duration = duration\n",
        "\n",
        "\n",
        "  def get_name(self):\n",
        "    return self.__name\n",
        "\n",
        "  def get_status(self):\n",
        "    return self.__status\n",
        "\n",
        "  def get_description(self):\n",
        "    return self.__description\n"
      ],
      "metadata": {
        "id": "Ia39hhmZbNRW"
      },
      "execution_count": 66,
      "outputs": []
    },
    {
      "cell_type": "code",
      "source": [
        "class Project:\n",
        "\n",
        "  tasks = []\n",
        "\n",
        "  def add_task(self, Task):\n",
        "    self.tasks.append(Task)\n",
        "\n",
        "  def remove_task(self, task_id):\n",
        "    self.tasks.remove(Task.task_id)\n",
        "\n",
        "  def get_all_tasks(self):\n",
        "    return self.tasks\n",
        "\n",
        "  def __iter__(self):\n",
        "    for item in self.tasks:\n",
        "      yield item\n"
      ],
      "metadata": {
        "id": "i-cVKsFc-4fS"
      },
      "execution_count": 67,
      "outputs": []
    },
    {
      "cell_type": "code",
      "source": [
        "#@title ✏️ Проверка: чтобы проверить свое решение запустите код в этой ячейке\n",
        "task1 = Task(1, \"Задача 1\", \"Описание\", \"Выполняется\", 14)\n",
        "task2 = Task(2, \"Задача 2\", \"Описание\", \"Выполняется\", 8)\n",
        "task3 = Task(3, \"Задача 3\", \"Описание\", \"Завершена\", 3)\n",
        "task4 = Task(4, \"Задача 4\", \"Описание: срочно\", \"Выполняется\", 7)\n",
        "\n",
        "project = Project()\n",
        "project.add_task(task1)\n",
        "project.add_task(task2)\n",
        "project.add_task(task3)\n",
        "project.add_task(task4)\n",
        "\n",
        "res = []\n",
        "for task in project:\n",
        "  name = task.get_name()\n",
        "  description = task.get_description()\n",
        "  status = task.get_status()\n",
        "  res.append((name, description, status))\n",
        "\n",
        "try:\n",
        "    assert res == [('Задача 1', 'Описание', 'Выполняется'),\n",
        "                   ('Задача 2', 'Описание', 'Выполняется'),\n",
        "                   ('Задача 3', 'Описание', 'Завершена'),\n",
        "                   ('Задача 4', 'Описание: срочно', 'Выполняется')]\n",
        "except AssertionError:\n",
        "    print('Ответы не совпадают')\n",
        "else:\n",
        "    print('Поздравляем, Вы справились!')"
      ],
      "metadata": {
        "id": "LkqzVw9skKEC",
        "colab": {
          "base_uri": "https://localhost:8080/"
        },
        "outputId": "40ab59df-734b-47d0-c747-9ad88ed3e84f"
      },
      "execution_count": 68,
      "outputs": [
        {
          "output_type": "stream",
          "name": "stdout",
          "text": [
            "Поздравляем, Вы справились!\n"
          ]
        }
      ]
    },
    {
      "cell_type": "markdown",
      "source": [
        "#### **Задача 2**\n",
        "\n",
        "Определите класс `Analysis`."
      ],
      "metadata": {
        "id": "QLNMvvhXoIdV"
      }
    },
    {
      "cell_type": "markdown",
      "source": [
        "**Решение**\n",
        "\n",
        "Напишите свое решение ниже"
      ],
      "metadata": {
        "id": "LThhpSINoMHN"
      }
    },
    {
      "cell_type": "code",
      "source": [
        "class Analysis:\n",
        "\n",
        "  @staticmethod\n",
        "  def count_tasks(project):\n",
        "    cnt = 0\n",
        "    for task in project.tasks:\n",
        "      cnt += 1\n",
        "    return cnt\n",
        "\n",
        "  @staticmethod\n",
        "  def count_tasks_by_status(project, status):\n",
        "    cnt = 0\n",
        "    for task in project.tasks:\n",
        "      if task.get_status() == status:\n",
        "        cnt += 1\n",
        "    return cnt\n",
        "\n",
        "  @staticmethod\n",
        "  def find_longest_task(project):\n",
        "    max_duration = 0\n",
        "    for task in project.tasks:\n",
        "      if task.duration > max_duration:\n",
        "        max_duration = task.duration\n",
        "        longest_task = task\n",
        "    return longest_task"
      ],
      "metadata": {
        "id": "9s8JBMlboJuf"
      },
      "execution_count": 74,
      "outputs": []
    },
    {
      "cell_type": "code",
      "source": [
        "#@title ✏️ Проверка: чтобы проверить свое решение запустите код в этой ячейке\n",
        "res2 = Analysis.count_tasks(project)\n",
        "res3 = Analysis.count_tasks_by_status(project, \"Выполняется\")\n",
        "res4 = Analysis.find_longest_task(project).get_name()\n",
        "\n",
        "try:\n",
        "    assert res2 == 4\n",
        "    assert res3 == 3\n",
        "    assert res4 == 'Задача 1'\n",
        "except AssertionError:\n",
        "    print('Ответы не совпадают')\n",
        "else:\n",
        "    print('Поздравляем, Вы справились!')"
      ],
      "metadata": {
        "colab": {
          "base_uri": "https://localhost:8080/"
        },
        "id": "a36bM9j9tD7l",
        "outputId": "9b52a57e-b53b-47de-a61e-e16e429ad630"
      },
      "execution_count": 75,
      "outputs": [
        {
          "output_type": "stream",
          "name": "stdout",
          "text": [
            "Поздравляем, Вы справились!\n"
          ]
        }
      ]
    },
    {
      "cell_type": "markdown",
      "source": [
        "#### **Задача 3**\n",
        "\n",
        "Напишите `EnhancedAnalysis`"
      ],
      "metadata": {
        "id": "AwB-HtPLtjyl"
      }
    },
    {
      "cell_type": "markdown",
      "source": [
        "**Решение**\n",
        "\n",
        "Напишите свое решение ниже"
      ],
      "metadata": {
        "id": "GOTB--hmt2xw"
      }
    },
    {
      "cell_type": "code",
      "source": [
        "\n",
        "  ...\n"
      ],
      "metadata": {
        "id": "fz7nRb_ntKMv"
      },
      "execution_count": null,
      "outputs": []
    },
    {
      "cell_type": "code",
      "source": [
        "#@title ✏️ Проверка: чтобы проверить свое решение запустите код в этой ячейке\n",
        "keywords = [\"срочно\"]\n",
        "found_tasks = EnhancedAnalysis.find_tasks_with_keywords(project, keywords)\n",
        "res5 = []\n",
        "for task in found_tasks:\n",
        "  res5.append(task.get_name())\n",
        "\n",
        "try:\n",
        "    assert res5 == ['Задача 4']\n",
        "except AssertionError:\n",
        "    print('Ответы не совпадают')\n",
        "else:\n",
        "    print('Поздравляем, Вы справились!')"
      ],
      "metadata": {
        "colab": {
          "base_uri": "https://localhost:8080/"
        },
        "id": "KzV-hUKcvxb2",
        "outputId": "37b827da-5d4d-406d-e14f-ca5e77a9026b",
        "cellView": "form"
      },
      "execution_count": null,
      "outputs": [
        {
          "output_type": "stream",
          "name": "stdout",
          "text": [
            "Поздравляем, Вы справились!\n"
          ]
        }
      ]
    }
  ]
}
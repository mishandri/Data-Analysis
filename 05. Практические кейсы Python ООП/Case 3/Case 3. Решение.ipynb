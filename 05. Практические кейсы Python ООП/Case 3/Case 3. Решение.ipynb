{
  "nbformat": 4,
  "nbformat_minor": 0,
  "metadata": {
    "colab": {
      "provenance": []
    },
    "kernelspec": {
      "name": "python3",
      "display_name": "Python 3"
    },
    "language_info": {
      "name": "python"
    }
  },
  "cells": [
    {
      "cell_type": "markdown",
      "source": [
        "## Кейс 3. CRM-система"
      ],
      "metadata": {
        "id": "XUqCUBW5fUST"
      }
    },
    {
      "cell_type": "markdown",
      "source": [
        "### **Решения**"
      ],
      "metadata": {
        "id": "CxmnD3GvffQ4"
      }
    },
    {
      "cell_type": "markdown",
      "source": [
        "#### **Задача 1**\n",
        "\n",
        "Создайте класс `Lead`.\n",
        "\n",
        "Лид представляет собой человека, который оставил заявку на сайте. Он имеет следующие атрибуты: `lead_id`, `datetime`, `page`, `form_title`, `contacts` и `name`. Класс должен принимать значения атрибутов Лида и сохранять их в объекте.\n",
        "\n",
        "Класс `Lead` должен также иметь метод `to_dict()`, который возвращает словарь с атрибутами Лида для дальнейшего использования."
      ],
      "metadata": {
        "id": "5bdLXu2ksLB7"
      }
    },
    {
      "cell_type": "markdown",
      "source": [
        "**Решение**\n",
        "\n",
        "Напишите свое решение ниже"
      ],
      "metadata": {
        "id": "qUL4LtIUnJge"
      }
    },
    {
      "cell_type": "code",
      "source": [
        "class Lead:\n",
        "  def __init__(self, lead_id, datetime, page, form_title, contacts, name):\n",
        "    self.lead_id = lead_id\n",
        "    self.datetime = datetime\n",
        "    self.page = page\n",
        "    self.form_title = form_title\n",
        "    self.contacts = contacts\n",
        "    self.name = name\n",
        "\n",
        "  def to_dict(self):\n",
        "    return self.__dict__"
      ],
      "metadata": {
        "id": "Ia39hhmZbNRW"
      },
      "execution_count": 19,
      "outputs": []
    },
    {
      "cell_type": "markdown",
      "source": [
        "✏️ ✏️ ✏️\n",
        "\n",
        "**Проверка**\n",
        "\n",
        "Чтобы проверить свое решение, запустите код в следующих ячейках"
      ],
      "metadata": {
        "id": "54Tvpn9OkDwV"
      }
    },
    {
      "cell_type": "code",
      "source": [
        "lead = Lead(1, '2023-07-01 10:00', 'example.com', 'Обратная связь', 'ivan@example.com', 'Иван Иванов')\n",
        "res = lead.to_dict()\n",
        "\n",
        "try:\n",
        "    assert res == {'lead_id': 1,\n",
        "                   'datetime': '2023-07-01 10:00',\n",
        "                   'page': 'example.com',\n",
        "                   'form_title': 'Обратная связь',\n",
        "                   'contacts': 'ivan@example.com',\n",
        "                   'name': 'Иван Иванов'}\n",
        "except AssertionError:\n",
        "    print('Ответы не совпадают')\n",
        "else:\n",
        "    print('Поздравляем, Вы справились!')"
      ],
      "metadata": {
        "id": "LkqzVw9skKEC",
        "colab": {
          "base_uri": "https://localhost:8080/"
        },
        "outputId": "060ef0f4-e5e0-402e-df5f-9ab7a0d46dc5"
      },
      "execution_count": 20,
      "outputs": [
        {
          "output_type": "stream",
          "name": "stdout",
          "text": [
            "Поздравляем, Вы справились!\n"
          ]
        }
      ]
    },
    {
      "cell_type": "markdown",
      "source": [
        "#### **Задача 2**\n",
        "\n",
        "Создайте класс `Simulator`."
      ],
      "metadata": {
        "id": "QLNMvvhXoIdV"
      }
    },
    {
      "cell_type": "markdown",
      "source": [
        "**Решение**\n",
        "\n",
        "Напишите свое решение ниже"
      ],
      "metadata": {
        "id": "LThhpSINoMHN"
      }
    },
    {
      "cell_type": "code",
      "source": [
        "\n",
        "  ...\n"
      ],
      "metadata": {
        "id": "9s8JBMlboJuf"
      },
      "execution_count": null,
      "outputs": []
    },
    {
      "cell_type": "markdown",
      "source": [
        "✏️ ✏️ ✏️\n",
        "\n",
        "**Проверка**\n",
        "\n",
        "Чтобы проверить свое решение, запустите код в следующих ячейках"
      ],
      "metadata": {
        "id": "GN_PNZICsxRD"
      }
    },
    {
      "cell_type": "code",
      "source": [
        "simulator = Simulator('Type A', '1.0')\n",
        "res2 = simulator.to_dict()\n",
        "\n",
        "try:\n",
        "    assert res2 == {'simulator_type': 'Type A', 'version': '1.0'}\n",
        "except AssertionError:\n",
        "    print('Ответы не совпадают')\n",
        "else:\n",
        "    print('Поздравляем, Вы справились!')"
      ],
      "metadata": {
        "colab": {
          "base_uri": "https://localhost:8080/"
        },
        "id": "a36bM9j9tD7l",
        "outputId": "f6977760-c2bf-4447-dcb2-b42ddfc09e5a"
      },
      "execution_count": null,
      "outputs": [
        {
          "output_type": "stream",
          "name": "stdout",
          "text": [
            "Поздравляем, Вы справились!\n"
          ]
        }
      ]
    },
    {
      "cell_type": "markdown",
      "source": [
        "#### **Задача 3**\n",
        "\n",
        "Определите класс `SalesFunnel`. Пока без метода `process_lead`."
      ],
      "metadata": {
        "id": "AwB-HtPLtjyl"
      }
    },
    {
      "cell_type": "markdown",
      "source": [
        "**Решение**\n",
        "\n",
        "Напишите свое решение ниже"
      ],
      "metadata": {
        "id": "GOTB--hmt2xw"
      }
    },
    {
      "cell_type": "code",
      "source": [
        "\n",
        "  ...\n"
      ],
      "metadata": {
        "id": "fz7nRb_ntKMv"
      },
      "execution_count": null,
      "outputs": []
    },
    {
      "cell_type": "markdown",
      "source": [
        "✏️ ✏️ ✏️\n",
        "\n",
        "**Проверка**\n",
        "\n",
        "Чтобы проверить свое решение, запустите код в следующих ячейках"
      ],
      "metadata": {
        "id": "0-7TiI06t8D0"
      }
    },
    {
      "cell_type": "code",
      "source": [
        "funnel = SalesFunnel()\n",
        "funnel.add_stage('Stage 1')\n",
        "funnel.add_stage('Stage 2')\n",
        "funnel.add_stage('Stage 3')\n",
        "res3 = funnel.stages\n",
        "\n",
        "try:\n",
        "    assert res3 == ['Stage 1', 'Stage 2', 'Stage 3']\n",
        "except AssertionError:\n",
        "    print('Ответы не совпадают')\n",
        "else:\n",
        "    print('Поздравляем, Вы справились!')"
      ],
      "metadata": {
        "colab": {
          "base_uri": "https://localhost:8080/"
        },
        "id": "KzV-hUKcvxb2",
        "outputId": "d2df6849-ce91-415e-ccaa-b330cefc6398"
      },
      "execution_count": null,
      "outputs": [
        {
          "output_type": "stream",
          "name": "stdout",
          "text": [
            "Поздравляем, Вы справились!\n"
          ]
        }
      ]
    },
    {
      "cell_type": "markdown",
      "source": [
        "#### **Задача 4**\n",
        "\n",
        "К классу `SalesFunnel` добавьте метод `process_lead`."
      ],
      "metadata": {
        "id": "CgRs9f--z9N-"
      }
    },
    {
      "cell_type": "markdown",
      "source": [
        "**Решение**\n",
        "\n",
        "Напишите свое решение ниже"
      ],
      "metadata": {
        "id": "HAC66WJB0DtG"
      }
    },
    {
      "cell_type": "code",
      "source": [
        "\n",
        "  ...\n"
      ],
      "metadata": {
        "id": "63tUPEeLz5e1"
      },
      "execution_count": null,
      "outputs": []
    },
    {
      "cell_type": "markdown",
      "source": [
        "✏️ ✏️ ✏️\n",
        "\n",
        "**Проверка**\n",
        "\n",
        "Чтобы проверить свое решение, запустите код в следующих ячейках"
      ],
      "metadata": {
        "id": "wAeUY7ey0JGJ"
      }
    },
    {
      "cell_type": "code",
      "source": [
        "sales_funnel = SalesFunnel([\"Генерация лида\", \"Подтверждение\", \"Предложение\", \"Возражение\"])\n",
        "lead = Lead(\"123\", \"2023-07-01\", \"example.com\", \"Свяжитесь с нами\", \"ivan@example.com\", \"Иван Иванов\")\n",
        "res4 = sales_funnel.process_lead(lead)\n",
        "\n",
        "try:\n",
        "    assert res4 == ['Обработка лида 123 - Текущий этап: Генерация лида',\n",
        "                    'Не удалось отправить данные лида в CRM',\n",
        "                    'Перемещаем лид 123 на следующий этап: Подтверждение']\n",
        "except AssertionError:\n",
        "    print('Ответы не совпадают')\n",
        "else:\n",
        "    print('Поздравляем, Вы справились!')"
      ],
      "metadata": {
        "colab": {
          "base_uri": "https://localhost:8080/"
        },
        "id": "e2nVbdAn1IjH",
        "outputId": "19dd2316-7813-4ea5-fc8c-6060367efae4"
      },
      "execution_count": null,
      "outputs": [
        {
          "output_type": "stream",
          "name": "stdout",
          "text": [
            "Поздравляем, Вы справились!\n"
          ]
        }
      ]
    },
    {
      "cell_type": "code",
      "source": [],
      "metadata": {
        "id": "5TrEuC1O1dmg"
      },
      "execution_count": null,
      "outputs": []
    }
  ]
}
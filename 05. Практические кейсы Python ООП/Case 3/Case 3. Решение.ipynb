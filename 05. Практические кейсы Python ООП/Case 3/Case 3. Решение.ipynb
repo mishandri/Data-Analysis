{
  "nbformat": 4,
  "nbformat_minor": 0,
  "metadata": {
    "colab": {
      "provenance": []
    },
    "kernelspec": {
      "name": "python3",
      "display_name": "Python 3"
    },
    "language_info": {
      "name": "python"
    }
  },
  "cells": [
    {
      "cell_type": "markdown",
      "source": [
        "## Кейс 3. CRM-система"
      ],
      "metadata": {
        "id": "XUqCUBW5fUST"
      }
    },
    {
      "cell_type": "markdown",
      "source": [
        "### **Решения**"
      ],
      "metadata": {
        "id": "CxmnD3GvffQ4"
      }
    },
    {
      "cell_type": "markdown",
      "source": [
        "#### **Задача 1**\n",
        "\n",
        "Создайте класс `Lead`.\n",
        "\n",
        "Лид представляет собой человека, который оставил заявку на сайте. Он имеет следующие атрибуты: `lead_id`, `datetime`, `page`, `form_title`, `contacts` и `name`. Класс должен принимать значения атрибутов Лида и сохранять их в объекте.\n",
        "\n",
        "Класс `Lead` должен также иметь метод `to_dict()`, который возвращает словарь с атрибутами Лида для дальнейшего использования."
      ],
      "metadata": {
        "id": "5bdLXu2ksLB7"
      }
    },
    {
      "cell_type": "markdown",
      "source": [
        "**Решение**\n",
        "\n",
        "Напишите свое решение ниже"
      ],
      "metadata": {
        "id": "qUL4LtIUnJge"
      }
    },
    {
      "cell_type": "code",
      "source": [
        "class Lead:\n",
        "  def __init__(self, lead_id, datetime, page, form_title, contacts, name):\n",
        "    self.lead_id = lead_id\n",
        "    self.datetime = datetime\n",
        "    self.page = page\n",
        "    self.form_title = form_title\n",
        "    self.contacts = contacts\n",
        "    self.name = name\n",
        "\n",
        "  def to_dict(self):\n",
        "    return self.__dict__"
      ],
      "metadata": {
        "id": "Ia39hhmZbNRW"
      },
      "execution_count": 19,
      "outputs": []
    },
    {
      "cell_type": "markdown",
      "source": [
        "✏️ ✏️ ✏️\n",
        "\n",
        "**Проверка**\n",
        "\n",
        "Чтобы проверить свое решение, запустите код в следующих ячейках"
      ],
      "metadata": {
        "id": "54Tvpn9OkDwV"
      }
    },
    {
      "cell_type": "code",
      "source": [
        "lead = Lead(1, '2023-07-01 10:00', 'example.com', 'Обратная связь', 'ivan@example.com', 'Иван Иванов')\n",
        "res = lead.to_dict()\n",
        "\n",
        "try:\n",
        "    assert res == {'lead_id': 1,\n",
        "                   'datetime': '2023-07-01 10:00',\n",
        "                   'page': 'example.com',\n",
        "                   'form_title': 'Обратная связь',\n",
        "                   'contacts': 'ivan@example.com',\n",
        "                   'name': 'Иван Иванов'}\n",
        "except AssertionError:\n",
        "    print('Ответы не совпадают')\n",
        "else:\n",
        "    print('Поздравляем, Вы справились!')"
      ],
      "metadata": {
        "id": "LkqzVw9skKEC",
        "colab": {
          "base_uri": "https://localhost:8080/"
        },
        "outputId": "060ef0f4-e5e0-402e-df5f-9ab7a0d46dc5"
      },
      "execution_count": 20,
      "outputs": [
        {
          "output_type": "stream",
          "name": "stdout",
          "text": [
            "Поздравляем, Вы справились!\n"
          ]
        }
      ]
    },
    {
      "cell_type": "markdown",
      "source": [
        "#### **Задача 2**\n",
        "\n",
        "Создайте класс `Simulator`.\n",
        "\n",
        "Симулятор представляет собой информацию о том, каким именно симулятором человек воспользовался при оставлении заявки. Симулятор имеет два атрибута: `simulator_type` и `version`.\n",
        "\n",
        "Класс `Simulator` также должен иметь метод `to_dict()`, который возвращает словарь с атрибутами Симулятора."
      ],
      "metadata": {
        "id": "QLNMvvhXoIdV"
      }
    },
    {
      "cell_type": "markdown",
      "source": [
        "**Решение**\n",
        "\n",
        "Напишите свое решение ниже"
      ],
      "metadata": {
        "id": "LThhpSINoMHN"
      }
    },
    {
      "cell_type": "code",
      "source": [
        "class Simulator:\n",
        "  def __init__(self, simulator_type, version):\n",
        "    self.simulator_type = simulator_type\n",
        "    self.version = version\n",
        "\n",
        "  def to_dict(self):\n",
        "    return self.__dict__"
      ],
      "metadata": {
        "id": "9s8JBMlboJuf"
      },
      "execution_count": 21,
      "outputs": []
    },
    {
      "cell_type": "markdown",
      "source": [
        "✏️ ✏️ ✏️\n",
        "\n",
        "**Проверка**\n",
        "\n",
        "Чтобы проверить свое решение, запустите код в следующих ячейках"
      ],
      "metadata": {
        "id": "GN_PNZICsxRD"
      }
    },
    {
      "cell_type": "code",
      "source": [
        "simulator = Simulator('Type A', '1.0')\n",
        "res2 = simulator.to_dict()\n",
        "\n",
        "try:\n",
        "    assert res2 == {'simulator_type': 'Type A', 'version': '1.0'}\n",
        "except AssertionError:\n",
        "    print('Ответы не совпадают')\n",
        "else:\n",
        "    print('Поздравляем, Вы справились!')"
      ],
      "metadata": {
        "colab": {
          "base_uri": "https://localhost:8080/"
        },
        "id": "a36bM9j9tD7l",
        "outputId": "b46e9177-e90a-4d4d-ab61-45186328f1dd"
      },
      "execution_count": 22,
      "outputs": [
        {
          "output_type": "stream",
          "name": "stdout",
          "text": [
            "Поздравляем, Вы справились!\n"
          ]
        }
      ]
    },
    {
      "cell_type": "markdown",
      "source": [
        "#### **Задача 3**\n",
        "\n",
        "Определите класс `SalesFunnel`. Пока без метода `process_lead`.\n",
        "\n",
        "Воронка продаж представляет собой последовательность этапов, через которые проходит лид от момента подачи заявки до завершения продажи. Каждый этап воронки имеет уникальное имя. Вам необходимо создать класс `SalesFunnel`, который будет представлять модель Воронки продаж. Класс должен принимать список этапов воронки и сохранять его в объекте."
      ],
      "metadata": {
        "id": "AwB-HtPLtjyl"
      }
    },
    {
      "cell_type": "markdown",
      "source": [
        "**Решение**\n",
        "\n",
        "Напишите свое решение ниже"
      ],
      "metadata": {
        "id": "GOTB--hmt2xw"
      }
    },
    {
      "cell_type": "code",
      "source": [
        "class SalesFunnel:\n",
        "  def __init__(self):\n",
        "    self.stages = []\n",
        "\n",
        "  def add_stage(self, stage):\n",
        "    self.stages.append(stage)\n"
      ],
      "metadata": {
        "id": "fz7nRb_ntKMv"
      },
      "execution_count": 23,
      "outputs": []
    },
    {
      "cell_type": "markdown",
      "source": [
        "✏️ ✏️ ✏️\n",
        "\n",
        "**Проверка**\n",
        "\n",
        "Чтобы проверить свое решение, запустите код в следующих ячейках"
      ],
      "metadata": {
        "id": "0-7TiI06t8D0"
      }
    },
    {
      "cell_type": "code",
      "source": [
        "funnel = SalesFunnel()\n",
        "funnel.add_stage('Stage 1')\n",
        "funnel.add_stage('Stage 2')\n",
        "funnel.add_stage('Stage 3')\n",
        "res3 = funnel.stages\n",
        "\n",
        "try:\n",
        "    assert res3 == ['Stage 1', 'Stage 2', 'Stage 3']\n",
        "except AssertionError:\n",
        "    print('Ответы не совпадают')\n",
        "else:\n",
        "    print('Поздравляем, Вы справились!')"
      ],
      "metadata": {
        "colab": {
          "base_uri": "https://localhost:8080/"
        },
        "id": "KzV-hUKcvxb2",
        "outputId": "cce95dd4-f4bd-4c2c-e566-521695c21e94"
      },
      "execution_count": 24,
      "outputs": [
        {
          "output_type": "stream",
          "name": "stdout",
          "text": [
            "Поздравляем, Вы справились!\n"
          ]
        }
      ]
    },
    {
      "cell_type": "markdown",
      "source": [
        "#### **Задача 4**\n",
        "\n",
        "К классу `SalesFunnel` добавьте метод `process_lead`."
      ],
      "metadata": {
        "id": "CgRs9f--z9N-"
      }
    },
    {
      "cell_type": "markdown",
      "source": [
        "**Решение**\n",
        "\n",
        "Напишите свое решение ниже"
      ],
      "metadata": {
        "id": "HAC66WJB0DtG"
      }
    },
    {
      "cell_type": "code",
      "source": [
        "import requests\n",
        "class SalesFunnel:\n",
        "  res = []\n",
        "  def __init__(self, stages=None):\n",
        "        self.stages = stages if stages is not None else []\n",
        "\n",
        "  def add_stage(self, stage):\n",
        "    self.stages.append(stage)\n",
        "\n",
        "  def process_lead(self, lead):\n",
        "    crm_url = \"https://itresume.com/crm/api/leads\"\n",
        "    crm_params = {\n",
        "         'lead_id': lead.lead_id,\n",
        "         'datetime': lead.datetime,\n",
        "         'page': lead.page,\n",
        "         'form_title': lead.form_title,\n",
        "         'contacts': lead.contacts,\n",
        "         'name': lead.name\n",
        "      }\n",
        "\n",
        "    response = requests.post(crm_url, json=crm_params)\n",
        "\n",
        "    for i in range(len(self.stages) - 1):\n",
        "      self.res.append(f'Обработка лида {lead.lead_id} - Текущий этап: {self.stages[i]}')\n",
        "      if response.status_code == 200:\n",
        "        self.res.append(f'Данные лида успешно отправлены в CRM')\n",
        "        self.res.append(f'Перемещаем лид {lead.lead_id} на следующий этап: {self.stages[i+1]}')\n",
        "      else:\n",
        "        self.res.append(f'Не удалось отправить данные лида в CRM')\n",
        "        self.res.append(f'Перемещаем лид {lead.lead_id} на следующий этап: {self.stages[i+1]}')\n",
        "        break\n",
        "    return self.res\n"
      ],
      "metadata": {
        "id": "63tUPEeLz5e1"
      },
      "execution_count": 103,
      "outputs": []
    },
    {
      "cell_type": "markdown",
      "source": [
        "✏️ ✏️ ✏️\n",
        "\n",
        "**Проверка**\n",
        "\n",
        "Чтобы проверить свое решение, запустите код в следующих ячейках"
      ],
      "metadata": {
        "id": "wAeUY7ey0JGJ"
      }
    },
    {
      "cell_type": "code",
      "source": [
        "sales_funnel = SalesFunnel([\"Генерация лида\", \"Подтверждение\", \"Предложение\", \"Возражение\"])\n",
        "lead = Lead(\"123\", \"2023-07-01\", \"example.com\", \"Свяжитесь с нами\", \"ivan@example.com\", \"Иван Иванов\")\n",
        "res4 = sales_funnel.process_lead(lead)\n",
        "\n",
        "try:\n",
        "    assert res4 == ['Обработка лида 123 - Текущий этап: Генерация лида',\n",
        "                    'Не удалось отправить данные лида в CRM',\n",
        "                    'Перемещаем лид 123 на следующий этап: Подтверждение']\n",
        "except AssertionError:\n",
        "    print('Ответы не совпадают')\n",
        "else:\n",
        "    print('Поздравляем, Вы справились!')"
      ],
      "metadata": {
        "colab": {
          "base_uri": "https://localhost:8080/"
        },
        "id": "e2nVbdAn1IjH",
        "outputId": "3c923c09-6cde-4c36-c9ad-431b52e8298b"
      },
      "execution_count": 104,
      "outputs": [
        {
          "output_type": "stream",
          "name": "stdout",
          "text": [
            "Поздравляем, Вы справились!\n"
          ]
        }
      ]
    }
  ]
}
{
 "cells": [
  {
   "cell_type": "code",
   "execution_count": 74,
   "id": "7b95c3e1",
   "metadata": {},
   "outputs": [],
   "source": [
    "import pandas as pd\n",
    "import numpy as np\n",
    "import matplotlib as plt\n",
    "import seaborn as sns\n",
    "from datetime import datetime"
   ]
  },
  {
   "cell_type": "code",
   "execution_count": 17,
   "id": "8fc56a33",
   "metadata": {},
   "outputs": [
    {
     "data": {
      "application/vnd.microsoft.datawrangler.viewer.v0+json": {
       "columns": [
        {
         "name": "index",
         "rawType": "int64",
         "type": "integer"
        },
        {
         "name": "id",
         "rawType": "int64",
         "type": "integer"
        },
        {
         "name": "created_at",
         "rawType": "object",
         "type": "string"
        },
        {
         "name": "problem_id",
         "rawType": "int64",
         "type": "integer"
        },
        {
         "name": "user_id",
         "rawType": "int64",
         "type": "integer"
        },
        {
         "name": "language_id",
         "rawType": "int64",
         "type": "integer"
        }
       ],
       "conversionMethod": "pd.DataFrame",
       "ref": "3a9e1202-4c43-49f5-8e37-71bfcc369c6e",
       "rows": [
        [
         "0",
         "1",
         "2021-04-07 06:06:20.000",
         "13",
         "10",
         "3"
        ],
        [
         "1",
         "2",
         "2021-03-31 07:10:06.000",
         "15",
         "13",
         "3"
        ],
        [
         "2",
         "3",
         "2021-04-04 14:55:26.000",
         "1",
         "6",
         "3"
        ],
        [
         "3",
         "4",
         "2021-03-29 21:24:51.000",
         "26",
         "4",
         "3"
        ],
        [
         "4",
         "5",
         "2021-03-30 11:29:12.000",
         "21",
         "18",
         "3"
        ]
       ],
       "shape": {
        "columns": 5,
        "rows": 5
       }
      },
      "text/html": [
       "<div>\n",
       "<style scoped>\n",
       "    .dataframe tbody tr th:only-of-type {\n",
       "        vertical-align: middle;\n",
       "    }\n",
       "\n",
       "    .dataframe tbody tr th {\n",
       "        vertical-align: top;\n",
       "    }\n",
       "\n",
       "    .dataframe thead th {\n",
       "        text-align: right;\n",
       "    }\n",
       "</style>\n",
       "<table border=\"1\" class=\"dataframe\">\n",
       "  <thead>\n",
       "    <tr style=\"text-align: right;\">\n",
       "      <th></th>\n",
       "      <th>id</th>\n",
       "      <th>created_at</th>\n",
       "      <th>problem_id</th>\n",
       "      <th>user_id</th>\n",
       "      <th>language_id</th>\n",
       "    </tr>\n",
       "  </thead>\n",
       "  <tbody>\n",
       "    <tr>\n",
       "      <th>0</th>\n",
       "      <td>1</td>\n",
       "      <td>2021-04-07 06:06:20.000</td>\n",
       "      <td>13</td>\n",
       "      <td>10</td>\n",
       "      <td>3</td>\n",
       "    </tr>\n",
       "    <tr>\n",
       "      <th>1</th>\n",
       "      <td>2</td>\n",
       "      <td>2021-03-31 07:10:06.000</td>\n",
       "      <td>15</td>\n",
       "      <td>13</td>\n",
       "      <td>3</td>\n",
       "    </tr>\n",
       "    <tr>\n",
       "      <th>2</th>\n",
       "      <td>3</td>\n",
       "      <td>2021-04-04 14:55:26.000</td>\n",
       "      <td>1</td>\n",
       "      <td>6</td>\n",
       "      <td>3</td>\n",
       "    </tr>\n",
       "    <tr>\n",
       "      <th>3</th>\n",
       "      <td>4</td>\n",
       "      <td>2021-03-29 21:24:51.000</td>\n",
       "      <td>26</td>\n",
       "      <td>4</td>\n",
       "      <td>3</td>\n",
       "    </tr>\n",
       "    <tr>\n",
       "      <th>4</th>\n",
       "      <td>5</td>\n",
       "      <td>2021-03-30 11:29:12.000</td>\n",
       "      <td>21</td>\n",
       "      <td>18</td>\n",
       "      <td>3</td>\n",
       "    </tr>\n",
       "  </tbody>\n",
       "</table>\n",
       "</div>"
      ],
      "text/plain": [
       "   id               created_at  problem_id  user_id  language_id\n",
       "0   1  2021-04-07 06:06:20.000          13       10            3\n",
       "1   2  2021-03-31 07:10:06.000          15       13            3\n",
       "2   3  2021-04-04 14:55:26.000           1        6            3\n",
       "3   4  2021-03-29 21:24:51.000          26        4            3\n",
       "4   5  2021-03-30 11:29:12.000          21       18            3"
      ]
     },
     "execution_count": 17,
     "metadata": {},
     "output_type": "execute_result"
    }
   ],
   "source": [
    "df = pd.read_csv('coderun.csv')\n",
    "df.head(5)"
   ]
  },
  {
   "cell_type": "code",
   "execution_count": 88,
   "id": "f073934b",
   "metadata": {},
   "outputs": [
    {
     "data": {
      "application/vnd.microsoft.datawrangler.viewer.v0+json": {
       "columns": [
        {
         "name": "index",
         "rawType": "int64",
         "type": "integer"
        },
        {
         "name": "id",
         "rawType": "int64",
         "type": "integer"
        },
        {
         "name": "created_at",
         "rawType": "object",
         "type": "string"
        },
        {
         "name": "problem_id",
         "rawType": "int64",
         "type": "integer"
        },
        {
         "name": "user_id",
         "rawType": "int64",
         "type": "integer"
        },
        {
         "name": "language_id",
         "rawType": "int64",
         "type": "integer"
        },
        {
         "name": "ymd",
         "rawType": "object",
         "type": "unknown"
        },
        {
         "name": "ym",
         "rawType": "period[M]",
         "type": "unknown"
        }
       ],
       "conversionMethod": "pd.DataFrame",
       "ref": "3a81c077-4efc-4ec3-b012-f98aa50e9979",
       "rows": [
        [
         "0",
         "1",
         "2021-04-07 06:06:20.000",
         "13",
         "10",
         "3",
         "2021-04-07",
         "2021-04"
        ],
        [
         "1",
         "2",
         "2021-03-31 07:10:06.000",
         "15",
         "13",
         "3",
         "2021-03-31",
         "2021-03"
        ],
        [
         "2",
         "3",
         "2021-04-04 14:55:26.000",
         "1",
         "6",
         "3",
         "2021-04-04",
         "2021-04"
        ],
        [
         "3",
         "4",
         "2021-03-29 21:24:51.000",
         "26",
         "4",
         "3",
         "2021-03-29",
         "2021-03"
        ],
        [
         "4",
         "5",
         "2021-03-30 11:29:12.000",
         "21",
         "18",
         "3",
         "2021-03-30",
         "2021-03"
        ]
       ],
       "shape": {
        "columns": 7,
        "rows": 5
       }
      },
      "text/html": [
       "<div>\n",
       "<style scoped>\n",
       "    .dataframe tbody tr th:only-of-type {\n",
       "        vertical-align: middle;\n",
       "    }\n",
       "\n",
       "    .dataframe tbody tr th {\n",
       "        vertical-align: top;\n",
       "    }\n",
       "\n",
       "    .dataframe thead th {\n",
       "        text-align: right;\n",
       "    }\n",
       "</style>\n",
       "<table border=\"1\" class=\"dataframe\">\n",
       "  <thead>\n",
       "    <tr style=\"text-align: right;\">\n",
       "      <th></th>\n",
       "      <th>id</th>\n",
       "      <th>created_at</th>\n",
       "      <th>problem_id</th>\n",
       "      <th>user_id</th>\n",
       "      <th>language_id</th>\n",
       "      <th>ymd</th>\n",
       "      <th>ym</th>\n",
       "    </tr>\n",
       "  </thead>\n",
       "  <tbody>\n",
       "    <tr>\n",
       "      <th>0</th>\n",
       "      <td>1</td>\n",
       "      <td>2021-04-07 06:06:20.000</td>\n",
       "      <td>13</td>\n",
       "      <td>10</td>\n",
       "      <td>3</td>\n",
       "      <td>2021-04-07</td>\n",
       "      <td>2021-04</td>\n",
       "    </tr>\n",
       "    <tr>\n",
       "      <th>1</th>\n",
       "      <td>2</td>\n",
       "      <td>2021-03-31 07:10:06.000</td>\n",
       "      <td>15</td>\n",
       "      <td>13</td>\n",
       "      <td>3</td>\n",
       "      <td>2021-03-31</td>\n",
       "      <td>2021-03</td>\n",
       "    </tr>\n",
       "    <tr>\n",
       "      <th>2</th>\n",
       "      <td>3</td>\n",
       "      <td>2021-04-04 14:55:26.000</td>\n",
       "      <td>1</td>\n",
       "      <td>6</td>\n",
       "      <td>3</td>\n",
       "      <td>2021-04-04</td>\n",
       "      <td>2021-04</td>\n",
       "    </tr>\n",
       "    <tr>\n",
       "      <th>3</th>\n",
       "      <td>4</td>\n",
       "      <td>2021-03-29 21:24:51.000</td>\n",
       "      <td>26</td>\n",
       "      <td>4</td>\n",
       "      <td>3</td>\n",
       "      <td>2021-03-29</td>\n",
       "      <td>2021-03</td>\n",
       "    </tr>\n",
       "    <tr>\n",
       "      <th>4</th>\n",
       "      <td>5</td>\n",
       "      <td>2021-03-30 11:29:12.000</td>\n",
       "      <td>21</td>\n",
       "      <td>18</td>\n",
       "      <td>3</td>\n",
       "      <td>2021-03-30</td>\n",
       "      <td>2021-03</td>\n",
       "    </tr>\n",
       "  </tbody>\n",
       "</table>\n",
       "</div>"
      ],
      "text/plain": [
       "   id               created_at  problem_id  user_id  language_id         ymd  \\\n",
       "0   1  2021-04-07 06:06:20.000          13       10            3  2021-04-07   \n",
       "1   2  2021-03-31 07:10:06.000          15       13            3  2021-03-31   \n",
       "2   3  2021-04-04 14:55:26.000           1        6            3  2021-04-04   \n",
       "3   4  2021-03-29 21:24:51.000          26        4            3  2021-03-29   \n",
       "4   5  2021-03-30 11:29:12.000          21       18            3  2021-03-30   \n",
       "\n",
       "        ym  \n",
       "0  2021-04  \n",
       "1  2021-03  \n",
       "2  2021-04  \n",
       "3  2021-03  \n",
       "4  2021-03  "
      ]
     },
     "execution_count": 88,
     "metadata": {},
     "output_type": "execute_result"
    }
   ],
   "source": [
    "df['ymd'] = pd.to_datetime(df['created_at']).dt.date\n",
    "df['ym'] = pd.to_datetime(df['created_at']).dt.to_period('M')\n",
    "df.head(5)"
   ]
  },
  {
   "cell_type": "markdown",
   "id": "805d3fda",
   "metadata": {},
   "source": [
    "### Вопрос №1\n",
    "Постройте график динамики количества попыток по дням, а также наглядно покажите связь со средним значением. Выберите верные утверждения - что можно сказать по этому графику.\n",
    "\n",
    "- С течением времени наблюдается стабильный рост попыток\n",
    "- Пик приходится на январь-февраль 2022\n",
    "- Активность началась только в ноябре 2021, до этого все дни был равномерный ноль или единичные попытки, без всплесков\n",
    "- Начиная с ноября 2021 количество попыток не опускалось ниже среднего за весь период\n",
    "- До декабря 2021 количество попыток ни разу не превышало среднее значение за весь период\n",
    "- Было несколько дней со значением более 800\n"
   ]
  },
  {
   "cell_type": "code",
   "execution_count": 20,
   "id": "0a1eea2e",
   "metadata": {},
   "outputs": [
    {
     "data": {
      "application/vnd.microsoft.datawrangler.viewer.v0+json": {
       "columns": [
        {
         "name": "index",
         "rawType": "int64",
         "type": "integer"
        },
        {
         "name": "ymd",
         "rawType": "object",
         "type": "unknown"
        },
        {
         "name": "id",
         "rawType": "int64",
         "type": "integer"
        }
       ],
       "conversionMethod": "pd.DataFrame",
       "ref": "3ddc24be-1bc3-4b66-8e49-55de45b42961",
       "rows": [
        [
         "0",
         "2021-03-27",
         "1"
        ],
        [
         "1",
         "2021-03-28",
         "1"
        ],
        [
         "2",
         "2021-03-29",
         "2"
        ],
        [
         "3",
         "2021-03-30",
         "1"
        ],
        [
         "4",
         "2021-03-31",
         "2"
        ],
        [
         "5",
         "2021-04-01",
         "1"
        ],
        [
         "6",
         "2021-04-02",
         "1"
        ],
        [
         "7",
         "2021-04-03",
         "1"
        ],
        [
         "8",
         "2021-04-04",
         "2"
        ],
        [
         "9",
         "2021-04-06",
         "2"
        ],
        [
         "10",
         "2021-04-07",
         "1"
        ],
        [
         "11",
         "2021-04-08",
         "1"
        ],
        [
         "12",
         "2021-04-13",
         "1"
        ],
        [
         "13",
         "2021-04-14",
         "1"
        ],
        [
         "14",
         "2021-04-15",
         "3"
        ],
        [
         "15",
         "2021-04-17",
         "1"
        ],
        [
         "16",
         "2021-04-18",
         "1"
        ],
        [
         "17",
         "2021-04-19",
         "1"
        ],
        [
         "18",
         "2021-04-20",
         "1"
        ],
        [
         "19",
         "2021-04-21",
         "1"
        ],
        [
         "20",
         "2021-04-22",
         "1"
        ],
        [
         "21",
         "2021-04-23",
         "1"
        ],
        [
         "22",
         "2021-04-26",
         "1"
        ],
        [
         "23",
         "2021-04-27",
         "1"
        ],
        [
         "24",
         "2021-06-07",
         "12"
        ],
        [
         "25",
         "2021-06-08",
         "11"
        ],
        [
         "26",
         "2021-06-10",
         "1"
        ],
        [
         "27",
         "2021-06-22",
         "27"
        ],
        [
         "28",
         "2021-06-23",
         "56"
        ],
        [
         "29",
         "2021-06-24",
         "15"
        ],
        [
         "30",
         "2021-06-25",
         "40"
        ],
        [
         "31",
         "2021-06-28",
         "10"
        ],
        [
         "32",
         "2021-06-29",
         "12"
        ],
        [
         "33",
         "2021-06-30",
         "24"
        ],
        [
         "34",
         "2021-07-01",
         "3"
        ],
        [
         "35",
         "2021-07-06",
         "26"
        ],
        [
         "36",
         "2021-07-07",
         "26"
        ],
        [
         "37",
         "2021-07-08",
         "1"
        ],
        [
         "38",
         "2021-09-19",
         "18"
        ],
        [
         "39",
         "2021-09-20",
         "113"
        ],
        [
         "40",
         "2021-09-21",
         "53"
        ],
        [
         "41",
         "2021-09-22",
         "21"
        ],
        [
         "42",
         "2021-09-23",
         "10"
        ],
        [
         "43",
         "2021-09-24",
         "15"
        ],
        [
         "44",
         "2021-09-25",
         "5"
        ],
        [
         "45",
         "2021-09-28",
         "3"
        ],
        [
         "46",
         "2021-09-29",
         "4"
        ],
        [
         "47",
         "2021-09-30",
         "5"
        ],
        [
         "48",
         "2021-10-05",
         "1"
        ],
        [
         "49",
         "2021-10-07",
         "4"
        ]
       ],
       "shape": {
        "columns": 2,
        "rows": 144
       }
      },
      "text/html": [
       "<div>\n",
       "<style scoped>\n",
       "    .dataframe tbody tr th:only-of-type {\n",
       "        vertical-align: middle;\n",
       "    }\n",
       "\n",
       "    .dataframe tbody tr th {\n",
       "        vertical-align: top;\n",
       "    }\n",
       "\n",
       "    .dataframe thead th {\n",
       "        text-align: right;\n",
       "    }\n",
       "</style>\n",
       "<table border=\"1\" class=\"dataframe\">\n",
       "  <thead>\n",
       "    <tr style=\"text-align: right;\">\n",
       "      <th></th>\n",
       "      <th>ymd</th>\n",
       "      <th>id</th>\n",
       "    </tr>\n",
       "  </thead>\n",
       "  <tbody>\n",
       "    <tr>\n",
       "      <th>0</th>\n",
       "      <td>2021-03-27</td>\n",
       "      <td>1</td>\n",
       "    </tr>\n",
       "    <tr>\n",
       "      <th>1</th>\n",
       "      <td>2021-03-28</td>\n",
       "      <td>1</td>\n",
       "    </tr>\n",
       "    <tr>\n",
       "      <th>2</th>\n",
       "      <td>2021-03-29</td>\n",
       "      <td>2</td>\n",
       "    </tr>\n",
       "    <tr>\n",
       "      <th>3</th>\n",
       "      <td>2021-03-30</td>\n",
       "      <td>1</td>\n",
       "    </tr>\n",
       "    <tr>\n",
       "      <th>4</th>\n",
       "      <td>2021-03-31</td>\n",
       "      <td>2</td>\n",
       "    </tr>\n",
       "    <tr>\n",
       "      <th>...</th>\n",
       "      <td>...</td>\n",
       "      <td>...</td>\n",
       "    </tr>\n",
       "    <tr>\n",
       "      <th>139</th>\n",
       "      <td>2022-01-29</td>\n",
       "      <td>390</td>\n",
       "    </tr>\n",
       "    <tr>\n",
       "      <th>140</th>\n",
       "      <td>2022-01-30</td>\n",
       "      <td>189</td>\n",
       "    </tr>\n",
       "    <tr>\n",
       "      <th>141</th>\n",
       "      <td>2022-01-31</td>\n",
       "      <td>400</td>\n",
       "    </tr>\n",
       "    <tr>\n",
       "      <th>142</th>\n",
       "      <td>2022-02-01</td>\n",
       "      <td>411</td>\n",
       "    </tr>\n",
       "    <tr>\n",
       "      <th>143</th>\n",
       "      <td>2022-02-02</td>\n",
       "      <td>468</td>\n",
       "    </tr>\n",
       "  </tbody>\n",
       "</table>\n",
       "<p>144 rows × 2 columns</p>\n",
       "</div>"
      ],
      "text/plain": [
       "            ymd   id\n",
       "0    2021-03-27    1\n",
       "1    2021-03-28    1\n",
       "2    2021-03-29    2\n",
       "3    2021-03-30    1\n",
       "4    2021-03-31    2\n",
       "..          ...  ...\n",
       "139  2022-01-29  390\n",
       "140  2022-01-30  189\n",
       "141  2022-01-31  400\n",
       "142  2022-02-01  411\n",
       "143  2022-02-02  468\n",
       "\n",
       "[144 rows x 2 columns]"
      ]
     },
     "execution_count": 20,
     "metadata": {},
     "output_type": "execute_result"
    }
   ],
   "source": [
    "q1 = df.groupby(['ymd'])[['id','language_id']].agg({'id': 'count'}).reset_index()\n",
    "q1"
   ]
  },
  {
   "cell_type": "code",
   "execution_count": 23,
   "id": "68f8ad47",
   "metadata": {},
   "outputs": [
    {
     "data": {
      "text/plain": [
       "138.88888888888889"
      ]
     },
     "execution_count": 23,
     "metadata": {},
     "output_type": "execute_result"
    }
   ],
   "source": [
    "q1_mean = q1['id'].mean()\n",
    "q1_mean"
   ]
  },
  {
   "cell_type": "code",
   "execution_count": 38,
   "id": "b429693e",
   "metadata": {},
   "outputs": [
    {
     "name": "stderr",
     "output_type": "stream",
     "text": [
      "C:\\Temp\\ipykernel_9516\\57226132.py:3: UserWarning: set_ticklabels() should only be used with a fixed number of ticks, i.e. after set_ticks() or using a FixedLocator.\n",
      "  fig.set_xticklabels(fig.get_xticklabels(), rotation=45);\n"
     ]
    },
    {
     "data": {
      "image/png": "[encoded data removed]",
      "text/plain": [
       "<Figure size 640x480 with 1 Axes>"
      ]
     },
     "metadata": {},
     "output_type": "display_data"
    }
   ],
   "source": [
    "fig = sns.lineplot(data=q1, x='ymd', y='id', color='green');\n",
    "sns.lineplot(data=q1, x='ymd', y=q1_mean, linestyle='--');\n",
    "fig.set_xticklabels(fig.get_xticklabels(), rotation=45);"
   ]
  },
  {
   "cell_type": "markdown",
   "id": "288df96b",
   "metadata": {},
   "source": [
    "### Ответ №1\n",
    "- `-` С течением времени наблюдается стабильный рост попыток\n",
    "- `+` **Пик приходится на январь-февраль 2022**\n",
    "- `-` Активность началась только в ноябре 2021, до этого все дни был равномерный ноль или единичные попытки, без всплесков\n",
    "- `-` Начиная с ноября 2021 количество попыток не опускалось ниже среднего за весь период\n",
    "- `-` До декабря 2021 количество попыток ни разу не превышало среднее значение за весь период\n",
    "- `+` **Было несколько дней со значением более 800**"
   ]
  },
  {
   "cell_type": "markdown",
   "id": "15cccfb3",
   "metadata": {},
   "source": [
    "### Вопрос №2\n",
    "На одном графике изобразите два боксплота по дневному количеству попыток за весь период с разбивкой по языкам. Выберите верные утверждения - что можно сказать по этому графику.\n",
    "\n",
    "- Максимальное значение дневного количества попыток среди двух языков примерно равно\n",
    "- У языка с ID=2 большая вариативность количества попыток - в некоторые дни делается немного попыток, а в некоторые много\n",
    "- Максимальное количество попыток и количество выбросов в каждой группе имеет прямую зависимость: если больше одно, то больше и другое\n",
    "- Среднее значение у языка с ID=2 больше, чем у языка с ID=3\n",
    "- Нельзя точно сказать, в какой группе больше количество измерений\n",
    "- Количество попыток, которое больше 25% общего числа попыток в группе с ID=2, примерно равно количеству попыток, которое больше 75% общего числа попыток в группе с ID=3 "
   ]
  },
  {
   "cell_type": "code",
   "execution_count": 41,
   "id": "02736b2d",
   "metadata": {},
   "outputs": [
    {
     "data": {
      "application/vnd.microsoft.datawrangler.viewer.v0+json": {
       "columns": [
        {
         "name": "index",
         "rawType": "int64",
         "type": "integer"
        },
        {
         "name": "ymd",
         "rawType": "object",
         "type": "unknown"
        },
        {
         "name": "language_id",
         "rawType": "int64",
         "type": "integer"
        },
        {
         "name": "id",
         "rawType": "int64",
         "type": "integer"
        }
       ],
       "conversionMethod": "pd.DataFrame",
       "ref": "c998012e-c1b8-4a62-bf4d-88e424025da0",
       "rows": [
        [
         "0",
         "2021-03-27",
         "3",
         "1"
        ],
        [
         "1",
         "2021-03-28",
         "3",
         "1"
        ],
        [
         "2",
         "2021-03-29",
         "3",
         "2"
        ],
        [
         "3",
         "2021-03-30",
         "3",
         "1"
        ],
        [
         "4",
         "2021-03-31",
         "3",
         "2"
        ],
        [
         "5",
         "2021-04-01",
         "3",
         "1"
        ],
        [
         "6",
         "2021-04-02",
         "3",
         "1"
        ],
        [
         "7",
         "2021-04-03",
         "3",
         "1"
        ],
        [
         "8",
         "2021-04-04",
         "3",
         "2"
        ],
        [
         "9",
         "2021-04-06",
         "3",
         "2"
        ],
        [
         "10",
         "2021-04-07",
         "3",
         "1"
        ],
        [
         "11",
         "2021-04-08",
         "3",
         "1"
        ],
        [
         "12",
         "2021-04-13",
         "3",
         "1"
        ],
        [
         "13",
         "2021-04-14",
         "3",
         "1"
        ],
        [
         "14",
         "2021-04-15",
         "3",
         "3"
        ],
        [
         "15",
         "2021-04-17",
         "3",
         "1"
        ],
        [
         "16",
         "2021-04-18",
         "3",
         "1"
        ],
        [
         "17",
         "2021-04-19",
         "3",
         "1"
        ],
        [
         "18",
         "2021-04-20",
         "3",
         "1"
        ],
        [
         "19",
         "2021-04-21",
         "3",
         "1"
        ],
        [
         "20",
         "2021-04-22",
         "3",
         "1"
        ],
        [
         "21",
         "2021-04-23",
         "3",
         "1"
        ],
        [
         "22",
         "2021-04-26",
         "3",
         "1"
        ],
        [
         "23",
         "2021-04-27",
         "3",
         "1"
        ],
        [
         "24",
         "2021-06-07",
         "3",
         "12"
        ],
        [
         "25",
         "2021-06-08",
         "3",
         "11"
        ],
        [
         "26",
         "2021-06-10",
         "3",
         "1"
        ],
        [
         "27",
         "2021-06-22",
         "3",
         "27"
        ],
        [
         "28",
         "2021-06-23",
         "3",
         "56"
        ],
        [
         "29",
         "2021-06-24",
         "3",
         "15"
        ],
        [
         "30",
         "2021-06-25",
         "3",
         "40"
        ],
        [
         "31",
         "2021-06-28",
         "3",
         "10"
        ],
        [
         "32",
         "2021-06-29",
         "3",
         "12"
        ],
        [
         "33",
         "2021-06-30",
         "3",
         "24"
        ],
        [
         "34",
         "2021-07-01",
         "3",
         "3"
        ],
        [
         "35",
         "2021-07-06",
         "3",
         "26"
        ],
        [
         "36",
         "2021-07-07",
         "3",
         "26"
        ],
        [
         "37",
         "2021-07-08",
         "3",
         "1"
        ],
        [
         "38",
         "2021-09-19",
         "3",
         "18"
        ],
        [
         "39",
         "2021-09-20",
         "2",
         "1"
        ],
        [
         "40",
         "2021-09-20",
         "3",
         "112"
        ],
        [
         "41",
         "2021-09-21",
         "2",
         "5"
        ],
        [
         "42",
         "2021-09-21",
         "3",
         "48"
        ],
        [
         "43",
         "2021-09-22",
         "2",
         "1"
        ],
        [
         "44",
         "2021-09-22",
         "3",
         "20"
        ],
        [
         "45",
         "2021-09-23",
         "3",
         "10"
        ],
        [
         "46",
         "2021-09-24",
         "3",
         "15"
        ],
        [
         "47",
         "2021-09-25",
         "3",
         "5"
        ],
        [
         "48",
         "2021-09-28",
         "3",
         "3"
        ],
        [
         "49",
         "2021-09-29",
         "3",
         "4"
        ]
       ],
       "shape": {
        "columns": 3,
        "rows": 227
       }
      },
      "text/html": [
       "<div>\n",
       "<style scoped>\n",
       "    .dataframe tbody tr th:only-of-type {\n",
       "        vertical-align: middle;\n",
       "    }\n",
       "\n",
       "    .dataframe tbody tr th {\n",
       "        vertical-align: top;\n",
       "    }\n",
       "\n",
       "    .dataframe thead th {\n",
       "        text-align: right;\n",
       "    }\n",
       "</style>\n",
       "<table border=\"1\" class=\"dataframe\">\n",
       "  <thead>\n",
       "    <tr style=\"text-align: right;\">\n",
       "      <th></th>\n",
       "      <th>ymd</th>\n",
       "      <th>language_id</th>\n",
       "      <th>id</th>\n",
       "    </tr>\n",
       "  </thead>\n",
       "  <tbody>\n",
       "    <tr>\n",
       "      <th>0</th>\n",
       "      <td>2021-03-27</td>\n",
       "      <td>3</td>\n",
       "      <td>1</td>\n",
       "    </tr>\n",
       "    <tr>\n",
       "      <th>1</th>\n",
       "      <td>2021-03-28</td>\n",
       "      <td>3</td>\n",
       "      <td>1</td>\n",
       "    </tr>\n",
       "    <tr>\n",
       "      <th>2</th>\n",
       "      <td>2021-03-29</td>\n",
       "      <td>3</td>\n",
       "      <td>2</td>\n",
       "    </tr>\n",
       "    <tr>\n",
       "      <th>3</th>\n",
       "      <td>2021-03-30</td>\n",
       "      <td>3</td>\n",
       "      <td>1</td>\n",
       "    </tr>\n",
       "    <tr>\n",
       "      <th>4</th>\n",
       "      <td>2021-03-31</td>\n",
       "      <td>3</td>\n",
       "      <td>2</td>\n",
       "    </tr>\n",
       "    <tr>\n",
       "      <th>...</th>\n",
       "      <td>...</td>\n",
       "      <td>...</td>\n",
       "      <td>...</td>\n",
       "    </tr>\n",
       "    <tr>\n",
       "      <th>222</th>\n",
       "      <td>2022-01-31</td>\n",
       "      <td>3</td>\n",
       "      <td>88</td>\n",
       "    </tr>\n",
       "    <tr>\n",
       "      <th>223</th>\n",
       "      <td>2022-02-01</td>\n",
       "      <td>2</td>\n",
       "      <td>360</td>\n",
       "    </tr>\n",
       "    <tr>\n",
       "      <th>224</th>\n",
       "      <td>2022-02-01</td>\n",
       "      <td>3</td>\n",
       "      <td>51</td>\n",
       "    </tr>\n",
       "    <tr>\n",
       "      <th>225</th>\n",
       "      <td>2022-02-02</td>\n",
       "      <td>2</td>\n",
       "      <td>425</td>\n",
       "    </tr>\n",
       "    <tr>\n",
       "      <th>226</th>\n",
       "      <td>2022-02-02</td>\n",
       "      <td>3</td>\n",
       "      <td>43</td>\n",
       "    </tr>\n",
       "  </tbody>\n",
       "</table>\n",
       "<p>227 rows × 3 columns</p>\n",
       "</div>"
      ],
      "text/plain": [
       "            ymd  language_id   id\n",
       "0    2021-03-27            3    1\n",
       "1    2021-03-28            3    1\n",
       "2    2021-03-29            3    2\n",
       "3    2021-03-30            3    1\n",
       "4    2021-03-31            3    2\n",
       "..          ...          ...  ...\n",
       "222  2022-01-31            3   88\n",
       "223  2022-02-01            2  360\n",
       "224  2022-02-01            3   51\n",
       "225  2022-02-02            2  425\n",
       "226  2022-02-02            3   43\n",
       "\n",
       "[227 rows x 3 columns]"
      ]
     },
     "execution_count": 41,
     "metadata": {},
     "output_type": "execute_result"
    }
   ],
   "source": [
    "q2 = df.groupby(['ymd','language_id'])[['id']].agg({'id': 'count'}).reset_index()\n",
    "q2"
   ]
  },
  {
   "cell_type": "code",
   "execution_count": 160,
   "id": "420eafae",
   "metadata": {},
   "outputs": [
    {
     "name": "stderr",
     "output_type": "stream",
     "text": [
      "C:\\Temp\\ipykernel_9516\\3639460682.py:2: UserWarning: set_ticklabels() should only be used with a fixed number of ticks, i.e. after set_ticks() or using a FixedLocator.\n",
      "  fig.set_xticklabels(fig.get_xticklabels(), rotation=45);\n"
     ]
    },
    {
     "data": {
      "image/png": "[encoded data removed]",
      "text/plain": [
       "<Figure size 640x480 with 1 Axes>"
      ]
     },
     "metadata": {},
     "output_type": "display_data"
    }
   ],
   "source": [
    "fig = sns.boxplot(data=q2, y='id', hue='language_id', palette='Set2');\n",
    "fig.set_xticklabels(fig.get_xticklabels(), rotation=45);"
   ]
  },
  {
   "cell_type": "markdown",
   "id": "a560c92f",
   "metadata": {},
   "source": [
    "### Ответ №2\n",
    "- `-` Максимальное значение дневного количества попыток среди двух языков примерно равно\n",
    "- `+` У языка с ID=2 большая вариативность количества попыток - в некоторые дни делается немного попыток, а в некоторые много\n",
    "- `-` Максимальное количество попыток и количество выбросов в каждой группе имеет прямую зависимость: если больше одно, то больше и другое\n",
    "- `-` Среднее значение у языка с ID=2 больше, чем у языка с ID=3\n",
    "- `+` Нельзя точно сказать, в какой группе больше количество измерений\n",
    "- `+` Количество попыток, которое больше 25% общего числа попыток в группе с ID=2, примерно равно количеству попыток, которое больше 75% общего числа попыток в группе с ID=3 "
   ]
  },
  {
   "cell_type": "markdown",
   "id": "cbe054b4",
   "metadata": {},
   "source": [
    "### Вопрос №3\n",
    "На одном графике изобразите боксплоты, которые показывают распределение по дневному количеству попыток за период с декабря 2021 года и с разбивкой по месяцам, а внутри каждого месяца - по языкам. Выберите верные утверждения - что можно сказать по этому графику.\n",
    "- Распределение попыток для двух языков менялось примерно с одинаковыми темпами в рамках этих нескольких месяцев\n",
    "- Разброс количества попыток, которые лежат между нижним и верхним квартилем, от месяца к месяцу растёт в группе с languade_id=2\n",
    "- В последний месяц количество измерений существенно ниже других периодов\n",
    "- В последний месяц очень сильно снизилась вариативность дневного количества попыток в обеих группах\n",
    "- Допустим, в декабре 2021 года для languade_id=2 первый квартиль имеет значение 75, медиана - 100, а третий квартиль - 175. В таком случае, согласно графику, было больше дней с количеством попыток от 100 до 175, чем с количеством попыток от 75 до 100"
   ]
  },
  {
   "cell_type": "code",
   "execution_count": 161,
   "id": "5c765acb",
   "metadata": {},
   "outputs": [
    {
     "data": {
      "application/vnd.microsoft.datawrangler.viewer.v0+json": {
       "columns": [
        {
         "name": "index",
         "rawType": "int64",
         "type": "integer"
        },
        {
         "name": "ym",
         "rawType": "period[M]",
         "type": "unknown"
        },
        {
         "name": "ymd",
         "rawType": "object",
         "type": "unknown"
        },
        {
         "name": "language_id",
         "rawType": "int64",
         "type": "integer"
        },
        {
         "name": "problem_id",
         "rawType": "int64",
         "type": "integer"
        }
       ],
       "conversionMethod": "pd.DataFrame",
       "ref": "14e27415-8cbb-4f0c-8e77-80b348f8907b",
       "rows": [
        [
         "103",
         "2021-12",
         "2021-12-01",
         "2",
         "310"
        ],
        [
         "104",
         "2021-12",
         "2021-12-01",
         "3",
         "6"
        ],
        [
         "105",
         "2021-12",
         "2021-12-02",
         "2",
         "164"
        ],
        [
         "106",
         "2021-12",
         "2021-12-02",
         "3",
         "37"
        ],
        [
         "107",
         "2021-12",
         "2021-12-03",
         "2",
         "248"
        ],
        [
         "108",
         "2021-12",
         "2021-12-03",
         "3",
         "48"
        ],
        [
         "109",
         "2021-12",
         "2021-12-04",
         "2",
         "71"
        ],
        [
         "110",
         "2021-12",
         "2021-12-04",
         "3",
         "9"
        ],
        [
         "111",
         "2021-12",
         "2021-12-05",
         "2",
         "116"
        ],
        [
         "112",
         "2021-12",
         "2021-12-05",
         "3",
         "14"
        ],
        [
         "113",
         "2021-12",
         "2021-12-06",
         "2",
         "59"
        ],
        [
         "114",
         "2021-12",
         "2021-12-06",
         "3",
         "59"
        ],
        [
         "115",
         "2021-12",
         "2021-12-07",
         "2",
         "146"
        ],
        [
         "116",
         "2021-12",
         "2021-12-07",
         "3",
         "5"
        ],
        [
         "117",
         "2021-12",
         "2021-12-08",
         "2",
         "85"
        ],
        [
         "118",
         "2021-12",
         "2021-12-08",
         "3",
         "106"
        ],
        [
         "119",
         "2021-12",
         "2021-12-09",
         "2",
         "112"
        ],
        [
         "120",
         "2021-12",
         "2021-12-09",
         "3",
         "71"
        ],
        [
         "121",
         "2021-12",
         "2021-12-10",
         "2",
         "259"
        ],
        [
         "122",
         "2021-12",
         "2021-12-10",
         "3",
         "77"
        ],
        [
         "123",
         "2021-12",
         "2021-12-11",
         "2",
         "210"
        ],
        [
         "124",
         "2021-12",
         "2021-12-11",
         "3",
         "11"
        ],
        [
         "125",
         "2021-12",
         "2021-12-12",
         "2",
         "297"
        ],
        [
         "126",
         "2021-12",
         "2021-12-12",
         "3",
         "11"
        ],
        [
         "127",
         "2021-12",
         "2021-12-13",
         "2",
         "67"
        ],
        [
         "128",
         "2021-12",
         "2021-12-13",
         "3",
         "17"
        ],
        [
         "129",
         "2021-12",
         "2021-12-14",
         "2",
         "84"
        ],
        [
         "130",
         "2021-12",
         "2021-12-14",
         "3",
         "20"
        ],
        [
         "131",
         "2021-12",
         "2021-12-15",
         "2",
         "72"
        ],
        [
         "132",
         "2021-12",
         "2021-12-15",
         "3",
         "5"
        ],
        [
         "133",
         "2021-12",
         "2021-12-16",
         "2",
         "53"
        ],
        [
         "134",
         "2021-12",
         "2021-12-16",
         "3",
         "14"
        ],
        [
         "135",
         "2021-12",
         "2021-12-17",
         "2",
         "76"
        ],
        [
         "136",
         "2021-12",
         "2021-12-17",
         "3",
         "35"
        ],
        [
         "137",
         "2021-12",
         "2021-12-18",
         "3",
         "5"
        ],
        [
         "138",
         "2021-12",
         "2021-12-19",
         "2",
         "178"
        ],
        [
         "139",
         "2021-12",
         "2021-12-20",
         "2",
         "41"
        ],
        [
         "140",
         "2021-12",
         "2021-12-21",
         "2",
         "30"
        ],
        [
         "141",
         "2021-12",
         "2021-12-21",
         "3",
         "37"
        ],
        [
         "142",
         "2021-12",
         "2021-12-22",
         "2",
         "13"
        ],
        [
         "143",
         "2021-12",
         "2021-12-22",
         "3",
         "28"
        ],
        [
         "144",
         "2021-12",
         "2021-12-23",
         "2",
         "4"
        ],
        [
         "145",
         "2021-12",
         "2021-12-23",
         "3",
         "8"
        ],
        [
         "146",
         "2021-12",
         "2021-12-24",
         "2",
         "31"
        ],
        [
         "147",
         "2021-12",
         "2021-12-24",
         "3",
         "5"
        ],
        [
         "148",
         "2021-12",
         "2021-12-25",
         "2",
         "99"
        ],
        [
         "149",
         "2021-12",
         "2021-12-25",
         "3",
         "14"
        ],
        [
         "150",
         "2021-12",
         "2021-12-26",
         "2",
         "76"
        ],
        [
         "151",
         "2021-12",
         "2021-12-26",
         "3",
         "42"
        ],
        [
         "152",
         "2021-12",
         "2021-12-27",
         "2",
         "55"
        ]
       ],
       "shape": {
        "columns": 4,
        "rows": 124
       }
      },
      "text/html": [
       "<div>\n",
       "<style scoped>\n",
       "    .dataframe tbody tr th:only-of-type {\n",
       "        vertical-align: middle;\n",
       "    }\n",
       "\n",
       "    .dataframe tbody tr th {\n",
       "        vertical-align: top;\n",
       "    }\n",
       "\n",
       "    .dataframe thead th {\n",
       "        text-align: right;\n",
       "    }\n",
       "</style>\n",
       "<table border=\"1\" class=\"dataframe\">\n",
       "  <thead>\n",
       "    <tr style=\"text-align: right;\">\n",
       "      <th></th>\n",
       "      <th>ym</th>\n",
       "      <th>ymd</th>\n",
       "      <th>language_id</th>\n",
       "      <th>problem_id</th>\n",
       "    </tr>\n",
       "  </thead>\n",
       "  <tbody>\n",
       "    <tr>\n",
       "      <th>103</th>\n",
       "      <td>2021-12</td>\n",
       "      <td>2021-12-01</td>\n",
       "      <td>2</td>\n",
       "      <td>310</td>\n",
       "    </tr>\n",
       "    <tr>\n",
       "      <th>104</th>\n",
       "      <td>2021-12</td>\n",
       "      <td>2021-12-01</td>\n",
       "      <td>3</td>\n",
       "      <td>6</td>\n",
       "    </tr>\n",
       "    <tr>\n",
       "      <th>105</th>\n",
       "      <td>2021-12</td>\n",
       "      <td>2021-12-02</td>\n",
       "      <td>2</td>\n",
       "      <td>164</td>\n",
       "    </tr>\n",
       "    <tr>\n",
       "      <th>106</th>\n",
       "      <td>2021-12</td>\n",
       "      <td>2021-12-02</td>\n",
       "      <td>3</td>\n",
       "      <td>37</td>\n",
       "    </tr>\n",
       "    <tr>\n",
       "      <th>107</th>\n",
       "      <td>2021-12</td>\n",
       "      <td>2021-12-03</td>\n",
       "      <td>2</td>\n",
       "      <td>248</td>\n",
       "    </tr>\n",
       "    <tr>\n",
       "      <th>...</th>\n",
       "      <td>...</td>\n",
       "      <td>...</td>\n",
       "      <td>...</td>\n",
       "      <td>...</td>\n",
       "    </tr>\n",
       "    <tr>\n",
       "      <th>222</th>\n",
       "      <td>2022-01</td>\n",
       "      <td>2022-01-31</td>\n",
       "      <td>3</td>\n",
       "      <td>88</td>\n",
       "    </tr>\n",
       "    <tr>\n",
       "      <th>223</th>\n",
       "      <td>2022-02</td>\n",
       "      <td>2022-02-01</td>\n",
       "      <td>2</td>\n",
       "      <td>360</td>\n",
       "    </tr>\n",
       "    <tr>\n",
       "      <th>224</th>\n",
       "      <td>2022-02</td>\n",
       "      <td>2022-02-01</td>\n",
       "      <td>3</td>\n",
       "      <td>51</td>\n",
       "    </tr>\n",
       "    <tr>\n",
       "      <th>225</th>\n",
       "      <td>2022-02</td>\n",
       "      <td>2022-02-02</td>\n",
       "      <td>2</td>\n",
       "      <td>425</td>\n",
       "    </tr>\n",
       "    <tr>\n",
       "      <th>226</th>\n",
       "      <td>2022-02</td>\n",
       "      <td>2022-02-02</td>\n",
       "      <td>3</td>\n",
       "      <td>43</td>\n",
       "    </tr>\n",
       "  </tbody>\n",
       "</table>\n",
       "<p>124 rows × 4 columns</p>\n",
       "</div>"
      ],
      "text/plain": [
       "          ym         ymd  language_id  problem_id\n",
       "103  2021-12  2021-12-01            2         310\n",
       "104  2021-12  2021-12-01            3           6\n",
       "105  2021-12  2021-12-02            2         164\n",
       "106  2021-12  2021-12-02            3          37\n",
       "107  2021-12  2021-12-03            2         248\n",
       "..       ...         ...          ...         ...\n",
       "222  2022-01  2022-01-31            3          88\n",
       "223  2022-02  2022-02-01            2         360\n",
       "224  2022-02  2022-02-01            3          51\n",
       "225  2022-02  2022-02-02            2         425\n",
       "226  2022-02  2022-02-02            3          43\n",
       "\n",
       "[124 rows x 4 columns]"
      ]
     },
     "execution_count": 161,
     "metadata": {},
     "output_type": "execute_result"
    }
   ],
   "source": [
    "q3 = df.groupby(['ym', 'ymd', 'language_id'])[['problem_id']].agg({'problem_id': 'count'}).reset_index()\n",
    "q3 = q3[q3['ym'] >= '2021-12']\n",
    "q3"
   ]
  },
  {
   "cell_type": "code",
   "execution_count": 167,
   "id": "58cc95f6",
   "metadata": {},
   "outputs": [
    {
     "name": "stderr",
     "output_type": "stream",
     "text": [
      "C:\\Temp\\ipykernel_9516\\3799071463.py:2: UserWarning: set_ticklabels() should only be used with a fixed number of ticks, i.e. after set_ticks() or using a FixedLocator.\n",
      "  fig.set_xticklabels(fig.get_xticklabels(), rotation=45);\n"
     ]
    },
    {
     "data": {
      "image/png": "[encoded data removed]",
      "text/plain": [
       "<Figure size 640x480 with 1 Axes>"
      ]
     },
     "metadata": {},
     "output_type": "display_data"
    }
   ],
   "source": [
    "fig = sns.boxplot(data=q3, y='problem_id', x='ym', hue='language_id', palette='Set2');\n",
    "fig.set_xticklabels(fig.get_xticklabels(), rotation=45);"
   ]
  },
  {
   "cell_type": "markdown",
   "id": "7d34a672",
   "metadata": {},
   "source": [
    "### Ответ №3\n",
    "- `-` Распределение попыток для двух языков менялось примерно с одинаковыми темпами в рамках этих нескольких месяцев\n",
    "- `-` Разброс количества попыток, которые лежат между нижним и верхним квартилем, от месяца к месяцу растёт в группе с languade_id=2\n",
    "- `-` В последний месяц количество измерений существенно ниже других периодов\n",
    "- `+` В последний месяц очень сильно снизилась вариативность дневного количества попыток в обеих группах\n",
    "- `-` Допустим, в декабре 2021 года для languade_id=2 первый квартиль имеет значение 75, медиана - 100, а третий квартиль - 175. В таком случае, согласно графику, было больше дней с количеством попыток от 100 до 175, чем с количеством попыток от 75 до 100"
   ]
  },
  {
   "cell_type": "markdown",
   "id": "95599a56",
   "metadata": {},
   "source": [
    "### Вопрос №4\n",
    "Вы хотите проверить гипотезу о том, что чем позже пользователь регистрировался на платформе, тем большее количество уникальных задач он решал. Отобразите это на диаграмме рассеяния. Выберите верные утверждения - что можно сказать по этому графику.\n",
    "- Нельзя судить о какой-то линейной связи между этими переменными\n",
    "- Линейная связь между переменными  хорошо прослеживается\n",
    "- Хорошо видна обратная зависимость\n",
    "- В каждой \"сотне\" пользователей есть отдельные люди, кто много решал задачи\n",
    "- Основная масса пользователей решала до 20 задач\n",
    "- Среди пользователей, которые зарегистрировались позже, меньше людей, которые решали много задач"
   ]
  },
  {
   "cell_type": "code",
   "execution_count": 176,
   "id": "d08ffa87",
   "metadata": {},
   "outputs": [
    {
     "data": {
      "application/vnd.microsoft.datawrangler.viewer.v0+json": {
       "columns": [
        {
         "name": "index",
         "rawType": "int64",
         "type": "integer"
        },
        {
         "name": "user_id",
         "rawType": "int64",
         "type": "integer"
        },
        {
         "name": "problem_id",
         "rawType": "int64",
         "type": "integer"
        }
       ],
       "conversionMethod": "pd.DataFrame",
       "ref": "128f4807-74c5-417d-a192-72a1f3b5f19a",
       "rows": [
        [
         "0",
         "1",
         "2"
        ],
        [
         "1",
         "2",
         "4"
        ],
        [
         "2",
         "3",
         "3"
        ],
        [
         "3",
         "4",
         "1"
        ],
        [
         "4",
         "5",
         "1"
        ],
        [
         "5",
         "6",
         "2"
        ],
        [
         "6",
         "8",
         "1"
        ],
        [
         "7",
         "9",
         "3"
        ],
        [
         "8",
         "10",
         "3"
        ],
        [
         "9",
         "12",
         "1"
        ],
        [
         "10",
         "13",
         "1"
        ],
        [
         "11",
         "15",
         "1"
        ],
        [
         "12",
         "16",
         "1"
        ],
        [
         "13",
         "17",
         "2"
        ],
        [
         "14",
         "18",
         "3"
        ],
        [
         "15",
         "19",
         "2"
        ],
        [
         "16",
         "20",
         "2"
        ],
        [
         "17",
         "43",
         "12"
        ],
        [
         "18",
         "50",
         "11"
        ],
        [
         "19",
         "63",
         "59"
        ],
        [
         "20",
         "72",
         "2"
        ],
        [
         "21",
         "73",
         "8"
        ],
        [
         "22",
         "90",
         "1"
        ],
        [
         "23",
         "91",
         "2"
        ],
        [
         "24",
         "97",
         "14"
        ],
        [
         "25",
         "98",
         "4"
        ],
        [
         "26",
         "99",
         "1"
        ],
        [
         "27",
         "100",
         "6"
        ],
        [
         "28",
         "101",
         "45"
        ],
        [
         "29",
         "102",
         "2"
        ],
        [
         "30",
         "103",
         "1"
        ],
        [
         "31",
         "105",
         "11"
        ],
        [
         "32",
         "106",
         "1"
        ],
        [
         "33",
         "107",
         "2"
        ],
        [
         "34",
         "108",
         "5"
        ],
        [
         "35",
         "110",
         "6"
        ],
        [
         "36",
         "111",
         "4"
        ],
        [
         "37",
         "114",
         "2"
        ],
        [
         "38",
         "116",
         "5"
        ],
        [
         "39",
         "118",
         "3"
        ],
        [
         "40",
         "121",
         "11"
        ],
        [
         "41",
         "122",
         "1"
        ],
        [
         "42",
         "123",
         "3"
        ],
        [
         "43",
         "125",
         "2"
        ],
        [
         "44",
         "127",
         "1"
        ],
        [
         "45",
         "128",
         "5"
        ],
        [
         "46",
         "132",
         "11"
        ],
        [
         "47",
         "133",
         "1"
        ],
        [
         "48",
         "134",
         "2"
        ],
        [
         "49",
         "135",
         "2"
        ]
       ],
       "shape": {
        "columns": 2,
        "rows": 377
       }
      },
      "text/html": [
       "<div>\n",
       "<style scoped>\n",
       "    .dataframe tbody tr th:only-of-type {\n",
       "        vertical-align: middle;\n",
       "    }\n",
       "\n",
       "    .dataframe tbody tr th {\n",
       "        vertical-align: top;\n",
       "    }\n",
       "\n",
       "    .dataframe thead th {\n",
       "        text-align: right;\n",
       "    }\n",
       "</style>\n",
       "<table border=\"1\" class=\"dataframe\">\n",
       "  <thead>\n",
       "    <tr style=\"text-align: right;\">\n",
       "      <th></th>\n",
       "      <th>user_id</th>\n",
       "      <th>problem_id</th>\n",
       "    </tr>\n",
       "  </thead>\n",
       "  <tbody>\n",
       "    <tr>\n",
       "      <th>0</th>\n",
       "      <td>1</td>\n",
       "      <td>2</td>\n",
       "    </tr>\n",
       "    <tr>\n",
       "      <th>1</th>\n",
       "      <td>2</td>\n",
       "      <td>4</td>\n",
       "    </tr>\n",
       "    <tr>\n",
       "      <th>2</th>\n",
       "      <td>3</td>\n",
       "      <td>3</td>\n",
       "    </tr>\n",
       "    <tr>\n",
       "      <th>3</th>\n",
       "      <td>4</td>\n",
       "      <td>1</td>\n",
       "    </tr>\n",
       "    <tr>\n",
       "      <th>4</th>\n",
       "      <td>5</td>\n",
       "      <td>1</td>\n",
       "    </tr>\n",
       "    <tr>\n",
       "      <th>...</th>\n",
       "      <td>...</td>\n",
       "      <td>...</td>\n",
       "    </tr>\n",
       "    <tr>\n",
       "      <th>372</th>\n",
       "      <td>1050</td>\n",
       "      <td>9</td>\n",
       "    </tr>\n",
       "    <tr>\n",
       "      <th>373</th>\n",
       "      <td>1054</td>\n",
       "      <td>1</td>\n",
       "    </tr>\n",
       "    <tr>\n",
       "      <th>374</th>\n",
       "      <td>1057</td>\n",
       "      <td>2</td>\n",
       "    </tr>\n",
       "    <tr>\n",
       "      <th>375</th>\n",
       "      <td>1061</td>\n",
       "      <td>2</td>\n",
       "    </tr>\n",
       "    <tr>\n",
       "      <th>376</th>\n",
       "      <td>1067</td>\n",
       "      <td>1</td>\n",
       "    </tr>\n",
       "  </tbody>\n",
       "</table>\n",
       "<p>377 rows × 2 columns</p>\n",
       "</div>"
      ],
      "text/plain": [
       "     user_id  problem_id\n",
       "0          1           2\n",
       "1          2           4\n",
       "2          3           3\n",
       "3          4           1\n",
       "4          5           1\n",
       "..       ...         ...\n",
       "372     1050           9\n",
       "373     1054           1\n",
       "374     1057           2\n",
       "375     1061           2\n",
       "376     1067           1\n",
       "\n",
       "[377 rows x 2 columns]"
      ]
     },
     "execution_count": 176,
     "metadata": {},
     "output_type": "execute_result"
    }
   ],
   "source": [
    "q4 = df.groupby(['user_id'])[['problem_id']].agg({'problem_id': 'nunique'}).reset_index()\n",
    "q4"
   ]
  },
  {
   "cell_type": "code",
   "execution_count": 178,
   "id": "2ce13040",
   "metadata": {},
   "outputs": [
    {
     "data": {
      "text/plain": [
       "<Axes: xlabel='user_id', ylabel='problem_id'>"
      ]
     },
     "execution_count": 178,
     "metadata": {},
     "output_type": "execute_result"
    },
    {
     "data": {
      "image/png": "[encoded data removed]",
      "text/plain": [
       "<Figure size 640x480 with 1 Axes>"
      ]
     },
     "metadata": {},
     "output_type": "display_data"
    }
   ],
   "source": [
    "sns.scatterplot(data=q4, x='user_id', y='problem_id')"
   ]
  },
  {
   "cell_type": "markdown",
   "id": "3552dd18",
   "metadata": {},
   "source": [
    "### Ответ №4\n",
    "- `+` Нельзя судить о какой-то линейной связи между этими переменными\n",
    "- `-` Линейная связь между переменными  хорошо прослеживается\n",
    "- `-` Хорошо видна обратная зависимость\n",
    "- `+` В каждой \"сотне\" пользователей есть отдельные люди, кто много решал задачи\n",
    "- `+` Основная масса пользователей решала до 20 задач\n",
    "- `+` Среди пользователей, которые зарегистрировались позже, меньше людей, которые решали много задач"
   ]
  },
  {
   "cell_type": "markdown",
   "id": "e45022fd",
   "metadata": {},
   "source": [
    "### Вопрос №5\n",
    "Вы хотите проверить гипотезу о том, что есть корреляция между средним количеством попыток, которые делает пользователь для решения одной задачи, максимальным количеством попыток и минимальным. Проверьте эту гипотезу с помощью построения матрицы корреляций. Выберите верные утверждения - что можно сказать по этому графику.\n",
    "- Если считать корреляцию более 60% сильной, то есть как минимум 2 пары признаков с сильной корреляцией\n",
    "- Есть только одна пара признаков со слабой корреляцией\n",
    "- Между несколькими признаками наблюдается слабая корреляция\n",
    "- Есть признаки со 100% корреляцией\n",
    "- Есть признаки с сильной обратной зависимостью\n",
    "- Среднее количество попыток примерно одинаково коррелирует и с максимальным, и с минимальным"
   ]
  },
  {
   "cell_type": "code",
   "execution_count": 198,
   "id": "27eb7e75",
   "metadata": {},
   "outputs": [
    {
     "data": {
      "image/png": "[encoded data removed]",
      "text/plain": [
       "<Figure size 640x480 with 2 Axes>"
      ]
     },
     "metadata": {},
     "output_type": "display_data"
    }
   ],
   "source": [
    "q5 = df.groupby(['user_id', 'problem_id'])['language_id'].agg({'count'}).reset_index()[['user_id', 'count']].groupby('user_id')['count'].agg({'max', 'min', 'mean'}).reset_index()\n",
    "sns.heatmap(q5[['max', 'min', 'mean']].corr(), annot=True);"
   ]
  },
  {
   "cell_type": "markdown",
   "id": "aa4c92ec",
   "metadata": {},
   "source": [
    "- `+` Если считать корреляцию более 60% сильной, то есть как минимум 2 пары признаков с сильной корреляцией\n",
    "- `+` Есть только одна пара признаков со слабой корреляцией\n",
    "- `-` Между несколькими признаками наблюдается слабая корреляция\n",
    "- `-` Есть признаки со 100% корреляцией\n",
    "- `-` Есть признаки с сильной обратной зависимостью\n",
    "- `+` Среднее количество попыток примерно одинаково коррелирует и с максимальным, и с минимальным"
   ]
  },
  {
   "cell_type": "markdown",
   "id": "dc9963d8",
   "metadata": {},
   "source": [
    "### Вопрос №6\n",
    "Постройте график n-day retention с разбивкой по когортам до 30 n-дня. Под когортой понимайте год и месяц решения первой задачи каждым пользователем - от этого момента начинается отсчет. Учитывайте только когорты после ноября 2021 года включительно. График стройте не по процентам retention, а по количеству уникальных пользователей в каждый n-день в каждой когорте. Выберите верные утверждения - что можно сказать по этому графику.\n",
    "- Каждая когорта состоит из примерно одинакового количества людей\n",
    "- Ранние когорты имеют лучшее удержание в долгосрочной перспективе\n",
    "- График retention некоторых когорт имеет нестандартную форму\n",
    "- Судя по графику, вероятнее всего в районе 5 дня происходит email-рассылка и стимулирует заново посетить платформу\n",
    "- Пользователи когорты января 2022 года продолжают очень активно пользоваться сервисом примерно с той же интенсивностью на 20 день, как и на 10\n",
    "- Среди всех когорт наблюдается слабое удержание - примерно на 10 день посещения падают почти до нуля"
   ]
  },
  {
   "cell_type": "code",
   "execution_count": 253,
   "id": "aac9b78d",
   "metadata": {},
   "outputs": [
    {
     "name": "stderr",
     "output_type": "stream",
     "text": [
      "C:\\Temp\\ipykernel_9516\\1336018736.py:2: SettingWithCopyWarning: \n",
      "A value is trying to be set on a copy of a slice from a DataFrame.\n",
      "Try using .loc[row_indexer,col_indexer] = value instead\n",
      "\n",
      "See the caveats in the documentation: https://pandas.pydata.org/pandas-docs/stable/user_guide/indexing.html#returning-a-view-versus-a-copy\n",
      "  q6['first_day'] = q6.groupby('user_id')['ymd'].transform('min')\n",
      "C:\\Temp\\ipykernel_9516\\1336018736.py:3: SettingWithCopyWarning: \n",
      "A value is trying to be set on a copy of a slice from a DataFrame.\n",
      "Try using .loc[row_indexer,col_indexer] = value instead\n",
      "\n",
      "See the caveats in the documentation: https://pandas.pydata.org/pandas-docs/stable/user_guide/indexing.html#returning-a-view-versus-a-copy\n",
      "  q6['days'] = (pd.to_datetime(q6['ymd']) - pd.to_datetime(q6['first_day'])).dt.days\n"
     ]
    },
    {
     "data": {
      "application/vnd.microsoft.datawrangler.viewer.v0+json": {
       "columns": [
        {
         "name": "index",
         "rawType": "int64",
         "type": "integer"
        },
        {
         "name": "ym",
         "rawType": "period[M]",
         "type": "unknown"
        },
        {
         "name": "days",
         "rawType": "int64",
         "type": "integer"
        },
        {
         "name": "user_id",
         "rawType": "int64",
         "type": "integer"
        }
       ],
       "conversionMethod": "pd.DataFrame",
       "ref": "3fba7503-e826-4556-acf3-8539afab2cdf",
       "rows": [
        [
         "0",
         "2021-11",
         "0",
         "94"
        ],
        [
         "1",
         "2021-11",
         "1",
         "23"
        ],
        [
         "2",
         "2021-11",
         "2",
         "13"
        ],
        [
         "3",
         "2021-11",
         "3",
         "8"
        ],
        [
         "4",
         "2021-11",
         "4",
         "9"
        ],
        [
         "5",
         "2021-11",
         "5",
         "7"
        ],
        [
         "6",
         "2021-11",
         "6",
         "7"
        ],
        [
         "7",
         "2021-11",
         "7",
         "2"
        ],
        [
         "8",
         "2021-11",
         "8",
         "2"
        ],
        [
         "9",
         "2021-11",
         "9",
         "2"
        ],
        [
         "10",
         "2021-11",
         "10",
         "1"
        ],
        [
         "11",
         "2021-11",
         "11",
         "1"
        ],
        [
         "12",
         "2021-11",
         "13",
         "1"
        ],
        [
         "13",
         "2021-11",
         "15",
         "2"
        ],
        [
         "14",
         "2021-11",
         "16",
         "1"
        ],
        [
         "15",
         "2021-11",
         "17",
         "1"
        ],
        [
         "16",
         "2021-11",
         "18",
         "1"
        ],
        [
         "17",
         "2021-11",
         "20",
         "2"
        ],
        [
         "18",
         "2021-11",
         "21",
         "1"
        ],
        [
         "19",
         "2021-11",
         "22",
         "1"
        ],
        [
         "20",
         "2021-11",
         "24",
         "1"
        ],
        [
         "21",
         "2021-11",
         "26",
         "1"
        ],
        [
         "22",
         "2021-11",
         "27",
         "1"
        ],
        [
         "23",
         "2021-12",
         "0",
         "62"
        ],
        [
         "24",
         "2021-12",
         "1",
         "12"
        ],
        [
         "25",
         "2021-12",
         "2",
         "7"
        ],
        [
         "26",
         "2021-12",
         "3",
         "5"
        ],
        [
         "27",
         "2021-12",
         "4",
         "8"
        ],
        [
         "28",
         "2021-12",
         "5",
         "4"
        ],
        [
         "29",
         "2021-12",
         "6",
         "6"
        ],
        [
         "30",
         "2021-12",
         "7",
         "14"
        ],
        [
         "31",
         "2021-12",
         "8",
         "10"
        ],
        [
         "32",
         "2021-12",
         "9",
         "3"
        ],
        [
         "33",
         "2021-12",
         "10",
         "3"
        ],
        [
         "34",
         "2021-12",
         "11",
         "3"
        ],
        [
         "35",
         "2021-12",
         "12",
         "3"
        ],
        [
         "36",
         "2021-12",
         "13",
         "5"
        ],
        [
         "37",
         "2021-12",
         "14",
         "6"
        ],
        [
         "38",
         "2021-12",
         "15",
         "2"
        ],
        [
         "39",
         "2021-12",
         "16",
         "1"
        ],
        [
         "40",
         "2021-12",
         "17",
         "4"
        ],
        [
         "41",
         "2021-12",
         "18",
         "4"
        ],
        [
         "42",
         "2021-12",
         "19",
         "2"
        ],
        [
         "43",
         "2021-12",
         "20",
         "2"
        ],
        [
         "44",
         "2021-12",
         "21",
         "4"
        ],
        [
         "45",
         "2021-12",
         "22",
         "4"
        ],
        [
         "46",
         "2021-12",
         "23",
         "3"
        ],
        [
         "47",
         "2021-12",
         "24",
         "2"
        ],
        [
         "48",
         "2021-12",
         "25",
         "2"
        ],
        [
         "49",
         "2021-12",
         "26",
         "3"
        ]
       ],
       "shape": {
        "columns": 3,
        "rows": 101
       }
      },
      "text/html": [
       "<div>\n",
       "<style scoped>\n",
       "    .dataframe tbody tr th:only-of-type {\n",
       "        vertical-align: middle;\n",
       "    }\n",
       "\n",
       "    .dataframe tbody tr th {\n",
       "        vertical-align: top;\n",
       "    }\n",
       "\n",
       "    .dataframe thead th {\n",
       "        text-align: right;\n",
       "    }\n",
       "</style>\n",
       "<table border=\"1\" class=\"dataframe\">\n",
       "  <thead>\n",
       "    <tr style=\"text-align: right;\">\n",
       "      <th></th>\n",
       "      <th>ym</th>\n",
       "      <th>days</th>\n",
       "      <th>user_id</th>\n",
       "    </tr>\n",
       "  </thead>\n",
       "  <tbody>\n",
       "    <tr>\n",
       "      <th>0</th>\n",
       "      <td>2021-11</td>\n",
       "      <td>0</td>\n",
       "      <td>94</td>\n",
       "    </tr>\n",
       "    <tr>\n",
       "      <th>1</th>\n",
       "      <td>2021-11</td>\n",
       "      <td>1</td>\n",
       "      <td>23</td>\n",
       "    </tr>\n",
       "    <tr>\n",
       "      <th>2</th>\n",
       "      <td>2021-11</td>\n",
       "      <td>2</td>\n",
       "      <td>13</td>\n",
       "    </tr>\n",
       "    <tr>\n",
       "      <th>3</th>\n",
       "      <td>2021-11</td>\n",
       "      <td>3</td>\n",
       "      <td>8</td>\n",
       "    </tr>\n",
       "    <tr>\n",
       "      <th>4</th>\n",
       "      <td>2021-11</td>\n",
       "      <td>4</td>\n",
       "      <td>9</td>\n",
       "    </tr>\n",
       "    <tr>\n",
       "      <th>...</th>\n",
       "      <td>...</td>\n",
       "      <td>...</td>\n",
       "      <td>...</td>\n",
       "    </tr>\n",
       "    <tr>\n",
       "      <th>139</th>\n",
       "      <td>2022-02</td>\n",
       "      <td>18</td>\n",
       "      <td>1</td>\n",
       "    </tr>\n",
       "    <tr>\n",
       "      <th>140</th>\n",
       "      <td>2022-02</td>\n",
       "      <td>19</td>\n",
       "      <td>3</td>\n",
       "    </tr>\n",
       "    <tr>\n",
       "      <th>141</th>\n",
       "      <td>2022-02</td>\n",
       "      <td>20</td>\n",
       "      <td>2</td>\n",
       "    </tr>\n",
       "    <tr>\n",
       "      <th>142</th>\n",
       "      <td>2022-02</td>\n",
       "      <td>21</td>\n",
       "      <td>1</td>\n",
       "    </tr>\n",
       "    <tr>\n",
       "      <th>143</th>\n",
       "      <td>2022-02</td>\n",
       "      <td>25</td>\n",
       "      <td>1</td>\n",
       "    </tr>\n",
       "  </tbody>\n",
       "</table>\n",
       "<p>101 rows × 3 columns</p>\n",
       "</div>"
      ],
      "text/plain": [
       "          ym  days  user_id\n",
       "0    2021-11     0       94\n",
       "1    2021-11     1       23\n",
       "2    2021-11     2       13\n",
       "3    2021-11     3        8\n",
       "4    2021-11     4        9\n",
       "..       ...   ...      ...\n",
       "139  2022-02    18        1\n",
       "140  2022-02    19        3\n",
       "141  2022-02    20        2\n",
       "142  2022-02    21        1\n",
       "143  2022-02    25        1\n",
       "\n",
       "[101 rows x 3 columns]"
      ]
     },
     "execution_count": 253,
     "metadata": {},
     "output_type": "execute_result"
    }
   ],
   "source": [
    "q6 = df[df['ym'] >= '2021-11']\n",
    "q6['first_day'] = q6.groupby('user_id')['ymd'].transform('min')\n",
    "q6['days'] = (pd.to_datetime(q6['ymd']) - pd.to_datetime(q6['first_day'])).dt.days\n",
    "q6 = q6.groupby(['ym','days']).agg({'user_id': 'nunique'}).reset_index()\n",
    "q6 = q6[q6['days'] <= 30]\n",
    "q6"
   ]
  },
  {
   "cell_type": "code",
   "execution_count": 254,
   "id": "bc409655",
   "metadata": {},
   "outputs": [
    {
     "data": {
      "image/png": "[encoded data removed]",
      "text/plain": [
       "<Figure size 640x480 with 1 Axes>"
      ]
     },
     "metadata": {},
     "output_type": "display_data"
    }
   ],
   "source": [
    "sns.lineplot(data=q6, x='days', y='user_id', hue='ym');"
   ]
  },
  {
   "cell_type": "markdown",
   "id": "96b1cfdb",
   "metadata": {},
   "source": [
    "### Ответы №6\n",
    "- `-` Каждая когорта состоит из примерно одинакового количества людей\n",
    "- `+` Ранние когорты имеют лучшее удержание в долгосрочной перспективе\n",
    "- `+`График retention некоторых когорт имеет нестандартную форму\n",
    "- `-` Судя по графику, вероятнее всего в районе 5 дня происходит email-рассылка и стимулирует заново посетить платформу\n",
    "- `-` Пользователи когорты января 2022 года продолжают очень активно пользоваться сервисом примерно с той же интенсивностью на 20 день, как и на 10\n",
    "- `+`Среди всех когорт наблюдается слабое удержание - примерно на 10 день посещения падают почти до нуля"
   ]
  },
  {
   "cell_type": "markdown",
   "id": "b5fb5bd1",
   "metadata": {},
   "source": [
    "### Вопрос №7\n",
    "Для оценки распределения хорошо использовать не только boxplot, но и скрипичную диаграмму - violinplot. Она дает сильно больше информации, чем простой ящик с усами. Например, такой график есть в seaborn.\n",
    "\n",
    "Отобразите на графике распределение числа уникальных пользователей, сгруппированных по датам совершения попытки, в разрезе языков.\n",
    "\n",
    "Выберите верные утверждения - что можно сказать по этому графику.\n",
    "\n",
    "- Между первым и третьим квартилем распределение данных внутри 2 языка более равномерное, чем внутри 3\n",
    "- Первый квартиль между двумя группами почти совпадает\n",
    "- Положение точки медианы между 1 и 3 квартилем напрямую зависит от равномерности распределения данных внутри этого промежутка: чем более равномерные дынные, тем ближе точка медианы к центру\n",
    "- Есть некоторое количество дней, в которых задачи с языком 2 решает больше пользователей, чем с языком 3"
   ]
  },
  {
   "cell_type": "code",
   "execution_count": 267,
   "id": "e9f1bc43",
   "metadata": {},
   "outputs": [
    {
     "data": {
      "application/vnd.microsoft.datawrangler.viewer.v0+json": {
       "columns": [
        {
         "name": "index",
         "rawType": "int64",
         "type": "integer"
        },
        {
         "name": "ymd",
         "rawType": "object",
         "type": "unknown"
        },
        {
         "name": "language_id",
         "rawType": "int64",
         "type": "integer"
        },
        {
         "name": "nunique",
         "rawType": "int64",
         "type": "integer"
        }
       ],
       "conversionMethod": "pd.DataFrame",
       "ref": "4a81f410-ed3d-4943-bbe5-fb716db7e09a",
       "rows": [
        [
         "0",
         "2021-03-27",
         "3",
         "1"
        ],
        [
         "1",
         "2021-03-28",
         "3",
         "1"
        ],
        [
         "2",
         "2021-03-29",
         "3",
         "2"
        ],
        [
         "3",
         "2021-03-30",
         "3",
         "1"
        ],
        [
         "4",
         "2021-03-31",
         "3",
         "2"
        ],
        [
         "5",
         "2021-04-01",
         "3",
         "1"
        ],
        [
         "6",
         "2021-04-02",
         "3",
         "1"
        ],
        [
         "7",
         "2021-04-03",
         "3",
         "1"
        ],
        [
         "8",
         "2021-04-04",
         "3",
         "2"
        ],
        [
         "9",
         "2021-04-06",
         "3",
         "2"
        ],
        [
         "10",
         "2021-04-07",
         "3",
         "1"
        ],
        [
         "11",
         "2021-04-08",
         "3",
         "1"
        ],
        [
         "12",
         "2021-04-13",
         "3",
         "1"
        ],
        [
         "13",
         "2021-04-14",
         "3",
         "1"
        ],
        [
         "14",
         "2021-04-15",
         "3",
         "3"
        ],
        [
         "15",
         "2021-04-17",
         "3",
         "1"
        ],
        [
         "16",
         "2021-04-18",
         "3",
         "1"
        ],
        [
         "17",
         "2021-04-19",
         "3",
         "1"
        ],
        [
         "18",
         "2021-04-20",
         "3",
         "1"
        ],
        [
         "19",
         "2021-04-21",
         "3",
         "1"
        ],
        [
         "20",
         "2021-04-22",
         "3",
         "1"
        ],
        [
         "21",
         "2021-04-23",
         "3",
         "1"
        ],
        [
         "22",
         "2021-04-26",
         "3",
         "1"
        ],
        [
         "23",
         "2021-04-27",
         "3",
         "1"
        ],
        [
         "24",
         "2021-06-07",
         "3",
         "1"
        ],
        [
         "25",
         "2021-06-08",
         "3",
         "1"
        ],
        [
         "26",
         "2021-06-10",
         "3",
         "1"
        ],
        [
         "27",
         "2021-06-22",
         "3",
         "1"
        ],
        [
         "28",
         "2021-06-23",
         "3",
         "1"
        ],
        [
         "29",
         "2021-06-24",
         "3",
         "1"
        ],
        [
         "30",
         "2021-06-25",
         "3",
         "1"
        ],
        [
         "31",
         "2021-06-28",
         "3",
         "1"
        ],
        [
         "32",
         "2021-06-29",
         "3",
         "1"
        ],
        [
         "33",
         "2021-06-30",
         "3",
         "1"
        ],
        [
         "34",
         "2021-07-01",
         "3",
         "1"
        ],
        [
         "35",
         "2021-07-06",
         "3",
         "1"
        ],
        [
         "36",
         "2021-07-07",
         "3",
         "1"
        ],
        [
         "37",
         "2021-07-08",
         "3",
         "1"
        ],
        [
         "38",
         "2021-09-19",
         "3",
         "1"
        ],
        [
         "39",
         "2021-09-20",
         "2",
         "1"
        ],
        [
         "40",
         "2021-09-20",
         "3",
         "2"
        ],
        [
         "41",
         "2021-09-21",
         "2",
         "1"
        ],
        [
         "42",
         "2021-09-21",
         "3",
         "2"
        ],
        [
         "43",
         "2021-09-22",
         "2",
         "1"
        ],
        [
         "44",
         "2021-09-22",
         "3",
         "1"
        ],
        [
         "45",
         "2021-09-23",
         "3",
         "2"
        ],
        [
         "46",
         "2021-09-24",
         "3",
         "1"
        ],
        [
         "47",
         "2021-09-25",
         "3",
         "1"
        ],
        [
         "48",
         "2021-09-28",
         "3",
         "1"
        ],
        [
         "49",
         "2021-09-29",
         "3",
         "1"
        ]
       ],
       "shape": {
        "columns": 3,
        "rows": 227
       }
      },
      "text/html": [
       "<div>\n",
       "<style scoped>\n",
       "    .dataframe tbody tr th:only-of-type {\n",
       "        vertical-align: middle;\n",
       "    }\n",
       "\n",
       "    .dataframe tbody tr th {\n",
       "        vertical-align: top;\n",
       "    }\n",
       "\n",
       "    .dataframe thead th {\n",
       "        text-align: right;\n",
       "    }\n",
       "</style>\n",
       "<table border=\"1\" class=\"dataframe\">\n",
       "  <thead>\n",
       "    <tr style=\"text-align: right;\">\n",
       "      <th></th>\n",
       "      <th>ymd</th>\n",
       "      <th>language_id</th>\n",
       "      <th>nunique</th>\n",
       "    </tr>\n",
       "  </thead>\n",
       "  <tbody>\n",
       "    <tr>\n",
       "      <th>0</th>\n",
       "      <td>2021-03-27</td>\n",
       "      <td>3</td>\n",
       "      <td>1</td>\n",
       "    </tr>\n",
       "    <tr>\n",
       "      <th>1</th>\n",
       "      <td>2021-03-28</td>\n",
       "      <td>3</td>\n",
       "      <td>1</td>\n",
       "    </tr>\n",
       "    <tr>\n",
       "      <th>2</th>\n",
       "      <td>2021-03-29</td>\n",
       "      <td>3</td>\n",
       "      <td>2</td>\n",
       "    </tr>\n",
       "    <tr>\n",
       "      <th>3</th>\n",
       "      <td>2021-03-30</td>\n",
       "      <td>3</td>\n",
       "      <td>1</td>\n",
       "    </tr>\n",
       "    <tr>\n",
       "      <th>4</th>\n",
       "      <td>2021-03-31</td>\n",
       "      <td>3</td>\n",
       "      <td>2</td>\n",
       "    </tr>\n",
       "    <tr>\n",
       "      <th>...</th>\n",
       "      <td>...</td>\n",
       "      <td>...</td>\n",
       "      <td>...</td>\n",
       "    </tr>\n",
       "    <tr>\n",
       "      <th>222</th>\n",
       "      <td>2022-01-31</td>\n",
       "      <td>3</td>\n",
       "      <td>7</td>\n",
       "    </tr>\n",
       "    <tr>\n",
       "      <th>223</th>\n",
       "      <td>2022-02-01</td>\n",
       "      <td>2</td>\n",
       "      <td>14</td>\n",
       "    </tr>\n",
       "    <tr>\n",
       "      <th>224</th>\n",
       "      <td>2022-02-01</td>\n",
       "      <td>3</td>\n",
       "      <td>11</td>\n",
       "    </tr>\n",
       "    <tr>\n",
       "      <th>225</th>\n",
       "      <td>2022-02-02</td>\n",
       "      <td>2</td>\n",
       "      <td>15</td>\n",
       "    </tr>\n",
       "    <tr>\n",
       "      <th>226</th>\n",
       "      <td>2022-02-02</td>\n",
       "      <td>3</td>\n",
       "      <td>6</td>\n",
       "    </tr>\n",
       "  </tbody>\n",
       "</table>\n",
       "<p>227 rows × 3 columns</p>\n",
       "</div>"
      ],
      "text/plain": [
       "            ymd  language_id  nunique\n",
       "0    2021-03-27            3        1\n",
       "1    2021-03-28            3        1\n",
       "2    2021-03-29            3        2\n",
       "3    2021-03-30            3        1\n",
       "4    2021-03-31            3        2\n",
       "..          ...          ...      ...\n",
       "222  2022-01-31            3        7\n",
       "223  2022-02-01            2       14\n",
       "224  2022-02-01            3       11\n",
       "225  2022-02-02            2       15\n",
       "226  2022-02-02            3        6\n",
       "\n",
       "[227 rows x 3 columns]"
      ]
     },
     "execution_count": 267,
     "metadata": {},
     "output_type": "execute_result"
    }
   ],
   "source": [
    "q7 = df.groupby(['ymd', 'language_id'])['user_id'].agg({'nunique'}).reset_index()\n",
    "q7"
   ]
  },
  {
   "cell_type": "code",
   "execution_count": 272,
   "id": "8cc69c21",
   "metadata": {},
   "outputs": [
    {
     "name": "stderr",
     "output_type": "stream",
     "text": [
      "C:\\Temp\\ipykernel_9516\\2469608606.py:1: FutureWarning: \n",
      "\n",
      "Passing `palette` without assigning `hue` is deprecated and will be removed in v0.14.0. Assign the `x` variable to `hue` and set `legend=False` for the same effect.\n",
      "\n",
      "  sns.violinplot(data=q7, y='nunique', x='language_id', palette='Set1');\n"
     ]
    },
    {
     "data": {
      "image/png": "[encoded data removed]",
      "text/plain": [
       "<Figure size 640x480 with 1 Axes>"
      ]
     },
     "metadata": {},
     "output_type": "display_data"
    }
   ],
   "source": [
    "sns.violinplot(data=q7, y='nunique', x='language_id', palette='Set1');"
   ]
  },
  {
   "cell_type": "markdown",
   "id": "f476f222",
   "metadata": {},
   "source": [
    "- `+` Между первым и третьим квартилем распределение данных внутри 2 языка более равномерное, чем внутри 3\n",
    "- `+` Первый квартиль между двумя группами почти совпадает\n",
    "- `+` Положение точки медианы между 1 и 3 квартилем напрямую зависит от равномерности распределения данных внутри этого промежутка: чем более равномерные дынные, тем ближе точка медианы к центру\n",
    "- `+` Есть некоторое количество дней, в которых задачи с языком 2 решает больше пользователей, чем с языком 3"
   ]
  }
 ],
 "metadata": {
  "kernelspec": {
   "display_name": "venv",
   "language": "python",
   "name": "python3"
  },
  "language_info": {
   "codemirror_mode": {
    "name": "ipython",
    "version": 3
   },
   "file_extension": ".py",
   "mimetype": "text/x-python",
   "name": "python",
   "nbconvert_exporter": "python",
   "pygments_lexer": "ipython3",
   "version": "3.11.4"
  }
 },
 "nbformat": 4,
 "nbformat_minor": 5
}

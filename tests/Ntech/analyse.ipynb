{
 "cells": [
  {
   "cell_type": "code",
   "execution_count": 12,
   "id": "e6928397",
   "metadata": {},
   "outputs": [],
   "source": [
    "import numpy as np\n",
    "import pandas as pd"
   ]
  },
  {
   "cell_type": "code",
   "execution_count": 13,
   "id": "b2bc430d",
   "metadata": {},
   "outputs": [
    {
     "data": {
      "text/html": [
       "        <script type=\"text/javascript\">\n",
       "        window.PlotlyConfig = {MathJaxConfig: 'local'};\n",
       "        if (window.MathJax && window.MathJax.Hub && window.MathJax.Hub.Config) {window.MathJax.Hub.Config({SVG: {font: \"STIX-Web\"}});}\n",
       "        </script>\n",
       "        <script type=\"module\">import \"https://cdn.plot.ly/plotly-3.0.1.min\"</script>\n",
       "        "
      ]
     },
     "metadata": {},
     "output_type": "display_data"
    },
    {
     "data": {
      "text/html": [
       "        <script type=\"text/javascript\">\n",
       "        window.PlotlyConfig = {MathJaxConfig: 'local'};\n",
       "        if (window.MathJax && window.MathJax.Hub && window.MathJax.Hub.Config) {window.MathJax.Hub.Config({SVG: {font: \"STIX-Web\"}});}\n",
       "        </script>\n",
       "        <script type=\"module\">import \"https://cdn.plot.ly/plotly-3.0.1.min\"</script>\n",
       "        "
      ]
     },
     "metadata": {},
     "output_type": "display_data"
    }
   ],
   "source": [
    "import plotly as py\n",
    "import plotly.graph_objs as go\n",
    "from plotly.offline import iplot\n",
    "\n",
    "# Использование cufflinks в офлайн-режиме\n",
    "import cufflinks\n",
    "cufflinks.go_offline()\n",
    "\n",
    "# Настройка глобальной темы cufflinks\n",
    "cufflinks.set_config_file(world_readable=True, theme='pearl', offline=True)"
   ]
  },
  {
   "cell_type": "code",
   "execution_count": 14,
   "id": "672a9bf4",
   "metadata": {},
   "outputs": [],
   "source": [
    "filename = 'Массив чеков_ver3.csv'"
   ]
  },
  {
   "cell_type": "markdown",
   "id": "7528ef56",
   "metadata": {},
   "source": [
    "Для начала прочитаем только заголовки датасета:"
   ]
  },
  {
   "cell_type": "code",
   "execution_count": 15,
   "id": "b123ba6d",
   "metadata": {},
   "outputs": [
    {
     "data": {
      "text/plain": [
       "['client_NT',\n",
       " 'text_kktAddress',\n",
       " 'Идентификатор покупателя',\n",
       " 'dateTime',\n",
       " 'receipt_id',\n",
       " 'CLEAN_SKU',\n",
       " 'price_items',\n",
       " 'quantity_items',\n",
       " 'sum_items',\n",
       " 'totalSum',\n",
       " 'RIGHTHOLDER_NT',\n",
       " 'BRAND_NT',\n",
       " 'CLASS_NT',\n",
       " 'GROUP_NT',\n",
       " 'CATEGORY_NT',\n",
       " 'SUBCATEGORY_NT',\n",
       " 'BASE_NT',\n",
       " 'lat',\n",
       " 'lon']"
      ]
     },
     "execution_count": 15,
     "metadata": {},
     "output_type": "execute_result"
    }
   ],
   "source": [
    "headers = pd.read_csv(filename, nrows=0, encoding='utf-16').columns.tolist()\n",
    "headers"
   ]
  },
  {
   "cell_type": "markdown",
   "id": "b1ff2989",
   "metadata": {},
   "source": [
    "Можно сформировать отдельный список всех магазинов из датасета:"
   ]
  },
  {
   "cell_type": "code",
   "execution_count": 58,
   "id": "e2cffb0a",
   "metadata": {},
   "outputs": [
    {
     "data": {
      "application/vnd.microsoft.datawrangler.viewer.v0+json": {
       "columns": [
        {
         "name": "index",
         "rawType": "int64",
         "type": "integer"
        },
        {
         "name": "client_NT",
         "rawType": "object",
         "type": "string"
        },
        {
         "name": "text_kktAddress",
         "rawType": "object",
         "type": "string"
        },
        {
         "name": "lat",
         "rawType": "object",
         "type": "string"
        },
        {
         "name": "lon",
         "rawType": "object",
         "type": "string"
        }
       ],
       "conversionMethod": "pd.DataFrame",
       "ref": "a24a1051-4a70-43f3-8bbd-aca64780207b",
       "rows": [
        [
         "0",
         "Окей",
         "г Москва, ул Озёрная, д 50",
         "55,6647196",
         "37,4372193"
        ],
        [
         "7",
         "Окей",
         "г Москва, пр-кт Мира, д 211 к 2",
         "55,845855",
         "37,662093"
        ],
        [
         "10",
         "Гиперглобус",
         "г Москва, ш Новоухтомское, д 2А",
         "55,7128634",
         "37,8454195"
        ],
        [
         "43",
         "Окей",
         "г Москва, ул Кировоградская, д 13А",
         "55,6121172",
         "37,6070486"
        ],
        [
         "58",
         "Гиперглобус",
         "г Москва, Сосенское п, п Коммунарка, ул Александры Монаховой, д 61 стр 1",
         "55,557266",
         "37,494368"
        ],
        [
         "109",
         "Окей",
         "г Москва, ш Каширское, д 14",
         "55,664456",
         "37,627059"
        ],
        [
         "117",
         "Гиперглобус",
         "г Москва, км Новорижское шоссе 22-й, влд 1 стр 1",
         "55,801981",
         "37,300674"
        ],
        [
         "193",
         "Гиперглобус",
         "г Москва, км Киевское шоссе 23-й (п Московский), д 1",
         "55,623788",
         "37,422027"
        ],
        [
         "240",
         "Окей",
         "г Москва, ш Дмитровское, влд 163А к 1",
         "55,90968",
         "37,540721"
        ],
        [
         "250",
         "Окей",
         "г Москва, ш Головинское, д 5 к 1",
         "55,84016",
         "37,4915995"
        ],
        [
         "324",
         "Гиперглобус",
         "г Москва, ул Широкая, д 2А",
         "55,8873966",
         "37,6392327"
        ],
        [
         "338",
         "Окей",
         "г Москва, Московский п, г Московский, ул Хабарова, д 2",
         "55,5939458",
         "37,3518308"
        ],
        [
         "950",
         "Окей",
         "г Москва, ш Дмитровское, д 98С",
         "55,879157",
         "37,547189"
        ],
        [
         "975",
         "Окей",
         "г Москва, ул Святоозерская, д 1А",
         "55,7146158",
         "37,8835661"
        ],
        [
         "3432",
         "Гиперглобус",
         "г Москва, км Новорижское шоссе 22-й, д 1",
         "55,8025796",
         "37,3019609"
        ],
        [
         "5132",
         "Окей",
         "г Москва, ш Дмитровское, д 163А",
         "55,90968",
         "37,540721"
        ],
        [
         "26345",
         "Metro c&c",
         "г Москва, пр-кт Мира, д 211 к 1",
         "55,844041",
         "37,66265"
        ],
        [
         "49235",
         "Гиперглобус",
         "г Москва, пр-кт Волгоградский, д 42 к 9",
         "55,7076672",
         "37,715361"
        ],
        [
         "66968",
         "Metro c&c",
         "г Москва, ул Рябиновая, д 59",
         "55,6858545",
         "37,4317811"
        ],
        [
         "99194",
         "Окей",
         "г Москва, ш Дмитровское, д 49Д",
         "55,8359577",
         "37,5746979"
        ],
        [
         "153648",
         "Metro c&c",
         "г Москва, ул Дорожная, д 1 к 1",
         "55,6307682",
         "37,6249431"
        ],
        [
         "190584",
         "Metro c&c",
         "г Москва, ш Ленинградское, д 71Г",
         "55,875753",
         "37,447279"
        ],
        [
         "357187",
         "Окей",
         "г Москва, ш Дмитровское, влд 163А",
         "55,90968",
         "37,540721"
        ],
        [
         "591005",
         "Metro c&c",
         "г Москва, км МКАД 104-й, д 6",
         "55,8113123",
         "37,8373703"
        ],
        [
         "1172280",
         "Metro c&c",
         "г Москва, Московский п, кв-л 34, д 3 стр 1",
         "55,6199842",
         "37,3874065"
        ],
        [
         "1233052",
         "Окей",
         "г Москва, ш Дмитровское, д 107А",
         "55,880945",
         "37,54118"
        ],
        [
         "1234331",
         "Окей",
         "г Москва, ш Дмитровское, к 1",
         "55,87593",
         "37,547719"
        ],
        [
         "1656407",
         "Metro c&c",
         "г Москва, ул Маршала Прошлякова, д 14",
         "55,7911159",
         "37,3886894"
        ],
        [
         "1883345",
         "Metro c&c",
         "г Москва, ш Дмитровское, д 165Б",
         "55,915992",
         "37,540084"
        ],
        [
         "2075370",
         "Окей",
         "г Москва, ш Дмитровское, д 165",
         "55,9285654",
         "37,5440174"
        ],
        [
         "2085497",
         "Окей",
         "г Москва, ш Дмитровское, д 58А",
         "55,8515572",
         "37,5663772"
        ],
        [
         "2086659",
         "Окей",
         "г Москва, ш Дмитровское, влд 91А",
         "55,870203",
         "37,546893"
        ],
        [
         "2368985",
         "Окей",
         "г Москва, ш Дмитровское, д 41",
         "55,833526",
         "37,570788"
        ],
        [
         "2399569",
         "Окей",
         "г Москва, ш Дмитровское, д 107 стр 2а",
         "55,878406",
         "37,5413905"
        ],
        [
         "2399908",
         "Окей",
         "г Москва, ш Дмитровское, д 157 стр 2",
         "55,898498",
         "37,542536"
        ]
       ],
       "shape": {
        "columns": 4,
        "rows": 35
       }
      },
      "text/html": [
       "<div>\n",
       "<style scoped>\n",
       "    .dataframe tbody tr th:only-of-type {\n",
       "        vertical-align: middle;\n",
       "    }\n",
       "\n",
       "    .dataframe tbody tr th {\n",
       "        vertical-align: top;\n",
       "    }\n",
       "\n",
       "    .dataframe thead th {\n",
       "        text-align: right;\n",
       "    }\n",
       "</style>\n",
       "<table border=\"1\" class=\"dataframe\">\n",
       "  <thead>\n",
       "    <tr style=\"text-align: right;\">\n",
       "      <th></th>\n",
       "      <th>client_NT</th>\n",
       "      <th>text_kktAddress</th>\n",
       "      <th>lat</th>\n",
       "      <th>lon</th>\n",
       "    </tr>\n",
       "  </thead>\n",
       "  <tbody>\n",
       "    <tr>\n",
       "      <th>0</th>\n",
       "      <td>Окей</td>\n",
       "      <td>г Москва, ул Озёрная, д 50</td>\n",
       "      <td>55,6647196</td>\n",
       "      <td>37,4372193</td>\n",
       "    </tr>\n",
       "    <tr>\n",
       "      <th>7</th>\n",
       "      <td>Окей</td>\n",
       "      <td>г Москва, пр-кт Мира, д 211 к 2</td>\n",
       "      <td>55,845855</td>\n",
       "      <td>37,662093</td>\n",
       "    </tr>\n",
       "    <tr>\n",
       "      <th>10</th>\n",
       "      <td>Гиперглобус</td>\n",
       "      <td>г Москва, ш Новоухтомское, д 2А</td>\n",
       "      <td>55,7128634</td>\n",
       "      <td>37,8454195</td>\n",
       "    </tr>\n",
       "    <tr>\n",
       "      <th>43</th>\n",
       "      <td>Окей</td>\n",
       "      <td>г Москва, ул Кировоградская, д 13А</td>\n",
       "      <td>55,6121172</td>\n",
       "      <td>37,6070486</td>\n",
       "    </tr>\n",
       "    <tr>\n",
       "      <th>58</th>\n",
       "      <td>Гиперглобус</td>\n",
       "      <td>г Москва, Сосенское п, п Коммунарка, ул Алекса...</td>\n",
       "      <td>55,557266</td>\n",
       "      <td>37,494368</td>\n",
       "    </tr>\n",
       "    <tr>\n",
       "      <th>109</th>\n",
       "      <td>Окей</td>\n",
       "      <td>г Москва, ш Каширское, д 14</td>\n",
       "      <td>55,664456</td>\n",
       "      <td>37,627059</td>\n",
       "    </tr>\n",
       "    <tr>\n",
       "      <th>117</th>\n",
       "      <td>Гиперглобус</td>\n",
       "      <td>г Москва, км Новорижское шоссе 22-й, влд 1 стр 1</td>\n",
       "      <td>55,801981</td>\n",
       "      <td>37,300674</td>\n",
       "    </tr>\n",
       "    <tr>\n",
       "      <th>193</th>\n",
       "      <td>Гиперглобус</td>\n",
       "      <td>г Москва, км Киевское шоссе 23-й (п Московский...</td>\n",
       "      <td>55,623788</td>\n",
       "      <td>37,422027</td>\n",
       "    </tr>\n",
       "    <tr>\n",
       "      <th>240</th>\n",
       "      <td>Окей</td>\n",
       "      <td>г Москва, ш Дмитровское, влд 163А к 1</td>\n",
       "      <td>55,90968</td>\n",
       "      <td>37,540721</td>\n",
       "    </tr>\n",
       "    <tr>\n",
       "      <th>250</th>\n",
       "      <td>Окей</td>\n",
       "      <td>г Москва, ш Головинское, д 5 к 1</td>\n",
       "      <td>55,84016</td>\n",
       "      <td>37,4915995</td>\n",
       "    </tr>\n",
       "    <tr>\n",
       "      <th>324</th>\n",
       "      <td>Гиперглобус</td>\n",
       "      <td>г Москва, ул Широкая, д 2А</td>\n",
       "      <td>55,8873966</td>\n",
       "      <td>37,6392327</td>\n",
       "    </tr>\n",
       "    <tr>\n",
       "      <th>338</th>\n",
       "      <td>Окей</td>\n",
       "      <td>г Москва, Московский п, г Московский, ул Хабар...</td>\n",
       "      <td>55,5939458</td>\n",
       "      <td>37,3518308</td>\n",
       "    </tr>\n",
       "    <tr>\n",
       "      <th>950</th>\n",
       "      <td>Окей</td>\n",
       "      <td>г Москва, ш Дмитровское, д 98С</td>\n",
       "      <td>55,879157</td>\n",
       "      <td>37,547189</td>\n",
       "    </tr>\n",
       "    <tr>\n",
       "      <th>975</th>\n",
       "      <td>Окей</td>\n",
       "      <td>г Москва, ул Святоозерская, д 1А</td>\n",
       "      <td>55,7146158</td>\n",
       "      <td>37,8835661</td>\n",
       "    </tr>\n",
       "    <tr>\n",
       "      <th>3432</th>\n",
       "      <td>Гиперглобус</td>\n",
       "      <td>г Москва, км Новорижское шоссе 22-й, д 1</td>\n",
       "      <td>55,8025796</td>\n",
       "      <td>37,3019609</td>\n",
       "    </tr>\n",
       "    <tr>\n",
       "      <th>5132</th>\n",
       "      <td>Окей</td>\n",
       "      <td>г Москва, ш Дмитровское, д 163А</td>\n",
       "      <td>55,90968</td>\n",
       "      <td>37,540721</td>\n",
       "    </tr>\n",
       "    <tr>\n",
       "      <th>26345</th>\n",
       "      <td>Metro c&amp;c</td>\n",
       "      <td>г Москва, пр-кт Мира, д 211 к 1</td>\n",
       "      <td>55,844041</td>\n",
       "      <td>37,66265</td>\n",
       "    </tr>\n",
       "    <tr>\n",
       "      <th>49235</th>\n",
       "      <td>Гиперглобус</td>\n",
       "      <td>г Москва, пр-кт Волгоградский, д 42 к 9</td>\n",
       "      <td>55,7076672</td>\n",
       "      <td>37,715361</td>\n",
       "    </tr>\n",
       "    <tr>\n",
       "      <th>66968</th>\n",
       "      <td>Metro c&amp;c</td>\n",
       "      <td>г Москва, ул Рябиновая, д 59</td>\n",
       "      <td>55,6858545</td>\n",
       "      <td>37,4317811</td>\n",
       "    </tr>\n",
       "    <tr>\n",
       "      <th>99194</th>\n",
       "      <td>Окей</td>\n",
       "      <td>г Москва, ш Дмитровское, д 49Д</td>\n",
       "      <td>55,8359577</td>\n",
       "      <td>37,5746979</td>\n",
       "    </tr>\n",
       "    <tr>\n",
       "      <th>153648</th>\n",
       "      <td>Metro c&amp;c</td>\n",
       "      <td>г Москва, ул Дорожная, д 1 к 1</td>\n",
       "      <td>55,6307682</td>\n",
       "      <td>37,6249431</td>\n",
       "    </tr>\n",
       "    <tr>\n",
       "      <th>190584</th>\n",
       "      <td>Metro c&amp;c</td>\n",
       "      <td>г Москва, ш Ленинградское, д 71Г</td>\n",
       "      <td>55,875753</td>\n",
       "      <td>37,447279</td>\n",
       "    </tr>\n",
       "    <tr>\n",
       "      <th>357187</th>\n",
       "      <td>Окей</td>\n",
       "      <td>г Москва, ш Дмитровское, влд 163А</td>\n",
       "      <td>55,90968</td>\n",
       "      <td>37,540721</td>\n",
       "    </tr>\n",
       "    <tr>\n",
       "      <th>591005</th>\n",
       "      <td>Metro c&amp;c</td>\n",
       "      <td>г Москва, км МКАД 104-й, д 6</td>\n",
       "      <td>55,8113123</td>\n",
       "      <td>37,8373703</td>\n",
       "    </tr>\n",
       "    <tr>\n",
       "      <th>1172280</th>\n",
       "      <td>Metro c&amp;c</td>\n",
       "      <td>г Москва, Московский п, кв-л 34, д 3 стр 1</td>\n",
       "      <td>55,6199842</td>\n",
       "      <td>37,3874065</td>\n",
       "    </tr>\n",
       "    <tr>\n",
       "      <th>1233052</th>\n",
       "      <td>Окей</td>\n",
       "      <td>г Москва, ш Дмитровское, д 107А</td>\n",
       "      <td>55,880945</td>\n",
       "      <td>37,54118</td>\n",
       "    </tr>\n",
       "    <tr>\n",
       "      <th>1234331</th>\n",
       "      <td>Окей</td>\n",
       "      <td>г Москва, ш Дмитровское, к 1</td>\n",
       "      <td>55,87593</td>\n",
       "      <td>37,547719</td>\n",
       "    </tr>\n",
       "    <tr>\n",
       "      <th>1656407</th>\n",
       "      <td>Metro c&amp;c</td>\n",
       "      <td>г Москва, ул Маршала Прошлякова, д 14</td>\n",
       "      <td>55,7911159</td>\n",
       "      <td>37,3886894</td>\n",
       "    </tr>\n",
       "    <tr>\n",
       "      <th>1883345</th>\n",
       "      <td>Metro c&amp;c</td>\n",
       "      <td>г Москва, ш Дмитровское, д 165Б</td>\n",
       "      <td>55,915992</td>\n",
       "      <td>37,540084</td>\n",
       "    </tr>\n",
       "    <tr>\n",
       "      <th>2075370</th>\n",
       "      <td>Окей</td>\n",
       "      <td>г Москва, ш Дмитровское, д 165</td>\n",
       "      <td>55,9285654</td>\n",
       "      <td>37,5440174</td>\n",
       "    </tr>\n",
       "    <tr>\n",
       "      <th>2085497</th>\n",
       "      <td>Окей</td>\n",
       "      <td>г Москва, ш Дмитровское, д 58А</td>\n",
       "      <td>55,8515572</td>\n",
       "      <td>37,5663772</td>\n",
       "    </tr>\n",
       "    <tr>\n",
       "      <th>2086659</th>\n",
       "      <td>Окей</td>\n",
       "      <td>г Москва, ш Дмитровское, влд 91А</td>\n",
       "      <td>55,870203</td>\n",
       "      <td>37,546893</td>\n",
       "    </tr>\n",
       "    <tr>\n",
       "      <th>2368985</th>\n",
       "      <td>Окей</td>\n",
       "      <td>г Москва, ш Дмитровское, д 41</td>\n",
       "      <td>55,833526</td>\n",
       "      <td>37,570788</td>\n",
       "    </tr>\n",
       "    <tr>\n",
       "      <th>2399569</th>\n",
       "      <td>Окей</td>\n",
       "      <td>г Москва, ш Дмитровское, д 107 стр 2а</td>\n",
       "      <td>55,878406</td>\n",
       "      <td>37,5413905</td>\n",
       "    </tr>\n",
       "    <tr>\n",
       "      <th>2399908</th>\n",
       "      <td>Окей</td>\n",
       "      <td>г Москва, ш Дмитровское, д 157 стр 2</td>\n",
       "      <td>55,898498</td>\n",
       "      <td>37,542536</td>\n",
       "    </tr>\n",
       "  </tbody>\n",
       "</table>\n",
       "</div>"
      ],
      "text/plain": [
       "           client_NT                                    text_kktAddress  \\\n",
       "0               Окей                         г Москва, ул Озёрная, д 50   \n",
       "7               Окей                    г Москва, пр-кт Мира, д 211 к 2   \n",
       "10       Гиперглобус                    г Москва, ш Новоухтомское, д 2А   \n",
       "43              Окей                 г Москва, ул Кировоградская, д 13А   \n",
       "58       Гиперглобус  г Москва, Сосенское п, п Коммунарка, ул Алекса...   \n",
       "109             Окей                        г Москва, ш Каширское, д 14   \n",
       "117      Гиперглобус   г Москва, км Новорижское шоссе 22-й, влд 1 стр 1   \n",
       "193      Гиперглобус  г Москва, км Киевское шоссе 23-й (п Московский...   \n",
       "240             Окей              г Москва, ш Дмитровское, влд 163А к 1   \n",
       "250             Окей                   г Москва, ш Головинское, д 5 к 1   \n",
       "324      Гиперглобус                         г Москва, ул Широкая, д 2А   \n",
       "338             Окей  г Москва, Московский п, г Московский, ул Хабар...   \n",
       "950             Окей                     г Москва, ш Дмитровское, д 98С   \n",
       "975             Окей                   г Москва, ул Святоозерская, д 1А   \n",
       "3432     Гиперглобус           г Москва, км Новорижское шоссе 22-й, д 1   \n",
       "5132            Окей                    г Москва, ш Дмитровское, д 163А   \n",
       "26345      Metro c&c                    г Москва, пр-кт Мира, д 211 к 1   \n",
       "49235    Гиперглобус            г Москва, пр-кт Волгоградский, д 42 к 9   \n",
       "66968      Metro c&c                       г Москва, ул Рябиновая, д 59   \n",
       "99194           Окей                     г Москва, ш Дмитровское, д 49Д   \n",
       "153648     Metro c&c                     г Москва, ул Дорожная, д 1 к 1   \n",
       "190584     Metro c&c                   г Москва, ш Ленинградское, д 71Г   \n",
       "357187          Окей                  г Москва, ш Дмитровское, влд 163А   \n",
       "591005     Metro c&c                       г Москва, км МКАД 104-й, д 6   \n",
       "1172280    Metro c&c         г Москва, Московский п, кв-л 34, д 3 стр 1   \n",
       "1233052         Окей                    г Москва, ш Дмитровское, д 107А   \n",
       "1234331         Окей                       г Москва, ш Дмитровское, к 1   \n",
       "1656407    Metro c&c              г Москва, ул Маршала Прошлякова, д 14   \n",
       "1883345    Metro c&c                    г Москва, ш Дмитровское, д 165Б   \n",
       "2075370         Окей                     г Москва, ш Дмитровское, д 165   \n",
       "2085497         Окей                     г Москва, ш Дмитровское, д 58А   \n",
       "2086659         Окей                   г Москва, ш Дмитровское, влд 91А   \n",
       "2368985         Окей                      г Москва, ш Дмитровское, д 41   \n",
       "2399569         Окей              г Москва, ш Дмитровское, д 107 стр 2а   \n",
       "2399908         Окей               г Москва, ш Дмитровское, д 157 стр 2   \n",
       "\n",
       "                lat         lon  \n",
       "0        55,6647196  37,4372193  \n",
       "7         55,845855   37,662093  \n",
       "10       55,7128634  37,8454195  \n",
       "43       55,6121172  37,6070486  \n",
       "58        55,557266   37,494368  \n",
       "109       55,664456   37,627059  \n",
       "117       55,801981   37,300674  \n",
       "193       55,623788   37,422027  \n",
       "240        55,90968   37,540721  \n",
       "250        55,84016  37,4915995  \n",
       "324      55,8873966  37,6392327  \n",
       "338      55,5939458  37,3518308  \n",
       "950       55,879157   37,547189  \n",
       "975      55,7146158  37,8835661  \n",
       "3432     55,8025796  37,3019609  \n",
       "5132       55,90968   37,540721  \n",
       "26345     55,844041    37,66265  \n",
       "49235    55,7076672   37,715361  \n",
       "66968    55,6858545  37,4317811  \n",
       "99194    55,8359577  37,5746979  \n",
       "153648   55,6307682  37,6249431  \n",
       "190584    55,875753   37,447279  \n",
       "357187     55,90968   37,540721  \n",
       "591005   55,8113123  37,8373703  \n",
       "1172280  55,6199842  37,3874065  \n",
       "1233052   55,880945    37,54118  \n",
       "1234331    55,87593   37,547719  \n",
       "1656407  55,7911159  37,3886894  \n",
       "1883345   55,915992   37,540084  \n",
       "2075370  55,9285654  37,5440174  \n",
       "2085497  55,8515572  37,5663772  \n",
       "2086659   55,870203   37,546893  \n",
       "2368985   55,833526   37,570788  \n",
       "2399569   55,878406  37,5413905  \n",
       "2399908   55,898498   37,542536  "
      ]
     },
     "execution_count": 58,
     "metadata": {},
     "output_type": "execute_result"
    }
   ],
   "source": [
    "# Сформируем список магазинов из csv-файла, прочитав только колонки 'client_NT', 'text_kktAddress', 'lat', 'lon'\n",
    "stores = pd.read_csv(filename, usecols=['client_NT', 'text_kktAddress', 'lat', 'lon'], encoding='utf-16').drop_duplicates()\n",
    "stores"
   ]
  },
  {
   "cell_type": "code",
   "execution_count": 66,
   "id": "dc42d345",
   "metadata": {},
   "outputs": [
    {
     "name": "stderr",
     "output_type": "stream",
     "text": [
      "C:\\Temp\\ipykernel_32464\\1226229930.py:6: DeprecationWarning:\n",
      "\n",
      "*scatter_mapbox* is deprecated! Use *scatter_map* instead. Learn more at: https://plotly.com/python/mapbox-to-maplibre/\n",
      "\n"
     ]
    },
    {
     "data": {
      "application/vnd.plotly.v1+json": {
       "config": {
        "plotlyServerURL": "https://plot.ly"
       },
       "data": [
        {
         "customdata": [
          [
           "г Москва, ул Озёрная, д 50"
          ],
          [
           "г Москва, пр-кт Мира, д 211 к 2"
          ],
          [
           "г Москва, ш Новоухтомское, д 2А"
          ],
          [
           "г Москва, ул Кировоградская, д 13А"
          ],
          [
           "г Москва, Сосенское п, п Коммунарка, ул Александры Монаховой, д 61 стр 1"
          ],
          [
           "г Москва, ш Каширское, д 14"
          ],
          [
           "г Москва, км Новорижское шоссе 22-й, влд 1 стр 1"
          ],
          [
           "г Москва, км Киевское шоссе 23-й (п Московский), д 1"
          ],
          [
           "г Москва, ш Дмитровское, влд 163А к 1"
          ],
          [
           "г Москва, ш Головинское, д 5 к 1"
          ],
          [
           "г Москва, ул Широкая, д 2А"
          ],
          [
           "г Москва, Московский п, г Московский, ул Хабарова, д 2"
          ],
          [
           "г Москва, ш Дмитровское, д 98С"
          ],
          [
           "г Москва, ул Святоозерская, д 1А"
          ],
          [
           "г Москва, км Новорижское шоссе 22-й, д 1"
          ],
          [
           "г Москва, ш Дмитровское, д 163А"
          ],
          [
           "г Москва, пр-кт Мира, д 211 к 1"
          ],
          [
           "г Москва, пр-кт Волгоградский, д 42 к 9"
          ],
          [
           "г Москва, ул Рябиновая, д 59"
          ],
          [
           "г Москва, ш Дмитровское, д 49Д"
          ],
          [
           "г Москва, ул Дорожная, д 1 к 1"
          ],
          [
           "г Москва, ш Ленинградское, д 71Г"
          ],
          [
           "г Москва, ш Дмитровское, влд 163А"
          ],
          [
           "г Москва, км МКАД 104-й, д 6"
          ],
          [
           "г Москва, Московский п, кв-л 34, д 3 стр 1"
          ],
          [
           "г Москва, ш Дмитровское, д 107А"
          ],
          [
           "г Москва, ш Дмитровское, к 1"
          ],
          [
           "г Москва, ул Маршала Прошлякова, д 14"
          ],
          [
           "г Москва, ш Дмитровское, д 165Б"
          ],
          [
           "г Москва, ш Дмитровское, д 165"
          ],
          [
           "г Москва, ш Дмитровское, д 58А"
          ],
          [
           "г Москва, ш Дмитровское, влд 91А"
          ],
          [
           "г Москва, ш Дмитровское, д 41"
          ],
          [
           "г Москва, ш Дмитровское, д 107 стр 2а"
          ],
          [
           "г Москва, ш Дмитровское, д 157 стр 2"
          ]
         ],
         "hovertemplate": "<b>%{hovertext}</b><br><br>lat=%{lat}<br>lon=%{lon}<br>text_kktAddress=%{customdata[0]}<extra></extra>",
         "hovertext": [
          "Окей",
          "Окей",
          "Гиперглобус",
          "Окей",
          "Гиперглобус",
          "Окей",
          "Гиперглобус",
          "Гиперглобус",
          "Окей",
          "Окей",
          "Гиперглобус",
          "Окей",
          "Окей",
          "Окей",
          "Гиперглобус",
          "Окей",
          "Metro c&c",
          "Гиперглобус",
          "Metro c&c",
          "Окей",
          "Metro c&c",
          "Metro c&c",
          "Окей",
          "Metro c&c",
          "Metro c&c",
          "Окей",
          "Окей",
          "Metro c&c",
          "Metro c&c",
          "Окей",
          "Окей",
          "Окей",
          "Окей",
          "Окей",
          "Окей"
         ],
         "lat": {
          "bdata": "ToEniBXVS0A8FAX6ROxLQPjBnhs/20tA2Kg921nOS0AclgZ+VMdLQMTQ6uQM1UtAtoE7UKfmS0CR0QFJ2M9LQKPp7GRw9EtAJLTlXIrrS0Byyjc2lvFLQFxMfWoGzEtAVYZxN4jwS0A5GtGHeNtLQOg3p+265ktAo+nsZHD0S0DXvRWJCexLQNg5vNaU2ktAP6iLFMrXS0BxK3OpAOtLQKstKwO90EtA3C+frBjwS0Cj6exkcPRLQNir2RTZ50tAs4RrpFvPS0CQSUbOwvBLQOrKZ3ke8EtAPewqSUPlS0DmstE5P/VLQDyZJDvb9ktAMFaK0//sS0DH8NjPYu9LQM8u3/qw6ktAGk6Zm2/wS0C9woL7AfNLQA==",
          "dtype": "f8"
         },
         "legendgroup": "",
         "lon": {
          "bdata": "C1dRzfa3QkCM9KJ2v9RCQEnzx7Q27EJAkgq+xLPNQkAvGFxzR79CQMzUJHhD0EJA9mBSfHymQkC2gxH7BLZCQFWhgVg2xUJAb51/u+y+QkBThIpg0tFCQN7cqcoIrUJAkN0FSgrGQkBZraexGPFCQNoVn6empkJAVaGBWDbFQkDiWBe30dRCQLzqAfOQ20JA9cNjmkS3QkA5ymazj8lCQDEusCL+z0JAA5gycEC5QkBVoYFYNsVCQCSSMvMu60JAAOFDiZaxQkDon+BiRcVCQOwy/KcbxkJAo6YCk8CxQkDji/Z4IcVCQDy6tlyixUJAm5lPDH/IQkCmtP6WAMZCQIF5yJQPyUJAu+6tSEzFQkCKc9TRccVCQA==",
          "dtype": "f8"
         },
         "marker": {
          "color": "red",
          "opacity": 0.8,
          "size": 14
         },
         "mode": "markers",
         "name": "",
         "showlegend": false,
         "subplot": "mapbox",
         "type": "scattermapbox"
        }
       ],
       "layout": {
        "height": 600,
        "legend": {
         "tracegroupgap": 0
        },
        "mapbox": {
         "center": {
          "lat": 55.79045764571428,
          "lon": 37.54984610857143
         },
         "domain": {
          "x": [
           0,
           1
          ],
          "y": [
           0,
           1
          ]
         },
         "style": "open-street-map",
         "zoom": 10
        },
        "margin": {
         "b": 0,
         "l": 0,
         "r": 0,
         "t": 40
        },
        "template": {
         "data": {
          "bar": [
           {
            "error_x": {
             "color": "#2a3f5f"
            },
            "error_y": {
             "color": "#2a3f5f"
            },
            "marker": {
             "line": {
              "color": "#E5ECF6",
              "width": 0.5
             },
             "pattern": {
              "fillmode": "overlay",
              "size": 10,
              "solidity": 0.2
             }
            },
            "type": "bar"
           }
          ],
          "barpolar": [
           {
            "marker": {
             "line": {
              "color": "#E5ECF6",
              "width": 0.5
             },
             "pattern": {
              "fillmode": "overlay",
              "size": 10,
              "solidity": 0.2
             }
            },
            "type": "barpolar"
           }
          ],
          "carpet": [
           {
            "aaxis": {
             "endlinecolor": "#2a3f5f",
             "gridcolor": "white",
             "linecolor": "white",
             "minorgridcolor": "white",
             "startlinecolor": "#2a3f5f"
            },
            "baxis": {
             "endlinecolor": "#2a3f5f",
             "gridcolor": "white",
             "linecolor": "white",
             "minorgridcolor": "white",
             "startlinecolor": "#2a3f5f"
            },
            "type": "carpet"
           }
          ],
          "choropleth": [
           {
            "colorbar": {
             "outlinewidth": 0,
             "ticks": ""
            },
            "type": "choropleth"
           }
          ],
          "contour": [
           {
            "colorbar": {
             "outlinewidth": 0,
             "ticks": ""
            },
            "colorscale": [
             [
              0,
              "#0d0887"
             ],
             [
              0.1111111111111111,
              "#46039f"
             ],
             [
              0.2222222222222222,
              "#7201a8"
             ],
             [
              0.3333333333333333,
              "#9c179e"
             ],
             [
              0.4444444444444444,
              "#bd3786"
             ],
             [
              0.5555555555555556,
              "#d8576b"
             ],
             [
              0.6666666666666666,
              "#ed7953"
             ],
             [
              0.7777777777777778,
              "#fb9f3a"
             ],
             [
              0.8888888888888888,
              "#fdca26"
             ],
             [
              1,
              "#f0f921"
             ]
            ],
            "type": "contour"
           }
          ],
          "contourcarpet": [
           {
            "colorbar": {
             "outlinewidth": 0,
             "ticks": ""
            },
            "type": "contourcarpet"
           }
          ],
          "heatmap": [
           {
            "colorbar": {
             "outlinewidth": 0,
             "ticks": ""
            },
            "colorscale": [
             [
              0,
              "#0d0887"
             ],
             [
              0.1111111111111111,
              "#46039f"
             ],
             [
              0.2222222222222222,
              "#7201a8"
             ],
             [
              0.3333333333333333,
              "#9c179e"
             ],
             [
              0.4444444444444444,
              "#bd3786"
             ],
             [
              0.5555555555555556,
              "#d8576b"
             ],
             [
              0.6666666666666666,
              "#ed7953"
             ],
             [
              0.7777777777777778,
              "#fb9f3a"
             ],
             [
              0.8888888888888888,
              "#fdca26"
             ],
             [
              1,
              "#f0f921"
             ]
            ],
            "type": "heatmap"
           }
          ],
          "histogram": [
           {
            "marker": {
             "pattern": {
              "fillmode": "overlay",
              "size": 10,
              "solidity": 0.2
             }
            },
            "type": "histogram"
           }
          ],
          "histogram2d": [
           {
            "colorbar": {
             "outlinewidth": 0,
             "ticks": ""
            },
            "colorscale": [
             [
              0,
              "#0d0887"
             ],
             [
              0.1111111111111111,
              "#46039f"
             ],
             [
              0.2222222222222222,
              "#7201a8"
             ],
             [
              0.3333333333333333,
              "#9c179e"
             ],
             [
              0.4444444444444444,
              "#bd3786"
             ],
             [
              0.5555555555555556,
              "#d8576b"
             ],
             [
              0.6666666666666666,
              "#ed7953"
             ],
             [
              0.7777777777777778,
              "#fb9f3a"
             ],
             [
              0.8888888888888888,
              "#fdca26"
             ],
             [
              1,
              "#f0f921"
             ]
            ],
            "type": "histogram2d"
           }
          ],
          "histogram2dcontour": [
           {
            "colorbar": {
             "outlinewidth": 0,
             "ticks": ""
            },
            "colorscale": [
             [
              0,
              "#0d0887"
             ],
             [
              0.1111111111111111,
              "#46039f"
             ],
             [
              0.2222222222222222,
              "#7201a8"
             ],
             [
              0.3333333333333333,
              "#9c179e"
             ],
             [
              0.4444444444444444,
              "#bd3786"
             ],
             [
              0.5555555555555556,
              "#d8576b"
             ],
             [
              0.6666666666666666,
              "#ed7953"
             ],
             [
              0.7777777777777778,
              "#fb9f3a"
             ],
             [
              0.8888888888888888,
              "#fdca26"
             ],
             [
              1,
              "#f0f921"
             ]
            ],
            "type": "histogram2dcontour"
           }
          ],
          "mesh3d": [
           {
            "colorbar": {
             "outlinewidth": 0,
             "ticks": ""
            },
            "type": "mesh3d"
           }
          ],
          "parcoords": [
           {
            "line": {
             "colorbar": {
              "outlinewidth": 0,
              "ticks": ""
             }
            },
            "type": "parcoords"
           }
          ],
          "pie": [
           {
            "automargin": true,
            "type": "pie"
           }
          ],
          "scatter": [
           {
            "fillpattern": {
             "fillmode": "overlay",
             "size": 10,
             "solidity": 0.2
            },
            "type": "scatter"
           }
          ],
          "scatter3d": [
           {
            "line": {
             "colorbar": {
              "outlinewidth": 0,
              "ticks": ""
             }
            },
            "marker": {
             "colorbar": {
              "outlinewidth": 0,
              "ticks": ""
             }
            },
            "type": "scatter3d"
           }
          ],
          "scattercarpet": [
           {
            "marker": {
             "colorbar": {
              "outlinewidth": 0,
              "ticks": ""
             }
            },
            "type": "scattercarpet"
           }
          ],
          "scattergeo": [
           {
            "marker": {
             "colorbar": {
              "outlinewidth": 0,
              "ticks": ""
             }
            },
            "type": "scattergeo"
           }
          ],
          "scattergl": [
           {
            "marker": {
             "colorbar": {
              "outlinewidth": 0,
              "ticks": ""
             }
            },
            "type": "scattergl"
           }
          ],
          "scattermap": [
           {
            "marker": {
             "colorbar": {
              "outlinewidth": 0,
              "ticks": ""
             }
            },
            "type": "scattermap"
           }
          ],
          "scattermapbox": [
           {
            "marker": {
             "colorbar": {
              "outlinewidth": 0,
              "ticks": ""
             }
            },
            "type": "scattermapbox"
           }
          ],
          "scatterpolar": [
           {
            "marker": {
             "colorbar": {
              "outlinewidth": 0,
              "ticks": ""
             }
            },
            "type": "scatterpolar"
           }
          ],
          "scatterpolargl": [
           {
            "marker": {
             "colorbar": {
              "outlinewidth": 0,
              "ticks": ""
             }
            },
            "type": "scatterpolargl"
           }
          ],
          "scatterternary": [
           {
            "marker": {
             "colorbar": {
              "outlinewidth": 0,
              "ticks": ""
             }
            },
            "type": "scatterternary"
           }
          ],
          "surface": [
           {
            "colorbar": {
             "outlinewidth": 0,
             "ticks": ""
            },
            "colorscale": [
             [
              0,
              "#0d0887"
             ],
             [
              0.1111111111111111,
              "#46039f"
             ],
             [
              0.2222222222222222,
              "#7201a8"
             ],
             [
              0.3333333333333333,
              "#9c179e"
             ],
             [
              0.4444444444444444,
              "#bd3786"
             ],
             [
              0.5555555555555556,
              "#d8576b"
             ],
             [
              0.6666666666666666,
              "#ed7953"
             ],
             [
              0.7777777777777778,
              "#fb9f3a"
             ],
             [
              0.8888888888888888,
              "#fdca26"
             ],
             [
              1,
              "#f0f921"
             ]
            ],
            "type": "surface"
           }
          ],
          "table": [
           {
            "cells": {
             "fill": {
              "color": "#EBF0F8"
             },
             "line": {
              "color": "white"
             }
            },
            "header": {
             "fill": {
              "color": "#C8D4E3"
             },
             "line": {
              "color": "white"
             }
            },
            "type": "table"
           }
          ]
         },
         "layout": {
          "annotationdefaults": {
           "arrowcolor": "#2a3f5f",
           "arrowhead": 0,
           "arrowwidth": 1
          },
          "autotypenumbers": "strict",
          "coloraxis": {
           "colorbar": {
            "outlinewidth": 0,
            "ticks": ""
           }
          },
          "colorscale": {
           "diverging": [
            [
             0,
             "#8e0152"
            ],
            [
             0.1,
             "#c51b7d"
            ],
            [
             0.2,
             "#de77ae"
            ],
            [
             0.3,
             "#f1b6da"
            ],
            [
             0.4,
             "#fde0ef"
            ],
            [
             0.5,
             "#f7f7f7"
            ],
            [
             0.6,
             "#e6f5d0"
            ],
            [
             0.7,
             "#b8e186"
            ],
            [
             0.8,
             "#7fbc41"
            ],
            [
             0.9,
             "#4d9221"
            ],
            [
             1,
             "#276419"
            ]
           ],
           "sequential": [
            [
             0,
             "#0d0887"
            ],
            [
             0.1111111111111111,
             "#46039f"
            ],
            [
             0.2222222222222222,
             "#7201a8"
            ],
            [
             0.3333333333333333,
             "#9c179e"
            ],
            [
             0.4444444444444444,
             "#bd3786"
            ],
            [
             0.5555555555555556,
             "#d8576b"
            ],
            [
             0.6666666666666666,
             "#ed7953"
            ],
            [
             0.7777777777777778,
             "#fb9f3a"
            ],
            [
             0.8888888888888888,
             "#fdca26"
            ],
            [
             1,
             "#f0f921"
            ]
           ],
           "sequentialminus": [
            [
             0,
             "#0d0887"
            ],
            [
             0.1111111111111111,
             "#46039f"
            ],
            [
             0.2222222222222222,
             "#7201a8"
            ],
            [
             0.3333333333333333,
             "#9c179e"
            ],
            [
             0.4444444444444444,
             "#bd3786"
            ],
            [
             0.5555555555555556,
             "#d8576b"
            ],
            [
             0.6666666666666666,
             "#ed7953"
            ],
            [
             0.7777777777777778,
             "#fb9f3a"
            ],
            [
             0.8888888888888888,
             "#fdca26"
            ],
            [
             1,
             "#f0f921"
            ]
           ]
          },
          "colorway": [
           "#636efa",
           "#EF553B",
           "#00cc96",
           "#ab63fa",
           "#FFA15A",
           "#19d3f3",
           "#FF6692",
           "#B6E880",
           "#FF97FF",
           "#FECB52"
          ],
          "font": {
           "color": "#2a3f5f"
          },
          "geo": {
           "bgcolor": "white",
           "lakecolor": "white",
           "landcolor": "#E5ECF6",
           "showlakes": true,
           "showland": true,
           "subunitcolor": "white"
          },
          "hoverlabel": {
           "align": "left"
          },
          "hovermode": "closest",
          "mapbox": {
           "style": "light"
          },
          "paper_bgcolor": "white",
          "plot_bgcolor": "#E5ECF6",
          "polar": {
           "angularaxis": {
            "gridcolor": "white",
            "linecolor": "white",
            "ticks": ""
           },
           "bgcolor": "#E5ECF6",
           "radialaxis": {
            "gridcolor": "white",
            "linecolor": "white",
            "ticks": ""
           }
          },
          "scene": {
           "xaxis": {
            "backgroundcolor": "#E5ECF6",
            "gridcolor": "white",
            "gridwidth": 2,
            "linecolor": "white",
            "showbackground": true,
            "ticks": "",
            "zerolinecolor": "white"
           },
           "yaxis": {
            "backgroundcolor": "#E5ECF6",
            "gridcolor": "white",
            "gridwidth": 2,
            "linecolor": "white",
            "showbackground": true,
            "ticks": "",
            "zerolinecolor": "white"
           },
           "zaxis": {
            "backgroundcolor": "#E5ECF6",
            "gridcolor": "white",
            "gridwidth": 2,
            "linecolor": "white",
            "showbackground": true,
            "ticks": "",
            "zerolinecolor": "white"
           }
          },
          "shapedefaults": {
           "line": {
            "color": "#2a3f5f"
           }
          },
          "ternary": {
           "aaxis": {
            "gridcolor": "white",
            "linecolor": "white",
            "ticks": ""
           },
           "baxis": {
            "gridcolor": "white",
            "linecolor": "white",
            "ticks": ""
           },
           "bgcolor": "#E5ECF6",
           "caxis": {
            "gridcolor": "white",
            "linecolor": "white",
            "ticks": ""
           }
          },
          "title": {
           "x": 0.05
          },
          "xaxis": {
           "automargin": true,
           "gridcolor": "white",
           "linecolor": "white",
           "ticks": "",
           "title": {
            "standoff": 15
           },
           "zerolinecolor": "white",
           "zerolinewidth": 2
          },
          "yaxis": {
           "automargin": true,
           "gridcolor": "white",
           "linecolor": "white",
           "ticks": "",
           "title": {
            "standoff": 15
           },
           "zerolinecolor": "white",
           "zerolinewidth": 2
          }
         }
        },
        "title": {
         "text": "Расположение магазинов"
        }
       }
      },
      "text/html": [
       "<div>            <script src=\"https://cdnjs.cloudflare.com/ajax/libs/mathjax/2.7.5/MathJax.js?config=TeX-AMS-MML_SVG\"></script><script type=\"text/javascript\">if (window.MathJax && window.MathJax.Hub && window.MathJax.Hub.Config) {window.MathJax.Hub.Config({SVG: {font: \"STIX-Web\"}});}</script>                <script type=\"text/javascript\">window.PlotlyConfig = {MathJaxConfig: 'local'};</script>\n",
       "        <script charset=\"utf-8\" src=\"https://cdn.plot.ly/plotly-3.0.1.min.js\"></script>                <div id=\"22f31608-f8e0-440a-83fe-02231ddd0f18\" class=\"plotly-graph-div\" style=\"height:600px; width:100%;\"></div>            <script type=\"text/javascript\">                window.PLOTLYENV=window.PLOTLYENV || {};                                if (document.getElementById(\"22f31608-f8e0-440a-83fe-02231ddd0f18\")) {                    Plotly.newPlot(                        \"22f31608-f8e0-440a-83fe-02231ddd0f18\",                        [{\"customdata\":[[\"\\u0433 \\u041c\\u043e\\u0441\\u043a\\u0432\\u0430, \\u0443\\u043b \\u041e\\u0437\\u0451\\u0440\\u043d\\u0430\\u044f, \\u0434 50\"],[\"\\u0433 \\u041c\\u043e\\u0441\\u043a\\u0432\\u0430, \\u043f\\u0440-\\u043a\\u0442 \\u041c\\u0438\\u0440\\u0430, \\u0434 211 \\u043a 2\"],[\"\\u0433 \\u041c\\u043e\\u0441\\u043a\\u0432\\u0430, \\u0448 \\u041d\\u043e\\u0432\\u043e\\u0443\\u0445\\u0442\\u043e\\u043c\\u0441\\u043a\\u043e\\u0435, \\u0434 2\\u0410\"],[\"\\u0433 \\u041c\\u043e\\u0441\\u043a\\u0432\\u0430, \\u0443\\u043b \\u041a\\u0438\\u0440\\u043e\\u0432\\u043e\\u0433\\u0440\\u0430\\u0434\\u0441\\u043a\\u0430\\u044f, \\u0434 13\\u0410\"],[\"\\u0433 \\u041c\\u043e\\u0441\\u043a\\u0432\\u0430, \\u0421\\u043e\\u0441\\u0435\\u043d\\u0441\\u043a\\u043e\\u0435 \\u043f, \\u043f \\u041a\\u043e\\u043c\\u043c\\u0443\\u043d\\u0430\\u0440\\u043a\\u0430, \\u0443\\u043b \\u0410\\u043b\\u0435\\u043a\\u0441\\u0430\\u043d\\u0434\\u0440\\u044b \\u041c\\u043e\\u043d\\u0430\\u0445\\u043e\\u0432\\u043e\\u0439, \\u0434 61 \\u0441\\u0442\\u0440 1\"],[\"\\u0433 \\u041c\\u043e\\u0441\\u043a\\u0432\\u0430, \\u0448 \\u041a\\u0430\\u0448\\u0438\\u0440\\u0441\\u043a\\u043e\\u0435, \\u0434 14\"],[\"\\u0433 \\u041c\\u043e\\u0441\\u043a\\u0432\\u0430, \\u043a\\u043c \\u041d\\u043e\\u0432\\u043e\\u0440\\u0438\\u0436\\u0441\\u043a\\u043e\\u0435 \\u0448\\u043e\\u0441\\u0441\\u0435 22-\\u0439, \\u0432\\u043b\\u0434 1 \\u0441\\u0442\\u0440 1\"],[\"\\u0433 \\u041c\\u043e\\u0441\\u043a\\u0432\\u0430, \\u043a\\u043c \\u041a\\u0438\\u0435\\u0432\\u0441\\u043a\\u043e\\u0435 \\u0448\\u043e\\u0441\\u0441\\u0435 23-\\u0439 (\\u043f \\u041c\\u043e\\u0441\\u043a\\u043e\\u0432\\u0441\\u043a\\u0438\\u0439), \\u0434 1\"],[\"\\u0433 \\u041c\\u043e\\u0441\\u043a\\u0432\\u0430, \\u0448 \\u0414\\u043c\\u0438\\u0442\\u0440\\u043e\\u0432\\u0441\\u043a\\u043e\\u0435, \\u0432\\u043b\\u0434 163\\u0410 \\u043a 1\"],[\"\\u0433 \\u041c\\u043e\\u0441\\u043a\\u0432\\u0430, \\u0448 \\u0413\\u043e\\u043b\\u043e\\u0432\\u0438\\u043d\\u0441\\u043a\\u043e\\u0435, \\u0434 5 \\u043a 1\"],[\"\\u0433 \\u041c\\u043e\\u0441\\u043a\\u0432\\u0430, \\u0443\\u043b \\u0428\\u0438\\u0440\\u043e\\u043a\\u0430\\u044f, \\u0434 2\\u0410\"],[\"\\u0433 \\u041c\\u043e\\u0441\\u043a\\u0432\\u0430, \\u041c\\u043e\\u0441\\u043a\\u043e\\u0432\\u0441\\u043a\\u0438\\u0439 \\u043f, \\u0433 \\u041c\\u043e\\u0441\\u043a\\u043e\\u0432\\u0441\\u043a\\u0438\\u0439, \\u0443\\u043b \\u0425\\u0430\\u0431\\u0430\\u0440\\u043e\\u0432\\u0430, \\u0434 2\"],[\"\\u0433 \\u041c\\u043e\\u0441\\u043a\\u0432\\u0430, \\u0448 \\u0414\\u043c\\u0438\\u0442\\u0440\\u043e\\u0432\\u0441\\u043a\\u043e\\u0435, \\u0434 98\\u0421\"],[\"\\u0433 \\u041c\\u043e\\u0441\\u043a\\u0432\\u0430, \\u0443\\u043b \\u0421\\u0432\\u044f\\u0442\\u043e\\u043e\\u0437\\u0435\\u0440\\u0441\\u043a\\u0430\\u044f, \\u0434 1\\u0410\"],[\"\\u0433 \\u041c\\u043e\\u0441\\u043a\\u0432\\u0430, \\u043a\\u043c \\u041d\\u043e\\u0432\\u043e\\u0440\\u0438\\u0436\\u0441\\u043a\\u043e\\u0435 \\u0448\\u043e\\u0441\\u0441\\u0435 22-\\u0439, \\u0434 1\"],[\"\\u0433 \\u041c\\u043e\\u0441\\u043a\\u0432\\u0430, \\u0448 \\u0414\\u043c\\u0438\\u0442\\u0440\\u043e\\u0432\\u0441\\u043a\\u043e\\u0435, \\u0434 163\\u0410\"],[\"\\u0433 \\u041c\\u043e\\u0441\\u043a\\u0432\\u0430, \\u043f\\u0440-\\u043a\\u0442 \\u041c\\u0438\\u0440\\u0430, \\u0434 211 \\u043a 1\"],[\"\\u0433 \\u041c\\u043e\\u0441\\u043a\\u0432\\u0430, \\u043f\\u0440-\\u043a\\u0442 \\u0412\\u043e\\u043b\\u0433\\u043e\\u0433\\u0440\\u0430\\u0434\\u0441\\u043a\\u0438\\u0439, \\u0434 42 \\u043a 9\"],[\"\\u0433 \\u041c\\u043e\\u0441\\u043a\\u0432\\u0430, \\u0443\\u043b \\u0420\\u044f\\u0431\\u0438\\u043d\\u043e\\u0432\\u0430\\u044f, \\u0434 59\"],[\"\\u0433 \\u041c\\u043e\\u0441\\u043a\\u0432\\u0430, \\u0448 \\u0414\\u043c\\u0438\\u0442\\u0440\\u043e\\u0432\\u0441\\u043a\\u043e\\u0435, \\u0434 49\\u0414\"],[\"\\u0433 \\u041c\\u043e\\u0441\\u043a\\u0432\\u0430, \\u0443\\u043b \\u0414\\u043e\\u0440\\u043e\\u0436\\u043d\\u0430\\u044f, \\u0434 1 \\u043a 1\"],[\"\\u0433 \\u041c\\u043e\\u0441\\u043a\\u0432\\u0430, \\u0448 \\u041b\\u0435\\u043d\\u0438\\u043d\\u0433\\u0440\\u0430\\u0434\\u0441\\u043a\\u043e\\u0435, \\u0434 71\\u0413\"],[\"\\u0433 \\u041c\\u043e\\u0441\\u043a\\u0432\\u0430, \\u0448 \\u0414\\u043c\\u0438\\u0442\\u0440\\u043e\\u0432\\u0441\\u043a\\u043e\\u0435, \\u0432\\u043b\\u0434 163\\u0410\"],[\"\\u0433 \\u041c\\u043e\\u0441\\u043a\\u0432\\u0430, \\u043a\\u043c \\u041c\\u041a\\u0410\\u0414 104-\\u0439, \\u0434 6\"],[\"\\u0433 \\u041c\\u043e\\u0441\\u043a\\u0432\\u0430, \\u041c\\u043e\\u0441\\u043a\\u043e\\u0432\\u0441\\u043a\\u0438\\u0439 \\u043f, \\u043a\\u0432-\\u043b 34, \\u0434 3 \\u0441\\u0442\\u0440 1\"],[\"\\u0433 \\u041c\\u043e\\u0441\\u043a\\u0432\\u0430, \\u0448 \\u0414\\u043c\\u0438\\u0442\\u0440\\u043e\\u0432\\u0441\\u043a\\u043e\\u0435, \\u0434 107\\u0410\"],[\"\\u0433 \\u041c\\u043e\\u0441\\u043a\\u0432\\u0430, \\u0448 \\u0414\\u043c\\u0438\\u0442\\u0440\\u043e\\u0432\\u0441\\u043a\\u043e\\u0435, \\u043a 1\"],[\"\\u0433 \\u041c\\u043e\\u0441\\u043a\\u0432\\u0430, \\u0443\\u043b \\u041c\\u0430\\u0440\\u0448\\u0430\\u043b\\u0430 \\u041f\\u0440\\u043e\\u0448\\u043b\\u044f\\u043a\\u043e\\u0432\\u0430, \\u0434 14\"],[\"\\u0433 \\u041c\\u043e\\u0441\\u043a\\u0432\\u0430, \\u0448 \\u0414\\u043c\\u0438\\u0442\\u0440\\u043e\\u0432\\u0441\\u043a\\u043e\\u0435, \\u0434 165\\u0411\"],[\"\\u0433 \\u041c\\u043e\\u0441\\u043a\\u0432\\u0430, \\u0448 \\u0414\\u043c\\u0438\\u0442\\u0440\\u043e\\u0432\\u0441\\u043a\\u043e\\u0435, \\u0434 165\"],[\"\\u0433 \\u041c\\u043e\\u0441\\u043a\\u0432\\u0430, \\u0448 \\u0414\\u043c\\u0438\\u0442\\u0440\\u043e\\u0432\\u0441\\u043a\\u043e\\u0435, \\u0434 58\\u0410\"],[\"\\u0433 \\u041c\\u043e\\u0441\\u043a\\u0432\\u0430, \\u0448 \\u0414\\u043c\\u0438\\u0442\\u0440\\u043e\\u0432\\u0441\\u043a\\u043e\\u0435, \\u0432\\u043b\\u0434 91\\u0410\"],[\"\\u0433 \\u041c\\u043e\\u0441\\u043a\\u0432\\u0430, \\u0448 \\u0414\\u043c\\u0438\\u0442\\u0440\\u043e\\u0432\\u0441\\u043a\\u043e\\u0435, \\u0434 41\"],[\"\\u0433 \\u041c\\u043e\\u0441\\u043a\\u0432\\u0430, \\u0448 \\u0414\\u043c\\u0438\\u0442\\u0440\\u043e\\u0432\\u0441\\u043a\\u043e\\u0435, \\u0434 107 \\u0441\\u0442\\u0440 2\\u0430\"],[\"\\u0433 \\u041c\\u043e\\u0441\\u043a\\u0432\\u0430, \\u0448 \\u0414\\u043c\\u0438\\u0442\\u0440\\u043e\\u0432\\u0441\\u043a\\u043e\\u0435, \\u0434 157 \\u0441\\u0442\\u0440 2\"]],\"hovertemplate\":\"\\u003cb\\u003e%{hovertext}\\u003c\\u002fb\\u003e\\u003cbr\\u003e\\u003cbr\\u003elat=%{lat}\\u003cbr\\u003elon=%{lon}\\u003cbr\\u003etext_kktAddress=%{customdata[0]}\\u003cextra\\u003e\\u003c\\u002fextra\\u003e\",\"hovertext\":[\"\\u041e\\u043a\\u0435\\u0439\",\"\\u041e\\u043a\\u0435\\u0439\",\"\\u0413\\u0438\\u043f\\u0435\\u0440\\u0433\\u043b\\u043e\\u0431\\u0443\\u0441\",\"\\u041e\\u043a\\u0435\\u0439\",\"\\u0413\\u0438\\u043f\\u0435\\u0440\\u0433\\u043b\\u043e\\u0431\\u0443\\u0441\",\"\\u041e\\u043a\\u0435\\u0439\",\"\\u0413\\u0438\\u043f\\u0435\\u0440\\u0433\\u043b\\u043e\\u0431\\u0443\\u0441\",\"\\u0413\\u0438\\u043f\\u0435\\u0440\\u0433\\u043b\\u043e\\u0431\\u0443\\u0441\",\"\\u041e\\u043a\\u0435\\u0439\",\"\\u041e\\u043a\\u0435\\u0439\",\"\\u0413\\u0438\\u043f\\u0435\\u0440\\u0433\\u043b\\u043e\\u0431\\u0443\\u0441\",\"\\u041e\\u043a\\u0435\\u0439\",\"\\u041e\\u043a\\u0435\\u0439\",\"\\u041e\\u043a\\u0435\\u0439\",\"\\u0413\\u0438\\u043f\\u0435\\u0440\\u0433\\u043b\\u043e\\u0431\\u0443\\u0441\",\"\\u041e\\u043a\\u0435\\u0439\",\"Metro c&c\",\"\\u0413\\u0438\\u043f\\u0435\\u0440\\u0433\\u043b\\u043e\\u0431\\u0443\\u0441\",\"Metro c&c\",\"\\u041e\\u043a\\u0435\\u0439\",\"Metro c&c\",\"Metro c&c\",\"\\u041e\\u043a\\u0435\\u0439\",\"Metro c&c\",\"Metro c&c\",\"\\u041e\\u043a\\u0435\\u0439\",\"\\u041e\\u043a\\u0435\\u0439\",\"Metro c&c\",\"Metro c&c\",\"\\u041e\\u043a\\u0435\\u0439\",\"\\u041e\\u043a\\u0435\\u0439\",\"\\u041e\\u043a\\u0435\\u0439\",\"\\u041e\\u043a\\u0435\\u0439\",\"\\u041e\\u043a\\u0435\\u0439\",\"\\u041e\\u043a\\u0435\\u0439\"],\"lat\":{\"dtype\":\"f8\",\"bdata\":\"ToEniBXVS0A8FAX6ROxLQPjBnhs\\u002f20tA2Kg921nOS0AclgZ+VMdLQMTQ6uQM1UtAtoE7UKfmS0CR0QFJ2M9LQKPp7GRw9EtAJLTlXIrrS0Byyjc2lvFLQFxMfWoGzEtAVYZxN4jwS0A5GtGHeNtLQOg3p+265ktAo+nsZHD0S0DXvRWJCexLQNg5vNaU2ktAP6iLFMrXS0BxK3OpAOtLQKstKwO90EtA3C+frBjwS0Cj6exkcPRLQNir2RTZ50tAs4RrpFvPS0CQSUbOwvBLQOrKZ3ke8EtAPewqSUPlS0DmstE5P\\u002fVLQDyZJDvb9ktAMFaK0\\u002f\\u002fsS0DH8NjPYu9LQM8u3\\u002fqw6ktAGk6Zm2\\u002fwS0C9woL7AfNLQA==\"},\"legendgroup\":\"\",\"lon\":{\"dtype\":\"f8\",\"bdata\":\"C1dRzfa3QkCM9KJ2v9RCQEnzx7Q27EJAkgq+xLPNQkAvGFxzR79CQMzUJHhD0EJA9mBSfHymQkC2gxH7BLZCQFWhgVg2xUJAb51\\u002fu+y+QkBThIpg0tFCQN7cqcoIrUJAkN0FSgrGQkBZraexGPFCQNoVn6empkJAVaGBWDbFQkDiWBe30dRCQLzqAfOQ20JA9cNjmkS3QkA5ymazj8lCQDEusCL+z0JAA5gycEC5QkBVoYFYNsVCQCSSMvMu60JAAOFDiZaxQkDon+BiRcVCQOwy\\u002fKcbxkJAo6YCk8CxQkDji\\u002fZ4IcVCQDy6tlyixUJAm5lPDH\\u002fIQkCmtP6WAMZCQIF5yJQPyUJAu+6tSEzFQkCKc9TRccVCQA==\"},\"marker\":{\"color\":\"red\",\"opacity\":0.8,\"size\":14},\"mode\":\"markers\",\"name\":\"\",\"showlegend\":false,\"subplot\":\"mapbox\",\"type\":\"scattermapbox\"}],                        {\"template\":{\"data\":{\"histogram2dcontour\":[{\"type\":\"histogram2dcontour\",\"colorbar\":{\"outlinewidth\":0,\"ticks\":\"\"},\"colorscale\":[[0.0,\"#0d0887\"],[0.1111111111111111,\"#46039f\"],[0.2222222222222222,\"#7201a8\"],[0.3333333333333333,\"#9c179e\"],[0.4444444444444444,\"#bd3786\"],[0.5555555555555556,\"#d8576b\"],[0.6666666666666666,\"#ed7953\"],[0.7777777777777778,\"#fb9f3a\"],[0.8888888888888888,\"#fdca26\"],[1.0,\"#f0f921\"]]}],\"choropleth\":[{\"type\":\"choropleth\",\"colorbar\":{\"outlinewidth\":0,\"ticks\":\"\"}}],\"histogram2d\":[{\"type\":\"histogram2d\",\"colorbar\":{\"outlinewidth\":0,\"ticks\":\"\"},\"colorscale\":[[0.0,\"#0d0887\"],[0.1111111111111111,\"#46039f\"],[0.2222222222222222,\"#7201a8\"],[0.3333333333333333,\"#9c179e\"],[0.4444444444444444,\"#bd3786\"],[0.5555555555555556,\"#d8576b\"],[0.6666666666666666,\"#ed7953\"],[0.7777777777777778,\"#fb9f3a\"],[0.8888888888888888,\"#fdca26\"],[1.0,\"#f0f921\"]]}],\"heatmap\":[{\"type\":\"heatmap\",\"colorbar\":{\"outlinewidth\":0,\"ticks\":\"\"},\"colorscale\":[[0.0,\"#0d0887\"],[0.1111111111111111,\"#46039f\"],[0.2222222222222222,\"#7201a8\"],[0.3333333333333333,\"#9c179e\"],[0.4444444444444444,\"#bd3786\"],[0.5555555555555556,\"#d8576b\"],[0.6666666666666666,\"#ed7953\"],[0.7777777777777778,\"#fb9f3a\"],[0.8888888888888888,\"#fdca26\"],[1.0,\"#f0f921\"]]}],\"contourcarpet\":[{\"type\":\"contourcarpet\",\"colorbar\":{\"outlinewidth\":0,\"ticks\":\"\"}}],\"contour\":[{\"type\":\"contour\",\"colorbar\":{\"outlinewidth\":0,\"ticks\":\"\"},\"colorscale\":[[0.0,\"#0d0887\"],[0.1111111111111111,\"#46039f\"],[0.2222222222222222,\"#7201a8\"],[0.3333333333333333,\"#9c179e\"],[0.4444444444444444,\"#bd3786\"],[0.5555555555555556,\"#d8576b\"],[0.6666666666666666,\"#ed7953\"],[0.7777777777777778,\"#fb9f3a\"],[0.8888888888888888,\"#fdca26\"],[1.0,\"#f0f921\"]]}],\"surface\":[{\"type\":\"surface\",\"colorbar\":{\"outlinewidth\":0,\"ticks\":\"\"},\"colorscale\":[[0.0,\"#0d0887\"],[0.1111111111111111,\"#46039f\"],[0.2222222222222222,\"#7201a8\"],[0.3333333333333333,\"#9c179e\"],[0.4444444444444444,\"#bd3786\"],[0.5555555555555556,\"#d8576b\"],[0.6666666666666666,\"#ed7953\"],[0.7777777777777778,\"#fb9f3a\"],[0.8888888888888888,\"#fdca26\"],[1.0,\"#f0f921\"]]}],\"mesh3d\":[{\"type\":\"mesh3d\",\"colorbar\":{\"outlinewidth\":0,\"ticks\":\"\"}}],\"scatter\":[{\"fillpattern\":{\"fillmode\":\"overlay\",\"size\":10,\"solidity\":0.2},\"type\":\"scatter\"}],\"parcoords\":[{\"type\":\"parcoords\",\"line\":{\"colorbar\":{\"outlinewidth\":0,\"ticks\":\"\"}}}],\"scatterpolargl\":[{\"type\":\"scatterpolargl\",\"marker\":{\"colorbar\":{\"outlinewidth\":0,\"ticks\":\"\"}}}],\"bar\":[{\"error_x\":{\"color\":\"#2a3f5f\"},\"error_y\":{\"color\":\"#2a3f5f\"},\"marker\":{\"line\":{\"color\":\"#E5ECF6\",\"width\":0.5},\"pattern\":{\"fillmode\":\"overlay\",\"size\":10,\"solidity\":0.2}},\"type\":\"bar\"}],\"scattergeo\":[{\"type\":\"scattergeo\",\"marker\":{\"colorbar\":{\"outlinewidth\":0,\"ticks\":\"\"}}}],\"scatterpolar\":[{\"type\":\"scatterpolar\",\"marker\":{\"colorbar\":{\"outlinewidth\":0,\"ticks\":\"\"}}}],\"histogram\":[{\"marker\":{\"pattern\":{\"fillmode\":\"overlay\",\"size\":10,\"solidity\":0.2}},\"type\":\"histogram\"}],\"scattergl\":[{\"type\":\"scattergl\",\"marker\":{\"colorbar\":{\"outlinewidth\":0,\"ticks\":\"\"}}}],\"scatter3d\":[{\"type\":\"scatter3d\",\"line\":{\"colorbar\":{\"outlinewidth\":0,\"ticks\":\"\"}},\"marker\":{\"colorbar\":{\"outlinewidth\":0,\"ticks\":\"\"}}}],\"scattermap\":[{\"type\":\"scattermap\",\"marker\":{\"colorbar\":{\"outlinewidth\":0,\"ticks\":\"\"}}}],\"scattermapbox\":[{\"type\":\"scattermapbox\",\"marker\":{\"colorbar\":{\"outlinewidth\":0,\"ticks\":\"\"}}}],\"scatterternary\":[{\"type\":\"scatterternary\",\"marker\":{\"colorbar\":{\"outlinewidth\":0,\"ticks\":\"\"}}}],\"scattercarpet\":[{\"type\":\"scattercarpet\",\"marker\":{\"colorbar\":{\"outlinewidth\":0,\"ticks\":\"\"}}}],\"carpet\":[{\"aaxis\":{\"endlinecolor\":\"#2a3f5f\",\"gridcolor\":\"white\",\"linecolor\":\"white\",\"minorgridcolor\":\"white\",\"startlinecolor\":\"#2a3f5f\"},\"baxis\":{\"endlinecolor\":\"#2a3f5f\",\"gridcolor\":\"white\",\"linecolor\":\"white\",\"minorgridcolor\":\"white\",\"startlinecolor\":\"#2a3f5f\"},\"type\":\"carpet\"}],\"table\":[{\"cells\":{\"fill\":{\"color\":\"#EBF0F8\"},\"line\":{\"color\":\"white\"}},\"header\":{\"fill\":{\"color\":\"#C8D4E3\"},\"line\":{\"color\":\"white\"}},\"type\":\"table\"}],\"barpolar\":[{\"marker\":{\"line\":{\"color\":\"#E5ECF6\",\"width\":0.5},\"pattern\":{\"fillmode\":\"overlay\",\"size\":10,\"solidity\":0.2}},\"type\":\"barpolar\"}],\"pie\":[{\"automargin\":true,\"type\":\"pie\"}]},\"layout\":{\"autotypenumbers\":\"strict\",\"colorway\":[\"#636efa\",\"#EF553B\",\"#00cc96\",\"#ab63fa\",\"#FFA15A\",\"#19d3f3\",\"#FF6692\",\"#B6E880\",\"#FF97FF\",\"#FECB52\"],\"font\":{\"color\":\"#2a3f5f\"},\"hovermode\":\"closest\",\"hoverlabel\":{\"align\":\"left\"},\"paper_bgcolor\":\"white\",\"plot_bgcolor\":\"#E5ECF6\",\"polar\":{\"bgcolor\":\"#E5ECF6\",\"angularaxis\":{\"gridcolor\":\"white\",\"linecolor\":\"white\",\"ticks\":\"\"},\"radialaxis\":{\"gridcolor\":\"white\",\"linecolor\":\"white\",\"ticks\":\"\"}},\"ternary\":{\"bgcolor\":\"#E5ECF6\",\"aaxis\":{\"gridcolor\":\"white\",\"linecolor\":\"white\",\"ticks\":\"\"},\"baxis\":{\"gridcolor\":\"white\",\"linecolor\":\"white\",\"ticks\":\"\"},\"caxis\":{\"gridcolor\":\"white\",\"linecolor\":\"white\",\"ticks\":\"\"}},\"coloraxis\":{\"colorbar\":{\"outlinewidth\":0,\"ticks\":\"\"}},\"colorscale\":{\"sequential\":[[0.0,\"#0d0887\"],[0.1111111111111111,\"#46039f\"],[0.2222222222222222,\"#7201a8\"],[0.3333333333333333,\"#9c179e\"],[0.4444444444444444,\"#bd3786\"],[0.5555555555555556,\"#d8576b\"],[0.6666666666666666,\"#ed7953\"],[0.7777777777777778,\"#fb9f3a\"],[0.8888888888888888,\"#fdca26\"],[1.0,\"#f0f921\"]],\"sequentialminus\":[[0.0,\"#0d0887\"],[0.1111111111111111,\"#46039f\"],[0.2222222222222222,\"#7201a8\"],[0.3333333333333333,\"#9c179e\"],[0.4444444444444444,\"#bd3786\"],[0.5555555555555556,\"#d8576b\"],[0.6666666666666666,\"#ed7953\"],[0.7777777777777778,\"#fb9f3a\"],[0.8888888888888888,\"#fdca26\"],[1.0,\"#f0f921\"]],\"diverging\":[[0,\"#8e0152\"],[0.1,\"#c51b7d\"],[0.2,\"#de77ae\"],[0.3,\"#f1b6da\"],[0.4,\"#fde0ef\"],[0.5,\"#f7f7f7\"],[0.6,\"#e6f5d0\"],[0.7,\"#b8e186\"],[0.8,\"#7fbc41\"],[0.9,\"#4d9221\"],[1,\"#276419\"]]},\"xaxis\":{\"gridcolor\":\"white\",\"linecolor\":\"white\",\"ticks\":\"\",\"title\":{\"standoff\":15},\"zerolinecolor\":\"white\",\"automargin\":true,\"zerolinewidth\":2},\"yaxis\":{\"gridcolor\":\"white\",\"linecolor\":\"white\",\"ticks\":\"\",\"title\":{\"standoff\":15},\"zerolinecolor\":\"white\",\"automargin\":true,\"zerolinewidth\":2},\"scene\":{\"xaxis\":{\"backgroundcolor\":\"#E5ECF6\",\"gridcolor\":\"white\",\"linecolor\":\"white\",\"showbackground\":true,\"ticks\":\"\",\"zerolinecolor\":\"white\",\"gridwidth\":2},\"yaxis\":{\"backgroundcolor\":\"#E5ECF6\",\"gridcolor\":\"white\",\"linecolor\":\"white\",\"showbackground\":true,\"ticks\":\"\",\"zerolinecolor\":\"white\",\"gridwidth\":2},\"zaxis\":{\"backgroundcolor\":\"#E5ECF6\",\"gridcolor\":\"white\",\"linecolor\":\"white\",\"showbackground\":true,\"ticks\":\"\",\"zerolinecolor\":\"white\",\"gridwidth\":2}},\"shapedefaults\":{\"line\":{\"color\":\"#2a3f5f\"}},\"annotationdefaults\":{\"arrowcolor\":\"#2a3f5f\",\"arrowhead\":0,\"arrowwidth\":1},\"geo\":{\"bgcolor\":\"white\",\"landcolor\":\"#E5ECF6\",\"subunitcolor\":\"white\",\"showland\":true,\"showlakes\":true,\"lakecolor\":\"white\"},\"title\":{\"x\":0.05},\"mapbox\":{\"style\":\"light\"}}},\"mapbox\":{\"domain\":{\"x\":[0.0,1.0],\"y\":[0.0,1.0]},\"center\":{\"lat\":55.79045764571428,\"lon\":37.54984610857143},\"zoom\":10,\"style\":\"open-street-map\"},\"legend\":{\"tracegroupgap\":0},\"title\":{\"text\":\"\\u0420\\u0430\\u0441\\u043f\\u043e\\u043b\\u043e\\u0436\\u0435\\u043d\\u0438\\u0435 \\u043c\\u0430\\u0433\\u0430\\u0437\\u0438\\u043d\\u043e\\u0432\"},\"height\":600,\"margin\":{\"r\":0,\"t\":40,\"l\":0,\"b\":0}},                        {\"responsive\": true}                    ).then(function(){\n",
       "                            \n",
       "var gd = document.getElementById('22f31608-f8e0-440a-83fe-02231ddd0f18');\n",
       "var x = new MutationObserver(function (mutations, observer) {{\n",
       "        var display = window.getComputedStyle(gd).display;\n",
       "        if (!display || display === 'none') {{\n",
       "            console.log([gd, 'removed!']);\n",
       "            Plotly.purge(gd);\n",
       "            observer.disconnect();\n",
       "        }}\n",
       "}});\n",
       "\n",
       "// Listen for the removal of the full notebook cells\n",
       "var notebookContainer = gd.closest('#notebook-container');\n",
       "if (notebookContainer) {{\n",
       "    x.observe(notebookContainer, {childList: true});\n",
       "}}\n",
       "\n",
       "// Listen for the clearing of the current output cell\n",
       "var outputEl = gd.closest('.output');\n",
       "if (outputEl) {{\n",
       "    x.observe(outputEl, {childList: true});\n",
       "}}\n",
       "\n",
       "                        })                };            </script>        </div>"
      ]
     },
     "metadata": {},
     "output_type": "display_data"
    }
   ],
   "source": [
    "df = pd.DataFrame(stores)\n",
    "df['lat'] = df['lat'].str.replace(',', '.').astype(float)\n",
    "df['lon'] = df['lon'].str.replace(',', '.').astype(float)\n",
    "\n",
    "# Строим карту\n",
    "fig = px.scatter_mapbox(\n",
    "    df,\n",
    "    lat='lat',\n",
    "    lon='lon',\n",
    "    hover_name='client_NT',\n",
    "    hover_data={'text_kktAddress': True},\n",
    "    zoom=10,\n",
    "    height=600,\n",
    "    title='Расположение магазинов'\n",
    ")\n",
    "\n",
    "# Настройки карты (используем mapbox вместо scatter_map)\n",
    "fig.update_layout(\n",
    "    mapbox_style=\"open-street-map\",\n",
    "    margin={\"r\":0,\"t\":40,\"l\":0,\"b\":0},\n",
    "    mapbox=dict(\n",
    "        center=dict(lat=df['lat'].mean(), lon=df['lon'].mean()),\n",
    "        zoom=10\n",
    "    )\n",
    ")\n",
    "\n",
    "# Настройки маркеров (правильный синтаксис)\n",
    "fig.update_traces(\n",
    "    marker=dict(\n",
    "        size=14,        # Размер маркера\n",
    "        color='red',    # Цвет\n",
    "        opacity=0.8     # Прозрачность\n",
    "    )\n",
    ")\n",
    "\n",
    "fig.show()"
   ]
  },
  {
   "cell_type": "markdown",
   "id": "1987769e",
   "metadata": {},
   "source": [
    "И отдельный список торговых сетей:"
   ]
  },
  {
   "cell_type": "code",
   "execution_count": 68,
   "id": "52cece42",
   "metadata": {},
   "outputs": [
    {
     "data": {
      "text/plain": [
       "0               Окей\n",
       "10       Гиперглобус\n",
       "26345      Metro c&c\n",
       "Name: client_NT, dtype: object"
      ]
     },
     "execution_count": 68,
     "metadata": {},
     "output_type": "execute_result"
    }
   ],
   "source": [
    "trades = stores['client_NT'].drop_duplicates()\n",
    "trades"
   ]
  },
  {
   "cell_type": "code",
   "execution_count": 69,
   "id": "ee441f7c",
   "metadata": {},
   "outputs": [
    {
     "data": {
      "application/vnd.microsoft.datawrangler.viewer.v0+json": {
       "columns": [
        {
         "name": "index",
         "rawType": "int64",
         "type": "integer"
        },
        {
         "name": "client_NT",
         "rawType": "object",
         "type": "string"
        },
        {
         "name": "text_kktAddress",
         "rawType": "object",
         "type": "string"
        },
        {
         "name": "lat",
         "rawType": "object",
         "type": "string"
        },
        {
         "name": "lon",
         "rawType": "object",
         "type": "string"
        }
       ],
       "conversionMethod": "pd.DataFrame",
       "ref": "54dbc217-c757-4aef-b635-2842de47c838",
       "rows": [
        [
         "0",
         "Окей",
         "г Москва, ул Озёрная, д 50",
         "55,6647196",
         "37,4372193"
        ],
        [
         "7",
         "Окей",
         "г Москва, пр-кт Мира, д 211 к 2",
         "55,845855",
         "37,662093"
        ],
        [
         "10",
         "Гиперглобус",
         "г Москва, ш Новоухтомское, д 2А",
         "55,7128634",
         "37,8454195"
        ],
        [
         "43",
         "Окей",
         "г Москва, ул Кировоградская, д 13А",
         "55,6121172",
         "37,6070486"
        ],
        [
         "58",
         "Гиперглобус",
         "г Москва, Сосенское п, п Коммунарка, ул Александры Монаховой, д 61 стр 1",
         "55,557266",
         "37,494368"
        ],
        [
         "109",
         "Окей",
         "г Москва, ш Каширское, д 14",
         "55,664456",
         "37,627059"
        ],
        [
         "117",
         "Гиперглобус",
         "г Москва, км Новорижское шоссе 22-й, влд 1 стр 1",
         "55,801981",
         "37,300674"
        ],
        [
         "193",
         "Гиперглобус",
         "г Москва, км Киевское шоссе 23-й (п Московский), д 1",
         "55,623788",
         "37,422027"
        ],
        [
         "240",
         "Окей",
         "г Москва, ш Дмитровское, влд 163А к 1",
         "55,90968",
         "37,540721"
        ],
        [
         "250",
         "Окей",
         "г Москва, ш Головинское, д 5 к 1",
         "55,84016",
         "37,4915995"
        ],
        [
         "324",
         "Гиперглобус",
         "г Москва, ул Широкая, д 2А",
         "55,8873966",
         "37,6392327"
        ],
        [
         "338",
         "Окей",
         "г Москва, Московский п, г Московский, ул Хабарова, д 2",
         "55,5939458",
         "37,3518308"
        ],
        [
         "950",
         "Окей",
         "г Москва, ш Дмитровское, д 98С",
         "55,879157",
         "37,547189"
        ],
        [
         "975",
         "Окей",
         "г Москва, ул Святоозерская, д 1А",
         "55,7146158",
         "37,8835661"
        ],
        [
         "3432",
         "Гиперглобус",
         "г Москва, км Новорижское шоссе 22-й, д 1",
         "55,8025796",
         "37,3019609"
        ],
        [
         "5132",
         "Окей",
         "г Москва, ш Дмитровское, д 163А",
         "55,90968",
         "37,540721"
        ],
        [
         "26345",
         "Metro c&c",
         "г Москва, пр-кт Мира, д 211 к 1",
         "55,844041",
         "37,66265"
        ],
        [
         "49235",
         "Гиперглобус",
         "г Москва, пр-кт Волгоградский, д 42 к 9",
         "55,7076672",
         "37,715361"
        ],
        [
         "66968",
         "Metro c&c",
         "г Москва, ул Рябиновая, д 59",
         "55,6858545",
         "37,4317811"
        ],
        [
         "99194",
         "Окей",
         "г Москва, ш Дмитровское, д 49Д",
         "55,8359577",
         "37,5746979"
        ],
        [
         "153648",
         "Metro c&c",
         "г Москва, ул Дорожная, д 1 к 1",
         "55,6307682",
         "37,6249431"
        ],
        [
         "190584",
         "Metro c&c",
         "г Москва, ш Ленинградское, д 71Г",
         "55,875753",
         "37,447279"
        ],
        [
         "357187",
         "Окей",
         "г Москва, ш Дмитровское, влд 163А",
         "55,90968",
         "37,540721"
        ],
        [
         "591005",
         "Metro c&c",
         "г Москва, км МКАД 104-й, д 6",
         "55,8113123",
         "37,8373703"
        ],
        [
         "1172280",
         "Metro c&c",
         "г Москва, Московский п, кв-л 34, д 3 стр 1",
         "55,6199842",
         "37,3874065"
        ],
        [
         "1233052",
         "Окей",
         "г Москва, ш Дмитровское, д 107А",
         "55,880945",
         "37,54118"
        ],
        [
         "1234331",
         "Окей",
         "г Москва, ш Дмитровское, к 1",
         "55,87593",
         "37,547719"
        ],
        [
         "1656407",
         "Metro c&c",
         "г Москва, ул Маршала Прошлякова, д 14",
         "55,7911159",
         "37,3886894"
        ],
        [
         "1883345",
         "Metro c&c",
         "г Москва, ш Дмитровское, д 165Б",
         "55,915992",
         "37,540084"
        ],
        [
         "2075370",
         "Окей",
         "г Москва, ш Дмитровское, д 165",
         "55,9285654",
         "37,5440174"
        ],
        [
         "2085497",
         "Окей",
         "г Москва, ш Дмитровское, д 58А",
         "55,8515572",
         "37,5663772"
        ],
        [
         "2086659",
         "Окей",
         "г Москва, ш Дмитровское, влд 91А",
         "55,870203",
         "37,546893"
        ],
        [
         "2368985",
         "Окей",
         "г Москва, ш Дмитровское, д 41",
         "55,833526",
         "37,570788"
        ],
        [
         "2399569",
         "Окей",
         "г Москва, ш Дмитровское, д 107 стр 2а",
         "55,878406",
         "37,5413905"
        ],
        [
         "2399908",
         "Окей",
         "г Москва, ш Дмитровское, д 157 стр 2",
         "55,898498",
         "37,542536"
        ]
       ],
       "shape": {
        "columns": 4,
        "rows": 35
       }
      },
      "text/html": [
       "<div>\n",
       "<style scoped>\n",
       "    .dataframe tbody tr th:only-of-type {\n",
       "        vertical-align: middle;\n",
       "    }\n",
       "\n",
       "    .dataframe tbody tr th {\n",
       "        vertical-align: top;\n",
       "    }\n",
       "\n",
       "    .dataframe thead th {\n",
       "        text-align: right;\n",
       "    }\n",
       "</style>\n",
       "<table border=\"1\" class=\"dataframe\">\n",
       "  <thead>\n",
       "    <tr style=\"text-align: right;\">\n",
       "      <th></th>\n",
       "      <th>client_NT</th>\n",
       "      <th>text_kktAddress</th>\n",
       "      <th>lat</th>\n",
       "      <th>lon</th>\n",
       "    </tr>\n",
       "  </thead>\n",
       "  <tbody>\n",
       "    <tr>\n",
       "      <th>0</th>\n",
       "      <td>Окей</td>\n",
       "      <td>г Москва, ул Озёрная, д 50</td>\n",
       "      <td>55,6647196</td>\n",
       "      <td>37,4372193</td>\n",
       "    </tr>\n",
       "    <tr>\n",
       "      <th>7</th>\n",
       "      <td>Окей</td>\n",
       "      <td>г Москва, пр-кт Мира, д 211 к 2</td>\n",
       "      <td>55,845855</td>\n",
       "      <td>37,662093</td>\n",
       "    </tr>\n",
       "    <tr>\n",
       "      <th>10</th>\n",
       "      <td>Гиперглобус</td>\n",
       "      <td>г Москва, ш Новоухтомское, д 2А</td>\n",
       "      <td>55,7128634</td>\n",
       "      <td>37,8454195</td>\n",
       "    </tr>\n",
       "    <tr>\n",
       "      <th>43</th>\n",
       "      <td>Окей</td>\n",
       "      <td>г Москва, ул Кировоградская, д 13А</td>\n",
       "      <td>55,6121172</td>\n",
       "      <td>37,6070486</td>\n",
       "    </tr>\n",
       "    <tr>\n",
       "      <th>58</th>\n",
       "      <td>Гиперглобус</td>\n",
       "      <td>г Москва, Сосенское п, п Коммунарка, ул Алекса...</td>\n",
       "      <td>55,557266</td>\n",
       "      <td>37,494368</td>\n",
       "    </tr>\n",
       "    <tr>\n",
       "      <th>109</th>\n",
       "      <td>Окей</td>\n",
       "      <td>г Москва, ш Каширское, д 14</td>\n",
       "      <td>55,664456</td>\n",
       "      <td>37,627059</td>\n",
       "    </tr>\n",
       "    <tr>\n",
       "      <th>117</th>\n",
       "      <td>Гиперглобус</td>\n",
       "      <td>г Москва, км Новорижское шоссе 22-й, влд 1 стр 1</td>\n",
       "      <td>55,801981</td>\n",
       "      <td>37,300674</td>\n",
       "    </tr>\n",
       "    <tr>\n",
       "      <th>193</th>\n",
       "      <td>Гиперглобус</td>\n",
       "      <td>г Москва, км Киевское шоссе 23-й (п Московский...</td>\n",
       "      <td>55,623788</td>\n",
       "      <td>37,422027</td>\n",
       "    </tr>\n",
       "    <tr>\n",
       "      <th>240</th>\n",
       "      <td>Окей</td>\n",
       "      <td>г Москва, ш Дмитровское, влд 163А к 1</td>\n",
       "      <td>55,90968</td>\n",
       "      <td>37,540721</td>\n",
       "    </tr>\n",
       "    <tr>\n",
       "      <th>250</th>\n",
       "      <td>Окей</td>\n",
       "      <td>г Москва, ш Головинское, д 5 к 1</td>\n",
       "      <td>55,84016</td>\n",
       "      <td>37,4915995</td>\n",
       "    </tr>\n",
       "    <tr>\n",
       "      <th>324</th>\n",
       "      <td>Гиперглобус</td>\n",
       "      <td>г Москва, ул Широкая, д 2А</td>\n",
       "      <td>55,8873966</td>\n",
       "      <td>37,6392327</td>\n",
       "    </tr>\n",
       "    <tr>\n",
       "      <th>338</th>\n",
       "      <td>Окей</td>\n",
       "      <td>г Москва, Московский п, г Московский, ул Хабар...</td>\n",
       "      <td>55,5939458</td>\n",
       "      <td>37,3518308</td>\n",
       "    </tr>\n",
       "    <tr>\n",
       "      <th>950</th>\n",
       "      <td>Окей</td>\n",
       "      <td>г Москва, ш Дмитровское, д 98С</td>\n",
       "      <td>55,879157</td>\n",
       "      <td>37,547189</td>\n",
       "    </tr>\n",
       "    <tr>\n",
       "      <th>975</th>\n",
       "      <td>Окей</td>\n",
       "      <td>г Москва, ул Святоозерская, д 1А</td>\n",
       "      <td>55,7146158</td>\n",
       "      <td>37,8835661</td>\n",
       "    </tr>\n",
       "    <tr>\n",
       "      <th>3432</th>\n",
       "      <td>Гиперглобус</td>\n",
       "      <td>г Москва, км Новорижское шоссе 22-й, д 1</td>\n",
       "      <td>55,8025796</td>\n",
       "      <td>37,3019609</td>\n",
       "    </tr>\n",
       "    <tr>\n",
       "      <th>5132</th>\n",
       "      <td>Окей</td>\n",
       "      <td>г Москва, ш Дмитровское, д 163А</td>\n",
       "      <td>55,90968</td>\n",
       "      <td>37,540721</td>\n",
       "    </tr>\n",
       "    <tr>\n",
       "      <th>26345</th>\n",
       "      <td>Metro c&amp;c</td>\n",
       "      <td>г Москва, пр-кт Мира, д 211 к 1</td>\n",
       "      <td>55,844041</td>\n",
       "      <td>37,66265</td>\n",
       "    </tr>\n",
       "    <tr>\n",
       "      <th>49235</th>\n",
       "      <td>Гиперглобус</td>\n",
       "      <td>г Москва, пр-кт Волгоградский, д 42 к 9</td>\n",
       "      <td>55,7076672</td>\n",
       "      <td>37,715361</td>\n",
       "    </tr>\n",
       "    <tr>\n",
       "      <th>66968</th>\n",
       "      <td>Metro c&amp;c</td>\n",
       "      <td>г Москва, ул Рябиновая, д 59</td>\n",
       "      <td>55,6858545</td>\n",
       "      <td>37,4317811</td>\n",
       "    </tr>\n",
       "    <tr>\n",
       "      <th>99194</th>\n",
       "      <td>Окей</td>\n",
       "      <td>г Москва, ш Дмитровское, д 49Д</td>\n",
       "      <td>55,8359577</td>\n",
       "      <td>37,5746979</td>\n",
       "    </tr>\n",
       "    <tr>\n",
       "      <th>153648</th>\n",
       "      <td>Metro c&amp;c</td>\n",
       "      <td>г Москва, ул Дорожная, д 1 к 1</td>\n",
       "      <td>55,6307682</td>\n",
       "      <td>37,6249431</td>\n",
       "    </tr>\n",
       "    <tr>\n",
       "      <th>190584</th>\n",
       "      <td>Metro c&amp;c</td>\n",
       "      <td>г Москва, ш Ленинградское, д 71Г</td>\n",
       "      <td>55,875753</td>\n",
       "      <td>37,447279</td>\n",
       "    </tr>\n",
       "    <tr>\n",
       "      <th>357187</th>\n",
       "      <td>Окей</td>\n",
       "      <td>г Москва, ш Дмитровское, влд 163А</td>\n",
       "      <td>55,90968</td>\n",
       "      <td>37,540721</td>\n",
       "    </tr>\n",
       "    <tr>\n",
       "      <th>591005</th>\n",
       "      <td>Metro c&amp;c</td>\n",
       "      <td>г Москва, км МКАД 104-й, д 6</td>\n",
       "      <td>55,8113123</td>\n",
       "      <td>37,8373703</td>\n",
       "    </tr>\n",
       "    <tr>\n",
       "      <th>1172280</th>\n",
       "      <td>Metro c&amp;c</td>\n",
       "      <td>г Москва, Московский п, кв-л 34, д 3 стр 1</td>\n",
       "      <td>55,6199842</td>\n",
       "      <td>37,3874065</td>\n",
       "    </tr>\n",
       "    <tr>\n",
       "      <th>1233052</th>\n",
       "      <td>Окей</td>\n",
       "      <td>г Москва, ш Дмитровское, д 107А</td>\n",
       "      <td>55,880945</td>\n",
       "      <td>37,54118</td>\n",
       "    </tr>\n",
       "    <tr>\n",
       "      <th>1234331</th>\n",
       "      <td>Окей</td>\n",
       "      <td>г Москва, ш Дмитровское, к 1</td>\n",
       "      <td>55,87593</td>\n",
       "      <td>37,547719</td>\n",
       "    </tr>\n",
       "    <tr>\n",
       "      <th>1656407</th>\n",
       "      <td>Metro c&amp;c</td>\n",
       "      <td>г Москва, ул Маршала Прошлякова, д 14</td>\n",
       "      <td>55,7911159</td>\n",
       "      <td>37,3886894</td>\n",
       "    </tr>\n",
       "    <tr>\n",
       "      <th>1883345</th>\n",
       "      <td>Metro c&amp;c</td>\n",
       "      <td>г Москва, ш Дмитровское, д 165Б</td>\n",
       "      <td>55,915992</td>\n",
       "      <td>37,540084</td>\n",
       "    </tr>\n",
       "    <tr>\n",
       "      <th>2075370</th>\n",
       "      <td>Окей</td>\n",
       "      <td>г Москва, ш Дмитровское, д 165</td>\n",
       "      <td>55,9285654</td>\n",
       "      <td>37,5440174</td>\n",
       "    </tr>\n",
       "    <tr>\n",
       "      <th>2085497</th>\n",
       "      <td>Окей</td>\n",
       "      <td>г Москва, ш Дмитровское, д 58А</td>\n",
       "      <td>55,8515572</td>\n",
       "      <td>37,5663772</td>\n",
       "    </tr>\n",
       "    <tr>\n",
       "      <th>2086659</th>\n",
       "      <td>Окей</td>\n",
       "      <td>г Москва, ш Дмитровское, влд 91А</td>\n",
       "      <td>55,870203</td>\n",
       "      <td>37,546893</td>\n",
       "    </tr>\n",
       "    <tr>\n",
       "      <th>2368985</th>\n",
       "      <td>Окей</td>\n",
       "      <td>г Москва, ш Дмитровское, д 41</td>\n",
       "      <td>55,833526</td>\n",
       "      <td>37,570788</td>\n",
       "    </tr>\n",
       "    <tr>\n",
       "      <th>2399569</th>\n",
       "      <td>Окей</td>\n",
       "      <td>г Москва, ш Дмитровское, д 107 стр 2а</td>\n",
       "      <td>55,878406</td>\n",
       "      <td>37,5413905</td>\n",
       "    </tr>\n",
       "    <tr>\n",
       "      <th>2399908</th>\n",
       "      <td>Окей</td>\n",
       "      <td>г Москва, ш Дмитровское, д 157 стр 2</td>\n",
       "      <td>55,898498</td>\n",
       "      <td>37,542536</td>\n",
       "    </tr>\n",
       "  </tbody>\n",
       "</table>\n",
       "</div>"
      ],
      "text/plain": [
       "           client_NT                                    text_kktAddress  \\\n",
       "0               Окей                         г Москва, ул Озёрная, д 50   \n",
       "7               Окей                    г Москва, пр-кт Мира, д 211 к 2   \n",
       "10       Гиперглобус                    г Москва, ш Новоухтомское, д 2А   \n",
       "43              Окей                 г Москва, ул Кировоградская, д 13А   \n",
       "58       Гиперглобус  г Москва, Сосенское п, п Коммунарка, ул Алекса...   \n",
       "109             Окей                        г Москва, ш Каширское, д 14   \n",
       "117      Гиперглобус   г Москва, км Новорижское шоссе 22-й, влд 1 стр 1   \n",
       "193      Гиперглобус  г Москва, км Киевское шоссе 23-й (п Московский...   \n",
       "240             Окей              г Москва, ш Дмитровское, влд 163А к 1   \n",
       "250             Окей                   г Москва, ш Головинское, д 5 к 1   \n",
       "324      Гиперглобус                         г Москва, ул Широкая, д 2А   \n",
       "338             Окей  г Москва, Московский п, г Московский, ул Хабар...   \n",
       "950             Окей                     г Москва, ш Дмитровское, д 98С   \n",
       "975             Окей                   г Москва, ул Святоозерская, д 1А   \n",
       "3432     Гиперглобус           г Москва, км Новорижское шоссе 22-й, д 1   \n",
       "5132            Окей                    г Москва, ш Дмитровское, д 163А   \n",
       "26345      Metro c&c                    г Москва, пр-кт Мира, д 211 к 1   \n",
       "49235    Гиперглобус            г Москва, пр-кт Волгоградский, д 42 к 9   \n",
       "66968      Metro c&c                       г Москва, ул Рябиновая, д 59   \n",
       "99194           Окей                     г Москва, ш Дмитровское, д 49Д   \n",
       "153648     Metro c&c                     г Москва, ул Дорожная, д 1 к 1   \n",
       "190584     Metro c&c                   г Москва, ш Ленинградское, д 71Г   \n",
       "357187          Окей                  г Москва, ш Дмитровское, влд 163А   \n",
       "591005     Metro c&c                       г Москва, км МКАД 104-й, д 6   \n",
       "1172280    Metro c&c         г Москва, Московский п, кв-л 34, д 3 стр 1   \n",
       "1233052         Окей                    г Москва, ш Дмитровское, д 107А   \n",
       "1234331         Окей                       г Москва, ш Дмитровское, к 1   \n",
       "1656407    Metro c&c              г Москва, ул Маршала Прошлякова, д 14   \n",
       "1883345    Metro c&c                    г Москва, ш Дмитровское, д 165Б   \n",
       "2075370         Окей                     г Москва, ш Дмитровское, д 165   \n",
       "2085497         Окей                     г Москва, ш Дмитровское, д 58А   \n",
       "2086659         Окей                   г Москва, ш Дмитровское, влд 91А   \n",
       "2368985         Окей                      г Москва, ш Дмитровское, д 41   \n",
       "2399569         Окей              г Москва, ш Дмитровское, д 107 стр 2а   \n",
       "2399908         Окей               г Москва, ш Дмитровское, д 157 стр 2   \n",
       "\n",
       "                lat         lon  \n",
       "0        55,6647196  37,4372193  \n",
       "7         55,845855   37,662093  \n",
       "10       55,7128634  37,8454195  \n",
       "43       55,6121172  37,6070486  \n",
       "58        55,557266   37,494368  \n",
       "109       55,664456   37,627059  \n",
       "117       55,801981   37,300674  \n",
       "193       55,623788   37,422027  \n",
       "240        55,90968   37,540721  \n",
       "250        55,84016  37,4915995  \n",
       "324      55,8873966  37,6392327  \n",
       "338      55,5939458  37,3518308  \n",
       "950       55,879157   37,547189  \n",
       "975      55,7146158  37,8835661  \n",
       "3432     55,8025796  37,3019609  \n",
       "5132       55,90968   37,540721  \n",
       "26345     55,844041    37,66265  \n",
       "49235    55,7076672   37,715361  \n",
       "66968    55,6858545  37,4317811  \n",
       "99194    55,8359577  37,5746979  \n",
       "153648   55,6307682  37,6249431  \n",
       "190584    55,875753   37,447279  \n",
       "357187     55,90968   37,540721  \n",
       "591005   55,8113123  37,8373703  \n",
       "1172280  55,6199842  37,3874065  \n",
       "1233052   55,880945    37,54118  \n",
       "1234331    55,87593   37,547719  \n",
       "1656407  55,7911159  37,3886894  \n",
       "1883345   55,915992   37,540084  \n",
       "2075370  55,9285654  37,5440174  \n",
       "2085497  55,8515572  37,5663772  \n",
       "2086659   55,870203   37,546893  \n",
       "2368985   55,833526   37,570788  \n",
       "2399569   55,878406  37,5413905  \n",
       "2399908   55,898498   37,542536  "
      ]
     },
     "execution_count": 69,
     "metadata": {},
     "output_type": "execute_result"
    }
   ],
   "source": [
    "# Сохраним результат в csv файл\n",
    "stores.sort_values(['client_NT', 'text_kktAddress']).to_csv('Список магазинов.csv', index=False, encoding='utf-8')\n",
    "stores"
   ]
  },
  {
   "cell_type": "markdown",
   "id": "c12b48da",
   "metadata": {},
   "source": [
    "Переопределим некоторые типы данных для экономии места:"
   ]
  },
  {
   "cell_type": "code",
   "execution_count": 19,
   "id": "d841e6cd",
   "metadata": {},
   "outputs": [],
   "source": [
    "# Здесь сделано под ver2, но под ver3 тоже подходит, так как в ver3 меньше столбцов, а остальные названы также\n",
    "dtype_spec = {\n",
    "    'region': 'category',\n",
    "    'userInn': 'int64',\n",
    "    'client_NT': 'category',\n",
    "    'text_kktAddress': 'category',\n",
    "    'Идентификатор покупателя': 'str',\n",
    "    'dateTime': 'str', # после преобразуем в datetime\n",
    "    'Year': 'int16',\n",
    "    'Month': 'int16',\n",
    "    'receipt_id': 'str',\n",
    "    'CLEAN_SKU': 'str',\n",
    "    'price_items': 'float32',\n",
    "    'quantity_items': 'float32',\n",
    "    'sum_items': 'float32',\n",
    "    'totalSum': 'float32',\n",
    "    'RIGHTHOLDER_NT': 'str',\n",
    "    'BRAND_NT': 'category',\n",
    "    'CLASS_NT': 'category',\n",
    "    'GROUP_NT': 'category',\n",
    "    'CATEGORY_NT': 'category',\n",
    "    'SUBCATEGORY_NT': 'category',\n",
    "    'BASE_NT': 'category',\n",
    "    'lat': 'float32',\n",
    "    'lon': 'float32'\n",
    "}"
   ]
  },
  {
   "cell_type": "markdown",
   "id": "93413970",
   "metadata": {},
   "source": [
    "Исходя из примера массива, повторяющиеся строки являются частью одного чека. Значит дубликаты строк не убираем"
   ]
  },
  {
   "cell_type": "markdown",
   "id": "f78ba559",
   "metadata": {},
   "source": [
    "Загружаем датасет:"
   ]
  },
  {
   "cell_type": "code",
   "execution_count": 20,
   "id": "1b02c780",
   "metadata": {},
   "outputs": [],
   "source": [
    "data = pd.read_csv(filename, encoding='utf-16', dtype=dtype_spec, decimal=',').reset_index()"
   ]
  },
  {
   "cell_type": "markdown",
   "id": "ed267114",
   "metadata": {},
   "source": [
    "Если появляется ошибка памяти, то можно загрузить датасет частями:"
   ]
  },
  {
   "cell_type": "code",
   "execution_count": 21,
   "id": "8ac9fdfd",
   "metadata": {},
   "outputs": [],
   "source": [
    "# data = pd.DataFrame()\n",
    "# chunk_size = 1000000\n",
    "# for chunk in pd.read_csv('Массив чеков_ver2.csv', encoding='utf-16', dtype=dtype_spec, decimal=',', chunksize=chunk_size):\n",
    "#     data = pd.concat([data, chunk], ignore_index=True)\n",
    "# data  = data.reset_index()"
   ]
  },
  {
   "cell_type": "markdown",
   "id": "ee657b6a",
   "metadata": {},
   "source": [
    "Посмотрим первые 5 строк, чтобы убедиться, что всё подгрузилось правильно:"
   ]
  },
  {
   "cell_type": "code",
   "execution_count": 22,
   "id": "66a2dc10",
   "metadata": {},
   "outputs": [
    {
     "data": {
      "application/vnd.microsoft.datawrangler.viewer.v0+json": {
       "columns": [
        {
         "name": "index",
         "rawType": "int64",
         "type": "integer"
        },
        {
         "name": "index",
         "rawType": "int64",
         "type": "integer"
        },
        {
         "name": "client_NT",
         "rawType": "category",
         "type": "unknown"
        },
        {
         "name": "text_kktAddress",
         "rawType": "category",
         "type": "unknown"
        },
        {
         "name": "Идентификатор покупателя",
         "rawType": "object",
         "type": "unknown"
        },
        {
         "name": "dateTime",
         "rawType": "object",
         "type": "string"
        },
        {
         "name": "receipt_id",
         "rawType": "object",
         "type": "string"
        },
        {
         "name": "CLEAN_SKU",
         "rawType": "object",
         "type": "string"
        },
        {
         "name": "price_items",
         "rawType": "float32",
         "type": "float"
        },
        {
         "name": "quantity_items",
         "rawType": "float32",
         "type": "float"
        },
        {
         "name": "sum_items",
         "rawType": "float32",
         "type": "float"
        },
        {
         "name": "totalSum",
         "rawType": "float32",
         "type": "float"
        },
        {
         "name": "RIGHTHOLDER_NT",
         "rawType": "object",
         "type": "unknown"
        },
        {
         "name": "BRAND_NT",
         "rawType": "category",
         "type": "unknown"
        },
        {
         "name": "CLASS_NT",
         "rawType": "category",
         "type": "unknown"
        },
        {
         "name": "GROUP_NT",
         "rawType": "category",
         "type": "unknown"
        },
        {
         "name": "CATEGORY_NT",
         "rawType": "category",
         "type": "unknown"
        },
        {
         "name": "SUBCATEGORY_NT",
         "rawType": "category",
         "type": "unknown"
        },
        {
         "name": "BASE_NT",
         "rawType": "category",
         "type": "unknown"
        },
        {
         "name": "lat",
         "rawType": "float32",
         "type": "float"
        },
        {
         "name": "lon",
         "rawType": "float32",
         "type": "float"
        }
       ],
       "conversionMethod": "pd.DataFrame",
       "ref": "41020255-dcb0-45ac-80d7-6c9567d96762",
       "rows": [
        [
         "0",
         "0",
         "Окей",
         "г Москва, ул Озёрная, д 50",
         null,
         "26.06.2022 13:51:00",
         "9960440300975081:17128",
         "Бананы кг",
         "70.38",
         "0.594",
         "41.81",
         "2135.82",
         null,
         null,
         "ФРОВ",
         "СВЕЖИЕ ФРУКТЫ",
         "ФРУКТЫ ОСНОВНЫЕ",
         "БАНАНЫ",
         "БАНАН",
         "55.66472",
         "37.437218"
        ],
        [
         "1",
         "1",
         "Окей",
         "г Москва, ул Озёрная, д 50",
         null,
         "26.06.2022 13:46:00",
         "9960440300975081:17126",
         "Зажарка Maggi 60г",
         "33.42",
         "1.0",
         "33.42",
         "3920.33",
         "NESTLE",
         "MAGGI",
         "БАКЛ",
         "БАКАЛЕЯ СЫПУЧАЯ",
         "ПРИПРАВЫ ДЛЯ ПЕРВЫХ И ВТОРЫХ БЛЮД",
         "ПРИПРАВА ДЛЯ ЖАРКОЕ",
         "ПРИПРАВА ДЛЯ ЖАРКОЕ",
         "55.66472",
         "37.437218"
        ],
        [
         "2",
         "2",
         "Окей",
         "г Москва, ул Озёрная, д 50",
         null,
         "01.05.2022 13:26:00",
         "9960440300975081:11611",
         "Бананы кг",
         "96.24",
         "0.91",
         "87.58",
         "2387.77",
         null,
         null,
         "ФРОВ",
         "СВЕЖИЕ ФРУКТЫ",
         "ФРУКТЫ ОСНОВНЫЕ",
         "БАНАНЫ",
         "БАНАН",
         "55.66472",
         "37.437218"
        ],
        [
         "3",
         "3",
         "Окей",
         "г Москва, ул Озёрная, д 50",
         null,
         "01.05.2022 13:26:00",
         "9960440300975081:11611",
         "Яблоки кг",
         "87.49",
         "1.3",
         "113.74",
         "2387.77",
         null,
         null,
         "ФРОВ",
         "СВЕЖИЕ ФРУКТЫ",
         "ФРУКТЫ ОСНОВНЫЕ",
         "ЯБЛОКИ",
         "ЯБЛОКО",
         "55.66472",
         "37.437218"
        ],
        [
         "4",
         "4",
         "Окей",
         "г Москва, ул Озёрная, д 50",
         null,
         "04.06.2022 18:19:00",
         "9960440301010969:5365",
         "Апельсины кг",
         "109.99",
         "1.692",
         "186.1",
         "13641.6",
         null,
         null,
         null,
         null,
         null,
         null,
         null,
         "55.66472",
         "37.437218"
        ]
       ],
       "shape": {
        "columns": 20,
        "rows": 5
       }
      },
      "text/html": [
       "<div>\n",
       "<style scoped>\n",
       "    .dataframe tbody tr th:only-of-type {\n",
       "        vertical-align: middle;\n",
       "    }\n",
       "\n",
       "    .dataframe tbody tr th {\n",
       "        vertical-align: top;\n",
       "    }\n",
       "\n",
       "    .dataframe thead th {\n",
       "        text-align: right;\n",
       "    }\n",
       "</style>\n",
       "<table border=\"1\" class=\"dataframe\">\n",
       "  <thead>\n",
       "    <tr style=\"text-align: right;\">\n",
       "      <th></th>\n",
       "      <th>index</th>\n",
       "      <th>client_NT</th>\n",
       "      <th>text_kktAddress</th>\n",
       "      <th>Идентификатор покупателя</th>\n",
       "      <th>dateTime</th>\n",
       "      <th>receipt_id</th>\n",
       "      <th>CLEAN_SKU</th>\n",
       "      <th>price_items</th>\n",
       "      <th>quantity_items</th>\n",
       "      <th>sum_items</th>\n",
       "      <th>totalSum</th>\n",
       "      <th>RIGHTHOLDER_NT</th>\n",
       "      <th>BRAND_NT</th>\n",
       "      <th>CLASS_NT</th>\n",
       "      <th>GROUP_NT</th>\n",
       "      <th>CATEGORY_NT</th>\n",
       "      <th>SUBCATEGORY_NT</th>\n",
       "      <th>BASE_NT</th>\n",
       "      <th>lat</th>\n",
       "      <th>lon</th>\n",
       "    </tr>\n",
       "  </thead>\n",
       "  <tbody>\n",
       "    <tr>\n",
       "      <th>0</th>\n",
       "      <td>0</td>\n",
       "      <td>Окей</td>\n",
       "      <td>г Москва, ул Озёрная, д 50</td>\n",
       "      <td>NaN</td>\n",
       "      <td>26.06.2022 13:51:00</td>\n",
       "      <td>9960440300975081:17128</td>\n",
       "      <td>Бананы кг</td>\n",
       "      <td>70.38</td>\n",
       "      <td>0.59</td>\n",
       "      <td>41.81</td>\n",
       "      <td>2135.82</td>\n",
       "      <td>NaN</td>\n",
       "      <td>NaN</td>\n",
       "      <td>ФРОВ</td>\n",
       "      <td>СВЕЖИЕ ФРУКТЫ</td>\n",
       "      <td>ФРУКТЫ ОСНОВНЫЕ</td>\n",
       "      <td>БАНАНЫ</td>\n",
       "      <td>БАНАН</td>\n",
       "      <td>55.66</td>\n",
       "      <td>37.44</td>\n",
       "    </tr>\n",
       "    <tr>\n",
       "      <th>1</th>\n",
       "      <td>1</td>\n",
       "      <td>Окей</td>\n",
       "      <td>г Москва, ул Озёрная, д 50</td>\n",
       "      <td>NaN</td>\n",
       "      <td>26.06.2022 13:46:00</td>\n",
       "      <td>9960440300975081:17126</td>\n",
       "      <td>Зажарка Maggi 60г</td>\n",
       "      <td>33.42</td>\n",
       "      <td>1.00</td>\n",
       "      <td>33.42</td>\n",
       "      <td>3920.33</td>\n",
       "      <td>NESTLE</td>\n",
       "      <td>MAGGI</td>\n",
       "      <td>БАКЛ</td>\n",
       "      <td>БАКАЛЕЯ СЫПУЧАЯ</td>\n",
       "      <td>ПРИПРАВЫ ДЛЯ ПЕРВЫХ И ВТОРЫХ БЛЮД</td>\n",
       "      <td>ПРИПРАВА ДЛЯ ЖАРКОЕ</td>\n",
       "      <td>ПРИПРАВА ДЛЯ ЖАРКОЕ</td>\n",
       "      <td>55.66</td>\n",
       "      <td>37.44</td>\n",
       "    </tr>\n",
       "    <tr>\n",
       "      <th>2</th>\n",
       "      <td>2</td>\n",
       "      <td>Окей</td>\n",
       "      <td>г Москва, ул Озёрная, д 50</td>\n",
       "      <td>NaN</td>\n",
       "      <td>01.05.2022 13:26:00</td>\n",
       "      <td>9960440300975081:11611</td>\n",
       "      <td>Бананы кг</td>\n",
       "      <td>96.24</td>\n",
       "      <td>0.91</td>\n",
       "      <td>87.58</td>\n",
       "      <td>2387.77</td>\n",
       "      <td>NaN</td>\n",
       "      <td>NaN</td>\n",
       "      <td>ФРОВ</td>\n",
       "      <td>СВЕЖИЕ ФРУКТЫ</td>\n",
       "      <td>ФРУКТЫ ОСНОВНЫЕ</td>\n",
       "      <td>БАНАНЫ</td>\n",
       "      <td>БАНАН</td>\n",
       "      <td>55.66</td>\n",
       "      <td>37.44</td>\n",
       "    </tr>\n",
       "    <tr>\n",
       "      <th>3</th>\n",
       "      <td>3</td>\n",
       "      <td>Окей</td>\n",
       "      <td>г Москва, ул Озёрная, д 50</td>\n",
       "      <td>NaN</td>\n",
       "      <td>01.05.2022 13:26:00</td>\n",
       "      <td>9960440300975081:11611</td>\n",
       "      <td>Яблоки кг</td>\n",
       "      <td>87.49</td>\n",
       "      <td>1.30</td>\n",
       "      <td>113.74</td>\n",
       "      <td>2387.77</td>\n",
       "      <td>NaN</td>\n",
       "      <td>NaN</td>\n",
       "      <td>ФРОВ</td>\n",
       "      <td>СВЕЖИЕ ФРУКТЫ</td>\n",
       "      <td>ФРУКТЫ ОСНОВНЫЕ</td>\n",
       "      <td>ЯБЛОКИ</td>\n",
       "      <td>ЯБЛОКО</td>\n",
       "      <td>55.66</td>\n",
       "      <td>37.44</td>\n",
       "    </tr>\n",
       "    <tr>\n",
       "      <th>4</th>\n",
       "      <td>4</td>\n",
       "      <td>Окей</td>\n",
       "      <td>г Москва, ул Озёрная, д 50</td>\n",
       "      <td>NaN</td>\n",
       "      <td>04.06.2022 18:19:00</td>\n",
       "      <td>9960440301010969:5365</td>\n",
       "      <td>Апельсины кг</td>\n",
       "      <td>109.99</td>\n",
       "      <td>1.69</td>\n",
       "      <td>186.10</td>\n",
       "      <td>13641.60</td>\n",
       "      <td>NaN</td>\n",
       "      <td>NaN</td>\n",
       "      <td>NaN</td>\n",
       "      <td>NaN</td>\n",
       "      <td>NaN</td>\n",
       "      <td>NaN</td>\n",
       "      <td>NaN</td>\n",
       "      <td>55.66</td>\n",
       "      <td>37.44</td>\n",
       "    </tr>\n",
       "  </tbody>\n",
       "</table>\n",
       "</div>"
      ],
      "text/plain": [
       "   index client_NT             text_kktAddress Идентификатор покупателя  \\\n",
       "0      0      Окей  г Москва, ул Озёрная, д 50                      NaN   \n",
       "1      1      Окей  г Москва, ул Озёрная, д 50                      NaN   \n",
       "2      2      Окей  г Москва, ул Озёрная, д 50                      NaN   \n",
       "3      3      Окей  г Москва, ул Озёрная, д 50                      NaN   \n",
       "4      4      Окей  г Москва, ул Озёрная, д 50                      NaN   \n",
       "\n",
       "              dateTime              receipt_id          CLEAN_SKU  \\\n",
       "0  26.06.2022 13:51:00  9960440300975081:17128          Бананы кг   \n",
       "1  26.06.2022 13:46:00  9960440300975081:17126  Зажарка Maggi 60г   \n",
       "2  01.05.2022 13:26:00  9960440300975081:11611          Бананы кг   \n",
       "3  01.05.2022 13:26:00  9960440300975081:11611          Яблоки кг   \n",
       "4  04.06.2022 18:19:00   9960440301010969:5365       Апельсины кг   \n",
       "\n",
       "   price_items  quantity_items  sum_items  totalSum RIGHTHOLDER_NT BRAND_NT  \\\n",
       "0        70.38            0.59      41.81   2135.82            NaN      NaN   \n",
       "1        33.42            1.00      33.42   3920.33         NESTLE    MAGGI   \n",
       "2        96.24            0.91      87.58   2387.77            NaN      NaN   \n",
       "3        87.49            1.30     113.74   2387.77            NaN      NaN   \n",
       "4       109.99            1.69     186.10  13641.60            NaN      NaN   \n",
       "\n",
       "  CLASS_NT         GROUP_NT                        CATEGORY_NT  \\\n",
       "0     ФРОВ    СВЕЖИЕ ФРУКТЫ                    ФРУКТЫ ОСНОВНЫЕ   \n",
       "1     БАКЛ  БАКАЛЕЯ СЫПУЧАЯ  ПРИПРАВЫ ДЛЯ ПЕРВЫХ И ВТОРЫХ БЛЮД   \n",
       "2     ФРОВ    СВЕЖИЕ ФРУКТЫ                    ФРУКТЫ ОСНОВНЫЕ   \n",
       "3     ФРОВ    СВЕЖИЕ ФРУКТЫ                    ФРУКТЫ ОСНОВНЫЕ   \n",
       "4      NaN              NaN                                NaN   \n",
       "\n",
       "        SUBCATEGORY_NT              BASE_NT   lat   lon  \n",
       "0               БАНАНЫ                БАНАН 55.66 37.44  \n",
       "1  ПРИПРАВА ДЛЯ ЖАРКОЕ  ПРИПРАВА ДЛЯ ЖАРКОЕ 55.66 37.44  \n",
       "2               БАНАНЫ                БАНАН 55.66 37.44  \n",
       "3               ЯБЛОКИ               ЯБЛОКО 55.66 37.44  \n",
       "4                  NaN                  NaN 55.66 37.44  "
      ]
     },
     "execution_count": 22,
     "metadata": {},
     "output_type": "execute_result"
    }
   ],
   "source": [
    "data.head(5)"
   ]
  },
  {
   "cell_type": "markdown",
   "id": "d7ee7a98",
   "metadata": {},
   "source": [
    "Проверим данные, например, чек номер `9960440300975081:11611`:"
   ]
  },
  {
   "cell_type": "code",
   "execution_count": 23,
   "id": "c5159ca7",
   "metadata": {},
   "outputs": [
    {
     "data": {
      "application/vnd.microsoft.datawrangler.viewer.v0+json": {
       "columns": [
        {
         "name": "index",
         "rawType": "int64",
         "type": "integer"
        },
        {
         "name": "index",
         "rawType": "int64",
         "type": "integer"
        },
        {
         "name": "client_NT",
         "rawType": "category",
         "type": "unknown"
        },
        {
         "name": "text_kktAddress",
         "rawType": "category",
         "type": "unknown"
        },
        {
         "name": "Идентификатор покупателя",
         "rawType": "object",
         "type": "unknown"
        },
        {
         "name": "dateTime",
         "rawType": "object",
         "type": "string"
        },
        {
         "name": "receipt_id",
         "rawType": "object",
         "type": "string"
        },
        {
         "name": "CLEAN_SKU",
         "rawType": "object",
         "type": "string"
        },
        {
         "name": "price_items",
         "rawType": "float32",
         "type": "float"
        },
        {
         "name": "quantity_items",
         "rawType": "float32",
         "type": "float"
        },
        {
         "name": "sum_items",
         "rawType": "float32",
         "type": "float"
        },
        {
         "name": "totalSum",
         "rawType": "float32",
         "type": "float"
        },
        {
         "name": "RIGHTHOLDER_NT",
         "rawType": "object",
         "type": "unknown"
        },
        {
         "name": "BRAND_NT",
         "rawType": "category",
         "type": "unknown"
        },
        {
         "name": "CLASS_NT",
         "rawType": "category",
         "type": "unknown"
        },
        {
         "name": "GROUP_NT",
         "rawType": "category",
         "type": "unknown"
        },
        {
         "name": "CATEGORY_NT",
         "rawType": "category",
         "type": "unknown"
        },
        {
         "name": "SUBCATEGORY_NT",
         "rawType": "category",
         "type": "unknown"
        },
        {
         "name": "BASE_NT",
         "rawType": "category",
         "type": "unknown"
        },
        {
         "name": "lat",
         "rawType": "float32",
         "type": "float"
        },
        {
         "name": "lon",
         "rawType": "float32",
         "type": "float"
        }
       ],
       "conversionMethod": "pd.DataFrame",
       "ref": "bd1dbddc-af0f-454d-9f52-153d316bdf63",
       "rows": [
        [
         "2",
         "2",
         "Окей",
         "г Москва, ул Озёрная, д 50",
         null,
         "01.05.2022 13:26:00",
         "9960440300975081:11611",
         "Бананы кг",
         "96.24",
         "0.91",
         "87.58",
         "2387.77",
         null,
         null,
         "ФРОВ",
         "СВЕЖИЕ ФРУКТЫ",
         "ФРУКТЫ ОСНОВНЫЕ",
         "БАНАНЫ",
         "БАНАН",
         "55.66472",
         "37.437218"
        ],
        [
         "3",
         "3",
         "Окей",
         "г Москва, ул Озёрная, д 50",
         null,
         "01.05.2022 13:26:00",
         "9960440300975081:11611",
         "Яблоки кг",
         "87.49",
         "1.3",
         "113.74",
         "2387.77",
         null,
         null,
         "ФРОВ",
         "СВЕЖИЕ ФРУКТЫ",
         "ФРУКТЫ ОСНОВНЫЕ",
         "ЯБЛОКИ",
         "ЯБЛОКО",
         "55.66472",
         "37.437218"
        ],
        [
         "1342543",
         "1342543",
         "Окей",
         "г Москва, ул Озёрная, д 50",
         null,
         "01.05.2022 13:26:00",
         "9960440300975081:11611",
         "Масло льняное Диал-Экспорт нераф 0,5л",
         "182.88",
         "1.0",
         "182.88",
         "2387.77",
         "не определено",
         "DIAL-EXPORT",
         "БАКЛ",
         "РАСТИТЕЛЬНЫЕ МАСЛА",
         "МАСЛО РАСТИТЕЛЬНОЕ",
         "МАСЛО ЛЬНЯНОЕ",
         "МАСЛО ЛЬНЯНОЕ",
         "55.66472",
         "37.437218"
        ],
        [
         "1342544",
         "1342544",
         "Окей",
         "г Москва, ул Озёрная, д 50",
         null,
         "01.05.2022 13:26:00",
         "9960440300975081:11611",
         "Яблоки Гольден фас пакет кг",
         "102.84",
         "1.35",
         "138.83",
         "2387.77",
         null,
         null,
         "ФРОВ",
         "СВЕЖИЕ ФРУКТЫ",
         "ФРУКТЫ ОСНОВНЫЕ",
         "ЯБЛОКИ",
         "ЯБЛОКО",
         "55.66472",
         "37.437218"
        ],
        [
         "1342545",
         "1342545",
         "Окей",
         "г Москва, ул Озёрная, д 50",
         null,
         "01.05.2022 13:26:00",
         "9960440300975081:11611",
         "Кофе ТЧН! Растворимый сублимированный 90г",
         "87.49",
         "1.0",
         "87.49",
         "2387.77",
         "СТМ_ОКЕЙ",
         "ТО, ЧТО НАДО!",
         "ЧКФК",
         "ЧАЙ, КОФЕ",
         "КОФЕ",
         "КОФЕ РАСТВОРИМЫЙ",
         "КОФЕ РАСТВОРИМЫЙ",
         "55.66472",
         "37.437218"
        ],
        [
         "1342546",
         "1342546",
         "Окей",
         "г Москва, ул Озёрная, д 50",
         null,
         "01.05.2022 13:26:00",
         "9960440300975081:11611",
         "Бумага туалетная ТЧН! 1слойная/1рулон/вторсырье",
         "10.49",
         "1.0",
         "10.49",
         "2387.77",
         "СТМ_ОКЕЙ",
         "ТО, ЧТО НАДО!",
         "КЗБХ",
         "УХОД И ГИГИЕНА",
         "ТУАЛЕТНАЯ БУМАГА",
         "ТУАЛЕТНАЯ БУМАГА",
         "БУМАГА ТУАЛЕТНАЯ",
         "55.66472",
         "37.437218"
        ],
        [
         "1342547",
         "1342547",
         "Окей",
         "г Москва, ул Озёрная, д 50",
         null,
         "01.05.2022 13:26:00",
         "9960440300975081:11611",
         "Бумага туалетная ТЧН! 1слойная/1рулон/вторсырье",
         "10.49",
         "1.0",
         "10.49",
         "2387.77",
         "СТМ_ОКЕЙ",
         "ТО, ЧТО НАДО!",
         "КЗБХ",
         "УХОД И ГИГИЕНА",
         "ТУАЛЕТНАЯ БУМАГА",
         "ТУАЛЕТНАЯ БУМАГА",
         "БУМАГА ТУАЛЕТНАЯ",
         "55.66472",
         "37.437218"
        ],
        [
         "1342548",
         "1342548",
         "Окей",
         "г Москва, ул Озёрная, д 50",
         null,
         "01.05.2022 13:26:00",
         "9960440300975081:11611",
         "Бумага туалетная ТЧН! 1слойная/1рулон/вторсырье",
         "10.49",
         "1.0",
         "10.49",
         "2387.77",
         "СТМ_ОКЕЙ",
         "ТО, ЧТО НАДО!",
         "КЗБХ",
         "УХОД И ГИГИЕНА",
         "ТУАЛЕТНАЯ БУМАГА",
         "ТУАЛЕТНАЯ БУМАГА",
         "БУМАГА ТУАЛЕТНАЯ",
         "55.66472",
         "37.437218"
        ],
        [
         "1342549",
         "1342549",
         "Окей",
         "г Москва, ул Озёрная, д 50",
         null,
         "01.05.2022 13:26:00",
         "9960440300975081:11611",
         "Макароны Макфа паутинка 450г",
         "60.76",
         "1.0",
         "60.76",
         "2387.77",
         "не определено",
         "MAKFA",
         "БАКЛ",
         "БАКАЛЕЯ СЫПУЧАЯ",
         "МАКАРОННЫЕ ИЗДЕЛИЯ",
         "МАКАРОНЫ ФИГУРНЫЕ",
         "МАКАРОНЫ",
         "55.66472",
         "37.437218"
        ],
        [
         "1342550",
         "1342550",
         "Окей",
         "г Москва, ул Озёрная, д 50",
         null,
         "01.05.2022 13:26:00",
         "9960440300975081:11611",
         "Хлопья овсяные Русский продукт Геркулес Монастырский 500г",
         "60.77",
         "1.0",
         "60.77",
         "2387.77",
         "РУССКИЕ ПРОДУКТЫ ТОРГ",
         "РУССКИЙ ПРОДУКТ",
         "БАКЛ",
         "БАКАЛЕЯ СЫПУЧАЯ",
         "ХЛОПЬЯ",
         "ХЛОПЬЯ ОВСЯНЫЕ",
         "ХЛОПЬЯ ОВСЯНЫЕ",
         "55.66472",
         "37.437218"
        ],
        [
         "1342551",
         "1342551",
         "Окей",
         "г Москва, ул Озёрная, д 50",
         null,
         "01.05.2022 13:26:00",
         "9960440300975081:11611",
         "Хлопья овсяные Геркулес традиционный 500г",
         "60.77",
         "1.0",
         "60.77",
         "2387.77",
         null,
         null,
         "БАКЛ",
         "БАКАЛЕЯ СЫПУЧАЯ",
         "ХЛОПЬЯ",
         "ХЛОПЬЯ ОВСЯНЫЕ",
         "ХЛОПЬЯ ОВСЯНЫЕ",
         "55.66472",
         "37.437218"
        ],
        [
         "1342552",
         "1342552",
         "Окей",
         "г Москва, ул Озёрная, д 50",
         null,
         "01.05.2022 13:26:00",
         "9960440300975081:11611",
         "Фундук ТЧН! 150г",
         "126.22",
         "1.0",
         "126.22",
         "2387.77",
         "СТМ_ОКЕЙ",
         "ТО, ЧТО НАДО!",
         "БАКЛ",
         "ЗАКУСКИ К АПЕРИТИВАМ (СНЕКИ, ЧИПСЫ)",
         "ОРЕХИ",
         "ФУНДУК",
         "ФУНДУК",
         "55.66472",
         "37.437218"
        ],
        [
         "1342553",
         "1342553",
         "Окей",
         "г Москва, ул Озёрная, д 50",
         null,
         "01.05.2022 13:26:00",
         "9960440300975081:11611",
         "Макароны Макфа паутинка 450г",
         "60.77",
         "1.0",
         "60.77",
         "2387.77",
         "не определено",
         "MAKFA",
         "БАКЛ",
         "БАКАЛЕЯ СЫПУЧАЯ",
         "МАКАРОННЫЕ ИЗДЕЛИЯ",
         "МАКАРОНЫ ФИГУРНЫЕ",
         "МАКАРОНЫ",
         "55.66472",
         "37.437218"
        ],
        [
         "1342554",
         "1342554",
         "Окей",
         "г Москва, ул Озёрная, д 50",
         null,
         "01.05.2022 13:26:00",
         "9960440300975081:11611",
         "Кофе ТЧН! Растворимый сублимированный 90г",
         "87.49",
         "1.0",
         "87.49",
         "2387.77",
         "СТМ_ОКЕЙ",
         "ТО, ЧТО НАДО!",
         "ЧКФК",
         "ЧАЙ, КОФЕ",
         "КОФЕ",
         "КОФЕ РАСТВОРИМЫЙ",
         "КОФЕ РАСТВОРИМЫЙ",
         "55.66472",
         "37.437218"
        ],
        [
         "1342555",
         "1342555",
         "Окей",
         "г Москва, ул Озёрная, д 50",
         null,
         "01.05.2022 13:26:00",
         "9960440300975081:11611",
         "Семена льна ОГО! 150г",
         "37.62",
         "1.0",
         "37.62",
         "2387.77",
         "РК ЕВРОПРЕСТИЖ",
         "ОГО!",
         "БАКЛ",
         "ДИАБЕТИЧЕСКОЕ ПИТАНИЕ",
         "СЕМЕНА И ЗЕРНА",
         "СЕМЕНА ЛЬНА",
         "СЕМЕНА ЛЬНА",
         "55.66472",
         "37.437218"
        ],
        [
         "1342556",
         "1342556",
         "Окей",
         "г Москва, ул Озёрная, д 50",
         null,
         "01.05.2022 13:26:00",
         "9960440300975081:11611",
         "Чай зеленый ТЧН! байховый с ароматом жасмина 100г",
         "26.24",
         "1.0",
         "26.24",
         "2387.77",
         "СТМ_ОКЕЙ",
         "ТО, ЧТО НАДО!",
         "ЧКФК",
         "ЧАЙ, КОФЕ",
         "ЧАЙ",
         "ЧАЙ ЗЕЛЕНЫЙ",
         "ЧАЙ ЗЕЛЕНЫЙ",
         "55.66472",
         "37.437218"
        ],
        [
         "1342557",
         "1342557",
         "Окей",
         "г Москва, ул Озёрная, д 50",
         null,
         "01.05.2022 13:26:00",
         "9960440300975081:11611",
         "Огурцы среднеплодные гладкие тепличные кг",
         "93.49",
         "0.406",
         "37.96",
         "2387.77",
         null,
         null,
         "ФРОВ",
         "СВЕЖИЕ ОВОЩИ",
         "ОВОЩИ ОСНОВНЫЕ",
         "ОГУРЕЦ",
         "ОГУРЕЦ",
         "55.66472",
         "37.437218"
        ],
        [
         "1342558",
         "1342558",
         "Окей",
         "г Москва, ул Озёрная, д 50",
         null,
         "01.05.2022 13:26:00",
         "9960440300975081:11611",
         "Свекла кг",
         "55.11",
         "0.51",
         "28.11",
         "2387.77",
         null,
         null,
         "ФРОВ",
         "СВЕЖИЕ ОВОЩИ",
         "КОРНЕПЛОДЫ",
         "СВЕКЛА",
         "СВЕКЛА",
         "55.66472",
         "37.437218"
        ],
        [
         "1342559",
         "1342559",
         "Окей",
         "г Москва, ул Озёрная, д 50",
         null,
         "01.05.2022 13:26:00",
         "9960440300975081:11611",
         "Томат Черри Дарк 250г",
         "112.19",
         "1.0",
         "112.19",
         "2387.77",
         null,
         null,
         "ФРОВ",
         "СВЕЖИЕ ОВОЩИ",
         "ОВОЩИ ОСНОВНЫЕ",
         "ЧЕРРИ",
         "ЧЕРРИ",
         "55.66472",
         "37.437218"
        ],
        [
         "1342560",
         "1342560",
         "Окей",
         "г Москва, ул Озёрная, д 50",
         null,
         "01.05.2022 13:26:00",
         "9960440300975081:11611",
         "Томаты розовые кг",
         "186.98",
         "0.6",
         "112.19",
         "2387.77",
         null,
         null,
         "ФРОВ",
         "СВЕЖИЕ ОВОЩИ",
         "ОВОЩИ ОСНОВНЫЕ",
         "ТОМАТ",
         "ТОМАТ",
         "55.66472",
         "37.437218"
        ],
        [
         "1342561",
         "1342561",
         "Окей",
         "г Москва, ул Озёрная, д 50",
         null,
         "01.05.2022 13:26:00",
         "9960440300975081:11611",
         "Клубника 250г упак",
         "186.99",
         "1.0",
         "186.99",
         "2387.77",
         null,
         null,
         "ФРОВ",
         "СВЕЖИЕ ФРУКТЫ",
         "ЯГОДЫ",
         "КЛУБНИКА",
         "КЛУБНИКА",
         "55.66472",
         "37.437218"
        ],
        [
         "1342562",
         "1342562",
         "Окей",
         "г Москва, ул Озёрная, д 50",
         null,
         "01.05.2022 13:26:00",
         "9960440300975081:11611",
         "Лосось розовый Беринг 245г",
         "139.99",
         "1.0",
         "139.99",
         "2387.77",
         "GAMMA-A SIA",
         "БЕРИНГ",
         null,
         null,
         null,
         null,
         null,
         "55.66472",
         "37.437218"
        ],
        [
         "1342563",
         "1342563",
         "Окей",
         "г Москва, ул Озёрная, д 50",
         null,
         "01.05.2022 13:26:00",
         "9960440300975081:11611",
         "БЗМЖ Сметана из молока Нашей Дойки 20% 315г",
         "95.36",
         "1.0",
         "95.36",
         "2387.77",
         "ШЕСТАКОВО",
         "НАШЕЙ ДОЙКИ",
         "МЛДП",
         "МОЛОЧНАЯ ПРОДУКЦИЯ",
         "СМЕТАНА",
         "СМЕТАНА",
         "СМЕТАНА",
         "55.66472",
         "37.437218"
        ],
        [
         "1342564",
         "1342564",
         "Окей",
         "г Москва, ул Озёрная, д 50",
         null,
         "01.05.2022 13:26:00",
         "9960440300975081:11611",
         "Морская капуста в маринаде (без уксуса) Натуро Vici 450г",
         "93.49",
         "1.0",
         "93.49",
         "2387.77",
         "VICIUNAI GROUP",
         "VICI",
         "РЫБА",
         "РЫБНАЯ ГАСТРОНОМИЯ",
         "ПРЕСЕРВЫ ИЗ ВОДОРОСЛЕЙ",
         "МОРСКАЯ КАПУСТА",
         "КАПУСТА МОРСКАЯ",
         "55.66472",
         "37.437218"
        ],
        [
         "1342565",
         "1342565",
         "Окей",
         "г Москва, ул Озёрная, д 50",
         null,
         "01.05.2022 13:26:00",
         "9960440300975081:11611",
         "БЗМЖ Творог ОКЕЙ 9% 750г пакет",
         "161.74",
         "1.0",
         "161.74",
         "2387.77",
         "СТМ_ОКЕЙ",
         "СТМ ОКЕЙ",
         "МЛДП",
         "МОЛОЧНАЯ ПРОДУКЦИЯ",
         "ТВОРОЖНАЯ ГРУППА",
         "ТВОРОГ ПРОЧИЙ",
         "ТВОРОГ ПРОЧИЙ",
         "55.66472",
         "37.437218"
        ],
        [
         "1342566",
         "1342566",
         "Окей",
         "г Москва, ул Озёрная, д 50",
         null,
         "01.05.2022 13:26:00",
         "9960440300975081:11611",
         "БЗМЖ Творог ОКЕЙ 9% 750г пакет",
         "161.75",
         "1.0",
         "161.75",
         "2387.77",
         "СТМ_ОКЕЙ",
         "СТМ ОКЕЙ",
         "МЛДП",
         "МОЛОЧНАЯ ПРОДУКЦИЯ",
         "ТВОРОЖНАЯ ГРУППА",
         "ТВОРОГ ПРОЧИЙ",
         "ТВОРОГ ПРОЧИЙ",
         "55.66472",
         "37.437218"
        ],
        [
         "1342567",
         "1342567",
         "Окей",
         "г Москва, ул Озёрная, д 50",
         null,
         "01.05.2022 13:26:00",
         "9960440300975081:11611",
         "БЗМЖ Сметана из молока Нашей Дойки 20% 315г",
         "95.37",
         "1.0",
         "95.37",
         "2387.77",
         "ШЕСТАКОВО",
         "НАШЕЙ ДОЙКИ",
         "МЛДП",
         "МОЛОЧНАЯ ПРОДУКЦИЯ",
         "СМЕТАНА",
         "СМЕТАНА",
         "СМЕТАНА",
         "55.66472",
         "37.437218"
        ]
       ],
       "shape": {
        "columns": 20,
        "rows": 27
       }
      },
      "text/html": [
       "<div>\n",
       "<style scoped>\n",
       "    .dataframe tbody tr th:only-of-type {\n",
       "        vertical-align: middle;\n",
       "    }\n",
       "\n",
       "    .dataframe tbody tr th {\n",
       "        vertical-align: top;\n",
       "    }\n",
       "\n",
       "    .dataframe thead th {\n",
       "        text-align: right;\n",
       "    }\n",
       "</style>\n",
       "<table border=\"1\" class=\"dataframe\">\n",
       "  <thead>\n",
       "    <tr style=\"text-align: right;\">\n",
       "      <th></th>\n",
       "      <th>index</th>\n",
       "      <th>client_NT</th>\n",
       "      <th>text_kktAddress</th>\n",
       "      <th>Идентификатор покупателя</th>\n",
       "      <th>dateTime</th>\n",
       "      <th>receipt_id</th>\n",
       "      <th>CLEAN_SKU</th>\n",
       "      <th>price_items</th>\n",
       "      <th>quantity_items</th>\n",
       "      <th>sum_items</th>\n",
       "      <th>totalSum</th>\n",
       "      <th>RIGHTHOLDER_NT</th>\n",
       "      <th>BRAND_NT</th>\n",
       "      <th>CLASS_NT</th>\n",
       "      <th>GROUP_NT</th>\n",
       "      <th>CATEGORY_NT</th>\n",
       "      <th>SUBCATEGORY_NT</th>\n",
       "      <th>BASE_NT</th>\n",
       "      <th>lat</th>\n",
       "      <th>lon</th>\n",
       "    </tr>\n",
       "  </thead>\n",
       "  <tbody>\n",
       "    <tr>\n",
       "      <th>2</th>\n",
       "      <td>2</td>\n",
       "      <td>Окей</td>\n",
       "      <td>г Москва, ул Озёрная, д 50</td>\n",
       "      <td>NaN</td>\n",
       "      <td>01.05.2022 13:26:00</td>\n",
       "      <td>9960440300975081:11611</td>\n",
       "      <td>Бананы кг</td>\n",
       "      <td>96.24</td>\n",
       "      <td>0.91</td>\n",
       "      <td>87.58</td>\n",
       "      <td>2387.77</td>\n",
       "      <td>NaN</td>\n",
       "      <td>NaN</td>\n",
       "      <td>ФРОВ</td>\n",
       "      <td>СВЕЖИЕ ФРУКТЫ</td>\n",
       "      <td>ФРУКТЫ ОСНОВНЫЕ</td>\n",
       "      <td>БАНАНЫ</td>\n",
       "      <td>БАНАН</td>\n",
       "      <td>55.66</td>\n",
       "      <td>37.44</td>\n",
       "    </tr>\n",
       "    <tr>\n",
       "      <th>3</th>\n",
       "      <td>3</td>\n",
       "      <td>Окей</td>\n",
       "      <td>г Москва, ул Озёрная, д 50</td>\n",
       "      <td>NaN</td>\n",
       "      <td>01.05.2022 13:26:00</td>\n",
       "      <td>9960440300975081:11611</td>\n",
       "      <td>Яблоки кг</td>\n",
       "      <td>87.49</td>\n",
       "      <td>1.30</td>\n",
       "      <td>113.74</td>\n",
       "      <td>2387.77</td>\n",
       "      <td>NaN</td>\n",
       "      <td>NaN</td>\n",
       "      <td>ФРОВ</td>\n",
       "      <td>СВЕЖИЕ ФРУКТЫ</td>\n",
       "      <td>ФРУКТЫ ОСНОВНЫЕ</td>\n",
       "      <td>ЯБЛОКИ</td>\n",
       "      <td>ЯБЛОКО</td>\n",
       "      <td>55.66</td>\n",
       "      <td>37.44</td>\n",
       "    </tr>\n",
       "    <tr>\n",
       "      <th>1342543</th>\n",
       "      <td>1342543</td>\n",
       "      <td>Окей</td>\n",
       "      <td>г Москва, ул Озёрная, д 50</td>\n",
       "      <td>NaN</td>\n",
       "      <td>01.05.2022 13:26:00</td>\n",
       "      <td>9960440300975081:11611</td>\n",
       "      <td>Масло льняное Диал-Экспорт нераф 0,5л</td>\n",
       "      <td>182.88</td>\n",
       "      <td>1.00</td>\n",
       "      <td>182.88</td>\n",
       "      <td>2387.77</td>\n",
       "      <td>не определено</td>\n",
       "      <td>DIAL-EXPORT</td>\n",
       "      <td>БАКЛ</td>\n",
       "      <td>РАСТИТЕЛЬНЫЕ МАСЛА</td>\n",
       "      <td>МАСЛО РАСТИТЕЛЬНОЕ</td>\n",
       "      <td>МАСЛО ЛЬНЯНОЕ</td>\n",
       "      <td>МАСЛО ЛЬНЯНОЕ</td>\n",
       "      <td>55.66</td>\n",
       "      <td>37.44</td>\n",
       "    </tr>\n",
       "    <tr>\n",
       "      <th>1342544</th>\n",
       "      <td>1342544</td>\n",
       "      <td>Окей</td>\n",
       "      <td>г Москва, ул Озёрная, д 50</td>\n",
       "      <td>NaN</td>\n",
       "      <td>01.05.2022 13:26:00</td>\n",
       "      <td>9960440300975081:11611</td>\n",
       "      <td>Яблоки Гольден фас пакет кг</td>\n",
       "      <td>102.84</td>\n",
       "      <td>1.35</td>\n",
       "      <td>138.83</td>\n",
       "      <td>2387.77</td>\n",
       "      <td>NaN</td>\n",
       "      <td>NaN</td>\n",
       "      <td>ФРОВ</td>\n",
       "      <td>СВЕЖИЕ ФРУКТЫ</td>\n",
       "      <td>ФРУКТЫ ОСНОВНЫЕ</td>\n",
       "      <td>ЯБЛОКИ</td>\n",
       "      <td>ЯБЛОКО</td>\n",
       "      <td>55.66</td>\n",
       "      <td>37.44</td>\n",
       "    </tr>\n",
       "    <tr>\n",
       "      <th>1342545</th>\n",
       "      <td>1342545</td>\n",
       "      <td>Окей</td>\n",
       "      <td>г Москва, ул Озёрная, д 50</td>\n",
       "      <td>NaN</td>\n",
       "      <td>01.05.2022 13:26:00</td>\n",
       "      <td>9960440300975081:11611</td>\n",
       "      <td>Кофе ТЧН! Растворимый сублимированный 90г</td>\n",
       "      <td>87.49</td>\n",
       "      <td>1.00</td>\n",
       "      <td>87.49</td>\n",
       "      <td>2387.77</td>\n",
       "      <td>СТМ_ОКЕЙ</td>\n",
       "      <td>ТО, ЧТО НАДО!</td>\n",
       "      <td>ЧКФК</td>\n",
       "      <td>ЧАЙ, КОФЕ</td>\n",
       "      <td>КОФЕ</td>\n",
       "      <td>КОФЕ РАСТВОРИМЫЙ</td>\n",
       "      <td>КОФЕ РАСТВОРИМЫЙ</td>\n",
       "      <td>55.66</td>\n",
       "      <td>37.44</td>\n",
       "    </tr>\n",
       "    <tr>\n",
       "      <th>1342546</th>\n",
       "      <td>1342546</td>\n",
       "      <td>Окей</td>\n",
       "      <td>г Москва, ул Озёрная, д 50</td>\n",
       "      <td>NaN</td>\n",
       "      <td>01.05.2022 13:26:00</td>\n",
       "      <td>9960440300975081:11611</td>\n",
       "      <td>Бумага туалетная ТЧН! 1слойная/1рулон/вторсырье</td>\n",
       "      <td>10.49</td>\n",
       "      <td>1.00</td>\n",
       "      <td>10.49</td>\n",
       "      <td>2387.77</td>\n",
       "      <td>СТМ_ОКЕЙ</td>\n",
       "      <td>ТО, ЧТО НАДО!</td>\n",
       "      <td>КЗБХ</td>\n",
       "      <td>УХОД И ГИГИЕНА</td>\n",
       "      <td>ТУАЛЕТНАЯ БУМАГА</td>\n",
       "      <td>ТУАЛЕТНАЯ БУМАГА</td>\n",
       "      <td>БУМАГА ТУАЛЕТНАЯ</td>\n",
       "      <td>55.66</td>\n",
       "      <td>37.44</td>\n",
       "    </tr>\n",
       "    <tr>\n",
       "      <th>1342547</th>\n",
       "      <td>1342547</td>\n",
       "      <td>Окей</td>\n",
       "      <td>г Москва, ул Озёрная, д 50</td>\n",
       "      <td>NaN</td>\n",
       "      <td>01.05.2022 13:26:00</td>\n",
       "      <td>9960440300975081:11611</td>\n",
       "      <td>Бумага туалетная ТЧН! 1слойная/1рулон/вторсырье</td>\n",
       "      <td>10.49</td>\n",
       "      <td>1.00</td>\n",
       "      <td>10.49</td>\n",
       "      <td>2387.77</td>\n",
       "      <td>СТМ_ОКЕЙ</td>\n",
       "      <td>ТО, ЧТО НАДО!</td>\n",
       "      <td>КЗБХ</td>\n",
       "      <td>УХОД И ГИГИЕНА</td>\n",
       "      <td>ТУАЛЕТНАЯ БУМАГА</td>\n",
       "      <td>ТУАЛЕТНАЯ БУМАГА</td>\n",
       "      <td>БУМАГА ТУАЛЕТНАЯ</td>\n",
       "      <td>55.66</td>\n",
       "      <td>37.44</td>\n",
       "    </tr>\n",
       "    <tr>\n",
       "      <th>1342548</th>\n",
       "      <td>1342548</td>\n",
       "      <td>Окей</td>\n",
       "      <td>г Москва, ул Озёрная, д 50</td>\n",
       "      <td>NaN</td>\n",
       "      <td>01.05.2022 13:26:00</td>\n",
       "      <td>9960440300975081:11611</td>\n",
       "      <td>Бумага туалетная ТЧН! 1слойная/1рулон/вторсырье</td>\n",
       "      <td>10.49</td>\n",
       "      <td>1.00</td>\n",
       "      <td>10.49</td>\n",
       "      <td>2387.77</td>\n",
       "      <td>СТМ_ОКЕЙ</td>\n",
       "      <td>ТО, ЧТО НАДО!</td>\n",
       "      <td>КЗБХ</td>\n",
       "      <td>УХОД И ГИГИЕНА</td>\n",
       "      <td>ТУАЛЕТНАЯ БУМАГА</td>\n",
       "      <td>ТУАЛЕТНАЯ БУМАГА</td>\n",
       "      <td>БУМАГА ТУАЛЕТНАЯ</td>\n",
       "      <td>55.66</td>\n",
       "      <td>37.44</td>\n",
       "    </tr>\n",
       "    <tr>\n",
       "      <th>1342549</th>\n",
       "      <td>1342549</td>\n",
       "      <td>Окей</td>\n",
       "      <td>г Москва, ул Озёрная, д 50</td>\n",
       "      <td>NaN</td>\n",
       "      <td>01.05.2022 13:26:00</td>\n",
       "      <td>9960440300975081:11611</td>\n",
       "      <td>Макароны Макфа паутинка 450г</td>\n",
       "      <td>60.76</td>\n",
       "      <td>1.00</td>\n",
       "      <td>60.76</td>\n",
       "      <td>2387.77</td>\n",
       "      <td>не определено</td>\n",
       "      <td>MAKFA</td>\n",
       "      <td>БАКЛ</td>\n",
       "      <td>БАКАЛЕЯ СЫПУЧАЯ</td>\n",
       "      <td>МАКАРОННЫЕ ИЗДЕЛИЯ</td>\n",
       "      <td>МАКАРОНЫ ФИГУРНЫЕ</td>\n",
       "      <td>МАКАРОНЫ</td>\n",
       "      <td>55.66</td>\n",
       "      <td>37.44</td>\n",
       "    </tr>\n",
       "    <tr>\n",
       "      <th>1342550</th>\n",
       "      <td>1342550</td>\n",
       "      <td>Окей</td>\n",
       "      <td>г Москва, ул Озёрная, д 50</td>\n",
       "      <td>NaN</td>\n",
       "      <td>01.05.2022 13:26:00</td>\n",
       "      <td>9960440300975081:11611</td>\n",
       "      <td>Хлопья овсяные Русский продукт Геркулес Монаст...</td>\n",
       "      <td>60.77</td>\n",
       "      <td>1.00</td>\n",
       "      <td>60.77</td>\n",
       "      <td>2387.77</td>\n",
       "      <td>РУССКИЕ ПРОДУКТЫ ТОРГ</td>\n",
       "      <td>РУССКИЙ ПРОДУКТ</td>\n",
       "      <td>БАКЛ</td>\n",
       "      <td>БАКАЛЕЯ СЫПУЧАЯ</td>\n",
       "      <td>ХЛОПЬЯ</td>\n",
       "      <td>ХЛОПЬЯ ОВСЯНЫЕ</td>\n",
       "      <td>ХЛОПЬЯ ОВСЯНЫЕ</td>\n",
       "      <td>55.66</td>\n",
       "      <td>37.44</td>\n",
       "    </tr>\n",
       "    <tr>\n",
       "      <th>1342551</th>\n",
       "      <td>1342551</td>\n",
       "      <td>Окей</td>\n",
       "      <td>г Москва, ул Озёрная, д 50</td>\n",
       "      <td>NaN</td>\n",
       "      <td>01.05.2022 13:26:00</td>\n",
       "      <td>9960440300975081:11611</td>\n",
       "      <td>Хлопья овсяные Геркулес традиционный 500г</td>\n",
       "      <td>60.77</td>\n",
       "      <td>1.00</td>\n",
       "      <td>60.77</td>\n",
       "      <td>2387.77</td>\n",
       "      <td>NaN</td>\n",
       "      <td>NaN</td>\n",
       "      <td>БАКЛ</td>\n",
       "      <td>БАКАЛЕЯ СЫПУЧАЯ</td>\n",
       "      <td>ХЛОПЬЯ</td>\n",
       "      <td>ХЛОПЬЯ ОВСЯНЫЕ</td>\n",
       "      <td>ХЛОПЬЯ ОВСЯНЫЕ</td>\n",
       "      <td>55.66</td>\n",
       "      <td>37.44</td>\n",
       "    </tr>\n",
       "    <tr>\n",
       "      <th>1342552</th>\n",
       "      <td>1342552</td>\n",
       "      <td>Окей</td>\n",
       "      <td>г Москва, ул Озёрная, д 50</td>\n",
       "      <td>NaN</td>\n",
       "      <td>01.05.2022 13:26:00</td>\n",
       "      <td>9960440300975081:11611</td>\n",
       "      <td>Фундук ТЧН! 150г</td>\n",
       "      <td>126.22</td>\n",
       "      <td>1.00</td>\n",
       "      <td>126.22</td>\n",
       "      <td>2387.77</td>\n",
       "      <td>СТМ_ОКЕЙ</td>\n",
       "      <td>ТО, ЧТО НАДО!</td>\n",
       "      <td>БАКЛ</td>\n",
       "      <td>ЗАКУСКИ К АПЕРИТИВАМ (СНЕКИ, ЧИПСЫ)</td>\n",
       "      <td>ОРЕХИ</td>\n",
       "      <td>ФУНДУК</td>\n",
       "      <td>ФУНДУК</td>\n",
       "      <td>55.66</td>\n",
       "      <td>37.44</td>\n",
       "    </tr>\n",
       "    <tr>\n",
       "      <th>1342553</th>\n",
       "      <td>1342553</td>\n",
       "      <td>Окей</td>\n",
       "      <td>г Москва, ул Озёрная, д 50</td>\n",
       "      <td>NaN</td>\n",
       "      <td>01.05.2022 13:26:00</td>\n",
       "      <td>9960440300975081:11611</td>\n",
       "      <td>Макароны Макфа паутинка 450г</td>\n",
       "      <td>60.77</td>\n",
       "      <td>1.00</td>\n",
       "      <td>60.77</td>\n",
       "      <td>2387.77</td>\n",
       "      <td>не определено</td>\n",
       "      <td>MAKFA</td>\n",
       "      <td>БАКЛ</td>\n",
       "      <td>БАКАЛЕЯ СЫПУЧАЯ</td>\n",
       "      <td>МАКАРОННЫЕ ИЗДЕЛИЯ</td>\n",
       "      <td>МАКАРОНЫ ФИГУРНЫЕ</td>\n",
       "      <td>МАКАРОНЫ</td>\n",
       "      <td>55.66</td>\n",
       "      <td>37.44</td>\n",
       "    </tr>\n",
       "    <tr>\n",
       "      <th>1342554</th>\n",
       "      <td>1342554</td>\n",
       "      <td>Окей</td>\n",
       "      <td>г Москва, ул Озёрная, д 50</td>\n",
       "      <td>NaN</td>\n",
       "      <td>01.05.2022 13:26:00</td>\n",
       "      <td>9960440300975081:11611</td>\n",
       "      <td>Кофе ТЧН! Растворимый сублимированный 90г</td>\n",
       "      <td>87.49</td>\n",
       "      <td>1.00</td>\n",
       "      <td>87.49</td>\n",
       "      <td>2387.77</td>\n",
       "      <td>СТМ_ОКЕЙ</td>\n",
       "      <td>ТО, ЧТО НАДО!</td>\n",
       "      <td>ЧКФК</td>\n",
       "      <td>ЧАЙ, КОФЕ</td>\n",
       "      <td>КОФЕ</td>\n",
       "      <td>КОФЕ РАСТВОРИМЫЙ</td>\n",
       "      <td>КОФЕ РАСТВОРИМЫЙ</td>\n",
       "      <td>55.66</td>\n",
       "      <td>37.44</td>\n",
       "    </tr>\n",
       "    <tr>\n",
       "      <th>1342555</th>\n",
       "      <td>1342555</td>\n",
       "      <td>Окей</td>\n",
       "      <td>г Москва, ул Озёрная, д 50</td>\n",
       "      <td>NaN</td>\n",
       "      <td>01.05.2022 13:26:00</td>\n",
       "      <td>9960440300975081:11611</td>\n",
       "      <td>Семена льна ОГО! 150г</td>\n",
       "      <td>37.62</td>\n",
       "      <td>1.00</td>\n",
       "      <td>37.62</td>\n",
       "      <td>2387.77</td>\n",
       "      <td>РК ЕВРОПРЕСТИЖ</td>\n",
       "      <td>ОГО!</td>\n",
       "      <td>БАКЛ</td>\n",
       "      <td>ДИАБЕТИЧЕСКОЕ ПИТАНИЕ</td>\n",
       "      <td>СЕМЕНА И ЗЕРНА</td>\n",
       "      <td>СЕМЕНА ЛЬНА</td>\n",
       "      <td>СЕМЕНА ЛЬНА</td>\n",
       "      <td>55.66</td>\n",
       "      <td>37.44</td>\n",
       "    </tr>\n",
       "    <tr>\n",
       "      <th>1342556</th>\n",
       "      <td>1342556</td>\n",
       "      <td>Окей</td>\n",
       "      <td>г Москва, ул Озёрная, д 50</td>\n",
       "      <td>NaN</td>\n",
       "      <td>01.05.2022 13:26:00</td>\n",
       "      <td>9960440300975081:11611</td>\n",
       "      <td>Чай зеленый ТЧН! байховый с ароматом жасмина 100г</td>\n",
       "      <td>26.24</td>\n",
       "      <td>1.00</td>\n",
       "      <td>26.24</td>\n",
       "      <td>2387.77</td>\n",
       "      <td>СТМ_ОКЕЙ</td>\n",
       "      <td>ТО, ЧТО НАДО!</td>\n",
       "      <td>ЧКФК</td>\n",
       "      <td>ЧАЙ, КОФЕ</td>\n",
       "      <td>ЧАЙ</td>\n",
       "      <td>ЧАЙ ЗЕЛЕНЫЙ</td>\n",
       "      <td>ЧАЙ ЗЕЛЕНЫЙ</td>\n",
       "      <td>55.66</td>\n",
       "      <td>37.44</td>\n",
       "    </tr>\n",
       "    <tr>\n",
       "      <th>1342557</th>\n",
       "      <td>1342557</td>\n",
       "      <td>Окей</td>\n",
       "      <td>г Москва, ул Озёрная, д 50</td>\n",
       "      <td>NaN</td>\n",
       "      <td>01.05.2022 13:26:00</td>\n",
       "      <td>9960440300975081:11611</td>\n",
       "      <td>Огурцы среднеплодные гладкие тепличные кг</td>\n",
       "      <td>93.49</td>\n",
       "      <td>0.41</td>\n",
       "      <td>37.96</td>\n",
       "      <td>2387.77</td>\n",
       "      <td>NaN</td>\n",
       "      <td>NaN</td>\n",
       "      <td>ФРОВ</td>\n",
       "      <td>СВЕЖИЕ ОВОЩИ</td>\n",
       "      <td>ОВОЩИ ОСНОВНЫЕ</td>\n",
       "      <td>ОГУРЕЦ</td>\n",
       "      <td>ОГУРЕЦ</td>\n",
       "      <td>55.66</td>\n",
       "      <td>37.44</td>\n",
       "    </tr>\n",
       "    <tr>\n",
       "      <th>1342558</th>\n",
       "      <td>1342558</td>\n",
       "      <td>Окей</td>\n",
       "      <td>г Москва, ул Озёрная, д 50</td>\n",
       "      <td>NaN</td>\n",
       "      <td>01.05.2022 13:26:00</td>\n",
       "      <td>9960440300975081:11611</td>\n",
       "      <td>Свекла кг</td>\n",
       "      <td>55.11</td>\n",
       "      <td>0.51</td>\n",
       "      <td>28.11</td>\n",
       "      <td>2387.77</td>\n",
       "      <td>NaN</td>\n",
       "      <td>NaN</td>\n",
       "      <td>ФРОВ</td>\n",
       "      <td>СВЕЖИЕ ОВОЩИ</td>\n",
       "      <td>КОРНЕПЛОДЫ</td>\n",
       "      <td>СВЕКЛА</td>\n",
       "      <td>СВЕКЛА</td>\n",
       "      <td>55.66</td>\n",
       "      <td>37.44</td>\n",
       "    </tr>\n",
       "    <tr>\n",
       "      <th>1342559</th>\n",
       "      <td>1342559</td>\n",
       "      <td>Окей</td>\n",
       "      <td>г Москва, ул Озёрная, д 50</td>\n",
       "      <td>NaN</td>\n",
       "      <td>01.05.2022 13:26:00</td>\n",
       "      <td>9960440300975081:11611</td>\n",
       "      <td>Томат Черри Дарк 250г</td>\n",
       "      <td>112.19</td>\n",
       "      <td>1.00</td>\n",
       "      <td>112.19</td>\n",
       "      <td>2387.77</td>\n",
       "      <td>NaN</td>\n",
       "      <td>NaN</td>\n",
       "      <td>ФРОВ</td>\n",
       "      <td>СВЕЖИЕ ОВОЩИ</td>\n",
       "      <td>ОВОЩИ ОСНОВНЫЕ</td>\n",
       "      <td>ЧЕРРИ</td>\n",
       "      <td>ЧЕРРИ</td>\n",
       "      <td>55.66</td>\n",
       "      <td>37.44</td>\n",
       "    </tr>\n",
       "    <tr>\n",
       "      <th>1342560</th>\n",
       "      <td>1342560</td>\n",
       "      <td>Окей</td>\n",
       "      <td>г Москва, ул Озёрная, д 50</td>\n",
       "      <td>NaN</td>\n",
       "      <td>01.05.2022 13:26:00</td>\n",
       "      <td>9960440300975081:11611</td>\n",
       "      <td>Томаты розовые кг</td>\n",
       "      <td>186.98</td>\n",
       "      <td>0.60</td>\n",
       "      <td>112.19</td>\n",
       "      <td>2387.77</td>\n",
       "      <td>NaN</td>\n",
       "      <td>NaN</td>\n",
       "      <td>ФРОВ</td>\n",
       "      <td>СВЕЖИЕ ОВОЩИ</td>\n",
       "      <td>ОВОЩИ ОСНОВНЫЕ</td>\n",
       "      <td>ТОМАТ</td>\n",
       "      <td>ТОМАТ</td>\n",
       "      <td>55.66</td>\n",
       "      <td>37.44</td>\n",
       "    </tr>\n",
       "    <tr>\n",
       "      <th>1342561</th>\n",
       "      <td>1342561</td>\n",
       "      <td>Окей</td>\n",
       "      <td>г Москва, ул Озёрная, д 50</td>\n",
       "      <td>NaN</td>\n",
       "      <td>01.05.2022 13:26:00</td>\n",
       "      <td>9960440300975081:11611</td>\n",
       "      <td>Клубника 250г упак</td>\n",
       "      <td>186.99</td>\n",
       "      <td>1.00</td>\n",
       "      <td>186.99</td>\n",
       "      <td>2387.77</td>\n",
       "      <td>NaN</td>\n",
       "      <td>NaN</td>\n",
       "      <td>ФРОВ</td>\n",
       "      <td>СВЕЖИЕ ФРУКТЫ</td>\n",
       "      <td>ЯГОДЫ</td>\n",
       "      <td>КЛУБНИКА</td>\n",
       "      <td>КЛУБНИКА</td>\n",
       "      <td>55.66</td>\n",
       "      <td>37.44</td>\n",
       "    </tr>\n",
       "    <tr>\n",
       "      <th>1342562</th>\n",
       "      <td>1342562</td>\n",
       "      <td>Окей</td>\n",
       "      <td>г Москва, ул Озёрная, д 50</td>\n",
       "      <td>NaN</td>\n",
       "      <td>01.05.2022 13:26:00</td>\n",
       "      <td>9960440300975081:11611</td>\n",
       "      <td>Лосось розовый Беринг 245г</td>\n",
       "      <td>139.99</td>\n",
       "      <td>1.00</td>\n",
       "      <td>139.99</td>\n",
       "      <td>2387.77</td>\n",
       "      <td>GAMMA-A SIA</td>\n",
       "      <td>БЕРИНГ</td>\n",
       "      <td>NaN</td>\n",
       "      <td>NaN</td>\n",
       "      <td>NaN</td>\n",
       "      <td>NaN</td>\n",
       "      <td>NaN</td>\n",
       "      <td>55.66</td>\n",
       "      <td>37.44</td>\n",
       "    </tr>\n",
       "    <tr>\n",
       "      <th>1342563</th>\n",
       "      <td>1342563</td>\n",
       "      <td>Окей</td>\n",
       "      <td>г Москва, ул Озёрная, д 50</td>\n",
       "      <td>NaN</td>\n",
       "      <td>01.05.2022 13:26:00</td>\n",
       "      <td>9960440300975081:11611</td>\n",
       "      <td>БЗМЖ Сметана из молока Нашей Дойки 20% 315г</td>\n",
       "      <td>95.36</td>\n",
       "      <td>1.00</td>\n",
       "      <td>95.36</td>\n",
       "      <td>2387.77</td>\n",
       "      <td>ШЕСТАКОВО</td>\n",
       "      <td>НАШЕЙ ДОЙКИ</td>\n",
       "      <td>МЛДП</td>\n",
       "      <td>МОЛОЧНАЯ ПРОДУКЦИЯ</td>\n",
       "      <td>СМЕТАНА</td>\n",
       "      <td>СМЕТАНА</td>\n",
       "      <td>СМЕТАНА</td>\n",
       "      <td>55.66</td>\n",
       "      <td>37.44</td>\n",
       "    </tr>\n",
       "    <tr>\n",
       "      <th>1342564</th>\n",
       "      <td>1342564</td>\n",
       "      <td>Окей</td>\n",
       "      <td>г Москва, ул Озёрная, д 50</td>\n",
       "      <td>NaN</td>\n",
       "      <td>01.05.2022 13:26:00</td>\n",
       "      <td>9960440300975081:11611</td>\n",
       "      <td>Морская капуста в маринаде (без уксуса) Натуро...</td>\n",
       "      <td>93.49</td>\n",
       "      <td>1.00</td>\n",
       "      <td>93.49</td>\n",
       "      <td>2387.77</td>\n",
       "      <td>VICIUNAI GROUP</td>\n",
       "      <td>VICI</td>\n",
       "      <td>РЫБА</td>\n",
       "      <td>РЫБНАЯ ГАСТРОНОМИЯ</td>\n",
       "      <td>ПРЕСЕРВЫ ИЗ ВОДОРОСЛЕЙ</td>\n",
       "      <td>МОРСКАЯ КАПУСТА</td>\n",
       "      <td>КАПУСТА МОРСКАЯ</td>\n",
       "      <td>55.66</td>\n",
       "      <td>37.44</td>\n",
       "    </tr>\n",
       "    <tr>\n",
       "      <th>1342565</th>\n",
       "      <td>1342565</td>\n",
       "      <td>Окей</td>\n",
       "      <td>г Москва, ул Озёрная, д 50</td>\n",
       "      <td>NaN</td>\n",
       "      <td>01.05.2022 13:26:00</td>\n",
       "      <td>9960440300975081:11611</td>\n",
       "      <td>БЗМЖ Творог ОКЕЙ 9% 750г пакет</td>\n",
       "      <td>161.74</td>\n",
       "      <td>1.00</td>\n",
       "      <td>161.74</td>\n",
       "      <td>2387.77</td>\n",
       "      <td>СТМ_ОКЕЙ</td>\n",
       "      <td>СТМ ОКЕЙ</td>\n",
       "      <td>МЛДП</td>\n",
       "      <td>МОЛОЧНАЯ ПРОДУКЦИЯ</td>\n",
       "      <td>ТВОРОЖНАЯ ГРУППА</td>\n",
       "      <td>ТВОРОГ ПРОЧИЙ</td>\n",
       "      <td>ТВОРОГ ПРОЧИЙ</td>\n",
       "      <td>55.66</td>\n",
       "      <td>37.44</td>\n",
       "    </tr>\n",
       "    <tr>\n",
       "      <th>1342566</th>\n",
       "      <td>1342566</td>\n",
       "      <td>Окей</td>\n",
       "      <td>г Москва, ул Озёрная, д 50</td>\n",
       "      <td>NaN</td>\n",
       "      <td>01.05.2022 13:26:00</td>\n",
       "      <td>9960440300975081:11611</td>\n",
       "      <td>БЗМЖ Творог ОКЕЙ 9% 750г пакет</td>\n",
       "      <td>161.75</td>\n",
       "      <td>1.00</td>\n",
       "      <td>161.75</td>\n",
       "      <td>2387.77</td>\n",
       "      <td>СТМ_ОКЕЙ</td>\n",
       "      <td>СТМ ОКЕЙ</td>\n",
       "      <td>МЛДП</td>\n",
       "      <td>МОЛОЧНАЯ ПРОДУКЦИЯ</td>\n",
       "      <td>ТВОРОЖНАЯ ГРУППА</td>\n",
       "      <td>ТВОРОГ ПРОЧИЙ</td>\n",
       "      <td>ТВОРОГ ПРОЧИЙ</td>\n",
       "      <td>55.66</td>\n",
       "      <td>37.44</td>\n",
       "    </tr>\n",
       "    <tr>\n",
       "      <th>1342567</th>\n",
       "      <td>1342567</td>\n",
       "      <td>Окей</td>\n",
       "      <td>г Москва, ул Озёрная, д 50</td>\n",
       "      <td>NaN</td>\n",
       "      <td>01.05.2022 13:26:00</td>\n",
       "      <td>9960440300975081:11611</td>\n",
       "      <td>БЗМЖ Сметана из молока Нашей Дойки 20% 315г</td>\n",
       "      <td>95.37</td>\n",
       "      <td>1.00</td>\n",
       "      <td>95.37</td>\n",
       "      <td>2387.77</td>\n",
       "      <td>ШЕСТАКОВО</td>\n",
       "      <td>НАШЕЙ ДОЙКИ</td>\n",
       "      <td>МЛДП</td>\n",
       "      <td>МОЛОЧНАЯ ПРОДУКЦИЯ</td>\n",
       "      <td>СМЕТАНА</td>\n",
       "      <td>СМЕТАНА</td>\n",
       "      <td>СМЕТАНА</td>\n",
       "      <td>55.66</td>\n",
       "      <td>37.44</td>\n",
       "    </tr>\n",
       "  </tbody>\n",
       "</table>\n",
       "</div>"
      ],
      "text/plain": [
       "           index client_NT             text_kktAddress  \\\n",
       "2              2      Окей  г Москва, ул Озёрная, д 50   \n",
       "3              3      Окей  г Москва, ул Озёрная, д 50   \n",
       "1342543  1342543      Окей  г Москва, ул Озёрная, д 50   \n",
       "1342544  1342544      Окей  г Москва, ул Озёрная, д 50   \n",
       "1342545  1342545      Окей  г Москва, ул Озёрная, д 50   \n",
       "1342546  1342546      Окей  г Москва, ул Озёрная, д 50   \n",
       "1342547  1342547      Окей  г Москва, ул Озёрная, д 50   \n",
       "1342548  1342548      Окей  г Москва, ул Озёрная, д 50   \n",
       "1342549  1342549      Окей  г Москва, ул Озёрная, д 50   \n",
       "1342550  1342550      Окей  г Москва, ул Озёрная, д 50   \n",
       "1342551  1342551      Окей  г Москва, ул Озёрная, д 50   \n",
       "1342552  1342552      Окей  г Москва, ул Озёрная, д 50   \n",
       "1342553  1342553      Окей  г Москва, ул Озёрная, д 50   \n",
       "1342554  1342554      Окей  г Москва, ул Озёрная, д 50   \n",
       "1342555  1342555      Окей  г Москва, ул Озёрная, д 50   \n",
       "1342556  1342556      Окей  г Москва, ул Озёрная, д 50   \n",
       "1342557  1342557      Окей  г Москва, ул Озёрная, д 50   \n",
       "1342558  1342558      Окей  г Москва, ул Озёрная, д 50   \n",
       "1342559  1342559      Окей  г Москва, ул Озёрная, д 50   \n",
       "1342560  1342560      Окей  г Москва, ул Озёрная, д 50   \n",
       "1342561  1342561      Окей  г Москва, ул Озёрная, д 50   \n",
       "1342562  1342562      Окей  г Москва, ул Озёрная, д 50   \n",
       "1342563  1342563      Окей  г Москва, ул Озёрная, д 50   \n",
       "1342564  1342564      Окей  г Москва, ул Озёрная, д 50   \n",
       "1342565  1342565      Окей  г Москва, ул Озёрная, д 50   \n",
       "1342566  1342566      Окей  г Москва, ул Озёрная, д 50   \n",
       "1342567  1342567      Окей  г Москва, ул Озёрная, д 50   \n",
       "\n",
       "        Идентификатор покупателя             dateTime              receipt_id  \\\n",
       "2                            NaN  01.05.2022 13:26:00  9960440300975081:11611   \n",
       "3                            NaN  01.05.2022 13:26:00  9960440300975081:11611   \n",
       "1342543                      NaN  01.05.2022 13:26:00  9960440300975081:11611   \n",
       "1342544                      NaN  01.05.2022 13:26:00  9960440300975081:11611   \n",
       "1342545                      NaN  01.05.2022 13:26:00  9960440300975081:11611   \n",
       "1342546                      NaN  01.05.2022 13:26:00  9960440300975081:11611   \n",
       "1342547                      NaN  01.05.2022 13:26:00  9960440300975081:11611   \n",
       "1342548                      NaN  01.05.2022 13:26:00  9960440300975081:11611   \n",
       "1342549                      NaN  01.05.2022 13:26:00  9960440300975081:11611   \n",
       "1342550                      NaN  01.05.2022 13:26:00  9960440300975081:11611   \n",
       "1342551                      NaN  01.05.2022 13:26:00  9960440300975081:11611   \n",
       "1342552                      NaN  01.05.2022 13:26:00  9960440300975081:11611   \n",
       "1342553                      NaN  01.05.2022 13:26:00  9960440300975081:11611   \n",
       "1342554                      NaN  01.05.2022 13:26:00  9960440300975081:11611   \n",
       "1342555                      NaN  01.05.2022 13:26:00  9960440300975081:11611   \n",
       "1342556                      NaN  01.05.2022 13:26:00  9960440300975081:11611   \n",
       "1342557                      NaN  01.05.2022 13:26:00  9960440300975081:11611   \n",
       "1342558                      NaN  01.05.2022 13:26:00  9960440300975081:11611   \n",
       "1342559                      NaN  01.05.2022 13:26:00  9960440300975081:11611   \n",
       "1342560                      NaN  01.05.2022 13:26:00  9960440300975081:11611   \n",
       "1342561                      NaN  01.05.2022 13:26:00  9960440300975081:11611   \n",
       "1342562                      NaN  01.05.2022 13:26:00  9960440300975081:11611   \n",
       "1342563                      NaN  01.05.2022 13:26:00  9960440300975081:11611   \n",
       "1342564                      NaN  01.05.2022 13:26:00  9960440300975081:11611   \n",
       "1342565                      NaN  01.05.2022 13:26:00  9960440300975081:11611   \n",
       "1342566                      NaN  01.05.2022 13:26:00  9960440300975081:11611   \n",
       "1342567                      NaN  01.05.2022 13:26:00  9960440300975081:11611   \n",
       "\n",
       "                                                 CLEAN_SKU  price_items  \\\n",
       "2                                                Бананы кг        96.24   \n",
       "3                                                Яблоки кг        87.49   \n",
       "1342543              Масло льняное Диал-Экспорт нераф 0,5л       182.88   \n",
       "1342544                        Яблоки Гольден фас пакет кг       102.84   \n",
       "1342545          Кофе ТЧН! Растворимый сублимированный 90г        87.49   \n",
       "1342546    Бумага туалетная ТЧН! 1слойная/1рулон/вторсырье        10.49   \n",
       "1342547    Бумага туалетная ТЧН! 1слойная/1рулон/вторсырье        10.49   \n",
       "1342548    Бумага туалетная ТЧН! 1слойная/1рулон/вторсырье        10.49   \n",
       "1342549                       Макароны Макфа паутинка 450г        60.76   \n",
       "1342550  Хлопья овсяные Русский продукт Геркулес Монаст...        60.77   \n",
       "1342551          Хлопья овсяные Геркулес традиционный 500г        60.77   \n",
       "1342552                                   Фундук ТЧН! 150г       126.22   \n",
       "1342553                       Макароны Макфа паутинка 450г        60.77   \n",
       "1342554          Кофе ТЧН! Растворимый сублимированный 90г        87.49   \n",
       "1342555                              Семена льна ОГО! 150г        37.62   \n",
       "1342556  Чай зеленый ТЧН! байховый с ароматом жасмина 100г        26.24   \n",
       "1342557          Огурцы среднеплодные гладкие тепличные кг        93.49   \n",
       "1342558                                          Свекла кг        55.11   \n",
       "1342559                              Томат Черри Дарк 250г       112.19   \n",
       "1342560                                  Томаты розовые кг       186.98   \n",
       "1342561                                 Клубника 250г упак       186.99   \n",
       "1342562                         Лосось розовый Беринг 245г       139.99   \n",
       "1342563        БЗМЖ Сметана из молока Нашей Дойки 20% 315г        95.36   \n",
       "1342564  Морская капуста в маринаде (без уксуса) Натуро...        93.49   \n",
       "1342565                     БЗМЖ Творог ОКЕЙ 9% 750г пакет       161.74   \n",
       "1342566                     БЗМЖ Творог ОКЕЙ 9% 750г пакет       161.75   \n",
       "1342567        БЗМЖ Сметана из молока Нашей Дойки 20% 315г        95.37   \n",
       "\n",
       "         quantity_items  sum_items  totalSum         RIGHTHOLDER_NT  \\\n",
       "2                  0.91      87.58   2387.77                    NaN   \n",
       "3                  1.30     113.74   2387.77                    NaN   \n",
       "1342543            1.00     182.88   2387.77          не определено   \n",
       "1342544            1.35     138.83   2387.77                    NaN   \n",
       "1342545            1.00      87.49   2387.77               СТМ_ОКЕЙ   \n",
       "1342546            1.00      10.49   2387.77               СТМ_ОКЕЙ   \n",
       "1342547            1.00      10.49   2387.77               СТМ_ОКЕЙ   \n",
       "1342548            1.00      10.49   2387.77               СТМ_ОКЕЙ   \n",
       "1342549            1.00      60.76   2387.77          не определено   \n",
       "1342550            1.00      60.77   2387.77  РУССКИЕ ПРОДУКТЫ ТОРГ   \n",
       "1342551            1.00      60.77   2387.77                    NaN   \n",
       "1342552            1.00     126.22   2387.77               СТМ_ОКЕЙ   \n",
       "1342553            1.00      60.77   2387.77          не определено   \n",
       "1342554            1.00      87.49   2387.77               СТМ_ОКЕЙ   \n",
       "1342555            1.00      37.62   2387.77         РК ЕВРОПРЕСТИЖ   \n",
       "1342556            1.00      26.24   2387.77               СТМ_ОКЕЙ   \n",
       "1342557            0.41      37.96   2387.77                    NaN   \n",
       "1342558            0.51      28.11   2387.77                    NaN   \n",
       "1342559            1.00     112.19   2387.77                    NaN   \n",
       "1342560            0.60     112.19   2387.77                    NaN   \n",
       "1342561            1.00     186.99   2387.77                    NaN   \n",
       "1342562            1.00     139.99   2387.77            GAMMA-A SIA   \n",
       "1342563            1.00      95.36   2387.77              ШЕСТАКОВО   \n",
       "1342564            1.00      93.49   2387.77         VICIUNAI GROUP   \n",
       "1342565            1.00     161.74   2387.77               СТМ_ОКЕЙ   \n",
       "1342566            1.00     161.75   2387.77               СТМ_ОКЕЙ   \n",
       "1342567            1.00      95.37   2387.77              ШЕСТАКОВО   \n",
       "\n",
       "                BRAND_NT CLASS_NT                             GROUP_NT  \\\n",
       "2                    NaN     ФРОВ                        СВЕЖИЕ ФРУКТЫ   \n",
       "3                    NaN     ФРОВ                        СВЕЖИЕ ФРУКТЫ   \n",
       "1342543      DIAL-EXPORT     БАКЛ                   РАСТИТЕЛЬНЫЕ МАСЛА   \n",
       "1342544              NaN     ФРОВ                        СВЕЖИЕ ФРУКТЫ   \n",
       "1342545    ТО, ЧТО НАДО!     ЧКФК                            ЧАЙ, КОФЕ   \n",
       "1342546    ТО, ЧТО НАДО!     КЗБХ                       УХОД И ГИГИЕНА   \n",
       "1342547    ТО, ЧТО НАДО!     КЗБХ                       УХОД И ГИГИЕНА   \n",
       "1342548    ТО, ЧТО НАДО!     КЗБХ                       УХОД И ГИГИЕНА   \n",
       "1342549            MAKFA     БАКЛ                      БАКАЛЕЯ СЫПУЧАЯ   \n",
       "1342550  РУССКИЙ ПРОДУКТ     БАКЛ                      БАКАЛЕЯ СЫПУЧАЯ   \n",
       "1342551              NaN     БАКЛ                      БАКАЛЕЯ СЫПУЧАЯ   \n",
       "1342552    ТО, ЧТО НАДО!     БАКЛ  ЗАКУСКИ К АПЕРИТИВАМ (СНЕКИ, ЧИПСЫ)   \n",
       "1342553            MAKFA     БАКЛ                      БАКАЛЕЯ СЫПУЧАЯ   \n",
       "1342554    ТО, ЧТО НАДО!     ЧКФК                            ЧАЙ, КОФЕ   \n",
       "1342555             ОГО!     БАКЛ                ДИАБЕТИЧЕСКОЕ ПИТАНИЕ   \n",
       "1342556    ТО, ЧТО НАДО!     ЧКФК                            ЧАЙ, КОФЕ   \n",
       "1342557              NaN     ФРОВ                         СВЕЖИЕ ОВОЩИ   \n",
       "1342558              NaN     ФРОВ                         СВЕЖИЕ ОВОЩИ   \n",
       "1342559              NaN     ФРОВ                         СВЕЖИЕ ОВОЩИ   \n",
       "1342560              NaN     ФРОВ                         СВЕЖИЕ ОВОЩИ   \n",
       "1342561              NaN     ФРОВ                        СВЕЖИЕ ФРУКТЫ   \n",
       "1342562           БЕРИНГ      NaN                                  NaN   \n",
       "1342563      НАШЕЙ ДОЙКИ     МЛДП                   МОЛОЧНАЯ ПРОДУКЦИЯ   \n",
       "1342564             VICI     РЫБА                   РЫБНАЯ ГАСТРОНОМИЯ   \n",
       "1342565         СТМ ОКЕЙ     МЛДП                   МОЛОЧНАЯ ПРОДУКЦИЯ   \n",
       "1342566         СТМ ОКЕЙ     МЛДП                   МОЛОЧНАЯ ПРОДУКЦИЯ   \n",
       "1342567      НАШЕЙ ДОЙКИ     МЛДП                   МОЛОЧНАЯ ПРОДУКЦИЯ   \n",
       "\n",
       "                    CATEGORY_NT     SUBCATEGORY_NT           BASE_NT   lat  \\\n",
       "2               ФРУКТЫ ОСНОВНЫЕ             БАНАНЫ             БАНАН 55.66   \n",
       "3               ФРУКТЫ ОСНОВНЫЕ             ЯБЛОКИ            ЯБЛОКО 55.66   \n",
       "1342543      МАСЛО РАСТИТЕЛЬНОЕ      МАСЛО ЛЬНЯНОЕ     МАСЛО ЛЬНЯНОЕ 55.66   \n",
       "1342544         ФРУКТЫ ОСНОВНЫЕ             ЯБЛОКИ            ЯБЛОКО 55.66   \n",
       "1342545                    КОФЕ   КОФЕ РАСТВОРИМЫЙ  КОФЕ РАСТВОРИМЫЙ 55.66   \n",
       "1342546        ТУАЛЕТНАЯ БУМАГА   ТУАЛЕТНАЯ БУМАГА  БУМАГА ТУАЛЕТНАЯ 55.66   \n",
       "1342547        ТУАЛЕТНАЯ БУМАГА   ТУАЛЕТНАЯ БУМАГА  БУМАГА ТУАЛЕТНАЯ 55.66   \n",
       "1342548        ТУАЛЕТНАЯ БУМАГА   ТУАЛЕТНАЯ БУМАГА  БУМАГА ТУАЛЕТНАЯ 55.66   \n",
       "1342549      МАКАРОННЫЕ ИЗДЕЛИЯ  МАКАРОНЫ ФИГУРНЫЕ          МАКАРОНЫ 55.66   \n",
       "1342550                  ХЛОПЬЯ     ХЛОПЬЯ ОВСЯНЫЕ    ХЛОПЬЯ ОВСЯНЫЕ 55.66   \n",
       "1342551                  ХЛОПЬЯ     ХЛОПЬЯ ОВСЯНЫЕ    ХЛОПЬЯ ОВСЯНЫЕ 55.66   \n",
       "1342552                   ОРЕХИ             ФУНДУК            ФУНДУК 55.66   \n",
       "1342553      МАКАРОННЫЕ ИЗДЕЛИЯ  МАКАРОНЫ ФИГУРНЫЕ          МАКАРОНЫ 55.66   \n",
       "1342554                    КОФЕ   КОФЕ РАСТВОРИМЫЙ  КОФЕ РАСТВОРИМЫЙ 55.66   \n",
       "1342555          СЕМЕНА И ЗЕРНА        СЕМЕНА ЛЬНА       СЕМЕНА ЛЬНА 55.66   \n",
       "1342556                     ЧАЙ        ЧАЙ ЗЕЛЕНЫЙ       ЧАЙ ЗЕЛЕНЫЙ 55.66   \n",
       "1342557          ОВОЩИ ОСНОВНЫЕ             ОГУРЕЦ            ОГУРЕЦ 55.66   \n",
       "1342558              КОРНЕПЛОДЫ             СВЕКЛА            СВЕКЛА 55.66   \n",
       "1342559          ОВОЩИ ОСНОВНЫЕ              ЧЕРРИ             ЧЕРРИ 55.66   \n",
       "1342560          ОВОЩИ ОСНОВНЫЕ              ТОМАТ             ТОМАТ 55.66   \n",
       "1342561                   ЯГОДЫ           КЛУБНИКА          КЛУБНИКА 55.66   \n",
       "1342562                     NaN                NaN               NaN 55.66   \n",
       "1342563                 СМЕТАНА            СМЕТАНА           СМЕТАНА 55.66   \n",
       "1342564  ПРЕСЕРВЫ ИЗ ВОДОРОСЛЕЙ    МОРСКАЯ КАПУСТА   КАПУСТА МОРСКАЯ 55.66   \n",
       "1342565        ТВОРОЖНАЯ ГРУППА      ТВОРОГ ПРОЧИЙ     ТВОРОГ ПРОЧИЙ 55.66   \n",
       "1342566        ТВОРОЖНАЯ ГРУППА      ТВОРОГ ПРОЧИЙ     ТВОРОГ ПРОЧИЙ 55.66   \n",
       "1342567                 СМЕТАНА            СМЕТАНА           СМЕТАНА 55.66   \n",
       "\n",
       "          lon  \n",
       "2       37.44  \n",
       "3       37.44  \n",
       "1342543 37.44  \n",
       "1342544 37.44  \n",
       "1342545 37.44  \n",
       "1342546 37.44  \n",
       "1342547 37.44  \n",
       "1342548 37.44  \n",
       "1342549 37.44  \n",
       "1342550 37.44  \n",
       "1342551 37.44  \n",
       "1342552 37.44  \n",
       "1342553 37.44  \n",
       "1342554 37.44  \n",
       "1342555 37.44  \n",
       "1342556 37.44  \n",
       "1342557 37.44  \n",
       "1342558 37.44  \n",
       "1342559 37.44  \n",
       "1342560 37.44  \n",
       "1342561 37.44  \n",
       "1342562 37.44  \n",
       "1342563 37.44  \n",
       "1342564 37.44  \n",
       "1342565 37.44  \n",
       "1342566 37.44  \n",
       "1342567 37.44  "
      ]
     },
     "execution_count": 23,
     "metadata": {},
     "output_type": "execute_result"
    }
   ],
   "source": [
    "check = data[data['receipt_id'] == '9960440300975081:11611']\n",
    "check"
   ]
  },
  {
   "cell_type": "markdown",
   "id": "222802d3",
   "metadata": {},
   "source": [
    "Проверим, что сумма по столбцу `sum_items` равна значению `totalSum`:"
   ]
  },
  {
   "cell_type": "code",
   "execution_count": 24,
   "id": "db4b0717",
   "metadata": {},
   "outputs": [
    {
     "data": {
      "text/plain": [
       "np.float32(2387.77)"
      ]
     },
     "execution_count": 24,
     "metadata": {},
     "output_type": "execute_result"
    }
   ],
   "source": [
    "check['sum_items'].sum()"
   ]
  },
  {
   "cell_type": "markdown",
   "id": "14e4473b",
   "metadata": {},
   "source": [
    "Посмотрим общую информацию о датафрейме:"
   ]
  },
  {
   "cell_type": "code",
   "execution_count": 25,
   "id": "c236eee9",
   "metadata": {},
   "outputs": [
    {
     "name": "stdout",
     "output_type": "stream",
     "text": [
      "<class 'pandas.core.frame.DataFrame'>\n",
      "RangeIndex: 2400099 entries, 0 to 2400098\n",
      "Data columns (total 20 columns):\n",
      " #   Column                    Dtype   \n",
      "---  ------                    -----   \n",
      " 0   index                     int64   \n",
      " 1   client_NT                 category\n",
      " 2   text_kktAddress           category\n",
      " 3   Идентификатор покупателя  object  \n",
      " 4   dateTime                  object  \n",
      " 5   receipt_id                object  \n",
      " 6   CLEAN_SKU                 object  \n",
      " 7   price_items               float32 \n",
      " 8   quantity_items            float32 \n",
      " 9   sum_items                 float32 \n",
      " 10  totalSum                  float32 \n",
      " 11  RIGHTHOLDER_NT            object  \n",
      " 12  BRAND_NT                  category\n",
      " 13  CLASS_NT                  category\n",
      " 14  GROUP_NT                  category\n",
      " 15  CATEGORY_NT               category\n",
      " 16  SUBCATEGORY_NT            category\n",
      " 17  BASE_NT                   category\n",
      " 18  lat                       float32 \n",
      " 19  lon                       float32 \n",
      "dtypes: category(8), float32(6), int64(1), object(5)\n",
      "memory usage: 192.5+ MB\n"
     ]
    }
   ],
   "source": [
    "data.info()"
   ]
  },
  {
   "cell_type": "markdown",
   "id": "209150d9",
   "metadata": {},
   "source": [
    "Посмотрим описательные статистики для числовых столбцов:"
   ]
  },
  {
   "cell_type": "code",
   "execution_count": 26,
   "id": "544054e9",
   "metadata": {},
   "outputs": [
    {
     "data": {
      "application/vnd.microsoft.datawrangler.viewer.v0+json": {
       "columns": [
        {
         "name": "index",
         "rawType": "object",
         "type": "string"
        },
        {
         "name": "index",
         "rawType": "float64",
         "type": "float"
        },
        {
         "name": "price_items",
         "rawType": "float64",
         "type": "float"
        },
        {
         "name": "quantity_items",
         "rawType": "float64",
         "type": "float"
        },
        {
         "name": "sum_items",
         "rawType": "float64",
         "type": "float"
        },
        {
         "name": "totalSum",
         "rawType": "float64",
         "type": "float"
        },
        {
         "name": "lat",
         "rawType": "float64",
         "type": "float"
        },
        {
         "name": "lon",
         "rawType": "float64",
         "type": "float"
        }
       ],
       "conversionMethod": "pd.DataFrame",
       "ref": "2c9b2600-8f86-4aba-90b0-20cecbc2cc32",
       "rows": [
        [
         "count",
         "2400099.0",
         "2400099.0",
         "2400099.0",
         "2400099.0",
         "2400099.0",
         "2400099.0",
         "2400099.0"
        ],
        [
         "mean",
         "1200049.0",
         "175.9553985595703",
         "1.334069848060608",
         "178.9469451904297",
         "4624.64404296875",
         "55.72980499267578",
         "37.524723052978516"
        ],
        [
         "std",
         "692849.0462034281",
         "238.92381286621094",
         "1.8187859058380127",
         "260.984619140625",
         "3830.93701171875",
         "0.11708017438650131",
         "0.1701658070087433"
        ],
        [
         "min",
         "0.0",
         "0.0",
         "0.0020000000949949026",
         "0.0",
         "0.0",
         "55.55726623535156",
         "37.30067443847656"
        ],
        [
         "25%",
         "600024.5",
         "59.38999938964844",
         "1.0",
         "65.69000244140625",
         "2309.5",
         "55.62378692626953",
         "37.422027587890625"
        ],
        [
         "50%",
         "1200049.0",
         "102.51000213623047",
         "1.0",
         "115.0",
         "3680.909912109375",
         "55.71461486816406",
         "37.49436950683594"
        ],
        [
         "75%",
         "1800073.5",
         "199.0",
         "1.0",
         "209.97999572753906",
         "5748.89990234375",
         "55.84016036987305",
         "37.63923263549805"
        ],
        [
         "max",
         "2400098.0",
         "38986.08984375",
         "400.0",
         "40499.0",
         "122134.6484375",
         "55.928565979003906",
         "37.883567810058594"
        ]
       ],
       "shape": {
        "columns": 7,
        "rows": 8
       }
      },
      "text/html": [
       "<div>\n",
       "<style scoped>\n",
       "    .dataframe tbody tr th:only-of-type {\n",
       "        vertical-align: middle;\n",
       "    }\n",
       "\n",
       "    .dataframe tbody tr th {\n",
       "        vertical-align: top;\n",
       "    }\n",
       "\n",
       "    .dataframe thead th {\n",
       "        text-align: right;\n",
       "    }\n",
       "</style>\n",
       "<table border=\"1\" class=\"dataframe\">\n",
       "  <thead>\n",
       "    <tr style=\"text-align: right;\">\n",
       "      <th></th>\n",
       "      <th>index</th>\n",
       "      <th>price_items</th>\n",
       "      <th>quantity_items</th>\n",
       "      <th>sum_items</th>\n",
       "      <th>totalSum</th>\n",
       "      <th>lat</th>\n",
       "      <th>lon</th>\n",
       "    </tr>\n",
       "  </thead>\n",
       "  <tbody>\n",
       "    <tr>\n",
       "      <th>count</th>\n",
       "      <td>2400099.00</td>\n",
       "      <td>2400099.00</td>\n",
       "      <td>2400099.00</td>\n",
       "      <td>2400099.00</td>\n",
       "      <td>2400099.00</td>\n",
       "      <td>2400099.00</td>\n",
       "      <td>2400099.00</td>\n",
       "    </tr>\n",
       "    <tr>\n",
       "      <th>mean</th>\n",
       "      <td>1200049.00</td>\n",
       "      <td>175.96</td>\n",
       "      <td>1.33</td>\n",
       "      <td>178.95</td>\n",
       "      <td>4624.64</td>\n",
       "      <td>55.73</td>\n",
       "      <td>37.52</td>\n",
       "    </tr>\n",
       "    <tr>\n",
       "      <th>std</th>\n",
       "      <td>692849.05</td>\n",
       "      <td>238.92</td>\n",
       "      <td>1.82</td>\n",
       "      <td>260.98</td>\n",
       "      <td>3830.94</td>\n",
       "      <td>0.12</td>\n",
       "      <td>0.17</td>\n",
       "    </tr>\n",
       "    <tr>\n",
       "      <th>min</th>\n",
       "      <td>0.00</td>\n",
       "      <td>0.00</td>\n",
       "      <td>0.00</td>\n",
       "      <td>0.00</td>\n",
       "      <td>0.00</td>\n",
       "      <td>55.56</td>\n",
       "      <td>37.30</td>\n",
       "    </tr>\n",
       "    <tr>\n",
       "      <th>25%</th>\n",
       "      <td>600024.50</td>\n",
       "      <td>59.39</td>\n",
       "      <td>1.00</td>\n",
       "      <td>65.69</td>\n",
       "      <td>2309.50</td>\n",
       "      <td>55.62</td>\n",
       "      <td>37.42</td>\n",
       "    </tr>\n",
       "    <tr>\n",
       "      <th>50%</th>\n",
       "      <td>1200049.00</td>\n",
       "      <td>102.51</td>\n",
       "      <td>1.00</td>\n",
       "      <td>115.00</td>\n",
       "      <td>3680.91</td>\n",
       "      <td>55.71</td>\n",
       "      <td>37.49</td>\n",
       "    </tr>\n",
       "    <tr>\n",
       "      <th>75%</th>\n",
       "      <td>1800073.50</td>\n",
       "      <td>199.00</td>\n",
       "      <td>1.00</td>\n",
       "      <td>209.98</td>\n",
       "      <td>5748.90</td>\n",
       "      <td>55.84</td>\n",
       "      <td>37.64</td>\n",
       "    </tr>\n",
       "    <tr>\n",
       "      <th>max</th>\n",
       "      <td>2400098.00</td>\n",
       "      <td>38986.09</td>\n",
       "      <td>400.00</td>\n",
       "      <td>40499.00</td>\n",
       "      <td>122134.65</td>\n",
       "      <td>55.93</td>\n",
       "      <td>37.88</td>\n",
       "    </tr>\n",
       "  </tbody>\n",
       "</table>\n",
       "</div>"
      ],
      "text/plain": [
       "           index  price_items  quantity_items  sum_items   totalSum  \\\n",
       "count 2400099.00   2400099.00      2400099.00 2400099.00 2400099.00   \n",
       "mean  1200049.00       175.96            1.33     178.95    4624.64   \n",
       "std    692849.05       238.92            1.82     260.98    3830.94   \n",
       "min         0.00         0.00            0.00       0.00       0.00   \n",
       "25%    600024.50        59.39            1.00      65.69    2309.50   \n",
       "50%   1200049.00       102.51            1.00     115.00    3680.91   \n",
       "75%   1800073.50       199.00            1.00     209.98    5748.90   \n",
       "max   2400098.00     38986.09          400.00   40499.00  122134.65   \n",
       "\n",
       "             lat        lon  \n",
       "count 2400099.00 2400099.00  \n",
       "mean       55.73      37.52  \n",
       "std         0.12       0.17  \n",
       "min        55.56      37.30  \n",
       "25%        55.62      37.42  \n",
       "50%        55.71      37.49  \n",
       "75%        55.84      37.64  \n",
       "max        55.93      37.88  "
      ]
     },
     "execution_count": 26,
     "metadata": {},
     "output_type": "execute_result"
    }
   ],
   "source": [
    "data.describe()"
   ]
  },
  {
   "cell_type": "markdown",
   "id": "670eb6dc",
   "metadata": {},
   "source": [
    "Посмотрим корреляционные отношения между числовыми столбцами"
   ]
  },
  {
   "cell_type": "code",
   "execution_count": 27,
   "id": "43c03898",
   "metadata": {},
   "outputs": [
    {
     "data": {
      "application/vnd.plotly.v1+json": {
       "config": {
        "plotlyServerURL": "https://plot.ly"
       },
       "data": [
        {
         "colorscale": [
          [
           0,
           "rgb(103,0,31)"
          ],
          [
           0.1,
           "rgb(178,24,43)"
          ],
          [
           0.2,
           "rgb(214,96,77)"
          ],
          [
           0.3,
           "rgb(244,165,130)"
          ],
          [
           0.4,
           "rgb(253,219,199)"
          ],
          [
           0.5,
           "rgb(247,247,247)"
          ],
          [
           0.6,
           "rgb(209,229,240)"
          ],
          [
           0.7,
           "rgb(146,197,222)"
          ],
          [
           0.8,
           "rgb(67,147,195)"
          ],
          [
           0.9,
           "rgb(33,102,172)"
          ],
          [
           1,
           "rgb(5,48,97)"
          ]
         ],
         "hoverinfo": "x+y+z",
         "showscale": true,
         "text": {
          "bdata": "AAAAAAAA8D+kcD0K16PAv9ejcD0K1+M/exSuR+F6tD8AAAAAAAAAALgehetRuK6/pHA9CtejwL8AAAAAAADwPwrXo3A9Ctc/exSuR+F6tD97FK5H4XqEP3sUrkfheqS/16NwPQrX4z8K16NwPQrXPwAAAAAAAPA/MzMzMzMzwz97FK5H4XqEP+xRuB6F67G/exSuR+F6tD97FK5H4Xq0PzMzMzMzM8M/AAAAAAAA8D97FK5H4XqEP3sUrkfherS/AAAAAAAAAAB7FK5H4XqEP3sUrkfheoQ/exSuR+F6hD8AAAAAAADwP3sUrkfherQ/uB6F61G4rr97FK5H4Xqkv+xRuB6F67G/exSuR+F6tL97FK5H4Xq0PwAAAAAAAPA/",
          "dtype": "f8",
          "shape": "6, 6"
         },
         "textfont": {
          "color": "black",
          "size": 12
         },
         "texttemplate": "%{text}",
         "type": "heatmap",
         "x": [
          "price_items",
          "quantity_items",
          "sum_items",
          "totalSum",
          "lat",
          "lon"
         ],
         "y": [
          "price_items",
          "quantity_items",
          "sum_items",
          "totalSum",
          "lat",
          "lon"
         ],
         "z": {
          "bdata": "AAAAAAAA8D9I8j4w627Av+XKbI3l8OM/3TTU/DDetD93NRucVNxuP0yIQgOV1q2/SPI+MOtuwL8AAAAAAADwP/wTrXgPSNc/P3uuTPf0tD+JqPG9DUh8P+JQ14QkIKO/5cpsjeXw4z/8E614D0jXPwAAAAAAAPA/aABHYGzewj8p4gVm3fmBP1EyBgbxmrK/3TTU/DDetD8/e65M9/S0P2gAR2Bs3sI/AAAAAAAA8D/jiLzVxaqNPwgj03m8pbW/dzUbnFTcbj+JqPG9DUh8PyniBWbd+YE/44i81cWqjT8AAAAAAADwP3MNyIc9ILQ/TIhCA5XWrb/iUNeEJCCjv1EyBgbxmrK/CCPTebyltb9zDciHPSC0PwAAAAAAAPA/",
          "dtype": "f8",
          "shape": "6, 6"
         },
         "zmax": 1,
         "zmin": -1
        }
       ],
       "layout": {
        "height": 600,
        "template": {
         "data": {
          "bar": [
           {
            "error_x": {
             "color": "#2a3f5f"
            },
            "error_y": {
             "color": "#2a3f5f"
            },
            "marker": {
             "line": {
              "color": "#E5ECF6",
              "width": 0.5
             },
             "pattern": {
              "fillmode": "overlay",
              "size": 10,
              "solidity": 0.2
             }
            },
            "type": "bar"
           }
          ],
          "barpolar": [
           {
            "marker": {
             "line": {
              "color": "#E5ECF6",
              "width": 0.5
             },
             "pattern": {
              "fillmode": "overlay",
              "size": 10,
              "solidity": 0.2
             }
            },
            "type": "barpolar"
           }
          ],
          "carpet": [
           {
            "aaxis": {
             "endlinecolor": "#2a3f5f",
             "gridcolor": "white",
             "linecolor": "white",
             "minorgridcolor": "white",
             "startlinecolor": "#2a3f5f"
            },
            "baxis": {
             "endlinecolor": "#2a3f5f",
             "gridcolor": "white",
             "linecolor": "white",
             "minorgridcolor": "white",
             "startlinecolor": "#2a3f5f"
            },
            "type": "carpet"
           }
          ],
          "choropleth": [
           {
            "colorbar": {
             "outlinewidth": 0,
             "ticks": ""
            },
            "type": "choropleth"
           }
          ],
          "contour": [
           {
            "colorbar": {
             "outlinewidth": 0,
             "ticks": ""
            },
            "colorscale": [
             [
              0,
              "#0d0887"
             ],
             [
              0.1111111111111111,
              "#46039f"
             ],
             [
              0.2222222222222222,
              "#7201a8"
             ],
             [
              0.3333333333333333,
              "#9c179e"
             ],
             [
              0.4444444444444444,
              "#bd3786"
             ],
             [
              0.5555555555555556,
              "#d8576b"
             ],
             [
              0.6666666666666666,
              "#ed7953"
             ],
             [
              0.7777777777777778,
              "#fb9f3a"
             ],
             [
              0.8888888888888888,
              "#fdca26"
             ],
             [
              1,
              "#f0f921"
             ]
            ],
            "type": "contour"
           }
          ],
          "contourcarpet": [
           {
            "colorbar": {
             "outlinewidth": 0,
             "ticks": ""
            },
            "type": "contourcarpet"
           }
          ],
          "heatmap": [
           {
            "colorbar": {
             "outlinewidth": 0,
             "ticks": ""
            },
            "colorscale": [
             [
              0,
              "#0d0887"
             ],
             [
              0.1111111111111111,
              "#46039f"
             ],
             [
              0.2222222222222222,
              "#7201a8"
             ],
             [
              0.3333333333333333,
              "#9c179e"
             ],
             [
              0.4444444444444444,
              "#bd3786"
             ],
             [
              0.5555555555555556,
              "#d8576b"
             ],
             [
              0.6666666666666666,
              "#ed7953"
             ],
             [
              0.7777777777777778,
              "#fb9f3a"
             ],
             [
              0.8888888888888888,
              "#fdca26"
             ],
             [
              1,
              "#f0f921"
             ]
            ],
            "type": "heatmap"
           }
          ],
          "histogram": [
           {
            "marker": {
             "pattern": {
              "fillmode": "overlay",
              "size": 10,
              "solidity": 0.2
             }
            },
            "type": "histogram"
           }
          ],
          "histogram2d": [
           {
            "colorbar": {
             "outlinewidth": 0,
             "ticks": ""
            },
            "colorscale": [
             [
              0,
              "#0d0887"
             ],
             [
              0.1111111111111111,
              "#46039f"
             ],
             [
              0.2222222222222222,
              "#7201a8"
             ],
             [
              0.3333333333333333,
              "#9c179e"
             ],
             [
              0.4444444444444444,
              "#bd3786"
             ],
             [
              0.5555555555555556,
              "#d8576b"
             ],
             [
              0.6666666666666666,
              "#ed7953"
             ],
             [
              0.7777777777777778,
              "#fb9f3a"
             ],
             [
              0.8888888888888888,
              "#fdca26"
             ],
             [
              1,
              "#f0f921"
             ]
            ],
            "type": "histogram2d"
           }
          ],
          "histogram2dcontour": [
           {
            "colorbar": {
             "outlinewidth": 0,
             "ticks": ""
            },
            "colorscale": [
             [
              0,
              "#0d0887"
             ],
             [
              0.1111111111111111,
              "#46039f"
             ],
             [
              0.2222222222222222,
              "#7201a8"
             ],
             [
              0.3333333333333333,
              "#9c179e"
             ],
             [
              0.4444444444444444,
              "#bd3786"
             ],
             [
              0.5555555555555556,
              "#d8576b"
             ],
             [
              0.6666666666666666,
              "#ed7953"
             ],
             [
              0.7777777777777778,
              "#fb9f3a"
             ],
             [
              0.8888888888888888,
              "#fdca26"
             ],
             [
              1,
              "#f0f921"
             ]
            ],
            "type": "histogram2dcontour"
           }
          ],
          "mesh3d": [
           {
            "colorbar": {
             "outlinewidth": 0,
             "ticks": ""
            },
            "type": "mesh3d"
           }
          ],
          "parcoords": [
           {
            "line": {
             "colorbar": {
              "outlinewidth": 0,
              "ticks": ""
             }
            },
            "type": "parcoords"
           }
          ],
          "pie": [
           {
            "automargin": true,
            "type": "pie"
           }
          ],
          "scatter": [
           {
            "fillpattern": {
             "fillmode": "overlay",
             "size": 10,
             "solidity": 0.2
            },
            "type": "scatter"
           }
          ],
          "scatter3d": [
           {
            "line": {
             "colorbar": {
              "outlinewidth": 0,
              "ticks": ""
             }
            },
            "marker": {
             "colorbar": {
              "outlinewidth": 0,
              "ticks": ""
             }
            },
            "type": "scatter3d"
           }
          ],
          "scattercarpet": [
           {
            "marker": {
             "colorbar": {
              "outlinewidth": 0,
              "ticks": ""
             }
            },
            "type": "scattercarpet"
           }
          ],
          "scattergeo": [
           {
            "marker": {
             "colorbar": {
              "outlinewidth": 0,
              "ticks": ""
             }
            },
            "type": "scattergeo"
           }
          ],
          "scattergl": [
           {
            "marker": {
             "colorbar": {
              "outlinewidth": 0,
              "ticks": ""
             }
            },
            "type": "scattergl"
           }
          ],
          "scattermap": [
           {
            "marker": {
             "colorbar": {
              "outlinewidth": 0,
              "ticks": ""
             }
            },
            "type": "scattermap"
           }
          ],
          "scattermapbox": [
           {
            "marker": {
             "colorbar": {
              "outlinewidth": 0,
              "ticks": ""
             }
            },
            "type": "scattermapbox"
           }
          ],
          "scatterpolar": [
           {
            "marker": {
             "colorbar": {
              "outlinewidth": 0,
              "ticks": ""
             }
            },
            "type": "scatterpolar"
           }
          ],
          "scatterpolargl": [
           {
            "marker": {
             "colorbar": {
              "outlinewidth": 0,
              "ticks": ""
             }
            },
            "type": "scatterpolargl"
           }
          ],
          "scatterternary": [
           {
            "marker": {
             "colorbar": {
              "outlinewidth": 0,
              "ticks": ""
             }
            },
            "type": "scatterternary"
           }
          ],
          "surface": [
           {
            "colorbar": {
             "outlinewidth": 0,
             "ticks": ""
            },
            "colorscale": [
             [
              0,
              "#0d0887"
             ],
             [
              0.1111111111111111,
              "#46039f"
             ],
             [
              0.2222222222222222,
              "#7201a8"
             ],
             [
              0.3333333333333333,
              "#9c179e"
             ],
             [
              0.4444444444444444,
              "#bd3786"
             ],
             [
              0.5555555555555556,
              "#d8576b"
             ],
             [
              0.6666666666666666,
              "#ed7953"
             ],
             [
              0.7777777777777778,
              "#fb9f3a"
             ],
             [
              0.8888888888888888,
              "#fdca26"
             ],
             [
              1,
              "#f0f921"
             ]
            ],
            "type": "surface"
           }
          ],
          "table": [
           {
            "cells": {
             "fill": {
              "color": "#EBF0F8"
             },
             "line": {
              "color": "white"
             }
            },
            "header": {
             "fill": {
              "color": "#C8D4E3"
             },
             "line": {
              "color": "white"
             }
            },
            "type": "table"
           }
          ]
         },
         "layout": {
          "annotationdefaults": {
           "arrowcolor": "#2a3f5f",
           "arrowhead": 0,
           "arrowwidth": 1
          },
          "autotypenumbers": "strict",
          "coloraxis": {
           "colorbar": {
            "outlinewidth": 0,
            "ticks": ""
           }
          },
          "colorscale": {
           "diverging": [
            [
             0,
             "#8e0152"
            ],
            [
             0.1,
             "#c51b7d"
            ],
            [
             0.2,
             "#de77ae"
            ],
            [
             0.3,
             "#f1b6da"
            ],
            [
             0.4,
             "#fde0ef"
            ],
            [
             0.5,
             "#f7f7f7"
            ],
            [
             0.6,
             "#e6f5d0"
            ],
            [
             0.7,
             "#b8e186"
            ],
            [
             0.8,
             "#7fbc41"
            ],
            [
             0.9,
             "#4d9221"
            ],
            [
             1,
             "#276419"
            ]
           ],
           "sequential": [
            [
             0,
             "#0d0887"
            ],
            [
             0.1111111111111111,
             "#46039f"
            ],
            [
             0.2222222222222222,
             "#7201a8"
            ],
            [
             0.3333333333333333,
             "#9c179e"
            ],
            [
             0.4444444444444444,
             "#bd3786"
            ],
            [
             0.5555555555555556,
             "#d8576b"
            ],
            [
             0.6666666666666666,
             "#ed7953"
            ],
            [
             0.7777777777777778,
             "#fb9f3a"
            ],
            [
             0.8888888888888888,
             "#fdca26"
            ],
            [
             1,
             "#f0f921"
            ]
           ],
           "sequentialminus": [
            [
             0,
             "#0d0887"
            ],
            [
             0.1111111111111111,
             "#46039f"
            ],
            [
             0.2222222222222222,
             "#7201a8"
            ],
            [
             0.3333333333333333,
             "#9c179e"
            ],
            [
             0.4444444444444444,
             "#bd3786"
            ],
            [
             0.5555555555555556,
             "#d8576b"
            ],
            [
             0.6666666666666666,
             "#ed7953"
            ],
            [
             0.7777777777777778,
             "#fb9f3a"
            ],
            [
             0.8888888888888888,
             "#fdca26"
            ],
            [
             1,
             "#f0f921"
            ]
           ]
          },
          "colorway": [
           "#636efa",
           "#EF553B",
           "#00cc96",
           "#ab63fa",
           "#FFA15A",
           "#19d3f3",
           "#FF6692",
           "#B6E880",
           "#FF97FF",
           "#FECB52"
          ],
          "font": {
           "color": "#2a3f5f"
          },
          "geo": {
           "bgcolor": "white",
           "lakecolor": "white",
           "landcolor": "#E5ECF6",
           "showlakes": true,
           "showland": true,
           "subunitcolor": "white"
          },
          "hoverlabel": {
           "align": "left"
          },
          "hovermode": "closest",
          "mapbox": {
           "style": "light"
          },
          "paper_bgcolor": "white",
          "plot_bgcolor": "#E5ECF6",
          "polar": {
           "angularaxis": {
            "gridcolor": "white",
            "linecolor": "white",
            "ticks": ""
           },
           "bgcolor": "#E5ECF6",
           "radialaxis": {
            "gridcolor": "white",
            "linecolor": "white",
            "ticks": ""
           }
          },
          "scene": {
           "xaxis": {
            "backgroundcolor": "#E5ECF6",
            "gridcolor": "white",
            "gridwidth": 2,
            "linecolor": "white",
            "showbackground": true,
            "ticks": "",
            "zerolinecolor": "white"
           },
           "yaxis": {
            "backgroundcolor": "#E5ECF6",
            "gridcolor": "white",
            "gridwidth": 2,
            "linecolor": "white",
            "showbackground": true,
            "ticks": "",
            "zerolinecolor": "white"
           },
           "zaxis": {
            "backgroundcolor": "#E5ECF6",
            "gridcolor": "white",
            "gridwidth": 2,
            "linecolor": "white",
            "showbackground": true,
            "ticks": "",
            "zerolinecolor": "white"
           }
          },
          "shapedefaults": {
           "line": {
            "color": "#2a3f5f"
           }
          },
          "ternary": {
           "aaxis": {
            "gridcolor": "white",
            "linecolor": "white",
            "ticks": ""
           },
           "baxis": {
            "gridcolor": "white",
            "linecolor": "white",
            "ticks": ""
           },
           "bgcolor": "#E5ECF6",
           "caxis": {
            "gridcolor": "white",
            "linecolor": "white",
            "ticks": ""
           }
          },
          "title": {
           "x": 0.05
          },
          "xaxis": {
           "automargin": true,
           "gridcolor": "white",
           "linecolor": "white",
           "ticks": "",
           "title": {
            "standoff": 15
           },
           "zerolinecolor": "white",
           "zerolinewidth": 2
          },
          "yaxis": {
           "automargin": true,
           "gridcolor": "white",
           "linecolor": "white",
           "ticks": "",
           "title": {
            "standoff": 15
           },
           "zerolinecolor": "white",
           "zerolinewidth": 2
          }
         }
        },
        "title": {
         "text": "Корреляционная матрица (интерактивная)"
        },
        "width": 800,
        "xaxis": {
         "showgrid": false,
         "title": {
          "text": "Переменные"
         }
        },
        "yaxis": {
         "autorange": "reversed",
         "showgrid": false,
         "title": {
          "text": "Переменные"
         }
        }
       }
      },
      "text/html": [
       "<div>            <script src=\"https://cdnjs.cloudflare.com/ajax/libs/mathjax/2.7.5/MathJax.js?config=TeX-AMS-MML_SVG\"></script><script type=\"text/javascript\">if (window.MathJax && window.MathJax.Hub && window.MathJax.Hub.Config) {window.MathJax.Hub.Config({SVG: {font: \"STIX-Web\"}});}</script>                <script type=\"text/javascript\">window.PlotlyConfig = {MathJaxConfig: 'local'};</script>\n",
       "        <script charset=\"utf-8\" src=\"https://cdn.plot.ly/plotly-3.0.1.min.js\"></script>                <div id=\"9c22abd6-d418-4ead-9ead-e1b198c41f69\" class=\"plotly-graph-div\" style=\"height:600px; width:800px;\"></div>            <script type=\"text/javascript\">                window.PLOTLYENV=window.PLOTLYENV || {};                                if (document.getElementById(\"9c22abd6-d418-4ead-9ead-e1b198c41f69\")) {                    Plotly.newPlot(                        \"9c22abd6-d418-4ead-9ead-e1b198c41f69\",                        [{\"colorscale\":[[0.0,\"rgb(103,0,31)\"],[0.1,\"rgb(178,24,43)\"],[0.2,\"rgb(214,96,77)\"],[0.3,\"rgb(244,165,130)\"],[0.4,\"rgb(253,219,199)\"],[0.5,\"rgb(247,247,247)\"],[0.6,\"rgb(209,229,240)\"],[0.7,\"rgb(146,197,222)\"],[0.8,\"rgb(67,147,195)\"],[0.9,\"rgb(33,102,172)\"],[1.0,\"rgb(5,48,97)\"]],\"hoverinfo\":\"x+y+z\",\"showscale\":true,\"text\":{\"dtype\":\"f8\",\"bdata\":\"AAAAAAAA8D+kcD0K16PAv9ejcD0K1+M\\u002fexSuR+F6tD8AAAAAAAAAALgehetRuK6\\u002fpHA9CtejwL8AAAAAAADwPwrXo3A9Ctc\\u002fexSuR+F6tD97FK5H4XqEP3sUrkfheqS\\u002f16NwPQrX4z8K16NwPQrXPwAAAAAAAPA\\u002fMzMzMzMzwz97FK5H4XqEP+xRuB6F67G\\u002fexSuR+F6tD97FK5H4Xq0PzMzMzMzM8M\\u002fAAAAAAAA8D97FK5H4XqEP3sUrkfherS\\u002fAAAAAAAAAAB7FK5H4XqEP3sUrkfheoQ\\u002fexSuR+F6hD8AAAAAAADwP3sUrkfherQ\\u002fuB6F61G4rr97FK5H4Xqkv+xRuB6F67G\\u002fexSuR+F6tL97FK5H4Xq0PwAAAAAAAPA\\u002f\",\"shape\":\"6, 6\"},\"texttemplate\":\"%{text}\",\"x\":[\"price_items\",\"quantity_items\",\"sum_items\",\"totalSum\",\"lat\",\"lon\"],\"y\":[\"price_items\",\"quantity_items\",\"sum_items\",\"totalSum\",\"lat\",\"lon\"],\"z\":{\"dtype\":\"f8\",\"bdata\":\"AAAAAAAA8D9I8j4w627Av+XKbI3l8OM\\u002f3TTU\\u002fDDetD93NRucVNxuP0yIQgOV1q2\\u002fSPI+MOtuwL8AAAAAAADwP\\u002fwTrXgPSNc\\u002fP3uuTPf0tD+JqPG9DUh8P+JQ14QkIKO\\u002f5cpsjeXw4z\\u002f8E614D0jXPwAAAAAAAPA\\u002faABHYGzewj8p4gVm3fmBP1EyBgbxmrK\\u002f3TTU\\u002fDDetD8\\u002fe65M9\\u002fS0P2gAR2Bs3sI\\u002fAAAAAAAA8D\\u002fjiLzVxaqNPwgj03m8pbW\\u002fdzUbnFTcbj+JqPG9DUh8PyniBWbd+YE\\u002f44i81cWqjT8AAAAAAADwP3MNyIc9ILQ\\u002fTIhCA5XWrb\\u002fiUNeEJCCjv1EyBgbxmrK\\u002fCCPTebyltb9zDciHPSC0PwAAAAAAAPA\\u002f\",\"shape\":\"6, 6\"},\"zmax\":1,\"zmin\":-1,\"type\":\"heatmap\",\"textfont\":{\"color\":\"black\",\"size\":12}}],                        {\"template\":{\"data\":{\"histogram2dcontour\":[{\"type\":\"histogram2dcontour\",\"colorbar\":{\"outlinewidth\":0,\"ticks\":\"\"},\"colorscale\":[[0.0,\"#0d0887\"],[0.1111111111111111,\"#46039f\"],[0.2222222222222222,\"#7201a8\"],[0.3333333333333333,\"#9c179e\"],[0.4444444444444444,\"#bd3786\"],[0.5555555555555556,\"#d8576b\"],[0.6666666666666666,\"#ed7953\"],[0.7777777777777778,\"#fb9f3a\"],[0.8888888888888888,\"#fdca26\"],[1.0,\"#f0f921\"]]}],\"choropleth\":[{\"type\":\"choropleth\",\"colorbar\":{\"outlinewidth\":0,\"ticks\":\"\"}}],\"histogram2d\":[{\"type\":\"histogram2d\",\"colorbar\":{\"outlinewidth\":0,\"ticks\":\"\"},\"colorscale\":[[0.0,\"#0d0887\"],[0.1111111111111111,\"#46039f\"],[0.2222222222222222,\"#7201a8\"],[0.3333333333333333,\"#9c179e\"],[0.4444444444444444,\"#bd3786\"],[0.5555555555555556,\"#d8576b\"],[0.6666666666666666,\"#ed7953\"],[0.7777777777777778,\"#fb9f3a\"],[0.8888888888888888,\"#fdca26\"],[1.0,\"#f0f921\"]]}],\"heatmap\":[{\"type\":\"heatmap\",\"colorbar\":{\"outlinewidth\":0,\"ticks\":\"\"},\"colorscale\":[[0.0,\"#0d0887\"],[0.1111111111111111,\"#46039f\"],[0.2222222222222222,\"#7201a8\"],[0.3333333333333333,\"#9c179e\"],[0.4444444444444444,\"#bd3786\"],[0.5555555555555556,\"#d8576b\"],[0.6666666666666666,\"#ed7953\"],[0.7777777777777778,\"#fb9f3a\"],[0.8888888888888888,\"#fdca26\"],[1.0,\"#f0f921\"]]}],\"contourcarpet\":[{\"type\":\"contourcarpet\",\"colorbar\":{\"outlinewidth\":0,\"ticks\":\"\"}}],\"contour\":[{\"type\":\"contour\",\"colorbar\":{\"outlinewidth\":0,\"ticks\":\"\"},\"colorscale\":[[0.0,\"#0d0887\"],[0.1111111111111111,\"#46039f\"],[0.2222222222222222,\"#7201a8\"],[0.3333333333333333,\"#9c179e\"],[0.4444444444444444,\"#bd3786\"],[0.5555555555555556,\"#d8576b\"],[0.6666666666666666,\"#ed7953\"],[0.7777777777777778,\"#fb9f3a\"],[0.8888888888888888,\"#fdca26\"],[1.0,\"#f0f921\"]]}],\"surface\":[{\"type\":\"surface\",\"colorbar\":{\"outlinewidth\":0,\"ticks\":\"\"},\"colorscale\":[[0.0,\"#0d0887\"],[0.1111111111111111,\"#46039f\"],[0.2222222222222222,\"#7201a8\"],[0.3333333333333333,\"#9c179e\"],[0.4444444444444444,\"#bd3786\"],[0.5555555555555556,\"#d8576b\"],[0.6666666666666666,\"#ed7953\"],[0.7777777777777778,\"#fb9f3a\"],[0.8888888888888888,\"#fdca26\"],[1.0,\"#f0f921\"]]}],\"mesh3d\":[{\"type\":\"mesh3d\",\"colorbar\":{\"outlinewidth\":0,\"ticks\":\"\"}}],\"scatter\":[{\"fillpattern\":{\"fillmode\":\"overlay\",\"size\":10,\"solidity\":0.2},\"type\":\"scatter\"}],\"parcoords\":[{\"type\":\"parcoords\",\"line\":{\"colorbar\":{\"outlinewidth\":0,\"ticks\":\"\"}}}],\"scatterpolargl\":[{\"type\":\"scatterpolargl\",\"marker\":{\"colorbar\":{\"outlinewidth\":0,\"ticks\":\"\"}}}],\"bar\":[{\"error_x\":{\"color\":\"#2a3f5f\"},\"error_y\":{\"color\":\"#2a3f5f\"},\"marker\":{\"line\":{\"color\":\"#E5ECF6\",\"width\":0.5},\"pattern\":{\"fillmode\":\"overlay\",\"size\":10,\"solidity\":0.2}},\"type\":\"bar\"}],\"scattergeo\":[{\"type\":\"scattergeo\",\"marker\":{\"colorbar\":{\"outlinewidth\":0,\"ticks\":\"\"}}}],\"scatterpolar\":[{\"type\":\"scatterpolar\",\"marker\":{\"colorbar\":{\"outlinewidth\":0,\"ticks\":\"\"}}}],\"histogram\":[{\"marker\":{\"pattern\":{\"fillmode\":\"overlay\",\"size\":10,\"solidity\":0.2}},\"type\":\"histogram\"}],\"scattergl\":[{\"type\":\"scattergl\",\"marker\":{\"colorbar\":{\"outlinewidth\":0,\"ticks\":\"\"}}}],\"scatter3d\":[{\"type\":\"scatter3d\",\"line\":{\"colorbar\":{\"outlinewidth\":0,\"ticks\":\"\"}},\"marker\":{\"colorbar\":{\"outlinewidth\":0,\"ticks\":\"\"}}}],\"scattermap\":[{\"type\":\"scattermap\",\"marker\":{\"colorbar\":{\"outlinewidth\":0,\"ticks\":\"\"}}}],\"scattermapbox\":[{\"type\":\"scattermapbox\",\"marker\":{\"colorbar\":{\"outlinewidth\":0,\"ticks\":\"\"}}}],\"scatterternary\":[{\"type\":\"scatterternary\",\"marker\":{\"colorbar\":{\"outlinewidth\":0,\"ticks\":\"\"}}}],\"scattercarpet\":[{\"type\":\"scattercarpet\",\"marker\":{\"colorbar\":{\"outlinewidth\":0,\"ticks\":\"\"}}}],\"carpet\":[{\"aaxis\":{\"endlinecolor\":\"#2a3f5f\",\"gridcolor\":\"white\",\"linecolor\":\"white\",\"minorgridcolor\":\"white\",\"startlinecolor\":\"#2a3f5f\"},\"baxis\":{\"endlinecolor\":\"#2a3f5f\",\"gridcolor\":\"white\",\"linecolor\":\"white\",\"minorgridcolor\":\"white\",\"startlinecolor\":\"#2a3f5f\"},\"type\":\"carpet\"}],\"table\":[{\"cells\":{\"fill\":{\"color\":\"#EBF0F8\"},\"line\":{\"color\":\"white\"}},\"header\":{\"fill\":{\"color\":\"#C8D4E3\"},\"line\":{\"color\":\"white\"}},\"type\":\"table\"}],\"barpolar\":[{\"marker\":{\"line\":{\"color\":\"#E5ECF6\",\"width\":0.5},\"pattern\":{\"fillmode\":\"overlay\",\"size\":10,\"solidity\":0.2}},\"type\":\"barpolar\"}],\"pie\":[{\"automargin\":true,\"type\":\"pie\"}]},\"layout\":{\"autotypenumbers\":\"strict\",\"colorway\":[\"#636efa\",\"#EF553B\",\"#00cc96\",\"#ab63fa\",\"#FFA15A\",\"#19d3f3\",\"#FF6692\",\"#B6E880\",\"#FF97FF\",\"#FECB52\"],\"font\":{\"color\":\"#2a3f5f\"},\"hovermode\":\"closest\",\"hoverlabel\":{\"align\":\"left\"},\"paper_bgcolor\":\"white\",\"plot_bgcolor\":\"#E5ECF6\",\"polar\":{\"bgcolor\":\"#E5ECF6\",\"angularaxis\":{\"gridcolor\":\"white\",\"linecolor\":\"white\",\"ticks\":\"\"},\"radialaxis\":{\"gridcolor\":\"white\",\"linecolor\":\"white\",\"ticks\":\"\"}},\"ternary\":{\"bgcolor\":\"#E5ECF6\",\"aaxis\":{\"gridcolor\":\"white\",\"linecolor\":\"white\",\"ticks\":\"\"},\"baxis\":{\"gridcolor\":\"white\",\"linecolor\":\"white\",\"ticks\":\"\"},\"caxis\":{\"gridcolor\":\"white\",\"linecolor\":\"white\",\"ticks\":\"\"}},\"coloraxis\":{\"colorbar\":{\"outlinewidth\":0,\"ticks\":\"\"}},\"colorscale\":{\"sequential\":[[0.0,\"#0d0887\"],[0.1111111111111111,\"#46039f\"],[0.2222222222222222,\"#7201a8\"],[0.3333333333333333,\"#9c179e\"],[0.4444444444444444,\"#bd3786\"],[0.5555555555555556,\"#d8576b\"],[0.6666666666666666,\"#ed7953\"],[0.7777777777777778,\"#fb9f3a\"],[0.8888888888888888,\"#fdca26\"],[1.0,\"#f0f921\"]],\"sequentialminus\":[[0.0,\"#0d0887\"],[0.1111111111111111,\"#46039f\"],[0.2222222222222222,\"#7201a8\"],[0.3333333333333333,\"#9c179e\"],[0.4444444444444444,\"#bd3786\"],[0.5555555555555556,\"#d8576b\"],[0.6666666666666666,\"#ed7953\"],[0.7777777777777778,\"#fb9f3a\"],[0.8888888888888888,\"#fdca26\"],[1.0,\"#f0f921\"]],\"diverging\":[[0,\"#8e0152\"],[0.1,\"#c51b7d\"],[0.2,\"#de77ae\"],[0.3,\"#f1b6da\"],[0.4,\"#fde0ef\"],[0.5,\"#f7f7f7\"],[0.6,\"#e6f5d0\"],[0.7,\"#b8e186\"],[0.8,\"#7fbc41\"],[0.9,\"#4d9221\"],[1,\"#276419\"]]},\"xaxis\":{\"gridcolor\":\"white\",\"linecolor\":\"white\",\"ticks\":\"\",\"title\":{\"standoff\":15},\"zerolinecolor\":\"white\",\"automargin\":true,\"zerolinewidth\":2},\"yaxis\":{\"gridcolor\":\"white\",\"linecolor\":\"white\",\"ticks\":\"\",\"title\":{\"standoff\":15},\"zerolinecolor\":\"white\",\"automargin\":true,\"zerolinewidth\":2},\"scene\":{\"xaxis\":{\"backgroundcolor\":\"#E5ECF6\",\"gridcolor\":\"white\",\"linecolor\":\"white\",\"showbackground\":true,\"ticks\":\"\",\"zerolinecolor\":\"white\",\"gridwidth\":2},\"yaxis\":{\"backgroundcolor\":\"#E5ECF6\",\"gridcolor\":\"white\",\"linecolor\":\"white\",\"showbackground\":true,\"ticks\":\"\",\"zerolinecolor\":\"white\",\"gridwidth\":2},\"zaxis\":{\"backgroundcolor\":\"#E5ECF6\",\"gridcolor\":\"white\",\"linecolor\":\"white\",\"showbackground\":true,\"ticks\":\"\",\"zerolinecolor\":\"white\",\"gridwidth\":2}},\"shapedefaults\":{\"line\":{\"color\":\"#2a3f5f\"}},\"annotationdefaults\":{\"arrowcolor\":\"#2a3f5f\",\"arrowhead\":0,\"arrowwidth\":1},\"geo\":{\"bgcolor\":\"white\",\"landcolor\":\"#E5ECF6\",\"subunitcolor\":\"white\",\"showland\":true,\"showlakes\":true,\"lakecolor\":\"white\"},\"title\":{\"x\":0.05},\"mapbox\":{\"style\":\"light\"}}},\"xaxis\":{\"title\":{\"text\":\"\\u041f\\u0435\\u0440\\u0435\\u043c\\u0435\\u043d\\u043d\\u044b\\u0435\"},\"showgrid\":false},\"yaxis\":{\"title\":{\"text\":\"\\u041f\\u0435\\u0440\\u0435\\u043c\\u0435\\u043d\\u043d\\u044b\\u0435\"},\"showgrid\":false,\"autorange\":\"reversed\"},\"title\":{\"text\":\"\\u041a\\u043e\\u0440\\u0440\\u0435\\u043b\\u044f\\u0446\\u0438\\u043e\\u043d\\u043d\\u0430\\u044f \\u043c\\u0430\\u0442\\u0440\\u0438\\u0446\\u0430 (\\u0438\\u043d\\u0442\\u0435\\u0440\\u0430\\u043a\\u0442\\u0438\\u0432\\u043d\\u0430\\u044f)\"},\"width\":800,\"height\":600},                        {\"responsive\": true}                    ).then(function(){\n",
       "                            \n",
       "var gd = document.getElementById('9c22abd6-d418-4ead-9ead-e1b198c41f69');\n",
       "var x = new MutationObserver(function (mutations, observer) {{\n",
       "        var display = window.getComputedStyle(gd).display;\n",
       "        if (!display || display === 'none') {{\n",
       "            console.log([gd, 'removed!']);\n",
       "            Plotly.purge(gd);\n",
       "            observer.disconnect();\n",
       "        }}\n",
       "}});\n",
       "\n",
       "// Listen for the removal of the full notebook cells\n",
       "var notebookContainer = gd.closest('#notebook-container');\n",
       "if (notebookContainer) {{\n",
       "    x.observe(notebookContainer, {childList: true});\n",
       "}}\n",
       "\n",
       "// Listen for the clearing of the current output cell\n",
       "var outputEl = gd.closest('.output');\n",
       "if (outputEl) {{\n",
       "    x.observe(outputEl, {childList: true});\n",
       "}}\n",
       "\n",
       "                        })                };            </script>        </div>"
      ]
     },
     "metadata": {},
     "output_type": "display_data"
    }
   ],
   "source": [
    "corr_matrix = data[['price_items', 'quantity_items', 'sum_items', 'totalSum', 'lat', 'lon']].corr()\n",
    "\n",
    "fig = go.Figure(data=go.Heatmap(\n",
    "    z=corr_matrix.values,\n",
    "    x=corr_matrix.columns,\n",
    "    y=corr_matrix.index,\n",
    "    zmin=-1, \n",
    "    zmax=1, \n",
    "    colorscale='RdBu', \n",
    "    text=np.round(corr_matrix.values, 2), \n",
    "    texttemplate=\"%{text}\",\n",
    "    hoverinfo=\"x+y+z\",\n",
    "    showscale=True \n",
    "))\n",
    "\n",
    "# Настройки макета\n",
    "fig.update_layout(\n",
    "    title='Корреляционная матрица (интерактивная)',\n",
    "    xaxis_title='Переменные',\n",
    "    yaxis_title='Переменные',\n",
    "    xaxis_showgrid=False,\n",
    "    yaxis_showgrid=False,\n",
    "    yaxis_autorange='reversed',  # реверсируем ось Y как в sns\n",
    "    width=800,\n",
    "    height=600\n",
    ")\n",
    "\n",
    "# Дополнительные настройки аннотаций\n",
    "fig.update_traces(\n",
    "    textfont_size=12,\n",
    "    textfont_color='black'\n",
    ")\n",
    "\n",
    "fig.show()"
   ]
  },
  {
   "cell_type": "markdown",
   "id": "03a42253",
   "metadata": {},
   "source": [
    "Практически везде слабая корреляционная зависимость, за исключением зависимости sum_items - price_items, она средняя(0.62)."
   ]
  },
  {
   "cell_type": "markdown",
   "id": "abdcd7b1",
   "metadata": {},
   "source": [
    "Добавим новые столбцы hour и weekday. И переименуем столбец \"Идентификатор покупателя\" в customer_id"
   ]
  },
  {
   "cell_type": "code",
   "execution_count": 28,
   "id": "d6d936fb",
   "metadata": {},
   "outputs": [
    {
     "name": "stderr",
     "output_type": "stream",
     "text": [
      "C:\\Temp\\ipykernel_32464\\2744415287.py:1: UserWarning:\n",
      "\n",
      "Parsing dates in %d.%m.%Y %H:%M:%S format when dayfirst=False (the default) was specified. Pass `dayfirst=True` or specify a format to silence this warning.\n",
      "\n",
      "C:\\Temp\\ipykernel_32464\\2744415287.py:12: UserWarning:\n",
      "\n",
      "Parsing dates in %d.%m.%Y %H:%M:%S format when dayfirst=False (the default) was specified. Pass `dayfirst=True` or specify a format to silence this warning.\n",
      "\n"
     ]
    }
   ],
   "source": [
    "data['hour'] = pd.to_datetime(data.dateTime).dt.hour\n",
    "\n",
    "weekdays = {\n",
    "    0: '1.Понедельник',\n",
    "    1: '2.Вторник',\n",
    "    2: '3.Среда',\n",
    "    3: '4.Четверг',\n",
    "    4: '5.Пятница',\n",
    "    5: '6.Суббота',\n",
    "    6: '7.Воскресенье'\n",
    "    }\n",
    "data['weekday'] = pd.to_datetime(data.dateTime).dt.weekday.map(weekdays)\n",
    "\n",
    "data = data.rename(columns={'Идентификатор покупателя': 'customer_id'})"
   ]
  },
  {
   "cell_type": "markdown",
   "id": "4bf45589",
   "metadata": {},
   "source": [
    "Проведём `ABC-анализ` для каждой торговой сети.\n",
    "\n",
    "Классифицируем товары `CLEAN_SKU` по прибыли и количеству проданных позиций. А так же по `CATEGORY_NT` по количеству проданных позиций"
   ]
  },
  {
   "cell_type": "code",
   "execution_count": 29,
   "id": "1b773057",
   "metadata": {},
   "outputs": [],
   "source": [
    "def perform_abc(df, index):\n",
    "    cols = list(df.columns)\n",
    "    for i in index:\n",
    "        cols.remove(i)\n",
    "    groupped_df = df.groupby(index[1]).agg({col: 'sum' for col in cols})\n",
    "    for col in cols:\n",
    "        groupped_df[f'rel_{col}'] = groupped_df[col] / sum(groupped_df[col])\n",
    "        groupped_df = groupped_df.sort_values(f'rel_{col}', ascending=False)\n",
    "        groupped_df[f'cumsum_{col}'] = groupped_df[f'rel_{col}'].cumsum()\n",
    "        groupped_df[f'abc_{col}'] = np.where(groupped_df[f'cumsum_{col}'] < 0.8, 'A', np.where(groupped_df[f'cumsum_{col}'] < 0.95, 'B', 'C'))\n",
    "    return groupped_df[cols + [f'abc_{col}' for col in cols]]"
   ]
  },
  {
   "cell_type": "code",
   "execution_count": 30,
   "id": "f189d16f",
   "metadata": {},
   "outputs": [
    {
     "data": {
      "application/vnd.microsoft.datawrangler.viewer.v0+json": {
       "columns": [
        {
         "name": "index",
         "rawType": "int64",
         "type": "integer"
        },
        {
         "name": "client_NT",
         "rawType": "category",
         "type": "unknown"
        },
        {
         "name": "CLEAN_SKU",
         "rawType": "object",
         "type": "string"
        },
        {
         "name": "price_items",
         "rawType": "float32",
         "type": "float"
        },
        {
         "name": "quantity_items",
         "rawType": "float32",
         "type": "float"
        }
       ],
       "conversionMethod": "pd.DataFrame",
       "ref": "6ba9575e-ebe6-4d55-90a3-27311bb1f496",
       "rows": [
        [
         "0",
         "Окей",
         "Бананы кг",
         "70.38",
         "0.594"
        ],
        [
         "1",
         "Окей",
         "Зажарка Maggi 60г",
         "33.42",
         "1.0"
        ],
        [
         "2",
         "Окей",
         "Бананы кг",
         "96.24",
         "0.91"
        ],
        [
         "3",
         "Окей",
         "Яблоки кг",
         "87.49",
         "1.3"
        ],
        [
         "4",
         "Окей",
         "Апельсины кг",
         "109.99",
         "1.692"
        ],
        [
         "5",
         "Окей",
         "Кабачки кг",
         "84.14",
         "0.41"
        ],
        [
         "6",
         "Окей",
         "Лимоны кг",
         "131.98",
         "0.64"
        ],
        [
         "7",
         "Окей",
         "БЗМЖ Творог Кубанский молочник со сметаной 160г",
         "89.99",
         "1.0"
        ],
        [
         "8",
         "Окей",
         "БЗМЖ Творог Кубанский молочник с клуб-земл вареньем 160г",
         "89.99",
         "1.0"
        ],
        [
         "9",
         "Окей",
         "Булочка Даллас с творогом 100г",
         "49.99",
         "1.0"
        ],
        [
         "10",
         "Гиперглобус",
         "КОЛБ ДОКТОРСКАЯ СИН",
         "799.9",
         "0.328"
        ],
        [
         "11",
         "Гиперглобус",
         "ПАКЕТ-СУМКА ПСД ЛОГО",
         "13.99",
         "1.0"
        ],
        [
         "12",
         "Гиперглобус",
         "ПАКЕТ-МАЙКА ГЛОБУС",
         "6.99",
         "1.0"
        ],
        [
         "13",
         "Гиперглобус",
         "САЛФ РЛ В КОР 120ШТ",
         "87.99",
         "1.0"
        ],
        [
         "14",
         "Гиперглобус",
         "ВОДА СЕНЕЖСК Б/Г 3Л",
         "59.99",
         "2.0"
        ],
        [
         "15",
         "Гиперглобус",
         "НАПИТОК САЯНЫ 2Л",
         "118.99",
         "1.0"
        ],
        [
         "16",
         "Гиперглобус",
         "ПЯТНОВЫВ.100 ПЯТЕН",
         "259.99",
         "1.0"
        ],
        [
         "17",
         "Гиперглобус",
         "СЫР ЛАМБЕР ГАУДА180Г",
         "212.99",
         "1.0"
        ],
        [
         "18",
         "Гиперглобус",
         "ПРЯН СГУЩ 140Г",
         "66.99",
         "1.0"
        ],
        [
         "19",
         "Гиперглобус",
         "ПЕЧЕНЬЕ ОРЕО 228Г",
         "142.99",
         "1.0"
        ],
        [
         "20",
         "Гиперглобус",
         "СМЕТ ПРОСТОКВ20%300Г",
         "98.99",
         "1.0"
        ],
        [
         "21",
         "Гиперглобус",
         "СОСИСКИ ДОКТ. 440Г",
         "309.99",
         "1.0"
        ],
        [
         "22",
         "Гиперглобус",
         "КОЛБ ЗЕРНИСТАЯ С/К",
         "2085.9",
         "0.06"
        ],
        [
         "23",
         "Гиперглобус",
         "БАТОН НАРЕЗ НАР 400Г",
         "42.99",
         "1.0"
        ],
        [
         "24",
         "Гиперглобус",
         "СЛАД КУКУР КУЗЯ140Г",
         "61.99",
         "1.0"
        ],
        [
         "25",
         "Гиперглобус",
         "СТАКАН 200МЛ 100ШТ",
         "154.99",
         "1.0"
        ],
        [
         "26",
         "Гиперглобус",
         "ЧАШКА КОФЕЙНАЯ",
         "39.99",
         "1.0"
        ],
        [
         "27",
         "Гиперглобус",
         "Н-Р ВИЛОК 6 ШТ",
         "33.99",
         "2.0"
        ],
        [
         "28",
         "Гиперглобус",
         "ВИЛКА СТОЛ ВАШ ВЫБОР",
         "15.99",
         "2.0"
        ],
        [
         "29",
         "Гиперглобус",
         "Н-Р ЛОЖЕК 6 ШТ",
         "33.99",
         "1.0"
        ],
        [
         "30",
         "Гиперглобус",
         "ТАРЕЛКА СУП БЕЛ10ШТ",
         "59.99",
         "2.0"
        ],
        [
         "31",
         "Гиперглобус",
         "КОЛБ.ДОКТОРСК.190Г",
         "114.99",
         "1.0"
        ],
        [
         "32",
         "Гиперглобус",
         "ПАКЕТ КАССА ГЛ САМ",
         "6.99",
         "1.0"
        ],
        [
         "33",
         "Гиперглобус",
         "КОРНИШОНЫ ВЫБОРЖ300",
         "129.99",
         "2.0"
        ],
        [
         "34",
         "Гиперглобус",
         "ВЕТЧИНА Д/ТОСТ.120Г",
         "122.99",
         "1.0"
        ],
        [
         "35",
         "Гиперглобус",
         "РИС КАРАЧИХА 900Г",
         "99.99",
         "1.0"
        ],
        [
         "36",
         "Гиперглобус",
         "АБРИКОСЫ ШАЛАХ ВЕС",
         "299.99",
         "0.488"
        ],
        [
         "37",
         "Гиперглобус",
         "ХЛЕБ КЛЮКВ. 300Г",
         "82.99",
         "1.0"
        ],
        [
         "38",
         "Гиперглобус",
         "ЛИМОНАД КРЫМ 2Л",
         "99.99",
         "1.0"
        ],
        [
         "39",
         "Гиперглобус",
         "НАП ИЗ ЧЕРН КРЮШ 2Л",
         "99.99",
         "1.0"
        ],
        [
         "40",
         "Гиперглобус",
         "НАП БУРАТИНО ПЭТ 0,5",
         "29.99",
         "1.0"
        ],
        [
         "41",
         "Гиперглобус",
         "СТАКАН 200МЛ 100ШТ",
         "154.99",
         "1.0"
        ],
        [
         "42",
         "Гиперглобус",
         "НАП ЛИМОНАД 0,5Л ПЭТ",
         "29.99",
         "1.0"
        ],
        [
         "43",
         "Окей",
         "БЗМЖ Йогурт питьевой Вкуснотеево клубника 1,5% 750г",
         "114.99",
         "1.0"
        ],
        [
         "44",
         "Окей",
         "Квас ОКЕЙ Традиционный б/алк газ 2л пэт",
         "69.99",
         "1.0"
        ],
        [
         "45",
         "Окей",
         "БЗМЖ Тан ОКЕЙ 0,1% 0,5л пэт",
         "32.99",
         "1.0"
        ],
        [
         "46",
         "Окей",
         "Тыква Баттернат кг",
         "199.98",
         "0.656"
        ],
        [
         "47",
         "Окей",
         "Яблоки Ред Делишес кг",
         "99.99",
         "1.31"
        ],
        [
         "48",
         "Окей",
         "Варенье ОКЕЙ стерилизованное малиновое 320г",
         "149.99",
         "1.0"
        ],
        [
         "49",
         "Окей",
         "Колбаса вареная Идель Мусульманская 400г",
         "169.99",
         "1.0"
        ]
       ],
       "shape": {
        "columns": 4,
        "rows": 2400064
       }
      },
      "text/html": [
       "<div>\n",
       "<style scoped>\n",
       "    .dataframe tbody tr th:only-of-type {\n",
       "        vertical-align: middle;\n",
       "    }\n",
       "\n",
       "    .dataframe tbody tr th {\n",
       "        vertical-align: top;\n",
       "    }\n",
       "\n",
       "    .dataframe thead th {\n",
       "        text-align: right;\n",
       "    }\n",
       "</style>\n",
       "<table border=\"1\" class=\"dataframe\">\n",
       "  <thead>\n",
       "    <tr style=\"text-align: right;\">\n",
       "      <th></th>\n",
       "      <th>client_NT</th>\n",
       "      <th>CLEAN_SKU</th>\n",
       "      <th>price_items</th>\n",
       "      <th>quantity_items</th>\n",
       "    </tr>\n",
       "  </thead>\n",
       "  <tbody>\n",
       "    <tr>\n",
       "      <th>0</th>\n",
       "      <td>Окей</td>\n",
       "      <td>Бананы кг</td>\n",
       "      <td>70.38</td>\n",
       "      <td>0.59</td>\n",
       "    </tr>\n",
       "    <tr>\n",
       "      <th>1</th>\n",
       "      <td>Окей</td>\n",
       "      <td>Зажарка Maggi 60г</td>\n",
       "      <td>33.42</td>\n",
       "      <td>1.00</td>\n",
       "    </tr>\n",
       "    <tr>\n",
       "      <th>2</th>\n",
       "      <td>Окей</td>\n",
       "      <td>Бананы кг</td>\n",
       "      <td>96.24</td>\n",
       "      <td>0.91</td>\n",
       "    </tr>\n",
       "    <tr>\n",
       "      <th>3</th>\n",
       "      <td>Окей</td>\n",
       "      <td>Яблоки кг</td>\n",
       "      <td>87.49</td>\n",
       "      <td>1.30</td>\n",
       "    </tr>\n",
       "    <tr>\n",
       "      <th>4</th>\n",
       "      <td>Окей</td>\n",
       "      <td>Апельсины кг</td>\n",
       "      <td>109.99</td>\n",
       "      <td>1.69</td>\n",
       "    </tr>\n",
       "    <tr>\n",
       "      <th>...</th>\n",
       "      <td>...</td>\n",
       "      <td>...</td>\n",
       "      <td>...</td>\n",
       "      <td>...</td>\n",
       "    </tr>\n",
       "    <tr>\n",
       "      <th>2400094</th>\n",
       "      <td>Окей</td>\n",
       "      <td>Кондиционер конц д/белья Vernel supreme elegan...</td>\n",
       "      <td>199.99</td>\n",
       "      <td>1.00</td>\n",
       "    </tr>\n",
       "    <tr>\n",
       "      <th>2400095</th>\n",
       "      <td>Окей</td>\n",
       "      <td>Абрикосы 500г упак</td>\n",
       "      <td>169.99</td>\n",
       "      <td>1.00</td>\n",
       "    </tr>\n",
       "    <tr>\n",
       "      <th>2400096</th>\n",
       "      <td>Окей</td>\n",
       "      <td>Пакет подарочный Арт и Дизайн ST премиум 12х36см</td>\n",
       "      <td>102.99</td>\n",
       "      <td>1.00</td>\n",
       "    </tr>\n",
       "    <tr>\n",
       "      <th>2400097</th>\n",
       "      <td>Окей</td>\n",
       "      <td>Вино Вадиаперти Греко Ди Туфо бел. сух. 4,5-16...</td>\n",
       "      <td>1099.02</td>\n",
       "      <td>1.00</td>\n",
       "    </tr>\n",
       "    <tr>\n",
       "      <th>2400098</th>\n",
       "      <td>Окей</td>\n",
       "      <td>Набор конфет Merci ассорти 400г</td>\n",
       "      <td>629.99</td>\n",
       "      <td>1.00</td>\n",
       "    </tr>\n",
       "  </tbody>\n",
       "</table>\n",
       "<p>2400064 rows × 4 columns</p>\n",
       "</div>"
      ],
      "text/plain": [
       "        client_NT                                          CLEAN_SKU  \\\n",
       "0            Окей                                          Бананы кг   \n",
       "1            Окей                                  Зажарка Maggi 60г   \n",
       "2            Окей                                          Бананы кг   \n",
       "3            Окей                                          Яблоки кг   \n",
       "4            Окей                                       Апельсины кг   \n",
       "...           ...                                                ...   \n",
       "2400094      Окей  Кондиционер конц д/белья Vernel supreme elegan...   \n",
       "2400095      Окей                                 Абрикосы 500г упак   \n",
       "2400096      Окей   Пакет подарочный Арт и Дизайн ST премиум 12х36см   \n",
       "2400097      Окей  Вино Вадиаперти Греко Ди Туфо бел. сух. 4,5-16...   \n",
       "2400098      Окей                    Набор конфет Merci ассорти 400г   \n",
       "\n",
       "         price_items  quantity_items  \n",
       "0              70.38            0.59  \n",
       "1              33.42            1.00  \n",
       "2              96.24            0.91  \n",
       "3              87.49            1.30  \n",
       "4             109.99            1.69  \n",
       "...              ...             ...  \n",
       "2400094       199.99            1.00  \n",
       "2400095       169.99            1.00  \n",
       "2400096       102.99            1.00  \n",
       "2400097      1099.02            1.00  \n",
       "2400098       629.99            1.00  \n",
       "\n",
       "[2400064 rows x 4 columns]"
      ]
     },
     "execution_count": 30,
     "metadata": {},
     "output_type": "execute_result"
    }
   ],
   "source": [
    "abc_all_SKU = data[['client_NT', 'CLEAN_SKU', 'price_items', 'quantity_items']].dropna()\n",
    "abc_all_SKU"
   ]
  },
  {
   "cell_type": "code",
   "execution_count": 31,
   "id": "6aceb163",
   "metadata": {},
   "outputs": [
    {
     "data": {
      "application/vnd.microsoft.datawrangler.viewer.v0+json": {
       "columns": [
        {
         "name": "index",
         "rawType": "int64",
         "type": "integer"
        },
        {
         "name": "CLEAN_SKU",
         "rawType": "object",
         "type": "string"
        },
        {
         "name": "price_items",
         "rawType": "float32",
         "type": "float"
        },
        {
         "name": "quantity_items",
         "rawType": "float32",
         "type": "float"
        },
        {
         "name": "abc_price_items",
         "rawType": "object",
         "type": "string"
        },
        {
         "name": "abc_quantity_items",
         "rawType": "object",
         "type": "string"
        },
        {
         "name": "client_NT",
         "rawType": "object",
         "type": "string"
        }
       ],
       "conversionMethod": "pd.DataFrame",
       "ref": "4530af8a-ebbb-4fdc-9171-148e71c5c571",
       "rows": [
        [
         "0",
         "Пакет из переработанного материала Kinglet 40х65см",
         "67268.21",
         "9074.0",
         "A",
         "A",
         "Окей"
        ],
        [
         "1",
         "Бананы кг",
         "652318.3",
         "8526.117",
         "A",
         "A",
         "Окей"
        ],
        [
         "2",
         "БЗМЖ Молоко утп Домик в деревне 3,2% 925мл тба",
         "312110.16",
         "7176.0",
         "A",
         "A",
         "Окей"
        ],
        [
         "3",
         "Картофель ранний импортный кг",
         "252049.86",
         "6234.257",
         "A",
         "A",
         "Окей"
        ],
        [
         "4",
         "Сахар-песок бел. кристал. ГОСТ 33222-2015, кат. ТС2, вес.(1кг), кг",
         "199892.5",
         "5130.0",
         "A",
         "A",
         "Окей"
        ],
        [
         "5",
         "Свинина карбонад п/ф охлажденный кг",
         "683861.25",
         "4354.293",
         "A",
         "A",
         "Окей"
        ],
        [
         "6",
         "Яйцо куриное СО ОКЕЙ 10шт",
         "252609.33",
         "3857.0",
         "A",
         "A",
         "Окей"
        ],
        [
         "7",
         "Лук репчатый кг",
         "174356.55",
         "3831.464",
         "A",
         "A",
         "Окей"
        ],
        [
         "8",
         "БЗМЖ Молоко утп Эконива 3,2% 1000мл TBA SlimCap",
         "145131.9",
         "3830.0",
         "A",
         "A",
         "Окей"
        ],
        [
         "9",
         "Пакет из крахмала кукурузы Kinglet 37/9х60",
         "24905.68",
         "3035.0",
         "A",
         "A",
         "Окей"
        ],
        [
         "10",
         "Свинина окорок без кости п/ф охлажденный кг",
         "390833.8",
         "3023.313",
         "A",
         "A",
         "Окей"
        ],
        [
         "11",
         "Батон Коломенский Нарезной в/с в нарезке 400г",
         "112263.63",
         "2814.0",
         "A",
         "A",
         "Окей"
        ],
        [
         "12",
         "Напиток Coca-Cola б/алк газ 2л пэт",
         "151651.48",
         "2698.0",
         "A",
         "A",
         "Окей"
        ],
        [
         "13",
         "Капуста б/к ранняя кг",
         "122789.99",
         "2526.705",
         "A",
         "A",
         "Окей"
        ],
        [
         "14",
         "Вода Новотерская целебная газ леч/стол 1,5л пэт",
         "63290.18",
         "2433.0",
         "A",
         "A",
         "Окей"
        ],
        [
         "15",
         "Картофель кг",
         "58952.38",
         "2375.2761",
         "A",
         "A",
         "Окей"
        ],
        [
         "16",
         "Морковь кг",
         "129404.47",
         "2332.997",
         "A",
         "A",
         "Окей"
        ],
        [
         "17",
         "Свинина шея без кости п/ф охлажденный кг",
         "503769.06",
         "2242.707",
         "A",
         "A",
         "Окей"
        ],
        [
         "18",
         "Кабачки кг",
         "208261.92",
         "2011.794",
         "A",
         "A",
         "Окей"
        ],
        [
         "19",
         "БЗМЖ Молоко утп Хорошее дело 3,2% 1000мл с крышкой",
         "84731.69",
         "1933.0",
         "A",
         "A",
         "Окей"
        ],
        [
         "20",
         "Вода минеральная Сенежская н/газ 1.5л пэт",
         "20583.01",
         "1773.0",
         "A",
         "A",
         "Окей"
        ],
        [
         "21",
         "Perfect Fit стер.кош куриц 28 75г",
         "11339.02",
         "1763.0",
         "A",
         "A",
         "Окей"
        ],
        [
         "22",
         "БЗМЖ Молоко утп Село Зеленое 3,2% 950мл",
         "70686.57",
         "1633.0",
         "A",
         "A",
         "Окей"
        ],
        [
         "23",
         "Perfect Fit стер.кош кролик 28 75г",
         "10903.8",
         "1612.0",
         "A",
         "A",
         "Окей"
        ],
        [
         "24",
         "Perfect Fit стер.кош инд пашт 24 75г",
         "11631.56",
         "1598.0",
         "A",
         "A",
         "Окей"
        ],
        [
         "25",
         "Вода Святой Источник питьевая н/газ 1,5л пэт",
         "24782.25",
         "1569.0",
         "A",
         "A",
         "Окей"
        ],
        [
         "26",
         "Влажный корм Felix Аппетитные кусочки для взрослых кошек, с кроликом в желе, Пауч, 85 г",
         "11156.79",
         "1515.0",
         "A",
         "A",
         "Окей"
        ],
        [
         "27",
         "Филе цыпленка охлажденное Петелинка кг",
         "550785.44",
         "1479.326",
         "A",
         "A",
         "Окей"
        ],
        [
         "28",
         "Томаты розовые кг",
         "300978.9",
         "1459.683",
         "A",
         "A",
         "Окей"
        ],
        [
         "29",
         "Вода питьевая ОКЕЙ DAILY н/газ 5л (ТЧН)",
         "33059.32",
         "1437.0",
         "A",
         "A",
         "Окей"
        ],
        [
         "30",
         "Филе цыпленка охлажденное ТЧН! (ОКЕЙ DAILY) кг",
         "456356.22",
         "1428.872",
         "A",
         "A",
         "Окей"
        ],
        [
         "31",
         "Морковь мытая кг",
         "115227.37",
         "1427.284",
         "A",
         "A",
         "Окей"
        ],
        [
         "32",
         "Картофель Азербайджан кг",
         "47987.79",
         "1374.293",
         "A",
         "A",
         "Окей"
        ],
        [
         "33",
         "Редис 500г упак",
         "86281.53",
         "1350.0",
         "A",
         "A",
         "Окей"
        ],
        [
         "34",
         "БЗМЖ Сметана Простоквашино 20% 300г",
         "105032.64",
         "1335.0",
         "A",
         "A",
         "Окей"
        ],
        [
         "35",
         "Цыпленок 1кат охлажденный н/п Петелинка кг",
         "138579.8",
         "1334.629",
         "A",
         "A",
         "Окей"
        ],
        [
         "36",
         "Perfect Fit стер.кош говяд 28 75г",
         "9080.28",
         "1334.0",
         "A",
         "A",
         "Окей"
        ],
        [
         "37",
         "Вода Святой Источник питьевая газ 1,5л пэт",
         "21661.81",
         "1320.0",
         "A",
         "A",
         "Окей"
        ],
        [
         "38",
         "Огурцы короткоплодные тепличные кг",
         "204830.81",
         "1291.54",
         "A",
         "A",
         "Окей"
        ],
        [
         "39",
         "БЗМЖ Мороженое пломбир Филевское Лакомка 90г",
         "32011.3",
         "1289.0",
         "A",
         "A",
         "Окей"
        ],
        [
         "40",
         "Perfect Fit стерл.кош говяд пашт 24 75г",
         "7891.26",
         "1283.0",
         "A",
         "A",
         "Окей"
        ],
        [
         "41",
         "БЗМЖ Молоко утп Домик в деревне 2,5% 950г",
         "62125.5",
         "1261.0",
         "A",
         "A",
         "Окей"
        ],
        [
         "42",
         "Салат в горшочке шт",
         "59015.71",
         "1253.0",
         "A",
         "A",
         "Окей"
        ],
        [
         "43",
         "Авокадо Хасс шт",
         "39311.7",
         "1244.0",
         "A",
         "A",
         "Окей"
        ],
        [
         "44",
         "Влажный корм Felix Аппетитные кусочки для взрослых кошек, с ягненком в желе, Пауч, 85 г",
         "9854.68",
         "1222.0",
         "A",
         "A",
         "Окей"
        ],
        [
         "45",
         "БЗМЖ Творог Агуша Классический дет 4,5% 100г",
         "26833.77",
         "1217.0",
         "A",
         "A",
         "Окей"
        ],
        [
         "46",
         "Вода Baby island д/детей н/газ высшей категории 5л пэт",
         "38421.49",
         "1204.0",
         "A",
         "A",
         "Окей"
        ],
        [
         "47",
         "Влажный корм Felix Аппетитные кусочки для взрослых кошек, с курицей в желе, Пауч, 85 г",
         "9032.83",
         "1164.0",
         "A",
         "A",
         "Окей"
        ],
        [
         "48",
         "Филе бедра цыпленка охлажденное Петелинка кг",
         "402067.8",
         "1163.727",
         "A",
         "A",
         "Окей"
        ],
        [
         "49",
         "БЗМЖ Молоко утп Эконива 2,5% 1000мл TBA SlimCap",
         "52746.7",
         "1162.0",
         "A",
         "A",
         "Окей"
        ]
       ],
       "shape": {
        "columns": 6,
        "rows": 71233
       }
      },
      "text/html": [
       "<div>\n",
       "<style scoped>\n",
       "    .dataframe tbody tr th:only-of-type {\n",
       "        vertical-align: middle;\n",
       "    }\n",
       "\n",
       "    .dataframe tbody tr th {\n",
       "        vertical-align: top;\n",
       "    }\n",
       "\n",
       "    .dataframe thead th {\n",
       "        text-align: right;\n",
       "    }\n",
       "</style>\n",
       "<table border=\"1\" class=\"dataframe\">\n",
       "  <thead>\n",
       "    <tr style=\"text-align: right;\">\n",
       "      <th></th>\n",
       "      <th>CLEAN_SKU</th>\n",
       "      <th>price_items</th>\n",
       "      <th>quantity_items</th>\n",
       "      <th>abc_price_items</th>\n",
       "      <th>abc_quantity_items</th>\n",
       "      <th>client_NT</th>\n",
       "    </tr>\n",
       "  </thead>\n",
       "  <tbody>\n",
       "    <tr>\n",
       "      <th>0</th>\n",
       "      <td>Пакет из переработанного материала Kinglet 40х...</td>\n",
       "      <td>67268.21</td>\n",
       "      <td>9074.00</td>\n",
       "      <td>A</td>\n",
       "      <td>A</td>\n",
       "      <td>Окей</td>\n",
       "    </tr>\n",
       "    <tr>\n",
       "      <th>1</th>\n",
       "      <td>Бананы кг</td>\n",
       "      <td>652318.31</td>\n",
       "      <td>8526.12</td>\n",
       "      <td>A</td>\n",
       "      <td>A</td>\n",
       "      <td>Окей</td>\n",
       "    </tr>\n",
       "    <tr>\n",
       "      <th>2</th>\n",
       "      <td>БЗМЖ Молоко утп Домик в деревне 3,2% 925мл тба</td>\n",
       "      <td>312110.16</td>\n",
       "      <td>7176.00</td>\n",
       "      <td>A</td>\n",
       "      <td>A</td>\n",
       "      <td>Окей</td>\n",
       "    </tr>\n",
       "    <tr>\n",
       "      <th>3</th>\n",
       "      <td>Картофель ранний импортный кг</td>\n",
       "      <td>252049.86</td>\n",
       "      <td>6234.26</td>\n",
       "      <td>A</td>\n",
       "      <td>A</td>\n",
       "      <td>Окей</td>\n",
       "    </tr>\n",
       "    <tr>\n",
       "      <th>4</th>\n",
       "      <td>Сахар-песок бел. кристал. ГОСТ 33222-2015, кат...</td>\n",
       "      <td>199892.50</td>\n",
       "      <td>5130.00</td>\n",
       "      <td>A</td>\n",
       "      <td>A</td>\n",
       "      <td>Окей</td>\n",
       "    </tr>\n",
       "    <tr>\n",
       "      <th>...</th>\n",
       "      <td>...</td>\n",
       "      <td>...</td>\n",
       "      <td>...</td>\n",
       "      <td>...</td>\n",
       "      <td>...</td>\n",
       "      <td>...</td>\n",
       "    </tr>\n",
       "    <tr>\n",
       "      <th>71228</th>\n",
       "      <td>630Г КОЛБАСА ОКРАИНА ЗЕРНИСТАЯ С/К</td>\n",
       "      <td>565.59</td>\n",
       "      <td>0.34</td>\n",
       "      <td>A</td>\n",
       "      <td>C</td>\n",
       "      <td>Metro c&amp;c</td>\n",
       "    </tr>\n",
       "    <tr>\n",
       "      <th>71229</th>\n",
       "      <td>САЛАТ АЙСБЕРГ</td>\n",
       "      <td>159.01</td>\n",
       "      <td>0.31</td>\n",
       "      <td>B</td>\n",
       "      <td>C</td>\n",
       "      <td>Metro c&amp;c</td>\n",
       "    </tr>\n",
       "    <tr>\n",
       "      <th>71230</th>\n",
       "      <td>ЧЕСНОК</td>\n",
       "      <td>196.96</td>\n",
       "      <td>0.31</td>\n",
       "      <td>B</td>\n",
       "      <td>C</td>\n",
       "      <td>Metro c&amp;c</td>\n",
       "    </tr>\n",
       "    <tr>\n",
       "      <th>71231</th>\n",
       "      <td>ВИШНЯ</td>\n",
       "      <td>239.00</td>\n",
       "      <td>0.21</td>\n",
       "      <td>B</td>\n",
       "      <td>C</td>\n",
       "      <td>Metro c&amp;c</td>\n",
       "    </tr>\n",
       "    <tr>\n",
       "      <th>71232</th>\n",
       "      <td>350Г КАРПАЧЧО ИЗ МЯСА ПТИЦЫ РУБЛЕВСКИЙ</td>\n",
       "      <td>827.44</td>\n",
       "      <td>0.12</td>\n",
       "      <td>A</td>\n",
       "      <td>C</td>\n",
       "      <td>Metro c&amp;c</td>\n",
       "    </tr>\n",
       "  </tbody>\n",
       "</table>\n",
       "<p>71233 rows × 6 columns</p>\n",
       "</div>"
      ],
      "text/plain": [
       "                                               CLEAN_SKU  price_items  \\\n",
       "0      Пакет из переработанного материала Kinglet 40х...     67268.21   \n",
       "1                                              Бананы кг    652318.31   \n",
       "2         БЗМЖ Молоко утп Домик в деревне 3,2% 925мл тба    312110.16   \n",
       "3                          Картофель ранний импортный кг    252049.86   \n",
       "4      Сахар-песок бел. кристал. ГОСТ 33222-2015, кат...    199892.50   \n",
       "...                                                  ...          ...   \n",
       "71228                 630Г КОЛБАСА ОКРАИНА ЗЕРНИСТАЯ С/К       565.59   \n",
       "71229                                      САЛАТ АЙСБЕРГ       159.01   \n",
       "71230                                             ЧЕСНОК       196.96   \n",
       "71231                                              ВИШНЯ       239.00   \n",
       "71232             350Г КАРПАЧЧО ИЗ МЯСА ПТИЦЫ РУБЛЕВСКИЙ       827.44   \n",
       "\n",
       "       quantity_items abc_price_items abc_quantity_items  client_NT  \n",
       "0             9074.00               A                  A       Окей  \n",
       "1             8526.12               A                  A       Окей  \n",
       "2             7176.00               A                  A       Окей  \n",
       "3             6234.26               A                  A       Окей  \n",
       "4             5130.00               A                  A       Окей  \n",
       "...               ...             ...                ...        ...  \n",
       "71228            0.34               A                  C  Metro c&c  \n",
       "71229            0.31               B                  C  Metro c&c  \n",
       "71230            0.31               B                  C  Metro c&c  \n",
       "71231            0.21               B                  C  Metro c&c  \n",
       "71232            0.12               A                  C  Metro c&c  \n",
       "\n",
       "[71233 rows x 6 columns]"
      ]
     },
     "execution_count": 31,
     "metadata": {},
     "output_type": "execute_result"
    }
   ],
   "source": [
    "abc_SKU = pd.DataFrame()\n",
    "for trade in trades:\n",
    "    tmp = pd.DataFrame()\n",
    "    tmp = perform_abc(abc_all_SKU[abc_all_SKU['client_NT'] == trade], ['client_NT', 'CLEAN_SKU']).reset_index()\n",
    "    tmp['client_NT'] = trade\n",
    "    abc_SKU = pd.concat([abc_SKU, tmp], ignore_index=True).dropna()\n",
    "abc_SKU"
   ]
  },
  {
   "cell_type": "code",
   "execution_count": 32,
   "id": "c11e62ff",
   "metadata": {},
   "outputs": [
    {
     "data": {
      "application/vnd.microsoft.datawrangler.viewer.v0+json": {
       "columns": [
        {
         "name": "index",
         "rawType": "int64",
         "type": "integer"
        },
        {
         "name": "client_NT",
         "rawType": "category",
         "type": "unknown"
        },
        {
         "name": "CATEGORY_NT",
         "rawType": "category",
         "type": "unknown"
        },
        {
         "name": "quantity_items",
         "rawType": "float32",
         "type": "float"
        }
       ],
       "conversionMethod": "pd.DataFrame",
       "ref": "60480988-2f55-49e4-881c-5ea2ac7883f8",
       "rows": [
        [
         "0",
         "Окей",
         "ФРУКТЫ ОСНОВНЫЕ",
         "0.594"
        ],
        [
         "1",
         "Окей",
         "ПРИПРАВЫ ДЛЯ ПЕРВЫХ И ВТОРЫХ БЛЮД",
         "1.0"
        ],
        [
         "2",
         "Окей",
         "ФРУКТЫ ОСНОВНЫЕ",
         "0.91"
        ],
        [
         "3",
         "Окей",
         "ФРУКТЫ ОСНОВНЫЕ",
         "1.3"
        ],
        [
         "5",
         "Окей",
         "ОВОЩИ РАЗНЫЕ",
         "0.41"
        ],
        [
         "6",
         "Окей",
         "ЦИТРУСОВЫЕ",
         "0.64"
        ],
        [
         "7",
         "Окей",
         "ПОСУДА",
         "1.0"
        ],
        [
         "8",
         "Окей",
         "ПОСУДА",
         "1.0"
        ],
        [
         "9",
         "Окей",
         "БУЛОЧКИ, ПИРОЖКИ, ВАТРУШКИ FRESH",
         "1.0"
        ],
        [
         "10",
         "Гиперглобус",
         "ВАРЕНЫЕ КОЛБАСЫ",
         "0.328"
        ],
        [
         "11",
         "Гиперглобус",
         "ПАКЕТЫ, СУМКИ ПРИКАССОВОЙ ЗОНЫ",
         "1.0"
        ],
        [
         "12",
         "Гиперглобус",
         "ПАКЕТЫ, СУМКИ ПРИКАССОВОЙ ЗОНЫ",
         "1.0"
        ],
        [
         "14",
         "Гиперглобус",
         "ВОДА",
         "2.0"
        ],
        [
         "15",
         "Гиперглобус",
         "СЛАДКИЕ ГАЗИРОВАННЫЕ НАПИТКИ",
         "1.0"
        ],
        [
         "17",
         "Гиперглобус",
         "ТВЕРДЫЕ И ПОЛУТВЕРДЫЕ",
         "1.0"
        ],
        [
         "19",
         "Гиперглобус",
         "ПЕЧЕНЬЕ",
         "1.0"
        ],
        [
         "20",
         "Гиперглобус",
         "СМЕТАНА",
         "1.0"
        ],
        [
         "21",
         "Гиперглобус",
         "СОСИСКИ",
         "1.0"
        ],
        [
         "22",
         "Гиперглобус",
         "СЫРОКОПЧЕНЫЕ КОЛБАСЫ",
         "0.06"
        ],
        [
         "26",
         "Гиперглобус",
         "ПОСУДА",
         "1.0"
        ],
        [
         "27",
         "Гиперглобус",
         "ПОСУДА",
         "2.0"
        ],
        [
         "28",
         "Гиперглобус",
         "ПОСУДА",
         "2.0"
        ],
        [
         "31",
         "Гиперглобус",
         "ВАРЕНЫЕ КОЛБАСЫ",
         "1.0"
        ],
        [
         "34",
         "Гиперглобус",
         "ВЕТЧИНА",
         "1.0"
        ],
        [
         "36",
         "Гиперглобус",
         "ФРУКТЫ ОСНОВНЫЕ",
         "0.488"
        ],
        [
         "38",
         "Гиперглобус",
         "СЛАДКИЕ ГАЗИРОВАННЫЕ НАПИТКИ",
         "1.0"
        ],
        [
         "39",
         "Гиперглобус",
         "СЛАДКИЕ ГАЗИРОВАННЫЕ НАПИТКИ",
         "1.0"
        ],
        [
         "40",
         "Гиперглобус",
         "СЛАДКИЕ ГАЗИРОВАННЫЕ НАПИТКИ",
         "1.0"
        ],
        [
         "42",
         "Гиперглобус",
         "СЛАДКИЕ ГАЗИРОВАННЫЕ НАПИТКИ",
         "1.0"
        ],
        [
         "43",
         "Окей",
         "ЙОГУРТЫ",
         "1.0"
        ],
        [
         "44",
         "Окей",
         "КВАС И КВАСНЫЕ НАПИТКИ",
         "1.0"
        ],
        [
         "45",
         "Окей",
         "КИСЛОМОЛОЧНЫЕ ПРОДУКТЫ",
         "1.0"
        ],
        [
         "46",
         "Окей",
         "ОВОЩИ РАЗНЫЕ",
         "0.656"
        ],
        [
         "47",
         "Окей",
         "ФРУКТЫ ОСНОВНЫЕ",
         "1.31"
        ],
        [
         "48",
         "Окей",
         "ВАРЕНЬЕ, ДЖЕМ, ПОВИДЛО",
         "1.0"
        ],
        [
         "49",
         "Окей",
         "ВАРЕНЫЕ КОЛБАСЫ",
         "1.0"
        ],
        [
         "50",
         "Окей",
         "ТУАЛЕТНАЯ БУМАГА",
         "1.0"
        ],
        [
         "51",
         "Окей",
         "МОРОЖЕНОЕ ПОРЦИОННОЕ",
         "1.0"
        ],
        [
         "52",
         "Окей",
         "ФРУКТЫ ОСНОВНЫЕ",
         "0.206"
        ],
        [
         "53",
         "Окей",
         "ЯГОДЫ",
         "0.234"
        ],
        [
         "54",
         "Окей",
         "БАГЕТ",
         "1.0"
        ],
        [
         "55",
         "Окей",
         "ВАФЛИ",
         "1.0"
        ],
        [
         "56",
         "Окей",
         "ЗАМОРОЖЕННЫЕ ЯГОДЫ",
         "1.0"
        ],
        [
         "57",
         "Окей",
         "СМЕТАНА",
         "1.0"
        ],
        [
         "62",
         "Гиперглобус",
         "ЯЙЦА ПРОЧИЕ",
         "1.0"
        ],
        [
         "67",
         "Гиперглобус",
         "КОРНЕПЛОДЫ",
         "1.218"
        ],
        [
         "70",
         "Гиперглобус",
         "МОРСКИЕ ВОДОРОСЛИ СУХИЕ",
         "1.0"
        ],
        [
         "79",
         "Гиперглобус",
         "ГИГИЕНА И УХОД КОЖИ ТЕЛА",
         "1.0"
        ],
        [
         "84",
         "Гиперглобус",
         "КИСЛОМОЛОЧНЫЕ ПРОДУКТЫ",
         "1.0"
        ],
        [
         "87",
         "Гиперглобус",
         "ЯЙЦА ПРОЧИЕ",
         "1.0"
        ]
       ],
       "shape": {
        "columns": 3,
        "rows": 1626605
       }
      },
      "text/html": [
       "<div>\n",
       "<style scoped>\n",
       "    .dataframe tbody tr th:only-of-type {\n",
       "        vertical-align: middle;\n",
       "    }\n",
       "\n",
       "    .dataframe tbody tr th {\n",
       "        vertical-align: top;\n",
       "    }\n",
       "\n",
       "    .dataframe thead th {\n",
       "        text-align: right;\n",
       "    }\n",
       "</style>\n",
       "<table border=\"1\" class=\"dataframe\">\n",
       "  <thead>\n",
       "    <tr style=\"text-align: right;\">\n",
       "      <th></th>\n",
       "      <th>client_NT</th>\n",
       "      <th>CATEGORY_NT</th>\n",
       "      <th>quantity_items</th>\n",
       "    </tr>\n",
       "  </thead>\n",
       "  <tbody>\n",
       "    <tr>\n",
       "      <th>0</th>\n",
       "      <td>Окей</td>\n",
       "      <td>ФРУКТЫ ОСНОВНЫЕ</td>\n",
       "      <td>0.59</td>\n",
       "    </tr>\n",
       "    <tr>\n",
       "      <th>1</th>\n",
       "      <td>Окей</td>\n",
       "      <td>ПРИПРАВЫ ДЛЯ ПЕРВЫХ И ВТОРЫХ БЛЮД</td>\n",
       "      <td>1.00</td>\n",
       "    </tr>\n",
       "    <tr>\n",
       "      <th>2</th>\n",
       "      <td>Окей</td>\n",
       "      <td>ФРУКТЫ ОСНОВНЫЕ</td>\n",
       "      <td>0.91</td>\n",
       "    </tr>\n",
       "    <tr>\n",
       "      <th>3</th>\n",
       "      <td>Окей</td>\n",
       "      <td>ФРУКТЫ ОСНОВНЫЕ</td>\n",
       "      <td>1.30</td>\n",
       "    </tr>\n",
       "    <tr>\n",
       "      <th>5</th>\n",
       "      <td>Окей</td>\n",
       "      <td>ОВОЩИ РАЗНЫЕ</td>\n",
       "      <td>0.41</td>\n",
       "    </tr>\n",
       "    <tr>\n",
       "      <th>...</th>\n",
       "      <td>...</td>\n",
       "      <td>...</td>\n",
       "      <td>...</td>\n",
       "    </tr>\n",
       "    <tr>\n",
       "      <th>2400094</th>\n",
       "      <td>Окей</td>\n",
       "      <td>СР-ВА ДЛЯ СТИРКИ</td>\n",
       "      <td>1.00</td>\n",
       "    </tr>\n",
       "    <tr>\n",
       "      <th>2400095</th>\n",
       "      <td>Окей</td>\n",
       "      <td>ФРУКТЫ ОСНОВНЫЕ</td>\n",
       "      <td>1.00</td>\n",
       "    </tr>\n",
       "    <tr>\n",
       "      <th>2400096</th>\n",
       "      <td>Окей</td>\n",
       "      <td>ВСЕ ДЛЯ ВЕСЕЛОГО ПРАЗДНИКА</td>\n",
       "      <td>1.00</td>\n",
       "    </tr>\n",
       "    <tr>\n",
       "      <th>2400097</th>\n",
       "      <td>Окей</td>\n",
       "      <td>ВИНО</td>\n",
       "      <td>1.00</td>\n",
       "    </tr>\n",
       "    <tr>\n",
       "      <th>2400098</th>\n",
       "      <td>Окей</td>\n",
       "      <td>НАБОРЫ КОНДИТЕРСКИЕ</td>\n",
       "      <td>1.00</td>\n",
       "    </tr>\n",
       "  </tbody>\n",
       "</table>\n",
       "<p>1626605 rows × 3 columns</p>\n",
       "</div>"
      ],
      "text/plain": [
       "        client_NT                        CATEGORY_NT  quantity_items\n",
       "0            Окей                    ФРУКТЫ ОСНОВНЫЕ            0.59\n",
       "1            Окей  ПРИПРАВЫ ДЛЯ ПЕРВЫХ И ВТОРЫХ БЛЮД            1.00\n",
       "2            Окей                    ФРУКТЫ ОСНОВНЫЕ            0.91\n",
       "3            Окей                    ФРУКТЫ ОСНОВНЫЕ            1.30\n",
       "5            Окей                       ОВОЩИ РАЗНЫЕ            0.41\n",
       "...           ...                                ...             ...\n",
       "2400094      Окей                   СР-ВА ДЛЯ СТИРКИ            1.00\n",
       "2400095      Окей                    ФРУКТЫ ОСНОВНЫЕ            1.00\n",
       "2400096      Окей         ВСЕ ДЛЯ ВЕСЕЛОГО ПРАЗДНИКА            1.00\n",
       "2400097      Окей                               ВИНО            1.00\n",
       "2400098      Окей                НАБОРЫ КОНДИТЕРСКИЕ            1.00\n",
       "\n",
       "[1626605 rows x 3 columns]"
      ]
     },
     "execution_count": 32,
     "metadata": {},
     "output_type": "execute_result"
    }
   ],
   "source": [
    "abc_all_CATEGORY = data[['client_NT', 'CATEGORY_NT', 'quantity_items']].dropna()\n",
    "abc_all_CATEGORY"
   ]
  },
  {
   "cell_type": "code",
   "execution_count": 33,
   "id": "41fcae16",
   "metadata": {},
   "outputs": [
    {
     "name": "stderr",
     "output_type": "stream",
     "text": [
      "C:\\Temp\\ipykernel_32464\\3440270023.py:5: FutureWarning:\n",
      "\n",
      "The default of observed=False is deprecated and will be changed to True in a future version of pandas. Pass observed=False to retain current behavior or observed=True to adopt the future default and silence this warning.\n",
      "\n",
      "C:\\Temp\\ipykernel_32464\\3440270023.py:5: FutureWarning:\n",
      "\n",
      "The default of observed=False is deprecated and will be changed to True in a future version of pandas. Pass observed=False to retain current behavior or observed=True to adopt the future default and silence this warning.\n",
      "\n",
      "C:\\Temp\\ipykernel_32464\\3440270023.py:5: FutureWarning:\n",
      "\n",
      "The default of observed=False is deprecated and will be changed to True in a future version of pandas. Pass observed=False to retain current behavior or observed=True to adopt the future default and silence this warning.\n",
      "\n"
     ]
    },
    {
     "data": {
      "application/vnd.microsoft.datawrangler.viewer.v0+json": {
       "columns": [
        {
         "name": "index",
         "rawType": "int64",
         "type": "integer"
        },
        {
         "name": "CATEGORY_NT",
         "rawType": "category",
         "type": "unknown"
        },
        {
         "name": "quantity_items",
         "rawType": "float32",
         "type": "float"
        },
        {
         "name": "abc_quantity_items_CAT",
         "rawType": "object",
         "type": "string"
        },
        {
         "name": "client_NT",
         "rawType": "object",
         "type": "string"
        }
       ],
       "conversionMethod": "pd.DataFrame",
       "ref": "e4350684-612c-44f2-968b-9cfef70fb8c8",
       "rows": [
        [
         "0",
         "ЗООКОРМ, ЛАКОМСТВА ДЛЯ КОШЕК",
         "51633.0",
         "A",
         "Окей"
        ],
        [
         "1",
         "ТВОРОЖНАЯ ГРУППА",
         "29286.0",
         "A",
         "Окей"
        ],
        [
         "2",
         "ВОДА",
         "29043.0",
         "A",
         "Окей"
        ],
        [
         "3",
         "МОЛОКО",
         "28928.0",
         "A",
         "Окей"
        ],
        [
         "4",
         "КОРНЕПЛОДЫ",
         "28415.69",
         "A",
         "Окей"
        ],
        [
         "5",
         "ОВОЩИ ОСНОВНЫЕ",
         "27076.648",
         "A",
         "Окей"
        ],
        [
         "6",
         "ФРУКТЫ ОСНОВНЫЕ",
         "21855.604",
         "A",
         "Окей"
        ],
        [
         "7",
         "МАКАРОННЫЕ ИЗДЕЛИЯ",
         "15329.208",
         "A",
         "Окей"
        ],
        [
         "8",
         "СЛАДКИЕ ГАЗИРОВАННЫЕ НАПИТКИ",
         "15318.0",
         "A",
         "Окей"
        ],
        [
         "9",
         "ПОЛУФАБРИКАТЫ ИЗ МЯСА КУРИЦЫ ОХЛАЖДЕННЫЕ",
         "14773.6",
         "A",
         "Окей"
        ],
        [
         "10",
         "МОРОЖЕНОЕ ПОРЦИОННОЕ",
         "13465.0",
         "A",
         "Окей"
        ],
        [
         "11",
         "ПИВО",
         "13204.187",
         "A",
         "Окей"
        ],
        [
         "12",
         "ПАКЕТЫ, СУМКИ ПРИКАССОВОЙ ЗОНЫ",
         "12578.0",
         "A",
         "Окей"
        ],
        [
         "13",
         "НАПИТКИ ДЛЯ ДЕТЕЙ",
         "11606.0",
         "A",
         "Окей"
        ],
        [
         "14",
         "ПОЛУФАБРИКАТЫ ИЗ СВИНИНЫ ОХЛАЖДЕННЫЕ",
         "11450.57",
         "A",
         "Окей"
        ],
        [
         "15",
         "ГИГИЕНА И УХОД КОЖИ ТЕЛА",
         "11153.0",
         "A",
         "Окей"
        ],
        [
         "16",
         "ЯЙЦА ПРОЧИЕ",
         "10832.0",
         "A",
         "Окей"
        ],
        [
         "17",
         "СОУС",
         "9944.164",
         "A",
         "Окей"
        ],
        [
         "18",
         "ТВЕРДЫЕ И ПОЛУТВЕРДЫЕ",
         "9818.765",
         "A",
         "Окей"
        ],
        [
         "19",
         "МЕДИЦИНСКИЕ ПРЕПАРАТЫ И ИЗДЕЛИЯ",
         "9725.228",
         "A",
         "Окей"
        ],
        [
         "20",
         "ПЕЧЕНЬЕ",
         "9114.404",
         "A",
         "Окей"
        ],
        [
         "21",
         "СМЕТАНА",
         "8796.0",
         "A",
         "Окей"
        ],
        [
         "22",
         "ЙОГУРТЫ",
         "8740.0",
         "A",
         "Окей"
        ],
        [
         "23",
         "ОВОЩНЫЕ КОНСЕРВЫ",
         "8559.87",
         "A",
         "Окей"
        ],
        [
         "24",
         "ТУАЛЕТНАЯ БУМАГА",
         "8434.0",
         "A",
         "Окей"
        ],
        [
         "25",
         "СР-ВА ДЛЯ УБОРКИ",
         "7503.0",
         "A",
         "Окей"
        ],
        [
         "26",
         "СОКОВАЯ ПРОДУКЦИЯ",
         "7270.0",
         "A",
         "Окей"
        ],
        [
         "27",
         "ШОКОЛАДНЫЕ ПЛИТКИ",
         "7079.0",
         "A",
         "Окей"
        ],
        [
         "28",
         "МАСЛОЖИРОВАЯ ГРУППА",
         "6719.0",
         "A",
         "Окей"
        ],
        [
         "29",
         "ПЮРЕ ДЛЯ ДЕТЕЙ",
         "6456.0",
         "A",
         "Окей"
        ],
        [
         "30",
         "ТВОРОГ ДЛЯ ДЕТЕЙ",
         "6291.0",
         "A",
         "Окей"
        ],
        [
         "31",
         "СОСИСКИ",
         "6262.479",
         "A",
         "Окей"
        ],
        [
         "32",
         "КИСЛОМОЛОЧНЫЕ ПРОДУКТЫ",
         "6088.0",
         "A",
         "Окей"
        ],
        [
         "33",
         "ЧАЙ",
         "6061.0",
         "A",
         "Окей"
        ],
        [
         "34",
         "ЧИПСЫ",
         "5980.0",
         "A",
         "Окей"
        ],
        [
         "35",
         "МАЙОНЕЗ",
         "5850.0",
         "A",
         "Окей"
        ],
        [
         "36",
         "ЕДА БЫСТРОГО ПРИГОТОВЛЕНИЯ",
         "5797.0",
         "A",
         "Окей"
        ],
        [
         "37",
         "ЗЕЛЕНЬ СВЕЖАЯ",
         "5696.418",
         "A",
         "Окей"
        ],
        [
         "38",
         "ПОЛУФАБРИКАТЫ ИЗ МЯСА ИНДЕЙКИ ОХЛАЖДЕННЫЕ",
         "5606.469",
         "A",
         "Окей"
        ],
        [
         "39",
         "ПЕЛЬМЕННАЯ ПРОДУКЦИЯ",
         "5599.698",
         "A",
         "Окей"
        ],
        [
         "40",
         "ВАРЕНЫЕ КОЛБАСЫ",
         "5451.697",
         "A",
         "Окей"
        ],
        [
         "41",
         "КРУПА",
         "5439.0",
         "A",
         "Окей"
        ],
        [
         "42",
         "МОНО ПРИПРАВЫ",
         "5355.5",
         "A",
         "Окей"
        ],
        [
         "43",
         "ПЛАВЛЕНЫЕ",
         "5312.132",
         "A",
         "Окей"
        ],
        [
         "44",
         "ВАТНАЯ И БУМАЖНАЯ ПРОДУКЦИЯ",
         "5032.678",
         "A",
         "Окей"
        ],
        [
         "45",
         "ПРИПРАВЫ ДЛЯ ВЫПЕЧКИ",
         "4910.0",
         "A",
         "Окей"
        ],
        [
         "46",
         "ШОКОЛАДНЫЕ БАТОНЧИКИ",
         "4846.0",
         "A",
         "Окей"
        ],
        [
         "47",
         "БУЛОЧКИ, ПИРОЖКИ, ВАТРУШКИ FRESH",
         "4824.62",
         "A",
         "Окей"
        ],
        [
         "48",
         "ТВОРОЖНЫЕ СЫРЫ",
         "4788.0",
         "A",
         "Окей"
        ],
        [
         "49",
         "МЯСО КУРИЦЫ ОХЛАЖДЕННОЕ",
         "4608.771",
         "A",
         "Окей"
        ]
       ],
       "shape": {
        "columns": 4,
        "rows": 1284
       }
      },
      "text/html": [
       "<div>\n",
       "<style scoped>\n",
       "    .dataframe tbody tr th:only-of-type {\n",
       "        vertical-align: middle;\n",
       "    }\n",
       "\n",
       "    .dataframe tbody tr th {\n",
       "        vertical-align: top;\n",
       "    }\n",
       "\n",
       "    .dataframe thead th {\n",
       "        text-align: right;\n",
       "    }\n",
       "</style>\n",
       "<table border=\"1\" class=\"dataframe\">\n",
       "  <thead>\n",
       "    <tr style=\"text-align: right;\">\n",
       "      <th></th>\n",
       "      <th>CATEGORY_NT</th>\n",
       "      <th>quantity_items</th>\n",
       "      <th>abc_quantity_items_CAT</th>\n",
       "      <th>client_NT</th>\n",
       "    </tr>\n",
       "  </thead>\n",
       "  <tbody>\n",
       "    <tr>\n",
       "      <th>0</th>\n",
       "      <td>ЗООКОРМ, ЛАКОМСТВА ДЛЯ КОШЕК</td>\n",
       "      <td>51633.00</td>\n",
       "      <td>A</td>\n",
       "      <td>Окей</td>\n",
       "    </tr>\n",
       "    <tr>\n",
       "      <th>1</th>\n",
       "      <td>ТВОРОЖНАЯ ГРУППА</td>\n",
       "      <td>29286.00</td>\n",
       "      <td>A</td>\n",
       "      <td>Окей</td>\n",
       "    </tr>\n",
       "    <tr>\n",
       "      <th>2</th>\n",
       "      <td>ВОДА</td>\n",
       "      <td>29043.00</td>\n",
       "      <td>A</td>\n",
       "      <td>Окей</td>\n",
       "    </tr>\n",
       "    <tr>\n",
       "      <th>3</th>\n",
       "      <td>МОЛОКО</td>\n",
       "      <td>28928.00</td>\n",
       "      <td>A</td>\n",
       "      <td>Окей</td>\n",
       "    </tr>\n",
       "    <tr>\n",
       "      <th>4</th>\n",
       "      <td>КОРНЕПЛОДЫ</td>\n",
       "      <td>28415.69</td>\n",
       "      <td>A</td>\n",
       "      <td>Окей</td>\n",
       "    </tr>\n",
       "    <tr>\n",
       "      <th>...</th>\n",
       "      <td>...</td>\n",
       "      <td>...</td>\n",
       "      <td>...</td>\n",
       "      <td>...</td>\n",
       "    </tr>\n",
       "    <tr>\n",
       "      <th>1279</th>\n",
       "      <td>ШАРФЫ, ПАЛАНТИНЫ, ПАРЕО</td>\n",
       "      <td>0.00</td>\n",
       "      <td>C</td>\n",
       "      <td>Metro c&amp;c</td>\n",
       "    </tr>\n",
       "    <tr>\n",
       "      <th>1280</th>\n",
       "      <td>САКЕ</td>\n",
       "      <td>0.00</td>\n",
       "      <td>C</td>\n",
       "      <td>Metro c&amp;c</td>\n",
       "    </tr>\n",
       "    <tr>\n",
       "      <th>1281</th>\n",
       "      <td>БАЛЬЗАМ</td>\n",
       "      <td>0.00</td>\n",
       "      <td>C</td>\n",
       "      <td>Metro c&amp;c</td>\n",
       "    </tr>\n",
       "    <tr>\n",
       "      <th>1282</th>\n",
       "      <td>НОСИТЕЛИ ИНФОРМАЦИИ С ЗАПИСЬЮ</td>\n",
       "      <td>0.00</td>\n",
       "      <td>C</td>\n",
       "      <td>Metro c&amp;c</td>\n",
       "    </tr>\n",
       "    <tr>\n",
       "      <th>1283</th>\n",
       "      <td>АКСЕССУАРЫ ДЛЯ ПРОГУЛКИ И ДРЕССИРОВКИ ЖИВОТНЫХ</td>\n",
       "      <td>0.00</td>\n",
       "      <td>C</td>\n",
       "      <td>Metro c&amp;c</td>\n",
       "    </tr>\n",
       "  </tbody>\n",
       "</table>\n",
       "<p>1284 rows × 4 columns</p>\n",
       "</div>"
      ],
      "text/plain": [
       "                                         CATEGORY_NT  quantity_items  \\\n",
       "0                       ЗООКОРМ, ЛАКОМСТВА ДЛЯ КОШЕК        51633.00   \n",
       "1                                   ТВОРОЖНАЯ ГРУППА        29286.00   \n",
       "2                                               ВОДА        29043.00   \n",
       "3                                             МОЛОКО        28928.00   \n",
       "4                                         КОРНЕПЛОДЫ        28415.69   \n",
       "...                                              ...             ...   \n",
       "1279                         ШАРФЫ, ПАЛАНТИНЫ, ПАРЕО            0.00   \n",
       "1280                                            САКЕ            0.00   \n",
       "1281                                         БАЛЬЗАМ            0.00   \n",
       "1282                   НОСИТЕЛИ ИНФОРМАЦИИ С ЗАПИСЬЮ            0.00   \n",
       "1283  АКСЕССУАРЫ ДЛЯ ПРОГУЛКИ И ДРЕССИРОВКИ ЖИВОТНЫХ            0.00   \n",
       "\n",
       "     abc_quantity_items_CAT  client_NT  \n",
       "0                         A       Окей  \n",
       "1                         A       Окей  \n",
       "2                         A       Окей  \n",
       "3                         A       Окей  \n",
       "4                         A       Окей  \n",
       "...                     ...        ...  \n",
       "1279                      C  Metro c&c  \n",
       "1280                      C  Metro c&c  \n",
       "1281                      C  Metro c&c  \n",
       "1282                      C  Metro c&c  \n",
       "1283                      C  Metro c&c  \n",
       "\n",
       "[1284 rows x 4 columns]"
      ]
     },
     "execution_count": 33,
     "metadata": {},
     "output_type": "execute_result"
    }
   ],
   "source": [
    "abc_CATEGORY = pd.DataFrame()\n",
    "for trade in trades:\n",
    "    tmp = pd.DataFrame()\n",
    "    tmp = perform_abc(abc_all_CATEGORY[abc_all_CATEGORY['client_NT'] == trade], ['client_NT', 'CATEGORY_NT']).reset_index()\n",
    "    tmp['client_NT'] = trade\n",
    "    abc_CATEGORY = pd.concat([abc_CATEGORY, tmp], ignore_index=True).dropna()\n",
    "abc_CATEGORY = abc_CATEGORY.rename(columns={'abc_quantity_items': 'abc_quantity_items_CAT'})\n",
    "abc_CATEGORY\n"
   ]
  },
  {
   "cell_type": "code",
   "execution_count": 34,
   "id": "00149bbd",
   "metadata": {},
   "outputs": [
    {
     "name": "stderr",
     "output_type": "stream",
     "text": [
      "C:\\Temp\\ipykernel_32464\\347484163.py:2: UserWarning:\n",
      "\n",
      "Parsing dates in %d.%m.%Y %H:%M:%S format when dayfirst=False (the default) was specified. Pass `dayfirst=True` or specify a format to silence this warning.\n",
      "\n"
     ]
    },
    {
     "data": {
      "application/vnd.microsoft.datawrangler.viewer.v0+json": {
       "columns": [
        {
         "name": "index",
         "rawType": "int64",
         "type": "integer"
        },
        {
         "name": "client_NT",
         "rawType": "category",
         "type": "unknown"
        },
        {
         "name": "CLEAN_SKU",
         "rawType": "object",
         "type": "unknown"
        },
        {
         "name": "dateTime",
         "rawType": "object",
         "type": "string"
        },
        {
         "name": "quantity_items",
         "rawType": "float32",
         "type": "float"
        }
       ],
       "conversionMethod": "pd.DataFrame",
       "ref": "5f2ad106-eaa5-46b6-9484-d9c8f07850e0",
       "rows": [
        [
         "0",
         "Окей",
         "Бананы кг",
         "25",
         "0.594"
        ],
        [
         "1",
         "Окей",
         "Зажарка Maggi 60г",
         "25",
         "1.0"
        ],
        [
         "2",
         "Окей",
         "Бананы кг",
         "17",
         "0.91"
        ],
        [
         "3",
         "Окей",
         "Яблоки кг",
         "17",
         "1.3"
        ],
        [
         "4",
         "Окей",
         "Апельсины кг",
         "22",
         "1.692"
        ],
        [
         "5",
         "Окей",
         "Кабачки кг",
         "24",
         "0.41"
        ],
        [
         "6",
         "Окей",
         "Лимоны кг",
         "24",
         "0.64"
        ],
        [
         "7",
         "Окей",
         "БЗМЖ Творог Кубанский молочник со сметаной 160г",
         "26",
         "1.0"
        ],
        [
         "8",
         "Окей",
         "БЗМЖ Творог Кубанский молочник с клуб-земл вареньем 160г",
         "26",
         "1.0"
        ],
        [
         "9",
         "Окей",
         "Булочка Даллас с творогом 100г",
         "26",
         "1.0"
        ],
        [
         "10",
         "Гиперглобус",
         "КОЛБ ДОКТОРСКАЯ СИН",
         "22",
         "0.328"
        ],
        [
         "11",
         "Гиперглобус",
         "ПАКЕТ-СУМКА ПСД ЛОГО",
         "22",
         "1.0"
        ],
        [
         "12",
         "Гиперглобус",
         "ПАКЕТ-МАЙКА ГЛОБУС",
         "22",
         "1.0"
        ],
        [
         "13",
         "Гиперглобус",
         "САЛФ РЛ В КОР 120ШТ",
         "22",
         "1.0"
        ],
        [
         "14",
         "Гиперглобус",
         "ВОДА СЕНЕЖСК Б/Г 3Л",
         "22",
         "2.0"
        ],
        [
         "15",
         "Гиперглобус",
         "НАПИТОК САЯНЫ 2Л",
         "22",
         "1.0"
        ],
        [
         "16",
         "Гиперглобус",
         "ПЯТНОВЫВ.100 ПЯТЕН",
         "22",
         "1.0"
        ],
        [
         "17",
         "Гиперглобус",
         "СЫР ЛАМБЕР ГАУДА180Г",
         "22",
         "1.0"
        ],
        [
         "18",
         "Гиперглобус",
         "ПРЯН СГУЩ 140Г",
         "22",
         "1.0"
        ],
        [
         "19",
         "Гиперглобус",
         "ПЕЧЕНЬЕ ОРЕО 228Г",
         "22",
         "1.0"
        ],
        [
         "20",
         "Гиперглобус",
         "СМЕТ ПРОСТОКВ20%300Г",
         "22",
         "1.0"
        ],
        [
         "21",
         "Гиперглобус",
         "СОСИСКИ ДОКТ. 440Г",
         "22",
         "1.0"
        ],
        [
         "22",
         "Гиперглобус",
         "КОЛБ ЗЕРНИСТАЯ С/К",
         "22",
         "0.06"
        ],
        [
         "23",
         "Гиперглобус",
         "БАТОН НАРЕЗ НАР 400Г",
         "22",
         "1.0"
        ],
        [
         "24",
         "Гиперглобус",
         "СЛАД КУКУР КУЗЯ140Г",
         "22",
         "1.0"
        ],
        [
         "25",
         "Гиперглобус",
         "СТАКАН 200МЛ 100ШТ",
         "22",
         "1.0"
        ],
        [
         "26",
         "Гиперглобус",
         "ЧАШКА КОФЕЙНАЯ",
         "22",
         "1.0"
        ],
        [
         "27",
         "Гиперглобус",
         "Н-Р ВИЛОК 6 ШТ",
         "22",
         "2.0"
        ],
        [
         "28",
         "Гиперглобус",
         "ВИЛКА СТОЛ ВАШ ВЫБОР",
         "22",
         "2.0"
        ],
        [
         "29",
         "Гиперглобус",
         "Н-Р ЛОЖЕК 6 ШТ",
         "22",
         "1.0"
        ],
        [
         "30",
         "Гиперглобус",
         "ТАРЕЛКА СУП БЕЛ10ШТ",
         "22",
         "2.0"
        ],
        [
         "31",
         "Гиперглобус",
         "КОЛБ.ДОКТОРСК.190Г",
         "25",
         "1.0"
        ],
        [
         "32",
         "Гиперглобус",
         "ПАКЕТ КАССА ГЛ САМ",
         "25",
         "1.0"
        ],
        [
         "33",
         "Гиперглобус",
         "КОРНИШОНЫ ВЫБОРЖ300",
         "25",
         "2.0"
        ],
        [
         "34",
         "Гиперглобус",
         "ВЕТЧИНА Д/ТОСТ.120Г",
         "25",
         "1.0"
        ],
        [
         "35",
         "Гиперглобус",
         "РИС КАРАЧИХА 900Г",
         "25",
         "1.0"
        ],
        [
         "36",
         "Гиперглобус",
         "АБРИКОСЫ ШАЛАХ ВЕС",
         "25",
         "0.488"
        ],
        [
         "37",
         "Гиперглобус",
         "ХЛЕБ КЛЮКВ. 300Г",
         "25",
         "1.0"
        ],
        [
         "38",
         "Гиперглобус",
         "ЛИМОНАД КРЫМ 2Л",
         "25",
         "1.0"
        ],
        [
         "39",
         "Гиперглобус",
         "НАП ИЗ ЧЕРН КРЮШ 2Л",
         "25",
         "1.0"
        ],
        [
         "40",
         "Гиперглобус",
         "НАП БУРАТИНО ПЭТ 0,5",
         "25",
         "1.0"
        ],
        [
         "41",
         "Гиперглобус",
         "СТАКАН 200МЛ 100ШТ",
         "25",
         "1.0"
        ],
        [
         "42",
         "Гиперглобус",
         "НАП ЛИМОНАД 0,5Л ПЭТ",
         "25",
         "1.0"
        ],
        [
         "43",
         "Окей",
         "БЗМЖ Йогурт питьевой Вкуснотеево клубника 1,5% 750г",
         "23",
         "1.0"
        ],
        [
         "44",
         "Окей",
         "Квас ОКЕЙ Традиционный б/алк газ 2л пэт",
         "23",
         "1.0"
        ],
        [
         "45",
         "Окей",
         "БЗМЖ Тан ОКЕЙ 0,1% 0,5л пэт",
         "23",
         "1.0"
        ],
        [
         "46",
         "Окей",
         "Тыква Баттернат кг",
         "23",
         "0.656"
        ],
        [
         "47",
         "Окей",
         "Яблоки Ред Делишес кг",
         "23",
         "1.31"
        ],
        [
         "48",
         "Окей",
         "Варенье ОКЕЙ стерилизованное малиновое 320г",
         "23",
         "1.0"
        ],
        [
         "49",
         "Окей",
         "Колбаса вареная Идель Мусульманская 400г",
         "23",
         "1.0"
        ]
       ],
       "shape": {
        "columns": 4,
        "rows": 2400099
       }
      },
      "text/html": [
       "<div>\n",
       "<style scoped>\n",
       "    .dataframe tbody tr th:only-of-type {\n",
       "        vertical-align: middle;\n",
       "    }\n",
       "\n",
       "    .dataframe tbody tr th {\n",
       "        vertical-align: top;\n",
       "    }\n",
       "\n",
       "    .dataframe thead th {\n",
       "        text-align: right;\n",
       "    }\n",
       "</style>\n",
       "<table border=\"1\" class=\"dataframe\">\n",
       "  <thead>\n",
       "    <tr style=\"text-align: right;\">\n",
       "      <th></th>\n",
       "      <th>client_NT</th>\n",
       "      <th>CLEAN_SKU</th>\n",
       "      <th>dateTime</th>\n",
       "      <th>quantity_items</th>\n",
       "    </tr>\n",
       "  </thead>\n",
       "  <tbody>\n",
       "    <tr>\n",
       "      <th>0</th>\n",
       "      <td>Окей</td>\n",
       "      <td>Бананы кг</td>\n",
       "      <td>25</td>\n",
       "      <td>0.59</td>\n",
       "    </tr>\n",
       "    <tr>\n",
       "      <th>1</th>\n",
       "      <td>Окей</td>\n",
       "      <td>Зажарка Maggi 60г</td>\n",
       "      <td>25</td>\n",
       "      <td>1.00</td>\n",
       "    </tr>\n",
       "    <tr>\n",
       "      <th>2</th>\n",
       "      <td>Окей</td>\n",
       "      <td>Бананы кг</td>\n",
       "      <td>17</td>\n",
       "      <td>0.91</td>\n",
       "    </tr>\n",
       "    <tr>\n",
       "      <th>3</th>\n",
       "      <td>Окей</td>\n",
       "      <td>Яблоки кг</td>\n",
       "      <td>17</td>\n",
       "      <td>1.30</td>\n",
       "    </tr>\n",
       "    <tr>\n",
       "      <th>4</th>\n",
       "      <td>Окей</td>\n",
       "      <td>Апельсины кг</td>\n",
       "      <td>22</td>\n",
       "      <td>1.69</td>\n",
       "    </tr>\n",
       "    <tr>\n",
       "      <th>...</th>\n",
       "      <td>...</td>\n",
       "      <td>...</td>\n",
       "      <td>...</td>\n",
       "      <td>...</td>\n",
       "    </tr>\n",
       "    <tr>\n",
       "      <th>2400094</th>\n",
       "      <td>Окей</td>\n",
       "      <td>Кондиционер конц д/белья Vernel supreme elegan...</td>\n",
       "      <td>20</td>\n",
       "      <td>1.00</td>\n",
       "    </tr>\n",
       "    <tr>\n",
       "      <th>2400095</th>\n",
       "      <td>Окей</td>\n",
       "      <td>Абрикосы 500г упак</td>\n",
       "      <td>20</td>\n",
       "      <td>1.00</td>\n",
       "    </tr>\n",
       "    <tr>\n",
       "      <th>2400096</th>\n",
       "      <td>Окей</td>\n",
       "      <td>Пакет подарочный Арт и Дизайн ST премиум 12х36см</td>\n",
       "      <td>21</td>\n",
       "      <td>1.00</td>\n",
       "    </tr>\n",
       "    <tr>\n",
       "      <th>2400097</th>\n",
       "      <td>Окей</td>\n",
       "      <td>Вино Вадиаперти Греко Ди Туфо бел. сух. 4,5-16...</td>\n",
       "      <td>21</td>\n",
       "      <td>1.00</td>\n",
       "    </tr>\n",
       "    <tr>\n",
       "      <th>2400098</th>\n",
       "      <td>Окей</td>\n",
       "      <td>Набор конфет Merci ассорти 400г</td>\n",
       "      <td>21</td>\n",
       "      <td>1.00</td>\n",
       "    </tr>\n",
       "  </tbody>\n",
       "</table>\n",
       "<p>2400099 rows × 4 columns</p>\n",
       "</div>"
      ],
      "text/plain": [
       "        client_NT                                          CLEAN_SKU dateTime  \\\n",
       "0            Окей                                          Бананы кг       25   \n",
       "1            Окей                                  Зажарка Maggi 60г       25   \n",
       "2            Окей                                          Бананы кг       17   \n",
       "3            Окей                                          Яблоки кг       17   \n",
       "4            Окей                                       Апельсины кг       22   \n",
       "...           ...                                                ...      ...   \n",
       "2400094      Окей  Кондиционер конц д/белья Vernel supreme elegan...       20   \n",
       "2400095      Окей                                 Абрикосы 500г упак       20   \n",
       "2400096      Окей   Пакет подарочный Арт и Дизайн ST премиум 12х36см       21   \n",
       "2400097      Окей  Вино Вадиаперти Греко Ди Туфо бел. сух. 4,5-16...       21   \n",
       "2400098      Окей                    Набор конфет Merci ассорти 400г       21   \n",
       "\n",
       "         quantity_items  \n",
       "0                  0.59  \n",
       "1                  1.00  \n",
       "2                  0.91  \n",
       "3                  1.30  \n",
       "4                  1.69  \n",
       "...                 ...  \n",
       "2400094            1.00  \n",
       "2400095            1.00  \n",
       "2400096            1.00  \n",
       "2400097            1.00  \n",
       "2400098            1.00  \n",
       "\n",
       "[2400099 rows x 4 columns]"
      ]
     },
     "execution_count": 34,
     "metadata": {},
     "output_type": "execute_result"
    }
   ],
   "source": [
    "xyz_data = data[['client_NT', 'CLEAN_SKU', 'dateTime', 'quantity_items']]\n",
    "xyz_data['dateTime'] = pd.to_datetime(xyz_data['dateTime']).dt.strftime('%W') # По неделям\n",
    "xyz_data"
   ]
  },
  {
   "cell_type": "code",
   "execution_count": 35,
   "id": "b3772b77",
   "metadata": {},
   "outputs": [],
   "source": [
    "def perform_xyz(df, date_col, index_cols, value_col):\n",
    "    # Группировка и агрегация (сумма quantity_items по неделям)\n",
    "    grouped = df.groupby(index_cols + [date_col])[value_col].sum().reset_index()\n",
    "    # Фильтрация SKU с достаточным количеством недель (>1)\n",
    "    sku_week_counts = grouped.groupby(index_cols)[date_col].count().reset_index()\n",
    "    valid_skus = sku_week_counts[sku_week_counts[date_col] > 1][index_cols]\n",
    "    filtered = pd.merge(grouped, valid_skus, on=index_cols)\n",
    "    \n",
    "    # Расчет коэффициента вариации\n",
    "    cv_result = (filtered.groupby(index_cols)[value_col]\n",
    "                 .apply(lambda x: x.std()/x.mean())\n",
    "                 .reset_index(name='cv'))\n",
    "    \n",
    "    # 6. Классификация XYZ\n",
    "    cv_result['XYZ'] = np.where(cv_result['cv'] < 0.1, 'X', np.where(cv_result['cv'] < 0.25, 'Y', 'Z'))\n",
    "    \n",
    "    return cv_result"
   ]
  },
  {
   "cell_type": "code",
   "execution_count": 36,
   "id": "e50cb5bd",
   "metadata": {},
   "outputs": [
    {
     "data": {
      "application/vnd.microsoft.datawrangler.viewer.v0+json": {
       "columns": [
        {
         "name": "index",
         "rawType": "int64",
         "type": "integer"
        },
        {
         "name": "CLEAN_SKU",
         "rawType": "object",
         "type": "string"
        },
        {
         "name": "cv",
         "rawType": "float32",
         "type": "float"
        },
        {
         "name": "XYZ",
         "rawType": "object",
         "type": "string"
        },
        {
         "name": "client_NT",
         "rawType": "object",
         "type": "string"
        }
       ],
       "conversionMethod": "pd.DataFrame",
       "ref": "6ab6ca8c-469c-4829-b672-7e36c143fc0c",
       "rows": [
        [
         "0",
         "\"Ассорти \"\"Черри и корнишоны\"\" 500г\"",
         "0.0",
         "X",
         "Окей"
        ],
        [
         "1",
         "\"Ассорти овощное \"\"Пятерка\"\" 1000г\"",
         "0.47140452",
         "Z",
         "Окей"
        ],
        [
         "2",
         "\"БЗМЖ сыр \"\"Моне\"\" с массовой долей жира 45% (полутвердый), кг\"",
         "0.34012738",
         "Z",
         "Окей"
        ],
        [
         "3",
         "\"Бальзам Травяной 250 мл \"\"Живая природа\"\" (Окей)\"",
         "0.2857143",
         "Z",
         "Окей"
        ],
        [
         "4",
         "\"Батончик мюсли \"\"О'кей\"\" вишня с цельными злаками 30г\"",
         "0.77138925",
         "Z",
         "Окей"
        ],
        [
         "5",
         "\"Батончик мюсли \"\"О'кей\"\" лесная ягода с цельными злаками 30г\"",
         "0.6823551",
         "Z",
         "Окей"
        ],
        [
         "6",
         "\"Батончик мюсли \"\"О'кей\"\" шоколад/апельсин с цельными злаками 30г\"",
         "0.6032294",
         "Z",
         "Окей"
        ],
        [
         "7",
         "\"Батончик фруктовый \"\"О'Кей\"\" \"\"Абрикос и яблоко\"\" 30г\"",
         "0.0",
         "X",
         "Окей"
        ],
        [
         "8",
         "\"Батончик фруктовый \"\"О'Кей\"\" \"\"Облепиха\"\" 30г\"",
         "0.4330127",
         "Z",
         "Окей"
        ],
        [
         "9",
         "\"Батончик фруктовый \"\"О'Кей\"\" \"\"Черника\"\" 30г\"",
         "0.70710677",
         "Z",
         "Окей"
        ],
        [
         "10",
         "\"Вино Вайнери ЯРД \"\"Villa Krim\"\" ОРДИНАРНОЕ ЗГУ белое п/сухое 11,5-12,5% 0,75л. (Россия, Крым) / ВИНО РОССИИ\"",
         "0.52854997",
         "Z",
         "Окей"
        ],
        [
         "11",
         "\"Вино Каберне Villa Krim ОРДИНАРНОЕ ЗГУ \"\"Крым\"\" сухое 11-13% 0,75л (Россия, Крым) / ВИНО РОССИИ\"",
         "0.57735026",
         "Z",
         "Окей"
        ],
        [
         "12",
         "\"Вино Российское \"\"Кубань. Таманский полуостров\"\" \"\"Шато Тамань. Шардоне\"\" геогр. указ. бел. сух. 12% 0,187л (Россия) / ВИНО РОССИ\"",
         "0.70710677",
         "Z",
         "Окей"
        ],
        [
         "13",
         "\"Вино Российское Траминер Блан \"\" Villa Krim\"\" геогр. указ. ОРДИНАРНОЕ белое полусладкое 11-12% 0,75л (Россия, Крым) / ВИНО РОССИИ\"",
         "0.9089448",
         "Z",
         "Окей"
        ],
        [
         "14",
         "\"Вино Российское Траминер Блан \"\" Villa Krim\"\" геогр. указ.\"",
         "0.70710677",
         "Z",
         "Окей"
        ],
        [
         "15",
         "\"Вино Российское ликерн. Массандра Крым \"\"Портвейн белый Алушта\"\" геогр. указ. Орд. бел. 17% 0,75л (Россия, Крым) / ВИНО РОССИИ\"",
         "0.47140452",
         "Z",
         "Окей"
        ],
        [
         "16",
         "\"Вино Саперави серия \"\"Вина Тавадзе\"\" ОРДИНАРНОЕ СОРТОВОЕ красное сухое 11,5-12,5% 0,75л (Грузия)\"",
         "0.0",
         "X",
         "Окей"
        ],
        [
         "17",
         "\"Вино Совиньон \"\"Villa Krim\"\" ОРДИНАРНОЕ геогр. указ. белое сухое 12-14,5% 0,75л (Россия, Крым) / ВИНО РОССИИ\"",
         "0.46647614",
         "Z",
         "Окей"
        ],
        [
         "18",
         "\"Вино игристое \"\"Ганча Брют\"\" белое 11% 0,75л (Италия)\"",
         "0.0",
         "X",
         "Окей"
        ],
        [
         "19",
         "\"Вино игристое \"\"Наследие мастера \"\"Левъ Голицынъ\"\" роз. п/слад. 11-12% 0,75л\"",
         "0.8700788",
         "Z",
         "Окей"
        ],
        [
         "20",
         "\"Вино сухое белое \"\"Белое\"\" 0,75 л, 11% (ТЧН!)/ВИНО РОСИИИ\"",
         "0.0",
         "X",
         "Окей"
        ],
        [
         "21",
         "\"Вино сухое белое \"\"Шардоне\"\" \"\"Крымский баррель\"\", 0,75 л. 12% (Окей) / ВИНО РОССИИ\"",
         "0.0",
         "X",
         "Окей"
        ],
        [
         "22",
         "\"Вино сухое красное \"\"Красное\"\" 0,75 л, 11% (ТЧН!)/ВИНО РОСИИИ\"",
         "0.70710677",
         "Z",
         "Окей"
        ],
        [
         "23",
         "\"Горшок керамический \"\"Ироко\"\" ко\"",
         "0.0",
         "X",
         "Окей"
        ],
        [
         "24",
         "\"Грунт \"\"Народный Универсальный\"\" 5л\"",
         "0.88191706",
         "Z",
         "Окей"
        ],
        [
         "25",
         "\"Грунт \"\"Народный\"\" Цветочный 5л\"",
         "0.5362866",
         "Z",
         "Окей"
        ],
        [
         "26",
         "\"Десерт \"\"Экопродукт\"\" Вишня 330г\"",
         "1.2165525",
         "Z",
         "Окей"
        ],
        [
         "27",
         "\"Жидкость для розжига \"\"Эко-стандарт\"\" 0.22л/50\"",
         "0.37157378",
         "Z",
         "Окей"
        ],
        [
         "28",
         "\"Журнал \"\"Гигант-сканворд (Русский размер спец.)\"\"\"",
         "0.0",
         "X",
         "Окей"
        ],
        [
         "29",
         "\"Журнал \"\"Моя прекрасная дача\"\"\"",
         "0.4330127",
         "Z",
         "Окей"
        ],
        [
         "30",
         "\"Журнал \"\"Непоседа\"\"\"",
         "0.0",
         "X",
         "Окей"
        ],
        [
         "31",
         "\"Игристое вино Кава \"\"Маcия де ла Луц\"\" СОРТОВОЕ розовое сухое 8,5-13,5% 0,75л (Испания)\"",
         "0.38490018",
         "Z",
         "Окей"
        ],
        [
         "32",
         "\"Игристое вино Кава \"\"Маcия де ла Луц\"\" белое брют 10-13,5% 0,75л (Испания)\"",
         "0.0",
         "X",
         "Окей"
        ],
        [
         "33",
         "\"Капуста квашеная \"\"Фитнес\"\" 500г\"",
         "0.63821304",
         "Z",
         "Окей"
        ],
        [
         "34",
         "\"Картофель\"\"Пушкин\"\".100гр.\"",
         "0.35461196",
         "Z",
         "Окей"
        ],
        [
         "35",
         "\"Кетчуп томатный \"\"Мутти\"\" 340г ст/б\"",
         "0.0",
         "X",
         "Окей"
        ],
        [
         "36",
         "\"Клей ПВА \"\"КОНТАКТ\"\", 250 г, арт. КК 72 - 250 ПВ\"",
         "0.39123043",
         "Z",
         "Окей"
        ],
        [
         "37",
         "\"Котлета куриная \"\"ЗОЛОТОЙ ПЕТУШОК\"\". 100гр.\"",
         "0.40127313",
         "Z",
         "Окей"
        ],
        [
         "38",
         "\"Крем детский зимний для рук \"\"Рукавички\"\" серии \"\"Морозко\"",
         "0.8485281",
         "Z",
         "Окей"
        ],
        [
         "39",
         "\"Кружка для пива \"\"Pub\"\" 500сс SL\"",
         "0.0",
         "X",
         "Окей"
        ],
        [
         "40",
         "\"Лотерея \"\"Русское Лото\"\" - Билет №\"",
         "0.0",
         "X",
         "Окей"
        ],
        [
         "41",
         "\"Мини-набор для лепки Genio Kids \"\"Тесто-пластилин 6 цветов\"\"\"",
         "0.0",
         "X",
         "Окей"
        ],
        [
         "42",
         "\"Набор для детского творчества Genio Kids \"\"Тесто-пластилин 4 цвета\"\"\"",
         "0.4330127",
         "Z",
         "Окей"
        ],
        [
         "43",
         "\"Набор для игры \"\"Поймай мяч\"\" FIREMARK POS-008\"",
         "0.34641016",
         "Z",
         "Окей"
        ],
        [
         "44",
         "\"Напиток виноградосодержащий \"\"Вермут Санта Моника белый/Vermouth Santa Monica bianco\"\" 1л. (Окей) (Н/В)\"",
         "0.2828427",
         "Z",
         "Окей"
        ],
        [
         "45",
         "\"Напиток слабоалкогольный газированный \"\"ТЕН СТРАЙК ДАРК (TEN STRIKE DARK)\"\" 7,2%б 0,45л\"",
         "0.0",
         "X",
         "Окей"
        ],
        [
         "46",
         "\"Напиток слабоалкогольный газированный \"\"ТЕН СТРАЙК СКАЙ (TEN STRIKE SKY)\"\" 7,2%, 0,45л\"",
         "0.36885554",
         "Z",
         "Окей"
        ],
        [
         "47",
         "\"Насос ручной Bestway Air Hammer 14\"\"/36см\"",
         "0.0",
         "X",
         "Окей"
        ],
        [
         "48",
         "\"Носки \"\"Palama\"\" 20 ден. 2 пары\"",
         "0.4330127",
         "Z",
         "Окей"
        ],
        [
         "49",
         "\"Пивной напиток Schofferhofer Grapefruit (\"\"Шофферхофер Грейпфрут\"\") 2,5% , 0,33л с/б МПК\"",
         "0.39123043",
         "Z",
         "Окей"
        ]
       ],
       "shape": {
        "columns": 4,
        "rows": 52677
       }
      },
      "text/html": [
       "<div>\n",
       "<style scoped>\n",
       "    .dataframe tbody tr th:only-of-type {\n",
       "        vertical-align: middle;\n",
       "    }\n",
       "\n",
       "    .dataframe tbody tr th {\n",
       "        vertical-align: top;\n",
       "    }\n",
       "\n",
       "    .dataframe thead th {\n",
       "        text-align: right;\n",
       "    }\n",
       "</style>\n",
       "<table border=\"1\" class=\"dataframe\">\n",
       "  <thead>\n",
       "    <tr style=\"text-align: right;\">\n",
       "      <th></th>\n",
       "      <th>CLEAN_SKU</th>\n",
       "      <th>cv</th>\n",
       "      <th>XYZ</th>\n",
       "      <th>client_NT</th>\n",
       "    </tr>\n",
       "  </thead>\n",
       "  <tbody>\n",
       "    <tr>\n",
       "      <th>0</th>\n",
       "      <td>\"Ассорти \"\"Черри и корнишоны\"\" 500г\"</td>\n",
       "      <td>0.00</td>\n",
       "      <td>X</td>\n",
       "      <td>Окей</td>\n",
       "    </tr>\n",
       "    <tr>\n",
       "      <th>1</th>\n",
       "      <td>\"Ассорти овощное \"\"Пятерка\"\" 1000г\"</td>\n",
       "      <td>0.47</td>\n",
       "      <td>Z</td>\n",
       "      <td>Окей</td>\n",
       "    </tr>\n",
       "    <tr>\n",
       "      <th>2</th>\n",
       "      <td>\"БЗМЖ сыр \"\"Моне\"\" с массовой долей жира 45% (...</td>\n",
       "      <td>0.34</td>\n",
       "      <td>Z</td>\n",
       "      <td>Окей</td>\n",
       "    </tr>\n",
       "    <tr>\n",
       "      <th>3</th>\n",
       "      <td>\"Бальзам Травяной 250 мл \"\"Живая природа\"\" (Ок...</td>\n",
       "      <td>0.29</td>\n",
       "      <td>Z</td>\n",
       "      <td>Окей</td>\n",
       "    </tr>\n",
       "    <tr>\n",
       "      <th>4</th>\n",
       "      <td>\"Батончик мюсли \"\"О'кей\"\" вишня с цельными зла...</td>\n",
       "      <td>0.77</td>\n",
       "      <td>Z</td>\n",
       "      <td>Окей</td>\n",
       "    </tr>\n",
       "    <tr>\n",
       "      <th>...</th>\n",
       "      <td>...</td>\n",
       "      <td>...</td>\n",
       "      <td>...</td>\n",
       "      <td>...</td>\n",
       "    </tr>\n",
       "    <tr>\n",
       "      <th>52672</th>\n",
       "      <td>ТОМАТЫ ВЕС (КГ)</td>\n",
       "      <td>0.81</td>\n",
       "      <td>Z</td>\n",
       "      <td>Metro c&amp;c</td>\n",
       "    </tr>\n",
       "    <tr>\n",
       "      <th>52673</th>\n",
       "      <td>ТУШКА ЦБ СТМ MC ПАКЕТ ОХЛ (КГ)</td>\n",
       "      <td>0.01</td>\n",
       "      <td>X</td>\n",
       "      <td>Metro c&amp;c</td>\n",
       "    </tr>\n",
       "    <tr>\n",
       "      <th>52674</th>\n",
       "      <td>ФИЛЕ КУРИНОЕ METRO CHEF МИНИКОРОБ ОХЛ (КГ)</td>\n",
       "      <td>0.05</td>\n",
       "      <td>X</td>\n",
       "      <td>Metro c&amp;c</td>\n",
       "    </tr>\n",
       "    <tr>\n",
       "      <th>52675</th>\n",
       "      <td>ЯБЛОКИ ГРЕННИ СМИТ ВЕС (КГ)</td>\n",
       "      <td>0.52</td>\n",
       "      <td>Z</td>\n",
       "      <td>Metro c&amp;c</td>\n",
       "    </tr>\n",
       "    <tr>\n",
       "      <th>52676</th>\n",
       "      <td>ЯЙЦО КУР METRO CHEF 30 ШТ С1 (ШТ)</td>\n",
       "      <td>0.00</td>\n",
       "      <td>X</td>\n",
       "      <td>Metro c&amp;c</td>\n",
       "    </tr>\n",
       "  </tbody>\n",
       "</table>\n",
       "<p>52677 rows × 4 columns</p>\n",
       "</div>"
      ],
      "text/plain": [
       "                                               CLEAN_SKU   cv XYZ  client_NT\n",
       "0                   \"Ассорти \"\"Черри и корнишоны\"\" 500г\" 0.00   X       Окей\n",
       "1                    \"Ассорти овощное \"\"Пятерка\"\" 1000г\" 0.47   Z       Окей\n",
       "2      \"БЗМЖ сыр \"\"Моне\"\" с массовой долей жира 45% (... 0.34   Z       Окей\n",
       "3      \"Бальзам Травяной 250 мл \"\"Живая природа\"\" (Ок... 0.29   Z       Окей\n",
       "4      \"Батончик мюсли \"\"О'кей\"\" вишня с цельными зла... 0.77   Z       Окей\n",
       "...                                                  ...  ...  ..        ...\n",
       "52672                                    ТОМАТЫ ВЕС (КГ) 0.81   Z  Metro c&c\n",
       "52673                     ТУШКА ЦБ СТМ MC ПАКЕТ ОХЛ (КГ) 0.01   X  Metro c&c\n",
       "52674         ФИЛЕ КУРИНОЕ METRO CHEF МИНИКОРОБ ОХЛ (КГ) 0.05   X  Metro c&c\n",
       "52675                        ЯБЛОКИ ГРЕННИ СМИТ ВЕС (КГ) 0.52   Z  Metro c&c\n",
       "52676                  ЯЙЦО КУР METRO CHEF 30 ШТ С1 (ШТ) 0.00   X  Metro c&c\n",
       "\n",
       "[52677 rows x 4 columns]"
      ]
     },
     "execution_count": 36,
     "metadata": {},
     "output_type": "execute_result"
    }
   ],
   "source": [
    "xyz_SKU = pd.DataFrame()\n",
    "for trade in trades:\n",
    "    tmp = pd.DataFrame()\n",
    "    tmp = perform_xyz(xyz_data[xyz_data['client_NT'] == trade], date_col='dateTime', index_cols=['CLEAN_SKU'], value_col='quantity_items')\n",
    "    tmp['client_NT'] = trade\n",
    "    xyz_SKU = pd.concat([xyz_SKU, tmp], ignore_index=True).dropna()\n",
    "xyz_SKU"
   ]
  },
  {
   "cell_type": "markdown",
   "id": "2d8ec19e",
   "metadata": {},
   "source": [
    "Теперь соединим результаты abc_SKU, abc_CATEGORY, xyz_SKU в один датафрейм и выгрузим в pickle-файл"
   ]
  },
  {
   "cell_type": "code",
   "execution_count": 37,
   "id": "413e4a25",
   "metadata": {},
   "outputs": [
    {
     "data": {
      "application/vnd.microsoft.datawrangler.viewer.v0+json": {
       "columns": [
        {
         "name": "index",
         "rawType": "int64",
         "type": "integer"
        },
        {
         "name": "client_NT",
         "rawType": "object",
         "type": "string"
        },
        {
         "name": "text_kktAddress",
         "rawType": "category",
         "type": "unknown"
        },
        {
         "name": "customer_id",
         "rawType": "object",
         "type": "unknown"
        },
        {
         "name": "dateTime",
         "rawType": "object",
         "type": "string"
        },
        {
         "name": "receipt_id",
         "rawType": "object",
         "type": "string"
        },
        {
         "name": "CLEAN_SKU",
         "rawType": "object",
         "type": "unknown"
        },
        {
         "name": "price_items_x",
         "rawType": "float32",
         "type": "float"
        },
        {
         "name": "abc_price_items",
         "rawType": "object",
         "type": "unknown"
        },
        {
         "name": "abc_quantity_items",
         "rawType": "object",
         "type": "unknown"
        },
        {
         "name": "abc_quantity_items_CAT",
         "rawType": "object",
         "type": "unknown"
        },
        {
         "name": "XYZ",
         "rawType": "object",
         "type": "unknown"
        },
        {
         "name": "quantity_items",
         "rawType": "float32",
         "type": "float"
        },
        {
         "name": "sum_items",
         "rawType": "float32",
         "type": "float"
        },
        {
         "name": "totalSum",
         "rawType": "float32",
         "type": "float"
        },
        {
         "name": "RIGHTHOLDER_NT",
         "rawType": "object",
         "type": "unknown"
        },
        {
         "name": "BRAND_NT",
         "rawType": "category",
         "type": "unknown"
        },
        {
         "name": "CLASS_NT",
         "rawType": "category",
         "type": "unknown"
        },
        {
         "name": "GROUP_NT",
         "rawType": "category",
         "type": "unknown"
        },
        {
         "name": "CATEGORY_NT",
         "rawType": "category",
         "type": "unknown"
        },
        {
         "name": "SUBCATEGORY_NT",
         "rawType": "category",
         "type": "unknown"
        },
        {
         "name": "BASE_NT",
         "rawType": "category",
         "type": "unknown"
        },
        {
         "name": "lat",
         "rawType": "float32",
         "type": "float"
        },
        {
         "name": "lon",
         "rawType": "float32",
         "type": "float"
        }
       ],
       "conversionMethod": "pd.DataFrame",
       "ref": "29c0c5b2-c7c8-42d5-b07d-0795b40c20b3",
       "rows": [
        [
         "0",
         "Окей",
         "г Москва, ул Озёрная, д 50",
         null,
         "26.06.2022 13:51:00",
         "9960440300975081:17128",
         "Бананы кг",
         "70.38",
         "A",
         "A",
         "A",
         "Z",
         "21855.604",
         "41.81",
         "2135.82",
         null,
         null,
         "ФРОВ",
         "СВЕЖИЕ ФРУКТЫ",
         "ФРУКТЫ ОСНОВНЫЕ",
         "БАНАНЫ",
         "БАНАН",
         "55.66472",
         "37.437218"
        ],
        [
         "1",
         "Окей",
         "г Москва, ул Озёрная, д 50",
         null,
         "26.06.2022 13:46:00",
         "9960440300975081:17126",
         "Зажарка Maggi 60г",
         "33.42",
         "B",
         "A",
         "A",
         "Z",
         "4063.571",
         "33.42",
         "3920.33",
         "NESTLE",
         "MAGGI",
         "БАКЛ",
         "БАКАЛЕЯ СЫПУЧАЯ",
         "ПРИПРАВЫ ДЛЯ ПЕРВЫХ И ВТОРЫХ БЛЮД",
         "ПРИПРАВА ДЛЯ ЖАРКОЕ",
         "ПРИПРАВА ДЛЯ ЖАРКОЕ",
         "55.66472",
         "37.437218"
        ],
        [
         "2",
         "Окей",
         "г Москва, ул Озёрная, д 50",
         null,
         "01.05.2022 13:26:00",
         "9960440300975081:11611",
         "Бананы кг",
         "96.24",
         "A",
         "A",
         "A",
         "Z",
         "21855.604",
         "87.58",
         "2387.77",
         null,
         null,
         "ФРОВ",
         "СВЕЖИЕ ФРУКТЫ",
         "ФРУКТЫ ОСНОВНЫЕ",
         "БАНАНЫ",
         "БАНАН",
         "55.66472",
         "37.437218"
        ],
        [
         "3",
         "Окей",
         "г Москва, ул Озёрная, д 50",
         null,
         "01.05.2022 13:26:00",
         "9960440300975081:11611",
         "Яблоки кг",
         "87.49",
         "A",
         "A",
         "A",
         "Z",
         "21855.604",
         "113.74",
         "2387.77",
         null,
         null,
         "ФРОВ",
         "СВЕЖИЕ ФРУКТЫ",
         "ФРУКТЫ ОСНОВНЫЕ",
         "ЯБЛОКИ",
         "ЯБЛОКО",
         "55.66472",
         "37.437218"
        ],
        [
         "4",
         "Окей",
         "г Москва, ул Озёрная, д 50",
         null,
         "04.06.2022 18:19:00",
         "9960440301010969:5365",
         "Апельсины кг",
         "109.99",
         "A",
         "A",
         null,
         "Z",
         null,
         "186.1",
         "13641.6",
         null,
         null,
         null,
         null,
         null,
         null,
         null,
         "55.66472",
         "37.437218"
        ],
        [
         "5",
         "Окей",
         "г Москва, ул Озёрная, д 50",
         null,
         "18.06.2022 15:17:00",
         "9960440300975081:16623",
         "Кабачки кг",
         "84.14",
         "A",
         "A",
         "A",
         "Z",
         "2879.336",
         "34.5",
         "1756.29",
         null,
         null,
         "ФРОВ",
         "СВЕЖИЕ ОВОЩИ",
         "ОВОЩИ РАЗНЫЕ",
         "КАБАЧОК",
         "КАБАЧОК",
         "55.66472",
         "37.437218"
        ],
        [
         "6",
         "Окей",
         "г Москва, ул Озёрная, д 50",
         null,
         "14.06.2022 17:19:00",
         "9960440300975081:15955",
         "Лимоны кг",
         "131.98",
         "A",
         "A",
         "A",
         "Z",
         "3016.461",
         "84.47",
         "1840.85",
         null,
         null,
         "ФРОВ",
         "СВЕЖИЕ ФРУКТЫ",
         "ЦИТРУСОВЫЕ",
         "ЛИМОН",
         "ЛИМОН",
         "55.66472",
         "37.437218"
        ],
        [
         "7",
         "Окей",
         "г Москва, пр-кт Мира, д 211 к 2",
         "a2af9d68659f6a52f834996960c9dd1e",
         "28.06.2022 14:24:00",
         "9960440300976023:102078",
         "БЗМЖ Творог Кубанский молочник со сметаной 160г",
         "89.99",
         "B",
         "B",
         "A",
         "Z",
         "3553.398",
         "89.99",
         "229.97",
         "ДОМИНАНТ ГК",
         "КУБАНСКИЙ МОЛОЧНИК",
         "ПРОЧ",
         "ТОВАРЫ ДЛЯ ДОМА",
         "ПОСУДА",
         "ПИТЬЕВЫЕ ПРЕДМЕТЫ",
         "МОЛОЧНИК",
         "55.845856",
         "37.662094"
        ],
        [
         "8",
         "Окей",
         "г Москва, пр-кт Мира, д 211 к 2",
         "a2af9d68659f6a52f834996960c9dd1e",
         "28.06.2022 14:24:00",
         "9960440300976023:102078",
         "БЗМЖ Творог Кубанский молочник с клуб-земл вареньем 160г",
         "89.99",
         "B",
         "B",
         "A",
         "Z",
         "3553.398",
         "89.99",
         "229.97",
         "ДОМИНАНТ ГК",
         "КУБАНСКИЙ МОЛОЧНИК",
         "ПРОЧ",
         "ТОВАРЫ ДЛЯ ДОМА",
         "ПОСУДА",
         "ПИТЬЕВЫЕ ПРЕДМЕТЫ",
         "МОЛОЧНИК",
         "55.845856",
         "37.662094"
        ],
        [
         "9",
         "Окей",
         "г Москва, пр-кт Мира, д 211 к 2",
         "a2af9d68659f6a52f834996960c9dd1e",
         "28.06.2022 14:24:00",
         "9960440300976023:102078",
         "Булочка Даллас с творогом 100г",
         "49.99",
         "B",
         "A",
         "A",
         "Z",
         "4824.62",
         "49.99",
         "229.97",
         null,
         null,
         "КНХЛ",
         "ХБИ",
         "БУЛОЧКИ, ПИРОЖКИ, ВАТРУШКИ FRESH",
         "БУЛОЧКА",
         "БУЛОЧКА",
         "55.845856",
         "37.662094"
        ],
        [
         "10",
         "Гиперглобус",
         "г Москва, ш Новоухтомское, д 2А",
         "6f26c367e808700a3fb1bb5b74bf603f",
         "03.06.2022 16:46:00",
         "9960440301164246:35298",
         "КОЛБ ДОКТОРСКАЯ СИН",
         "799.9",
         "A",
         "B",
         "A",
         "Z",
         "8937.918",
         "262.37",
         "2381.29",
         null,
         null,
         "МСНГ",
         "МЯСНАЯ ГАСТРОНОМИЯ",
         "ВАРЕНЫЕ КОЛБАСЫ",
         "ВАРЕНЫЕ КОЛБАСЫ",
         "КОЛБАСА ВАРЕНАЯ",
         "55.712864",
         "37.84542"
        ],
        [
         "11",
         "Гиперглобус",
         "г Москва, ш Новоухтомское, д 2А",
         "6f26c367e808700a3fb1bb5b74bf603f",
         "03.06.2022 16:46:00",
         "9960440301164246:35298",
         "ПАКЕТ-СУМКА ПСД ЛОГО",
         "13.99",
         "A",
         "A",
         "A",
         "Z",
         "9649.0",
         "13.99",
         "2381.29",
         null,
         null,
         "ПКЕТ",
         "ПАКЕТ НА КАССЕ",
         "ПАКЕТЫ, СУМКИ ПРИКАССОВОЙ ЗОНЫ",
         "ПАКЕТ ПРИКАССОВОЙ ЗОНЫ",
         "ПАКЕТ НА КАССЕ",
         "55.712864",
         "37.84542"
        ],
        [
         "12",
         "Гиперглобус",
         "г Москва, ш Новоухтомское, д 2А",
         "6f26c367e808700a3fb1bb5b74bf603f",
         "03.06.2022 16:46:00",
         "9960440301164246:35298",
         "ПАКЕТ-МАЙКА ГЛОБУС",
         "6.99",
         "A",
         "A",
         "A",
         "Z",
         "9649.0",
         "6.99",
         "2381.29",
         "СТМ GLOBUS",
         "GLOBUS(СТМ GLOBUS)",
         "ПКЕТ",
         "ПАКЕТ НА КАССЕ",
         "ПАКЕТЫ, СУМКИ ПРИКАССОВОЙ ЗОНЫ",
         "ПАКЕТ ПРИКАССОВОЙ ЗОНЫ",
         "ПАКЕТ НА КАССЕ",
         "55.712864",
         "37.84542"
        ],
        [
         "13",
         "Гиперглобус",
         "г Москва, ш Новоухтомское, д 2А",
         "6f26c367e808700a3fb1bb5b74bf603f",
         "03.06.2022 16:46:00",
         "9960440301164246:35298",
         "САЛФ РЛ В КОР 120ШТ",
         "87.99",
         "A",
         "A",
         null,
         "Z",
         null,
         "87.99",
         "2381.29",
         null,
         null,
         null,
         null,
         null,
         null,
         null,
         "55.712864",
         "37.84542"
        ],
        [
         "14",
         "Гиперглобус",
         "г Москва, ш Новоухтомское, д 2А",
         "6f26c367e808700a3fb1bb5b74bf603f",
         "03.06.2022 16:46:00",
         "9960440301164246:35298",
         "ВОДА СЕНЕЖСК Б/Г 3Л",
         "59.99",
         "B",
         "A",
         "A",
         "Z",
         "50158.0",
         "119.98",
         "2381.29",
         null,
         null,
         "НПТК",
         "Б/А НАПИТКИ",
         "ВОДА",
         "ВОДА ПИТЬЕВАЯ",
         "ВОДА НЕГАЗИРОВАННАЯ",
         "55.712864",
         "37.84542"
        ],
        [
         "15",
         "Гиперглобус",
         "г Москва, ш Новоухтомское, д 2А",
         "6f26c367e808700a3fb1bb5b74bf603f",
         "03.06.2022 16:46:00",
         "9960440301164246:35298",
         "НАПИТОК САЯНЫ 2Л",
         "118.99",
         "A",
         "A",
         "A",
         "Z",
         "35012.0",
         "118.99",
         "2381.29",
         null,
         null,
         "НПТК",
         "Б/А НАПИТКИ",
         "СЛАДКИЕ ГАЗИРОВАННЫЕ НАПИТКИ",
         "ЛИМОНАД",
         "ЛИМОНАД/СЛАД.ГАЗИРОВК",
         "55.712864",
         "37.84542"
        ],
        [
         "16",
         "Гиперглобус",
         "г Москва, ш Новоухтомское, д 2А",
         "6f26c367e808700a3fb1bb5b74bf603f",
         "03.06.2022 16:46:00",
         "9960440301164246:35298",
         "ПЯТНОВЫВ.100 ПЯТЕН",
         "259.99",
         "B",
         "B",
         null,
         "Z",
         null,
         "259.99",
         "2381.29",
         null,
         null,
         null,
         null,
         null,
         null,
         null,
         "55.712864",
         "37.84542"
        ],
        [
         "17",
         "Гиперглобус",
         "г Москва, ш Новоухтомское, д 2А",
         "6f26c367e808700a3fb1bb5b74bf603f",
         "03.06.2022 16:46:00",
         "9960440301164246:35298",
         "СЫР ЛАМБЕР ГАУДА180Г",
         "212.99",
         "A",
         "A",
         "A",
         "Z",
         "17754.19",
         "212.99",
         "2381.29",
         "PEPSICO",
         "ЛАМБЕР",
         "СЫРЫ",
         "СЫРЫ",
         "ТВЕРДЫЕ И ПОЛУТВЕРДЫЕ",
         "ГАУДА",
         "ГАУДА",
         "55.712864",
         "37.84542"
        ],
        [
         "18",
         "Гиперглобус",
         "г Москва, ш Новоухтомское, д 2А",
         "6f26c367e808700a3fb1bb5b74bf603f",
         "03.06.2022 16:46:00",
         "9960440301164246:35298",
         "ПРЯН СГУЩ 140Г",
         "66.99",
         "A",
         "A",
         null,
         "Z",
         null,
         "66.99",
         "2381.29",
         null,
         null,
         null,
         null,
         null,
         null,
         null,
         "55.712864",
         "37.84542"
        ],
        [
         "19",
         "Гиперглобус",
         "г Москва, ш Новоухтомское, д 2А",
         "6f26c367e808700a3fb1bb5b74bf603f",
         "03.06.2022 16:46:00",
         "9960440301164246:35298",
         "ПЕЧЕНЬЕ ОРЕО 228Г",
         "142.99",
         "A",
         "A",
         "A",
         "Z",
         "11538.378",
         "142.99",
         "2381.29",
         "MONDELEZ",
         "OREO",
         "КНХЛ",
         "КОНДИТЕРКА",
         "ПЕЧЕНЬЕ",
         "ПЕЧЕНЬЕ-СЭНДВИЧ",
         "ПЕЧЕНЬЕ-СЭНДВИЧ",
         "55.712864",
         "37.84542"
        ],
        [
         "20",
         "Гиперглобус",
         "г Москва, ш Новоухтомское, д 2А",
         "6f26c367e808700a3fb1bb5b74bf603f",
         "03.06.2022 16:46:00",
         "9960440301164246:35298",
         "СМЕТ ПРОСТОКВ20%300Г",
         "98.99",
         "A",
         "A",
         "A",
         "Z",
         "22450.955",
         "98.99",
         "2381.29",
         null,
         null,
         "МЛДП",
         "МОЛОЧНАЯ ПРОДУКЦИЯ",
         "СМЕТАНА",
         "СМЕТАНА",
         "СМЕТАНА",
         "55.712864",
         "37.84542"
        ],
        [
         "21",
         "Гиперглобус",
         "г Москва, ш Новоухтомское, д 2А",
         "6f26c367e808700a3fb1bb5b74bf603f",
         "03.06.2022 16:46:00",
         "9960440301164246:35298",
         "СОСИСКИ ДОКТ. 440Г",
         "309.99",
         "A",
         "A",
         "A",
         "Z",
         "14214.375",
         "309.99",
         "2381.29",
         null,
         null,
         "МСНГ",
         "МЯСНАЯ ГАСТРОНОМИЯ",
         "СОСИСКИ",
         "СОСИСКИ",
         "СОСИСКИ",
         "55.712864",
         "37.84542"
        ],
        [
         "22",
         "Гиперглобус",
         "г Москва, ш Новоухтомское, д 2А",
         "6f26c367e808700a3fb1bb5b74bf603f",
         "03.06.2022 16:46:00",
         "9960440301164246:35298",
         "КОЛБ ЗЕРНИСТАЯ С/К",
         "2085.9",
         "A",
         "B",
         "B",
         "Z",
         "2163.919",
         "125.15",
         "2381.29",
         null,
         null,
         "МСНГ",
         "МЯСНАЯ ГАСТРОНОМИЯ",
         "СЫРОКОПЧЕНЫЕ КОЛБАСЫ",
         "СЫРОКОПЧЕНЫЕ КОЛБАСЫ",
         "СЫРОКОПЧЕНЫЕ КОЛБАСЫ",
         "55.712864",
         "37.84542"
        ],
        [
         "23",
         "Гиперглобус",
         "г Москва, ш Новоухтомское, д 2А",
         "6f26c367e808700a3fb1bb5b74bf603f",
         "03.06.2022 16:46:00",
         "9960440301164246:35298",
         "БАТОН НАРЕЗ НАР 400Г",
         "42.99",
         "A",
         "A",
         null,
         "Z",
         null,
         "42.99",
         "2381.29",
         null,
         null,
         null,
         null,
         null,
         null,
         null,
         "55.712864",
         "37.84542"
        ],
        [
         "24",
         "Гиперглобус",
         "г Москва, ш Новоухтомское, д 2А",
         "6f26c367e808700a3fb1bb5b74bf603f",
         "03.06.2022 16:46:00",
         "9960440301164246:35298",
         "СЛАД КУКУР КУЗЯ140Г",
         "61.99",
         "A",
         "A",
         null,
         "Z",
         null,
         "61.99",
         "2381.29",
         null,
         null,
         null,
         null,
         null,
         null,
         null,
         "55.712864",
         "37.84542"
        ],
        [
         "25",
         "Гиперглобус",
         "г Москва, ш Новоухтомское, д 2А",
         "6f26c367e808700a3fb1bb5b74bf603f",
         "03.06.2022 16:46:00",
         "9960440301164246:35298",
         "СТАКАН 200МЛ 100ШТ",
         "154.99",
         "A",
         "A",
         null,
         "Z",
         null,
         "154.99",
         "2381.29",
         null,
         null,
         null,
         null,
         null,
         null,
         null,
         "55.712864",
         "37.84542"
        ],
        [
         "26",
         "Гиперглобус",
         "г Москва, ш Новоухтомское, д 2А",
         "6f26c367e808700a3fb1bb5b74bf603f",
         "03.06.2022 16:46:00",
         "9960440301164246:35298",
         "ЧАШКА КОФЕЙНАЯ",
         "39.99",
         "C",
         "B",
         "A",
         "Z",
         "7546.0",
         "39.99",
         "2381.29",
         null,
         null,
         "ПРОЧ",
         "ТОВАРЫ ДЛЯ ДОМА",
         "ПОСУДА",
         "ПИТЬЕВЫЕ ПРЕДМЕТЫ",
         "ЧАШКА",
         "55.712864",
         "37.84542"
        ],
        [
         "27",
         "Гиперглобус",
         "г Москва, ш Новоухтомское, д 2А",
         "6f26c367e808700a3fb1bb5b74bf603f",
         "03.06.2022 16:46:00",
         "9960440301164246:35298",
         "Н-Р ВИЛОК 6 ШТ",
         "33.99",
         "B",
         "A",
         "A",
         "Z",
         "7546.0",
         "67.98",
         "2381.29",
         null,
         null,
         "ПРОЧ",
         "ТОВАРЫ ДЛЯ ДОМА",
         "ПОСУДА",
         "СТОЛОВЫЕ ПРИБОРЫ",
         "ВИЛКА",
         "55.712864",
         "37.84542"
        ],
        [
         "28",
         "Гиперглобус",
         "г Москва, ш Новоухтомское, д 2А",
         "6f26c367e808700a3fb1bb5b74bf603f",
         "03.06.2022 16:46:00",
         "9960440301164246:35298",
         "ВИЛКА СТОЛ ВАШ ВЫБОР",
         "15.99",
         "B",
         "A",
         "A",
         "Z",
         "7546.0",
         "31.98",
         "2381.29",
         "NO NAME-СТМ",
         "ВАШ ВЫБОР",
         "ПРОЧ",
         "ТОВАРЫ ДЛЯ ДОМА",
         "ПОСУДА",
         "СТОЛОВЫЕ ПРИБОРЫ",
         "ВИЛКА",
         "55.712864",
         "37.84542"
        ],
        [
         "29",
         "Гиперглобус",
         "г Москва, ш Новоухтомское, д 2А",
         "6f26c367e808700a3fb1bb5b74bf603f",
         "03.06.2022 16:46:00",
         "9960440301164246:35298",
         "Н-Р ЛОЖЕК 6 ШТ",
         "33.99",
         "C",
         "A",
         null,
         "Z",
         null,
         "33.99",
         "2381.29",
         null,
         null,
         null,
         null,
         null,
         null,
         null,
         "55.712864",
         "37.84542"
        ],
        [
         "30",
         "Гиперглобус",
         "г Москва, ш Новоухтомское, д 2А",
         "6f26c367e808700a3fb1bb5b74bf603f",
         "03.06.2022 16:46:00",
         "9960440301164246:35298",
         "ТАРЕЛКА СУП БЕЛ10ШТ",
         "59.99",
         "B",
         "A",
         null,
         "Z",
         null,
         "119.98",
         "2381.29",
         null,
         null,
         null,
         null,
         null,
         null,
         null,
         "55.712864",
         "37.84542"
        ],
        [
         "31",
         "Гиперглобус",
         "г Москва, ш Новоухтомское, д 2А",
         "6f26c367e808700a3fb1bb5b74bf603f",
         "24.06.2022 21:05:00",
         "9960440301166847:31695",
         "КОЛБ.ДОКТОРСК.190Г",
         "114.99",
         "A",
         "A",
         "A",
         "Z",
         "8937.918",
         "114.99",
         "1249.28",
         null,
         null,
         "МСНГ",
         "МЯСНАЯ ГАСТРОНОМИЯ",
         "ВАРЕНЫЕ КОЛБАСЫ",
         "ВАРЕНЫЕ КОЛБАСЫ",
         "КОЛБАСА ВАРЕНАЯ",
         "55.712864",
         "37.84542"
        ],
        [
         "32",
         "Гиперглобус",
         "г Москва, ш Новоухтомское, д 2А",
         "6f26c367e808700a3fb1bb5b74bf603f",
         "24.06.2022 21:05:00",
         "9960440301166847:31695",
         "ПАКЕТ КАССА ГЛ САМ",
         "6.99",
         "A",
         "A",
         null,
         "Z",
         null,
         "6.99",
         "1249.28",
         null,
         null,
         null,
         null,
         null,
         null,
         null,
         "55.712864",
         "37.84542"
        ],
        [
         "33",
         "Гиперглобус",
         "г Москва, ш Новоухтомское, д 2А",
         "6f26c367e808700a3fb1bb5b74bf603f",
         "24.06.2022 21:05:00",
         "9960440301166847:31695",
         "КОРНИШОНЫ ВЫБОРЖ300",
         "129.99",
         "A",
         "A",
         null,
         "Z",
         null,
         "259.98",
         "1249.28",
         "не определено",
         "ВЫБОРЖЕЦ",
         null,
         null,
         null,
         null,
         null,
         "55.712864",
         "37.84542"
        ],
        [
         "34",
         "Гиперглобус",
         "г Москва, ш Новоухтомское, д 2А",
         "6f26c367e808700a3fb1bb5b74bf603f",
         "24.06.2022 21:05:00",
         "9960440301166847:31695",
         "ВЕТЧИНА Д/ТОСТ.120Г",
         "122.99",
         "A",
         "A",
         "B",
         "Z",
         "3576.0989",
         "122.99",
         "1249.28",
         null,
         null,
         "МСНГ",
         "МЯСНАЯ ГАСТРОНОМИЯ",
         "ВЕТЧИНА",
         "ВЕТЧИНА ИЗ МЯСА ЖИВОТНЫХ",
         "ВЕТЧИНА ИЗ МЯСА ЖИВОТНЫХ",
         "55.712864",
         "37.84542"
        ],
        [
         "35",
         "Гиперглобус",
         "г Москва, ш Новоухтомское, д 2А",
         "6f26c367e808700a3fb1bb5b74bf603f",
         "24.06.2022 21:05:00",
         "9960440301166847:31695",
         "РИС КАРАЧИХА 900Г",
         "99.99",
         "A",
         "A",
         null,
         "Z",
         null,
         "99.99",
         "1249.28",
         null,
         null,
         null,
         null,
         null,
         null,
         null,
         "55.712864",
         "37.84542"
        ],
        [
         "36",
         "Гиперглобус",
         "г Москва, ш Новоухтомское, д 2А",
         "6f26c367e808700a3fb1bb5b74bf603f",
         "24.06.2022 21:05:00",
         "9960440301166847:31695",
         "АБРИКОСЫ ШАЛАХ ВЕС",
         "299.99",
         "A",
         "A",
         "A",
         "Z",
         "45690.617",
         "146.4",
         "1249.28",
         null,
         null,
         "ФРОВ",
         "СВЕЖИЕ ФРУКТЫ",
         "ФРУКТЫ ОСНОВНЫЕ",
         "АБРИКОС",
         "АБРИКОС",
         "55.712864",
         "37.84542"
        ],
        [
         "37",
         "Гиперглобус",
         "г Москва, ш Новоухтомское, д 2А",
         "6f26c367e808700a3fb1bb5b74bf603f",
         "24.06.2022 21:05:00",
         "9960440301166847:31695",
         "ХЛЕБ КЛЮКВ. 300Г",
         "82.99",
         "C",
         "B",
         null,
         "Z",
         null,
         "82.99",
         "1249.28",
         null,
         null,
         null,
         null,
         null,
         null,
         null,
         "55.712864",
         "37.84542"
        ],
        [
         "38",
         "Гиперглобус",
         "г Москва, ш Новоухтомское, д 2А",
         "6f26c367e808700a3fb1bb5b74bf603f",
         "24.06.2022 21:05:00",
         "9960440301166847:31695",
         "ЛИМОНАД КРЫМ 2Л",
         "99.99",
         "B",
         "B",
         "A",
         "Z",
         "35012.0",
         "99.99",
         "1249.28",
         null,
         null,
         "НПТК",
         "Б/А НАПИТКИ",
         "СЛАДКИЕ ГАЗИРОВАННЫЕ НАПИТКИ",
         "ЛИМОНАД",
         "ЛИМОНАД/СЛАД.ГАЗИРОВК",
         "55.712864",
         "37.84542"
        ],
        [
         "39",
         "Гиперглобус",
         "г Москва, ш Новоухтомское, д 2А",
         "6f26c367e808700a3fb1bb5b74bf603f",
         "24.06.2022 21:05:00",
         "9960440301166847:31695",
         "НАП ИЗ ЧЕРН КРЮШ 2Л",
         "99.99",
         "A",
         "A",
         "A",
         "Z",
         "35012.0",
         "99.99",
         "1249.28",
         null,
         null,
         "НПТК",
         "Б/А НАПИТКИ",
         "СЛАДКИЕ ГАЗИРОВАННЫЕ НАПИТКИ",
         "ЛИМОНАД",
         "ЛИМОНАД/СЛАД.ГАЗИРОВК",
         "55.712864",
         "37.84542"
        ],
        [
         "40",
         "Гиперглобус",
         "г Москва, ш Новоухтомское, д 2А",
         "6f26c367e808700a3fb1bb5b74bf603f",
         "24.06.2022 21:05:00",
         "9960440301166847:31695",
         "НАП БУРАТИНО ПЭТ 0,5",
         "29.99",
         "B",
         "A",
         "A",
         "Z",
         "35012.0",
         "29.99",
         "1249.28",
         null,
         null,
         "НПТК",
         "Б/А НАПИТКИ",
         "СЛАДКИЕ ГАЗИРОВАННЫЕ НАПИТКИ",
         "ЛИМОНАД",
         "ЛИМОНАД/СЛАД.ГАЗИРОВК",
         "55.712864",
         "37.84542"
        ],
        [
         "41",
         "Гиперглобус",
         "г Москва, ш Новоухтомское, д 2А",
         "6f26c367e808700a3fb1bb5b74bf603f",
         "24.06.2022 21:05:00",
         "9960440301166847:31695",
         "СТАКАН 200МЛ 100ШТ",
         "154.99",
         "A",
         "A",
         null,
         "Z",
         null,
         "154.99",
         "1249.28",
         null,
         null,
         null,
         null,
         null,
         null,
         null,
         "55.712864",
         "37.84542"
        ],
        [
         "42",
         "Гиперглобус",
         "г Москва, ш Новоухтомское, д 2А",
         "6f26c367e808700a3fb1bb5b74bf603f",
         "24.06.2022 21:05:00",
         "9960440301166847:31695",
         "НАП ЛИМОНАД 0,5Л ПЭТ",
         "29.99",
         "B",
         "A",
         "A",
         "Z",
         "35012.0",
         "29.99",
         "1249.28",
         null,
         null,
         "НПТК",
         "Б/А НАПИТКИ",
         "СЛАДКИЕ ГАЗИРОВАННЫЕ НАПИТКИ",
         "ЛИМОНАД",
         "ЛИМОНАД/СЛАД.ГАЗИРОВК",
         "55.712864",
         "37.84542"
        ],
        [
         "43",
         "Окей",
         "г Москва, ул Кировоградская, д 13А",
         null,
         "12.06.2022 16:58:00",
         "9960440300963852:26112",
         "БЗМЖ Йогурт питьевой Вкуснотеево клубника 1,5% 750г",
         "114.99",
         "A",
         "A",
         "A",
         "Z",
         "8740.0",
         "114.99",
         "1464.0",
         "МОЛВЕСТ",
         "ВКУСНОТЕЕВО",
         "МЛДП",
         "МОЛОЧНАЯ ПРОДУКЦИЯ",
         "ЙОГУРТЫ",
         "ЙОГУРТ ПИТЬЕВОЙ",
         "ЙОГУРТ ПИТЬЕВОЙ",
         "55.612118",
         "37.607048"
        ],
        [
         "44",
         "Окей",
         "г Москва, ул Кировоградская, д 13А",
         null,
         "12.06.2022 16:58:00",
         "9960440300963852:26112",
         "Квас ОКЕЙ Традиционный б/алк газ 2л пэт",
         "69.99",
         "A",
         "A",
         "A",
         "Z",
         "2805.0",
         "69.99",
         "1464.0",
         "СТМ_ОКЕЙ",
         "СТМ ОКЕЙ",
         "НПТК",
         "Б/А НАПИТКИ",
         "КВАС И КВАСНЫЕ НАПИТКИ",
         "КВАС",
         "КВАС",
         "55.612118",
         "37.607048"
        ],
        [
         "45",
         "Окей",
         "г Москва, ул Кировоградская, д 13А",
         null,
         "12.06.2022 16:58:00",
         "9960440300963852:26112",
         "БЗМЖ Тан ОКЕЙ 0,1% 0,5л пэт",
         "32.99",
         "B",
         "A",
         "A",
         "Z",
         "6088.0",
         "32.99",
         "1464.0",
         "СТМ_ОКЕЙ",
         "СТМ ОКЕЙ",
         "МЛДП",
         "МОЛОЧНАЯ ПРОДУКЦИЯ",
         "КИСЛОМОЛОЧНЫЕ ПРОДУКТЫ",
         "ТАН,АЙРАН",
         "ТАН",
         "55.612118",
         "37.607048"
        ],
        [
         "46",
         "Окей",
         "г Москва, ул Кировоградская, д 13А",
         null,
         "12.06.2022 16:58:00",
         "9960440300963852:26112",
         "Тыква Баттернат кг",
         "199.98",
         "A",
         "A",
         "A",
         "Z",
         "2879.336",
         "131.19",
         "1464.0",
         null,
         null,
         "ФРОВ",
         "СВЕЖИЕ ОВОЩИ",
         "ОВОЩИ РАЗНЫЕ",
         "ТЫКВА",
         "ТЫКВА",
         "55.612118",
         "37.607048"
        ],
        [
         "47",
         "Окей",
         "г Москва, ул Кировоградская, д 13А",
         null,
         "12.06.2022 16:58:00",
         "9960440300963852:26112",
         "Яблоки Ред Делишес кг",
         "99.99",
         "A",
         "A",
         "A",
         "Z",
         "21855.604",
         "130.99",
         "1464.0",
         null,
         null,
         "ФРОВ",
         "СВЕЖИЕ ФРУКТЫ",
         "ФРУКТЫ ОСНОВНЫЕ",
         "ЯБЛОКИ",
         "ЯБЛОКО",
         "55.612118",
         "37.607048"
        ],
        [
         "48",
         "Окей",
         "г Москва, ул Кировоградская, д 13А",
         null,
         "12.06.2022 16:58:00",
         "9960440300963852:26112",
         "Варенье ОКЕЙ стерилизованное малиновое 320г",
         "149.99",
         "A",
         "A",
         "B",
         "Z",
         "1181.0",
         "149.99",
         "1464.0",
         "СТМ_ОКЕЙ",
         "СТМ ОКЕЙ",
         "БАКЛ",
         "СЛАДКАЯ КОНСЕРВАЦИЯ, СГУЩЕНОЕ МОЛОКО",
         "ВАРЕНЬЕ, ДЖЕМ, ПОВИДЛО",
         "ВАРЕНЬЕ",
         "ВАРЕНЬЕ",
         "55.612118",
         "37.607048"
        ],
        [
         "49",
         "Окей",
         "г Москва, ул Кировоградская, д 13А",
         null,
         "12.06.2022 16:58:00",
         "9960440300963852:26112",
         "Колбаса вареная Идель Мусульманская 400г",
         "169.99",
         "B",
         "B",
         "A",
         "Z",
         "5451.697",
         "169.99",
         "1464.0",
         "не определено",
         "ИДЕЛЬ",
         "МСНГ",
         "МЯСНАЯ ГАСТРОНОМИЯ",
         "ВАРЕНЫЕ КОЛБАСЫ",
         "ВАРЕНЫЕ КОЛБАСЫ",
         "КОЛБАСА ВАРЕНАЯ",
         "55.612118",
         "37.607048"
        ]
       ],
       "shape": {
        "columns": 23,
        "rows": 2400099
       }
      },
      "text/html": [
       "<div>\n",
       "<style scoped>\n",
       "    .dataframe tbody tr th:only-of-type {\n",
       "        vertical-align: middle;\n",
       "    }\n",
       "\n",
       "    .dataframe tbody tr th {\n",
       "        vertical-align: top;\n",
       "    }\n",
       "\n",
       "    .dataframe thead th {\n",
       "        text-align: right;\n",
       "    }\n",
       "</style>\n",
       "<table border=\"1\" class=\"dataframe\">\n",
       "  <thead>\n",
       "    <tr style=\"text-align: right;\">\n",
       "      <th></th>\n",
       "      <th>client_NT</th>\n",
       "      <th>text_kktAddress</th>\n",
       "      <th>customer_id</th>\n",
       "      <th>dateTime</th>\n",
       "      <th>receipt_id</th>\n",
       "      <th>CLEAN_SKU</th>\n",
       "      <th>price_items_x</th>\n",
       "      <th>abc_price_items</th>\n",
       "      <th>abc_quantity_items</th>\n",
       "      <th>abc_quantity_items_CAT</th>\n",
       "      <th>...</th>\n",
       "      <th>totalSum</th>\n",
       "      <th>RIGHTHOLDER_NT</th>\n",
       "      <th>BRAND_NT</th>\n",
       "      <th>CLASS_NT</th>\n",
       "      <th>GROUP_NT</th>\n",
       "      <th>CATEGORY_NT</th>\n",
       "      <th>SUBCATEGORY_NT</th>\n",
       "      <th>BASE_NT</th>\n",
       "      <th>lat</th>\n",
       "      <th>lon</th>\n",
       "    </tr>\n",
       "  </thead>\n",
       "  <tbody>\n",
       "    <tr>\n",
       "      <th>0</th>\n",
       "      <td>Окей</td>\n",
       "      <td>г Москва, ул Озёрная, д 50</td>\n",
       "      <td>NaN</td>\n",
       "      <td>26.06.2022 13:51:00</td>\n",
       "      <td>9960440300975081:17128</td>\n",
       "      <td>Бананы кг</td>\n",
       "      <td>70.38</td>\n",
       "      <td>A</td>\n",
       "      <td>A</td>\n",
       "      <td>A</td>\n",
       "      <td>...</td>\n",
       "      <td>2135.82</td>\n",
       "      <td>NaN</td>\n",
       "      <td>NaN</td>\n",
       "      <td>ФРОВ</td>\n",
       "      <td>СВЕЖИЕ ФРУКТЫ</td>\n",
       "      <td>ФРУКТЫ ОСНОВНЫЕ</td>\n",
       "      <td>БАНАНЫ</td>\n",
       "      <td>БАНАН</td>\n",
       "      <td>55.66</td>\n",
       "      <td>37.44</td>\n",
       "    </tr>\n",
       "    <tr>\n",
       "      <th>1</th>\n",
       "      <td>Окей</td>\n",
       "      <td>г Москва, ул Озёрная, д 50</td>\n",
       "      <td>NaN</td>\n",
       "      <td>26.06.2022 13:46:00</td>\n",
       "      <td>9960440300975081:17126</td>\n",
       "      <td>Зажарка Maggi 60г</td>\n",
       "      <td>33.42</td>\n",
       "      <td>B</td>\n",
       "      <td>A</td>\n",
       "      <td>A</td>\n",
       "      <td>...</td>\n",
       "      <td>3920.33</td>\n",
       "      <td>NESTLE</td>\n",
       "      <td>MAGGI</td>\n",
       "      <td>БАКЛ</td>\n",
       "      <td>БАКАЛЕЯ СЫПУЧАЯ</td>\n",
       "      <td>ПРИПРАВЫ ДЛЯ ПЕРВЫХ И ВТОРЫХ БЛЮД</td>\n",
       "      <td>ПРИПРАВА ДЛЯ ЖАРКОЕ</td>\n",
       "      <td>ПРИПРАВА ДЛЯ ЖАРКОЕ</td>\n",
       "      <td>55.66</td>\n",
       "      <td>37.44</td>\n",
       "    </tr>\n",
       "    <tr>\n",
       "      <th>2</th>\n",
       "      <td>Окей</td>\n",
       "      <td>г Москва, ул Озёрная, д 50</td>\n",
       "      <td>NaN</td>\n",
       "      <td>01.05.2022 13:26:00</td>\n",
       "      <td>9960440300975081:11611</td>\n",
       "      <td>Бананы кг</td>\n",
       "      <td>96.24</td>\n",
       "      <td>A</td>\n",
       "      <td>A</td>\n",
       "      <td>A</td>\n",
       "      <td>...</td>\n",
       "      <td>2387.77</td>\n",
       "      <td>NaN</td>\n",
       "      <td>NaN</td>\n",
       "      <td>ФРОВ</td>\n",
       "      <td>СВЕЖИЕ ФРУКТЫ</td>\n",
       "      <td>ФРУКТЫ ОСНОВНЫЕ</td>\n",
       "      <td>БАНАНЫ</td>\n",
       "      <td>БАНАН</td>\n",
       "      <td>55.66</td>\n",
       "      <td>37.44</td>\n",
       "    </tr>\n",
       "    <tr>\n",
       "      <th>3</th>\n",
       "      <td>Окей</td>\n",
       "      <td>г Москва, ул Озёрная, д 50</td>\n",
       "      <td>NaN</td>\n",
       "      <td>01.05.2022 13:26:00</td>\n",
       "      <td>9960440300975081:11611</td>\n",
       "      <td>Яблоки кг</td>\n",
       "      <td>87.49</td>\n",
       "      <td>A</td>\n",
       "      <td>A</td>\n",
       "      <td>A</td>\n",
       "      <td>...</td>\n",
       "      <td>2387.77</td>\n",
       "      <td>NaN</td>\n",
       "      <td>NaN</td>\n",
       "      <td>ФРОВ</td>\n",
       "      <td>СВЕЖИЕ ФРУКТЫ</td>\n",
       "      <td>ФРУКТЫ ОСНОВНЫЕ</td>\n",
       "      <td>ЯБЛОКИ</td>\n",
       "      <td>ЯБЛОКО</td>\n",
       "      <td>55.66</td>\n",
       "      <td>37.44</td>\n",
       "    </tr>\n",
       "    <tr>\n",
       "      <th>4</th>\n",
       "      <td>Окей</td>\n",
       "      <td>г Москва, ул Озёрная, д 50</td>\n",
       "      <td>NaN</td>\n",
       "      <td>04.06.2022 18:19:00</td>\n",
       "      <td>9960440301010969:5365</td>\n",
       "      <td>Апельсины кг</td>\n",
       "      <td>109.99</td>\n",
       "      <td>A</td>\n",
       "      <td>A</td>\n",
       "      <td>NaN</td>\n",
       "      <td>...</td>\n",
       "      <td>13641.60</td>\n",
       "      <td>NaN</td>\n",
       "      <td>NaN</td>\n",
       "      <td>NaN</td>\n",
       "      <td>NaN</td>\n",
       "      <td>NaN</td>\n",
       "      <td>NaN</td>\n",
       "      <td>NaN</td>\n",
       "      <td>55.66</td>\n",
       "      <td>37.44</td>\n",
       "    </tr>\n",
       "    <tr>\n",
       "      <th>...</th>\n",
       "      <td>...</td>\n",
       "      <td>...</td>\n",
       "      <td>...</td>\n",
       "      <td>...</td>\n",
       "      <td>...</td>\n",
       "      <td>...</td>\n",
       "      <td>...</td>\n",
       "      <td>...</td>\n",
       "      <td>...</td>\n",
       "      <td>...</td>\n",
       "      <td>...</td>\n",
       "      <td>...</td>\n",
       "      <td>...</td>\n",
       "      <td>...</td>\n",
       "      <td>...</td>\n",
       "      <td>...</td>\n",
       "      <td>...</td>\n",
       "      <td>...</td>\n",
       "      <td>...</td>\n",
       "      <td>...</td>\n",
       "      <td>...</td>\n",
       "    </tr>\n",
       "    <tr>\n",
       "      <th>2400094</th>\n",
       "      <td>Окей</td>\n",
       "      <td>г Москва, ул Кировоградская, д 13А</td>\n",
       "      <td>NaN</td>\n",
       "      <td>21.05.2022 18:02:00</td>\n",
       "      <td>9960440300963884:53239</td>\n",
       "      <td>Кондиционер конц д/белья Vernel supreme elegan...</td>\n",
       "      <td>199.99</td>\n",
       "      <td>B</td>\n",
       "      <td>B</td>\n",
       "      <td>A</td>\n",
       "      <td>...</td>\n",
       "      <td>818.97</td>\n",
       "      <td>не определено</td>\n",
       "      <td>VERNEL</td>\n",
       "      <td>КЗБХ</td>\n",
       "      <td>БЫТОВАЯ ХИМИЯ</td>\n",
       "      <td>СР-ВА ДЛЯ СТИРКИ</td>\n",
       "      <td>КОНДИЦИОНЕР-ОПОЛАСКИВАТЕЛЬ</td>\n",
       "      <td>КОНДИЦИОНЕР ДЛЯ БЕЛЬЯ</td>\n",
       "      <td>55.61</td>\n",
       "      <td>37.61</td>\n",
       "    </tr>\n",
       "    <tr>\n",
       "      <th>2400095</th>\n",
       "      <td>Окей</td>\n",
       "      <td>г Москва, ул Кировоградская, д 13А</td>\n",
       "      <td>NaN</td>\n",
       "      <td>21.05.2022 18:02:00</td>\n",
       "      <td>9960440300963884:53239</td>\n",
       "      <td>Абрикосы 500г упак</td>\n",
       "      <td>169.99</td>\n",
       "      <td>A</td>\n",
       "      <td>A</td>\n",
       "      <td>A</td>\n",
       "      <td>...</td>\n",
       "      <td>818.97</td>\n",
       "      <td>NaN</td>\n",
       "      <td>NaN</td>\n",
       "      <td>ФРОВ</td>\n",
       "      <td>СВЕЖИЕ ФРУКТЫ</td>\n",
       "      <td>ФРУКТЫ ОСНОВНЫЕ</td>\n",
       "      <td>АБРИКОС</td>\n",
       "      <td>АБРИКОС</td>\n",
       "      <td>55.61</td>\n",
       "      <td>37.61</td>\n",
       "    </tr>\n",
       "    <tr>\n",
       "      <th>2400096</th>\n",
       "      <td>Окей</td>\n",
       "      <td>г Москва, ул Кировоградская, д 13А</td>\n",
       "      <td>8e72f68f3891ce5f91503cb8dbe1b210</td>\n",
       "      <td>26.05.2022 18:08:00</td>\n",
       "      <td>9960440300964629:76254</td>\n",
       "      <td>Пакет подарочный Арт и Дизайн ST премиум 12х36см</td>\n",
       "      <td>102.99</td>\n",
       "      <td>C</td>\n",
       "      <td>C</td>\n",
       "      <td>C</td>\n",
       "      <td>...</td>\n",
       "      <td>1832.00</td>\n",
       "      <td>не определено</td>\n",
       "      <td>АРТ И ДИЗАЙН</td>\n",
       "      <td>КЦИГ</td>\n",
       "      <td>ИГРУШКИ</td>\n",
       "      <td>ВСЕ ДЛЯ ВЕСЕЛОГО ПРАЗДНИКА</td>\n",
       "      <td>ПОДАРОЧНЫЕ ПАКЕТЫ И УПАКОВКА</td>\n",
       "      <td>ПАКЕТ ПОДАРОЧНЫЙ</td>\n",
       "      <td>55.61</td>\n",
       "      <td>37.61</td>\n",
       "    </tr>\n",
       "    <tr>\n",
       "      <th>2400097</th>\n",
       "      <td>Окей</td>\n",
       "      <td>г Москва, ул Кировоградская, д 13А</td>\n",
       "      <td>8e72f68f3891ce5f91503cb8dbe1b210</td>\n",
       "      <td>26.05.2022 18:08:00</td>\n",
       "      <td>9960440300964629:76254</td>\n",
       "      <td>Вино Вадиаперти Греко Ди Туфо бел. сух. 4,5-16...</td>\n",
       "      <td>1099.02</td>\n",
       "      <td>B</td>\n",
       "      <td>C</td>\n",
       "      <td>B</td>\n",
       "      <td>...</td>\n",
       "      <td>1832.00</td>\n",
       "      <td>NaN</td>\n",
       "      <td>NaN</td>\n",
       "      <td>АЛКГ</td>\n",
       "      <td>ВИНО</td>\n",
       "      <td>ВИНО</td>\n",
       "      <td>ВИНО ТИХОЕ</td>\n",
       "      <td>ВИНО ТИХОЕ</td>\n",
       "      <td>55.61</td>\n",
       "      <td>37.61</td>\n",
       "    </tr>\n",
       "    <tr>\n",
       "      <th>2400098</th>\n",
       "      <td>Окей</td>\n",
       "      <td>г Москва, ул Кировоградская, д 13А</td>\n",
       "      <td>8e72f68f3891ce5f91503cb8dbe1b210</td>\n",
       "      <td>26.05.2022 18:08:00</td>\n",
       "      <td>9960440300964629:76254</td>\n",
       "      <td>Набор конфет Merci ассорти 400г</td>\n",
       "      <td>629.99</td>\n",
       "      <td>A</td>\n",
       "      <td>B</td>\n",
       "      <td>B</td>\n",
       "      <td>...</td>\n",
       "      <td>1832.00</td>\n",
       "      <td>AUGUST STORK KG</td>\n",
       "      <td>MERCI</td>\n",
       "      <td>КНХЛ</td>\n",
       "      <td>КОНДИТЕРКА</td>\n",
       "      <td>НАБОРЫ КОНДИТЕРСКИЕ</td>\n",
       "      <td>НАБОРЫ КОНДИТЕРСКИЕ</td>\n",
       "      <td>НАБОРЫ КОНДИТЕРСКИЕ</td>\n",
       "      <td>55.61</td>\n",
       "      <td>37.61</td>\n",
       "    </tr>\n",
       "  </tbody>\n",
       "</table>\n",
       "<p>2400099 rows × 23 columns</p>\n",
       "</div>"
      ],
      "text/plain": [
       "        client_NT                     text_kktAddress  \\\n",
       "0            Окей          г Москва, ул Озёрная, д 50   \n",
       "1            Окей          г Москва, ул Озёрная, д 50   \n",
       "2            Окей          г Москва, ул Озёрная, д 50   \n",
       "3            Окей          г Москва, ул Озёрная, д 50   \n",
       "4            Окей          г Москва, ул Озёрная, д 50   \n",
       "...           ...                                 ...   \n",
       "2400094      Окей  г Москва, ул Кировоградская, д 13А   \n",
       "2400095      Окей  г Москва, ул Кировоградская, д 13А   \n",
       "2400096      Окей  г Москва, ул Кировоградская, д 13А   \n",
       "2400097      Окей  г Москва, ул Кировоградская, д 13А   \n",
       "2400098      Окей  г Москва, ул Кировоградская, д 13А   \n",
       "\n",
       "                              customer_id             dateTime  \\\n",
       "0                                     NaN  26.06.2022 13:51:00   \n",
       "1                                     NaN  26.06.2022 13:46:00   \n",
       "2                                     NaN  01.05.2022 13:26:00   \n",
       "3                                     NaN  01.05.2022 13:26:00   \n",
       "4                                     NaN  04.06.2022 18:19:00   \n",
       "...                                   ...                  ...   \n",
       "2400094                               NaN  21.05.2022 18:02:00   \n",
       "2400095                               NaN  21.05.2022 18:02:00   \n",
       "2400096  8e72f68f3891ce5f91503cb8dbe1b210  26.05.2022 18:08:00   \n",
       "2400097  8e72f68f3891ce5f91503cb8dbe1b210  26.05.2022 18:08:00   \n",
       "2400098  8e72f68f3891ce5f91503cb8dbe1b210  26.05.2022 18:08:00   \n",
       "\n",
       "                     receipt_id  \\\n",
       "0        9960440300975081:17128   \n",
       "1        9960440300975081:17126   \n",
       "2        9960440300975081:11611   \n",
       "3        9960440300975081:11611   \n",
       "4         9960440301010969:5365   \n",
       "...                         ...   \n",
       "2400094  9960440300963884:53239   \n",
       "2400095  9960440300963884:53239   \n",
       "2400096  9960440300964629:76254   \n",
       "2400097  9960440300964629:76254   \n",
       "2400098  9960440300964629:76254   \n",
       "\n",
       "                                                 CLEAN_SKU  price_items_x  \\\n",
       "0                                                Бананы кг          70.38   \n",
       "1                                        Зажарка Maggi 60г          33.42   \n",
       "2                                                Бананы кг          96.24   \n",
       "3                                                Яблоки кг          87.49   \n",
       "4                                             Апельсины кг         109.99   \n",
       "...                                                    ...            ...   \n",
       "2400094  Кондиционер конц д/белья Vernel supreme elegan...         199.99   \n",
       "2400095                                 Абрикосы 500г упак         169.99   \n",
       "2400096   Пакет подарочный Арт и Дизайн ST премиум 12х36см         102.99   \n",
       "2400097  Вино Вадиаперти Греко Ди Туфо бел. сух. 4,5-16...        1099.02   \n",
       "2400098                    Набор конфет Merci ассорти 400г         629.99   \n",
       "\n",
       "        abc_price_items abc_quantity_items abc_quantity_items_CAT  ...  \\\n",
       "0                     A                  A                      A  ...   \n",
       "1                     B                  A                      A  ...   \n",
       "2                     A                  A                      A  ...   \n",
       "3                     A                  A                      A  ...   \n",
       "4                     A                  A                    NaN  ...   \n",
       "...                 ...                ...                    ...  ...   \n",
       "2400094               B                  B                      A  ...   \n",
       "2400095               A                  A                      A  ...   \n",
       "2400096               C                  C                      C  ...   \n",
       "2400097               B                  C                      B  ...   \n",
       "2400098               A                  B                      B  ...   \n",
       "\n",
       "        totalSum   RIGHTHOLDER_NT      BRAND_NT  CLASS_NT         GROUP_NT  \\\n",
       "0        2135.82              NaN           NaN      ФРОВ    СВЕЖИЕ ФРУКТЫ   \n",
       "1        3920.33           NESTLE         MAGGI      БАКЛ  БАКАЛЕЯ СЫПУЧАЯ   \n",
       "2        2387.77              NaN           NaN      ФРОВ    СВЕЖИЕ ФРУКТЫ   \n",
       "3        2387.77              NaN           NaN      ФРОВ    СВЕЖИЕ ФРУКТЫ   \n",
       "4       13641.60              NaN           NaN       NaN              NaN   \n",
       "...          ...              ...           ...       ...              ...   \n",
       "2400094   818.97    не определено        VERNEL      КЗБХ    БЫТОВАЯ ХИМИЯ   \n",
       "2400095   818.97              NaN           NaN      ФРОВ    СВЕЖИЕ ФРУКТЫ   \n",
       "2400096  1832.00    не определено  АРТ И ДИЗАЙН      КЦИГ          ИГРУШКИ   \n",
       "2400097  1832.00              NaN           NaN      АЛКГ             ВИНО   \n",
       "2400098  1832.00  AUGUST STORK KG         MERCI      КНХЛ       КОНДИТЕРКА   \n",
       "\n",
       "                               CATEGORY_NT                SUBCATEGORY_NT  \\\n",
       "0                          ФРУКТЫ ОСНОВНЫЕ                        БАНАНЫ   \n",
       "1        ПРИПРАВЫ ДЛЯ ПЕРВЫХ И ВТОРЫХ БЛЮД           ПРИПРАВА ДЛЯ ЖАРКОЕ   \n",
       "2                          ФРУКТЫ ОСНОВНЫЕ                        БАНАНЫ   \n",
       "3                          ФРУКТЫ ОСНОВНЫЕ                        ЯБЛОКИ   \n",
       "4                                      NaN                           NaN   \n",
       "...                                    ...                           ...   \n",
       "2400094                   СР-ВА ДЛЯ СТИРКИ    КОНДИЦИОНЕР-ОПОЛАСКИВАТЕЛЬ   \n",
       "2400095                    ФРУКТЫ ОСНОВНЫЕ                       АБРИКОС   \n",
       "2400096         ВСЕ ДЛЯ ВЕСЕЛОГО ПРАЗДНИКА  ПОДАРОЧНЫЕ ПАКЕТЫ И УПАКОВКА   \n",
       "2400097                               ВИНО                    ВИНО ТИХОЕ   \n",
       "2400098                НАБОРЫ КОНДИТЕРСКИЕ           НАБОРЫ КОНДИТЕРСКИЕ   \n",
       "\n",
       "                       BASE_NT   lat   lon  \n",
       "0                        БАНАН 55.66 37.44  \n",
       "1          ПРИПРАВА ДЛЯ ЖАРКОЕ 55.66 37.44  \n",
       "2                        БАНАН 55.66 37.44  \n",
       "3                       ЯБЛОКО 55.66 37.44  \n",
       "4                          NaN 55.66 37.44  \n",
       "...                        ...   ...   ...  \n",
       "2400094  КОНДИЦИОНЕР ДЛЯ БЕЛЬЯ 55.61 37.61  \n",
       "2400095                АБРИКОС 55.61 37.61  \n",
       "2400096       ПАКЕТ ПОДАРОЧНЫЙ 55.61 37.61  \n",
       "2400097             ВИНО ТИХОЕ 55.61 37.61  \n",
       "2400098    НАБОРЫ КОНДИТЕРСКИЕ 55.61 37.61  \n",
       "\n",
       "[2400099 rows x 23 columns]"
      ]
     },
     "execution_count": 37,
     "metadata": {},
     "output_type": "execute_result"
    }
   ],
   "source": [
    "analysis_df = pd.DataFrame()\n",
    "analysis_df = pd.merge(data, abc_SKU, on=['client_NT', 'CLEAN_SKU'], how='left')\n",
    "analysis_df = pd.merge(analysis_df, abc_CATEGORY, on=['client_NT', 'CATEGORY_NT'], how='left')\n",
    "analysis_df = pd.merge(analysis_df, xyz_SKU, on=['client_NT', 'CLEAN_SKU'], how='left')\n",
    "analysis_df = analysis_df[['client_NT', 'text_kktAddress', \n",
    "                            'customer_id', 'dateTime', 'receipt_id', 'CLEAN_SKU', 'price_items_x',\n",
    "                            'abc_price_items', 'abc_quantity_items', 'abc_quantity_items_CAT', 'XYZ', \n",
    "                            'quantity_items', 'sum_items', 'totalSum',\n",
    "                            'RIGHTHOLDER_NT', 'BRAND_NT', 'CLASS_NT', 'GROUP_NT', 'CATEGORY_NT',\n",
    "                            'SUBCATEGORY_NT', 'BASE_NT', 'lat', 'lon']]\n",
    "analysis_df"
   ]
  },
  {
   "cell_type": "code",
   "execution_count": 52,
   "id": "a5f63e64",
   "metadata": {},
   "outputs": [],
   "source": [
    "# Сохраним результаты ABC|XYZ-анализа в pcl файл\n",
    "analysis_df.to_pickle('ABC-XYZ.pcl.gz', compression='gzip')\n",
    "# Можно скачать его https://disk.yandex.ru/d/aVAb0DY98upb3w"
   ]
  },
  {
   "cell_type": "code",
   "execution_count": 53,
   "id": "a54b7c9e",
   "metadata": {},
   "outputs": [],
   "source": [
    "# Если надо загрузить, то можно воспользоваться:\n",
    "# abc_xyz = pd.read_pickle('ABC-XYZ.pcl.gz', compression='gzip')"
   ]
  },
  {
   "cell_type": "markdown",
   "id": "1f39772c",
   "metadata": {},
   "source": [
    "Сформируем csv-файлы по торговым сетям"
   ]
  },
  {
   "cell_type": "code",
   "execution_count": 54,
   "id": "b96d41ae",
   "metadata": {},
   "outputs": [],
   "source": [
    "for trade in trades:\n",
    "    analysis_df[analysis_df['client_NT'] == trade].to_csv(f'ABC-XYZ {trade}.csv', index=False)"
   ]
  },
  {
   "cell_type": "markdown",
   "id": "3480e41e",
   "metadata": {},
   "source": [
    "Сравним цены на одинаковые товары в разных торговых сетях.\n",
    "\n",
    "Составим сводную таблицу по категориям товара (`CATEGORY_NT`). Столбцами будут торговые сети, а в качестве значений будет средняя цена по категории."
   ]
  },
  {
   "cell_type": "code",
   "execution_count": 55,
   "id": "74dbb571",
   "metadata": {},
   "outputs": [
    {
     "data": {
      "application/vnd.microsoft.datawrangler.viewer.v0+json": {
       "columns": [
        {
         "name": "CATEGORY_NT",
         "rawType": "category",
         "type": "unknown"
        },
        {
         "name": "Metro c&c",
         "rawType": "float32",
         "type": "float"
        },
        {
         "name": "Гиперглобус",
         "rawType": "float32",
         "type": "float"
        },
        {
         "name": "Окей",
         "rawType": "float32",
         "type": "float"
        }
       ],
       "conversionMethod": "pd.DataFrame",
       "ref": "7f0e491b-348a-4e7a-a6b2-8dc095f2a12e",
       "rows": [
        [
         "АКСЕССУАРИКА",
         null,
         "389.47632",
         "429.43884"
        ],
        [
         "АКСЕССУАРЫ",
         null,
         "215.03546",
         "228.86983"
        ],
        [
         "АКСЕССУАРЫ ДЛЯ ОБУВИ",
         null,
         "175.50734",
         "210.36234"
        ],
        [
         "АКСЕССУАРЫ ДЛЯ ПРОГУЛКИ И ДРЕССИРОВКИ ЖИВОТНЫХ",
         null,
         "211.44383",
         "258.7835"
        ],
        [
         "АССОРТИ МЯСНОЙ ГАСТРОНОМИИ",
         null,
         "377.2125",
         "151.43484"
        ],
        [
         "АТРИБУТЫ ЛОЯЛЬНОСТИ",
         null,
         "99.97513",
         null
        ],
        [
         "БАГЕТ",
         "105.85",
         "50.790344",
         "27.363605"
        ],
        [
         "БАРАНИНА ОХЛАЖДЕННАЯ",
         null,
         "652.6012",
         "426.53616"
        ],
        [
         "БАРАНОЧНЫЕ ИЗДЕЛИЯ",
         "43.775",
         "55.18721",
         "48.15482"
        ],
        [
         "БАТАРЕЙКИ",
         "259.0",
         "212.60185",
         "204.88074"
        ],
        [
         "БАТОНЧИК",
         null,
         "30.022684",
         "48.503582"
        ],
        [
         "БЕЗАЛКОГОЛЬНОЕ ПИВО",
         null,
         "103.68784",
         "57.666504"
        ],
        [
         "БЕЗРЕЦЕПТУРНАЯ АПТЕКА",
         "356.06332",
         "219.57027",
         "424.05664"
        ],
        [
         "БЕЛЬЕ НИЖНЕЕ ДЛЯ НОВОРОЖДЕННЫХ",
         null,
         "98.5334",
         "127.70787"
        ],
        [
         "БИЖУТЕРИЯ И АКСЕССУАРЫ",
         null,
         "92.20222",
         "180.57683"
        ],
        [
         "БЛЮДА ГРИЛЬ",
         null,
         "443.19058",
         "436.80573"
        ],
        [
         "БЛЮДА ДЛЯ ПЕРЕКУСА",
         "195.8",
         "198.75543",
         "181.43124"
        ],
        [
         "БУЛОЧКИ, ПИРОЖКИ, ВАТРУШКИ FRESH",
         "47.42",
         "62.07217",
         "118.90186"
        ],
        [
         "БУМАГА ОФИСНАЯ И БУМАЖНАЯ ПРОДУКЦИЯ",
         "376.26",
         "221.43791",
         "334.7208"
        ],
        [
         "БЫТОВАЯ ХИМИЯ ДЛЯ ДЕТЕЙ",
         "442.37668",
         "346.02194",
         "242.1593"
        ],
        [
         "ВАННО-БАННЫЕ ПРИНАДЛЕЖНОСТИ",
         "83.99",
         "89.2239",
         "109.07469"
        ],
        [
         "ВАРЕНО-КОПЧЕНЫЕ КОЛБАСЫ",
         null,
         "559.6866",
         "335.19165"
        ],
        [
         "ВАРЕНЫЕ КОЛБАСЫ",
         "347.19336",
         "373.86514",
         "284.6029"
        ],
        [
         "ВАРЕНЬЕ, ДЖЕМ, ПОВИДЛО",
         "299.109",
         "186.66998",
         "128.41728"
        ],
        [
         "ВАТНАЯ И БУМАЖНАЯ ПРОДУКЦИЯ",
         "99.64153",
         "158.05247",
         "139.293"
        ],
        [
         "ВАФЛИ",
         "97.96667",
         "86.368774",
         "62.05521"
        ],
        [
         "ВЕТЧИНА",
         "252.6425",
         "368.82672",
         "226.24106"
        ],
        [
         "ВИНО",
         "872.0784",
         "508.59088",
         "490.19333"
        ],
        [
         "ВИСКИ",
         "3992.7932",
         "1170.386",
         "1370.8856"
        ],
        [
         "ВОДА",
         "79.92768",
         "79.912056",
         "53.957344"
        ],
        [
         "ВОДКА",
         "850.5932",
         "432.4052",
         "403.74927"
        ],
        [
         "ВОДОПОДГОТОВКА",
         null,
         "898.6934",
         "498.0267"
        ],
        [
         "ВОСТОЧНЫЕ СЛАДОСТИ",
         "135.59714",
         "167.86856",
         "81.63321"
        ],
        [
         "ВСЕ ДЛЯ ВЕСЕЛОГО ПРАЗДНИКА",
         null,
         "70.92264",
         "103.201706"
        ],
        [
         "ГАРНИРЫ",
         null,
         "76.49253",
         "269.8875"
        ],
        [
         "ГИГИЕНА ДЕТСКАЯ NEWBORN",
         "228.33",
         "156.90645",
         "88.65651"
        ],
        [
         "ГИГИЕНА И УХОД КОЖИ ТЕЛА",
         "160.26625",
         "184.51901",
         "131.3771"
        ],
        [
         "ГИГИЕНА РТА",
         "201.17532",
         "201.93102",
         "161.09735"
        ],
        [
         "ГОВЯДИНА ЗАМОРОЖЕННАЯ",
         "449.9",
         null,
         "384.75552"
        ],
        [
         "ГОВЯДИНА ОХЛАЖДЕННАЯ",
         "572.685",
         "394.0195",
         "323.14093"
        ],
        [
         "ГОТОВЫЕ БЛЮДА КОНСЕРВИРОВАННЫЕ",
         null,
         "139.5525",
         "102.0999"
        ],
        [
         "ГОТОВЫЙ ЗАВТРАК, МЮСЛИ",
         "184.0",
         "178.6725",
         "115.39333"
        ],
        [
         "ГОТОВЫЙ САЛАТНЫЙ НАБОР",
         "136.75",
         "180.44188",
         "277.57095"
        ],
        [
         "ГРИБНЫЕ КОНСЕРВЫ",
         null,
         "657.4581",
         "238.76741"
        ],
        [
         "ГРИБЫ",
         "162.02144",
         "175.96584",
         "124.82187"
        ],
        [
         "ДЕКОР",
         null,
         "321.72348",
         "154.00508"
        ],
        [
         "ДЕКОРАТИВНАЯ КОСМЕТИКА",
         null,
         "194.5144",
         "132.47504"
        ],
        [
         "ДЕКОРОТИВНЫЙ ТЕКСТИЛЬ",
         null,
         "482.9023",
         "329.6596"
        ],
        [
         "ДЕСЕРТ",
         "31.645",
         "76.2899",
         "43.675068"
        ],
        [
         "ДЕСЕРТЫ РАСТИТЕЛЬНЫЕ",
         "90.9",
         "199.66335",
         "67.38197"
        ]
       ],
       "shape": {
        "columns": 3,
        "rows": 428
       }
      },
      "text/html": [
       "<div>\n",
       "<style scoped>\n",
       "    .dataframe tbody tr th:only-of-type {\n",
       "        vertical-align: middle;\n",
       "    }\n",
       "\n",
       "    .dataframe tbody tr th {\n",
       "        vertical-align: top;\n",
       "    }\n",
       "\n",
       "    .dataframe thead th {\n",
       "        text-align: right;\n",
       "    }\n",
       "</style>\n",
       "<table border=\"1\" class=\"dataframe\">\n",
       "  <thead>\n",
       "    <tr style=\"text-align: right;\">\n",
       "      <th>client_NT</th>\n",
       "      <th>Metro c&amp;c</th>\n",
       "      <th>Гиперглобус</th>\n",
       "      <th>Окей</th>\n",
       "    </tr>\n",
       "    <tr>\n",
       "      <th>CATEGORY_NT</th>\n",
       "      <th></th>\n",
       "      <th></th>\n",
       "      <th></th>\n",
       "    </tr>\n",
       "  </thead>\n",
       "  <tbody>\n",
       "    <tr>\n",
       "      <th>АКСЕССУАРИКА</th>\n",
       "      <td>NaN</td>\n",
       "      <td>389.48</td>\n",
       "      <td>429.44</td>\n",
       "    </tr>\n",
       "    <tr>\n",
       "      <th>АКСЕССУАРЫ</th>\n",
       "      <td>NaN</td>\n",
       "      <td>215.04</td>\n",
       "      <td>228.87</td>\n",
       "    </tr>\n",
       "    <tr>\n",
       "      <th>АКСЕССУАРЫ ДЛЯ ОБУВИ</th>\n",
       "      <td>NaN</td>\n",
       "      <td>175.51</td>\n",
       "      <td>210.36</td>\n",
       "    </tr>\n",
       "    <tr>\n",
       "      <th>АКСЕССУАРЫ ДЛЯ ПРОГУЛКИ И ДРЕССИРОВКИ ЖИВОТНЫХ</th>\n",
       "      <td>NaN</td>\n",
       "      <td>211.44</td>\n",
       "      <td>258.78</td>\n",
       "    </tr>\n",
       "    <tr>\n",
       "      <th>АССОРТИ МЯСНОЙ ГАСТРОНОМИИ</th>\n",
       "      <td>NaN</td>\n",
       "      <td>377.21</td>\n",
       "      <td>151.43</td>\n",
       "    </tr>\n",
       "    <tr>\n",
       "      <th>...</th>\n",
       "      <td>...</td>\n",
       "      <td>...</td>\n",
       "      <td>...</td>\n",
       "    </tr>\n",
       "    <tr>\n",
       "      <th>СИГАРЫ, СИГАРИЛЫ</th>\n",
       "      <td>NaN</td>\n",
       "      <td>200.00</td>\n",
       "      <td>NaN</td>\n",
       "    </tr>\n",
       "    <tr>\n",
       "      <th>НАКЛАДКИ, ВКЛАДЫШИ, ПРОКЛАДКИ ДЛЯ БЕРЕМЕННЫХ И КОРМЯЩИХ</th>\n",
       "      <td>NaN</td>\n",
       "      <td>244.00</td>\n",
       "      <td>NaN</td>\n",
       "    </tr>\n",
       "    <tr>\n",
       "      <th>МЯСО УТКИ ЗАМОРОЖЕННОЕ</th>\n",
       "      <td>NaN</td>\n",
       "      <td>NaN</td>\n",
       "      <td>346.86</td>\n",
       "    </tr>\n",
       "    <tr>\n",
       "      <th>РУБАШКИ, БЛУЗКИ ДЕТСКИЕ</th>\n",
       "      <td>NaN</td>\n",
       "      <td>NaN</td>\n",
       "      <td>193.02</td>\n",
       "    </tr>\n",
       "    <tr>\n",
       "      <th>ПУТЕВОДИТЕЛИ</th>\n",
       "      <td>NaN</td>\n",
       "      <td>NaN</td>\n",
       "      <td>738.32</td>\n",
       "    </tr>\n",
       "  </tbody>\n",
       "</table>\n",
       "<p>428 rows × 3 columns</p>\n",
       "</div>"
      ],
      "text/plain": [
       "client_NT                                           Metro c&c  Гиперглобус  \\\n",
       "CATEGORY_NT                                                                  \n",
       "АКСЕССУАРИКА                                              NaN       389.48   \n",
       "АКСЕССУАРЫ                                                NaN       215.04   \n",
       "АКСЕССУАРЫ ДЛЯ ОБУВИ                                      NaN       175.51   \n",
       "АКСЕССУАРЫ ДЛЯ ПРОГУЛКИ И ДРЕССИРОВКИ ЖИВОТНЫХ            NaN       211.44   \n",
       "АССОРТИ МЯСНОЙ ГАСТРОНОМИИ                                NaN       377.21   \n",
       "...                                                       ...          ...   \n",
       "СИГАРЫ, СИГАРИЛЫ                                          NaN       200.00   \n",
       "НАКЛАДКИ, ВКЛАДЫШИ, ПРОКЛАДКИ ДЛЯ БЕРЕМЕННЫХ И ...        NaN       244.00   \n",
       "МЯСО УТКИ ЗАМОРОЖЕННОЕ                                    NaN          NaN   \n",
       "РУБАШКИ, БЛУЗКИ ДЕТСКИЕ                                   NaN          NaN   \n",
       "ПУТЕВОДИТЕЛИ                                              NaN          NaN   \n",
       "\n",
       "client_NT                                            Окей  \n",
       "CATEGORY_NT                                                \n",
       "АКСЕССУАРИКА                                       429.44  \n",
       "АКСЕССУАРЫ                                         228.87  \n",
       "АКСЕССУАРЫ ДЛЯ ОБУВИ                               210.36  \n",
       "АКСЕССУАРЫ ДЛЯ ПРОГУЛКИ И ДРЕССИРОВКИ ЖИВОТНЫХ     258.78  \n",
       "АССОРТИ МЯСНОЙ ГАСТРОНОМИИ                         151.43  \n",
       "...                                                   ...  \n",
       "СИГАРЫ, СИГАРИЛЫ                                      NaN  \n",
       "НАКЛАДКИ, ВКЛАДЫШИ, ПРОКЛАДКИ ДЛЯ БЕРЕМЕННЫХ И ...    NaN  \n",
       "МЯСО УТКИ ЗАМОРОЖЕННОЕ                             346.86  \n",
       "РУБАШКИ, БЛУЗКИ ДЕТСКИЕ                            193.02  \n",
       "ПУТЕВОДИТЕЛИ                                       738.32  \n",
       "\n",
       "[428 rows x 3 columns]"
      ]
     },
     "execution_count": 55,
     "metadata": {},
     "output_type": "execute_result"
    }
   ],
   "source": [
    "data.pivot_table(\n",
    "    index='CATEGORY_NT',\n",
    "    columns='client_NT',\n",
    "    values='price_items',\n",
    "    aggfunc='mean', \n",
    "    observed=False\n",
    ").sort_index()"
   ]
  },
  {
   "cell_type": "markdown",
   "id": "474ee95e",
   "metadata": {},
   "source": [
    "Так же в этой таблице видны категории товаров, которые присутствуют в одной сети, но отсутствуют в другой"
   ]
  },
  {
   "cell_type": "markdown",
   "id": "c37cb706",
   "metadata": {},
   "source": [
    "Можно посмотреть различие цен на товары, которые присутствуют во всех торговых сетях"
   ]
  },
  {
   "cell_type": "code",
   "execution_count": 56,
   "id": "f3fbb2f9",
   "metadata": {},
   "outputs": [
    {
     "data": {
      "application/vnd.microsoft.datawrangler.viewer.v0+json": {
       "columns": [
        {
         "name": "CATEGORY_NT",
         "rawType": "category",
         "type": "unknown"
        },
        {
         "name": "Metro c&c",
         "rawType": "float32",
         "type": "float"
        },
        {
         "name": "Гиперглобус",
         "rawType": "float32",
         "type": "float"
        },
        {
         "name": "Окей",
         "rawType": "float32",
         "type": "float"
        }
       ],
       "conversionMethod": "pd.DataFrame",
       "ref": "bc9138f8-9204-4806-a96e-e2bf6752b7b9",
       "rows": [
        [
         "БАГЕТ",
         "105.85",
         "50.790344",
         "27.363605"
        ],
        [
         "БАРАНОЧНЫЕ ИЗДЕЛИЯ",
         "43.775",
         "55.18721",
         "48.15482"
        ],
        [
         "БАТАРЕЙКИ",
         "259.0",
         "212.60185",
         "204.88074"
        ],
        [
         "БЕЗРЕЦЕПТУРНАЯ АПТЕКА",
         "356.06332",
         "219.57027",
         "424.05664"
        ],
        [
         "БЛЮДА ДЛЯ ПЕРЕКУСА",
         "195.8",
         "198.75543",
         "181.43124"
        ],
        [
         "БУЛОЧКИ, ПИРОЖКИ, ВАТРУШКИ FRESH",
         "47.42",
         "62.07217",
         "118.90186"
        ],
        [
         "БУМАГА ОФИСНАЯ И БУМАЖНАЯ ПРОДУКЦИЯ",
         "376.26",
         "221.43791",
         "334.7208"
        ],
        [
         "БЫТОВАЯ ХИМИЯ ДЛЯ ДЕТЕЙ",
         "442.37668",
         "346.02194",
         "242.1593"
        ],
        [
         "ВАННО-БАННЫЕ ПРИНАДЛЕЖНОСТИ",
         "83.99",
         "89.2239",
         "109.07469"
        ],
        [
         "ВАРЕНЫЕ КОЛБАСЫ",
         "347.19336",
         "373.86514",
         "284.6029"
        ],
        [
         "ВАРЕНЬЕ, ДЖЕМ, ПОВИДЛО",
         "299.109",
         "186.66998",
         "128.41728"
        ],
        [
         "ВАТНАЯ И БУМАЖНАЯ ПРОДУКЦИЯ",
         "99.64153",
         "158.05247",
         "139.293"
        ],
        [
         "ВАФЛИ",
         "97.96667",
         "86.368774",
         "62.05521"
        ],
        [
         "ВЕТЧИНА",
         "252.6425",
         "368.82672",
         "226.24106"
        ],
        [
         "ВИНО",
         "872.0784",
         "508.59088",
         "490.19333"
        ],
        [
         "ВИСКИ",
         "3992.7932",
         "1170.386",
         "1370.8856"
        ],
        [
         "ВОДА",
         "79.92768",
         "79.912056",
         "53.957344"
        ],
        [
         "ВОДКА",
         "850.5932",
         "432.4052",
         "403.74927"
        ],
        [
         "ВОСТОЧНЫЕ СЛАДОСТИ",
         "135.59714",
         "167.86856",
         "81.63321"
        ],
        [
         "ГИГИЕНА ДЕТСКАЯ NEWBORN",
         "228.33",
         "156.90645",
         "88.65651"
        ],
        [
         "ГИГИЕНА И УХОД КОЖИ ТЕЛА",
         "160.26625",
         "184.51901",
         "131.3771"
        ],
        [
         "ГИГИЕНА РТА",
         "201.17532",
         "201.93102",
         "161.09735"
        ],
        [
         "ГОВЯДИНА ОХЛАЖДЕННАЯ",
         "572.685",
         "394.0195",
         "323.14093"
        ],
        [
         "ГОТОВЫЙ ЗАВТРАК, МЮСЛИ",
         "184.0",
         "178.6725",
         "115.39333"
        ],
        [
         "ГОТОВЫЙ САЛАТНЫЙ НАБОР",
         "136.75",
         "180.44188",
         "277.57095"
        ],
        [
         "ГРИБЫ",
         "162.02144",
         "175.96584",
         "124.82187"
        ],
        [
         "ДЕСЕРТ",
         "31.645",
         "76.2899",
         "43.675068"
        ],
        [
         "ДЕСЕРТЫ РАСТИТЕЛЬНЫЕ",
         "90.9",
         "199.66335",
         "67.38197"
        ],
        [
         "ДЖИН",
         "1214.0",
         "794.3362",
         "626.1594"
        ],
        [
         "ДИЕТИЧЕСКАЯ ЕДА",
         "126.75",
         "171.05606",
         "78.249825"
        ],
        [
         "ДОМАШНИЙ ТЕКСТИЛЬ ПРОЧИЙ",
         "229.0",
         "318.8048",
         "358.7571"
        ],
        [
         "ЕДА БЫСТРОГО ПРИГОТОВЛЕНИЯ",
         "37.254444",
         "96.081245",
         "46.283314"
        ],
        [
         "ЖЕВАТЕЛЬНАЯ РЕЗИНКА",
         "33.763573",
         "54.861023",
         "46.210663"
        ],
        [
         "ЖЕНСКОЕ НИЖНЕЕ БЕЛЬЕ",
         "699.0",
         "360.87064",
         "390.33096"
        ],
        [
         "ЖУРНАЛЫ",
         "89.0",
         "106.058815",
         "85.10493"
        ],
        [
         "ЗАВТРАК",
         "114.0",
         "372.8958",
         "407.155"
        ],
        [
         "ЗАМОРОЖЕННЫЕ БУРГЕРЫ, СЭНДВИЧИ, ПИРОГИ",
         "342.24",
         "50.25",
         "60.995644"
        ],
        [
         "ЗАМОРОЖЕННЫЕ КУЛИНАРНЫЕ БЛЮДА",
         "85.706665",
         "136.23964",
         "97.31874"
        ],
        [
         "ЗАМОРОЖЕННЫЕ ОВОЩИ",
         "299.76",
         "219.23755",
         "148.09726"
        ],
        [
         "ЗАМОРОЖЕННЫЕ ЯГОДЫ",
         "198.095",
         "257.41907",
         "253.26398"
        ],
        [
         "ЗЕЛЕНЬ СВЕЖАЯ",
         "117.146996",
         "85.074524",
         "164.22423"
        ],
        [
         "ЗООКОРМ, ЛАКОМСТВА ДЛЯ КОШЕК",
         "40.30286",
         "40.315334",
         "35.188366"
        ],
        [
         "ЗООКОРМ, ЛАКОМСТВА ДЛЯ МЕЛКИХ ЖИВОТНЫХ",
         "112.0",
         "98.26117",
         "98.332535"
        ],
        [
         "ИГРИСТОЕ ВИНО",
         "727.0053",
         "505.2384",
         "496.2885"
        ],
        [
         "ИКРА КРАСНАЯ",
         "1629.505",
         "883.7221",
         "497.81476"
        ],
        [
         "ЙОГУРТ ДЛЯ ДЕТЕЙ",
         "43.998",
         "46.032017",
         "40.53478"
        ],
        [
         "ЙОГУРТЫ",
         "45.18353",
         "53.153458",
         "50.30273"
        ],
        [
         "КАКАО, ГОРЯЧИЙ ШОКОЛАД",
         "94.945",
         "177.32774",
         "178.06265"
        ],
        [
         "КВАС И КВАСНЫЕ НАПИТКИ",
         "83.60357",
         "84.24354",
         "85.37019"
        ],
        [
         "КИСЕЛЬ, МОРС",
         "140.72",
         "100.28289",
         "81.88783"
        ]
       ],
       "shape": {
        "columns": 3,
        "rows": 199
       }
      },
      "text/html": [
       "<div>\n",
       "<style scoped>\n",
       "    .dataframe tbody tr th:only-of-type {\n",
       "        vertical-align: middle;\n",
       "    }\n",
       "\n",
       "    .dataframe tbody tr th {\n",
       "        vertical-align: top;\n",
       "    }\n",
       "\n",
       "    .dataframe thead th {\n",
       "        text-align: right;\n",
       "    }\n",
       "</style>\n",
       "<table border=\"1\" class=\"dataframe\">\n",
       "  <thead>\n",
       "    <tr style=\"text-align: right;\">\n",
       "      <th>client_NT</th>\n",
       "      <th>Metro c&amp;c</th>\n",
       "      <th>Гиперглобус</th>\n",
       "      <th>Окей</th>\n",
       "    </tr>\n",
       "    <tr>\n",
       "      <th>CATEGORY_NT</th>\n",
       "      <th></th>\n",
       "      <th></th>\n",
       "      <th></th>\n",
       "    </tr>\n",
       "  </thead>\n",
       "  <tbody>\n",
       "    <tr>\n",
       "      <th>БАГЕТ</th>\n",
       "      <td>105.85</td>\n",
       "      <td>50.79</td>\n",
       "      <td>27.36</td>\n",
       "    </tr>\n",
       "    <tr>\n",
       "      <th>БАРАНОЧНЫЕ ИЗДЕЛИЯ</th>\n",
       "      <td>43.78</td>\n",
       "      <td>55.19</td>\n",
       "      <td>48.15</td>\n",
       "    </tr>\n",
       "    <tr>\n",
       "      <th>БАТАРЕЙКИ</th>\n",
       "      <td>259.00</td>\n",
       "      <td>212.60</td>\n",
       "      <td>204.88</td>\n",
       "    </tr>\n",
       "    <tr>\n",
       "      <th>БЕЗРЕЦЕПТУРНАЯ АПТЕКА</th>\n",
       "      <td>356.06</td>\n",
       "      <td>219.57</td>\n",
       "      <td>424.06</td>\n",
       "    </tr>\n",
       "    <tr>\n",
       "      <th>БЛЮДА ДЛЯ ПЕРЕКУСА</th>\n",
       "      <td>195.80</td>\n",
       "      <td>198.76</td>\n",
       "      <td>181.43</td>\n",
       "    </tr>\n",
       "    <tr>\n",
       "      <th>...</th>\n",
       "      <td>...</td>\n",
       "      <td>...</td>\n",
       "      <td>...</td>\n",
       "    </tr>\n",
       "    <tr>\n",
       "      <th>ШОКОЛАДНЫЕ ЯЙЦА</th>\n",
       "      <td>88.26</td>\n",
       "      <td>108.87</td>\n",
       "      <td>93.64</td>\n",
       "    </tr>\n",
       "    <tr>\n",
       "      <th>ЯГОДЫ</th>\n",
       "      <td>204.84</td>\n",
       "      <td>302.72</td>\n",
       "      <td>194.01</td>\n",
       "    </tr>\n",
       "    <tr>\n",
       "      <th>ЯЙЦА ПРОЧИЕ</th>\n",
       "      <td>349.07</td>\n",
       "      <td>163.12</td>\n",
       "      <td>111.38</td>\n",
       "    </tr>\n",
       "    <tr>\n",
       "      <th>ТОВАРЫ ДЛЯ ЗАГОТОВОК</th>\n",
       "      <td>153.00</td>\n",
       "      <td>277.44</td>\n",
       "      <td>161.19</td>\n",
       "    </tr>\n",
       "    <tr>\n",
       "      <th>БРЕНДИ</th>\n",
       "      <td>999.00</td>\n",
       "      <td>587.19</td>\n",
       "      <td>738.97</td>\n",
       "    </tr>\n",
       "  </tbody>\n",
       "</table>\n",
       "<p>199 rows × 3 columns</p>\n",
       "</div>"
      ],
      "text/plain": [
       "client_NT              Metro c&c  Гиперглобус   Окей\n",
       "CATEGORY_NT                                         \n",
       "БАГЕТ                     105.85        50.79  27.36\n",
       "БАРАНОЧНЫЕ ИЗДЕЛИЯ         43.78        55.19  48.15\n",
       "БАТАРЕЙКИ                 259.00       212.60 204.88\n",
       "БЕЗРЕЦЕПТУРНАЯ АПТЕКА     356.06       219.57 424.06\n",
       "БЛЮДА ДЛЯ ПЕРЕКУСА        195.80       198.76 181.43\n",
       "...                          ...          ...    ...\n",
       "ШОКОЛАДНЫЕ ЯЙЦА            88.26       108.87  93.64\n",
       "ЯГОДЫ                     204.84       302.72 194.01\n",
       "ЯЙЦА ПРОЧИЕ               349.07       163.12 111.38\n",
       "ТОВАРЫ ДЛЯ ЗАГОТОВОК      153.00       277.44 161.19\n",
       "БРЕНДИ                    999.00       587.19 738.97\n",
       "\n",
       "[199 rows x 3 columns]"
      ]
     },
     "execution_count": 56,
     "metadata": {},
     "output_type": "execute_result"
    }
   ],
   "source": [
    "data.pivot_table(\n",
    "    index='CATEGORY_NT',\n",
    "    columns='client_NT',\n",
    "    values='price_items',\n",
    "    aggfunc='mean', \n",
    "    observed=False\n",
    ").sort_index().dropna()"
   ]
  },
  {
   "cell_type": "code",
   "execution_count": 57,
   "id": "9b3e769b",
   "metadata": {},
   "outputs": [
    {
     "data": {
      "application/vnd.microsoft.datawrangler.viewer.v0+json": {
       "columns": [
        {
         "name": "index",
         "rawType": "int64",
         "type": "integer"
        },
        {
         "name": "index",
         "rawType": "int64",
         "type": "integer"
        },
        {
         "name": "client_NT",
         "rawType": "category",
         "type": "unknown"
        },
        {
         "name": "text_kktAddress",
         "rawType": "category",
         "type": "unknown"
        },
        {
         "name": "customer_id",
         "rawType": "object",
         "type": "unknown"
        },
        {
         "name": "dateTime",
         "rawType": "object",
         "type": "string"
        },
        {
         "name": "receipt_id",
         "rawType": "object",
         "type": "string"
        },
        {
         "name": "CLEAN_SKU",
         "rawType": "object",
         "type": "unknown"
        },
        {
         "name": "price_items",
         "rawType": "float32",
         "type": "float"
        },
        {
         "name": "quantity_items",
         "rawType": "float32",
         "type": "float"
        },
        {
         "name": "sum_items",
         "rawType": "float32",
         "type": "float"
        },
        {
         "name": "totalSum",
         "rawType": "float32",
         "type": "float"
        },
        {
         "name": "RIGHTHOLDER_NT",
         "rawType": "object",
         "type": "unknown"
        },
        {
         "name": "BRAND_NT",
         "rawType": "category",
         "type": "unknown"
        },
        {
         "name": "CLASS_NT",
         "rawType": "category",
         "type": "unknown"
        },
        {
         "name": "GROUP_NT",
         "rawType": "category",
         "type": "unknown"
        },
        {
         "name": "CATEGORY_NT",
         "rawType": "category",
         "type": "unknown"
        },
        {
         "name": "SUBCATEGORY_NT",
         "rawType": "category",
         "type": "unknown"
        },
        {
         "name": "BASE_NT",
         "rawType": "category",
         "type": "unknown"
        },
        {
         "name": "lat",
         "rawType": "float32",
         "type": "float"
        },
        {
         "name": "lon",
         "rawType": "float32",
         "type": "float"
        },
        {
         "name": "hour",
         "rawType": "int32",
         "type": "integer"
        },
        {
         "name": "weekday",
         "rawType": "object",
         "type": "string"
        }
       ],
       "conversionMethod": "pd.DataFrame",
       "ref": "2707a62b-ba9e-41eb-8a4b-2622f885ac7b",
       "rows": [
        [
         "0",
         "0",
         "Окей",
         "г Москва, ул Озёрная, д 50",
         null,
         "26.06.2022 13:51:00",
         "9960440300975081:17128",
         "Бананы кг",
         "70.38",
         "0.594",
         "41.81",
         "2135.82",
         null,
         null,
         "ФРОВ",
         "СВЕЖИЕ ФРУКТЫ",
         "ФРУКТЫ ОСНОВНЫЕ",
         "БАНАНЫ",
         "БАНАН",
         "55.66472",
         "37.437218",
         "13",
         "7.Воскресенье"
        ],
        [
         "1",
         "1",
         "Окей",
         "г Москва, ул Озёрная, д 50",
         null,
         "26.06.2022 13:46:00",
         "9960440300975081:17126",
         "Зажарка Maggi 60г",
         "33.42",
         "1.0",
         "33.42",
         "3920.33",
         "NESTLE",
         "MAGGI",
         "БАКЛ",
         "БАКАЛЕЯ СЫПУЧАЯ",
         "ПРИПРАВЫ ДЛЯ ПЕРВЫХ И ВТОРЫХ БЛЮД",
         "ПРИПРАВА ДЛЯ ЖАРКОЕ",
         "ПРИПРАВА ДЛЯ ЖАРКОЕ",
         "55.66472",
         "37.437218",
         "13",
         "7.Воскресенье"
        ],
        [
         "2",
         "2",
         "Окей",
         "г Москва, ул Озёрная, д 50",
         null,
         "01.05.2022 13:26:00",
         "9960440300975081:11611",
         "Бананы кг",
         "96.24",
         "0.91",
         "87.58",
         "2387.77",
         null,
         null,
         "ФРОВ",
         "СВЕЖИЕ ФРУКТЫ",
         "ФРУКТЫ ОСНОВНЫЕ",
         "БАНАНЫ",
         "БАНАН",
         "55.66472",
         "37.437218",
         "13",
         "7.Воскресенье"
        ],
        [
         "3",
         "3",
         "Окей",
         "г Москва, ул Озёрная, д 50",
         null,
         "01.05.2022 13:26:00",
         "9960440300975081:11611",
         "Яблоки кг",
         "87.49",
         "1.3",
         "113.74",
         "2387.77",
         null,
         null,
         "ФРОВ",
         "СВЕЖИЕ ФРУКТЫ",
         "ФРУКТЫ ОСНОВНЫЕ",
         "ЯБЛОКИ",
         "ЯБЛОКО",
         "55.66472",
         "37.437218",
         "13",
         "7.Воскресенье"
        ],
        [
         "4",
         "4",
         "Окей",
         "г Москва, ул Озёрная, д 50",
         null,
         "04.06.2022 18:19:00",
         "9960440301010969:5365",
         "Апельсины кг",
         "109.99",
         "1.692",
         "186.1",
         "13641.6",
         null,
         null,
         null,
         null,
         null,
         null,
         null,
         "55.66472",
         "37.437218",
         "18",
         "6.Суббота"
        ],
        [
         "5",
         "5",
         "Окей",
         "г Москва, ул Озёрная, д 50",
         null,
         "18.06.2022 15:17:00",
         "9960440300975081:16623",
         "Кабачки кг",
         "84.14",
         "0.41",
         "34.5",
         "1756.29",
         null,
         null,
         "ФРОВ",
         "СВЕЖИЕ ОВОЩИ",
         "ОВОЩИ РАЗНЫЕ",
         "КАБАЧОК",
         "КАБАЧОК",
         "55.66472",
         "37.437218",
         "15",
         "6.Суббота"
        ],
        [
         "6",
         "6",
         "Окей",
         "г Москва, ул Озёрная, д 50",
         null,
         "14.06.2022 17:19:00",
         "9960440300975081:15955",
         "Лимоны кг",
         "131.98",
         "0.64",
         "84.47",
         "1840.85",
         null,
         null,
         "ФРОВ",
         "СВЕЖИЕ ФРУКТЫ",
         "ЦИТРУСОВЫЕ",
         "ЛИМОН",
         "ЛИМОН",
         "55.66472",
         "37.437218",
         "17",
         "2.Вторник"
        ],
        [
         "7",
         "7",
         "Окей",
         "г Москва, пр-кт Мира, д 211 к 2",
         "a2af9d68659f6a52f834996960c9dd1e",
         "28.06.2022 14:24:00",
         "9960440300976023:102078",
         "БЗМЖ Творог Кубанский молочник со сметаной 160г",
         "89.99",
         "1.0",
         "89.99",
         "229.97",
         "ДОМИНАНТ ГК",
         "КУБАНСКИЙ МОЛОЧНИК",
         "ПРОЧ",
         "ТОВАРЫ ДЛЯ ДОМА",
         "ПОСУДА",
         "ПИТЬЕВЫЕ ПРЕДМЕТЫ",
         "МОЛОЧНИК",
         "55.845856",
         "37.662094",
         "14",
         "2.Вторник"
        ],
        [
         "8",
         "8",
         "Окей",
         "г Москва, пр-кт Мира, д 211 к 2",
         "a2af9d68659f6a52f834996960c9dd1e",
         "28.06.2022 14:24:00",
         "9960440300976023:102078",
         "БЗМЖ Творог Кубанский молочник с клуб-земл вареньем 160г",
         "89.99",
         "1.0",
         "89.99",
         "229.97",
         "ДОМИНАНТ ГК",
         "КУБАНСКИЙ МОЛОЧНИК",
         "ПРОЧ",
         "ТОВАРЫ ДЛЯ ДОМА",
         "ПОСУДА",
         "ПИТЬЕВЫЕ ПРЕДМЕТЫ",
         "МОЛОЧНИК",
         "55.845856",
         "37.662094",
         "14",
         "2.Вторник"
        ],
        [
         "9",
         "9",
         "Окей",
         "г Москва, пр-кт Мира, д 211 к 2",
         "a2af9d68659f6a52f834996960c9dd1e",
         "28.06.2022 14:24:00",
         "9960440300976023:102078",
         "Булочка Даллас с творогом 100г",
         "49.99",
         "1.0",
         "49.99",
         "229.97",
         null,
         null,
         "КНХЛ",
         "ХБИ",
         "БУЛОЧКИ, ПИРОЖКИ, ВАТРУШКИ FRESH",
         "БУЛОЧКА",
         "БУЛОЧКА",
         "55.845856",
         "37.662094",
         "14",
         "2.Вторник"
        ],
        [
         "10",
         "10",
         "Гиперглобус",
         "г Москва, ш Новоухтомское, д 2А",
         "6f26c367e808700a3fb1bb5b74bf603f",
         "03.06.2022 16:46:00",
         "9960440301164246:35298",
         "КОЛБ ДОКТОРСКАЯ СИН",
         "799.9",
         "0.328",
         "262.37",
         "2381.29",
         null,
         null,
         "МСНГ",
         "МЯСНАЯ ГАСТРОНОМИЯ",
         "ВАРЕНЫЕ КОЛБАСЫ",
         "ВАРЕНЫЕ КОЛБАСЫ",
         "КОЛБАСА ВАРЕНАЯ",
         "55.712864",
         "37.84542",
         "16",
         "5.Пятница"
        ],
        [
         "11",
         "11",
         "Гиперглобус",
         "г Москва, ш Новоухтомское, д 2А",
         "6f26c367e808700a3fb1bb5b74bf603f",
         "03.06.2022 16:46:00",
         "9960440301164246:35298",
         "ПАКЕТ-СУМКА ПСД ЛОГО",
         "13.99",
         "1.0",
         "13.99",
         "2381.29",
         null,
         null,
         "ПКЕТ",
         "ПАКЕТ НА КАССЕ",
         "ПАКЕТЫ, СУМКИ ПРИКАССОВОЙ ЗОНЫ",
         "ПАКЕТ ПРИКАССОВОЙ ЗОНЫ",
         "ПАКЕТ НА КАССЕ",
         "55.712864",
         "37.84542",
         "16",
         "5.Пятница"
        ],
        [
         "12",
         "12",
         "Гиперглобус",
         "г Москва, ш Новоухтомское, д 2А",
         "6f26c367e808700a3fb1bb5b74bf603f",
         "03.06.2022 16:46:00",
         "9960440301164246:35298",
         "ПАКЕТ-МАЙКА ГЛОБУС",
         "6.99",
         "1.0",
         "6.99",
         "2381.29",
         "СТМ GLOBUS",
         "GLOBUS(СТМ GLOBUS)",
         "ПКЕТ",
         "ПАКЕТ НА КАССЕ",
         "ПАКЕТЫ, СУМКИ ПРИКАССОВОЙ ЗОНЫ",
         "ПАКЕТ ПРИКАССОВОЙ ЗОНЫ",
         "ПАКЕТ НА КАССЕ",
         "55.712864",
         "37.84542",
         "16",
         "5.Пятница"
        ],
        [
         "13",
         "13",
         "Гиперглобус",
         "г Москва, ш Новоухтомское, д 2А",
         "6f26c367e808700a3fb1bb5b74bf603f",
         "03.06.2022 16:46:00",
         "9960440301164246:35298",
         "САЛФ РЛ В КОР 120ШТ",
         "87.99",
         "1.0",
         "87.99",
         "2381.29",
         null,
         null,
         null,
         null,
         null,
         null,
         null,
         "55.712864",
         "37.84542",
         "16",
         "5.Пятница"
        ],
        [
         "14",
         "14",
         "Гиперглобус",
         "г Москва, ш Новоухтомское, д 2А",
         "6f26c367e808700a3fb1bb5b74bf603f",
         "03.06.2022 16:46:00",
         "9960440301164246:35298",
         "ВОДА СЕНЕЖСК Б/Г 3Л",
         "59.99",
         "2.0",
         "119.98",
         "2381.29",
         null,
         null,
         "НПТК",
         "Б/А НАПИТКИ",
         "ВОДА",
         "ВОДА ПИТЬЕВАЯ",
         "ВОДА НЕГАЗИРОВАННАЯ",
         "55.712864",
         "37.84542",
         "16",
         "5.Пятница"
        ],
        [
         "15",
         "15",
         "Гиперглобус",
         "г Москва, ш Новоухтомское, д 2А",
         "6f26c367e808700a3fb1bb5b74bf603f",
         "03.06.2022 16:46:00",
         "9960440301164246:35298",
         "НАПИТОК САЯНЫ 2Л",
         "118.99",
         "1.0",
         "118.99",
         "2381.29",
         null,
         null,
         "НПТК",
         "Б/А НАПИТКИ",
         "СЛАДКИЕ ГАЗИРОВАННЫЕ НАПИТКИ",
         "ЛИМОНАД",
         "ЛИМОНАД/СЛАД.ГАЗИРОВК",
         "55.712864",
         "37.84542",
         "16",
         "5.Пятница"
        ],
        [
         "16",
         "16",
         "Гиперглобус",
         "г Москва, ш Новоухтомское, д 2А",
         "6f26c367e808700a3fb1bb5b74bf603f",
         "03.06.2022 16:46:00",
         "9960440301164246:35298",
         "ПЯТНОВЫВ.100 ПЯТЕН",
         "259.99",
         "1.0",
         "259.99",
         "2381.29",
         null,
         null,
         null,
         null,
         null,
         null,
         null,
         "55.712864",
         "37.84542",
         "16",
         "5.Пятница"
        ],
        [
         "17",
         "17",
         "Гиперглобус",
         "г Москва, ш Новоухтомское, д 2А",
         "6f26c367e808700a3fb1bb5b74bf603f",
         "03.06.2022 16:46:00",
         "9960440301164246:35298",
         "СЫР ЛАМБЕР ГАУДА180Г",
         "212.99",
         "1.0",
         "212.99",
         "2381.29",
         "PEPSICO",
         "ЛАМБЕР",
         "СЫРЫ",
         "СЫРЫ",
         "ТВЕРДЫЕ И ПОЛУТВЕРДЫЕ",
         "ГАУДА",
         "ГАУДА",
         "55.712864",
         "37.84542",
         "16",
         "5.Пятница"
        ],
        [
         "18",
         "18",
         "Гиперглобус",
         "г Москва, ш Новоухтомское, д 2А",
         "6f26c367e808700a3fb1bb5b74bf603f",
         "03.06.2022 16:46:00",
         "9960440301164246:35298",
         "ПРЯН СГУЩ 140Г",
         "66.99",
         "1.0",
         "66.99",
         "2381.29",
         null,
         null,
         null,
         null,
         null,
         null,
         null,
         "55.712864",
         "37.84542",
         "16",
         "5.Пятница"
        ],
        [
         "19",
         "19",
         "Гиперглобус",
         "г Москва, ш Новоухтомское, д 2А",
         "6f26c367e808700a3fb1bb5b74bf603f",
         "03.06.2022 16:46:00",
         "9960440301164246:35298",
         "ПЕЧЕНЬЕ ОРЕО 228Г",
         "142.99",
         "1.0",
         "142.99",
         "2381.29",
         "MONDELEZ",
         "OREO",
         "КНХЛ",
         "КОНДИТЕРКА",
         "ПЕЧЕНЬЕ",
         "ПЕЧЕНЬЕ-СЭНДВИЧ",
         "ПЕЧЕНЬЕ-СЭНДВИЧ",
         "55.712864",
         "37.84542",
         "16",
         "5.Пятница"
        ],
        [
         "20",
         "20",
         "Гиперглобус",
         "г Москва, ш Новоухтомское, д 2А",
         "6f26c367e808700a3fb1bb5b74bf603f",
         "03.06.2022 16:46:00",
         "9960440301164246:35298",
         "СМЕТ ПРОСТОКВ20%300Г",
         "98.99",
         "1.0",
         "98.99",
         "2381.29",
         null,
         null,
         "МЛДП",
         "МОЛОЧНАЯ ПРОДУКЦИЯ",
         "СМЕТАНА",
         "СМЕТАНА",
         "СМЕТАНА",
         "55.712864",
         "37.84542",
         "16",
         "5.Пятница"
        ],
        [
         "21",
         "21",
         "Гиперглобус",
         "г Москва, ш Новоухтомское, д 2А",
         "6f26c367e808700a3fb1bb5b74bf603f",
         "03.06.2022 16:46:00",
         "9960440301164246:35298",
         "СОСИСКИ ДОКТ. 440Г",
         "309.99",
         "1.0",
         "309.99",
         "2381.29",
         null,
         null,
         "МСНГ",
         "МЯСНАЯ ГАСТРОНОМИЯ",
         "СОСИСКИ",
         "СОСИСКИ",
         "СОСИСКИ",
         "55.712864",
         "37.84542",
         "16",
         "5.Пятница"
        ],
        [
         "22",
         "22",
         "Гиперглобус",
         "г Москва, ш Новоухтомское, д 2А",
         "6f26c367e808700a3fb1bb5b74bf603f",
         "03.06.2022 16:46:00",
         "9960440301164246:35298",
         "КОЛБ ЗЕРНИСТАЯ С/К",
         "2085.9",
         "0.06",
         "125.15",
         "2381.29",
         null,
         null,
         "МСНГ",
         "МЯСНАЯ ГАСТРОНОМИЯ",
         "СЫРОКОПЧЕНЫЕ КОЛБАСЫ",
         "СЫРОКОПЧЕНЫЕ КОЛБАСЫ",
         "СЫРОКОПЧЕНЫЕ КОЛБАСЫ",
         "55.712864",
         "37.84542",
         "16",
         "5.Пятница"
        ],
        [
         "23",
         "23",
         "Гиперглобус",
         "г Москва, ш Новоухтомское, д 2А",
         "6f26c367e808700a3fb1bb5b74bf603f",
         "03.06.2022 16:46:00",
         "9960440301164246:35298",
         "БАТОН НАРЕЗ НАР 400Г",
         "42.99",
         "1.0",
         "42.99",
         "2381.29",
         null,
         null,
         null,
         null,
         null,
         null,
         null,
         "55.712864",
         "37.84542",
         "16",
         "5.Пятница"
        ],
        [
         "24",
         "24",
         "Гиперглобус",
         "г Москва, ш Новоухтомское, д 2А",
         "6f26c367e808700a3fb1bb5b74bf603f",
         "03.06.2022 16:46:00",
         "9960440301164246:35298",
         "СЛАД КУКУР КУЗЯ140Г",
         "61.99",
         "1.0",
         "61.99",
         "2381.29",
         null,
         null,
         null,
         null,
         null,
         null,
         null,
         "55.712864",
         "37.84542",
         "16",
         "5.Пятница"
        ],
        [
         "25",
         "25",
         "Гиперглобус",
         "г Москва, ш Новоухтомское, д 2А",
         "6f26c367e808700a3fb1bb5b74bf603f",
         "03.06.2022 16:46:00",
         "9960440301164246:35298",
         "СТАКАН 200МЛ 100ШТ",
         "154.99",
         "1.0",
         "154.99",
         "2381.29",
         null,
         null,
         null,
         null,
         null,
         null,
         null,
         "55.712864",
         "37.84542",
         "16",
         "5.Пятница"
        ],
        [
         "26",
         "26",
         "Гиперглобус",
         "г Москва, ш Новоухтомское, д 2А",
         "6f26c367e808700a3fb1bb5b74bf603f",
         "03.06.2022 16:46:00",
         "9960440301164246:35298",
         "ЧАШКА КОФЕЙНАЯ",
         "39.99",
         "1.0",
         "39.99",
         "2381.29",
         null,
         null,
         "ПРОЧ",
         "ТОВАРЫ ДЛЯ ДОМА",
         "ПОСУДА",
         "ПИТЬЕВЫЕ ПРЕДМЕТЫ",
         "ЧАШКА",
         "55.712864",
         "37.84542",
         "16",
         "5.Пятница"
        ],
        [
         "27",
         "27",
         "Гиперглобус",
         "г Москва, ш Новоухтомское, д 2А",
         "6f26c367e808700a3fb1bb5b74bf603f",
         "03.06.2022 16:46:00",
         "9960440301164246:35298",
         "Н-Р ВИЛОК 6 ШТ",
         "33.99",
         "2.0",
         "67.98",
         "2381.29",
         null,
         null,
         "ПРОЧ",
         "ТОВАРЫ ДЛЯ ДОМА",
         "ПОСУДА",
         "СТОЛОВЫЕ ПРИБОРЫ",
         "ВИЛКА",
         "55.712864",
         "37.84542",
         "16",
         "5.Пятница"
        ],
        [
         "28",
         "28",
         "Гиперглобус",
         "г Москва, ш Новоухтомское, д 2А",
         "6f26c367e808700a3fb1bb5b74bf603f",
         "03.06.2022 16:46:00",
         "9960440301164246:35298",
         "ВИЛКА СТОЛ ВАШ ВЫБОР",
         "15.99",
         "2.0",
         "31.98",
         "2381.29",
         "NO NAME-СТМ",
         "ВАШ ВЫБОР",
         "ПРОЧ",
         "ТОВАРЫ ДЛЯ ДОМА",
         "ПОСУДА",
         "СТОЛОВЫЕ ПРИБОРЫ",
         "ВИЛКА",
         "55.712864",
         "37.84542",
         "16",
         "5.Пятница"
        ],
        [
         "29",
         "29",
         "Гиперглобус",
         "г Москва, ш Новоухтомское, д 2А",
         "6f26c367e808700a3fb1bb5b74bf603f",
         "03.06.2022 16:46:00",
         "9960440301164246:35298",
         "Н-Р ЛОЖЕК 6 ШТ",
         "33.99",
         "1.0",
         "33.99",
         "2381.29",
         null,
         null,
         null,
         null,
         null,
         null,
         null,
         "55.712864",
         "37.84542",
         "16",
         "5.Пятница"
        ],
        [
         "30",
         "30",
         "Гиперглобус",
         "г Москва, ш Новоухтомское, д 2А",
         "6f26c367e808700a3fb1bb5b74bf603f",
         "03.06.2022 16:46:00",
         "9960440301164246:35298",
         "ТАРЕЛКА СУП БЕЛ10ШТ",
         "59.99",
         "2.0",
         "119.98",
         "2381.29",
         null,
         null,
         null,
         null,
         null,
         null,
         null,
         "55.712864",
         "37.84542",
         "16",
         "5.Пятница"
        ],
        [
         "31",
         "31",
         "Гиперглобус",
         "г Москва, ш Новоухтомское, д 2А",
         "6f26c367e808700a3fb1bb5b74bf603f",
         "24.06.2022 21:05:00",
         "9960440301166847:31695",
         "КОЛБ.ДОКТОРСК.190Г",
         "114.99",
         "1.0",
         "114.99",
         "1249.28",
         null,
         null,
         "МСНГ",
         "МЯСНАЯ ГАСТРОНОМИЯ",
         "ВАРЕНЫЕ КОЛБАСЫ",
         "ВАРЕНЫЕ КОЛБАСЫ",
         "КОЛБАСА ВАРЕНАЯ",
         "55.712864",
         "37.84542",
         "21",
         "5.Пятница"
        ],
        [
         "32",
         "32",
         "Гиперглобус",
         "г Москва, ш Новоухтомское, д 2А",
         "6f26c367e808700a3fb1bb5b74bf603f",
         "24.06.2022 21:05:00",
         "9960440301166847:31695",
         "ПАКЕТ КАССА ГЛ САМ",
         "6.99",
         "1.0",
         "6.99",
         "1249.28",
         null,
         null,
         null,
         null,
         null,
         null,
         null,
         "55.712864",
         "37.84542",
         "21",
         "5.Пятница"
        ],
        [
         "33",
         "33",
         "Гиперглобус",
         "г Москва, ш Новоухтомское, д 2А",
         "6f26c367e808700a3fb1bb5b74bf603f",
         "24.06.2022 21:05:00",
         "9960440301166847:31695",
         "КОРНИШОНЫ ВЫБОРЖ300",
         "129.99",
         "2.0",
         "259.98",
         "1249.28",
         "не определено",
         "ВЫБОРЖЕЦ",
         null,
         null,
         null,
         null,
         null,
         "55.712864",
         "37.84542",
         "21",
         "5.Пятница"
        ],
        [
         "34",
         "34",
         "Гиперглобус",
         "г Москва, ш Новоухтомское, д 2А",
         "6f26c367e808700a3fb1bb5b74bf603f",
         "24.06.2022 21:05:00",
         "9960440301166847:31695",
         "ВЕТЧИНА Д/ТОСТ.120Г",
         "122.99",
         "1.0",
         "122.99",
         "1249.28",
         null,
         null,
         "МСНГ",
         "МЯСНАЯ ГАСТРОНОМИЯ",
         "ВЕТЧИНА",
         "ВЕТЧИНА ИЗ МЯСА ЖИВОТНЫХ",
         "ВЕТЧИНА ИЗ МЯСА ЖИВОТНЫХ",
         "55.712864",
         "37.84542",
         "21",
         "5.Пятница"
        ],
        [
         "35",
         "35",
         "Гиперглобус",
         "г Москва, ш Новоухтомское, д 2А",
         "6f26c367e808700a3fb1bb5b74bf603f",
         "24.06.2022 21:05:00",
         "9960440301166847:31695",
         "РИС КАРАЧИХА 900Г",
         "99.99",
         "1.0",
         "99.99",
         "1249.28",
         null,
         null,
         null,
         null,
         null,
         null,
         null,
         "55.712864",
         "37.84542",
         "21",
         "5.Пятница"
        ],
        [
         "36",
         "36",
         "Гиперглобус",
         "г Москва, ш Новоухтомское, д 2А",
         "6f26c367e808700a3fb1bb5b74bf603f",
         "24.06.2022 21:05:00",
         "9960440301166847:31695",
         "АБРИКОСЫ ШАЛАХ ВЕС",
         "299.99",
         "0.488",
         "146.4",
         "1249.28",
         null,
         null,
         "ФРОВ",
         "СВЕЖИЕ ФРУКТЫ",
         "ФРУКТЫ ОСНОВНЫЕ",
         "АБРИКОС",
         "АБРИКОС",
         "55.712864",
         "37.84542",
         "21",
         "5.Пятница"
        ],
        [
         "37",
         "37",
         "Гиперглобус",
         "г Москва, ш Новоухтомское, д 2А",
         "6f26c367e808700a3fb1bb5b74bf603f",
         "24.06.2022 21:05:00",
         "9960440301166847:31695",
         "ХЛЕБ КЛЮКВ. 300Г",
         "82.99",
         "1.0",
         "82.99",
         "1249.28",
         null,
         null,
         null,
         null,
         null,
         null,
         null,
         "55.712864",
         "37.84542",
         "21",
         "5.Пятница"
        ],
        [
         "38",
         "38",
         "Гиперглобус",
         "г Москва, ш Новоухтомское, д 2А",
         "6f26c367e808700a3fb1bb5b74bf603f",
         "24.06.2022 21:05:00",
         "9960440301166847:31695",
         "ЛИМОНАД КРЫМ 2Л",
         "99.99",
         "1.0",
         "99.99",
         "1249.28",
         null,
         null,
         "НПТК",
         "Б/А НАПИТКИ",
         "СЛАДКИЕ ГАЗИРОВАННЫЕ НАПИТКИ",
         "ЛИМОНАД",
         "ЛИМОНАД/СЛАД.ГАЗИРОВК",
         "55.712864",
         "37.84542",
         "21",
         "5.Пятница"
        ],
        [
         "39",
         "39",
         "Гиперглобус",
         "г Москва, ш Новоухтомское, д 2А",
         "6f26c367e808700a3fb1bb5b74bf603f",
         "24.06.2022 21:05:00",
         "9960440301166847:31695",
         "НАП ИЗ ЧЕРН КРЮШ 2Л",
         "99.99",
         "1.0",
         "99.99",
         "1249.28",
         null,
         null,
         "НПТК",
         "Б/А НАПИТКИ",
         "СЛАДКИЕ ГАЗИРОВАННЫЕ НАПИТКИ",
         "ЛИМОНАД",
         "ЛИМОНАД/СЛАД.ГАЗИРОВК",
         "55.712864",
         "37.84542",
         "21",
         "5.Пятница"
        ],
        [
         "40",
         "40",
         "Гиперглобус",
         "г Москва, ш Новоухтомское, д 2А",
         "6f26c367e808700a3fb1bb5b74bf603f",
         "24.06.2022 21:05:00",
         "9960440301166847:31695",
         "НАП БУРАТИНО ПЭТ 0,5",
         "29.99",
         "1.0",
         "29.99",
         "1249.28",
         null,
         null,
         "НПТК",
         "Б/А НАПИТКИ",
         "СЛАДКИЕ ГАЗИРОВАННЫЕ НАПИТКИ",
         "ЛИМОНАД",
         "ЛИМОНАД/СЛАД.ГАЗИРОВК",
         "55.712864",
         "37.84542",
         "21",
         "5.Пятница"
        ],
        [
         "41",
         "41",
         "Гиперглобус",
         "г Москва, ш Новоухтомское, д 2А",
         "6f26c367e808700a3fb1bb5b74bf603f",
         "24.06.2022 21:05:00",
         "9960440301166847:31695",
         "СТАКАН 200МЛ 100ШТ",
         "154.99",
         "1.0",
         "154.99",
         "1249.28",
         null,
         null,
         null,
         null,
         null,
         null,
         null,
         "55.712864",
         "37.84542",
         "21",
         "5.Пятница"
        ],
        [
         "42",
         "42",
         "Гиперглобус",
         "г Москва, ш Новоухтомское, д 2А",
         "6f26c367e808700a3fb1bb5b74bf603f",
         "24.06.2022 21:05:00",
         "9960440301166847:31695",
         "НАП ЛИМОНАД 0,5Л ПЭТ",
         "29.99",
         "1.0",
         "29.99",
         "1249.28",
         null,
         null,
         "НПТК",
         "Б/А НАПИТКИ",
         "СЛАДКИЕ ГАЗИРОВАННЫЕ НАПИТКИ",
         "ЛИМОНАД",
         "ЛИМОНАД/СЛАД.ГАЗИРОВК",
         "55.712864",
         "37.84542",
         "21",
         "5.Пятница"
        ],
        [
         "43",
         "43",
         "Окей",
         "г Москва, ул Кировоградская, д 13А",
         null,
         "12.06.2022 16:58:00",
         "9960440300963852:26112",
         "БЗМЖ Йогурт питьевой Вкуснотеево клубника 1,5% 750г",
         "114.99",
         "1.0",
         "114.99",
         "1464.0",
         "МОЛВЕСТ",
         "ВКУСНОТЕЕВО",
         "МЛДП",
         "МОЛОЧНАЯ ПРОДУКЦИЯ",
         "ЙОГУРТЫ",
         "ЙОГУРТ ПИТЬЕВОЙ",
         "ЙОГУРТ ПИТЬЕВОЙ",
         "55.612118",
         "37.607048",
         "16",
         "7.Воскресенье"
        ],
        [
         "44",
         "44",
         "Окей",
         "г Москва, ул Кировоградская, д 13А",
         null,
         "12.06.2022 16:58:00",
         "9960440300963852:26112",
         "Квас ОКЕЙ Традиционный б/алк газ 2л пэт",
         "69.99",
         "1.0",
         "69.99",
         "1464.0",
         "СТМ_ОКЕЙ",
         "СТМ ОКЕЙ",
         "НПТК",
         "Б/А НАПИТКИ",
         "КВАС И КВАСНЫЕ НАПИТКИ",
         "КВАС",
         "КВАС",
         "55.612118",
         "37.607048",
         "16",
         "7.Воскресенье"
        ],
        [
         "45",
         "45",
         "Окей",
         "г Москва, ул Кировоградская, д 13А",
         null,
         "12.06.2022 16:58:00",
         "9960440300963852:26112",
         "БЗМЖ Тан ОКЕЙ 0,1% 0,5л пэт",
         "32.99",
         "1.0",
         "32.99",
         "1464.0",
         "СТМ_ОКЕЙ",
         "СТМ ОКЕЙ",
         "МЛДП",
         "МОЛОЧНАЯ ПРОДУКЦИЯ",
         "КИСЛОМОЛОЧНЫЕ ПРОДУКТЫ",
         "ТАН,АЙРАН",
         "ТАН",
         "55.612118",
         "37.607048",
         "16",
         "7.Воскресенье"
        ],
        [
         "46",
         "46",
         "Окей",
         "г Москва, ул Кировоградская, д 13А",
         null,
         "12.06.2022 16:58:00",
         "9960440300963852:26112",
         "Тыква Баттернат кг",
         "199.98",
         "0.656",
         "131.19",
         "1464.0",
         null,
         null,
         "ФРОВ",
         "СВЕЖИЕ ОВОЩИ",
         "ОВОЩИ РАЗНЫЕ",
         "ТЫКВА",
         "ТЫКВА",
         "55.612118",
         "37.607048",
         "16",
         "7.Воскресенье"
        ],
        [
         "47",
         "47",
         "Окей",
         "г Москва, ул Кировоградская, д 13А",
         null,
         "12.06.2022 16:58:00",
         "9960440300963852:26112",
         "Яблоки Ред Делишес кг",
         "99.99",
         "1.31",
         "130.99",
         "1464.0",
         null,
         null,
         "ФРОВ",
         "СВЕЖИЕ ФРУКТЫ",
         "ФРУКТЫ ОСНОВНЫЕ",
         "ЯБЛОКИ",
         "ЯБЛОКО",
         "55.612118",
         "37.607048",
         "16",
         "7.Воскресенье"
        ],
        [
         "48",
         "48",
         "Окей",
         "г Москва, ул Кировоградская, д 13А",
         null,
         "12.06.2022 16:58:00",
         "9960440300963852:26112",
         "Варенье ОКЕЙ стерилизованное малиновое 320г",
         "149.99",
         "1.0",
         "149.99",
         "1464.0",
         "СТМ_ОКЕЙ",
         "СТМ ОКЕЙ",
         "БАКЛ",
         "СЛАДКАЯ КОНСЕРВАЦИЯ, СГУЩЕНОЕ МОЛОКО",
         "ВАРЕНЬЕ, ДЖЕМ, ПОВИДЛО",
         "ВАРЕНЬЕ",
         "ВАРЕНЬЕ",
         "55.612118",
         "37.607048",
         "16",
         "7.Воскресенье"
        ],
        [
         "49",
         "49",
         "Окей",
         "г Москва, ул Кировоградская, д 13А",
         null,
         "12.06.2022 16:58:00",
         "9960440300963852:26112",
         "Колбаса вареная Идель Мусульманская 400г",
         "169.99",
         "1.0",
         "169.99",
         "1464.0",
         "не определено",
         "ИДЕЛЬ",
         "МСНГ",
         "МЯСНАЯ ГАСТРОНОМИЯ",
         "ВАРЕНЫЕ КОЛБАСЫ",
         "ВАРЕНЫЕ КОЛБАСЫ",
         "КОЛБАСА ВАРЕНАЯ",
         "55.612118",
         "37.607048",
         "16",
         "7.Воскресенье"
        ]
       ],
       "shape": {
        "columns": 22,
        "rows": 2400099
       }
      },
      "text/html": [
       "<div>\n",
       "<style scoped>\n",
       "    .dataframe tbody tr th:only-of-type {\n",
       "        vertical-align: middle;\n",
       "    }\n",
       "\n",
       "    .dataframe tbody tr th {\n",
       "        vertical-align: top;\n",
       "    }\n",
       "\n",
       "    .dataframe thead th {\n",
       "        text-align: right;\n",
       "    }\n",
       "</style>\n",
       "<table border=\"1\" class=\"dataframe\">\n",
       "  <thead>\n",
       "    <tr style=\"text-align: right;\">\n",
       "      <th></th>\n",
       "      <th>index</th>\n",
       "      <th>client_NT</th>\n",
       "      <th>text_kktAddress</th>\n",
       "      <th>customer_id</th>\n",
       "      <th>dateTime</th>\n",
       "      <th>receipt_id</th>\n",
       "      <th>CLEAN_SKU</th>\n",
       "      <th>price_items</th>\n",
       "      <th>quantity_items</th>\n",
       "      <th>sum_items</th>\n",
       "      <th>...</th>\n",
       "      <th>BRAND_NT</th>\n",
       "      <th>CLASS_NT</th>\n",
       "      <th>GROUP_NT</th>\n",
       "      <th>CATEGORY_NT</th>\n",
       "      <th>SUBCATEGORY_NT</th>\n",
       "      <th>BASE_NT</th>\n",
       "      <th>lat</th>\n",
       "      <th>lon</th>\n",
       "      <th>hour</th>\n",
       "      <th>weekday</th>\n",
       "    </tr>\n",
       "  </thead>\n",
       "  <tbody>\n",
       "    <tr>\n",
       "      <th>0</th>\n",
       "      <td>0</td>\n",
       "      <td>Окей</td>\n",
       "      <td>г Москва, ул Озёрная, д 50</td>\n",
       "      <td>NaN</td>\n",
       "      <td>26.06.2022 13:51:00</td>\n",
       "      <td>9960440300975081:17128</td>\n",
       "      <td>Бананы кг</td>\n",
       "      <td>70.38</td>\n",
       "      <td>0.59</td>\n",
       "      <td>41.81</td>\n",
       "      <td>...</td>\n",
       "      <td>NaN</td>\n",
       "      <td>ФРОВ</td>\n",
       "      <td>СВЕЖИЕ ФРУКТЫ</td>\n",
       "      <td>ФРУКТЫ ОСНОВНЫЕ</td>\n",
       "      <td>БАНАНЫ</td>\n",
       "      <td>БАНАН</td>\n",
       "      <td>55.66</td>\n",
       "      <td>37.44</td>\n",
       "      <td>13</td>\n",
       "      <td>7.Воскресенье</td>\n",
       "    </tr>\n",
       "    <tr>\n",
       "      <th>1</th>\n",
       "      <td>1</td>\n",
       "      <td>Окей</td>\n",
       "      <td>г Москва, ул Озёрная, д 50</td>\n",
       "      <td>NaN</td>\n",
       "      <td>26.06.2022 13:46:00</td>\n",
       "      <td>9960440300975081:17126</td>\n",
       "      <td>Зажарка Maggi 60г</td>\n",
       "      <td>33.42</td>\n",
       "      <td>1.00</td>\n",
       "      <td>33.42</td>\n",
       "      <td>...</td>\n",
       "      <td>MAGGI</td>\n",
       "      <td>БАКЛ</td>\n",
       "      <td>БАКАЛЕЯ СЫПУЧАЯ</td>\n",
       "      <td>ПРИПРАВЫ ДЛЯ ПЕРВЫХ И ВТОРЫХ БЛЮД</td>\n",
       "      <td>ПРИПРАВА ДЛЯ ЖАРКОЕ</td>\n",
       "      <td>ПРИПРАВА ДЛЯ ЖАРКОЕ</td>\n",
       "      <td>55.66</td>\n",
       "      <td>37.44</td>\n",
       "      <td>13</td>\n",
       "      <td>7.Воскресенье</td>\n",
       "    </tr>\n",
       "    <tr>\n",
       "      <th>2</th>\n",
       "      <td>2</td>\n",
       "      <td>Окей</td>\n",
       "      <td>г Москва, ул Озёрная, д 50</td>\n",
       "      <td>NaN</td>\n",
       "      <td>01.05.2022 13:26:00</td>\n",
       "      <td>9960440300975081:11611</td>\n",
       "      <td>Бананы кг</td>\n",
       "      <td>96.24</td>\n",
       "      <td>0.91</td>\n",
       "      <td>87.58</td>\n",
       "      <td>...</td>\n",
       "      <td>NaN</td>\n",
       "      <td>ФРОВ</td>\n",
       "      <td>СВЕЖИЕ ФРУКТЫ</td>\n",
       "      <td>ФРУКТЫ ОСНОВНЫЕ</td>\n",
       "      <td>БАНАНЫ</td>\n",
       "      <td>БАНАН</td>\n",
       "      <td>55.66</td>\n",
       "      <td>37.44</td>\n",
       "      <td>13</td>\n",
       "      <td>7.Воскресенье</td>\n",
       "    </tr>\n",
       "    <tr>\n",
       "      <th>3</th>\n",
       "      <td>3</td>\n",
       "      <td>Окей</td>\n",
       "      <td>г Москва, ул Озёрная, д 50</td>\n",
       "      <td>NaN</td>\n",
       "      <td>01.05.2022 13:26:00</td>\n",
       "      <td>9960440300975081:11611</td>\n",
       "      <td>Яблоки кг</td>\n",
       "      <td>87.49</td>\n",
       "      <td>1.30</td>\n",
       "      <td>113.74</td>\n",
       "      <td>...</td>\n",
       "      <td>NaN</td>\n",
       "      <td>ФРОВ</td>\n",
       "      <td>СВЕЖИЕ ФРУКТЫ</td>\n",
       "      <td>ФРУКТЫ ОСНОВНЫЕ</td>\n",
       "      <td>ЯБЛОКИ</td>\n",
       "      <td>ЯБЛОКО</td>\n",
       "      <td>55.66</td>\n",
       "      <td>37.44</td>\n",
       "      <td>13</td>\n",
       "      <td>7.Воскресенье</td>\n",
       "    </tr>\n",
       "    <tr>\n",
       "      <th>4</th>\n",
       "      <td>4</td>\n",
       "      <td>Окей</td>\n",
       "      <td>г Москва, ул Озёрная, д 50</td>\n",
       "      <td>NaN</td>\n",
       "      <td>04.06.2022 18:19:00</td>\n",
       "      <td>9960440301010969:5365</td>\n",
       "      <td>Апельсины кг</td>\n",
       "      <td>109.99</td>\n",
       "      <td>1.69</td>\n",
       "      <td>186.10</td>\n",
       "      <td>...</td>\n",
       "      <td>NaN</td>\n",
       "      <td>NaN</td>\n",
       "      <td>NaN</td>\n",
       "      <td>NaN</td>\n",
       "      <td>NaN</td>\n",
       "      <td>NaN</td>\n",
       "      <td>55.66</td>\n",
       "      <td>37.44</td>\n",
       "      <td>18</td>\n",
       "      <td>6.Суббота</td>\n",
       "    </tr>\n",
       "    <tr>\n",
       "      <th>...</th>\n",
       "      <td>...</td>\n",
       "      <td>...</td>\n",
       "      <td>...</td>\n",
       "      <td>...</td>\n",
       "      <td>...</td>\n",
       "      <td>...</td>\n",
       "      <td>...</td>\n",
       "      <td>...</td>\n",
       "      <td>...</td>\n",
       "      <td>...</td>\n",
       "      <td>...</td>\n",
       "      <td>...</td>\n",
       "      <td>...</td>\n",
       "      <td>...</td>\n",
       "      <td>...</td>\n",
       "      <td>...</td>\n",
       "      <td>...</td>\n",
       "      <td>...</td>\n",
       "      <td>...</td>\n",
       "      <td>...</td>\n",
       "      <td>...</td>\n",
       "    </tr>\n",
       "    <tr>\n",
       "      <th>2400094</th>\n",
       "      <td>2400094</td>\n",
       "      <td>Окей</td>\n",
       "      <td>г Москва, ул Кировоградская, д 13А</td>\n",
       "      <td>NaN</td>\n",
       "      <td>21.05.2022 18:02:00</td>\n",
       "      <td>9960440300963884:53239</td>\n",
       "      <td>Кондиционер конц д/белья Vernel supreme elegan...</td>\n",
       "      <td>199.99</td>\n",
       "      <td>1.00</td>\n",
       "      <td>199.99</td>\n",
       "      <td>...</td>\n",
       "      <td>VERNEL</td>\n",
       "      <td>КЗБХ</td>\n",
       "      <td>БЫТОВАЯ ХИМИЯ</td>\n",
       "      <td>СР-ВА ДЛЯ СТИРКИ</td>\n",
       "      <td>КОНДИЦИОНЕР-ОПОЛАСКИВАТЕЛЬ</td>\n",
       "      <td>КОНДИЦИОНЕР ДЛЯ БЕЛЬЯ</td>\n",
       "      <td>55.61</td>\n",
       "      <td>37.61</td>\n",
       "      <td>18</td>\n",
       "      <td>6.Суббота</td>\n",
       "    </tr>\n",
       "    <tr>\n",
       "      <th>2400095</th>\n",
       "      <td>2400095</td>\n",
       "      <td>Окей</td>\n",
       "      <td>г Москва, ул Кировоградская, д 13А</td>\n",
       "      <td>NaN</td>\n",
       "      <td>21.05.2022 18:02:00</td>\n",
       "      <td>9960440300963884:53239</td>\n",
       "      <td>Абрикосы 500г упак</td>\n",
       "      <td>169.99</td>\n",
       "      <td>1.00</td>\n",
       "      <td>169.99</td>\n",
       "      <td>...</td>\n",
       "      <td>NaN</td>\n",
       "      <td>ФРОВ</td>\n",
       "      <td>СВЕЖИЕ ФРУКТЫ</td>\n",
       "      <td>ФРУКТЫ ОСНОВНЫЕ</td>\n",
       "      <td>АБРИКОС</td>\n",
       "      <td>АБРИКОС</td>\n",
       "      <td>55.61</td>\n",
       "      <td>37.61</td>\n",
       "      <td>18</td>\n",
       "      <td>6.Суббота</td>\n",
       "    </tr>\n",
       "    <tr>\n",
       "      <th>2400096</th>\n",
       "      <td>2400096</td>\n",
       "      <td>Окей</td>\n",
       "      <td>г Москва, ул Кировоградская, д 13А</td>\n",
       "      <td>8e72f68f3891ce5f91503cb8dbe1b210</td>\n",
       "      <td>26.05.2022 18:08:00</td>\n",
       "      <td>9960440300964629:76254</td>\n",
       "      <td>Пакет подарочный Арт и Дизайн ST премиум 12х36см</td>\n",
       "      <td>102.99</td>\n",
       "      <td>1.00</td>\n",
       "      <td>102.99</td>\n",
       "      <td>...</td>\n",
       "      <td>АРТ И ДИЗАЙН</td>\n",
       "      <td>КЦИГ</td>\n",
       "      <td>ИГРУШКИ</td>\n",
       "      <td>ВСЕ ДЛЯ ВЕСЕЛОГО ПРАЗДНИКА</td>\n",
       "      <td>ПОДАРОЧНЫЕ ПАКЕТЫ И УПАКОВКА</td>\n",
       "      <td>ПАКЕТ ПОДАРОЧНЫЙ</td>\n",
       "      <td>55.61</td>\n",
       "      <td>37.61</td>\n",
       "      <td>18</td>\n",
       "      <td>4.Четверг</td>\n",
       "    </tr>\n",
       "    <tr>\n",
       "      <th>2400097</th>\n",
       "      <td>2400097</td>\n",
       "      <td>Окей</td>\n",
       "      <td>г Москва, ул Кировоградская, д 13А</td>\n",
       "      <td>8e72f68f3891ce5f91503cb8dbe1b210</td>\n",
       "      <td>26.05.2022 18:08:00</td>\n",
       "      <td>9960440300964629:76254</td>\n",
       "      <td>Вино Вадиаперти Греко Ди Туфо бел. сух. 4,5-16...</td>\n",
       "      <td>1099.02</td>\n",
       "      <td>1.00</td>\n",
       "      <td>1099.02</td>\n",
       "      <td>...</td>\n",
       "      <td>NaN</td>\n",
       "      <td>АЛКГ</td>\n",
       "      <td>ВИНО</td>\n",
       "      <td>ВИНО</td>\n",
       "      <td>ВИНО ТИХОЕ</td>\n",
       "      <td>ВИНО ТИХОЕ</td>\n",
       "      <td>55.61</td>\n",
       "      <td>37.61</td>\n",
       "      <td>18</td>\n",
       "      <td>4.Четверг</td>\n",
       "    </tr>\n",
       "    <tr>\n",
       "      <th>2400098</th>\n",
       "      <td>2400098</td>\n",
       "      <td>Окей</td>\n",
       "      <td>г Москва, ул Кировоградская, д 13А</td>\n",
       "      <td>8e72f68f3891ce5f91503cb8dbe1b210</td>\n",
       "      <td>26.05.2022 18:08:00</td>\n",
       "      <td>9960440300964629:76254</td>\n",
       "      <td>Набор конфет Merci ассорти 400г</td>\n",
       "      <td>629.99</td>\n",
       "      <td>1.00</td>\n",
       "      <td>629.99</td>\n",
       "      <td>...</td>\n",
       "      <td>MERCI</td>\n",
       "      <td>КНХЛ</td>\n",
       "      <td>КОНДИТЕРКА</td>\n",
       "      <td>НАБОРЫ КОНДИТЕРСКИЕ</td>\n",
       "      <td>НАБОРЫ КОНДИТЕРСКИЕ</td>\n",
       "      <td>НАБОРЫ КОНДИТЕРСКИЕ</td>\n",
       "      <td>55.61</td>\n",
       "      <td>37.61</td>\n",
       "      <td>18</td>\n",
       "      <td>4.Четверг</td>\n",
       "    </tr>\n",
       "  </tbody>\n",
       "</table>\n",
       "<p>2400099 rows × 22 columns</p>\n",
       "</div>"
      ],
      "text/plain": [
       "           index client_NT                     text_kktAddress  \\\n",
       "0              0      Окей          г Москва, ул Озёрная, д 50   \n",
       "1              1      Окей          г Москва, ул Озёрная, д 50   \n",
       "2              2      Окей          г Москва, ул Озёрная, д 50   \n",
       "3              3      Окей          г Москва, ул Озёрная, д 50   \n",
       "4              4      Окей          г Москва, ул Озёрная, д 50   \n",
       "...          ...       ...                                 ...   \n",
       "2400094  2400094      Окей  г Москва, ул Кировоградская, д 13А   \n",
       "2400095  2400095      Окей  г Москва, ул Кировоградская, д 13А   \n",
       "2400096  2400096      Окей  г Москва, ул Кировоградская, д 13А   \n",
       "2400097  2400097      Окей  г Москва, ул Кировоградская, д 13А   \n",
       "2400098  2400098      Окей  г Москва, ул Кировоградская, д 13А   \n",
       "\n",
       "                              customer_id             dateTime  \\\n",
       "0                                     NaN  26.06.2022 13:51:00   \n",
       "1                                     NaN  26.06.2022 13:46:00   \n",
       "2                                     NaN  01.05.2022 13:26:00   \n",
       "3                                     NaN  01.05.2022 13:26:00   \n",
       "4                                     NaN  04.06.2022 18:19:00   \n",
       "...                                   ...                  ...   \n",
       "2400094                               NaN  21.05.2022 18:02:00   \n",
       "2400095                               NaN  21.05.2022 18:02:00   \n",
       "2400096  8e72f68f3891ce5f91503cb8dbe1b210  26.05.2022 18:08:00   \n",
       "2400097  8e72f68f3891ce5f91503cb8dbe1b210  26.05.2022 18:08:00   \n",
       "2400098  8e72f68f3891ce5f91503cb8dbe1b210  26.05.2022 18:08:00   \n",
       "\n",
       "                     receipt_id  \\\n",
       "0        9960440300975081:17128   \n",
       "1        9960440300975081:17126   \n",
       "2        9960440300975081:11611   \n",
       "3        9960440300975081:11611   \n",
       "4         9960440301010969:5365   \n",
       "...                         ...   \n",
       "2400094  9960440300963884:53239   \n",
       "2400095  9960440300963884:53239   \n",
       "2400096  9960440300964629:76254   \n",
       "2400097  9960440300964629:76254   \n",
       "2400098  9960440300964629:76254   \n",
       "\n",
       "                                                 CLEAN_SKU  price_items  \\\n",
       "0                                                Бананы кг        70.38   \n",
       "1                                        Зажарка Maggi 60г        33.42   \n",
       "2                                                Бананы кг        96.24   \n",
       "3                                                Яблоки кг        87.49   \n",
       "4                                             Апельсины кг       109.99   \n",
       "...                                                    ...          ...   \n",
       "2400094  Кондиционер конц д/белья Vernel supreme elegan...       199.99   \n",
       "2400095                                 Абрикосы 500г упак       169.99   \n",
       "2400096   Пакет подарочный Арт и Дизайн ST премиум 12х36см       102.99   \n",
       "2400097  Вино Вадиаперти Греко Ди Туфо бел. сух. 4,5-16...      1099.02   \n",
       "2400098                    Набор конфет Merci ассорти 400г       629.99   \n",
       "\n",
       "         quantity_items  sum_items  ...      BRAND_NT CLASS_NT  \\\n",
       "0                  0.59      41.81  ...           NaN     ФРОВ   \n",
       "1                  1.00      33.42  ...         MAGGI     БАКЛ   \n",
       "2                  0.91      87.58  ...           NaN     ФРОВ   \n",
       "3                  1.30     113.74  ...           NaN     ФРОВ   \n",
       "4                  1.69     186.10  ...           NaN      NaN   \n",
       "...                 ...        ...  ...           ...      ...   \n",
       "2400094            1.00     199.99  ...        VERNEL     КЗБХ   \n",
       "2400095            1.00     169.99  ...           NaN     ФРОВ   \n",
       "2400096            1.00     102.99  ...  АРТ И ДИЗАЙН     КЦИГ   \n",
       "2400097            1.00    1099.02  ...           NaN     АЛКГ   \n",
       "2400098            1.00     629.99  ...         MERCI     КНХЛ   \n",
       "\n",
       "                GROUP_NT                        CATEGORY_NT  \\\n",
       "0          СВЕЖИЕ ФРУКТЫ                    ФРУКТЫ ОСНОВНЫЕ   \n",
       "1        БАКАЛЕЯ СЫПУЧАЯ  ПРИПРАВЫ ДЛЯ ПЕРВЫХ И ВТОРЫХ БЛЮД   \n",
       "2          СВЕЖИЕ ФРУКТЫ                    ФРУКТЫ ОСНОВНЫЕ   \n",
       "3          СВЕЖИЕ ФРУКТЫ                    ФРУКТЫ ОСНОВНЫЕ   \n",
       "4                    NaN                                NaN   \n",
       "...                  ...                                ...   \n",
       "2400094    БЫТОВАЯ ХИМИЯ                   СР-ВА ДЛЯ СТИРКИ   \n",
       "2400095    СВЕЖИЕ ФРУКТЫ                    ФРУКТЫ ОСНОВНЫЕ   \n",
       "2400096          ИГРУШКИ         ВСЕ ДЛЯ ВЕСЕЛОГО ПРАЗДНИКА   \n",
       "2400097             ВИНО                               ВИНО   \n",
       "2400098       КОНДИТЕРКА                НАБОРЫ КОНДИТЕРСКИЕ   \n",
       "\n",
       "                       SUBCATEGORY_NT                BASE_NT   lat   lon  \\\n",
       "0                              БАНАНЫ                  БАНАН 55.66 37.44   \n",
       "1                 ПРИПРАВА ДЛЯ ЖАРКОЕ    ПРИПРАВА ДЛЯ ЖАРКОЕ 55.66 37.44   \n",
       "2                              БАНАНЫ                  БАНАН 55.66 37.44   \n",
       "3                              ЯБЛОКИ                 ЯБЛОКО 55.66 37.44   \n",
       "4                                 NaN                    NaN 55.66 37.44   \n",
       "...                               ...                    ...   ...   ...   \n",
       "2400094    КОНДИЦИОНЕР-ОПОЛАСКИВАТЕЛЬ  КОНДИЦИОНЕР ДЛЯ БЕЛЬЯ 55.61 37.61   \n",
       "2400095                       АБРИКОС                АБРИКОС 55.61 37.61   \n",
       "2400096  ПОДАРОЧНЫЕ ПАКЕТЫ И УПАКОВКА       ПАКЕТ ПОДАРОЧНЫЙ 55.61 37.61   \n",
       "2400097                    ВИНО ТИХОЕ             ВИНО ТИХОЕ 55.61 37.61   \n",
       "2400098           НАБОРЫ КОНДИТЕРСКИЕ    НАБОРЫ КОНДИТЕРСКИЕ 55.61 37.61   \n",
       "\n",
       "         hour        weekday  \n",
       "0          13  7.Воскресенье  \n",
       "1          13  7.Воскресенье  \n",
       "2          13  7.Воскресенье  \n",
       "3          13  7.Воскресенье  \n",
       "4          18      6.Суббота  \n",
       "...       ...            ...  \n",
       "2400094    18      6.Суббота  \n",
       "2400095    18      6.Суббота  \n",
       "2400096    18      4.Четверг  \n",
       "2400097    18      4.Четверг  \n",
       "2400098    18      4.Четверг  \n",
       "\n",
       "[2400099 rows x 22 columns]"
      ]
     },
     "execution_count": 57,
     "metadata": {},
     "output_type": "execute_result"
    }
   ],
   "source": [
    "data"
   ]
  },
  {
   "cell_type": "markdown",
   "id": "c8738ac1",
   "metadata": {},
   "source": [
    "Подготовим таблицу для среднего чека"
   ]
  },
  {
   "cell_type": "code",
   "execution_count": 38,
   "id": "e1f5ff47",
   "metadata": {},
   "outputs": [],
   "source": [
    "mean_check = data.groupby('receipt_id').agg({\n",
    "    'totalSum': 'max',\n",
    "    'client_NT': 'first',\n",
    "    'text_kktAddress': 'first',\n",
    "    'hour': 'first',\n",
    "    'weekday': 'first'\n",
    "    \n",
    "}).reset_index()"
   ]
  },
  {
   "cell_type": "markdown",
   "id": "de0abffa",
   "metadata": {},
   "source": [
    "Средний чек в каждой сети"
   ]
  },
  {
   "cell_type": "code",
   "execution_count": 40,
   "id": "83b73b61",
   "metadata": {},
   "outputs": [
    {
     "data": {
      "application/vnd.microsoft.datawrangler.viewer.v0+json": {
       "columns": [
        {
         "name": "index",
         "rawType": "object",
         "type": "string"
        },
        {
         "name": "Metro c&c",
         "rawType": "float32",
         "type": "float"
        },
        {
         "name": "Гиперглобус",
         "rawType": "float32",
         "type": "float"
        },
        {
         "name": "Окей",
         "rawType": "float32",
         "type": "float"
        }
       ],
       "conversionMethod": "pd.DataFrame",
       "ref": "483999fb-26cf-4ea6-866b-cfaedffa1874",
       "rows": [
        [
         "totalSum",
         "8730.4",
         "3360.1133",
         "2496.691"
        ]
       ],
       "shape": {
        "columns": 3,
        "rows": 1
       }
      },
      "text/html": [
       "<div>\n",
       "<style scoped>\n",
       "    .dataframe tbody tr th:only-of-type {\n",
       "        vertical-align: middle;\n",
       "    }\n",
       "\n",
       "    .dataframe tbody tr th {\n",
       "        vertical-align: top;\n",
       "    }\n",
       "\n",
       "    .dataframe thead th {\n",
       "        text-align: right;\n",
       "    }\n",
       "</style>\n",
       "<table border=\"1\" class=\"dataframe\">\n",
       "  <thead>\n",
       "    <tr style=\"text-align: right;\">\n",
       "      <th>client_NT</th>\n",
       "      <th>Metro c&amp;c</th>\n",
       "      <th>Гиперглобус</th>\n",
       "      <th>Окей</th>\n",
       "    </tr>\n",
       "  </thead>\n",
       "  <tbody>\n",
       "    <tr>\n",
       "      <th>totalSum</th>\n",
       "      <td>8730.40</td>\n",
       "      <td>3360.11</td>\n",
       "      <td>2496.69</td>\n",
       "    </tr>\n",
       "  </tbody>\n",
       "</table>\n",
       "</div>"
      ],
      "text/plain": [
       "client_NT  Metro c&c  Гиперглобус    Окей\n",
       "totalSum     8730.40      3360.11 2496.69"
      ]
     },
     "execution_count": 40,
     "metadata": {},
     "output_type": "execute_result"
    }
   ],
   "source": [
    "mc1 = mean_check.pivot_table(\n",
    "    columns='client_NT',\n",
    "    values='totalSum',\n",
    "    aggfunc='mean', \n",
    "    observed=False\n",
    ")\n",
    "mc1"
   ]
  },
  {
   "cell_type": "markdown",
   "id": "4a2e52f3",
   "metadata": {},
   "source": [
    "Сформируем таблицу со средним чеком по часам во всех торговых сетях для сравнения:"
   ]
  },
  {
   "cell_type": "code",
   "execution_count": 41,
   "id": "902bc373",
   "metadata": {},
   "outputs": [
    {
     "data": {
      "application/vnd.microsoft.datawrangler.viewer.v0+json": {
       "columns": [
        {
         "name": "hour",
         "rawType": "int32",
         "type": "integer"
        },
        {
         "name": "Metro c&c",
         "rawType": "float32",
         "type": "float"
        },
        {
         "name": "Гиперглобус",
         "rawType": "float32",
         "type": "float"
        },
        {
         "name": "Окей",
         "rawType": "float32",
         "type": "float"
        }
       ],
       "conversionMethod": "pd.DataFrame",
       "ref": "8af94d00-6056-4ae1-994c-1cc52923ff62",
       "rows": [
        [
         "0",
         null,
         "2376.181",
         "2569.96"
        ],
        [
         "1",
         null,
         "2623.156",
         null
        ],
        [
         "2",
         null,
         "2407.6338",
         null
        ],
        [
         "3",
         null,
         "2262.5352",
         null
        ],
        [
         "4",
         null,
         "2684.2505",
         null
        ],
        [
         "5",
         "7796.835",
         "2627.1467",
         null
        ],
        [
         "6",
         "1856.69",
         "2821.992",
         null
        ],
        [
         "7",
         "23387.268",
         "3176.9958",
         null
        ],
        [
         "8",
         "16492.816",
         "3633.364",
         "2417.8044"
        ],
        [
         "9",
         "12326.93",
         "3589.1658",
         "2643.817"
        ],
        [
         "10",
         "11505.257",
         "3504.4563",
         "2715.092"
        ],
        [
         "11",
         "4664.985",
         "3433.5732",
         "2580.2344"
        ],
        [
         "12",
         "8866.72",
         "3469.3364",
         "2520.4363"
        ],
        [
         "13",
         "10651.897",
         "3404.62",
         "2600.9243"
        ],
        [
         "14",
         "10963.766",
         "3462.9875",
         "2675.17"
        ],
        [
         "15",
         "7569.85",
         "3381.4985",
         "2538.0374"
        ],
        [
         "16",
         "5351.7637",
         "3322.114",
         "2487.1785"
        ],
        [
         "17",
         "5216.4243",
         "3329.2039",
         "2452.7927"
        ],
        [
         "18",
         "9440.871",
         "3215.7405",
         "2492.9966"
        ],
        [
         "19",
         "7129.1187",
         "3161.0093",
         "2459.703"
        ],
        [
         "20",
         "5645.9023",
         "3125.3687",
         "2392.7822"
        ],
        [
         "21",
         "10829.431",
         "3146.5674",
         "2075.1738"
        ],
        [
         "22",
         "5457.227",
         "3030.5686",
         "1903.4309"
        ],
        [
         "23",
         "3892.53",
         "2821.5378",
         "2190.201"
        ]
       ],
       "shape": {
        "columns": 3,
        "rows": 24
       }
      },
      "text/html": [
       "<div>\n",
       "<style scoped>\n",
       "    .dataframe tbody tr th:only-of-type {\n",
       "        vertical-align: middle;\n",
       "    }\n",
       "\n",
       "    .dataframe tbody tr th {\n",
       "        vertical-align: top;\n",
       "    }\n",
       "\n",
       "    .dataframe thead th {\n",
       "        text-align: right;\n",
       "    }\n",
       "</style>\n",
       "<table border=\"1\" class=\"dataframe\">\n",
       "  <thead>\n",
       "    <tr style=\"text-align: right;\">\n",
       "      <th>client_NT</th>\n",
       "      <th>Metro c&amp;c</th>\n",
       "      <th>Гиперглобус</th>\n",
       "      <th>Окей</th>\n",
       "    </tr>\n",
       "    <tr>\n",
       "      <th>hour</th>\n",
       "      <th></th>\n",
       "      <th></th>\n",
       "      <th></th>\n",
       "    </tr>\n",
       "  </thead>\n",
       "  <tbody>\n",
       "    <tr>\n",
       "      <th>0</th>\n",
       "      <td>NaN</td>\n",
       "      <td>2376.18</td>\n",
       "      <td>2569.96</td>\n",
       "    </tr>\n",
       "    <tr>\n",
       "      <th>1</th>\n",
       "      <td>NaN</td>\n",
       "      <td>2623.16</td>\n",
       "      <td>NaN</td>\n",
       "    </tr>\n",
       "    <tr>\n",
       "      <th>2</th>\n",
       "      <td>NaN</td>\n",
       "      <td>2407.63</td>\n",
       "      <td>NaN</td>\n",
       "    </tr>\n",
       "    <tr>\n",
       "      <th>3</th>\n",
       "      <td>NaN</td>\n",
       "      <td>2262.54</td>\n",
       "      <td>NaN</td>\n",
       "    </tr>\n",
       "    <tr>\n",
       "      <th>4</th>\n",
       "      <td>NaN</td>\n",
       "      <td>2684.25</td>\n",
       "      <td>NaN</td>\n",
       "    </tr>\n",
       "    <tr>\n",
       "      <th>5</th>\n",
       "      <td>7796.83</td>\n",
       "      <td>2627.15</td>\n",
       "      <td>NaN</td>\n",
       "    </tr>\n",
       "    <tr>\n",
       "      <th>6</th>\n",
       "      <td>1856.69</td>\n",
       "      <td>2821.99</td>\n",
       "      <td>NaN</td>\n",
       "    </tr>\n",
       "    <tr>\n",
       "      <th>7</th>\n",
       "      <td>23387.27</td>\n",
       "      <td>3177.00</td>\n",
       "      <td>NaN</td>\n",
       "    </tr>\n",
       "    <tr>\n",
       "      <th>8</th>\n",
       "      <td>16492.82</td>\n",
       "      <td>3633.36</td>\n",
       "      <td>2417.80</td>\n",
       "    </tr>\n",
       "    <tr>\n",
       "      <th>9</th>\n",
       "      <td>12326.93</td>\n",
       "      <td>3589.17</td>\n",
       "      <td>2643.82</td>\n",
       "    </tr>\n",
       "    <tr>\n",
       "      <th>10</th>\n",
       "      <td>11505.26</td>\n",
       "      <td>3504.46</td>\n",
       "      <td>2715.09</td>\n",
       "    </tr>\n",
       "    <tr>\n",
       "      <th>11</th>\n",
       "      <td>4664.98</td>\n",
       "      <td>3433.57</td>\n",
       "      <td>2580.23</td>\n",
       "    </tr>\n",
       "    <tr>\n",
       "      <th>12</th>\n",
       "      <td>8866.72</td>\n",
       "      <td>3469.34</td>\n",
       "      <td>2520.44</td>\n",
       "    </tr>\n",
       "    <tr>\n",
       "      <th>13</th>\n",
       "      <td>10651.90</td>\n",
       "      <td>3404.62</td>\n",
       "      <td>2600.92</td>\n",
       "    </tr>\n",
       "    <tr>\n",
       "      <th>14</th>\n",
       "      <td>10963.77</td>\n",
       "      <td>3462.99</td>\n",
       "      <td>2675.17</td>\n",
       "    </tr>\n",
       "    <tr>\n",
       "      <th>15</th>\n",
       "      <td>7569.85</td>\n",
       "      <td>3381.50</td>\n",
       "      <td>2538.04</td>\n",
       "    </tr>\n",
       "    <tr>\n",
       "      <th>16</th>\n",
       "      <td>5351.76</td>\n",
       "      <td>3322.11</td>\n",
       "      <td>2487.18</td>\n",
       "    </tr>\n",
       "    <tr>\n",
       "      <th>17</th>\n",
       "      <td>5216.42</td>\n",
       "      <td>3329.20</td>\n",
       "      <td>2452.79</td>\n",
       "    </tr>\n",
       "    <tr>\n",
       "      <th>18</th>\n",
       "      <td>9440.87</td>\n",
       "      <td>3215.74</td>\n",
       "      <td>2493.00</td>\n",
       "    </tr>\n",
       "    <tr>\n",
       "      <th>19</th>\n",
       "      <td>7129.12</td>\n",
       "      <td>3161.01</td>\n",
       "      <td>2459.70</td>\n",
       "    </tr>\n",
       "    <tr>\n",
       "      <th>20</th>\n",
       "      <td>5645.90</td>\n",
       "      <td>3125.37</td>\n",
       "      <td>2392.78</td>\n",
       "    </tr>\n",
       "    <tr>\n",
       "      <th>21</th>\n",
       "      <td>10829.43</td>\n",
       "      <td>3146.57</td>\n",
       "      <td>2075.17</td>\n",
       "    </tr>\n",
       "    <tr>\n",
       "      <th>22</th>\n",
       "      <td>5457.23</td>\n",
       "      <td>3030.57</td>\n",
       "      <td>1903.43</td>\n",
       "    </tr>\n",
       "    <tr>\n",
       "      <th>23</th>\n",
       "      <td>3892.53</td>\n",
       "      <td>2821.54</td>\n",
       "      <td>2190.20</td>\n",
       "    </tr>\n",
       "  </tbody>\n",
       "</table>\n",
       "</div>"
      ],
      "text/plain": [
       "client_NT  Metro c&c  Гиперглобус    Окей\n",
       "hour                                     \n",
       "0                NaN      2376.18 2569.96\n",
       "1                NaN      2623.16     NaN\n",
       "2                NaN      2407.63     NaN\n",
       "3                NaN      2262.54     NaN\n",
       "4                NaN      2684.25     NaN\n",
       "5            7796.83      2627.15     NaN\n",
       "6            1856.69      2821.99     NaN\n",
       "7           23387.27      3177.00     NaN\n",
       "8           16492.82      3633.36 2417.80\n",
       "9           12326.93      3589.17 2643.82\n",
       "10          11505.26      3504.46 2715.09\n",
       "11           4664.98      3433.57 2580.23\n",
       "12           8866.72      3469.34 2520.44\n",
       "13          10651.90      3404.62 2600.92\n",
       "14          10963.77      3462.99 2675.17\n",
       "15           7569.85      3381.50 2538.04\n",
       "16           5351.76      3322.11 2487.18\n",
       "17           5216.42      3329.20 2452.79\n",
       "18           9440.87      3215.74 2493.00\n",
       "19           7129.12      3161.01 2459.70\n",
       "20           5645.90      3125.37 2392.78\n",
       "21          10829.43      3146.57 2075.17\n",
       "22           5457.23      3030.57 1903.43\n",
       "23           3892.53      2821.54 2190.20"
      ]
     },
     "execution_count": 41,
     "metadata": {},
     "output_type": "execute_result"
    }
   ],
   "source": [
    "mc2 =mean_check.pivot_table(\n",
    "    values='totalSum',\n",
    "    index='hour', \n",
    "    columns='client_NT', \n",
    "    aggfunc='mean', \n",
    "    observed=False\n",
    "    )\n",
    "mc2"
   ]
  },
  {
   "cell_type": "code",
   "execution_count": 56,
   "id": "bdbd7a51",
   "metadata": {},
   "outputs": [
    {
     "data": {
      "application/vnd.plotly.v1+json": {
       "config": {
        "plotlyServerURL": "https://plot.ly"
       },
       "data": [
        {
         "alignmentgroup": "True",
         "cliponaxis": false,
         "hovertemplate": "Клиент=Metro c&c<br>Час дня=%{x}<br>Средний чек=%{y}<extra></extra>",
         "legendgroup": "Metro c&c",
         "marker": {
          "color": "#636efa",
          "pattern": {
           "shape": ""
          }
         },
         "name": "Metro c&c",
         "offsetgroup": "Metro c&c",
         "orientation": "v",
         "showlegend": true,
         "textangle": 0,
         "textfont": {
          "size": 12
         },
         "textposition": "outside",
         "texttemplate": "%{y:.2f}",
         "type": "bar",
         "x": {
          "bdata": "AAAAAAEAAAACAAAAAwAAAAQAAAAFAAAABgAAAAcAAAAIAAAACQAAAAoAAAALAAAADAAAAA0AAAAOAAAADwAAABAAAAARAAAAEgAAABMAAAAUAAAAFQAAABYAAAAXAAAA",
          "dtype": "i4"
         },
         "xaxis": "x",
         "y": {
          "bdata": "AADAfwAAwH8AAMB/AADAfwAAwH+upvNFFBboRIm2tkai2YBGuJtARgfFM0bhx5FF4YoKRpdvJkYQTytGzY7sRRw+p0VlA6NFfIMTRvPI3kU4b7BFuTUpRtGJqkV7SHNF",
          "dtype": "f4"
         },
         "yaxis": "y"
        },
        {
         "alignmentgroup": "True",
         "cliponaxis": false,
         "hovertemplate": "Клиент=Гиперглобус<br>Час дня=%{x}<br>Средний чек=%{y}<extra></extra>",
         "legendgroup": "Гиперглобус",
         "marker": {
          "color": "#EF553B",
          "pattern": {
           "shape": ""
          }
         },
         "name": "Гиперглобус",
         "offsetgroup": "Гиперглобус",
         "orientation": "v",
         "showlegend": true,
         "textangle": 0,
         "textfont": {
          "size": 12
         },
         "textposition": "outside",
         "texttemplate": "%{y:.2f}",
         "type": "bar",
         "x": {
          "bdata": "AAAAAAEAAAACAAAAAwAAAAQAAAAFAAAABgAAAAcAAAAIAAAACQAAAAoAAAALAAAADAAAAA0AAAAOAAAADwAAABAAAAARAAAAEgAAABMAAAAUAAAAFQAAABYAAAAXAAAA",
          "dtype": "i4"
         },
         "xaxis": "x",
         "y": {
          "bdata": "5YIURX/yI0UkehZFkGgNRQLEJ0VZMiRF318wRe+PRkXTFWNFp1JgRU0HW0UsmVZFYtVYRezJVEXNb1hF+ldTRdOhT0VDE1BF2ftIRSaQRUXmVUNFFKlERRlpPUWbWDBF",
          "dtype": "f4"
         },
         "yaxis": "y"
        },
        {
         "alignmentgroup": "True",
         "cliponaxis": false,
         "hovertemplate": "Клиент=Окей<br>Час дня=%{x}<br>Средний чек=%{y}<extra></extra>",
         "legendgroup": "Окей",
         "marker": {
          "color": "#00cc96",
          "pattern": {
           "shape": ""
          }
         },
         "name": "Окей",
         "offsetgroup": "Окей",
         "orientation": "v",
         "showlegend": true,
         "textangle": 0,
         "textfont": {
          "size": 12
         },
         "textposition": "outside",
         "texttemplate": "%{y:.2f}",
         "type": "bar",
         "x": {
          "bdata": "AAAAAAEAAAACAAAAAwAAAAQAAAAFAAAABgAAAAcAAAAIAAAACQAAAAoAAAALAAAADAAAAA0AAAAOAAAADwAAABAAAAARAAAAEgAAABMAAAAUAAAAFQAAABYAAAAXAAAA",
          "dtype": "i4"
         },
         "xaxis": "x",
         "y": {
          "bdata": "XJ8gRQAAwH8AAMB/AADAfwAAwH8AAMB/AADAfwAAwH/fHBdFEj0lRXmxKUXAQyFF+4YdRcqOIkW4MidFmaAeRdtyG0WvTBlF8s8bRT+7GUWEjBVFyLIBRcrt7UQ34whF",
          "dtype": "f4"
         },
         "yaxis": "y"
        }
       ],
       "layout": {
        "barmode": "group",
        "hovermode": "x unified",
        "legend": {
         "title": {
          "text": "Торговая сеть"
         },
         "tracegroupgap": 0
        },
        "template": {
         "data": {
          "bar": [
           {
            "error_x": {
             "color": "#2a3f5f"
            },
            "error_y": {
             "color": "#2a3f5f"
            },
            "marker": {
             "line": {
              "color": "#E5ECF6",
              "width": 0.5
             },
             "pattern": {
              "fillmode": "overlay",
              "size": 10,
              "solidity": 0.2
             }
            },
            "type": "bar"
           }
          ],
          "barpolar": [
           {
            "marker": {
             "line": {
              "color": "#E5ECF6",
              "width": 0.5
             },
             "pattern": {
              "fillmode": "overlay",
              "size": 10,
              "solidity": 0.2
             }
            },
            "type": "barpolar"
           }
          ],
          "carpet": [
           {
            "aaxis": {
             "endlinecolor": "#2a3f5f",
             "gridcolor": "white",
             "linecolor": "white",
             "minorgridcolor": "white",
             "startlinecolor": "#2a3f5f"
            },
            "baxis": {
             "endlinecolor": "#2a3f5f",
             "gridcolor": "white",
             "linecolor": "white",
             "minorgridcolor": "white",
             "startlinecolor": "#2a3f5f"
            },
            "type": "carpet"
           }
          ],
          "choropleth": [
           {
            "colorbar": {
             "outlinewidth": 0,
             "ticks": ""
            },
            "type": "choropleth"
           }
          ],
          "contour": [
           {
            "colorbar": {
             "outlinewidth": 0,
             "ticks": ""
            },
            "colorscale": [
             [
              0,
              "#0d0887"
             ],
             [
              0.1111111111111111,
              "#46039f"
             ],
             [
              0.2222222222222222,
              "#7201a8"
             ],
             [
              0.3333333333333333,
              "#9c179e"
             ],
             [
              0.4444444444444444,
              "#bd3786"
             ],
             [
              0.5555555555555556,
              "#d8576b"
             ],
             [
              0.6666666666666666,
              "#ed7953"
             ],
             [
              0.7777777777777778,
              "#fb9f3a"
             ],
             [
              0.8888888888888888,
              "#fdca26"
             ],
             [
              1,
              "#f0f921"
             ]
            ],
            "type": "contour"
           }
          ],
          "contourcarpet": [
           {
            "colorbar": {
             "outlinewidth": 0,
             "ticks": ""
            },
            "type": "contourcarpet"
           }
          ],
          "heatmap": [
           {
            "colorbar": {
             "outlinewidth": 0,
             "ticks": ""
            },
            "colorscale": [
             [
              0,
              "#0d0887"
             ],
             [
              0.1111111111111111,
              "#46039f"
             ],
             [
              0.2222222222222222,
              "#7201a8"
             ],
             [
              0.3333333333333333,
              "#9c179e"
             ],
             [
              0.4444444444444444,
              "#bd3786"
             ],
             [
              0.5555555555555556,
              "#d8576b"
             ],
             [
              0.6666666666666666,
              "#ed7953"
             ],
             [
              0.7777777777777778,
              "#fb9f3a"
             ],
             [
              0.8888888888888888,
              "#fdca26"
             ],
             [
              1,
              "#f0f921"
             ]
            ],
            "type": "heatmap"
           }
          ],
          "histogram": [
           {
            "marker": {
             "pattern": {
              "fillmode": "overlay",
              "size": 10,
              "solidity": 0.2
             }
            },
            "type": "histogram"
           }
          ],
          "histogram2d": [
           {
            "colorbar": {
             "outlinewidth": 0,
             "ticks": ""
            },
            "colorscale": [
             [
              0,
              "#0d0887"
             ],
             [
              0.1111111111111111,
              "#46039f"
             ],
             [
              0.2222222222222222,
              "#7201a8"
             ],
             [
              0.3333333333333333,
              "#9c179e"
             ],
             [
              0.4444444444444444,
              "#bd3786"
             ],
             [
              0.5555555555555556,
              "#d8576b"
             ],
             [
              0.6666666666666666,
              "#ed7953"
             ],
             [
              0.7777777777777778,
              "#fb9f3a"
             ],
             [
              0.8888888888888888,
              "#fdca26"
             ],
             [
              1,
              "#f0f921"
             ]
            ],
            "type": "histogram2d"
           }
          ],
          "histogram2dcontour": [
           {
            "colorbar": {
             "outlinewidth": 0,
             "ticks": ""
            },
            "colorscale": [
             [
              0,
              "#0d0887"
             ],
             [
              0.1111111111111111,
              "#46039f"
             ],
             [
              0.2222222222222222,
              "#7201a8"
             ],
             [
              0.3333333333333333,
              "#9c179e"
             ],
             [
              0.4444444444444444,
              "#bd3786"
             ],
             [
              0.5555555555555556,
              "#d8576b"
             ],
             [
              0.6666666666666666,
              "#ed7953"
             ],
             [
              0.7777777777777778,
              "#fb9f3a"
             ],
             [
              0.8888888888888888,
              "#fdca26"
             ],
             [
              1,
              "#f0f921"
             ]
            ],
            "type": "histogram2dcontour"
           }
          ],
          "mesh3d": [
           {
            "colorbar": {
             "outlinewidth": 0,
             "ticks": ""
            },
            "type": "mesh3d"
           }
          ],
          "parcoords": [
           {
            "line": {
             "colorbar": {
              "outlinewidth": 0,
              "ticks": ""
             }
            },
            "type": "parcoords"
           }
          ],
          "pie": [
           {
            "automargin": true,
            "type": "pie"
           }
          ],
          "scatter": [
           {
            "fillpattern": {
             "fillmode": "overlay",
             "size": 10,
             "solidity": 0.2
            },
            "type": "scatter"
           }
          ],
          "scatter3d": [
           {
            "line": {
             "colorbar": {
              "outlinewidth": 0,
              "ticks": ""
             }
            },
            "marker": {
             "colorbar": {
              "outlinewidth": 0,
              "ticks": ""
             }
            },
            "type": "scatter3d"
           }
          ],
          "scattercarpet": [
           {
            "marker": {
             "colorbar": {
              "outlinewidth": 0,
              "ticks": ""
             }
            },
            "type": "scattercarpet"
           }
          ],
          "scattergeo": [
           {
            "marker": {
             "colorbar": {
              "outlinewidth": 0,
              "ticks": ""
             }
            },
            "type": "scattergeo"
           }
          ],
          "scattergl": [
           {
            "marker": {
             "colorbar": {
              "outlinewidth": 0,
              "ticks": ""
             }
            },
            "type": "scattergl"
           }
          ],
          "scattermap": [
           {
            "marker": {
             "colorbar": {
              "outlinewidth": 0,
              "ticks": ""
             }
            },
            "type": "scattermap"
           }
          ],
          "scattermapbox": [
           {
            "marker": {
             "colorbar": {
              "outlinewidth": 0,
              "ticks": ""
             }
            },
            "type": "scattermapbox"
           }
          ],
          "scatterpolar": [
           {
            "marker": {
             "colorbar": {
              "outlinewidth": 0,
              "ticks": ""
             }
            },
            "type": "scatterpolar"
           }
          ],
          "scatterpolargl": [
           {
            "marker": {
             "colorbar": {
              "outlinewidth": 0,
              "ticks": ""
             }
            },
            "type": "scatterpolargl"
           }
          ],
          "scatterternary": [
           {
            "marker": {
             "colorbar": {
              "outlinewidth": 0,
              "ticks": ""
             }
            },
            "type": "scatterternary"
           }
          ],
          "surface": [
           {
            "colorbar": {
             "outlinewidth": 0,
             "ticks": ""
            },
            "colorscale": [
             [
              0,
              "#0d0887"
             ],
             [
              0.1111111111111111,
              "#46039f"
             ],
             [
              0.2222222222222222,
              "#7201a8"
             ],
             [
              0.3333333333333333,
              "#9c179e"
             ],
             [
              0.4444444444444444,
              "#bd3786"
             ],
             [
              0.5555555555555556,
              "#d8576b"
             ],
             [
              0.6666666666666666,
              "#ed7953"
             ],
             [
              0.7777777777777778,
              "#fb9f3a"
             ],
             [
              0.8888888888888888,
              "#fdca26"
             ],
             [
              1,
              "#f0f921"
             ]
            ],
            "type": "surface"
           }
          ],
          "table": [
           {
            "cells": {
             "fill": {
              "color": "#EBF0F8"
             },
             "line": {
              "color": "white"
             }
            },
            "header": {
             "fill": {
              "color": "#C8D4E3"
             },
             "line": {
              "color": "white"
             }
            },
            "type": "table"
           }
          ]
         },
         "layout": {
          "annotationdefaults": {
           "arrowcolor": "#2a3f5f",
           "arrowhead": 0,
           "arrowwidth": 1
          },
          "autotypenumbers": "strict",
          "coloraxis": {
           "colorbar": {
            "outlinewidth": 0,
            "ticks": ""
           }
          },
          "colorscale": {
           "diverging": [
            [
             0,
             "#8e0152"
            ],
            [
             0.1,
             "#c51b7d"
            ],
            [
             0.2,
             "#de77ae"
            ],
            [
             0.3,
             "#f1b6da"
            ],
            [
             0.4,
             "#fde0ef"
            ],
            [
             0.5,
             "#f7f7f7"
            ],
            [
             0.6,
             "#e6f5d0"
            ],
            [
             0.7,
             "#b8e186"
            ],
            [
             0.8,
             "#7fbc41"
            ],
            [
             0.9,
             "#4d9221"
            ],
            [
             1,
             "#276419"
            ]
           ],
           "sequential": [
            [
             0,
             "#0d0887"
            ],
            [
             0.1111111111111111,
             "#46039f"
            ],
            [
             0.2222222222222222,
             "#7201a8"
            ],
            [
             0.3333333333333333,
             "#9c179e"
            ],
            [
             0.4444444444444444,
             "#bd3786"
            ],
            [
             0.5555555555555556,
             "#d8576b"
            ],
            [
             0.6666666666666666,
             "#ed7953"
            ],
            [
             0.7777777777777778,
             "#fb9f3a"
            ],
            [
             0.8888888888888888,
             "#fdca26"
            ],
            [
             1,
             "#f0f921"
            ]
           ],
           "sequentialminus": [
            [
             0,
             "#0d0887"
            ],
            [
             0.1111111111111111,
             "#46039f"
            ],
            [
             0.2222222222222222,
             "#7201a8"
            ],
            [
             0.3333333333333333,
             "#9c179e"
            ],
            [
             0.4444444444444444,
             "#bd3786"
            ],
            [
             0.5555555555555556,
             "#d8576b"
            ],
            [
             0.6666666666666666,
             "#ed7953"
            ],
            [
             0.7777777777777778,
             "#fb9f3a"
            ],
            [
             0.8888888888888888,
             "#fdca26"
            ],
            [
             1,
             "#f0f921"
            ]
           ]
          },
          "colorway": [
           "#636efa",
           "#EF553B",
           "#00cc96",
           "#ab63fa",
           "#FFA15A",
           "#19d3f3",
           "#FF6692",
           "#B6E880",
           "#FF97FF",
           "#FECB52"
          ],
          "font": {
           "color": "#2a3f5f"
          },
          "geo": {
           "bgcolor": "white",
           "lakecolor": "white",
           "landcolor": "#E5ECF6",
           "showlakes": true,
           "showland": true,
           "subunitcolor": "white"
          },
          "hoverlabel": {
           "align": "left"
          },
          "hovermode": "closest",
          "mapbox": {
           "style": "light"
          },
          "paper_bgcolor": "white",
          "plot_bgcolor": "#E5ECF6",
          "polar": {
           "angularaxis": {
            "gridcolor": "white",
            "linecolor": "white",
            "ticks": ""
           },
           "bgcolor": "#E5ECF6",
           "radialaxis": {
            "gridcolor": "white",
            "linecolor": "white",
            "ticks": ""
           }
          },
          "scene": {
           "xaxis": {
            "backgroundcolor": "#E5ECF6",
            "gridcolor": "white",
            "gridwidth": 2,
            "linecolor": "white",
            "showbackground": true,
            "ticks": "",
            "zerolinecolor": "white"
           },
           "yaxis": {
            "backgroundcolor": "#E5ECF6",
            "gridcolor": "white",
            "gridwidth": 2,
            "linecolor": "white",
            "showbackground": true,
            "ticks": "",
            "zerolinecolor": "white"
           },
           "zaxis": {
            "backgroundcolor": "#E5ECF6",
            "gridcolor": "white",
            "gridwidth": 2,
            "linecolor": "white",
            "showbackground": true,
            "ticks": "",
            "zerolinecolor": "white"
           }
          },
          "shapedefaults": {
           "line": {
            "color": "#2a3f5f"
           }
          },
          "ternary": {
           "aaxis": {
            "gridcolor": "white",
            "linecolor": "white",
            "ticks": ""
           },
           "baxis": {
            "gridcolor": "white",
            "linecolor": "white",
            "ticks": ""
           },
           "bgcolor": "#E5ECF6",
           "caxis": {
            "gridcolor": "white",
            "linecolor": "white",
            "ticks": ""
           }
          },
          "title": {
           "x": 0.05
          },
          "xaxis": {
           "automargin": true,
           "gridcolor": "white",
           "linecolor": "white",
           "ticks": "",
           "title": {
            "standoff": 15
           },
           "zerolinecolor": "white",
           "zerolinewidth": 2
          },
          "yaxis": {
           "automargin": true,
           "gridcolor": "white",
           "linecolor": "white",
           "ticks": "",
           "title": {
            "standoff": 15
           },
           "zerolinecolor": "white",
           "zerolinewidth": 2
          }
         }
        },
        "title": {
         "text": "Средний чек по клиентам по часам"
        },
        "xaxis": {
         "anchor": "y",
         "domain": [
          0,
          1
         ],
         "title": {
          "text": "Час дня"
         },
         "type": "category"
        },
        "yaxis": {
         "anchor": "x",
         "domain": [
          0,
          1
         ],
         "title": {
          "text": "Средний чек"
         }
        }
       }
      },
      "text/html": [
       "<div>            <script src=\"https://cdnjs.cloudflare.com/ajax/libs/mathjax/2.7.5/MathJax.js?config=TeX-AMS-MML_SVG\"></script><script type=\"text/javascript\">if (window.MathJax && window.MathJax.Hub && window.MathJax.Hub.Config) {window.MathJax.Hub.Config({SVG: {font: \"STIX-Web\"}});}</script>                <script type=\"text/javascript\">window.PlotlyConfig = {MathJaxConfig: 'local'};</script>\n",
       "        <script charset=\"utf-8\" src=\"https://cdn.plot.ly/plotly-3.0.1.min.js\"></script>                <div id=\"7482b218-bcf8-4ff5-bd00-46bfe5b93ac7\" class=\"plotly-graph-div\" style=\"height:525px; width:100%;\"></div>            <script type=\"text/javascript\">                window.PLOTLYENV=window.PLOTLYENV || {};                                if (document.getElementById(\"7482b218-bcf8-4ff5-bd00-46bfe5b93ac7\")) {                    Plotly.newPlot(                        \"7482b218-bcf8-4ff5-bd00-46bfe5b93ac7\",                        [{\"alignmentgroup\":\"True\",\"hovertemplate\":\"\\u041a\\u043b\\u0438\\u0435\\u043d\\u0442=Metro c&c\\u003cbr\\u003e\\u0427\\u0430\\u0441 \\u0434\\u043d\\u044f=%{x}\\u003cbr\\u003e\\u0421\\u0440\\u0435\\u0434\\u043d\\u0438\\u0439 \\u0447\\u0435\\u043a=%{y}\\u003cextra\\u003e\\u003c\\u002fextra\\u003e\",\"legendgroup\":\"Metro c&c\",\"marker\":{\"color\":\"#636efa\",\"pattern\":{\"shape\":\"\"}},\"name\":\"Metro c&c\",\"offsetgroup\":\"Metro c&c\",\"orientation\":\"v\",\"showlegend\":true,\"textposition\":\"outside\",\"texttemplate\":\"%{y:.2f}\",\"x\":{\"dtype\":\"i4\",\"bdata\":\"AAAAAAEAAAACAAAAAwAAAAQAAAAFAAAABgAAAAcAAAAIAAAACQAAAAoAAAALAAAADAAAAA0AAAAOAAAADwAAABAAAAARAAAAEgAAABMAAAAUAAAAFQAAABYAAAAXAAAA\"},\"xaxis\":\"x\",\"y\":{\"dtype\":\"f4\",\"bdata\":\"AADAfwAAwH8AAMB\\u002fAADAfwAAwH+upvNFFBboRIm2tkai2YBGuJtARgfFM0bhx5FF4YoKRpdvJkYQTytGzY7sRRw+p0VlA6NFfIMTRvPI3kU4b7BFuTUpRtGJqkV7SHNF\"},\"yaxis\":\"y\",\"type\":\"bar\",\"textfont\":{\"size\":12},\"cliponaxis\":false,\"textangle\":0},{\"alignmentgroup\":\"True\",\"hovertemplate\":\"\\u041a\\u043b\\u0438\\u0435\\u043d\\u0442=\\u0413\\u0438\\u043f\\u0435\\u0440\\u0433\\u043b\\u043e\\u0431\\u0443\\u0441\\u003cbr\\u003e\\u0427\\u0430\\u0441 \\u0434\\u043d\\u044f=%{x}\\u003cbr\\u003e\\u0421\\u0440\\u0435\\u0434\\u043d\\u0438\\u0439 \\u0447\\u0435\\u043a=%{y}\\u003cextra\\u003e\\u003c\\u002fextra\\u003e\",\"legendgroup\":\"\\u0413\\u0438\\u043f\\u0435\\u0440\\u0433\\u043b\\u043e\\u0431\\u0443\\u0441\",\"marker\":{\"color\":\"#EF553B\",\"pattern\":{\"shape\":\"\"}},\"name\":\"\\u0413\\u0438\\u043f\\u0435\\u0440\\u0433\\u043b\\u043e\\u0431\\u0443\\u0441\",\"offsetgroup\":\"\\u0413\\u0438\\u043f\\u0435\\u0440\\u0433\\u043b\\u043e\\u0431\\u0443\\u0441\",\"orientation\":\"v\",\"showlegend\":true,\"textposition\":\"outside\",\"texttemplate\":\"%{y:.2f}\",\"x\":{\"dtype\":\"i4\",\"bdata\":\"AAAAAAEAAAACAAAAAwAAAAQAAAAFAAAABgAAAAcAAAAIAAAACQAAAAoAAAALAAAADAAAAA0AAAAOAAAADwAAABAAAAARAAAAEgAAABMAAAAUAAAAFQAAABYAAAAXAAAA\"},\"xaxis\":\"x\",\"y\":{\"dtype\":\"f4\",\"bdata\":\"5YIURX\\u002fyI0UkehZFkGgNRQLEJ0VZMiRF318wRe+PRkXTFWNFp1JgRU0HW0UsmVZFYtVYRezJVEXNb1hF+ldTRdOhT0VDE1BF2ftIRSaQRUXmVUNFFKlERRlpPUWbWDBF\"},\"yaxis\":\"y\",\"type\":\"bar\",\"textfont\":{\"size\":12},\"cliponaxis\":false,\"textangle\":0},{\"alignmentgroup\":\"True\",\"hovertemplate\":\"\\u041a\\u043b\\u0438\\u0435\\u043d\\u0442=\\u041e\\u043a\\u0435\\u0439\\u003cbr\\u003e\\u0427\\u0430\\u0441 \\u0434\\u043d\\u044f=%{x}\\u003cbr\\u003e\\u0421\\u0440\\u0435\\u0434\\u043d\\u0438\\u0439 \\u0447\\u0435\\u043a=%{y}\\u003cextra\\u003e\\u003c\\u002fextra\\u003e\",\"legendgroup\":\"\\u041e\\u043a\\u0435\\u0439\",\"marker\":{\"color\":\"#00cc96\",\"pattern\":{\"shape\":\"\"}},\"name\":\"\\u041e\\u043a\\u0435\\u0439\",\"offsetgroup\":\"\\u041e\\u043a\\u0435\\u0439\",\"orientation\":\"v\",\"showlegend\":true,\"textposition\":\"outside\",\"texttemplate\":\"%{y:.2f}\",\"x\":{\"dtype\":\"i4\",\"bdata\":\"AAAAAAEAAAACAAAAAwAAAAQAAAAFAAAABgAAAAcAAAAIAAAACQAAAAoAAAALAAAADAAAAA0AAAAOAAAADwAAABAAAAARAAAAEgAAABMAAAAUAAAAFQAAABYAAAAXAAAA\"},\"xaxis\":\"x\",\"y\":{\"dtype\":\"f4\",\"bdata\":\"XJ8gRQAAwH8AAMB\\u002fAADAfwAAwH8AAMB\\u002fAADAfwAAwH\\u002ffHBdFEj0lRXmxKUXAQyFF+4YdRcqOIkW4MidFmaAeRdtyG0WvTBlF8s8bRT+7GUWEjBVFyLIBRcrt7UQ34whF\"},\"yaxis\":\"y\",\"type\":\"bar\",\"textfont\":{\"size\":12},\"cliponaxis\":false,\"textangle\":0}],                        {\"template\":{\"data\":{\"histogram2dcontour\":[{\"type\":\"histogram2dcontour\",\"colorbar\":{\"outlinewidth\":0,\"ticks\":\"\"},\"colorscale\":[[0.0,\"#0d0887\"],[0.1111111111111111,\"#46039f\"],[0.2222222222222222,\"#7201a8\"],[0.3333333333333333,\"#9c179e\"],[0.4444444444444444,\"#bd3786\"],[0.5555555555555556,\"#d8576b\"],[0.6666666666666666,\"#ed7953\"],[0.7777777777777778,\"#fb9f3a\"],[0.8888888888888888,\"#fdca26\"],[1.0,\"#f0f921\"]]}],\"choropleth\":[{\"type\":\"choropleth\",\"colorbar\":{\"outlinewidth\":0,\"ticks\":\"\"}}],\"histogram2d\":[{\"type\":\"histogram2d\",\"colorbar\":{\"outlinewidth\":0,\"ticks\":\"\"},\"colorscale\":[[0.0,\"#0d0887\"],[0.1111111111111111,\"#46039f\"],[0.2222222222222222,\"#7201a8\"],[0.3333333333333333,\"#9c179e\"],[0.4444444444444444,\"#bd3786\"],[0.5555555555555556,\"#d8576b\"],[0.6666666666666666,\"#ed7953\"],[0.7777777777777778,\"#fb9f3a\"],[0.8888888888888888,\"#fdca26\"],[1.0,\"#f0f921\"]]}],\"heatmap\":[{\"type\":\"heatmap\",\"colorbar\":{\"outlinewidth\":0,\"ticks\":\"\"},\"colorscale\":[[0.0,\"#0d0887\"],[0.1111111111111111,\"#46039f\"],[0.2222222222222222,\"#7201a8\"],[0.3333333333333333,\"#9c179e\"],[0.4444444444444444,\"#bd3786\"],[0.5555555555555556,\"#d8576b\"],[0.6666666666666666,\"#ed7953\"],[0.7777777777777778,\"#fb9f3a\"],[0.8888888888888888,\"#fdca26\"],[1.0,\"#f0f921\"]]}],\"contourcarpet\":[{\"type\":\"contourcarpet\",\"colorbar\":{\"outlinewidth\":0,\"ticks\":\"\"}}],\"contour\":[{\"type\":\"contour\",\"colorbar\":{\"outlinewidth\":0,\"ticks\":\"\"},\"colorscale\":[[0.0,\"#0d0887\"],[0.1111111111111111,\"#46039f\"],[0.2222222222222222,\"#7201a8\"],[0.3333333333333333,\"#9c179e\"],[0.4444444444444444,\"#bd3786\"],[0.5555555555555556,\"#d8576b\"],[0.6666666666666666,\"#ed7953\"],[0.7777777777777778,\"#fb9f3a\"],[0.8888888888888888,\"#fdca26\"],[1.0,\"#f0f921\"]]}],\"surface\":[{\"type\":\"surface\",\"colorbar\":{\"outlinewidth\":0,\"ticks\":\"\"},\"colorscale\":[[0.0,\"#0d0887\"],[0.1111111111111111,\"#46039f\"],[0.2222222222222222,\"#7201a8\"],[0.3333333333333333,\"#9c179e\"],[0.4444444444444444,\"#bd3786\"],[0.5555555555555556,\"#d8576b\"],[0.6666666666666666,\"#ed7953\"],[0.7777777777777778,\"#fb9f3a\"],[0.8888888888888888,\"#fdca26\"],[1.0,\"#f0f921\"]]}],\"mesh3d\":[{\"type\":\"mesh3d\",\"colorbar\":{\"outlinewidth\":0,\"ticks\":\"\"}}],\"scatter\":[{\"fillpattern\":{\"fillmode\":\"overlay\",\"size\":10,\"solidity\":0.2},\"type\":\"scatter\"}],\"parcoords\":[{\"type\":\"parcoords\",\"line\":{\"colorbar\":{\"outlinewidth\":0,\"ticks\":\"\"}}}],\"scatterpolargl\":[{\"type\":\"scatterpolargl\",\"marker\":{\"colorbar\":{\"outlinewidth\":0,\"ticks\":\"\"}}}],\"bar\":[{\"error_x\":{\"color\":\"#2a3f5f\"},\"error_y\":{\"color\":\"#2a3f5f\"},\"marker\":{\"line\":{\"color\":\"#E5ECF6\",\"width\":0.5},\"pattern\":{\"fillmode\":\"overlay\",\"size\":10,\"solidity\":0.2}},\"type\":\"bar\"}],\"scattergeo\":[{\"type\":\"scattergeo\",\"marker\":{\"colorbar\":{\"outlinewidth\":0,\"ticks\":\"\"}}}],\"scatterpolar\":[{\"type\":\"scatterpolar\",\"marker\":{\"colorbar\":{\"outlinewidth\":0,\"ticks\":\"\"}}}],\"histogram\":[{\"marker\":{\"pattern\":{\"fillmode\":\"overlay\",\"size\":10,\"solidity\":0.2}},\"type\":\"histogram\"}],\"scattergl\":[{\"type\":\"scattergl\",\"marker\":{\"colorbar\":{\"outlinewidth\":0,\"ticks\":\"\"}}}],\"scatter3d\":[{\"type\":\"scatter3d\",\"line\":{\"colorbar\":{\"outlinewidth\":0,\"ticks\":\"\"}},\"marker\":{\"colorbar\":{\"outlinewidth\":0,\"ticks\":\"\"}}}],\"scattermap\":[{\"type\":\"scattermap\",\"marker\":{\"colorbar\":{\"outlinewidth\":0,\"ticks\":\"\"}}}],\"scattermapbox\":[{\"type\":\"scattermapbox\",\"marker\":{\"colorbar\":{\"outlinewidth\":0,\"ticks\":\"\"}}}],\"scatterternary\":[{\"type\":\"scatterternary\",\"marker\":{\"colorbar\":{\"outlinewidth\":0,\"ticks\":\"\"}}}],\"scattercarpet\":[{\"type\":\"scattercarpet\",\"marker\":{\"colorbar\":{\"outlinewidth\":0,\"ticks\":\"\"}}}],\"carpet\":[{\"aaxis\":{\"endlinecolor\":\"#2a3f5f\",\"gridcolor\":\"white\",\"linecolor\":\"white\",\"minorgridcolor\":\"white\",\"startlinecolor\":\"#2a3f5f\"},\"baxis\":{\"endlinecolor\":\"#2a3f5f\",\"gridcolor\":\"white\",\"linecolor\":\"white\",\"minorgridcolor\":\"white\",\"startlinecolor\":\"#2a3f5f\"},\"type\":\"carpet\"}],\"table\":[{\"cells\":{\"fill\":{\"color\":\"#EBF0F8\"},\"line\":{\"color\":\"white\"}},\"header\":{\"fill\":{\"color\":\"#C8D4E3\"},\"line\":{\"color\":\"white\"}},\"type\":\"table\"}],\"barpolar\":[{\"marker\":{\"line\":{\"color\":\"#E5ECF6\",\"width\":0.5},\"pattern\":{\"fillmode\":\"overlay\",\"size\":10,\"solidity\":0.2}},\"type\":\"barpolar\"}],\"pie\":[{\"automargin\":true,\"type\":\"pie\"}]},\"layout\":{\"autotypenumbers\":\"strict\",\"colorway\":[\"#636efa\",\"#EF553B\",\"#00cc96\",\"#ab63fa\",\"#FFA15A\",\"#19d3f3\",\"#FF6692\",\"#B6E880\",\"#FF97FF\",\"#FECB52\"],\"font\":{\"color\":\"#2a3f5f\"},\"hovermode\":\"closest\",\"hoverlabel\":{\"align\":\"left\"},\"paper_bgcolor\":\"white\",\"plot_bgcolor\":\"#E5ECF6\",\"polar\":{\"bgcolor\":\"#E5ECF6\",\"angularaxis\":{\"gridcolor\":\"white\",\"linecolor\":\"white\",\"ticks\":\"\"},\"radialaxis\":{\"gridcolor\":\"white\",\"linecolor\":\"white\",\"ticks\":\"\"}},\"ternary\":{\"bgcolor\":\"#E5ECF6\",\"aaxis\":{\"gridcolor\":\"white\",\"linecolor\":\"white\",\"ticks\":\"\"},\"baxis\":{\"gridcolor\":\"white\",\"linecolor\":\"white\",\"ticks\":\"\"},\"caxis\":{\"gridcolor\":\"white\",\"linecolor\":\"white\",\"ticks\":\"\"}},\"coloraxis\":{\"colorbar\":{\"outlinewidth\":0,\"ticks\":\"\"}},\"colorscale\":{\"sequential\":[[0.0,\"#0d0887\"],[0.1111111111111111,\"#46039f\"],[0.2222222222222222,\"#7201a8\"],[0.3333333333333333,\"#9c179e\"],[0.4444444444444444,\"#bd3786\"],[0.5555555555555556,\"#d8576b\"],[0.6666666666666666,\"#ed7953\"],[0.7777777777777778,\"#fb9f3a\"],[0.8888888888888888,\"#fdca26\"],[1.0,\"#f0f921\"]],\"sequentialminus\":[[0.0,\"#0d0887\"],[0.1111111111111111,\"#46039f\"],[0.2222222222222222,\"#7201a8\"],[0.3333333333333333,\"#9c179e\"],[0.4444444444444444,\"#bd3786\"],[0.5555555555555556,\"#d8576b\"],[0.6666666666666666,\"#ed7953\"],[0.7777777777777778,\"#fb9f3a\"],[0.8888888888888888,\"#fdca26\"],[1.0,\"#f0f921\"]],\"diverging\":[[0,\"#8e0152\"],[0.1,\"#c51b7d\"],[0.2,\"#de77ae\"],[0.3,\"#f1b6da\"],[0.4,\"#fde0ef\"],[0.5,\"#f7f7f7\"],[0.6,\"#e6f5d0\"],[0.7,\"#b8e186\"],[0.8,\"#7fbc41\"],[0.9,\"#4d9221\"],[1,\"#276419\"]]},\"xaxis\":{\"gridcolor\":\"white\",\"linecolor\":\"white\",\"ticks\":\"\",\"title\":{\"standoff\":15},\"zerolinecolor\":\"white\",\"automargin\":true,\"zerolinewidth\":2},\"yaxis\":{\"gridcolor\":\"white\",\"linecolor\":\"white\",\"ticks\":\"\",\"title\":{\"standoff\":15},\"zerolinecolor\":\"white\",\"automargin\":true,\"zerolinewidth\":2},\"scene\":{\"xaxis\":{\"backgroundcolor\":\"#E5ECF6\",\"gridcolor\":\"white\",\"linecolor\":\"white\",\"showbackground\":true,\"ticks\":\"\",\"zerolinecolor\":\"white\",\"gridwidth\":2},\"yaxis\":{\"backgroundcolor\":\"#E5ECF6\",\"gridcolor\":\"white\",\"linecolor\":\"white\",\"showbackground\":true,\"ticks\":\"\",\"zerolinecolor\":\"white\",\"gridwidth\":2},\"zaxis\":{\"backgroundcolor\":\"#E5ECF6\",\"gridcolor\":\"white\",\"linecolor\":\"white\",\"showbackground\":true,\"ticks\":\"\",\"zerolinecolor\":\"white\",\"gridwidth\":2}},\"shapedefaults\":{\"line\":{\"color\":\"#2a3f5f\"}},\"annotationdefaults\":{\"arrowcolor\":\"#2a3f5f\",\"arrowhead\":0,\"arrowwidth\":1},\"geo\":{\"bgcolor\":\"white\",\"landcolor\":\"#E5ECF6\",\"subunitcolor\":\"white\",\"showland\":true,\"showlakes\":true,\"lakecolor\":\"white\"},\"title\":{\"x\":0.05},\"mapbox\":{\"style\":\"light\"}}},\"xaxis\":{\"anchor\":\"y\",\"domain\":[0.0,1.0],\"title\":{\"text\":\"\\u0427\\u0430\\u0441 \\u0434\\u043d\\u044f\"},\"type\":\"category\"},\"yaxis\":{\"anchor\":\"x\",\"domain\":[0.0,1.0],\"title\":{\"text\":\"\\u0421\\u0440\\u0435\\u0434\\u043d\\u0438\\u0439 \\u0447\\u0435\\u043a\"}},\"legend\":{\"title\":{\"text\":\"\\u0422\\u043e\\u0440\\u0433\\u043e\\u0432\\u0430\\u044f \\u0441\\u0435\\u0442\\u044c\"},\"tracegroupgap\":0},\"title\":{\"text\":\"\\u0421\\u0440\\u0435\\u0434\\u043d\\u0438\\u0439 \\u0447\\u0435\\u043a \\u043f\\u043e \\u043a\\u043b\\u0438\\u0435\\u043d\\u0442\\u0430\\u043c \\u043f\\u043e \\u0447\\u0430\\u0441\\u0430\\u043c\"},\"barmode\":\"group\",\"hovermode\":\"x unified\"},                        {\"responsive\": true}                    ).then(function(){\n",
       "                            \n",
       "var gd = document.getElementById('7482b218-bcf8-4ff5-bd00-46bfe5b93ac7');\n",
       "var x = new MutationObserver(function (mutations, observer) {{\n",
       "        var display = window.getComputedStyle(gd).display;\n",
       "        if (!display || display === 'none') {{\n",
       "            console.log([gd, 'removed!']);\n",
       "            Plotly.purge(gd);\n",
       "            observer.disconnect();\n",
       "        }}\n",
       "}});\n",
       "\n",
       "// Listen for the removal of the full notebook cells\n",
       "var notebookContainer = gd.closest('#notebook-container');\n",
       "if (notebookContainer) {{\n",
       "    x.observe(notebookContainer, {childList: true});\n",
       "}}\n",
       "\n",
       "// Listen for the clearing of the current output cell\n",
       "var outputEl = gd.closest('.output');\n",
       "if (outputEl) {{\n",
       "    x.observe(outputEl, {childList: true});\n",
       "}}\n",
       "\n",
       "                        })                };            </script>        </div>"
      ]
     },
     "metadata": {},
     "output_type": "display_data"
    }
   ],
   "source": [
    "df_long = mc2.reset_index().melt(id_vars='hour', var_name='client_NT', value_name='mean_totalSum')\n",
    "\n",
    "# Строим barplot\n",
    "fig = px.bar(\n",
    "    df_long,\n",
    "    x='hour',\n",
    "    y='mean_totalSum',\n",
    "    color='client_NT',\n",
    "    barmode='group',  # Группированные столбцы\n",
    "    title='Средний чек по клиентам по часам',\n",
    "    labels={\n",
    "        'hour': 'Час дня',\n",
    "        'mean_totalSum': 'Средний чек',\n",
    "        'client_NT': 'Клиент'\n",
    "    },\n",
    "    text_auto='.2f'  # Автоматическое отображение значений с 2 знаками после запятой\n",
    ")\n",
    "\n",
    "# Настраиваем отображение\n",
    "fig.update_layout(\n",
    "    xaxis=dict(\n",
    "        type='category',  # Чтобы часы отображались как категории\n",
    "        title='Час дня'\n",
    "    ),\n",
    "    yaxis_title='Средний чек',\n",
    "    legend_title='Торговая сеть',\n",
    "    hovermode='x unified'  # Общая подсказка для всех столбцов при наведении\n",
    ")\n",
    "\n",
    "# Добавляем подписи значений над столбцами\n",
    "fig.update_traces(\n",
    "    textfont_size=12,\n",
    "    textangle=0,\n",
    "    textposition=\"outside\",\n",
    "    cliponaxis=False\n",
    ")\n",
    "\n",
    "fig.show()"
   ]
  },
  {
   "cell_type": "markdown",
   "id": "7ea65961",
   "metadata": {},
   "source": [
    "Аналогично сформируем таблицу со средним чеком по дням недели во всех торговых сетях для сравнения:"
   ]
  },
  {
   "cell_type": "code",
   "execution_count": 42,
   "id": "aafc68b3",
   "metadata": {},
   "outputs": [
    {
     "data": {
      "application/vnd.microsoft.datawrangler.viewer.v0+json": {
       "columns": [
        {
         "name": "weekday",
         "rawType": "object",
         "type": "string"
        },
        {
         "name": "Metro c&c",
         "rawType": "float32",
         "type": "float"
        },
        {
         "name": "Гиперглобус",
         "rawType": "float32",
         "type": "float"
        },
        {
         "name": "Окей",
         "rawType": "float32",
         "type": "float"
        }
       ],
       "conversionMethod": "pd.DataFrame",
       "ref": "0e5406a2-c05e-4f43-bbe4-f5c9145d3b06",
       "rows": [
        [
         "1.Понедельник",
         "6744.429",
         "3247.5208",
         "2327.74"
        ],
        [
         "2.Вторник",
         "7085.2305",
         "3228.5454",
         "2341.7917"
        ],
        [
         "3.Среда",
         "8142.4297",
         "3228.6748",
         "2188.7861"
        ],
        [
         "4.Четверг",
         "9022.472",
         "3314.414",
         "2422.3733"
        ],
        [
         "5.Пятница",
         "29299.12",
         "3557.9421",
         "2616.5962"
        ],
        [
         "6.Суббота",
         "13894.147",
         "3541.0537",
         "2833.782"
        ],
        [
         "7.Воскресенье",
         "5931.0",
         "3360.1223",
         "2611.257"
        ]
       ],
       "shape": {
        "columns": 3,
        "rows": 7
       }
      },
      "text/html": [
       "<div>\n",
       "<style scoped>\n",
       "    .dataframe tbody tr th:only-of-type {\n",
       "        vertical-align: middle;\n",
       "    }\n",
       "\n",
       "    .dataframe tbody tr th {\n",
       "        vertical-align: top;\n",
       "    }\n",
       "\n",
       "    .dataframe thead th {\n",
       "        text-align: right;\n",
       "    }\n",
       "</style>\n",
       "<table border=\"1\" class=\"dataframe\">\n",
       "  <thead>\n",
       "    <tr style=\"text-align: right;\">\n",
       "      <th>client_NT</th>\n",
       "      <th>Metro c&amp;c</th>\n",
       "      <th>Гиперглобус</th>\n",
       "      <th>Окей</th>\n",
       "    </tr>\n",
       "    <tr>\n",
       "      <th>weekday</th>\n",
       "      <th></th>\n",
       "      <th></th>\n",
       "      <th></th>\n",
       "    </tr>\n",
       "  </thead>\n",
       "  <tbody>\n",
       "    <tr>\n",
       "      <th>1.Понедельник</th>\n",
       "      <td>6744.43</td>\n",
       "      <td>3247.52</td>\n",
       "      <td>2327.74</td>\n",
       "    </tr>\n",
       "    <tr>\n",
       "      <th>2.Вторник</th>\n",
       "      <td>7085.23</td>\n",
       "      <td>3228.55</td>\n",
       "      <td>2341.79</td>\n",
       "    </tr>\n",
       "    <tr>\n",
       "      <th>3.Среда</th>\n",
       "      <td>8142.43</td>\n",
       "      <td>3228.67</td>\n",
       "      <td>2188.79</td>\n",
       "    </tr>\n",
       "    <tr>\n",
       "      <th>4.Четверг</th>\n",
       "      <td>9022.47</td>\n",
       "      <td>3314.41</td>\n",
       "      <td>2422.37</td>\n",
       "    </tr>\n",
       "    <tr>\n",
       "      <th>5.Пятница</th>\n",
       "      <td>29299.12</td>\n",
       "      <td>3557.94</td>\n",
       "      <td>2616.60</td>\n",
       "    </tr>\n",
       "    <tr>\n",
       "      <th>6.Суббота</th>\n",
       "      <td>13894.15</td>\n",
       "      <td>3541.05</td>\n",
       "      <td>2833.78</td>\n",
       "    </tr>\n",
       "    <tr>\n",
       "      <th>7.Воскресенье</th>\n",
       "      <td>5931.00</td>\n",
       "      <td>3360.12</td>\n",
       "      <td>2611.26</td>\n",
       "    </tr>\n",
       "  </tbody>\n",
       "</table>\n",
       "</div>"
      ],
      "text/plain": [
       "client_NT      Metro c&c  Гиперглобус    Окей\n",
       "weekday                                      \n",
       "1.Понедельник    6744.43      3247.52 2327.74\n",
       "2.Вторник        7085.23      3228.55 2341.79\n",
       "3.Среда          8142.43      3228.67 2188.79\n",
       "4.Четверг        9022.47      3314.41 2422.37\n",
       "5.Пятница       29299.12      3557.94 2616.60\n",
       "6.Суббота       13894.15      3541.05 2833.78\n",
       "7.Воскресенье    5931.00      3360.12 2611.26"
      ]
     },
     "execution_count": 42,
     "metadata": {},
     "output_type": "execute_result"
    }
   ],
   "source": [
    "mc3 = mean_check.pivot_table(\n",
    "    values='totalSum',\n",
    "    index='weekday',\n",
    "    columns='client_NT',\n",
    "    aggfunc='mean',\n",
    "    observed=False\n",
    "    )\n",
    "mc3"
   ]
  },
  {
   "cell_type": "code",
   "execution_count": 55,
   "id": "85fc2ff2",
   "metadata": {},
   "outputs": [
    {
     "data": {
      "application/vnd.plotly.v1+json": {
       "config": {
        "plotlyServerURL": "https://plot.ly"
       },
       "data": [
        {
         "alignmentgroup": "True",
         "cliponaxis": false,
         "hovertemplate": "Торговая сеть=Metro c&c<br>День недели=%{x}<br>Средний чек=%{y}<extra></extra>",
         "legendgroup": "Metro c&c",
         "marker": {
          "color": "#636efa",
          "pattern": {
           "shape": ""
          }
         },
         "name": "Metro c&c",
         "offsetgroup": "Metro c&c",
         "orientation": "v",
         "showlegend": true,
         "textangle": 0,
         "textfont": {
          "size": 12
         },
         "textposition": "outside",
         "texttemplate": "%{y:.2f}",
         "type": "bar",
         "x": [
          "1.Понедельник",
          "2.Вторник",
          "3.Среда",
          "4.Четверг",
          "5.Пятница",
          "6.Суббота",
          "7.Воскресенье"
         ],
         "xaxis": "x",
         "y": {
          "bdata": "b8PSRdhp3UVwc/5F4/kMRj3m5EaXGFlGAFi5RQ==",
          "dtype": "f4"
         },
         "yaxis": "y"
        },
        {
         "alignmentgroup": "True",
         "cliponaxis": false,
         "hovertemplate": "Торговая сеть=Гиперглобус<br>День недели=%{x}<br>Средний чек=%{y}<extra></extra>",
         "legendgroup": "Гиперглобус",
         "marker": {
          "color": "#EF553B",
          "pattern": {
           "shape": ""
          }
         },
         "name": "Гиперглобус",
         "offsetgroup": "Гиперглобус",
         "orientation": "v",
         "showlegend": true,
         "textangle": 0,
         "textfont": {
          "size": 12
         },
         "textposition": "outside",
         "texttemplate": "%{y:.2f}",
         "type": "bar",
         "x": [
          "1.Понедельник",
          "2.Вторник",
          "3.Среда",
          "4.Четверг",
          "5.Пятница",
          "6.Суббота",
          "7.Воскресенье"
         ],
         "xaxis": "x",
         "y": {
          "bdata": "VfhKRbrISUXMyklFoCZPRRNfXkXcUF1F9QFSRQ==",
          "dtype": "f4"
         },
         "yaxis": "y"
        },
        {
         "alignmentgroup": "True",
         "cliponaxis": false,
         "hovertemplate": "Торговая сеть=Окей<br>День недели=%{x}<br>Средний чек=%{y}<extra></extra>",
         "legendgroup": "Окей",
         "marker": {
          "color": "#00cc96",
          "pattern": {
           "shape": ""
          }
         },
         "name": "Окей",
         "offsetgroup": "Окей",
         "orientation": "v",
         "showlegend": true,
         "textangle": 0,
         "textfont": {
          "size": 12
         },
         "textposition": "outside",
         "texttemplate": "%{y:.2f}",
         "type": "bar",
         "x": [
          "1.Понедельник",
          "2.Вторник",
          "3.Среда",
          "4.Четверг",
          "5.Пятница",
          "6.Суббота",
          "7.Воскресенье"
         ],
         "xaxis": "x",
         "y": {
          "bdata": "13sRRatcEkWUzAhF+WUXRYqJI0WDHDFFHTQjRQ==",
          "dtype": "f4"
         },
         "yaxis": "y"
        }
       ],
       "layout": {
        "barmode": "group",
        "hovermode": "x unified",
        "legend": {
         "title": {
          "text": "Клиенты"
         },
         "tracegroupgap": 0
        },
        "template": {
         "data": {
          "bar": [
           {
            "error_x": {
             "color": "#2a3f5f"
            },
            "error_y": {
             "color": "#2a3f5f"
            },
            "marker": {
             "line": {
              "color": "#E5ECF6",
              "width": 0.5
             },
             "pattern": {
              "fillmode": "overlay",
              "size": 10,
              "solidity": 0.2
             }
            },
            "type": "bar"
           }
          ],
          "barpolar": [
           {
            "marker": {
             "line": {
              "color": "#E5ECF6",
              "width": 0.5
             },
             "pattern": {
              "fillmode": "overlay",
              "size": 10,
              "solidity": 0.2
             }
            },
            "type": "barpolar"
           }
          ],
          "carpet": [
           {
            "aaxis": {
             "endlinecolor": "#2a3f5f",
             "gridcolor": "white",
             "linecolor": "white",
             "minorgridcolor": "white",
             "startlinecolor": "#2a3f5f"
            },
            "baxis": {
             "endlinecolor": "#2a3f5f",
             "gridcolor": "white",
             "linecolor": "white",
             "minorgridcolor": "white",
             "startlinecolor": "#2a3f5f"
            },
            "type": "carpet"
           }
          ],
          "choropleth": [
           {
            "colorbar": {
             "outlinewidth": 0,
             "ticks": ""
            },
            "type": "choropleth"
           }
          ],
          "contour": [
           {
            "colorbar": {
             "outlinewidth": 0,
             "ticks": ""
            },
            "colorscale": [
             [
              0,
              "#0d0887"
             ],
             [
              0.1111111111111111,
              "#46039f"
             ],
             [
              0.2222222222222222,
              "#7201a8"
             ],
             [
              0.3333333333333333,
              "#9c179e"
             ],
             [
              0.4444444444444444,
              "#bd3786"
             ],
             [
              0.5555555555555556,
              "#d8576b"
             ],
             [
              0.6666666666666666,
              "#ed7953"
             ],
             [
              0.7777777777777778,
              "#fb9f3a"
             ],
             [
              0.8888888888888888,
              "#fdca26"
             ],
             [
              1,
              "#f0f921"
             ]
            ],
            "type": "contour"
           }
          ],
          "contourcarpet": [
           {
            "colorbar": {
             "outlinewidth": 0,
             "ticks": ""
            },
            "type": "contourcarpet"
           }
          ],
          "heatmap": [
           {
            "colorbar": {
             "outlinewidth": 0,
             "ticks": ""
            },
            "colorscale": [
             [
              0,
              "#0d0887"
             ],
             [
              0.1111111111111111,
              "#46039f"
             ],
             [
              0.2222222222222222,
              "#7201a8"
             ],
             [
              0.3333333333333333,
              "#9c179e"
             ],
             [
              0.4444444444444444,
              "#bd3786"
             ],
             [
              0.5555555555555556,
              "#d8576b"
             ],
             [
              0.6666666666666666,
              "#ed7953"
             ],
             [
              0.7777777777777778,
              "#fb9f3a"
             ],
             [
              0.8888888888888888,
              "#fdca26"
             ],
             [
              1,
              "#f0f921"
             ]
            ],
            "type": "heatmap"
           }
          ],
          "histogram": [
           {
            "marker": {
             "pattern": {
              "fillmode": "overlay",
              "size": 10,
              "solidity": 0.2
             }
            },
            "type": "histogram"
           }
          ],
          "histogram2d": [
           {
            "colorbar": {
             "outlinewidth": 0,
             "ticks": ""
            },
            "colorscale": [
             [
              0,
              "#0d0887"
             ],
             [
              0.1111111111111111,
              "#46039f"
             ],
             [
              0.2222222222222222,
              "#7201a8"
             ],
             [
              0.3333333333333333,
              "#9c179e"
             ],
             [
              0.4444444444444444,
              "#bd3786"
             ],
             [
              0.5555555555555556,
              "#d8576b"
             ],
             [
              0.6666666666666666,
              "#ed7953"
             ],
             [
              0.7777777777777778,
              "#fb9f3a"
             ],
             [
              0.8888888888888888,
              "#fdca26"
             ],
             [
              1,
              "#f0f921"
             ]
            ],
            "type": "histogram2d"
           }
          ],
          "histogram2dcontour": [
           {
            "colorbar": {
             "outlinewidth": 0,
             "ticks": ""
            },
            "colorscale": [
             [
              0,
              "#0d0887"
             ],
             [
              0.1111111111111111,
              "#46039f"
             ],
             [
              0.2222222222222222,
              "#7201a8"
             ],
             [
              0.3333333333333333,
              "#9c179e"
             ],
             [
              0.4444444444444444,
              "#bd3786"
             ],
             [
              0.5555555555555556,
              "#d8576b"
             ],
             [
              0.6666666666666666,
              "#ed7953"
             ],
             [
              0.7777777777777778,
              "#fb9f3a"
             ],
             [
              0.8888888888888888,
              "#fdca26"
             ],
             [
              1,
              "#f0f921"
             ]
            ],
            "type": "histogram2dcontour"
           }
          ],
          "mesh3d": [
           {
            "colorbar": {
             "outlinewidth": 0,
             "ticks": ""
            },
            "type": "mesh3d"
           }
          ],
          "parcoords": [
           {
            "line": {
             "colorbar": {
              "outlinewidth": 0,
              "ticks": ""
             }
            },
            "type": "parcoords"
           }
          ],
          "pie": [
           {
            "automargin": true,
            "type": "pie"
           }
          ],
          "scatter": [
           {
            "fillpattern": {
             "fillmode": "overlay",
             "size": 10,
             "solidity": 0.2
            },
            "type": "scatter"
           }
          ],
          "scatter3d": [
           {
            "line": {
             "colorbar": {
              "outlinewidth": 0,
              "ticks": ""
             }
            },
            "marker": {
             "colorbar": {
              "outlinewidth": 0,
              "ticks": ""
             }
            },
            "type": "scatter3d"
           }
          ],
          "scattercarpet": [
           {
            "marker": {
             "colorbar": {
              "outlinewidth": 0,
              "ticks": ""
             }
            },
            "type": "scattercarpet"
           }
          ],
          "scattergeo": [
           {
            "marker": {
             "colorbar": {
              "outlinewidth": 0,
              "ticks": ""
             }
            },
            "type": "scattergeo"
           }
          ],
          "scattergl": [
           {
            "marker": {
             "colorbar": {
              "outlinewidth": 0,
              "ticks": ""
             }
            },
            "type": "scattergl"
           }
          ],
          "scattermap": [
           {
            "marker": {
             "colorbar": {
              "outlinewidth": 0,
              "ticks": ""
             }
            },
            "type": "scattermap"
           }
          ],
          "scattermapbox": [
           {
            "marker": {
             "colorbar": {
              "outlinewidth": 0,
              "ticks": ""
             }
            },
            "type": "scattermapbox"
           }
          ],
          "scatterpolar": [
           {
            "marker": {
             "colorbar": {
              "outlinewidth": 0,
              "ticks": ""
             }
            },
            "type": "scatterpolar"
           }
          ],
          "scatterpolargl": [
           {
            "marker": {
             "colorbar": {
              "outlinewidth": 0,
              "ticks": ""
             }
            },
            "type": "scatterpolargl"
           }
          ],
          "scatterternary": [
           {
            "marker": {
             "colorbar": {
              "outlinewidth": 0,
              "ticks": ""
             }
            },
            "type": "scatterternary"
           }
          ],
          "surface": [
           {
            "colorbar": {
             "outlinewidth": 0,
             "ticks": ""
            },
            "colorscale": [
             [
              0,
              "#0d0887"
             ],
             [
              0.1111111111111111,
              "#46039f"
             ],
             [
              0.2222222222222222,
              "#7201a8"
             ],
             [
              0.3333333333333333,
              "#9c179e"
             ],
             [
              0.4444444444444444,
              "#bd3786"
             ],
             [
              0.5555555555555556,
              "#d8576b"
             ],
             [
              0.6666666666666666,
              "#ed7953"
             ],
             [
              0.7777777777777778,
              "#fb9f3a"
             ],
             [
              0.8888888888888888,
              "#fdca26"
             ],
             [
              1,
              "#f0f921"
             ]
            ],
            "type": "surface"
           }
          ],
          "table": [
           {
            "cells": {
             "fill": {
              "color": "#EBF0F8"
             },
             "line": {
              "color": "white"
             }
            },
            "header": {
             "fill": {
              "color": "#C8D4E3"
             },
             "line": {
              "color": "white"
             }
            },
            "type": "table"
           }
          ]
         },
         "layout": {
          "annotationdefaults": {
           "arrowcolor": "#2a3f5f",
           "arrowhead": 0,
           "arrowwidth": 1
          },
          "autotypenumbers": "strict",
          "coloraxis": {
           "colorbar": {
            "outlinewidth": 0,
            "ticks": ""
           }
          },
          "colorscale": {
           "diverging": [
            [
             0,
             "#8e0152"
            ],
            [
             0.1,
             "#c51b7d"
            ],
            [
             0.2,
             "#de77ae"
            ],
            [
             0.3,
             "#f1b6da"
            ],
            [
             0.4,
             "#fde0ef"
            ],
            [
             0.5,
             "#f7f7f7"
            ],
            [
             0.6,
             "#e6f5d0"
            ],
            [
             0.7,
             "#b8e186"
            ],
            [
             0.8,
             "#7fbc41"
            ],
            [
             0.9,
             "#4d9221"
            ],
            [
             1,
             "#276419"
            ]
           ],
           "sequential": [
            [
             0,
             "#0d0887"
            ],
            [
             0.1111111111111111,
             "#46039f"
            ],
            [
             0.2222222222222222,
             "#7201a8"
            ],
            [
             0.3333333333333333,
             "#9c179e"
            ],
            [
             0.4444444444444444,
             "#bd3786"
            ],
            [
             0.5555555555555556,
             "#d8576b"
            ],
            [
             0.6666666666666666,
             "#ed7953"
            ],
            [
             0.7777777777777778,
             "#fb9f3a"
            ],
            [
             0.8888888888888888,
             "#fdca26"
            ],
            [
             1,
             "#f0f921"
            ]
           ],
           "sequentialminus": [
            [
             0,
             "#0d0887"
            ],
            [
             0.1111111111111111,
             "#46039f"
            ],
            [
             0.2222222222222222,
             "#7201a8"
            ],
            [
             0.3333333333333333,
             "#9c179e"
            ],
            [
             0.4444444444444444,
             "#bd3786"
            ],
            [
             0.5555555555555556,
             "#d8576b"
            ],
            [
             0.6666666666666666,
             "#ed7953"
            ],
            [
             0.7777777777777778,
             "#fb9f3a"
            ],
            [
             0.8888888888888888,
             "#fdca26"
            ],
            [
             1,
             "#f0f921"
            ]
           ]
          },
          "colorway": [
           "#636efa",
           "#EF553B",
           "#00cc96",
           "#ab63fa",
           "#FFA15A",
           "#19d3f3",
           "#FF6692",
           "#B6E880",
           "#FF97FF",
           "#FECB52"
          ],
          "font": {
           "color": "#2a3f5f"
          },
          "geo": {
           "bgcolor": "white",
           "lakecolor": "white",
           "landcolor": "#E5ECF6",
           "showlakes": true,
           "showland": true,
           "subunitcolor": "white"
          },
          "hoverlabel": {
           "align": "left"
          },
          "hovermode": "closest",
          "mapbox": {
           "style": "light"
          },
          "paper_bgcolor": "white",
          "plot_bgcolor": "#E5ECF6",
          "polar": {
           "angularaxis": {
            "gridcolor": "white",
            "linecolor": "white",
            "ticks": ""
           },
           "bgcolor": "#E5ECF6",
           "radialaxis": {
            "gridcolor": "white",
            "linecolor": "white",
            "ticks": ""
           }
          },
          "scene": {
           "xaxis": {
            "backgroundcolor": "#E5ECF6",
            "gridcolor": "white",
            "gridwidth": 2,
            "linecolor": "white",
            "showbackground": true,
            "ticks": "",
            "zerolinecolor": "white"
           },
           "yaxis": {
            "backgroundcolor": "#E5ECF6",
            "gridcolor": "white",
            "gridwidth": 2,
            "linecolor": "white",
            "showbackground": true,
            "ticks": "",
            "zerolinecolor": "white"
           },
           "zaxis": {
            "backgroundcolor": "#E5ECF6",
            "gridcolor": "white",
            "gridwidth": 2,
            "linecolor": "white",
            "showbackground": true,
            "ticks": "",
            "zerolinecolor": "white"
           }
          },
          "shapedefaults": {
           "line": {
            "color": "#2a3f5f"
           }
          },
          "ternary": {
           "aaxis": {
            "gridcolor": "white",
            "linecolor": "white",
            "ticks": ""
           },
           "baxis": {
            "gridcolor": "white",
            "linecolor": "white",
            "ticks": ""
           },
           "bgcolor": "#E5ECF6",
           "caxis": {
            "gridcolor": "white",
            "linecolor": "white",
            "ticks": ""
           }
          },
          "title": {
           "x": 0.05
          },
          "xaxis": {
           "automargin": true,
           "gridcolor": "white",
           "linecolor": "white",
           "ticks": "",
           "title": {
            "standoff": 15
           },
           "zerolinecolor": "white",
           "zerolinewidth": 2
          },
          "yaxis": {
           "automargin": true,
           "gridcolor": "white",
           "linecolor": "white",
           "ticks": "",
           "title": {
            "standoff": 15
           },
           "zerolinecolor": "white",
           "zerolinewidth": 2
          }
         }
        },
        "title": {
         "text": "Средний чек по клиентам по часам"
        },
        "xaxis": {
         "anchor": "y",
         "domain": [
          0,
          1
         ],
         "title": {
          "text": "Час дня"
         },
         "type": "category"
        },
        "yaxis": {
         "anchor": "x",
         "domain": [
          0,
          1
         ],
         "title": {
          "text": "Средний чек"
         }
        }
       }
      },
      "text/html": [
       "<div>            <script src=\"https://cdnjs.cloudflare.com/ajax/libs/mathjax/2.7.5/MathJax.js?config=TeX-AMS-MML_SVG\"></script><script type=\"text/javascript\">if (window.MathJax && window.MathJax.Hub && window.MathJax.Hub.Config) {window.MathJax.Hub.Config({SVG: {font: \"STIX-Web\"}});}</script>                <script type=\"text/javascript\">window.PlotlyConfig = {MathJaxConfig: 'local'};</script>\n",
       "        <script charset=\"utf-8\" src=\"https://cdn.plot.ly/plotly-3.0.1.min.js\"></script>                <div id=\"92875772-e8dc-4d1a-bf5d-904b84033f53\" class=\"plotly-graph-div\" style=\"height:525px; width:100%;\"></div>            <script type=\"text/javascript\">                window.PLOTLYENV=window.PLOTLYENV || {};                                if (document.getElementById(\"92875772-e8dc-4d1a-bf5d-904b84033f53\")) {                    Plotly.newPlot(                        \"92875772-e8dc-4d1a-bf5d-904b84033f53\",                        [{\"alignmentgroup\":\"True\",\"hovertemplate\":\"\\u0422\\u043e\\u0440\\u0433\\u043e\\u0432\\u0430\\u044f \\u0441\\u0435\\u0442\\u044c=Metro c&c\\u003cbr\\u003e\\u0414\\u0435\\u043d\\u044c \\u043d\\u0435\\u0434\\u0435\\u043b\\u0438=%{x}\\u003cbr\\u003e\\u0421\\u0440\\u0435\\u0434\\u043d\\u0438\\u0439 \\u0447\\u0435\\u043a=%{y}\\u003cextra\\u003e\\u003c\\u002fextra\\u003e\",\"legendgroup\":\"Metro c&c\",\"marker\":{\"color\":\"#636efa\",\"pattern\":{\"shape\":\"\"}},\"name\":\"Metro c&c\",\"offsetgroup\":\"Metro c&c\",\"orientation\":\"v\",\"showlegend\":true,\"textposition\":\"outside\",\"texttemplate\":\"%{y:.2f}\",\"x\":[\"1.\\u041f\\u043e\\u043d\\u0435\\u0434\\u0435\\u043b\\u044c\\u043d\\u0438\\u043a\",\"2.\\u0412\\u0442\\u043e\\u0440\\u043d\\u0438\\u043a\",\"3.\\u0421\\u0440\\u0435\\u0434\\u0430\",\"4.\\u0427\\u0435\\u0442\\u0432\\u0435\\u0440\\u0433\",\"5.\\u041f\\u044f\\u0442\\u043d\\u0438\\u0446\\u0430\",\"6.\\u0421\\u0443\\u0431\\u0431\\u043e\\u0442\\u0430\",\"7.\\u0412\\u043e\\u0441\\u043a\\u0440\\u0435\\u0441\\u0435\\u043d\\u044c\\u0435\"],\"xaxis\":\"x\",\"y\":{\"dtype\":\"f4\",\"bdata\":\"b8PSRdhp3UVwc\\u002f5F4\\u002fkMRj3m5EaXGFlGAFi5RQ==\"},\"yaxis\":\"y\",\"type\":\"bar\",\"textfont\":{\"size\":12},\"cliponaxis\":false,\"textangle\":0},{\"alignmentgroup\":\"True\",\"hovertemplate\":\"\\u0422\\u043e\\u0440\\u0433\\u043e\\u0432\\u0430\\u044f \\u0441\\u0435\\u0442\\u044c=\\u0413\\u0438\\u043f\\u0435\\u0440\\u0433\\u043b\\u043e\\u0431\\u0443\\u0441\\u003cbr\\u003e\\u0414\\u0435\\u043d\\u044c \\u043d\\u0435\\u0434\\u0435\\u043b\\u0438=%{x}\\u003cbr\\u003e\\u0421\\u0440\\u0435\\u0434\\u043d\\u0438\\u0439 \\u0447\\u0435\\u043a=%{y}\\u003cextra\\u003e\\u003c\\u002fextra\\u003e\",\"legendgroup\":\"\\u0413\\u0438\\u043f\\u0435\\u0440\\u0433\\u043b\\u043e\\u0431\\u0443\\u0441\",\"marker\":{\"color\":\"#EF553B\",\"pattern\":{\"shape\":\"\"}},\"name\":\"\\u0413\\u0438\\u043f\\u0435\\u0440\\u0433\\u043b\\u043e\\u0431\\u0443\\u0441\",\"offsetgroup\":\"\\u0413\\u0438\\u043f\\u0435\\u0440\\u0433\\u043b\\u043e\\u0431\\u0443\\u0441\",\"orientation\":\"v\",\"showlegend\":true,\"textposition\":\"outside\",\"texttemplate\":\"%{y:.2f}\",\"x\":[\"1.\\u041f\\u043e\\u043d\\u0435\\u0434\\u0435\\u043b\\u044c\\u043d\\u0438\\u043a\",\"2.\\u0412\\u0442\\u043e\\u0440\\u043d\\u0438\\u043a\",\"3.\\u0421\\u0440\\u0435\\u0434\\u0430\",\"4.\\u0427\\u0435\\u0442\\u0432\\u0435\\u0440\\u0433\",\"5.\\u041f\\u044f\\u0442\\u043d\\u0438\\u0446\\u0430\",\"6.\\u0421\\u0443\\u0431\\u0431\\u043e\\u0442\\u0430\",\"7.\\u0412\\u043e\\u0441\\u043a\\u0440\\u0435\\u0441\\u0435\\u043d\\u044c\\u0435\"],\"xaxis\":\"x\",\"y\":{\"dtype\":\"f4\",\"bdata\":\"VfhKRbrISUXMyklFoCZPRRNfXkXcUF1F9QFSRQ==\"},\"yaxis\":\"y\",\"type\":\"bar\",\"textfont\":{\"size\":12},\"cliponaxis\":false,\"textangle\":0},{\"alignmentgroup\":\"True\",\"hovertemplate\":\"\\u0422\\u043e\\u0440\\u0433\\u043e\\u0432\\u0430\\u044f \\u0441\\u0435\\u0442\\u044c=\\u041e\\u043a\\u0435\\u0439\\u003cbr\\u003e\\u0414\\u0435\\u043d\\u044c \\u043d\\u0435\\u0434\\u0435\\u043b\\u0438=%{x}\\u003cbr\\u003e\\u0421\\u0440\\u0435\\u0434\\u043d\\u0438\\u0439 \\u0447\\u0435\\u043a=%{y}\\u003cextra\\u003e\\u003c\\u002fextra\\u003e\",\"legendgroup\":\"\\u041e\\u043a\\u0435\\u0439\",\"marker\":{\"color\":\"#00cc96\",\"pattern\":{\"shape\":\"\"}},\"name\":\"\\u041e\\u043a\\u0435\\u0439\",\"offsetgroup\":\"\\u041e\\u043a\\u0435\\u0439\",\"orientation\":\"v\",\"showlegend\":true,\"textposition\":\"outside\",\"texttemplate\":\"%{y:.2f}\",\"x\":[\"1.\\u041f\\u043e\\u043d\\u0435\\u0434\\u0435\\u043b\\u044c\\u043d\\u0438\\u043a\",\"2.\\u0412\\u0442\\u043e\\u0440\\u043d\\u0438\\u043a\",\"3.\\u0421\\u0440\\u0435\\u0434\\u0430\",\"4.\\u0427\\u0435\\u0442\\u0432\\u0435\\u0440\\u0433\",\"5.\\u041f\\u044f\\u0442\\u043d\\u0438\\u0446\\u0430\",\"6.\\u0421\\u0443\\u0431\\u0431\\u043e\\u0442\\u0430\",\"7.\\u0412\\u043e\\u0441\\u043a\\u0440\\u0435\\u0441\\u0435\\u043d\\u044c\\u0435\"],\"xaxis\":\"x\",\"y\":{\"dtype\":\"f4\",\"bdata\":\"13sRRatcEkWUzAhF+WUXRYqJI0WDHDFFHTQjRQ==\"},\"yaxis\":\"y\",\"type\":\"bar\",\"textfont\":{\"size\":12},\"cliponaxis\":false,\"textangle\":0}],                        {\"template\":{\"data\":{\"histogram2dcontour\":[{\"type\":\"histogram2dcontour\",\"colorbar\":{\"outlinewidth\":0,\"ticks\":\"\"},\"colorscale\":[[0.0,\"#0d0887\"],[0.1111111111111111,\"#46039f\"],[0.2222222222222222,\"#7201a8\"],[0.3333333333333333,\"#9c179e\"],[0.4444444444444444,\"#bd3786\"],[0.5555555555555556,\"#d8576b\"],[0.6666666666666666,\"#ed7953\"],[0.7777777777777778,\"#fb9f3a\"],[0.8888888888888888,\"#fdca26\"],[1.0,\"#f0f921\"]]}],\"choropleth\":[{\"type\":\"choropleth\",\"colorbar\":{\"outlinewidth\":0,\"ticks\":\"\"}}],\"histogram2d\":[{\"type\":\"histogram2d\",\"colorbar\":{\"outlinewidth\":0,\"ticks\":\"\"},\"colorscale\":[[0.0,\"#0d0887\"],[0.1111111111111111,\"#46039f\"],[0.2222222222222222,\"#7201a8\"],[0.3333333333333333,\"#9c179e\"],[0.4444444444444444,\"#bd3786\"],[0.5555555555555556,\"#d8576b\"],[0.6666666666666666,\"#ed7953\"],[0.7777777777777778,\"#fb9f3a\"],[0.8888888888888888,\"#fdca26\"],[1.0,\"#f0f921\"]]}],\"heatmap\":[{\"type\":\"heatmap\",\"colorbar\":{\"outlinewidth\":0,\"ticks\":\"\"},\"colorscale\":[[0.0,\"#0d0887\"],[0.1111111111111111,\"#46039f\"],[0.2222222222222222,\"#7201a8\"],[0.3333333333333333,\"#9c179e\"],[0.4444444444444444,\"#bd3786\"],[0.5555555555555556,\"#d8576b\"],[0.6666666666666666,\"#ed7953\"],[0.7777777777777778,\"#fb9f3a\"],[0.8888888888888888,\"#fdca26\"],[1.0,\"#f0f921\"]]}],\"contourcarpet\":[{\"type\":\"contourcarpet\",\"colorbar\":{\"outlinewidth\":0,\"ticks\":\"\"}}],\"contour\":[{\"type\":\"contour\",\"colorbar\":{\"outlinewidth\":0,\"ticks\":\"\"},\"colorscale\":[[0.0,\"#0d0887\"],[0.1111111111111111,\"#46039f\"],[0.2222222222222222,\"#7201a8\"],[0.3333333333333333,\"#9c179e\"],[0.4444444444444444,\"#bd3786\"],[0.5555555555555556,\"#d8576b\"],[0.6666666666666666,\"#ed7953\"],[0.7777777777777778,\"#fb9f3a\"],[0.8888888888888888,\"#fdca26\"],[1.0,\"#f0f921\"]]}],\"surface\":[{\"type\":\"surface\",\"colorbar\":{\"outlinewidth\":0,\"ticks\":\"\"},\"colorscale\":[[0.0,\"#0d0887\"],[0.1111111111111111,\"#46039f\"],[0.2222222222222222,\"#7201a8\"],[0.3333333333333333,\"#9c179e\"],[0.4444444444444444,\"#bd3786\"],[0.5555555555555556,\"#d8576b\"],[0.6666666666666666,\"#ed7953\"],[0.7777777777777778,\"#fb9f3a\"],[0.8888888888888888,\"#fdca26\"],[1.0,\"#f0f921\"]]}],\"mesh3d\":[{\"type\":\"mesh3d\",\"colorbar\":{\"outlinewidth\":0,\"ticks\":\"\"}}],\"scatter\":[{\"fillpattern\":{\"fillmode\":\"overlay\",\"size\":10,\"solidity\":0.2},\"type\":\"scatter\"}],\"parcoords\":[{\"type\":\"parcoords\",\"line\":{\"colorbar\":{\"outlinewidth\":0,\"ticks\":\"\"}}}],\"scatterpolargl\":[{\"type\":\"scatterpolargl\",\"marker\":{\"colorbar\":{\"outlinewidth\":0,\"ticks\":\"\"}}}],\"bar\":[{\"error_x\":{\"color\":\"#2a3f5f\"},\"error_y\":{\"color\":\"#2a3f5f\"},\"marker\":{\"line\":{\"color\":\"#E5ECF6\",\"width\":0.5},\"pattern\":{\"fillmode\":\"overlay\",\"size\":10,\"solidity\":0.2}},\"type\":\"bar\"}],\"scattergeo\":[{\"type\":\"scattergeo\",\"marker\":{\"colorbar\":{\"outlinewidth\":0,\"ticks\":\"\"}}}],\"scatterpolar\":[{\"type\":\"scatterpolar\",\"marker\":{\"colorbar\":{\"outlinewidth\":0,\"ticks\":\"\"}}}],\"histogram\":[{\"marker\":{\"pattern\":{\"fillmode\":\"overlay\",\"size\":10,\"solidity\":0.2}},\"type\":\"histogram\"}],\"scattergl\":[{\"type\":\"scattergl\",\"marker\":{\"colorbar\":{\"outlinewidth\":0,\"ticks\":\"\"}}}],\"scatter3d\":[{\"type\":\"scatter3d\",\"line\":{\"colorbar\":{\"outlinewidth\":0,\"ticks\":\"\"}},\"marker\":{\"colorbar\":{\"outlinewidth\":0,\"ticks\":\"\"}}}],\"scattermap\":[{\"type\":\"scattermap\",\"marker\":{\"colorbar\":{\"outlinewidth\":0,\"ticks\":\"\"}}}],\"scattermapbox\":[{\"type\":\"scattermapbox\",\"marker\":{\"colorbar\":{\"outlinewidth\":0,\"ticks\":\"\"}}}],\"scatterternary\":[{\"type\":\"scatterternary\",\"marker\":{\"colorbar\":{\"outlinewidth\":0,\"ticks\":\"\"}}}],\"scattercarpet\":[{\"type\":\"scattercarpet\",\"marker\":{\"colorbar\":{\"outlinewidth\":0,\"ticks\":\"\"}}}],\"carpet\":[{\"aaxis\":{\"endlinecolor\":\"#2a3f5f\",\"gridcolor\":\"white\",\"linecolor\":\"white\",\"minorgridcolor\":\"white\",\"startlinecolor\":\"#2a3f5f\"},\"baxis\":{\"endlinecolor\":\"#2a3f5f\",\"gridcolor\":\"white\",\"linecolor\":\"white\",\"minorgridcolor\":\"white\",\"startlinecolor\":\"#2a3f5f\"},\"type\":\"carpet\"}],\"table\":[{\"cells\":{\"fill\":{\"color\":\"#EBF0F8\"},\"line\":{\"color\":\"white\"}},\"header\":{\"fill\":{\"color\":\"#C8D4E3\"},\"line\":{\"color\":\"white\"}},\"type\":\"table\"}],\"barpolar\":[{\"marker\":{\"line\":{\"color\":\"#E5ECF6\",\"width\":0.5},\"pattern\":{\"fillmode\":\"overlay\",\"size\":10,\"solidity\":0.2}},\"type\":\"barpolar\"}],\"pie\":[{\"automargin\":true,\"type\":\"pie\"}]},\"layout\":{\"autotypenumbers\":\"strict\",\"colorway\":[\"#636efa\",\"#EF553B\",\"#00cc96\",\"#ab63fa\",\"#FFA15A\",\"#19d3f3\",\"#FF6692\",\"#B6E880\",\"#FF97FF\",\"#FECB52\"],\"font\":{\"color\":\"#2a3f5f\"},\"hovermode\":\"closest\",\"hoverlabel\":{\"align\":\"left\"},\"paper_bgcolor\":\"white\",\"plot_bgcolor\":\"#E5ECF6\",\"polar\":{\"bgcolor\":\"#E5ECF6\",\"angularaxis\":{\"gridcolor\":\"white\",\"linecolor\":\"white\",\"ticks\":\"\"},\"radialaxis\":{\"gridcolor\":\"white\",\"linecolor\":\"white\",\"ticks\":\"\"}},\"ternary\":{\"bgcolor\":\"#E5ECF6\",\"aaxis\":{\"gridcolor\":\"white\",\"linecolor\":\"white\",\"ticks\":\"\"},\"baxis\":{\"gridcolor\":\"white\",\"linecolor\":\"white\",\"ticks\":\"\"},\"caxis\":{\"gridcolor\":\"white\",\"linecolor\":\"white\",\"ticks\":\"\"}},\"coloraxis\":{\"colorbar\":{\"outlinewidth\":0,\"ticks\":\"\"}},\"colorscale\":{\"sequential\":[[0.0,\"#0d0887\"],[0.1111111111111111,\"#46039f\"],[0.2222222222222222,\"#7201a8\"],[0.3333333333333333,\"#9c179e\"],[0.4444444444444444,\"#bd3786\"],[0.5555555555555556,\"#d8576b\"],[0.6666666666666666,\"#ed7953\"],[0.7777777777777778,\"#fb9f3a\"],[0.8888888888888888,\"#fdca26\"],[1.0,\"#f0f921\"]],\"sequentialminus\":[[0.0,\"#0d0887\"],[0.1111111111111111,\"#46039f\"],[0.2222222222222222,\"#7201a8\"],[0.3333333333333333,\"#9c179e\"],[0.4444444444444444,\"#bd3786\"],[0.5555555555555556,\"#d8576b\"],[0.6666666666666666,\"#ed7953\"],[0.7777777777777778,\"#fb9f3a\"],[0.8888888888888888,\"#fdca26\"],[1.0,\"#f0f921\"]],\"diverging\":[[0,\"#8e0152\"],[0.1,\"#c51b7d\"],[0.2,\"#de77ae\"],[0.3,\"#f1b6da\"],[0.4,\"#fde0ef\"],[0.5,\"#f7f7f7\"],[0.6,\"#e6f5d0\"],[0.7,\"#b8e186\"],[0.8,\"#7fbc41\"],[0.9,\"#4d9221\"],[1,\"#276419\"]]},\"xaxis\":{\"gridcolor\":\"white\",\"linecolor\":\"white\",\"ticks\":\"\",\"title\":{\"standoff\":15},\"zerolinecolor\":\"white\",\"automargin\":true,\"zerolinewidth\":2},\"yaxis\":{\"gridcolor\":\"white\",\"linecolor\":\"white\",\"ticks\":\"\",\"title\":{\"standoff\":15},\"zerolinecolor\":\"white\",\"automargin\":true,\"zerolinewidth\":2},\"scene\":{\"xaxis\":{\"backgroundcolor\":\"#E5ECF6\",\"gridcolor\":\"white\",\"linecolor\":\"white\",\"showbackground\":true,\"ticks\":\"\",\"zerolinecolor\":\"white\",\"gridwidth\":2},\"yaxis\":{\"backgroundcolor\":\"#E5ECF6\",\"gridcolor\":\"white\",\"linecolor\":\"white\",\"showbackground\":true,\"ticks\":\"\",\"zerolinecolor\":\"white\",\"gridwidth\":2},\"zaxis\":{\"backgroundcolor\":\"#E5ECF6\",\"gridcolor\":\"white\",\"linecolor\":\"white\",\"showbackground\":true,\"ticks\":\"\",\"zerolinecolor\":\"white\",\"gridwidth\":2}},\"shapedefaults\":{\"line\":{\"color\":\"#2a3f5f\"}},\"annotationdefaults\":{\"arrowcolor\":\"#2a3f5f\",\"arrowhead\":0,\"arrowwidth\":1},\"geo\":{\"bgcolor\":\"white\",\"landcolor\":\"#E5ECF6\",\"subunitcolor\":\"white\",\"showland\":true,\"showlakes\":true,\"lakecolor\":\"white\"},\"title\":{\"x\":0.05},\"mapbox\":{\"style\":\"light\"}}},\"xaxis\":{\"anchor\":\"y\",\"domain\":[0.0,1.0],\"title\":{\"text\":\"\\u0427\\u0430\\u0441 \\u0434\\u043d\\u044f\"},\"type\":\"category\"},\"yaxis\":{\"anchor\":\"x\",\"domain\":[0.0,1.0],\"title\":{\"text\":\"\\u0421\\u0440\\u0435\\u0434\\u043d\\u0438\\u0439 \\u0447\\u0435\\u043a\"}},\"legend\":{\"title\":{\"text\":\"\\u041a\\u043b\\u0438\\u0435\\u043d\\u0442\\u044b\"},\"tracegroupgap\":0},\"title\":{\"text\":\"\\u0421\\u0440\\u0435\\u0434\\u043d\\u0438\\u0439 \\u0447\\u0435\\u043a \\u043f\\u043e \\u043a\\u043b\\u0438\\u0435\\u043d\\u0442\\u0430\\u043c \\u043f\\u043e \\u0447\\u0430\\u0441\\u0430\\u043c\"},\"barmode\":\"group\",\"hovermode\":\"x unified\"},                        {\"responsive\": true}                    ).then(function(){\n",
       "                            \n",
       "var gd = document.getElementById('92875772-e8dc-4d1a-bf5d-904b84033f53');\n",
       "var x = new MutationObserver(function (mutations, observer) {{\n",
       "        var display = window.getComputedStyle(gd).display;\n",
       "        if (!display || display === 'none') {{\n",
       "            console.log([gd, 'removed!']);\n",
       "            Plotly.purge(gd);\n",
       "            observer.disconnect();\n",
       "        }}\n",
       "}});\n",
       "\n",
       "// Listen for the removal of the full notebook cells\n",
       "var notebookContainer = gd.closest('#notebook-container');\n",
       "if (notebookContainer) {{\n",
       "    x.observe(notebookContainer, {childList: true});\n",
       "}}\n",
       "\n",
       "// Listen for the clearing of the current output cell\n",
       "var outputEl = gd.closest('.output');\n",
       "if (outputEl) {{\n",
       "    x.observe(outputEl, {childList: true});\n",
       "}}\n",
       "\n",
       "                        })                };            </script>        </div>"
      ]
     },
     "metadata": {},
     "output_type": "display_data"
    }
   ],
   "source": [
    "df_long = mc3.reset_index().melt(id_vars='weekday', var_name='client_NT', value_name='mean_totalSum')\n",
    "\n",
    "# Строим barplot\n",
    "fig = px.bar(\n",
    "    df_long,\n",
    "    x='weekday',\n",
    "    y='mean_totalSum',\n",
    "    color='client_NT',\n",
    "    barmode='group',  # Группированные столбцы\n",
    "    title='Средний чек по клиентам по часам',\n",
    "    labels={\n",
    "        'weekday': 'День недели',\n",
    "        'mean_totalSum': 'Средний чек',\n",
    "        'client_NT': 'Торговая сеть'\n",
    "    },\n",
    "    text_auto='.2f'  # Автоматическое отображение значений с 2 знаками после запятой\n",
    ")\n",
    "\n",
    "# Настраиваем отображение\n",
    "fig.update_layout(\n",
    "    xaxis=dict(\n",
    "        type='category',  # Чтобы часы отображались как категории\n",
    "        title='Час дня'\n",
    "    ),\n",
    "    yaxis_title='Средний чек',\n",
    "    legend_title='Клиенты',\n",
    "    hovermode='x unified'  # Общая подсказка для всех столбцов при наведении\n",
    ")\n",
    "\n",
    "# Добавляем подписи значений над столбцами\n",
    "fig.update_traces(\n",
    "    textfont_size=12,\n",
    "    textangle=0,\n",
    "    textposition=\"outside\",\n",
    "    cliponaxis=False\n",
    ")\n",
    "\n",
    "fig.show()"
   ]
  },
  {
   "cell_type": "markdown",
   "id": "17894d21",
   "metadata": {},
   "source": [
    "Сформируем сводную таблицу по среднему чеку по часам для каждого магазина торговой сети"
   ]
  },
  {
   "cell_type": "code",
   "execution_count": 63,
   "id": "68f7a612",
   "metadata": {},
   "outputs": [
    {
     "data": {
      "application/vnd.microsoft.datawrangler.viewer.v0+json": {
       "columns": [
        {
         "name": "hour",
         "rawType": "int32",
         "type": "integer"
        },
        {
         "name": "('Metro c&c', 'г Москва, пр-кт Мира, д 211 к 1')",
         "rawType": "float32",
         "type": "float"
        },
        {
         "name": "('Metro c&c', 'г Москва, ул Рябиновая, д 59')",
         "rawType": "float32",
         "type": "float"
        },
        {
         "name": "('Metro c&c', 'г Москва, ул Дорожная, д 1 к 1')",
         "rawType": "float32",
         "type": "float"
        },
        {
         "name": "('Metro c&c', 'г Москва, ш Ленинградское, д 71Г')",
         "rawType": "float32",
         "type": "float"
        },
        {
         "name": "('Metro c&c', 'г Москва, км МКАД 104-й, д 6')",
         "rawType": "float32",
         "type": "float"
        },
        {
         "name": "('Metro c&c', 'г Москва, Московский п, кв-л 34, д 3 стр 1')",
         "rawType": "float32",
         "type": "float"
        },
        {
         "name": "('Metro c&c', 'г Москва, ул Маршала Прошлякова, д 14')",
         "rawType": "float32",
         "type": "float"
        },
        {
         "name": "('Metro c&c', 'г Москва, ш Дмитровское, д 165Б')",
         "rawType": "float32",
         "type": "float"
        },
        {
         "name": "('Гиперглобус', 'г Москва, Сосенское п, п Коммунарка, ул Александры Монаховой, д 61 стр 1')",
         "rawType": "float32",
         "type": "float"
        },
        {
         "name": "('Гиперглобус', 'г Москва, км Киевское шоссе 23-й (п Московский), д 1')",
         "rawType": "float32",
         "type": "float"
        },
        {
         "name": "('Гиперглобус', 'г Москва, км Новорижское шоссе 22-й, влд 1 стр 1')",
         "rawType": "float32",
         "type": "float"
        },
        {
         "name": "('Гиперглобус', 'г Москва, км Новорижское шоссе 22-й, д 1')",
         "rawType": "float32",
         "type": "float"
        },
        {
         "name": "('Гиперглобус', 'г Москва, ул Широкая, д 2А')",
         "rawType": "float32",
         "type": "float"
        },
        {
         "name": "('Гиперглобус', 'г Москва, ш Новоухтомское, д 2А')",
         "rawType": "float32",
         "type": "float"
        },
        {
         "name": "('Гиперглобус', 'г Москва, пр-кт Волгоградский, д 42 к 9')",
         "rawType": "float32",
         "type": "float"
        },
        {
         "name": "('Окей', 'г Москва, Московский п, г Московский, ул Хабарова, д 2')",
         "rawType": "float32",
         "type": "float"
        },
        {
         "name": "('Окей', 'г Москва, пр-кт Мира, д 211 к 2')",
         "rawType": "float32",
         "type": "float"
        },
        {
         "name": "('Окей', 'г Москва, ул Кировоградская, д 13А')",
         "rawType": "float32",
         "type": "float"
        },
        {
         "name": "('Окей', 'г Москва, ул Озёрная, д 50')",
         "rawType": "float32",
         "type": "float"
        },
        {
         "name": "('Окей', 'г Москва, ул Святоозерская, д 1А')",
         "rawType": "float32",
         "type": "float"
        },
        {
         "name": "('Окей', 'г Москва, ш Головинское, д 5 к 1')",
         "rawType": "float32",
         "type": "float"
        },
        {
         "name": "('Окей', 'г Москва, ш Дмитровское, влд 163А к 1')",
         "rawType": "float32",
         "type": "float"
        },
        {
         "name": "('Окей', 'г Москва, ш Дмитровское, д 163А')",
         "rawType": "float32",
         "type": "float"
        },
        {
         "name": "('Окей', 'г Москва, ш Дмитровское, д 98С')",
         "rawType": "float32",
         "type": "float"
        },
        {
         "name": "('Окей', 'г Москва, ш Каширское, д 14')",
         "rawType": "float32",
         "type": "float"
        },
        {
         "name": "('Окей', 'г Москва, ш Дмитровское, д 49Д')",
         "rawType": "float32",
         "type": "float"
        },
        {
         "name": "('Окей', 'г Москва, ш Дмитровское, влд 163А')",
         "rawType": "float32",
         "type": "float"
        },
        {
         "name": "('Окей', 'г Москва, ш Дмитровское, д 107А')",
         "rawType": "float32",
         "type": "float"
        },
        {
         "name": "('Окей', 'г Москва, ш Дмитровское, к 1')",
         "rawType": "float32",
         "type": "float"
        },
        {
         "name": "('Окей', 'г Москва, ш Дмитровское, влд 91А')",
         "rawType": "float32",
         "type": "float"
        },
        {
         "name": "('Окей', 'г Москва, ш Дмитровское, д 165')",
         "rawType": "float32",
         "type": "float"
        },
        {
         "name": "('Окей', 'г Москва, ш Дмитровское, д 58А')",
         "rawType": "float32",
         "type": "float"
        },
        {
         "name": "('Окей', 'г Москва, ш Дмитровское, д 41')",
         "rawType": "float32",
         "type": "float"
        },
        {
         "name": "('Окей', 'г Москва, ш Дмитровское, д 107 стр 2а')",
         "rawType": "float32",
         "type": "float"
        },
        {
         "name": "('Окей', 'г Москва, ш Дмитровское, д 157 стр 2')",
         "rawType": "float32",
         "type": "float"
        }
       ],
       "conversionMethod": "pd.DataFrame",
       "ref": "611e69ba-035a-49bf-89be-df81020a1c25",
       "rows": [
        [
         "0",
         null,
         null,
         null,
         null,
         null,
         null,
         null,
         null,
         "2737.977",
         "2246.3035",
         "3338.6208",
         "834.94",
         "1858.8146",
         "1966.74",
         null,
         null,
         null,
         null,
         null,
         "2569.96",
         null,
         null,
         null,
         null,
         null,
         null,
         null,
         null,
         null,
         null,
         null,
         null,
         null,
         null,
         null
        ],
        [
         "1",
         null,
         null,
         null,
         null,
         null,
         null,
         null,
         null,
         "3553.2983",
         "2347.4934",
         "2430.8362",
         null,
         "1722.66",
         "2386.2615",
         null,
         null,
         null,
         null,
         null,
         null,
         null,
         null,
         null,
         null,
         null,
         null,
         null,
         null,
         null,
         null,
         null,
         null,
         null,
         null,
         null
        ],
        [
         "2",
         null,
         null,
         null,
         null,
         null,
         null,
         null,
         null,
         "2674.2717",
         "2454.792",
         "1714.348",
         null,
         "2650.2017",
         "1576.4266",
         null,
         null,
         null,
         null,
         null,
         null,
         null,
         null,
         null,
         null,
         null,
         null,
         null,
         null,
         null,
         null,
         null,
         null,
         null,
         null,
         null
        ],
        [
         "3",
         null,
         null,
         null,
         null,
         null,
         null,
         null,
         null,
         "3019.0955",
         "2265.722",
         "4694.567",
         null,
         "623.065",
         "516.314",
         null,
         null,
         null,
         null,
         null,
         null,
         null,
         null,
         null,
         null,
         null,
         null,
         null,
         null,
         null,
         null,
         null,
         null,
         null,
         null,
         null
        ],
        [
         "4",
         null,
         null,
         null,
         null,
         null,
         null,
         null,
         null,
         "3346.0305",
         "2643.157",
         "2205.66",
         null,
         null,
         "906.0258",
         null,
         null,
         null,
         null,
         null,
         null,
         null,
         null,
         null,
         null,
         null,
         null,
         null,
         null,
         null,
         null,
         null,
         null,
         null,
         null,
         null
        ],
        [
         "5",
         null,
         null,
         null,
         "7796.835",
         null,
         null,
         null,
         null,
         "2804.3525",
         "3510.1594",
         "2144.5684",
         null,
         null,
         "176.32332",
         null,
         null,
         null,
         null,
         null,
         null,
         null,
         null,
         null,
         null,
         null,
         null,
         null,
         null,
         null,
         null,
         null,
         null,
         null,
         null,
         null
        ],
        [
         "6",
         null,
         "582.9",
         null,
         "2493.585",
         null,
         null,
         null,
         null,
         "2649.801",
         "3048.6077",
         "2873.4119",
         null,
         "2163.749",
         "1348.508",
         "3407.6765",
         null,
         null,
         null,
         null,
         null,
         null,
         null,
         null,
         null,
         null,
         null,
         null,
         null,
         null,
         null,
         null,
         null,
         null,
         null,
         null
        ],
        [
         "7",
         null,
         null,
         "54782.992",
         "2456.7834",
         null,
         null,
         null,
         null,
         "3217.9475",
         "2771.6902",
         "3696.0476",
         null,
         "2965.9133",
         "1574.8607",
         "4247.434",
         null,
         null,
         null,
         null,
         null,
         null,
         null,
         null,
         null,
         null,
         null,
         null,
         null,
         null,
         null,
         null,
         null,
         null,
         null,
         null
        ],
        [
         "8",
         "30184.29",
         "4936.6997",
         null,
         "26981.256",
         null,
         null,
         null,
         null,
         "3509.1729",
         "3796.2463",
         "3877.7366",
         null,
         "3405.3662",
         "1320.1254",
         "4921.1753",
         "1875.097",
         null,
         "1365.6545",
         "2543.7888",
         "2566.808",
         "462.87195",
         null,
         null,
         null,
         "2594.2407",
         null,
         null,
         null,
         null,
         null,
         null,
         null,
         null,
         null,
         null
        ],
        [
         "9",
         "26418.88",
         null,
         null,
         "8803.942",
         null,
         null,
         null,
         null,
         "3374.5176",
         "3619.7126",
         "3938.0151",
         "4526.39",
         "3389.0847",
         "1823.6229",
         "4761.6885",
         "1383.9811",
         "888.54083",
         "2121.9246",
         "2700.7505",
         "2833.0886",
         "1188.3604",
         null,
         "2811.5747",
         "2781.7192",
         "2848.778",
         "2144.6143",
         "2239.9287",
         "2422.0745",
         null,
         "251.42",
         null,
         null,
         null,
         null,
         null
        ],
        [
         "10",
         "9058.55",
         "6156.73",
         null,
         "8816.482",
         null,
         "40810.68",
         null,
         null,
         "3230.6208",
         "3547.2566",
         "3819.4155",
         null,
         "3342.2458",
         "3020.9155",
         "6411.9253",
         "2525.672",
         "1625.9171",
         "2583.6428",
         "3059.3345",
         "2773.7861",
         "953.5114",
         null,
         "2983.2175",
         "2976.74",
         "2896.1562",
         "3058.9487",
         "2339.496",
         "2751.6777",
         null,
         "5047.6953",
         null,
         null,
         null,
         null,
         null
        ],
        [
         "11",
         null,
         "1050.3933",
         null,
         "5568.633",
         null,
         null,
         null,
         null,
         "3291.9792",
         "3455.8325",
         "3669.3225",
         null,
         "3303.241",
         "2587.5874",
         "4574.25",
         "1908.4109",
         "2159.0676",
         "2021.2611",
         "2936.033",
         "2671.7473",
         "1119.5669",
         null,
         "2989.799",
         "2882.4373",
         "2861.1038",
         "2264.768",
         "2281.172",
         "2901.989",
         "212.705",
         null,
         null,
         "330.25",
         "130.22",
         null,
         null
        ],
        [
         "12",
         null,
         "6699.0",
         null,
         "8034.5093",
         null,
         "20188.76",
         null,
         null,
         "3358.8333",
         "3392.7373",
         "3730.4958",
         "1982.6768",
         "3372.853",
         "2864.2686",
         "5890.396",
         "2489.6406",
         "1718.8932",
         "1726.3967",
         "2607.6382",
         "2887.9458",
         "1361.7001",
         null,
         "2762.0378",
         "3342.78",
         "2777.7134",
         "2123.7651",
         "2261.5576",
         "2829.1533",
         "128.69",
         "2402.26",
         null,
         null,
         "1588.37",
         null,
         null
        ],
        [
         "13",
         "37413.46",
         "7125.336",
         null,
         "9173.798",
         null,
         null,
         "18809.88",
         "31691.36",
         "3324.0422",
         "3400.725",
         "3622.7427",
         null,
         "3304.1487",
         "2678.008",
         "5761.57",
         "2729.7666",
         "2016.4733",
         "1711.9423",
         "2953.367",
         "2886.8826",
         "1334.1422",
         null,
         "2815.1804",
         "3529.0159",
         "2996.2676",
         "2009.0225",
         "2526.9468",
         "2541.8887",
         "49.99",
         null,
         "3548.2002",
         "1802.64",
         null,
         null,
         null
        ],
        [
         "14",
         "30164.58",
         "4478.725",
         null,
         "9645.61",
         null,
         "20924.219",
         null,
         null,
         "3496.9836",
         "3394.8713",
         "3796.3037",
         "10372.78",
         "3197.4612",
         "2635.3066",
         "4712.3633",
         "2519.8237",
         "2153.403",
         "1991.7831",
         "3205.8447",
         "3029.483",
         "1383.833",
         null,
         "2844.2861",
         "2951.6677",
         "2746.6155",
         "1161.9133",
         "2861.7627",
         "2821.2166",
         "87.28",
         "618.8333",
         null,
         "3208.773",
         null,
         null,
         null
        ],
        [
         "15",
         null,
         "5967.403",
         null,
         "6368.6475",
         "28396.6",
         null,
         null,
         null,
         "3497.0156",
         "3329.2097",
         "3557.476",
         null,
         "3183.3218",
         "3029.225",
         "4817.28",
         "2492.6953",
         "1966.1968",
         "1884.7946",
         "2953.954",
         "2670.2593",
         "1546.0004",
         null,
         "2788.9297",
         "2886.51",
         "2753.9824",
         "7876.5977",
         "2425.0876",
         "2798.7275",
         null,
         null,
         null,
         "3984.7249",
         "961.67",
         null,
         null
        ],
        [
         "16",
         null,
         "4864.251",
         null,
         "3269.356",
         null,
         "12507.83",
         null,
         null,
         "3337.2668",
         "3174.2737",
         "3534.7385",
         "3886.07",
         "3224.992",
         "3083.9692",
         "6406.1426",
         "2417.8784",
         "1829.995",
         "1901.0435",
         "2944.2175",
         "2720.6912",
         "1464.1962",
         null,
         "2820.26",
         "2646.5337",
         "2682.246",
         "2106.852",
         "2465.5024",
         "2618.8853",
         null,
         null,
         null,
         "4077.2102",
         "1144.59",
         null,
         null
        ],
        [
         "17",
         null,
         "4460.6763",
         null,
         "5888.2",
         null,
         null,
         null,
         null,
         "3341.4456",
         "3266.352",
         "3468.4167",
         "2300.6765",
         "3253.2253",
         "2975.3906",
         "7110.828",
         "2353.5654",
         "2134.4412",
         "1814.5156",
         "2841.386",
         "2462.1428",
         "1434.6088",
         null,
         "2825.7222",
         "2795.6638",
         "2806.9634",
         "3193.0874",
         "2793.7056",
         "2748.9958",
         null,
         null,
         null,
         "2566.1868",
         "2328.56",
         null,
         "1224.0"
        ],
        [
         "18",
         null,
         "5103.115",
         null,
         "10525.311",
         null,
         null,
         null,
         null,
         "3210.563",
         "3027.7173",
         "3555.1694",
         "1208.0",
         "3078.7817",
         "2813.596",
         "8964.484",
         "2238.2344",
         "2348.8555",
         "1978.8206",
         "3038.2246",
         "2514.6763",
         "1388.4192",
         null,
         "3131.5046",
         "3192.4395",
         "2757.1982",
         "3009.117",
         "2713.1973",
         "2572.856",
         null,
         null,
         null,
         "6207.9697",
         null,
         null,
         null
        ],
        [
         "19",
         null,
         "4087.145",
         null,
         "8345.908",
         null,
         null,
         null,
         null,
         "3191.3977",
         "3038.6055",
         "3435.302",
         null,
         "3029.8813",
         "2952.574",
         null,
         "2584.4724",
         "2224.2788",
         "1923.1747",
         "2774.8474",
         "2595.6252",
         "1667.9869",
         null,
         "2680.2324",
         "2735.6887",
         "2754.2708",
         "3691.4148",
         "2610.5728",
         "2932.4597",
         null,
         "576.12",
         null,
         "1482.8342",
         "529.54",
         null,
         null
        ],
        [
         "20",
         null,
         "4287.8496",
         null,
         "6324.9287",
         null,
         null,
         null,
         null,
         "3406.9004",
         "2900.1575",
         "3417.679",
         "1776.3232",
         "2941.8813",
         "3339.61",
         null,
         "2039.5106",
         "2001.3198",
         "1969.8865",
         "3126.0476",
         "2302.997",
         "1464.921",
         "1081.05",
         "2789.436",
         "3131.5945",
         "2803.2",
         "6241.486",
         "2276.8613",
         "3123.803",
         null,
         "538.54504",
         null,
         "6051.912",
         null,
         "1919.7",
         null
        ],
        [
         "21",
         null,
         "7707.1978",
         null,
         "12564.004",
         null,
         null,
         null,
         null,
         "3274.609",
         "2810.7983",
         "3712.0432",
         "8233.0205",
         "3123.0176",
         "2913.9521",
         null,
         "2040.3156",
         "1865.3568",
         "1725.0022",
         "3023.8948",
         "2048.8855",
         "1155.7731",
         null,
         "2895.7002",
         "5081.93",
         "2407.3643",
         "1561.8643",
         "2593.0254",
         "2530.714",
         null,
         null,
         null,
         "741.42505",
         null,
         null,
         null
        ],
        [
         "22",
         null,
         "1791.1649",
         null,
         "6373.7427",
         null,
         null,
         null,
         null,
         "3469.3406",
         "2714.1958",
         "3267.761",
         "4688.2266",
         "3058.016",
         "3455.6016",
         null,
         "1825.9287",
         "1463.4053",
         "1674.328",
         "3789.695",
         "2266.924",
         "986.2753",
         null,
         "2295.54",
         "3065.2698",
         "2194.617",
         "2987.7275",
         "2399.536",
         "1944.233",
         null,
         "691.91",
         null,
         "4702.33",
         null,
         null,
         null
        ],
        [
         "23",
         null,
         "3892.53",
         null,
         null,
         null,
         null,
         null,
         null,
         "2868.9458",
         "2332.3208",
         "3906.6458",
         "7215.03",
         "2915.0012",
         "2489.5608",
         null,
         "1519.3601",
         "1493.1599",
         "2651.1973",
         "3888.5",
         "2307.7522",
         "1477.3154",
         null,
         null,
         null,
         null,
         null,
         null,
         "1200.62",
         null,
         null,
         null,
         null,
         null,
         null,
         null
        ]
       ],
       "shape": {
        "columns": 35,
        "rows": 24
       }
      },
      "text/html": [
       "<div>\n",
       "<style scoped>\n",
       "    .dataframe tbody tr th:only-of-type {\n",
       "        vertical-align: middle;\n",
       "    }\n",
       "\n",
       "    .dataframe tbody tr th {\n",
       "        vertical-align: top;\n",
       "    }\n",
       "\n",
       "    .dataframe thead tr th {\n",
       "        text-align: left;\n",
       "    }\n",
       "\n",
       "    .dataframe thead tr:last-of-type th {\n",
       "        text-align: right;\n",
       "    }\n",
       "</style>\n",
       "<table border=\"1\" class=\"dataframe\">\n",
       "  <thead>\n",
       "    <tr>\n",
       "      <th>client_NT</th>\n",
       "      <th colspan=\"8\" halign=\"left\">Metro c&amp;c</th>\n",
       "      <th colspan=\"2\" halign=\"left\">Гиперглобус</th>\n",
       "      <th>...</th>\n",
       "      <th colspan=\"10\" halign=\"left\">Окей</th>\n",
       "    </tr>\n",
       "    <tr>\n",
       "      <th>text_kktAddress</th>\n",
       "      <th>г Москва, пр-кт Мира, д 211 к 1</th>\n",
       "      <th>г Москва, ул Рябиновая, д 59</th>\n",
       "      <th>г Москва, ул Дорожная, д 1 к 1</th>\n",
       "      <th>г Москва, ш Ленинградское, д 71Г</th>\n",
       "      <th>г Москва, км МКАД 104-й, д 6</th>\n",
       "      <th>г Москва, Московский п, кв-л 34, д 3 стр 1</th>\n",
       "      <th>г Москва, ул Маршала Прошлякова, д 14</th>\n",
       "      <th>г Москва, ш Дмитровское, д 165Б</th>\n",
       "      <th>г Москва, Сосенское п, п Коммунарка, ул Александры Монаховой, д 61 стр 1</th>\n",
       "      <th>г Москва, км Киевское шоссе 23-й (п Московский), д 1</th>\n",
       "      <th>...</th>\n",
       "      <th>г Москва, ш Дмитровское, д 49Д</th>\n",
       "      <th>г Москва, ш Дмитровское, влд 163А</th>\n",
       "      <th>г Москва, ш Дмитровское, д 107А</th>\n",
       "      <th>г Москва, ш Дмитровское, к 1</th>\n",
       "      <th>г Москва, ш Дмитровское, влд 91А</th>\n",
       "      <th>г Москва, ш Дмитровское, д 165</th>\n",
       "      <th>г Москва, ш Дмитровское, д 58А</th>\n",
       "      <th>г Москва, ш Дмитровское, д 41</th>\n",
       "      <th>г Москва, ш Дмитровское, д 107 стр 2а</th>\n",
       "      <th>г Москва, ш Дмитровское, д 157 стр 2</th>\n",
       "    </tr>\n",
       "    <tr>\n",
       "      <th>hour</th>\n",
       "      <th></th>\n",
       "      <th></th>\n",
       "      <th></th>\n",
       "      <th></th>\n",
       "      <th></th>\n",
       "      <th></th>\n",
       "      <th></th>\n",
       "      <th></th>\n",
       "      <th></th>\n",
       "      <th></th>\n",
       "      <th></th>\n",
       "      <th></th>\n",
       "      <th></th>\n",
       "      <th></th>\n",
       "      <th></th>\n",
       "      <th></th>\n",
       "      <th></th>\n",
       "      <th></th>\n",
       "      <th></th>\n",
       "      <th></th>\n",
       "      <th></th>\n",
       "    </tr>\n",
       "  </thead>\n",
       "  <tbody>\n",
       "    <tr>\n",
       "      <th>0</th>\n",
       "      <td>NaN</td>\n",
       "      <td>NaN</td>\n",
       "      <td>NaN</td>\n",
       "      <td>NaN</td>\n",
       "      <td>NaN</td>\n",
       "      <td>NaN</td>\n",
       "      <td>NaN</td>\n",
       "      <td>NaN</td>\n",
       "      <td>2737.98</td>\n",
       "      <td>2246.30</td>\n",
       "      <td>...</td>\n",
       "      <td>NaN</td>\n",
       "      <td>NaN</td>\n",
       "      <td>NaN</td>\n",
       "      <td>NaN</td>\n",
       "      <td>NaN</td>\n",
       "      <td>NaN</td>\n",
       "      <td>NaN</td>\n",
       "      <td>NaN</td>\n",
       "      <td>NaN</td>\n",
       "      <td>NaN</td>\n",
       "    </tr>\n",
       "    <tr>\n",
       "      <th>1</th>\n",
       "      <td>NaN</td>\n",
       "      <td>NaN</td>\n",
       "      <td>NaN</td>\n",
       "      <td>NaN</td>\n",
       "      <td>NaN</td>\n",
       "      <td>NaN</td>\n",
       "      <td>NaN</td>\n",
       "      <td>NaN</td>\n",
       "      <td>3553.30</td>\n",
       "      <td>2347.49</td>\n",
       "      <td>...</td>\n",
       "      <td>NaN</td>\n",
       "      <td>NaN</td>\n",
       "      <td>NaN</td>\n",
       "      <td>NaN</td>\n",
       "      <td>NaN</td>\n",
       "      <td>NaN</td>\n",
       "      <td>NaN</td>\n",
       "      <td>NaN</td>\n",
       "      <td>NaN</td>\n",
       "      <td>NaN</td>\n",
       "    </tr>\n",
       "    <tr>\n",
       "      <th>2</th>\n",
       "      <td>NaN</td>\n",
       "      <td>NaN</td>\n",
       "      <td>NaN</td>\n",
       "      <td>NaN</td>\n",
       "      <td>NaN</td>\n",
       "      <td>NaN</td>\n",
       "      <td>NaN</td>\n",
       "      <td>NaN</td>\n",
       "      <td>2674.27</td>\n",
       "      <td>2454.79</td>\n",
       "      <td>...</td>\n",
       "      <td>NaN</td>\n",
       "      <td>NaN</td>\n",
       "      <td>NaN</td>\n",
       "      <td>NaN</td>\n",
       "      <td>NaN</td>\n",
       "      <td>NaN</td>\n",
       "      <td>NaN</td>\n",
       "      <td>NaN</td>\n",
       "      <td>NaN</td>\n",
       "      <td>NaN</td>\n",
       "    </tr>\n",
       "    <tr>\n",
       "      <th>3</th>\n",
       "      <td>NaN</td>\n",
       "      <td>NaN</td>\n",
       "      <td>NaN</td>\n",
       "      <td>NaN</td>\n",
       "      <td>NaN</td>\n",
       "      <td>NaN</td>\n",
       "      <td>NaN</td>\n",
       "      <td>NaN</td>\n",
       "      <td>3019.10</td>\n",
       "      <td>2265.72</td>\n",
       "      <td>...</td>\n",
       "      <td>NaN</td>\n",
       "      <td>NaN</td>\n",
       "      <td>NaN</td>\n",
       "      <td>NaN</td>\n",
       "      <td>NaN</td>\n",
       "      <td>NaN</td>\n",
       "      <td>NaN</td>\n",
       "      <td>NaN</td>\n",
       "      <td>NaN</td>\n",
       "      <td>NaN</td>\n",
       "    </tr>\n",
       "    <tr>\n",
       "      <th>4</th>\n",
       "      <td>NaN</td>\n",
       "      <td>NaN</td>\n",
       "      <td>NaN</td>\n",
       "      <td>NaN</td>\n",
       "      <td>NaN</td>\n",
       "      <td>NaN</td>\n",
       "      <td>NaN</td>\n",
       "      <td>NaN</td>\n",
       "      <td>3346.03</td>\n",
       "      <td>2643.16</td>\n",
       "      <td>...</td>\n",
       "      <td>NaN</td>\n",
       "      <td>NaN</td>\n",
       "      <td>NaN</td>\n",
       "      <td>NaN</td>\n",
       "      <td>NaN</td>\n",
       "      <td>NaN</td>\n",
       "      <td>NaN</td>\n",
       "      <td>NaN</td>\n",
       "      <td>NaN</td>\n",
       "      <td>NaN</td>\n",
       "    </tr>\n",
       "    <tr>\n",
       "      <th>5</th>\n",
       "      <td>NaN</td>\n",
       "      <td>NaN</td>\n",
       "      <td>NaN</td>\n",
       "      <td>7796.83</td>\n",
       "      <td>NaN</td>\n",
       "      <td>NaN</td>\n",
       "      <td>NaN</td>\n",
       "      <td>NaN</td>\n",
       "      <td>2804.35</td>\n",
       "      <td>3510.16</td>\n",
       "      <td>...</td>\n",
       "      <td>NaN</td>\n",
       "      <td>NaN</td>\n",
       "      <td>NaN</td>\n",
       "      <td>NaN</td>\n",
       "      <td>NaN</td>\n",
       "      <td>NaN</td>\n",
       "      <td>NaN</td>\n",
       "      <td>NaN</td>\n",
       "      <td>NaN</td>\n",
       "      <td>NaN</td>\n",
       "    </tr>\n",
       "    <tr>\n",
       "      <th>6</th>\n",
       "      <td>NaN</td>\n",
       "      <td>582.90</td>\n",
       "      <td>NaN</td>\n",
       "      <td>2493.58</td>\n",
       "      <td>NaN</td>\n",
       "      <td>NaN</td>\n",
       "      <td>NaN</td>\n",
       "      <td>NaN</td>\n",
       "      <td>2649.80</td>\n",
       "      <td>3048.61</td>\n",
       "      <td>...</td>\n",
       "      <td>NaN</td>\n",
       "      <td>NaN</td>\n",
       "      <td>NaN</td>\n",
       "      <td>NaN</td>\n",
       "      <td>NaN</td>\n",
       "      <td>NaN</td>\n",
       "      <td>NaN</td>\n",
       "      <td>NaN</td>\n",
       "      <td>NaN</td>\n",
       "      <td>NaN</td>\n",
       "    </tr>\n",
       "    <tr>\n",
       "      <th>7</th>\n",
       "      <td>NaN</td>\n",
       "      <td>NaN</td>\n",
       "      <td>54782.99</td>\n",
       "      <td>2456.78</td>\n",
       "      <td>NaN</td>\n",
       "      <td>NaN</td>\n",
       "      <td>NaN</td>\n",
       "      <td>NaN</td>\n",
       "      <td>3217.95</td>\n",
       "      <td>2771.69</td>\n",
       "      <td>...</td>\n",
       "      <td>NaN</td>\n",
       "      <td>NaN</td>\n",
       "      <td>NaN</td>\n",
       "      <td>NaN</td>\n",
       "      <td>NaN</td>\n",
       "      <td>NaN</td>\n",
       "      <td>NaN</td>\n",
       "      <td>NaN</td>\n",
       "      <td>NaN</td>\n",
       "      <td>NaN</td>\n",
       "    </tr>\n",
       "    <tr>\n",
       "      <th>8</th>\n",
       "      <td>30184.29</td>\n",
       "      <td>4936.70</td>\n",
       "      <td>NaN</td>\n",
       "      <td>26981.26</td>\n",
       "      <td>NaN</td>\n",
       "      <td>NaN</td>\n",
       "      <td>NaN</td>\n",
       "      <td>NaN</td>\n",
       "      <td>3509.17</td>\n",
       "      <td>3796.25</td>\n",
       "      <td>...</td>\n",
       "      <td>NaN</td>\n",
       "      <td>NaN</td>\n",
       "      <td>NaN</td>\n",
       "      <td>NaN</td>\n",
       "      <td>NaN</td>\n",
       "      <td>NaN</td>\n",
       "      <td>NaN</td>\n",
       "      <td>NaN</td>\n",
       "      <td>NaN</td>\n",
       "      <td>NaN</td>\n",
       "    </tr>\n",
       "    <tr>\n",
       "      <th>9</th>\n",
       "      <td>26418.88</td>\n",
       "      <td>NaN</td>\n",
       "      <td>NaN</td>\n",
       "      <td>8803.94</td>\n",
       "      <td>NaN</td>\n",
       "      <td>NaN</td>\n",
       "      <td>NaN</td>\n",
       "      <td>NaN</td>\n",
       "      <td>3374.52</td>\n",
       "      <td>3619.71</td>\n",
       "      <td>...</td>\n",
       "      <td>2144.61</td>\n",
       "      <td>2239.93</td>\n",
       "      <td>2422.07</td>\n",
       "      <td>NaN</td>\n",
       "      <td>251.42</td>\n",
       "      <td>NaN</td>\n",
       "      <td>NaN</td>\n",
       "      <td>NaN</td>\n",
       "      <td>NaN</td>\n",
       "      <td>NaN</td>\n",
       "    </tr>\n",
       "    <tr>\n",
       "      <th>10</th>\n",
       "      <td>9058.55</td>\n",
       "      <td>6156.73</td>\n",
       "      <td>NaN</td>\n",
       "      <td>8816.48</td>\n",
       "      <td>NaN</td>\n",
       "      <td>40810.68</td>\n",
       "      <td>NaN</td>\n",
       "      <td>NaN</td>\n",
       "      <td>3230.62</td>\n",
       "      <td>3547.26</td>\n",
       "      <td>...</td>\n",
       "      <td>3058.95</td>\n",
       "      <td>2339.50</td>\n",
       "      <td>2751.68</td>\n",
       "      <td>NaN</td>\n",
       "      <td>5047.70</td>\n",
       "      <td>NaN</td>\n",
       "      <td>NaN</td>\n",
       "      <td>NaN</td>\n",
       "      <td>NaN</td>\n",
       "      <td>NaN</td>\n",
       "    </tr>\n",
       "    <tr>\n",
       "      <th>11</th>\n",
       "      <td>NaN</td>\n",
       "      <td>1050.39</td>\n",
       "      <td>NaN</td>\n",
       "      <td>5568.63</td>\n",
       "      <td>NaN</td>\n",
       "      <td>NaN</td>\n",
       "      <td>NaN</td>\n",
       "      <td>NaN</td>\n",
       "      <td>3291.98</td>\n",
       "      <td>3455.83</td>\n",
       "      <td>...</td>\n",
       "      <td>2264.77</td>\n",
       "      <td>2281.17</td>\n",
       "      <td>2901.99</td>\n",
       "      <td>212.71</td>\n",
       "      <td>NaN</td>\n",
       "      <td>NaN</td>\n",
       "      <td>330.25</td>\n",
       "      <td>130.22</td>\n",
       "      <td>NaN</td>\n",
       "      <td>NaN</td>\n",
       "    </tr>\n",
       "    <tr>\n",
       "      <th>12</th>\n",
       "      <td>NaN</td>\n",
       "      <td>6699.00</td>\n",
       "      <td>NaN</td>\n",
       "      <td>8034.51</td>\n",
       "      <td>NaN</td>\n",
       "      <td>20188.76</td>\n",
       "      <td>NaN</td>\n",
       "      <td>NaN</td>\n",
       "      <td>3358.83</td>\n",
       "      <td>3392.74</td>\n",
       "      <td>...</td>\n",
       "      <td>2123.77</td>\n",
       "      <td>2261.56</td>\n",
       "      <td>2829.15</td>\n",
       "      <td>128.69</td>\n",
       "      <td>2402.26</td>\n",
       "      <td>NaN</td>\n",
       "      <td>NaN</td>\n",
       "      <td>1588.37</td>\n",
       "      <td>NaN</td>\n",
       "      <td>NaN</td>\n",
       "    </tr>\n",
       "    <tr>\n",
       "      <th>13</th>\n",
       "      <td>37413.46</td>\n",
       "      <td>7125.34</td>\n",
       "      <td>NaN</td>\n",
       "      <td>9173.80</td>\n",
       "      <td>NaN</td>\n",
       "      <td>NaN</td>\n",
       "      <td>18809.88</td>\n",
       "      <td>31691.36</td>\n",
       "      <td>3324.04</td>\n",
       "      <td>3400.73</td>\n",
       "      <td>...</td>\n",
       "      <td>2009.02</td>\n",
       "      <td>2526.95</td>\n",
       "      <td>2541.89</td>\n",
       "      <td>49.99</td>\n",
       "      <td>NaN</td>\n",
       "      <td>3548.20</td>\n",
       "      <td>1802.64</td>\n",
       "      <td>NaN</td>\n",
       "      <td>NaN</td>\n",
       "      <td>NaN</td>\n",
       "    </tr>\n",
       "    <tr>\n",
       "      <th>14</th>\n",
       "      <td>30164.58</td>\n",
       "      <td>4478.73</td>\n",
       "      <td>NaN</td>\n",
       "      <td>9645.61</td>\n",
       "      <td>NaN</td>\n",
       "      <td>20924.22</td>\n",
       "      <td>NaN</td>\n",
       "      <td>NaN</td>\n",
       "      <td>3496.98</td>\n",
       "      <td>3394.87</td>\n",
       "      <td>...</td>\n",
       "      <td>1161.91</td>\n",
       "      <td>2861.76</td>\n",
       "      <td>2821.22</td>\n",
       "      <td>87.28</td>\n",
       "      <td>618.83</td>\n",
       "      <td>NaN</td>\n",
       "      <td>3208.77</td>\n",
       "      <td>NaN</td>\n",
       "      <td>NaN</td>\n",
       "      <td>NaN</td>\n",
       "    </tr>\n",
       "    <tr>\n",
       "      <th>15</th>\n",
       "      <td>NaN</td>\n",
       "      <td>5967.40</td>\n",
       "      <td>NaN</td>\n",
       "      <td>6368.65</td>\n",
       "      <td>28396.60</td>\n",
       "      <td>NaN</td>\n",
       "      <td>NaN</td>\n",
       "      <td>NaN</td>\n",
       "      <td>3497.02</td>\n",
       "      <td>3329.21</td>\n",
       "      <td>...</td>\n",
       "      <td>7876.60</td>\n",
       "      <td>2425.09</td>\n",
       "      <td>2798.73</td>\n",
       "      <td>NaN</td>\n",
       "      <td>NaN</td>\n",
       "      <td>NaN</td>\n",
       "      <td>3984.72</td>\n",
       "      <td>961.67</td>\n",
       "      <td>NaN</td>\n",
       "      <td>NaN</td>\n",
       "    </tr>\n",
       "    <tr>\n",
       "      <th>16</th>\n",
       "      <td>NaN</td>\n",
       "      <td>4864.25</td>\n",
       "      <td>NaN</td>\n",
       "      <td>3269.36</td>\n",
       "      <td>NaN</td>\n",
       "      <td>12507.83</td>\n",
       "      <td>NaN</td>\n",
       "      <td>NaN</td>\n",
       "      <td>3337.27</td>\n",
       "      <td>3174.27</td>\n",
       "      <td>...</td>\n",
       "      <td>2106.85</td>\n",
       "      <td>2465.50</td>\n",
       "      <td>2618.89</td>\n",
       "      <td>NaN</td>\n",
       "      <td>NaN</td>\n",
       "      <td>NaN</td>\n",
       "      <td>4077.21</td>\n",
       "      <td>1144.59</td>\n",
       "      <td>NaN</td>\n",
       "      <td>NaN</td>\n",
       "    </tr>\n",
       "    <tr>\n",
       "      <th>17</th>\n",
       "      <td>NaN</td>\n",
       "      <td>4460.68</td>\n",
       "      <td>NaN</td>\n",
       "      <td>5888.20</td>\n",
       "      <td>NaN</td>\n",
       "      <td>NaN</td>\n",
       "      <td>NaN</td>\n",
       "      <td>NaN</td>\n",
       "      <td>3341.45</td>\n",
       "      <td>3266.35</td>\n",
       "      <td>...</td>\n",
       "      <td>3193.09</td>\n",
       "      <td>2793.71</td>\n",
       "      <td>2749.00</td>\n",
       "      <td>NaN</td>\n",
       "      <td>NaN</td>\n",
       "      <td>NaN</td>\n",
       "      <td>2566.19</td>\n",
       "      <td>2328.56</td>\n",
       "      <td>NaN</td>\n",
       "      <td>1224.00</td>\n",
       "    </tr>\n",
       "    <tr>\n",
       "      <th>18</th>\n",
       "      <td>NaN</td>\n",
       "      <td>5103.12</td>\n",
       "      <td>NaN</td>\n",
       "      <td>10525.31</td>\n",
       "      <td>NaN</td>\n",
       "      <td>NaN</td>\n",
       "      <td>NaN</td>\n",
       "      <td>NaN</td>\n",
       "      <td>3210.56</td>\n",
       "      <td>3027.72</td>\n",
       "      <td>...</td>\n",
       "      <td>3009.12</td>\n",
       "      <td>2713.20</td>\n",
       "      <td>2572.86</td>\n",
       "      <td>NaN</td>\n",
       "      <td>NaN</td>\n",
       "      <td>NaN</td>\n",
       "      <td>6207.97</td>\n",
       "      <td>NaN</td>\n",
       "      <td>NaN</td>\n",
       "      <td>NaN</td>\n",
       "    </tr>\n",
       "    <tr>\n",
       "      <th>19</th>\n",
       "      <td>NaN</td>\n",
       "      <td>4087.15</td>\n",
       "      <td>NaN</td>\n",
       "      <td>8345.91</td>\n",
       "      <td>NaN</td>\n",
       "      <td>NaN</td>\n",
       "      <td>NaN</td>\n",
       "      <td>NaN</td>\n",
       "      <td>3191.40</td>\n",
       "      <td>3038.61</td>\n",
       "      <td>...</td>\n",
       "      <td>3691.41</td>\n",
       "      <td>2610.57</td>\n",
       "      <td>2932.46</td>\n",
       "      <td>NaN</td>\n",
       "      <td>576.12</td>\n",
       "      <td>NaN</td>\n",
       "      <td>1482.83</td>\n",
       "      <td>529.54</td>\n",
       "      <td>NaN</td>\n",
       "      <td>NaN</td>\n",
       "    </tr>\n",
       "    <tr>\n",
       "      <th>20</th>\n",
       "      <td>NaN</td>\n",
       "      <td>4287.85</td>\n",
       "      <td>NaN</td>\n",
       "      <td>6324.93</td>\n",
       "      <td>NaN</td>\n",
       "      <td>NaN</td>\n",
       "      <td>NaN</td>\n",
       "      <td>NaN</td>\n",
       "      <td>3406.90</td>\n",
       "      <td>2900.16</td>\n",
       "      <td>...</td>\n",
       "      <td>6241.49</td>\n",
       "      <td>2276.86</td>\n",
       "      <td>3123.80</td>\n",
       "      <td>NaN</td>\n",
       "      <td>538.55</td>\n",
       "      <td>NaN</td>\n",
       "      <td>6051.91</td>\n",
       "      <td>NaN</td>\n",
       "      <td>1919.70</td>\n",
       "      <td>NaN</td>\n",
       "    </tr>\n",
       "    <tr>\n",
       "      <th>21</th>\n",
       "      <td>NaN</td>\n",
       "      <td>7707.20</td>\n",
       "      <td>NaN</td>\n",
       "      <td>12564.00</td>\n",
       "      <td>NaN</td>\n",
       "      <td>NaN</td>\n",
       "      <td>NaN</td>\n",
       "      <td>NaN</td>\n",
       "      <td>3274.61</td>\n",
       "      <td>2810.80</td>\n",
       "      <td>...</td>\n",
       "      <td>1561.86</td>\n",
       "      <td>2593.03</td>\n",
       "      <td>2530.71</td>\n",
       "      <td>NaN</td>\n",
       "      <td>NaN</td>\n",
       "      <td>NaN</td>\n",
       "      <td>741.43</td>\n",
       "      <td>NaN</td>\n",
       "      <td>NaN</td>\n",
       "      <td>NaN</td>\n",
       "    </tr>\n",
       "    <tr>\n",
       "      <th>22</th>\n",
       "      <td>NaN</td>\n",
       "      <td>1791.16</td>\n",
       "      <td>NaN</td>\n",
       "      <td>6373.74</td>\n",
       "      <td>NaN</td>\n",
       "      <td>NaN</td>\n",
       "      <td>NaN</td>\n",
       "      <td>NaN</td>\n",
       "      <td>3469.34</td>\n",
       "      <td>2714.20</td>\n",
       "      <td>...</td>\n",
       "      <td>2987.73</td>\n",
       "      <td>2399.54</td>\n",
       "      <td>1944.23</td>\n",
       "      <td>NaN</td>\n",
       "      <td>691.91</td>\n",
       "      <td>NaN</td>\n",
       "      <td>4702.33</td>\n",
       "      <td>NaN</td>\n",
       "      <td>NaN</td>\n",
       "      <td>NaN</td>\n",
       "    </tr>\n",
       "    <tr>\n",
       "      <th>23</th>\n",
       "      <td>NaN</td>\n",
       "      <td>3892.53</td>\n",
       "      <td>NaN</td>\n",
       "      <td>NaN</td>\n",
       "      <td>NaN</td>\n",
       "      <td>NaN</td>\n",
       "      <td>NaN</td>\n",
       "      <td>NaN</td>\n",
       "      <td>2868.95</td>\n",
       "      <td>2332.32</td>\n",
       "      <td>...</td>\n",
       "      <td>NaN</td>\n",
       "      <td>NaN</td>\n",
       "      <td>1200.62</td>\n",
       "      <td>NaN</td>\n",
       "      <td>NaN</td>\n",
       "      <td>NaN</td>\n",
       "      <td>NaN</td>\n",
       "      <td>NaN</td>\n",
       "      <td>NaN</td>\n",
       "      <td>NaN</td>\n",
       "    </tr>\n",
       "  </tbody>\n",
       "</table>\n",
       "<p>24 rows × 35 columns</p>\n",
       "</div>"
      ],
      "text/plain": [
       "client_NT                             Metro c&c                               \\\n",
       "text_kktAddress г Москва, пр-кт Мира, д 211 к 1 г Москва, ул Рябиновая, д 59   \n",
       "hour                                                                           \n",
       "0                                           NaN                          NaN   \n",
       "1                                           NaN                          NaN   \n",
       "2                                           NaN                          NaN   \n",
       "3                                           NaN                          NaN   \n",
       "4                                           NaN                          NaN   \n",
       "5                                           NaN                          NaN   \n",
       "6                                           NaN                       582.90   \n",
       "7                                           NaN                          NaN   \n",
       "8                                      30184.29                      4936.70   \n",
       "9                                      26418.88                          NaN   \n",
       "10                                      9058.55                      6156.73   \n",
       "11                                          NaN                      1050.39   \n",
       "12                                          NaN                      6699.00   \n",
       "13                                     37413.46                      7125.34   \n",
       "14                                     30164.58                      4478.73   \n",
       "15                                          NaN                      5967.40   \n",
       "16                                          NaN                      4864.25   \n",
       "17                                          NaN                      4460.68   \n",
       "18                                          NaN                      5103.12   \n",
       "19                                          NaN                      4087.15   \n",
       "20                                          NaN                      4287.85   \n",
       "21                                          NaN                      7707.20   \n",
       "22                                          NaN                      1791.16   \n",
       "23                                          NaN                      3892.53   \n",
       "\n",
       "client_NT                                       \\\n",
       "text_kktAddress г Москва, ул Дорожная, д 1 к 1   \n",
       "hour                                             \n",
       "0                                          NaN   \n",
       "1                                          NaN   \n",
       "2                                          NaN   \n",
       "3                                          NaN   \n",
       "4                                          NaN   \n",
       "5                                          NaN   \n",
       "6                                          NaN   \n",
       "7                                     54782.99   \n",
       "8                                          NaN   \n",
       "9                                          NaN   \n",
       "10                                         NaN   \n",
       "11                                         NaN   \n",
       "12                                         NaN   \n",
       "13                                         NaN   \n",
       "14                                         NaN   \n",
       "15                                         NaN   \n",
       "16                                         NaN   \n",
       "17                                         NaN   \n",
       "18                                         NaN   \n",
       "19                                         NaN   \n",
       "20                                         NaN   \n",
       "21                                         NaN   \n",
       "22                                         NaN   \n",
       "23                                         NaN   \n",
       "\n",
       "client_NT                                                                      \\\n",
       "text_kktAddress г Москва, ш Ленинградское, д 71Г г Москва, км МКАД 104-й, д 6   \n",
       "hour                                                                            \n",
       "0                                            NaN                          NaN   \n",
       "1                                            NaN                          NaN   \n",
       "2                                            NaN                          NaN   \n",
       "3                                            NaN                          NaN   \n",
       "4                                            NaN                          NaN   \n",
       "5                                        7796.83                          NaN   \n",
       "6                                        2493.58                          NaN   \n",
       "7                                        2456.78                          NaN   \n",
       "8                                       26981.26                          NaN   \n",
       "9                                        8803.94                          NaN   \n",
       "10                                       8816.48                          NaN   \n",
       "11                                       5568.63                          NaN   \n",
       "12                                       8034.51                          NaN   \n",
       "13                                       9173.80                          NaN   \n",
       "14                                       9645.61                          NaN   \n",
       "15                                       6368.65                     28396.60   \n",
       "16                                       3269.36                          NaN   \n",
       "17                                       5888.20                          NaN   \n",
       "18                                      10525.31                          NaN   \n",
       "19                                       8345.91                          NaN   \n",
       "20                                       6324.93                          NaN   \n",
       "21                                      12564.00                          NaN   \n",
       "22                                       6373.74                          NaN   \n",
       "23                                           NaN                          NaN   \n",
       "\n",
       "client_NT                                                   \\\n",
       "text_kktAddress г Москва, Московский п, кв-л 34, д 3 стр 1   \n",
       "hour                                                         \n",
       "0                                                      NaN   \n",
       "1                                                      NaN   \n",
       "2                                                      NaN   \n",
       "3                                                      NaN   \n",
       "4                                                      NaN   \n",
       "5                                                      NaN   \n",
       "6                                                      NaN   \n",
       "7                                                      NaN   \n",
       "8                                                      NaN   \n",
       "9                                                      NaN   \n",
       "10                                                40810.68   \n",
       "11                                                     NaN   \n",
       "12                                                20188.76   \n",
       "13                                                     NaN   \n",
       "14                                                20924.22   \n",
       "15                                                     NaN   \n",
       "16                                                12507.83   \n",
       "17                                                     NaN   \n",
       "18                                                     NaN   \n",
       "19                                                     NaN   \n",
       "20                                                     NaN   \n",
       "21                                                     NaN   \n",
       "22                                                     NaN   \n",
       "23                                                     NaN   \n",
       "\n",
       "client_NT                                              \\\n",
       "text_kktAddress г Москва, ул Маршала Прошлякова, д 14   \n",
       "hour                                                    \n",
       "0                                                 NaN   \n",
       "1                                                 NaN   \n",
       "2                                                 NaN   \n",
       "3                                                 NaN   \n",
       "4                                                 NaN   \n",
       "5                                                 NaN   \n",
       "6                                                 NaN   \n",
       "7                                                 NaN   \n",
       "8                                                 NaN   \n",
       "9                                                 NaN   \n",
       "10                                                NaN   \n",
       "11                                                NaN   \n",
       "12                                                NaN   \n",
       "13                                           18809.88   \n",
       "14                                                NaN   \n",
       "15                                                NaN   \n",
       "16                                                NaN   \n",
       "17                                                NaN   \n",
       "18                                                NaN   \n",
       "19                                                NaN   \n",
       "20                                                NaN   \n",
       "21                                                NaN   \n",
       "22                                                NaN   \n",
       "23                                                NaN   \n",
       "\n",
       "client_NT                                        \\\n",
       "text_kktAddress г Москва, ш Дмитровское, д 165Б   \n",
       "hour                                              \n",
       "0                                           NaN   \n",
       "1                                           NaN   \n",
       "2                                           NaN   \n",
       "3                                           NaN   \n",
       "4                                           NaN   \n",
       "5                                           NaN   \n",
       "6                                           NaN   \n",
       "7                                           NaN   \n",
       "8                                           NaN   \n",
       "9                                           NaN   \n",
       "10                                          NaN   \n",
       "11                                          NaN   \n",
       "12                                          NaN   \n",
       "13                                     31691.36   \n",
       "14                                          NaN   \n",
       "15                                          NaN   \n",
       "16                                          NaN   \n",
       "17                                          NaN   \n",
       "18                                          NaN   \n",
       "19                                          NaN   \n",
       "20                                          NaN   \n",
       "21                                          NaN   \n",
       "22                                          NaN   \n",
       "23                                          NaN   \n",
       "\n",
       "client_NT                                                                    Гиперглобус  \\\n",
       "text_kktAddress г Москва, Сосенское п, п Коммунарка, ул Александры Монаховой, д 61 стр 1   \n",
       "hour                                                                                       \n",
       "0                                                          2737.98                         \n",
       "1                                                          3553.30                         \n",
       "2                                                          2674.27                         \n",
       "3                                                          3019.10                         \n",
       "4                                                          3346.03                         \n",
       "5                                                          2804.35                         \n",
       "6                                                          2649.80                         \n",
       "7                                                          3217.95                         \n",
       "8                                                          3509.17                         \n",
       "9                                                          3374.52                         \n",
       "10                                                         3230.62                         \n",
       "11                                                         3291.98                         \n",
       "12                                                         3358.83                         \n",
       "13                                                         3324.04                         \n",
       "14                                                         3496.98                         \n",
       "15                                                         3497.02                         \n",
       "16                                                         3337.27                         \n",
       "17                                                         3341.45                         \n",
       "18                                                         3210.56                         \n",
       "19                                                         3191.40                         \n",
       "20                                                         3406.90                         \n",
       "21                                                         3274.61                         \n",
       "22                                                         3469.34                         \n",
       "23                                                         2868.95                         \n",
       "\n",
       "client_NT                                                             ...  \\\n",
       "text_kktAddress г Москва, км Киевское шоссе 23-й (п Московский), д 1  ...   \n",
       "hour                                                                  ...   \n",
       "0                                                          2246.30    ...   \n",
       "1                                                          2347.49    ...   \n",
       "2                                                          2454.79    ...   \n",
       "3                                                          2265.72    ...   \n",
       "4                                                          2643.16    ...   \n",
       "5                                                          3510.16    ...   \n",
       "6                                                          3048.61    ...   \n",
       "7                                                          2771.69    ...   \n",
       "8                                                          3796.25    ...   \n",
       "9                                                          3619.71    ...   \n",
       "10                                                         3547.26    ...   \n",
       "11                                                         3455.83    ...   \n",
       "12                                                         3392.74    ...   \n",
       "13                                                         3400.73    ...   \n",
       "14                                                         3394.87    ...   \n",
       "15                                                         3329.21    ...   \n",
       "16                                                         3174.27    ...   \n",
       "17                                                         3266.35    ...   \n",
       "18                                                         3027.72    ...   \n",
       "19                                                         3038.61    ...   \n",
       "20                                                         2900.16    ...   \n",
       "21                                                         2810.80    ...   \n",
       "22                                                         2714.20    ...   \n",
       "23                                                         2332.32    ...   \n",
       "\n",
       "client_NT                                 Окей  \\\n",
       "text_kktAddress г Москва, ш Дмитровское, д 49Д   \n",
       "hour                                             \n",
       "0                                          NaN   \n",
       "1                                          NaN   \n",
       "2                                          NaN   \n",
       "3                                          NaN   \n",
       "4                                          NaN   \n",
       "5                                          NaN   \n",
       "6                                          NaN   \n",
       "7                                          NaN   \n",
       "8                                          NaN   \n",
       "9                                      2144.61   \n",
       "10                                     3058.95   \n",
       "11                                     2264.77   \n",
       "12                                     2123.77   \n",
       "13                                     2009.02   \n",
       "14                                     1161.91   \n",
       "15                                     7876.60   \n",
       "16                                     2106.85   \n",
       "17                                     3193.09   \n",
       "18                                     3009.12   \n",
       "19                                     3691.41   \n",
       "20                                     6241.49   \n",
       "21                                     1561.86   \n",
       "22                                     2987.73   \n",
       "23                                         NaN   \n",
       "\n",
       "client_NT                                          \\\n",
       "text_kktAddress г Москва, ш Дмитровское, влд 163А   \n",
       "hour                                                \n",
       "0                                             NaN   \n",
       "1                                             NaN   \n",
       "2                                             NaN   \n",
       "3                                             NaN   \n",
       "4                                             NaN   \n",
       "5                                             NaN   \n",
       "6                                             NaN   \n",
       "7                                             NaN   \n",
       "8                                             NaN   \n",
       "9                                         2239.93   \n",
       "10                                        2339.50   \n",
       "11                                        2281.17   \n",
       "12                                        2261.56   \n",
       "13                                        2526.95   \n",
       "14                                        2861.76   \n",
       "15                                        2425.09   \n",
       "16                                        2465.50   \n",
       "17                                        2793.71   \n",
       "18                                        2713.20   \n",
       "19                                        2610.57   \n",
       "20                                        2276.86   \n",
       "21                                        2593.03   \n",
       "22                                        2399.54   \n",
       "23                                            NaN   \n",
       "\n",
       "client_NT                                                                     \\\n",
       "text_kktAddress г Москва, ш Дмитровское, д 107А г Москва, ш Дмитровское, к 1   \n",
       "hour                                                                           \n",
       "0                                           NaN                          NaN   \n",
       "1                                           NaN                          NaN   \n",
       "2                                           NaN                          NaN   \n",
       "3                                           NaN                          NaN   \n",
       "4                                           NaN                          NaN   \n",
       "5                                           NaN                          NaN   \n",
       "6                                           NaN                          NaN   \n",
       "7                                           NaN                          NaN   \n",
       "8                                           NaN                          NaN   \n",
       "9                                       2422.07                          NaN   \n",
       "10                                      2751.68                          NaN   \n",
       "11                                      2901.99                       212.71   \n",
       "12                                      2829.15                       128.69   \n",
       "13                                      2541.89                        49.99   \n",
       "14                                      2821.22                        87.28   \n",
       "15                                      2798.73                          NaN   \n",
       "16                                      2618.89                          NaN   \n",
       "17                                      2749.00                          NaN   \n",
       "18                                      2572.86                          NaN   \n",
       "19                                      2932.46                          NaN   \n",
       "20                                      3123.80                          NaN   \n",
       "21                                      2530.71                          NaN   \n",
       "22                                      1944.23                          NaN   \n",
       "23                                      1200.62                          NaN   \n",
       "\n",
       "client_NT                                         \\\n",
       "text_kktAddress г Москва, ш Дмитровское, влд 91А   \n",
       "hour                                               \n",
       "0                                            NaN   \n",
       "1                                            NaN   \n",
       "2                                            NaN   \n",
       "3                                            NaN   \n",
       "4                                            NaN   \n",
       "5                                            NaN   \n",
       "6                                            NaN   \n",
       "7                                            NaN   \n",
       "8                                            NaN   \n",
       "9                                         251.42   \n",
       "10                                       5047.70   \n",
       "11                                           NaN   \n",
       "12                                       2402.26   \n",
       "13                                           NaN   \n",
       "14                                        618.83   \n",
       "15                                           NaN   \n",
       "16                                           NaN   \n",
       "17                                           NaN   \n",
       "18                                           NaN   \n",
       "19                                        576.12   \n",
       "20                                        538.55   \n",
       "21                                           NaN   \n",
       "22                                        691.91   \n",
       "23                                           NaN   \n",
       "\n",
       "client_NT                                                                      \\\n",
       "text_kktAddress г Москва, ш Дмитровское, д 165 г Москва, ш Дмитровское, д 58А   \n",
       "hour                                                                            \n",
       "0                                          NaN                            NaN   \n",
       "1                                          NaN                            NaN   \n",
       "2                                          NaN                            NaN   \n",
       "3                                          NaN                            NaN   \n",
       "4                                          NaN                            NaN   \n",
       "5                                          NaN                            NaN   \n",
       "6                                          NaN                            NaN   \n",
       "7                                          NaN                            NaN   \n",
       "8                                          NaN                            NaN   \n",
       "9                                          NaN                            NaN   \n",
       "10                                         NaN                            NaN   \n",
       "11                                         NaN                         330.25   \n",
       "12                                         NaN                            NaN   \n",
       "13                                     3548.20                        1802.64   \n",
       "14                                         NaN                        3208.77   \n",
       "15                                         NaN                        3984.72   \n",
       "16                                         NaN                        4077.21   \n",
       "17                                         NaN                        2566.19   \n",
       "18                                         NaN                        6207.97   \n",
       "19                                         NaN                        1482.83   \n",
       "20                                         NaN                        6051.91   \n",
       "21                                         NaN                         741.43   \n",
       "22                                         NaN                        4702.33   \n",
       "23                                         NaN                            NaN   \n",
       "\n",
       "client_NT                                      \\\n",
       "text_kktAddress г Москва, ш Дмитровское, д 41   \n",
       "hour                                            \n",
       "0                                         NaN   \n",
       "1                                         NaN   \n",
       "2                                         NaN   \n",
       "3                                         NaN   \n",
       "4                                         NaN   \n",
       "5                                         NaN   \n",
       "6                                         NaN   \n",
       "7                                         NaN   \n",
       "8                                         NaN   \n",
       "9                                         NaN   \n",
       "10                                        NaN   \n",
       "11                                     130.22   \n",
       "12                                    1588.37   \n",
       "13                                        NaN   \n",
       "14                                        NaN   \n",
       "15                                     961.67   \n",
       "16                                    1144.59   \n",
       "17                                    2328.56   \n",
       "18                                        NaN   \n",
       "19                                     529.54   \n",
       "20                                        NaN   \n",
       "21                                        NaN   \n",
       "22                                        NaN   \n",
       "23                                        NaN   \n",
       "\n",
       "client_NT                                              \\\n",
       "text_kktAddress г Москва, ш Дмитровское, д 107 стр 2а   \n",
       "hour                                                    \n",
       "0                                                 NaN   \n",
       "1                                                 NaN   \n",
       "2                                                 NaN   \n",
       "3                                                 NaN   \n",
       "4                                                 NaN   \n",
       "5                                                 NaN   \n",
       "6                                                 NaN   \n",
       "7                                                 NaN   \n",
       "8                                                 NaN   \n",
       "9                                                 NaN   \n",
       "10                                                NaN   \n",
       "11                                                NaN   \n",
       "12                                                NaN   \n",
       "13                                                NaN   \n",
       "14                                                NaN   \n",
       "15                                                NaN   \n",
       "16                                                NaN   \n",
       "17                                                NaN   \n",
       "18                                                NaN   \n",
       "19                                                NaN   \n",
       "20                                            1919.70   \n",
       "21                                                NaN   \n",
       "22                                                NaN   \n",
       "23                                                NaN   \n",
       "\n",
       "client_NT                                             \n",
       "text_kktAddress г Москва, ш Дмитровское, д 157 стр 2  \n",
       "hour                                                  \n",
       "0                                                NaN  \n",
       "1                                                NaN  \n",
       "2                                                NaN  \n",
       "3                                                NaN  \n",
       "4                                                NaN  \n",
       "5                                                NaN  \n",
       "6                                                NaN  \n",
       "7                                                NaN  \n",
       "8                                                NaN  \n",
       "9                                                NaN  \n",
       "10                                               NaN  \n",
       "11                                               NaN  \n",
       "12                                               NaN  \n",
       "13                                               NaN  \n",
       "14                                               NaN  \n",
       "15                                               NaN  \n",
       "16                                               NaN  \n",
       "17                                           1224.00  \n",
       "18                                               NaN  \n",
       "19                                               NaN  \n",
       "20                                               NaN  \n",
       "21                                               NaN  \n",
       "22                                               NaN  \n",
       "23                                               NaN  \n",
       "\n",
       "[24 rows x 35 columns]"
      ]
     },
     "execution_count": 63,
     "metadata": {},
     "output_type": "execute_result"
    }
   ],
   "source": [
    "mean_check.pivot_table(\n",
    "    values='totalSum',\n",
    "    index='hour', \n",
    "    columns=['client_NT', 'text_kktAddress'], \n",
    "    aggfunc='mean', \n",
    "    observed=False\n",
    "    )"
   ]
  },
  {
   "cell_type": "markdown",
   "id": "f58efd07",
   "metadata": {},
   "source": [
    "Сформируем сводную таблицу по среднему чеку по дням недели для каждого магазина торговой сети"
   ]
  },
  {
   "cell_type": "code",
   "execution_count": 62,
   "id": "ea409269",
   "metadata": {},
   "outputs": [
    {
     "data": {
      "application/vnd.microsoft.datawrangler.viewer.v0+json": {
       "columns": [
        {
         "name": "weekday",
         "rawType": "object",
         "type": "string"
        },
        {
         "name": "('Metro c&c', 'г Москва, пр-кт Мира, д 211 к 1')",
         "rawType": "float32",
         "type": "float"
        },
        {
         "name": "('Metro c&c', 'г Москва, ул Рябиновая, д 59')",
         "rawType": "float32",
         "type": "float"
        },
        {
         "name": "('Metro c&c', 'г Москва, ул Дорожная, д 1 к 1')",
         "rawType": "float32",
         "type": "float"
        },
        {
         "name": "('Metro c&c', 'г Москва, ш Ленинградское, д 71Г')",
         "rawType": "float32",
         "type": "float"
        },
        {
         "name": "('Metro c&c', 'г Москва, км МКАД 104-й, д 6')",
         "rawType": "float32",
         "type": "float"
        },
        {
         "name": "('Metro c&c', 'г Москва, Московский п, кв-л 34, д 3 стр 1')",
         "rawType": "float32",
         "type": "float"
        },
        {
         "name": "('Metro c&c', 'г Москва, ул Маршала Прошлякова, д 14')",
         "rawType": "float32",
         "type": "float"
        },
        {
         "name": "('Metro c&c', 'г Москва, ш Дмитровское, д 165Б')",
         "rawType": "float32",
         "type": "float"
        },
        {
         "name": "('Гиперглобус', 'г Москва, Сосенское п, п Коммунарка, ул Александры Монаховой, д 61 стр 1')",
         "rawType": "float32",
         "type": "float"
        },
        {
         "name": "('Гиперглобус', 'г Москва, км Киевское шоссе 23-й (п Московский), д 1')",
         "rawType": "float32",
         "type": "float"
        },
        {
         "name": "('Гиперглобус', 'г Москва, км Новорижское шоссе 22-й, влд 1 стр 1')",
         "rawType": "float32",
         "type": "float"
        },
        {
         "name": "('Гиперглобус', 'г Москва, км Новорижское шоссе 22-й, д 1')",
         "rawType": "float32",
         "type": "float"
        },
        {
         "name": "('Гиперглобус', 'г Москва, ул Широкая, д 2А')",
         "rawType": "float32",
         "type": "float"
        },
        {
         "name": "('Гиперглобус', 'г Москва, ш Новоухтомское, д 2А')",
         "rawType": "float32",
         "type": "float"
        },
        {
         "name": "('Гиперглобус', 'г Москва, пр-кт Волгоградский, д 42 к 9')",
         "rawType": "float32",
         "type": "float"
        },
        {
         "name": "('Окей', 'г Москва, Московский п, г Московский, ул Хабарова, д 2')",
         "rawType": "float32",
         "type": "float"
        },
        {
         "name": "('Окей', 'г Москва, пр-кт Мира, д 211 к 2')",
         "rawType": "float32",
         "type": "float"
        },
        {
         "name": "('Окей', 'г Москва, ул Кировоградская, д 13А')",
         "rawType": "float32",
         "type": "float"
        },
        {
         "name": "('Окей', 'г Москва, ул Озёрная, д 50')",
         "rawType": "float32",
         "type": "float"
        },
        {
         "name": "('Окей', 'г Москва, ул Святоозерская, д 1А')",
         "rawType": "float32",
         "type": "float"
        },
        {
         "name": "('Окей', 'г Москва, ш Головинское, д 5 к 1')",
         "rawType": "float32",
         "type": "float"
        },
        {
         "name": "('Окей', 'г Москва, ш Дмитровское, влд 163А к 1')",
         "rawType": "float32",
         "type": "float"
        },
        {
         "name": "('Окей', 'г Москва, ш Дмитровское, д 163А')",
         "rawType": "float32",
         "type": "float"
        },
        {
         "name": "('Окей', 'г Москва, ш Дмитровское, д 98С')",
         "rawType": "float32",
         "type": "float"
        },
        {
         "name": "('Окей', 'г Москва, ш Каширское, д 14')",
         "rawType": "float32",
         "type": "float"
        },
        {
         "name": "('Окей', 'г Москва, ш Дмитровское, д 49Д')",
         "rawType": "float32",
         "type": "float"
        },
        {
         "name": "('Окей', 'г Москва, ш Дмитровское, влд 163А')",
         "rawType": "float32",
         "type": "float"
        },
        {
         "name": "('Окей', 'г Москва, ш Дмитровское, д 107А')",
         "rawType": "float32",
         "type": "float"
        },
        {
         "name": "('Окей', 'г Москва, ш Дмитровское, к 1')",
         "rawType": "float32",
         "type": "float"
        },
        {
         "name": "('Окей', 'г Москва, ш Дмитровское, влд 91А')",
         "rawType": "float32",
         "type": "float"
        },
        {
         "name": "('Окей', 'г Москва, ш Дмитровское, д 165')",
         "rawType": "float32",
         "type": "float"
        },
        {
         "name": "('Окей', 'г Москва, ш Дмитровское, д 58А')",
         "rawType": "float32",
         "type": "float"
        },
        {
         "name": "('Окей', 'г Москва, ш Дмитровское, д 41')",
         "rawType": "float32",
         "type": "float"
        },
        {
         "name": "('Окей', 'г Москва, ш Дмитровское, д 107 стр 2а')",
         "rawType": "float32",
         "type": "float"
        },
        {
         "name": "('Окей', 'г Москва, ш Дмитровское, д 157 стр 2')",
         "rawType": "float32",
         "type": "float"
        }
       ],
       "conversionMethod": "pd.DataFrame",
       "ref": "b5249c04-7287-4750-8007-bd977cb71d8a",
       "rows": [
        [
         "1.Понедельник",
         "9058.55",
         "2372.96",
         null,
         "10730.212",
         null,
         null,
         null,
         null,
         "3193.5483",
         "3140.6836",
         "3569.7844",
         "4019.6282",
         "3107.7686",
         "2609.6768",
         "2782.564",
         "1934.6884",
         "1647.5555",
         "1807.7971",
         "2782.518",
         "2553.573",
         "1138.9828",
         null,
         "2587.76",
         "3022.1426",
         "2574.1367",
         "927.975",
         "2515.4626",
         "2702.8184",
         null,
         null,
         null,
         "220.52",
         "529.54",
         null,
         null
        ],
        [
         "2.Вторник",
         "26418.88",
         "6155.259",
         null,
         "6668.5884",
         null,
         "16060.34",
         null,
         null,
         "3232.357",
         "3142.0627",
         "3478.128",
         "7215.03",
         "3116.349",
         "2345.252",
         "7326.965",
         "1901.1642",
         "1814.058",
         "1715.965",
         "2771.832",
         "2491.642",
         "1282.4987",
         "1882.15",
         "2655.459",
         "2982.505",
         "2621.498",
         "3885.525",
         "2315.641",
         "2587.9758",
         null,
         null,
         null,
         null,
         null,
         null,
         null
        ],
        [
         "3.Среда",
         "30164.58",
         "4819.148",
         null,
         "9358.859",
         null,
         null,
         null,
         null,
         "3157.836",
         "3106.1636",
         "3661.0215",
         "7471.095",
         "3041.4192",
         "2162.1672",
         "4276.5493",
         "1927.5802",
         "1661.3647",
         "1642.6971",
         "2714.2134",
         "2421.1853",
         "1056.4813",
         null,
         "2393.3767",
         "2707.0378",
         "2464.762",
         "2643.537",
         "2466.472",
         "2375.254",
         null,
         null,
         null,
         null,
         "1144.59",
         null,
         null
        ],
        [
         "4.Четверг",
         null,
         "5571.2646",
         "54782.992",
         "7434.9136",
         null,
         "21240.771",
         null,
         null,
         "3257.377",
         "3219.9229",
         "3593.8008",
         "1968.3368",
         "3203.2383",
         "2719.8115",
         "4676.889",
         "2094.4321",
         "1712.0061",
         "1727.0079",
         "2972.0356",
         "2679.1309",
         "1324.4021",
         "279.95",
         "2652.507",
         "3022.473",
         "2760.6384",
         "3703.4238",
         "2474.281",
         "2375.713",
         null,
         "2402.26",
         null,
         "842.48254",
         "1645.115",
         "1919.7",
         "1224.0"
        ],
        [
         "5.Пятница",
         "33798.875",
         null,
         null,
         null,
         "28396.6",
         null,
         "18809.88",
         "31691.36",
         "3507.326",
         "3466.3867",
         "3880.538",
         "2458.84",
         "3376.893",
         "3116.2764",
         "8582.543",
         "2341.058",
         "1949.1885",
         "2118.2483",
         "2872.6572",
         "2788.472",
         "1497.6136",
         null,
         "3073.433",
         "3339.137",
         "2876.1035",
         "420.31",
         "2416.0872",
         "2933.9883",
         null,
         "586.28",
         "3548.2002",
         "3668.55",
         "1588.37",
         null,
         null
        ],
        [
         "6.Суббота",
         null,
         null,
         null,
         "9929.497",
         null,
         "25788.1",
         null,
         null,
         "3627.8389",
         "3407.2004",
         "3741.6257",
         "1263.8",
         "3385.7534",
         "3433.1968",
         "5270.5615",
         "3139.774",
         "2472.985",
         "2215.7424",
         "3316.0034",
         "2933.954",
         "1674.1715",
         null,
         "3238.6704",
         "3408.938",
         "2986.0671",
         "156.71333",
         "2467.8037",
         "2922.5857",
         null,
         "2649.5576",
         null,
         null,
         null,
         null,
         null
        ],
        [
         "7.Воскресенье",
         null,
         null,
         null,
         "5931.0",
         null,
         null,
         null,
         null,
         "3344.5466",
         "3276.2317",
         "3575.15",
         "7334.603",
         "3247.4473",
         "2947.7598",
         "5712.049",
         "2758.3623",
         "2267.143",
         "1959.3636",
         "2917.1067",
         "2791.7163",
         "1423.2466",
         null,
         "2936.2253",
         "2283.421",
         "2864.5012",
         "1050.97",
         "2734.563",
         "2797.9407",
         "138.274",
         "618.8333",
         null,
         null,
         "130.22",
         null,
         null
        ]
       ],
       "shape": {
        "columns": 35,
        "rows": 7
       }
      },
      "text/html": [
       "<div>\n",
       "<style scoped>\n",
       "    .dataframe tbody tr th:only-of-type {\n",
       "        vertical-align: middle;\n",
       "    }\n",
       "\n",
       "    .dataframe tbody tr th {\n",
       "        vertical-align: top;\n",
       "    }\n",
       "\n",
       "    .dataframe thead tr th {\n",
       "        text-align: left;\n",
       "    }\n",
       "\n",
       "    .dataframe thead tr:last-of-type th {\n",
       "        text-align: right;\n",
       "    }\n",
       "</style>\n",
       "<table border=\"1\" class=\"dataframe\">\n",
       "  <thead>\n",
       "    <tr>\n",
       "      <th>client_NT</th>\n",
       "      <th colspan=\"8\" halign=\"left\">Metro c&amp;c</th>\n",
       "      <th colspan=\"2\" halign=\"left\">Гиперглобус</th>\n",
       "      <th>...</th>\n",
       "      <th colspan=\"10\" halign=\"left\">Окей</th>\n",
       "    </tr>\n",
       "    <tr>\n",
       "      <th>text_kktAddress</th>\n",
       "      <th>г Москва, пр-кт Мира, д 211 к 1</th>\n",
       "      <th>г Москва, ул Рябиновая, д 59</th>\n",
       "      <th>г Москва, ул Дорожная, д 1 к 1</th>\n",
       "      <th>г Москва, ш Ленинградское, д 71Г</th>\n",
       "      <th>г Москва, км МКАД 104-й, д 6</th>\n",
       "      <th>г Москва, Московский п, кв-л 34, д 3 стр 1</th>\n",
       "      <th>г Москва, ул Маршала Прошлякова, д 14</th>\n",
       "      <th>г Москва, ш Дмитровское, д 165Б</th>\n",
       "      <th>г Москва, Сосенское п, п Коммунарка, ул Александры Монаховой, д 61 стр 1</th>\n",
       "      <th>г Москва, км Киевское шоссе 23-й (п Московский), д 1</th>\n",
       "      <th>...</th>\n",
       "      <th>г Москва, ш Дмитровское, д 49Д</th>\n",
       "      <th>г Москва, ш Дмитровское, влд 163А</th>\n",
       "      <th>г Москва, ш Дмитровское, д 107А</th>\n",
       "      <th>г Москва, ш Дмитровское, к 1</th>\n",
       "      <th>г Москва, ш Дмитровское, влд 91А</th>\n",
       "      <th>г Москва, ш Дмитровское, д 165</th>\n",
       "      <th>г Москва, ш Дмитровское, д 58А</th>\n",
       "      <th>г Москва, ш Дмитровское, д 41</th>\n",
       "      <th>г Москва, ш Дмитровское, д 107 стр 2а</th>\n",
       "      <th>г Москва, ш Дмитровское, д 157 стр 2</th>\n",
       "    </tr>\n",
       "    <tr>\n",
       "      <th>weekday</th>\n",
       "      <th></th>\n",
       "      <th></th>\n",
       "      <th></th>\n",
       "      <th></th>\n",
       "      <th></th>\n",
       "      <th></th>\n",
       "      <th></th>\n",
       "      <th></th>\n",
       "      <th></th>\n",
       "      <th></th>\n",
       "      <th></th>\n",
       "      <th></th>\n",
       "      <th></th>\n",
       "      <th></th>\n",
       "      <th></th>\n",
       "      <th></th>\n",
       "      <th></th>\n",
       "      <th></th>\n",
       "      <th></th>\n",
       "      <th></th>\n",
       "      <th></th>\n",
       "    </tr>\n",
       "  </thead>\n",
       "  <tbody>\n",
       "    <tr>\n",
       "      <th>1.Понедельник</th>\n",
       "      <td>9058.55</td>\n",
       "      <td>2372.96</td>\n",
       "      <td>NaN</td>\n",
       "      <td>10730.21</td>\n",
       "      <td>NaN</td>\n",
       "      <td>NaN</td>\n",
       "      <td>NaN</td>\n",
       "      <td>NaN</td>\n",
       "      <td>3193.55</td>\n",
       "      <td>3140.68</td>\n",
       "      <td>...</td>\n",
       "      <td>927.97</td>\n",
       "      <td>2515.46</td>\n",
       "      <td>2702.82</td>\n",
       "      <td>NaN</td>\n",
       "      <td>NaN</td>\n",
       "      <td>NaN</td>\n",
       "      <td>220.52</td>\n",
       "      <td>529.54</td>\n",
       "      <td>NaN</td>\n",
       "      <td>NaN</td>\n",
       "    </tr>\n",
       "    <tr>\n",
       "      <th>2.Вторник</th>\n",
       "      <td>26418.88</td>\n",
       "      <td>6155.26</td>\n",
       "      <td>NaN</td>\n",
       "      <td>6668.59</td>\n",
       "      <td>NaN</td>\n",
       "      <td>16060.34</td>\n",
       "      <td>NaN</td>\n",
       "      <td>NaN</td>\n",
       "      <td>3232.36</td>\n",
       "      <td>3142.06</td>\n",
       "      <td>...</td>\n",
       "      <td>3885.52</td>\n",
       "      <td>2315.64</td>\n",
       "      <td>2587.98</td>\n",
       "      <td>NaN</td>\n",
       "      <td>NaN</td>\n",
       "      <td>NaN</td>\n",
       "      <td>NaN</td>\n",
       "      <td>NaN</td>\n",
       "      <td>NaN</td>\n",
       "      <td>NaN</td>\n",
       "    </tr>\n",
       "    <tr>\n",
       "      <th>3.Среда</th>\n",
       "      <td>30164.58</td>\n",
       "      <td>4819.15</td>\n",
       "      <td>NaN</td>\n",
       "      <td>9358.86</td>\n",
       "      <td>NaN</td>\n",
       "      <td>NaN</td>\n",
       "      <td>NaN</td>\n",
       "      <td>NaN</td>\n",
       "      <td>3157.84</td>\n",
       "      <td>3106.16</td>\n",
       "      <td>...</td>\n",
       "      <td>2643.54</td>\n",
       "      <td>2466.47</td>\n",
       "      <td>2375.25</td>\n",
       "      <td>NaN</td>\n",
       "      <td>NaN</td>\n",
       "      <td>NaN</td>\n",
       "      <td>NaN</td>\n",
       "      <td>1144.59</td>\n",
       "      <td>NaN</td>\n",
       "      <td>NaN</td>\n",
       "    </tr>\n",
       "    <tr>\n",
       "      <th>4.Четверг</th>\n",
       "      <td>NaN</td>\n",
       "      <td>5571.26</td>\n",
       "      <td>54782.99</td>\n",
       "      <td>7434.91</td>\n",
       "      <td>NaN</td>\n",
       "      <td>21240.77</td>\n",
       "      <td>NaN</td>\n",
       "      <td>NaN</td>\n",
       "      <td>3257.38</td>\n",
       "      <td>3219.92</td>\n",
       "      <td>...</td>\n",
       "      <td>3703.42</td>\n",
       "      <td>2474.28</td>\n",
       "      <td>2375.71</td>\n",
       "      <td>NaN</td>\n",
       "      <td>2402.26</td>\n",
       "      <td>NaN</td>\n",
       "      <td>842.48</td>\n",
       "      <td>1645.11</td>\n",
       "      <td>1919.70</td>\n",
       "      <td>1224.00</td>\n",
       "    </tr>\n",
       "    <tr>\n",
       "      <th>5.Пятница</th>\n",
       "      <td>33798.88</td>\n",
       "      <td>NaN</td>\n",
       "      <td>NaN</td>\n",
       "      <td>NaN</td>\n",
       "      <td>28396.60</td>\n",
       "      <td>NaN</td>\n",
       "      <td>18809.88</td>\n",
       "      <td>31691.36</td>\n",
       "      <td>3507.33</td>\n",
       "      <td>3466.39</td>\n",
       "      <td>...</td>\n",
       "      <td>420.31</td>\n",
       "      <td>2416.09</td>\n",
       "      <td>2933.99</td>\n",
       "      <td>NaN</td>\n",
       "      <td>586.28</td>\n",
       "      <td>3548.20</td>\n",
       "      <td>3668.55</td>\n",
       "      <td>1588.37</td>\n",
       "      <td>NaN</td>\n",
       "      <td>NaN</td>\n",
       "    </tr>\n",
       "    <tr>\n",
       "      <th>6.Суббота</th>\n",
       "      <td>NaN</td>\n",
       "      <td>NaN</td>\n",
       "      <td>NaN</td>\n",
       "      <td>9929.50</td>\n",
       "      <td>NaN</td>\n",
       "      <td>25788.10</td>\n",
       "      <td>NaN</td>\n",
       "      <td>NaN</td>\n",
       "      <td>3627.84</td>\n",
       "      <td>3407.20</td>\n",
       "      <td>...</td>\n",
       "      <td>156.71</td>\n",
       "      <td>2467.80</td>\n",
       "      <td>2922.59</td>\n",
       "      <td>NaN</td>\n",
       "      <td>2649.56</td>\n",
       "      <td>NaN</td>\n",
       "      <td>NaN</td>\n",
       "      <td>NaN</td>\n",
       "      <td>NaN</td>\n",
       "      <td>NaN</td>\n",
       "    </tr>\n",
       "    <tr>\n",
       "      <th>7.Воскресенье</th>\n",
       "      <td>NaN</td>\n",
       "      <td>NaN</td>\n",
       "      <td>NaN</td>\n",
       "      <td>5931.00</td>\n",
       "      <td>NaN</td>\n",
       "      <td>NaN</td>\n",
       "      <td>NaN</td>\n",
       "      <td>NaN</td>\n",
       "      <td>3344.55</td>\n",
       "      <td>3276.23</td>\n",
       "      <td>...</td>\n",
       "      <td>1050.97</td>\n",
       "      <td>2734.56</td>\n",
       "      <td>2797.94</td>\n",
       "      <td>138.27</td>\n",
       "      <td>618.83</td>\n",
       "      <td>NaN</td>\n",
       "      <td>NaN</td>\n",
       "      <td>130.22</td>\n",
       "      <td>NaN</td>\n",
       "      <td>NaN</td>\n",
       "    </tr>\n",
       "  </tbody>\n",
       "</table>\n",
       "<p>7 rows × 35 columns</p>\n",
       "</div>"
      ],
      "text/plain": [
       "client_NT                             Metro c&c                               \\\n",
       "text_kktAddress г Москва, пр-кт Мира, д 211 к 1 г Москва, ул Рябиновая, д 59   \n",
       "weekday                                                                        \n",
       "1.Понедельник                           9058.55                      2372.96   \n",
       "2.Вторник                              26418.88                      6155.26   \n",
       "3.Среда                                30164.58                      4819.15   \n",
       "4.Четверг                                   NaN                      5571.26   \n",
       "5.Пятница                              33798.88                          NaN   \n",
       "6.Суббота                                   NaN                          NaN   \n",
       "7.Воскресенье                               NaN                          NaN   \n",
       "\n",
       "client_NT                                       \\\n",
       "text_kktAddress г Москва, ул Дорожная, д 1 к 1   \n",
       "weekday                                          \n",
       "1.Понедельник                              NaN   \n",
       "2.Вторник                                  NaN   \n",
       "3.Среда                                    NaN   \n",
       "4.Четверг                             54782.99   \n",
       "5.Пятница                                  NaN   \n",
       "6.Суббота                                  NaN   \n",
       "7.Воскресенье                              NaN   \n",
       "\n",
       "client_NT                                                                      \\\n",
       "text_kktAddress г Москва, ш Ленинградское, д 71Г г Москва, км МКАД 104-й, д 6   \n",
       "weekday                                                                         \n",
       "1.Понедельник                           10730.21                          NaN   \n",
       "2.Вторник                                6668.59                          NaN   \n",
       "3.Среда                                  9358.86                          NaN   \n",
       "4.Четверг                                7434.91                          NaN   \n",
       "5.Пятница                                    NaN                     28396.60   \n",
       "6.Суббота                                9929.50                          NaN   \n",
       "7.Воскресенье                            5931.00                          NaN   \n",
       "\n",
       "client_NT                                                   \\\n",
       "text_kktAddress г Москва, Московский п, кв-л 34, д 3 стр 1   \n",
       "weekday                                                      \n",
       "1.Понедельник                                          NaN   \n",
       "2.Вторник                                         16060.34   \n",
       "3.Среда                                                NaN   \n",
       "4.Четверг                                         21240.77   \n",
       "5.Пятница                                              NaN   \n",
       "6.Суббота                                         25788.10   \n",
       "7.Воскресенье                                          NaN   \n",
       "\n",
       "client_NT                                              \\\n",
       "text_kktAddress г Москва, ул Маршала Прошлякова, д 14   \n",
       "weekday                                                 \n",
       "1.Понедельник                                     NaN   \n",
       "2.Вторник                                         NaN   \n",
       "3.Среда                                           NaN   \n",
       "4.Четверг                                         NaN   \n",
       "5.Пятница                                    18809.88   \n",
       "6.Суббота                                         NaN   \n",
       "7.Воскресенье                                     NaN   \n",
       "\n",
       "client_NT                                        \\\n",
       "text_kktAddress г Москва, ш Дмитровское, д 165Б   \n",
       "weekday                                           \n",
       "1.Понедельник                               NaN   \n",
       "2.Вторник                                   NaN   \n",
       "3.Среда                                     NaN   \n",
       "4.Четверг                                   NaN   \n",
       "5.Пятница                              31691.36   \n",
       "6.Суббота                                   NaN   \n",
       "7.Воскресенье                               NaN   \n",
       "\n",
       "client_NT                                                                    Гиперглобус  \\\n",
       "text_kktAddress г Москва, Сосенское п, п Коммунарка, ул Александры Монаховой, д 61 стр 1   \n",
       "weekday                                                                                    \n",
       "1.Понедельник                                              3193.55                         \n",
       "2.Вторник                                                  3232.36                         \n",
       "3.Среда                                                    3157.84                         \n",
       "4.Четверг                                                  3257.38                         \n",
       "5.Пятница                                                  3507.33                         \n",
       "6.Суббота                                                  3627.84                         \n",
       "7.Воскресенье                                              3344.55                         \n",
       "\n",
       "client_NT                                                             ...  \\\n",
       "text_kktAddress г Москва, км Киевское шоссе 23-й (п Московский), д 1  ...   \n",
       "weekday                                                               ...   \n",
       "1.Понедельник                                              3140.68    ...   \n",
       "2.Вторник                                                  3142.06    ...   \n",
       "3.Среда                                                    3106.16    ...   \n",
       "4.Четверг                                                  3219.92    ...   \n",
       "5.Пятница                                                  3466.39    ...   \n",
       "6.Суббота                                                  3407.20    ...   \n",
       "7.Воскресенье                                              3276.23    ...   \n",
       "\n",
       "client_NT                                 Окей  \\\n",
       "text_kktAddress г Москва, ш Дмитровское, д 49Д   \n",
       "weekday                                          \n",
       "1.Понедельник                           927.97   \n",
       "2.Вторник                              3885.52   \n",
       "3.Среда                                2643.54   \n",
       "4.Четверг                              3703.42   \n",
       "5.Пятница                               420.31   \n",
       "6.Суббота                               156.71   \n",
       "7.Воскресенье                          1050.97   \n",
       "\n",
       "client_NT                                          \\\n",
       "text_kktAddress г Москва, ш Дмитровское, влд 163А   \n",
       "weekday                                             \n",
       "1.Понедельник                             2515.46   \n",
       "2.Вторник                                 2315.64   \n",
       "3.Среда                                   2466.47   \n",
       "4.Четверг                                 2474.28   \n",
       "5.Пятница                                 2416.09   \n",
       "6.Суббота                                 2467.80   \n",
       "7.Воскресенье                             2734.56   \n",
       "\n",
       "client_NT                                                                     \\\n",
       "text_kktAddress г Москва, ш Дмитровское, д 107А г Москва, ш Дмитровское, к 1   \n",
       "weekday                                                                        \n",
       "1.Понедельник                           2702.82                          NaN   \n",
       "2.Вторник                               2587.98                          NaN   \n",
       "3.Среда                                 2375.25                          NaN   \n",
       "4.Четверг                               2375.71                          NaN   \n",
       "5.Пятница                               2933.99                          NaN   \n",
       "6.Суббота                               2922.59                          NaN   \n",
       "7.Воскресенье                           2797.94                       138.27   \n",
       "\n",
       "client_NT                                         \\\n",
       "text_kktAddress г Москва, ш Дмитровское, влд 91А   \n",
       "weekday                                            \n",
       "1.Понедельник                                NaN   \n",
       "2.Вторник                                    NaN   \n",
       "3.Среда                                      NaN   \n",
       "4.Четверг                                2402.26   \n",
       "5.Пятница                                 586.28   \n",
       "6.Суббота                                2649.56   \n",
       "7.Воскресенье                             618.83   \n",
       "\n",
       "client_NT                                                                      \\\n",
       "text_kktAddress г Москва, ш Дмитровское, д 165 г Москва, ш Дмитровское, д 58А   \n",
       "weekday                                                                         \n",
       "1.Понедельник                              NaN                         220.52   \n",
       "2.Вторник                                  NaN                            NaN   \n",
       "3.Среда                                    NaN                            NaN   \n",
       "4.Четверг                                  NaN                         842.48   \n",
       "5.Пятница                              3548.20                        3668.55   \n",
       "6.Суббота                                  NaN                            NaN   \n",
       "7.Воскресенье                              NaN                            NaN   \n",
       "\n",
       "client_NT                                      \\\n",
       "text_kktAddress г Москва, ш Дмитровское, д 41   \n",
       "weekday                                         \n",
       "1.Понедельник                          529.54   \n",
       "2.Вторник                                 NaN   \n",
       "3.Среда                               1144.59   \n",
       "4.Четверг                             1645.11   \n",
       "5.Пятница                             1588.37   \n",
       "6.Суббота                                 NaN   \n",
       "7.Воскресенье                          130.22   \n",
       "\n",
       "client_NT                                              \\\n",
       "text_kktAddress г Москва, ш Дмитровское, д 107 стр 2а   \n",
       "weekday                                                 \n",
       "1.Понедельник                                     NaN   \n",
       "2.Вторник                                         NaN   \n",
       "3.Среда                                           NaN   \n",
       "4.Четверг                                     1919.70   \n",
       "5.Пятница                                         NaN   \n",
       "6.Суббота                                         NaN   \n",
       "7.Воскресенье                                     NaN   \n",
       "\n",
       "client_NT                                             \n",
       "text_kktAddress г Москва, ш Дмитровское, д 157 стр 2  \n",
       "weekday                                               \n",
       "1.Понедельник                                    NaN  \n",
       "2.Вторник                                        NaN  \n",
       "3.Среда                                          NaN  \n",
       "4.Четверг                                    1224.00  \n",
       "5.Пятница                                        NaN  \n",
       "6.Суббота                                        NaN  \n",
       "7.Воскресенье                                    NaN  \n",
       "\n",
       "[7 rows x 35 columns]"
      ]
     },
     "execution_count": 62,
     "metadata": {},
     "output_type": "execute_result"
    }
   ],
   "source": [
    "mean_check.pivot_table(\n",
    "    values='totalSum',\n",
    "    index='weekday', \n",
    "    columns=['client_NT', 'text_kktAddress'], \n",
    "    aggfunc='mean', \n",
    "    observed=False\n",
    "    )"
   ]
  },
  {
   "cell_type": "markdown",
   "id": "a21bb7e0",
   "metadata": {},
   "source": [
    "Проведём `RFM-анализ`"
   ]
  },
  {
   "cell_type": "markdown",
   "id": "d087cef3",
   "metadata": {},
   "source": [
    "Сформируем датафрейм, в котором `customer_id` не `Null`. Кроме того, возмьём лишь по одной строке `receipt_id`, так как нам необходимо узнать количество посещений"
   ]
  },
  {
   "cell_type": "code",
   "execution_count": 70,
   "id": "13e6bb3f",
   "metadata": {},
   "outputs": [],
   "source": [
    "data_rfm = data[~data['customer_id'].isnull()] # Оставим только не нулевые `cusomer_id`\n",
    "data_rfm = data_rfm.groupby('receipt_id').first() # Достаточно взять только первую строку чека\n",
    "data_rfm['dateTime'] = pd.to_datetime(data_rfm['dateTime'], dayfirst=True) # Преобразуем `dateTime` в формат datetime, если вдруг он текстовый\n",
    "data_rfm = data_rfm.reset_index()\n",
    "snapshot_date = data_rfm['dateTime'].max() + pd.Timedelta(days=1) # Дата \"снапшота\" - следующий день после максимальной даты в датафрейме"
   ]
  },
  {
   "cell_type": "code",
   "execution_count": 71,
   "id": "b3e828ab",
   "metadata": {},
   "outputs": [
    {
     "data": {
      "application/vnd.microsoft.datawrangler.viewer.v0+json": {
       "columns": [
        {
         "name": "customer_id",
         "rawType": "object",
         "type": "string"
        },
        {
         "name": "client_NT",
         "rawType": "category",
         "type": "unknown"
        },
        {
         "name": "Recency",
         "rawType": "int64",
         "type": "integer"
        },
        {
         "name": "Frequency",
         "rawType": "int64",
         "type": "integer"
        },
        {
         "name": "Monetary",
         "rawType": "float32",
         "type": "float"
        }
       ],
       "conversionMethod": "pd.DataFrame",
       "ref": "6ec40f37-0af1-448d-9a01-d8cb14b40a41",
       "rows": [
        [
         "000210750313104b1dcde90697a23cb1",
         "Окей",
         "53",
         "1",
         "1249.81"
        ],
        [
         "000c4642b320702ed33605722ec4bab3",
         "Гиперглобус",
         "25",
         "1",
         "4725.13"
        ],
        [
         "001d4e7abf6108c688d943ce99d7fc74",
         "Гиперглобус",
         "47",
         "1",
         "710.95"
        ],
        [
         "0023a42d6f0698d6fee2ad95121eecc3",
         "Гиперглобус",
         "10",
         "2",
         "499.64"
        ],
        [
         "0027021d451a8c17af41e950fe450f60",
         "Окей",
         "25",
         "2",
         "1266.14"
        ],
        [
         "0028c9745a4d5877b3fb4db5f5860032",
         "Гиперглобус",
         "29",
         "3",
         "16320.11"
        ],
        [
         "002d4b9b6564bc90b206a32edcaf6593",
         "Окей",
         "13",
         "1",
         "2096.43"
        ],
        [
         "00393002fdebd30b1f9e34f293175ac5",
         "Окей",
         "18",
         "1",
         "5610.14"
        ],
        [
         "003c2edd564c470bb059c04b06b25569",
         "Гиперглобус",
         "27",
         "4",
         "9412.439"
        ],
        [
         "004cecac438ea344ebf33e1dd0c3560d",
         "Окей",
         "39",
         "1",
         "752.92"
        ],
        [
         "0051a693435345cc7f82df425298f50f",
         "Гиперглобус",
         "60",
         "1",
         "11331.14"
        ],
        [
         "005a35874af98c191e02cda4fd44c3f0",
         "Гиперглобус",
         "23",
         "2",
         "1757.04"
        ],
        [
         "006136d4ca588ebf887e09bf04ffd63a",
         "Окей",
         "55",
         "1",
         "85.14"
        ],
        [
         "0064633c7bce6be484e1a0699f70e35e",
         "Окей",
         "46",
         "1",
         "1262.19"
        ],
        [
         "0067f36c81889992a557971fb5878c39",
         "Гиперглобус",
         "47",
         "1",
         "9514.85"
        ],
        [
         "007c9a0b7799a8432cb2c5e6c1cfb6d1",
         "Окей",
         "5",
         "4",
         "19020.99"
        ],
        [
         "007ce484581a19a4279ceb02721209a1",
         "Окей",
         "33",
         "2",
         "10000.52"
        ],
        [
         "00847de6e0152e1fe53baa91e8b1cc23",
         "Гиперглобус",
         "1",
         "8",
         "39135.02"
        ],
        [
         "00884aa0b39ab52290a8aacf9682eb70",
         "Гиперглобус",
         "7",
         "3",
         "7265.0"
        ],
        [
         "00893264552e196b62876280b45bba10",
         "Гиперглобус",
         "7",
         "12",
         "11702.5"
        ],
        [
         "008df66174b80e0414fa9d791c6d5d1c",
         "Окей",
         "42",
         "2",
         "11247.359"
        ],
        [
         "00973307dae46ca0d6bb4d7d6d340b3a",
         "Гиперглобус",
         "4",
         "4",
         "10133.199"
        ],
        [
         "0097e127bf3fa92fa545d314500a5a26",
         "Окей",
         "35",
         "2",
         "13121.1"
        ],
        [
         "009dd64bff526782d571c27923605846",
         "Окей",
         "13",
         "2",
         "2788.79"
        ],
        [
         "00a2574171fbfc995b5d897720d48f24",
         "Окей",
         "34",
         "2",
         "21624.84"
        ],
        [
         "00aa2c3484e42a95a55007e240114dae",
         "Окей",
         "6",
         "1",
         "1678.33"
        ],
        [
         "00abebadea2eb62e616441656d490626",
         "Гиперглобус",
         "2",
         "4",
         "29187.93"
        ],
        [
         "00bce31405e0ab9852b764934be4dbb5",
         "Гиперглобус",
         "41",
         "1",
         "2605.21"
        ],
        [
         "00c97baef3e42d4e54250bd07d6e3e78",
         "Гиперглобус",
         "1",
         "2",
         "5631.0"
        ],
        [
         "00c9bc518e8664c0241f1d47e58cb2a5",
         "Гиперглобус",
         "51",
         "1",
         "3419.11"
        ],
        [
         "00cbfff36190d7953a728b51a450555f",
         "Гиперглобус",
         "51",
         "2",
         "751.5"
        ],
        [
         "00cffc4039c8517369d5a3d9929bb6dc",
         "Гиперглобус",
         "5",
         "1",
         "2027.68"
        ],
        [
         "00da00120647e78d238981c6b44a9f9c",
         "Гиперглобус",
         "47",
         "1",
         "10937.11"
        ],
        [
         "00ef99f716ec142b8da3004bba2866ec",
         "Гиперглобус",
         "6",
         "7",
         "22279.07"
        ],
        [
         "00f0c5f4a53af9bd62e6c6a5af54cc9e",
         "Окей",
         "40",
         "1",
         "556.89"
        ],
        [
         "00fef6ae1ee4b72663035ddaf95e174c",
         "Окей",
         "47",
         "2",
         "4679.66"
        ],
        [
         "010299f9f2d5e51072ad1cf33549ade4",
         "Окей",
         "27",
         "2",
         "5236.76"
        ],
        [
         "0108b02f21374bee26d487d5bcf43676",
         "Гиперглобус",
         "27",
         "1",
         "10111.02"
        ],
        [
         "010b07f33d8c40976490e4a8ae7cbcc5",
         "Окей",
         "40",
         "1",
         "52.5"
        ],
        [
         "0110de8e9a008bdda38a5a13769d9fbb",
         "Гиперглобус",
         "50",
         "1",
         "3296.41"
        ],
        [
         "0120f2dc73dff221aa85c9bf71089f80",
         "Окей",
         "53",
         "1",
         "851.75"
        ],
        [
         "0121fbe6e7bd9e42a5b134ff00c230f5",
         "Окей",
         "14",
         "1",
         "2170.39"
        ],
        [
         "01298ca300cedb88c7120cdc0a6fea5f",
         "Окей",
         "33",
         "1",
         "1452.77"
        ],
        [
         "0129df39106b7174a05acb9e07d18d27",
         "Гиперглобус",
         "11",
         "1",
         "902.91"
        ],
        [
         "012e15cfbe9ae842fdd0240af4ed9445",
         "Гиперглобус",
         "2",
         "1",
         "316.0"
        ],
        [
         "012fa7ababa9e40cf4f58758c3ee53a1",
         "Окей",
         "55",
         "1",
         "2593.97"
        ],
        [
         "013a22eea4fd63ddd4848b70db195eaa",
         "Окей",
         "3",
         "3",
         "33320.22"
        ],
        [
         "0147ce5ecf4009c620202363126b7e25",
         "Окей",
         "51",
         "1",
         "2596.55"
        ],
        [
         "0148b5f2784772e0b11f2a174a7dba36",
         "Гиперглобус",
         "11",
         "4",
         "7051.02"
        ],
        [
         "014ac96afc6d6e1c4c5e7ad77b0de6aa",
         "Окей",
         "10",
         "1",
         "2968.28"
        ]
       ],
       "shape": {
        "columns": 4,
        "rows": 11178
       }
      },
      "text/html": [
       "<div>\n",
       "<style scoped>\n",
       "    .dataframe tbody tr th:only-of-type {\n",
       "        vertical-align: middle;\n",
       "    }\n",
       "\n",
       "    .dataframe tbody tr th {\n",
       "        vertical-align: top;\n",
       "    }\n",
       "\n",
       "    .dataframe thead th {\n",
       "        text-align: right;\n",
       "    }\n",
       "</style>\n",
       "<table border=\"1\" class=\"dataframe\">\n",
       "  <thead>\n",
       "    <tr style=\"text-align: right;\">\n",
       "      <th></th>\n",
       "      <th>client_NT</th>\n",
       "      <th>Recency</th>\n",
       "      <th>Frequency</th>\n",
       "      <th>Monetary</th>\n",
       "    </tr>\n",
       "    <tr>\n",
       "      <th>customer_id</th>\n",
       "      <th></th>\n",
       "      <th></th>\n",
       "      <th></th>\n",
       "      <th></th>\n",
       "    </tr>\n",
       "  </thead>\n",
       "  <tbody>\n",
       "    <tr>\n",
       "      <th>000210750313104b1dcde90697a23cb1</th>\n",
       "      <td>Окей</td>\n",
       "      <td>53</td>\n",
       "      <td>1</td>\n",
       "      <td>1249.81</td>\n",
       "    </tr>\n",
       "    <tr>\n",
       "      <th>000c4642b320702ed33605722ec4bab3</th>\n",
       "      <td>Гиперглобус</td>\n",
       "      <td>25</td>\n",
       "      <td>1</td>\n",
       "      <td>4725.13</td>\n",
       "    </tr>\n",
       "    <tr>\n",
       "      <th>001d4e7abf6108c688d943ce99d7fc74</th>\n",
       "      <td>Гиперглобус</td>\n",
       "      <td>47</td>\n",
       "      <td>1</td>\n",
       "      <td>710.95</td>\n",
       "    </tr>\n",
       "    <tr>\n",
       "      <th>0023a42d6f0698d6fee2ad95121eecc3</th>\n",
       "      <td>Гиперглобус</td>\n",
       "      <td>10</td>\n",
       "      <td>2</td>\n",
       "      <td>499.64</td>\n",
       "    </tr>\n",
       "    <tr>\n",
       "      <th>0027021d451a8c17af41e950fe450f60</th>\n",
       "      <td>Окей</td>\n",
       "      <td>25</td>\n",
       "      <td>2</td>\n",
       "      <td>1266.14</td>\n",
       "    </tr>\n",
       "    <tr>\n",
       "      <th>...</th>\n",
       "      <td>...</td>\n",
       "      <td>...</td>\n",
       "      <td>...</td>\n",
       "      <td>...</td>\n",
       "    </tr>\n",
       "    <tr>\n",
       "      <th>ffdf60acbcda04db2e1d50b17432303e</th>\n",
       "      <td>Гиперглобус</td>\n",
       "      <td>57</td>\n",
       "      <td>4</td>\n",
       "      <td>6666.19</td>\n",
       "    </tr>\n",
       "    <tr>\n",
       "      <th>ffe6d0b5b97459e17d775c15258bd40e</th>\n",
       "      <td>Окей</td>\n",
       "      <td>4</td>\n",
       "      <td>1</td>\n",
       "      <td>1223.09</td>\n",
       "    </tr>\n",
       "    <tr>\n",
       "      <th>ffe6f731458ba86281ea71b474388cc8</th>\n",
       "      <td>Гиперглобус</td>\n",
       "      <td>22</td>\n",
       "      <td>1</td>\n",
       "      <td>5573.59</td>\n",
       "    </tr>\n",
       "    <tr>\n",
       "      <th>ffee3c7c8e93d542cb4af4b348a15fe5</th>\n",
       "      <td>Окей</td>\n",
       "      <td>54</td>\n",
       "      <td>1</td>\n",
       "      <td>1515.29</td>\n",
       "    </tr>\n",
       "    <tr>\n",
       "      <th>fff03395c0ba2cb78c05cf634c534ff2</th>\n",
       "      <td>Гиперглобус</td>\n",
       "      <td>15</td>\n",
       "      <td>1</td>\n",
       "      <td>1567.00</td>\n",
       "    </tr>\n",
       "  </tbody>\n",
       "</table>\n",
       "<p>11178 rows × 4 columns</p>\n",
       "</div>"
      ],
      "text/plain": [
       "                                    client_NT  Recency  Frequency  Monetary\n",
       "customer_id                                                                \n",
       "000210750313104b1dcde90697a23cb1         Окей       53          1   1249.81\n",
       "000c4642b320702ed33605722ec4bab3  Гиперглобус       25          1   4725.13\n",
       "001d4e7abf6108c688d943ce99d7fc74  Гиперглобус       47          1    710.95\n",
       "0023a42d6f0698d6fee2ad95121eecc3  Гиперглобус       10          2    499.64\n",
       "0027021d451a8c17af41e950fe450f60         Окей       25          2   1266.14\n",
       "...                                       ...      ...        ...       ...\n",
       "ffdf60acbcda04db2e1d50b17432303e  Гиперглобус       57          4   6666.19\n",
       "ffe6d0b5b97459e17d775c15258bd40e         Окей        4          1   1223.09\n",
       "ffe6f731458ba86281ea71b474388cc8  Гиперглобус       22          1   5573.59\n",
       "ffee3c7c8e93d542cb4af4b348a15fe5         Окей       54          1   1515.29\n",
       "fff03395c0ba2cb78c05cf634c534ff2  Гиперглобус       15          1   1567.00\n",
       "\n",
       "[11178 rows x 4 columns]"
      ]
     },
     "execution_count": 71,
     "metadata": {},
     "output_type": "execute_result"
    }
   ],
   "source": [
    "rfm = data_rfm.groupby(['customer_id'], observed=False).agg({\n",
    "    'client_NT': 'first',\n",
    "    'dateTime': lambda x: (snapshot_date - pd.to_datetime(x, dayfirst=True).max()).days,\n",
    "    'receipt_id': 'nunique',\n",
    "    'totalSum': 'sum',  \n",
    "}).rename(columns={\n",
    "    'dateTime': 'Recency',      # (дней с последней покупки)\n",
    "    'receipt_id': 'Frequency',  # (число уникальных чеков)\n",
    "    'totalSum': 'Monetary'      # (общая сумма покупок)\n",
    "});\n",
    "rfm"
   ]
  },
  {
   "cell_type": "code",
   "execution_count": 72,
   "id": "fa8e1cfe",
   "metadata": {},
   "outputs": [],
   "source": [
    "# Зададим квантили\n",
    "q = [0.33, 0.66]\n",
    "qr = rfm['Recency'].quantile(q).tolist()\n",
    "qf = rfm['Frequency'].quantile(q).tolist()\n",
    "qm = rfm['Monetary'].quantile(q).tolist()"
   ]
  },
  {
   "cell_type": "code",
   "execution_count": 73,
   "id": "27b03692",
   "metadata": {},
   "outputs": [],
   "source": [
    "# Функция для присвоения баллов (1-3)\n",
    "def rfm_score(x, q, metric=False):\n",
    "    if metric == 'Recency':  # Чем меньше дней, тем лучше\n",
    "        if x <= q[0]: return 3\n",
    "        elif x <= q[1]: return 2\n",
    "        else: return 1\n",
    "    else:  # Frequency и Monetary - чем больше, тем лучше\n",
    "        if x <= q[0]: return 1\n",
    "        elif x <= q[1]: return 2\n",
    "        else: return 3\n",
    "\n",
    "# Применяем scoring\n",
    "rfm['R'] = rfm['Recency'].apply(rfm_score, q=qr, metric='Recency')\n",
    "rfm['F'] = rfm['Frequency'].apply(rfm_score, q=qf)\n",
    "rfm['M'] = rfm['Monetary'].apply(rfm_score, q=qm)"
   ]
  },
  {
   "cell_type": "code",
   "execution_count": 74,
   "id": "0c217a5d",
   "metadata": {},
   "outputs": [
    {
     "data": {
      "application/vnd.microsoft.datawrangler.viewer.v0+json": {
       "columns": [
        {
         "name": "customer_id",
         "rawType": "object",
         "type": "string"
        },
        {
         "name": "client_NT",
         "rawType": "category",
         "type": "unknown"
        },
        {
         "name": "Recency",
         "rawType": "int64",
         "type": "integer"
        },
        {
         "name": "Frequency",
         "rawType": "int64",
         "type": "integer"
        },
        {
         "name": "Monetary",
         "rawType": "float32",
         "type": "float"
        },
        {
         "name": "R",
         "rawType": "int64",
         "type": "integer"
        },
        {
         "name": "F",
         "rawType": "int64",
         "type": "integer"
        },
        {
         "name": "M",
         "rawType": "int64",
         "type": "integer"
        }
       ],
       "conversionMethod": "pd.DataFrame",
       "ref": "6cb020d1-84c7-47a3-abb1-33c7f8bcaa54",
       "rows": [
        [
         "000210750313104b1dcde90697a23cb1",
         "Окей",
         "53",
         "1",
         "1249.81",
         "1",
         "1",
         "1"
        ],
        [
         "000c4642b320702ed33605722ec4bab3",
         "Гиперглобус",
         "25",
         "1",
         "4725.13",
         "2",
         "1",
         "2"
        ],
        [
         "001d4e7abf6108c688d943ce99d7fc74",
         "Гиперглобус",
         "47",
         "1",
         "710.95",
         "1",
         "1",
         "1"
        ],
        [
         "0023a42d6f0698d6fee2ad95121eecc3",
         "Гиперглобус",
         "10",
         "2",
         "499.64",
         "3",
         "2",
         "1"
        ],
        [
         "0027021d451a8c17af41e950fe450f60",
         "Окей",
         "25",
         "2",
         "1266.14",
         "2",
         "2",
         "1"
        ],
        [
         "0028c9745a4d5877b3fb4db5f5860032",
         "Гиперглобус",
         "29",
         "3",
         "16320.11",
         "2",
         "3",
         "3"
        ],
        [
         "002d4b9b6564bc90b206a32edcaf6593",
         "Окей",
         "13",
         "1",
         "2096.43",
         "3",
         "1",
         "1"
        ],
        [
         "00393002fdebd30b1f9e34f293175ac5",
         "Окей",
         "18",
         "1",
         "5610.14",
         "2",
         "1",
         "2"
        ],
        [
         "003c2edd564c470bb059c04b06b25569",
         "Гиперглобус",
         "27",
         "4",
         "9412.439",
         "2",
         "3",
         "3"
        ],
        [
         "004cecac438ea344ebf33e1dd0c3560d",
         "Окей",
         "39",
         "1",
         "752.92",
         "1",
         "1",
         "1"
        ],
        [
         "0051a693435345cc7f82df425298f50f",
         "Гиперглобус",
         "60",
         "1",
         "11331.14",
         "1",
         "1",
         "3"
        ],
        [
         "005a35874af98c191e02cda4fd44c3f0",
         "Гиперглобус",
         "23",
         "2",
         "1757.04",
         "2",
         "2",
         "1"
        ],
        [
         "006136d4ca588ebf887e09bf04ffd63a",
         "Окей",
         "55",
         "1",
         "85.14",
         "1",
         "1",
         "1"
        ],
        [
         "0064633c7bce6be484e1a0699f70e35e",
         "Окей",
         "46",
         "1",
         "1262.19",
         "1",
         "1",
         "1"
        ],
        [
         "0067f36c81889992a557971fb5878c39",
         "Гиперглобус",
         "47",
         "1",
         "9514.85",
         "1",
         "1",
         "3"
        ],
        [
         "007c9a0b7799a8432cb2c5e6c1cfb6d1",
         "Окей",
         "5",
         "4",
         "19020.99",
         "3",
         "3",
         "3"
        ],
        [
         "007ce484581a19a4279ceb02721209a1",
         "Окей",
         "33",
         "2",
         "10000.52",
         "2",
         "2",
         "3"
        ],
        [
         "00847de6e0152e1fe53baa91e8b1cc23",
         "Гиперглобус",
         "1",
         "8",
         "39135.02",
         "3",
         "3",
         "3"
        ],
        [
         "00884aa0b39ab52290a8aacf9682eb70",
         "Гиперглобус",
         "7",
         "3",
         "7265.0",
         "3",
         "3",
         "3"
        ],
        [
         "00893264552e196b62876280b45bba10",
         "Гиперглобус",
         "7",
         "12",
         "11702.5",
         "3",
         "3",
         "3"
        ],
        [
         "008df66174b80e0414fa9d791c6d5d1c",
         "Окей",
         "42",
         "2",
         "11247.359",
         "1",
         "2",
         "3"
        ],
        [
         "00973307dae46ca0d6bb4d7d6d340b3a",
         "Гиперглобус",
         "4",
         "4",
         "10133.199",
         "3",
         "3",
         "3"
        ],
        [
         "0097e127bf3fa92fa545d314500a5a26",
         "Окей",
         "35",
         "2",
         "13121.1",
         "2",
         "2",
         "3"
        ],
        [
         "009dd64bff526782d571c27923605846",
         "Окей",
         "13",
         "2",
         "2788.79",
         "3",
         "2",
         "2"
        ],
        [
         "00a2574171fbfc995b5d897720d48f24",
         "Окей",
         "34",
         "2",
         "21624.84",
         "2",
         "2",
         "3"
        ],
        [
         "00aa2c3484e42a95a55007e240114dae",
         "Окей",
         "6",
         "1",
         "1678.33",
         "3",
         "1",
         "1"
        ],
        [
         "00abebadea2eb62e616441656d490626",
         "Гиперглобус",
         "2",
         "4",
         "29187.93",
         "3",
         "3",
         "3"
        ],
        [
         "00bce31405e0ab9852b764934be4dbb5",
         "Гиперглобус",
         "41",
         "1",
         "2605.21",
         "1",
         "1",
         "2"
        ],
        [
         "00c97baef3e42d4e54250bd07d6e3e78",
         "Гиперглобус",
         "1",
         "2",
         "5631.0",
         "3",
         "2",
         "2"
        ],
        [
         "00c9bc518e8664c0241f1d47e58cb2a5",
         "Гиперглобус",
         "51",
         "1",
         "3419.11",
         "1",
         "1",
         "2"
        ],
        [
         "00cbfff36190d7953a728b51a450555f",
         "Гиперглобус",
         "51",
         "2",
         "751.5",
         "1",
         "2",
         "1"
        ],
        [
         "00cffc4039c8517369d5a3d9929bb6dc",
         "Гиперглобус",
         "5",
         "1",
         "2027.68",
         "3",
         "1",
         "1"
        ],
        [
         "00da00120647e78d238981c6b44a9f9c",
         "Гиперглобус",
         "47",
         "1",
         "10937.11",
         "1",
         "1",
         "3"
        ],
        [
         "00ef99f716ec142b8da3004bba2866ec",
         "Гиперглобус",
         "6",
         "7",
         "22279.07",
         "3",
         "3",
         "3"
        ],
        [
         "00f0c5f4a53af9bd62e6c6a5af54cc9e",
         "Окей",
         "40",
         "1",
         "556.89",
         "1",
         "1",
         "1"
        ],
        [
         "00fef6ae1ee4b72663035ddaf95e174c",
         "Окей",
         "47",
         "2",
         "4679.66",
         "1",
         "2",
         "2"
        ],
        [
         "010299f9f2d5e51072ad1cf33549ade4",
         "Окей",
         "27",
         "2",
         "5236.76",
         "2",
         "2",
         "2"
        ],
        [
         "0108b02f21374bee26d487d5bcf43676",
         "Гиперглобус",
         "27",
         "1",
         "10111.02",
         "2",
         "1",
         "3"
        ],
        [
         "010b07f33d8c40976490e4a8ae7cbcc5",
         "Окей",
         "40",
         "1",
         "52.5",
         "1",
         "1",
         "1"
        ],
        [
         "0110de8e9a008bdda38a5a13769d9fbb",
         "Гиперглобус",
         "50",
         "1",
         "3296.41",
         "1",
         "1",
         "2"
        ],
        [
         "0120f2dc73dff221aa85c9bf71089f80",
         "Окей",
         "53",
         "1",
         "851.75",
         "1",
         "1",
         "1"
        ],
        [
         "0121fbe6e7bd9e42a5b134ff00c230f5",
         "Окей",
         "14",
         "1",
         "2170.39",
         "3",
         "1",
         "1"
        ],
        [
         "01298ca300cedb88c7120cdc0a6fea5f",
         "Окей",
         "33",
         "1",
         "1452.77",
         "2",
         "1",
         "1"
        ],
        [
         "0129df39106b7174a05acb9e07d18d27",
         "Гиперглобус",
         "11",
         "1",
         "902.91",
         "3",
         "1",
         "1"
        ],
        [
         "012e15cfbe9ae842fdd0240af4ed9445",
         "Гиперглобус",
         "2",
         "1",
         "316.0",
         "3",
         "1",
         "1"
        ],
        [
         "012fa7ababa9e40cf4f58758c3ee53a1",
         "Окей",
         "55",
         "1",
         "2593.97",
         "1",
         "1",
         "2"
        ],
        [
         "013a22eea4fd63ddd4848b70db195eaa",
         "Окей",
         "3",
         "3",
         "33320.22",
         "3",
         "3",
         "3"
        ],
        [
         "0147ce5ecf4009c620202363126b7e25",
         "Окей",
         "51",
         "1",
         "2596.55",
         "1",
         "1",
         "2"
        ],
        [
         "0148b5f2784772e0b11f2a174a7dba36",
         "Гиперглобус",
         "11",
         "4",
         "7051.02",
         "3",
         "3",
         "3"
        ],
        [
         "014ac96afc6d6e1c4c5e7ad77b0de6aa",
         "Окей",
         "10",
         "1",
         "2968.28",
         "3",
         "1",
         "2"
        ]
       ],
       "shape": {
        "columns": 7,
        "rows": 11178
       }
      },
      "text/html": [
       "<div>\n",
       "<style scoped>\n",
       "    .dataframe tbody tr th:only-of-type {\n",
       "        vertical-align: middle;\n",
       "    }\n",
       "\n",
       "    .dataframe tbody tr th {\n",
       "        vertical-align: top;\n",
       "    }\n",
       "\n",
       "    .dataframe thead th {\n",
       "        text-align: right;\n",
       "    }\n",
       "</style>\n",
       "<table border=\"1\" class=\"dataframe\">\n",
       "  <thead>\n",
       "    <tr style=\"text-align: right;\">\n",
       "      <th></th>\n",
       "      <th>client_NT</th>\n",
       "      <th>Recency</th>\n",
       "      <th>Frequency</th>\n",
       "      <th>Monetary</th>\n",
       "      <th>R</th>\n",
       "      <th>F</th>\n",
       "      <th>M</th>\n",
       "    </tr>\n",
       "    <tr>\n",
       "      <th>customer_id</th>\n",
       "      <th></th>\n",
       "      <th></th>\n",
       "      <th></th>\n",
       "      <th></th>\n",
       "      <th></th>\n",
       "      <th></th>\n",
       "      <th></th>\n",
       "    </tr>\n",
       "  </thead>\n",
       "  <tbody>\n",
       "    <tr>\n",
       "      <th>000210750313104b1dcde90697a23cb1</th>\n",
       "      <td>Окей</td>\n",
       "      <td>53</td>\n",
       "      <td>1</td>\n",
       "      <td>1249.81</td>\n",
       "      <td>1</td>\n",
       "      <td>1</td>\n",
       "      <td>1</td>\n",
       "    </tr>\n",
       "    <tr>\n",
       "      <th>000c4642b320702ed33605722ec4bab3</th>\n",
       "      <td>Гиперглобус</td>\n",
       "      <td>25</td>\n",
       "      <td>1</td>\n",
       "      <td>4725.13</td>\n",
       "      <td>2</td>\n",
       "      <td>1</td>\n",
       "      <td>2</td>\n",
       "    </tr>\n",
       "    <tr>\n",
       "      <th>001d4e7abf6108c688d943ce99d7fc74</th>\n",
       "      <td>Гиперглобус</td>\n",
       "      <td>47</td>\n",
       "      <td>1</td>\n",
       "      <td>710.95</td>\n",
       "      <td>1</td>\n",
       "      <td>1</td>\n",
       "      <td>1</td>\n",
       "    </tr>\n",
       "    <tr>\n",
       "      <th>0023a42d6f0698d6fee2ad95121eecc3</th>\n",
       "      <td>Гиперглобус</td>\n",
       "      <td>10</td>\n",
       "      <td>2</td>\n",
       "      <td>499.64</td>\n",
       "      <td>3</td>\n",
       "      <td>2</td>\n",
       "      <td>1</td>\n",
       "    </tr>\n",
       "    <tr>\n",
       "      <th>0027021d451a8c17af41e950fe450f60</th>\n",
       "      <td>Окей</td>\n",
       "      <td>25</td>\n",
       "      <td>2</td>\n",
       "      <td>1266.14</td>\n",
       "      <td>2</td>\n",
       "      <td>2</td>\n",
       "      <td>1</td>\n",
       "    </tr>\n",
       "    <tr>\n",
       "      <th>...</th>\n",
       "      <td>...</td>\n",
       "      <td>...</td>\n",
       "      <td>...</td>\n",
       "      <td>...</td>\n",
       "      <td>...</td>\n",
       "      <td>...</td>\n",
       "      <td>...</td>\n",
       "    </tr>\n",
       "    <tr>\n",
       "      <th>ffdf60acbcda04db2e1d50b17432303e</th>\n",
       "      <td>Гиперглобус</td>\n",
       "      <td>57</td>\n",
       "      <td>4</td>\n",
       "      <td>6666.19</td>\n",
       "      <td>1</td>\n",
       "      <td>3</td>\n",
       "      <td>3</td>\n",
       "    </tr>\n",
       "    <tr>\n",
       "      <th>ffe6d0b5b97459e17d775c15258bd40e</th>\n",
       "      <td>Окей</td>\n",
       "      <td>4</td>\n",
       "      <td>1</td>\n",
       "      <td>1223.09</td>\n",
       "      <td>3</td>\n",
       "      <td>1</td>\n",
       "      <td>1</td>\n",
       "    </tr>\n",
       "    <tr>\n",
       "      <th>ffe6f731458ba86281ea71b474388cc8</th>\n",
       "      <td>Гиперглобус</td>\n",
       "      <td>22</td>\n",
       "      <td>1</td>\n",
       "      <td>5573.59</td>\n",
       "      <td>2</td>\n",
       "      <td>1</td>\n",
       "      <td>2</td>\n",
       "    </tr>\n",
       "    <tr>\n",
       "      <th>ffee3c7c8e93d542cb4af4b348a15fe5</th>\n",
       "      <td>Окей</td>\n",
       "      <td>54</td>\n",
       "      <td>1</td>\n",
       "      <td>1515.29</td>\n",
       "      <td>1</td>\n",
       "      <td>1</td>\n",
       "      <td>1</td>\n",
       "    </tr>\n",
       "    <tr>\n",
       "      <th>fff03395c0ba2cb78c05cf634c534ff2</th>\n",
       "      <td>Гиперглобус</td>\n",
       "      <td>15</td>\n",
       "      <td>1</td>\n",
       "      <td>1567.00</td>\n",
       "      <td>3</td>\n",
       "      <td>1</td>\n",
       "      <td>1</td>\n",
       "    </tr>\n",
       "  </tbody>\n",
       "</table>\n",
       "<p>11178 rows × 7 columns</p>\n",
       "</div>"
      ],
      "text/plain": [
       "                                    client_NT  Recency  Frequency  Monetary  \\\n",
       "customer_id                                                                   \n",
       "000210750313104b1dcde90697a23cb1         Окей       53          1   1249.81   \n",
       "000c4642b320702ed33605722ec4bab3  Гиперглобус       25          1   4725.13   \n",
       "001d4e7abf6108c688d943ce99d7fc74  Гиперглобус       47          1    710.95   \n",
       "0023a42d6f0698d6fee2ad95121eecc3  Гиперглобус       10          2    499.64   \n",
       "0027021d451a8c17af41e950fe450f60         Окей       25          2   1266.14   \n",
       "...                                       ...      ...        ...       ...   \n",
       "ffdf60acbcda04db2e1d50b17432303e  Гиперглобус       57          4   6666.19   \n",
       "ffe6d0b5b97459e17d775c15258bd40e         Окей        4          1   1223.09   \n",
       "ffe6f731458ba86281ea71b474388cc8  Гиперглобус       22          1   5573.59   \n",
       "ffee3c7c8e93d542cb4af4b348a15fe5         Окей       54          1   1515.29   \n",
       "fff03395c0ba2cb78c05cf634c534ff2  Гиперглобус       15          1   1567.00   \n",
       "\n",
       "                                  R  F  M  \n",
       "customer_id                                \n",
       "000210750313104b1dcde90697a23cb1  1  1  1  \n",
       "000c4642b320702ed33605722ec4bab3  2  1  2  \n",
       "001d4e7abf6108c688d943ce99d7fc74  1  1  1  \n",
       "0023a42d6f0698d6fee2ad95121eecc3  3  2  1  \n",
       "0027021d451a8c17af41e950fe450f60  2  2  1  \n",
       "...                              .. .. ..  \n",
       "ffdf60acbcda04db2e1d50b17432303e  1  3  3  \n",
       "ffe6d0b5b97459e17d775c15258bd40e  3  1  1  \n",
       "ffe6f731458ba86281ea71b474388cc8  2  1  2  \n",
       "ffee3c7c8e93d542cb4af4b348a15fe5  1  1  1  \n",
       "fff03395c0ba2cb78c05cf634c534ff2  3  1  1  \n",
       "\n",
       "[11178 rows x 7 columns]"
      ]
     },
     "execution_count": 74,
     "metadata": {},
     "output_type": "execute_result"
    }
   ],
   "source": [
    "rfm"
   ]
  },
  {
   "cell_type": "code",
   "execution_count": 75,
   "id": "711c1cb8",
   "metadata": {},
   "outputs": [
    {
     "data": {
      "application/vnd.microsoft.datawrangler.viewer.v0+json": {
       "columns": [
        {
         "name": "customer_id",
         "rawType": "object",
         "type": "string"
        },
        {
         "name": "client_NT",
         "rawType": "category",
         "type": "unknown"
        },
        {
         "name": "Recency",
         "rawType": "int64",
         "type": "integer"
        },
        {
         "name": "Frequency",
         "rawType": "int64",
         "type": "integer"
        },
        {
         "name": "Monetary",
         "rawType": "float32",
         "type": "float"
        },
        {
         "name": "R",
         "rawType": "int64",
         "type": "integer"
        },
        {
         "name": "F",
         "rawType": "int64",
         "type": "integer"
        },
        {
         "name": "M",
         "rawType": "int64",
         "type": "integer"
        },
        {
         "name": "RFM_Score",
         "rawType": "object",
         "type": "string"
        }
       ],
       "conversionMethod": "pd.DataFrame",
       "ref": "627ae283-e7f1-4169-9039-3c4cc3f8f991",
       "rows": [
        [
         "000210750313104b1dcde90697a23cb1",
         "Окей",
         "53",
         "1",
         "1249.81",
         "1",
         "1",
         "1",
         "111"
        ],
        [
         "000c4642b320702ed33605722ec4bab3",
         "Гиперглобус",
         "25",
         "1",
         "4725.13",
         "2",
         "1",
         "2",
         "212"
        ],
        [
         "001d4e7abf6108c688d943ce99d7fc74",
         "Гиперглобус",
         "47",
         "1",
         "710.95",
         "1",
         "1",
         "1",
         "111"
        ],
        [
         "0023a42d6f0698d6fee2ad95121eecc3",
         "Гиперглобус",
         "10",
         "2",
         "499.64",
         "3",
         "2",
         "1",
         "321"
        ],
        [
         "0027021d451a8c17af41e950fe450f60",
         "Окей",
         "25",
         "2",
         "1266.14",
         "2",
         "2",
         "1",
         "221"
        ],
        [
         "0028c9745a4d5877b3fb4db5f5860032",
         "Гиперглобус",
         "29",
         "3",
         "16320.11",
         "2",
         "3",
         "3",
         "233"
        ],
        [
         "002d4b9b6564bc90b206a32edcaf6593",
         "Окей",
         "13",
         "1",
         "2096.43",
         "3",
         "1",
         "1",
         "311"
        ],
        [
         "00393002fdebd30b1f9e34f293175ac5",
         "Окей",
         "18",
         "1",
         "5610.14",
         "2",
         "1",
         "2",
         "212"
        ],
        [
         "003c2edd564c470bb059c04b06b25569",
         "Гиперглобус",
         "27",
         "4",
         "9412.439",
         "2",
         "3",
         "3",
         "233"
        ],
        [
         "004cecac438ea344ebf33e1dd0c3560d",
         "Окей",
         "39",
         "1",
         "752.92",
         "1",
         "1",
         "1",
         "111"
        ],
        [
         "0051a693435345cc7f82df425298f50f",
         "Гиперглобус",
         "60",
         "1",
         "11331.14",
         "1",
         "1",
         "3",
         "113"
        ],
        [
         "005a35874af98c191e02cda4fd44c3f0",
         "Гиперглобус",
         "23",
         "2",
         "1757.04",
         "2",
         "2",
         "1",
         "221"
        ],
        [
         "006136d4ca588ebf887e09bf04ffd63a",
         "Окей",
         "55",
         "1",
         "85.14",
         "1",
         "1",
         "1",
         "111"
        ],
        [
         "0064633c7bce6be484e1a0699f70e35e",
         "Окей",
         "46",
         "1",
         "1262.19",
         "1",
         "1",
         "1",
         "111"
        ],
        [
         "0067f36c81889992a557971fb5878c39",
         "Гиперглобус",
         "47",
         "1",
         "9514.85",
         "1",
         "1",
         "3",
         "113"
        ],
        [
         "007c9a0b7799a8432cb2c5e6c1cfb6d1",
         "Окей",
         "5",
         "4",
         "19020.99",
         "3",
         "3",
         "3",
         "333"
        ],
        [
         "007ce484581a19a4279ceb02721209a1",
         "Окей",
         "33",
         "2",
         "10000.52",
         "2",
         "2",
         "3",
         "223"
        ],
        [
         "00847de6e0152e1fe53baa91e8b1cc23",
         "Гиперглобус",
         "1",
         "8",
         "39135.02",
         "3",
         "3",
         "3",
         "333"
        ],
        [
         "00884aa0b39ab52290a8aacf9682eb70",
         "Гиперглобус",
         "7",
         "3",
         "7265.0",
         "3",
         "3",
         "3",
         "333"
        ],
        [
         "00893264552e196b62876280b45bba10",
         "Гиперглобус",
         "7",
         "12",
         "11702.5",
         "3",
         "3",
         "3",
         "333"
        ],
        [
         "008df66174b80e0414fa9d791c6d5d1c",
         "Окей",
         "42",
         "2",
         "11247.359",
         "1",
         "2",
         "3",
         "123"
        ],
        [
         "00973307dae46ca0d6bb4d7d6d340b3a",
         "Гиперглобус",
         "4",
         "4",
         "10133.199",
         "3",
         "3",
         "3",
         "333"
        ],
        [
         "0097e127bf3fa92fa545d314500a5a26",
         "Окей",
         "35",
         "2",
         "13121.1",
         "2",
         "2",
         "3",
         "223"
        ],
        [
         "009dd64bff526782d571c27923605846",
         "Окей",
         "13",
         "2",
         "2788.79",
         "3",
         "2",
         "2",
         "322"
        ],
        [
         "00a2574171fbfc995b5d897720d48f24",
         "Окей",
         "34",
         "2",
         "21624.84",
         "2",
         "2",
         "3",
         "223"
        ],
        [
         "00aa2c3484e42a95a55007e240114dae",
         "Окей",
         "6",
         "1",
         "1678.33",
         "3",
         "1",
         "1",
         "311"
        ],
        [
         "00abebadea2eb62e616441656d490626",
         "Гиперглобус",
         "2",
         "4",
         "29187.93",
         "3",
         "3",
         "3",
         "333"
        ],
        [
         "00bce31405e0ab9852b764934be4dbb5",
         "Гиперглобус",
         "41",
         "1",
         "2605.21",
         "1",
         "1",
         "2",
         "112"
        ],
        [
         "00c97baef3e42d4e54250bd07d6e3e78",
         "Гиперглобус",
         "1",
         "2",
         "5631.0",
         "3",
         "2",
         "2",
         "322"
        ],
        [
         "00c9bc518e8664c0241f1d47e58cb2a5",
         "Гиперглобус",
         "51",
         "1",
         "3419.11",
         "1",
         "1",
         "2",
         "112"
        ],
        [
         "00cbfff36190d7953a728b51a450555f",
         "Гиперглобус",
         "51",
         "2",
         "751.5",
         "1",
         "2",
         "1",
         "121"
        ],
        [
         "00cffc4039c8517369d5a3d9929bb6dc",
         "Гиперглобус",
         "5",
         "1",
         "2027.68",
         "3",
         "1",
         "1",
         "311"
        ],
        [
         "00da00120647e78d238981c6b44a9f9c",
         "Гиперглобус",
         "47",
         "1",
         "10937.11",
         "1",
         "1",
         "3",
         "113"
        ],
        [
         "00ef99f716ec142b8da3004bba2866ec",
         "Гиперглобус",
         "6",
         "7",
         "22279.07",
         "3",
         "3",
         "3",
         "333"
        ],
        [
         "00f0c5f4a53af9bd62e6c6a5af54cc9e",
         "Окей",
         "40",
         "1",
         "556.89",
         "1",
         "1",
         "1",
         "111"
        ],
        [
         "00fef6ae1ee4b72663035ddaf95e174c",
         "Окей",
         "47",
         "2",
         "4679.66",
         "1",
         "2",
         "2",
         "122"
        ],
        [
         "010299f9f2d5e51072ad1cf33549ade4",
         "Окей",
         "27",
         "2",
         "5236.76",
         "2",
         "2",
         "2",
         "222"
        ],
        [
         "0108b02f21374bee26d487d5bcf43676",
         "Гиперглобус",
         "27",
         "1",
         "10111.02",
         "2",
         "1",
         "3",
         "213"
        ],
        [
         "010b07f33d8c40976490e4a8ae7cbcc5",
         "Окей",
         "40",
         "1",
         "52.5",
         "1",
         "1",
         "1",
         "111"
        ],
        [
         "0110de8e9a008bdda38a5a13769d9fbb",
         "Гиперглобус",
         "50",
         "1",
         "3296.41",
         "1",
         "1",
         "2",
         "112"
        ],
        [
         "0120f2dc73dff221aa85c9bf71089f80",
         "Окей",
         "53",
         "1",
         "851.75",
         "1",
         "1",
         "1",
         "111"
        ],
        [
         "0121fbe6e7bd9e42a5b134ff00c230f5",
         "Окей",
         "14",
         "1",
         "2170.39",
         "3",
         "1",
         "1",
         "311"
        ],
        [
         "01298ca300cedb88c7120cdc0a6fea5f",
         "Окей",
         "33",
         "1",
         "1452.77",
         "2",
         "1",
         "1",
         "211"
        ],
        [
         "0129df39106b7174a05acb9e07d18d27",
         "Гиперглобус",
         "11",
         "1",
         "902.91",
         "3",
         "1",
         "1",
         "311"
        ],
        [
         "012e15cfbe9ae842fdd0240af4ed9445",
         "Гиперглобус",
         "2",
         "1",
         "316.0",
         "3",
         "1",
         "1",
         "311"
        ],
        [
         "012fa7ababa9e40cf4f58758c3ee53a1",
         "Окей",
         "55",
         "1",
         "2593.97",
         "1",
         "1",
         "2",
         "112"
        ],
        [
         "013a22eea4fd63ddd4848b70db195eaa",
         "Окей",
         "3",
         "3",
         "33320.22",
         "3",
         "3",
         "3",
         "333"
        ],
        [
         "0147ce5ecf4009c620202363126b7e25",
         "Окей",
         "51",
         "1",
         "2596.55",
         "1",
         "1",
         "2",
         "112"
        ],
        [
         "0148b5f2784772e0b11f2a174a7dba36",
         "Гиперглобус",
         "11",
         "4",
         "7051.02",
         "3",
         "3",
         "3",
         "333"
        ],
        [
         "014ac96afc6d6e1c4c5e7ad77b0de6aa",
         "Окей",
         "10",
         "1",
         "2968.28",
         "3",
         "1",
         "2",
         "312"
        ]
       ],
       "shape": {
        "columns": 8,
        "rows": 11178
       }
      },
      "text/html": [
       "<div>\n",
       "<style scoped>\n",
       "    .dataframe tbody tr th:only-of-type {\n",
       "        vertical-align: middle;\n",
       "    }\n",
       "\n",
       "    .dataframe tbody tr th {\n",
       "        vertical-align: top;\n",
       "    }\n",
       "\n",
       "    .dataframe thead th {\n",
       "        text-align: right;\n",
       "    }\n",
       "</style>\n",
       "<table border=\"1\" class=\"dataframe\">\n",
       "  <thead>\n",
       "    <tr style=\"text-align: right;\">\n",
       "      <th></th>\n",
       "      <th>client_NT</th>\n",
       "      <th>Recency</th>\n",
       "      <th>Frequency</th>\n",
       "      <th>Monetary</th>\n",
       "      <th>R</th>\n",
       "      <th>F</th>\n",
       "      <th>M</th>\n",
       "      <th>RFM_Score</th>\n",
       "    </tr>\n",
       "    <tr>\n",
       "      <th>customer_id</th>\n",
       "      <th></th>\n",
       "      <th></th>\n",
       "      <th></th>\n",
       "      <th></th>\n",
       "      <th></th>\n",
       "      <th></th>\n",
       "      <th></th>\n",
       "      <th></th>\n",
       "    </tr>\n",
       "  </thead>\n",
       "  <tbody>\n",
       "    <tr>\n",
       "      <th>000210750313104b1dcde90697a23cb1</th>\n",
       "      <td>Окей</td>\n",
       "      <td>53</td>\n",
       "      <td>1</td>\n",
       "      <td>1249.81</td>\n",
       "      <td>1</td>\n",
       "      <td>1</td>\n",
       "      <td>1</td>\n",
       "      <td>111</td>\n",
       "    </tr>\n",
       "    <tr>\n",
       "      <th>000c4642b320702ed33605722ec4bab3</th>\n",
       "      <td>Гиперглобус</td>\n",
       "      <td>25</td>\n",
       "      <td>1</td>\n",
       "      <td>4725.13</td>\n",
       "      <td>2</td>\n",
       "      <td>1</td>\n",
       "      <td>2</td>\n",
       "      <td>212</td>\n",
       "    </tr>\n",
       "    <tr>\n",
       "      <th>001d4e7abf6108c688d943ce99d7fc74</th>\n",
       "      <td>Гиперглобус</td>\n",
       "      <td>47</td>\n",
       "      <td>1</td>\n",
       "      <td>710.95</td>\n",
       "      <td>1</td>\n",
       "      <td>1</td>\n",
       "      <td>1</td>\n",
       "      <td>111</td>\n",
       "    </tr>\n",
       "    <tr>\n",
       "      <th>0023a42d6f0698d6fee2ad95121eecc3</th>\n",
       "      <td>Гиперглобус</td>\n",
       "      <td>10</td>\n",
       "      <td>2</td>\n",
       "      <td>499.64</td>\n",
       "      <td>3</td>\n",
       "      <td>2</td>\n",
       "      <td>1</td>\n",
       "      <td>321</td>\n",
       "    </tr>\n",
       "    <tr>\n",
       "      <th>0027021d451a8c17af41e950fe450f60</th>\n",
       "      <td>Окей</td>\n",
       "      <td>25</td>\n",
       "      <td>2</td>\n",
       "      <td>1266.14</td>\n",
       "      <td>2</td>\n",
       "      <td>2</td>\n",
       "      <td>1</td>\n",
       "      <td>221</td>\n",
       "    </tr>\n",
       "    <tr>\n",
       "      <th>...</th>\n",
       "      <td>...</td>\n",
       "      <td>...</td>\n",
       "      <td>...</td>\n",
       "      <td>...</td>\n",
       "      <td>...</td>\n",
       "      <td>...</td>\n",
       "      <td>...</td>\n",
       "      <td>...</td>\n",
       "    </tr>\n",
       "    <tr>\n",
       "      <th>ffdf60acbcda04db2e1d50b17432303e</th>\n",
       "      <td>Гиперглобус</td>\n",
       "      <td>57</td>\n",
       "      <td>4</td>\n",
       "      <td>6666.19</td>\n",
       "      <td>1</td>\n",
       "      <td>3</td>\n",
       "      <td>3</td>\n",
       "      <td>133</td>\n",
       "    </tr>\n",
       "    <tr>\n",
       "      <th>ffe6d0b5b97459e17d775c15258bd40e</th>\n",
       "      <td>Окей</td>\n",
       "      <td>4</td>\n",
       "      <td>1</td>\n",
       "      <td>1223.09</td>\n",
       "      <td>3</td>\n",
       "      <td>1</td>\n",
       "      <td>1</td>\n",
       "      <td>311</td>\n",
       "    </tr>\n",
       "    <tr>\n",
       "      <th>ffe6f731458ba86281ea71b474388cc8</th>\n",
       "      <td>Гиперглобус</td>\n",
       "      <td>22</td>\n",
       "      <td>1</td>\n",
       "      <td>5573.59</td>\n",
       "      <td>2</td>\n",
       "      <td>1</td>\n",
       "      <td>2</td>\n",
       "      <td>212</td>\n",
       "    </tr>\n",
       "    <tr>\n",
       "      <th>ffee3c7c8e93d542cb4af4b348a15fe5</th>\n",
       "      <td>Окей</td>\n",
       "      <td>54</td>\n",
       "      <td>1</td>\n",
       "      <td>1515.29</td>\n",
       "      <td>1</td>\n",
       "      <td>1</td>\n",
       "      <td>1</td>\n",
       "      <td>111</td>\n",
       "    </tr>\n",
       "    <tr>\n",
       "      <th>fff03395c0ba2cb78c05cf634c534ff2</th>\n",
       "      <td>Гиперглобус</td>\n",
       "      <td>15</td>\n",
       "      <td>1</td>\n",
       "      <td>1567.00</td>\n",
       "      <td>3</td>\n",
       "      <td>1</td>\n",
       "      <td>1</td>\n",
       "      <td>311</td>\n",
       "    </tr>\n",
       "  </tbody>\n",
       "</table>\n",
       "<p>11178 rows × 8 columns</p>\n",
       "</div>"
      ],
      "text/plain": [
       "                                    client_NT  Recency  Frequency  Monetary  \\\n",
       "customer_id                                                                   \n",
       "000210750313104b1dcde90697a23cb1         Окей       53          1   1249.81   \n",
       "000c4642b320702ed33605722ec4bab3  Гиперглобус       25          1   4725.13   \n",
       "001d4e7abf6108c688d943ce99d7fc74  Гиперглобус       47          1    710.95   \n",
       "0023a42d6f0698d6fee2ad95121eecc3  Гиперглобус       10          2    499.64   \n",
       "0027021d451a8c17af41e950fe450f60         Окей       25          2   1266.14   \n",
       "...                                       ...      ...        ...       ...   \n",
       "ffdf60acbcda04db2e1d50b17432303e  Гиперглобус       57          4   6666.19   \n",
       "ffe6d0b5b97459e17d775c15258bd40e         Окей        4          1   1223.09   \n",
       "ffe6f731458ba86281ea71b474388cc8  Гиперглобус       22          1   5573.59   \n",
       "ffee3c7c8e93d542cb4af4b348a15fe5         Окей       54          1   1515.29   \n",
       "fff03395c0ba2cb78c05cf634c534ff2  Гиперглобус       15          1   1567.00   \n",
       "\n",
       "                                  R  F  M RFM_Score  \n",
       "customer_id                                          \n",
       "000210750313104b1dcde90697a23cb1  1  1  1       111  \n",
       "000c4642b320702ed33605722ec4bab3  2  1  2       212  \n",
       "001d4e7abf6108c688d943ce99d7fc74  1  1  1       111  \n",
       "0023a42d6f0698d6fee2ad95121eecc3  3  2  1       321  \n",
       "0027021d451a8c17af41e950fe450f60  2  2  1       221  \n",
       "...                              .. .. ..       ...  \n",
       "ffdf60acbcda04db2e1d50b17432303e  1  3  3       133  \n",
       "ffe6d0b5b97459e17d775c15258bd40e  3  1  1       311  \n",
       "ffe6f731458ba86281ea71b474388cc8  2  1  2       212  \n",
       "ffee3c7c8e93d542cb4af4b348a15fe5  1  1  1       111  \n",
       "fff03395c0ba2cb78c05cf634c534ff2  3  1  1       311  \n",
       "\n",
       "[11178 rows x 8 columns]"
      ]
     },
     "execution_count": 75,
     "metadata": {},
     "output_type": "execute_result"
    }
   ],
   "source": [
    "# Комбинированный RFM-скоринг\n",
    "rfm['RFM_Score'] = rfm['R'].astype(str) + rfm['F'].astype(str) + rfm['M'].astype(str)\n",
    "rfm"
   ]
  },
  {
   "cell_type": "markdown",
   "id": "305ca935",
   "metadata": {},
   "source": [
    "Сохраним результаты в csv-файлы"
   ]
  },
  {
   "cell_type": "code",
   "execution_count": 80,
   "id": "bf1a893d",
   "metadata": {},
   "outputs": [],
   "source": [
    "for trade in trades:\n",
    "    rfm[rfm['client_NT'] == trade].to_csv(f'RFM {trade}.csv', index=True)"
   ]
  },
  {
   "cell_type": "markdown",
   "id": "81188df9",
   "metadata": {},
   "source": [
    "Выводы:\n",
    "\n",
    "- Применённые функции для проведения ABC, XYZ и RFM анализов можно, при необходимости, использовать для каждого отдельного магазина, сформировав отфильтрованный датафрейм.\n",
    "- ABC-анализ говорит, что товары категории:\n",
    "    - A - самые важные. Это 20% товаров, которые приносят 80% выручки. Они всегда должны быть на складе. Дефицит этих товаров приводит к проседанию по выручке\n",
    "    - B - требуют контроля, так как это товары-кандидаты в категорию A. Они не приносят много выручки, но лучше, чтобы они были в наличии.\n",
    "    - C - товары, которые не приносят значимой выручки, их можно реже закупать и не хранить на складах. Некоторые из них можно даже исключить из ассортимента.\n",
    "- XYZ-анализ говорит, что товары категории:\n",
    "    - X - товары со стабильным спросом, они всегда должны быть в наличии.\n",
    "    - Y - товары со средним спросом, возможно, сезонные. Закупать в большом количестве смысла нет.\n",
    "    - Z - товары с редким спросом. Необходимо проанализировать поставки, если с поставками проблем не было (то есть товара было достаточно), то от таких товаров можно либо отказаться, либо поставлять по предзаказу.\n",
    "- RFM-анализ говорит, что покупатели категории:\n",
    "    - R - сколько дней прошло с последней покупки клиента: 1 - давно, 3 - недавно\n",
    "    - F - как клиент часто покупает: 1 - редко, 3 - часто\n",
    "    - M - сколько прибыли приносит клиент: 1 - мало, 3 много\n",
    "    Другими словами, следует присмотреться к клиентам 133 и 233, чтобы замотивировать их чаще ходить за покупками. Например, сделать персональные предложения.\n",
    "    \n",
    "    Клиентов 313 и 323 также можно замотивировать ходить чаще. Например, использовать рассылку уведомлений о временных акциях на товары.\n",
    "    \n",
    "    Кроме того, можно обратить внимание на клиентов 222, чтобы вывести их хотя бы в одну из групп 322, 232 или 223. Подойдут и персональные предложения, и уведомления об акциях."
   ]
  }
 ],
 "metadata": {
  "kernelspec": {
   "display_name": ".venv",
   "language": "python",
   "name": "python3"
  },
  "language_info": {
   "codemirror_mode": {
    "name": "ipython",
    "version": 3
   },
   "file_extension": ".py",
   "mimetype": "text/x-python",
   "name": "python",
   "nbconvert_exporter": "python",
   "pygments_lexer": "ipython3",
   "version": "3.13.1"
  }
 },
 "nbformat": 4,
 "nbformat_minor": 5
}

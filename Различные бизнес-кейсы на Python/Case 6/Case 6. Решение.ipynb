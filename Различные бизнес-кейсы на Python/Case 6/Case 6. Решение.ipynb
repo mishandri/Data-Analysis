{
  "cells": [
    {
      "cell_type": "markdown",
      "metadata": {
        "id": "XUqCUBW5fUST"
      },
      "source": [
        "## **1 кейс**\n",
        "\n",
        "**Система автопроверки**"
      ]
    },
    {
      "cell_type": "markdown",
      "metadata": {
        "id": "OcK9kF9mfZIt"
      },
      "source": [
        "**Важно**\n",
        "\n",
        "Перед началом решения выполните следующую ячейку, чтобы загрузить два файла - эталонный код и код пользователя."
      ]
    },
    {
      "cell_type": "code",
      "execution_count": 19,
      "metadata": {
        "colab": {
          "base_uri": "https://localhost:8080/"
        },
        "id": "KtNBw8nOfPsB",
        "outputId": "3dcc742c-bc28-46b2-f1a2-3fd458b9dabf"
      },
      "outputs": [
        {
          "name": "stdout",
          "output_type": "stream",
          "text": [
            "--2025-03-26 06:28:33--  https://gist.github.com/Vs8th/aafed81d81678c807a3ad3dbf93588b2/raw/user.py\n",
            "Resolving gist.github.com (gist.github.com)... 140.82.121.3\n",
            "Connecting to gist.github.com (gist.github.com)|140.82.121.3|:443... connected.\n",
            "HTTP request sent, awaiting response... 301 Moved Permanently\n",
            "Location: https://gist.githubusercontent.com/Vs8th/aafed81d81678c807a3ad3dbf93588b2/raw/user.py [following]\n",
            "--2025-03-26 06:28:33--  https://gist.githubusercontent.com/Vs8th/aafed81d81678c807a3ad3dbf93588b2/raw/user.py\n",
            "Resolving gist.githubusercontent.com (gist.githubusercontent.com)... 185.199.108.133, 185.199.109.133, 185.199.110.133, ...\n",
            "Connecting to gist.githubusercontent.com (gist.githubusercontent.com)|185.199.108.133|:443... connected.\n",
            "HTTP request sent, awaiting response... 200 OK\n",
            "Length: 106 [text/plain]\n",
            "Saving to: ‘user.py’\n",
            "\n",
            "user.py             100%[===================>]     106  --.-KB/s    in 0s      \n",
            "\n",
            "Last-modified header missing -- time-stamps turned off.\n",
            "2025-03-26 06:28:33 (3.05 MB/s) - ‘user.py’ saved [106/106]\n",
            "\n",
            "--2025-03-26 06:28:33--  https://gist.github.com/Vs8th/95f7897019a4213c76e5b65234d31e30/raw/etalon.py\n",
            "Resolving gist.github.com (gist.github.com)... 140.82.121.3\n",
            "Connecting to gist.github.com (gist.github.com)|140.82.121.3|:443... connected.\n",
            "HTTP request sent, awaiting response... 301 Moved Permanently\n",
            "Location: https://gist.githubusercontent.com/Vs8th/95f7897019a4213c76e5b65234d31e30/raw/etalon.py [following]\n",
            "--2025-03-26 06:28:33--  https://gist.githubusercontent.com/Vs8th/95f7897019a4213c76e5b65234d31e30/raw/etalon.py\n",
            "Resolving gist.githubusercontent.com (gist.githubusercontent.com)... 185.199.108.133, 185.199.109.133, 185.199.110.133, ...\n",
            "Connecting to gist.githubusercontent.com (gist.githubusercontent.com)|185.199.108.133|:443... connected.\n",
            "HTTP request sent, awaiting response... 200 OK\n",
            "Length: 31 [text/plain]\n",
            "Saving to: ‘etalon.py’\n",
            "\n",
            "etalon.py           100%[===================>]      31  --.-KB/s    in 0s      \n",
            "\n",
            "Last-modified header missing -- time-stamps turned off.\n",
            "2025-03-26 06:28:33 (615 KB/s) - ‘etalon.py’ saved [31/31]\n",
            "\n",
            "--2025-03-26 06:28:33--  https://gist.github.com/Vs8th/59f797dfbd33f9a4be1e5ed43bb42f4d/raw/res_cor.txt\n",
            "Resolving gist.github.com (gist.github.com)... 140.82.121.3\n",
            "Connecting to gist.github.com (gist.github.com)|140.82.121.3|:443... connected.\n",
            "HTTP request sent, awaiting response... 301 Moved Permanently\n",
            "Location: https://gist.githubusercontent.com/Vs8th/59f797dfbd33f9a4be1e5ed43bb42f4d/raw/res_cor.txt [following]\n",
            "--2025-03-26 06:28:33--  https://gist.githubusercontent.com/Vs8th/59f797dfbd33f9a4be1e5ed43bb42f4d/raw/res_cor.txt\n",
            "Resolving gist.githubusercontent.com (gist.githubusercontent.com)... 185.199.108.133, 185.199.109.133, 185.199.110.133, ...\n",
            "Connecting to gist.githubusercontent.com (gist.githubusercontent.com)|185.199.108.133|:443... connected.\n",
            "HTTP request sent, awaiting response... 200 OK\n",
            "Length: 355 [text/plain]\n",
            "Saving to: ‘res_cor.txt’\n",
            "\n",
            "res_cor.txt         100%[===================>]     355  --.-KB/s    in 0s      \n",
            "\n",
            "Last-modified header missing -- time-stamps turned off.\n",
            "2025-03-26 06:28:34 (12.2 MB/s) - ‘res_cor.txt’ saved [355/355]\n",
            "\n"
          ]
        }
      ],
      "source": [
        "!wget -N https://gist.github.com/Vs8th/aafed81d81678c807a3ad3dbf93588b2/raw/user.py\n",
        "\n",
        "!wget -N https://gist.github.com/Vs8th/95f7897019a4213c76e5b65234d31e30/raw/etalon.py\n",
        "\n",
        "!wget -N https://gist.github.com/Vs8th/59f797dfbd33f9a4be1e5ed43bb42f4d/raw/res_cor.txt"
      ]
    },
    {
      "cell_type": "markdown",
      "metadata": {
        "id": "JIwIK2E5fcyA"
      },
      "source": [
        "Давайте сразу посмотрим с каким кодом мы имеем дело."
      ]
    },
    {
      "cell_type": "code",
      "execution_count": null,
      "metadata": {
        "colab": {
          "base_uri": "https://localhost:8080/"
        },
        "id": "6f84pObFfbGE",
        "outputId": "2dc0bb60-967d-468f-b089-e9a05d706118"
      },
      "outputs": [
        {
          "data": {
            "text/plain": [
              "['def add(a, b):\\n', '    return a + b']"
            ]
          },
          "execution_count": 2,
          "metadata": {},
          "output_type": "execute_result"
        }
      ],
      "source": [
        "with open('etalon.py', 'r') as f:\n",
        "    lines = f.readlines()\n",
        "\n",
        "lines"
      ]
    },
    {
      "cell_type": "code",
      "execution_count": null,
      "metadata": {
        "colab": {
          "base_uri": "https://localhost:8080/"
        },
        "id": "zmNFemr6OkB7",
        "outputId": "a056c458-c0ef-470f-f576-641664ca8d0c"
      },
      "outputs": [
        {
          "data": {
            "text/plain": [
              "['def add_numbers(a, b):\\n',\n",
              " '    return a - b  # Ошибка: нужно сложить, а не вычесть']"
            ]
          },
          "execution_count": 3,
          "metadata": {},
          "output_type": "execute_result"
        }
      ],
      "source": [
        "with open('user.py', 'r') as f:\n",
        "    lines2 = f.readlines()\n",
        "\n",
        "lines2"
      ]
    },
    {
      "cell_type": "markdown",
      "metadata": {
        "id": "CxmnD3GvffQ4"
      },
      "source": [
        "### **Решения**"
      ]
    },
    {
      "cell_type": "markdown",
      "metadata": {
        "id": "5bdLXu2ksLB7"
      },
      "source": [
        "#### **Задача 1**\n",
        "\n",
        "Задача не из легких, поэтому начнем по шагам. Для начала напишите функцию `run_tests`, которая прочтет эталонный код и код пользователя из `.py` файлов, выполнит их и сохранит результаты в файл `output.txt`."
      ]
    },
    {
      "cell_type": "markdown",
      "metadata": {
        "id": "qUL4LtIUnJge"
      },
      "source": [
        "**Решение**\n",
        "\n",
        "Напишите свое решение ниже"
      ]
    },
    {
      "cell_type": "code",
      "execution_count": 20,
      "metadata": {
        "id": "ymmsa-OaYfKH"
      },
      "outputs": [],
      "source": [
        "import importlib\n",
        "\n",
        "def run_tests(standard_code, user_code, test_cases, output_file):\n",
        "  with open(output_file, 'w') as of:\n",
        "    for a, b in test_cases:\n",
        "      correct_result = standard_code.add(a, b)\n",
        "      try:\n",
        "        user_result = user_code.add_numbers(a, b)\n",
        "        if user_result != correct_result:\n",
        "          of.write(f'Тест не пройден\\nОжидаемый результат: {correct_result}\\nРезультат пользователя: {user_result}\\n')\n",
        "        else:\n",
        "          of.write(f'Тест пройден\\n')\n",
        "      except AttributeError as err:\n",
        "        of.write(f'Ошибка при выполнении кода пользователя: {err}')\n",
        "        break\n",
        "\n",
        "# Чтение кодов из файлов\n",
        "standard_module = importlib.import_module('etalon')\n",
        "user_module = importlib.import_module('user')\n",
        "\n",
        "test_cases = [(1, 2), (3, 4), (5, 6)]\n",
        "output_file = 'output.txt'\n",
        "run_tests(standard_module, user_module, test_cases, output_file)\n"
      ]
    },
    {
      "cell_type": "markdown",
      "metadata": {
        "id": "54Tvpn9OkDwV"
      },
      "source": [
        "✏️ ✏️ ✏️\n",
        "\n",
        "**Проверка**\n",
        "\n",
        "Чтобы проверить свое решение, запустите код в следующих ячейках"
      ]
    },
    {
      "cell_type": "code",
      "execution_count": 21,
      "metadata": {
        "colab": {
          "base_uri": "https://localhost:8080/"
        },
        "id": "LkqzVw9skKEC",
        "outputId": "abb2800c-1a4f-4f66-fb30-d12dd146efbc"
      },
      "outputs": [
        {
          "name": "stdout",
          "output_type": "stream",
          "text": [
            "Поздравляем, Вы справились!\n"
          ]
        }
      ],
      "source": [
        "with open('output.txt', 'r') as file1:\n",
        "    res1 = file1.read()\n",
        "\n",
        "with open('res_cor.txt', 'r') as file2:\n",
        "    res2 = file2.read()\n",
        "\n",
        "try:\n",
        "    assert res1 == res2\n",
        "except AssertionError:\n",
        "    print('Ответы не совпадают')\n",
        "else:\n",
        "    print('Поздравляем, Вы справились!')"
      ]
    },
    {
      "cell_type": "markdown",
      "metadata": {
        "id": "QLNMvvhXoIdV"
      },
      "source": [
        "#### **Задача 2**\n",
        "\n",
        "Теперь давайте двигаться дальше. Нужно добавить проверку на вредоносный код. Напишите отдельную функцию - `check_for_malicious_code`, которую мы будем вызывать перед проверкой кода."
      ]
    },
    {
      "cell_type": "markdown",
      "metadata": {
        "id": "YZ9QLF2YAhUG"
      },
      "source": [
        "Перед написанием кода, выполните следующую ячейку, в ней скачивается новый код пользователя, который проверит работу функции `check_for_malicious_code`."
      ]
    },
    {
      "cell_type": "code",
      "execution_count": null,
      "metadata": {
        "colab": {
          "base_uri": "https://localhost:8080/"
        },
        "id": "KTn16q3wcTTc",
        "outputId": "054a11e6-cfe9-4510-a53b-933b612fc758"
      },
      "outputs": [
        {
          "name": "stdout",
          "output_type": "stream",
          "text": [
            "--2025-03-26 06:08:30--  https://gist.github.com/Vs8th/9f6a2c73c755cfcc088c7835ec4fb2c0/raw/user_malicious.py\n",
            "Resolving gist.github.com (gist.github.com)... 140.82.121.4\n",
            "Connecting to gist.github.com (gist.github.com)|140.82.121.4|:443... connected.\n",
            "HTTP request sent, awaiting response... 301 Moved Permanently\n",
            "Location: https://gist.githubusercontent.com/Vs8th/9f6a2c73c755cfcc088c7835ec4fb2c0/raw/user_malicious.py [following]\n",
            "--2025-03-26 06:08:30--  https://gist.githubusercontent.com/Vs8th/9f6a2c73c755cfcc088c7835ec4fb2c0/raw/user_malicious.py\n",
            "Resolving gist.githubusercontent.com (gist.githubusercontent.com)... 185.199.108.133, 185.199.109.133, 185.199.110.133, ...\n",
            "Connecting to gist.githubusercontent.com (gist.githubusercontent.com)|185.199.108.133|:443... connected.\n",
            "HTTP request sent, awaiting response... 200 OK\n",
            "Length: 117 [text/plain]\n",
            "Saving to: ‘user_malicious.py’\n",
            "\n",
            "user_malicious.py   100%[===================>]     117  --.-KB/s    in 0s      \n",
            "\n",
            "Last-modified header missing -- time-stamps turned off.\n",
            "2025-03-26 06:08:30 (4.66 MB/s) - ‘user_malicious.py’ saved [117/117]\n",
            "\n"
          ]
        }
      ],
      "source": [
        "!wget -N https://gist.github.com/Vs8th/9f6a2c73c755cfcc088c7835ec4fb2c0/raw/user_malicious.py"
      ]
    },
    {
      "cell_type": "markdown",
      "metadata": {
        "id": "LThhpSINoMHN"
      },
      "source": [
        "**Решение**\n",
        "\n",
        "Напишите свое решение ниже"
      ]
    },
    {
      "cell_type": "code",
      "execution_count": 93,
      "metadata": {
        "id": "9s8JBMlboJuf"
      },
      "outputs": [],
      "source": [
        "import importlib, ast, inspect\n",
        "\n",
        "FORBIDDEN_NAMES = ['eval', 'exec']\n",
        "\n",
        "def check_for_malicious_code(code, output_file):\n",
        "  with open(output_file, 'w') as of:\n",
        "    tree = ast.parse(code)\n",
        "    try:\n",
        "      for node in ast.walk(tree):\n",
        "        # Проверка вызовов запрещенных функций\n",
        "        if isinstance(node, ast.Call):\n",
        "          # Проверяем, вызывается ли именно eval\n",
        "          if isinstance(node.func, ast.Name) and node.func.id in FORBIDDEN_NAMES:\n",
        "            raise ValueError(f'Код содержит вызов {node.func.id}()')\n",
        "\n",
        "        # Проверка запрещенных атрибутов\n",
        "        if isinstance(node, ast.Attribute) and node.attr in FORBIDDEN_NAMES:\n",
        "          raise ValueError(f'Код содержит запрещенный атрибут: {node.attr}')\n",
        "\n",
        "\n",
        "    except ValueError as err:\n",
        "      return err.args[0]\n",
        "\n",
        "    except SyntaxError as e:\n",
        "        of.write(f\"Код содержит синтаксическую ошибку: {type(e).__name__}\\n\")\n",
        "        return f\"Код содержит синтаксическую ошибку: {type(e).__name__}\"\n",
        "\n",
        "def run_tests(standard_code, user_code, test_cases, output_file):\n",
        "  with open(output_file, 'w') as of:\n",
        "    for a, b in test_cases:\n",
        "      correct_result = standard_code.add(a, b)\n",
        "      try:\n",
        "        user_result = user_code.add_numbers(a, b)\n",
        "        if user_result != correct_result:\n",
        "          of.write(f'Тест не пройден\\nОжидаемый результат: {correct_result}\\nРезультат пользователя: {user_result}\\n')\n",
        "        else:\n",
        "          of.write(f'Тест пройден\\n')\n",
        "      except AttributeError as err:\n",
        "        of.write(f'Ошибка при выполнении кода пользователя: {err}')\n",
        "        break\n",
        "\n",
        "# Чтение кодов из файлов\n",
        "standard_module = importlib.import_module('etalon')\n",
        "user_module = importlib.import_module('user_malicious')\n",
        "\n",
        "test_cases = [(1, 2), (3, 4), (5, 6)]\n",
        "output_file = 'output2.txt'\n",
        "# Проверка на вредоносный код\n",
        "malicious_code_message = check_for_malicious_code(inspect.getsource(user_module), output_file)\n",
        "if malicious_code_message:\n",
        "    with open(output_file, 'w') as f:\n",
        "        f.write(\"Ошибка при проверке модуля user_malicious:\\n\")\n",
        "        f.write(malicious_code_message)\n",
        "else:\n",
        "    run_tests(standard_module, user_module, test_cases, output_file)\n"
      ]
    },
    {
      "cell_type": "markdown",
      "metadata": {
        "id": "GN_PNZICsxRD"
      },
      "source": [
        "✏️ ✏️ ✏️\n",
        "\n",
        "**Проверка**\n",
        "\n",
        "Чтобы проверить свое решение, запустите код в следующих ячейках"
      ]
    },
    {
      "cell_type": "code",
      "execution_count": 90,
      "metadata": {
        "colab": {
          "base_uri": "https://localhost:8080/"
        },
        "id": "tys9eJRSqcEW",
        "outputId": "b1ec40d8-fc8c-4959-efae-012c18ce4483"
      },
      "outputs": [
        {
          "name": "stdout",
          "output_type": "stream",
          "text": [
            "--2025-03-26 08:19:49--  https://gist.github.com/Vs8th/5197125c5ef1e1b34b7d73adccdaf4bb/raw/cor_output_2.txt\n",
            "Resolving gist.github.com (gist.github.com)... 140.82.121.3\n",
            "Connecting to gist.github.com (gist.github.com)|140.82.121.3|:443... connected.\n",
            "HTTP request sent, awaiting response... 301 Moved Permanently\n",
            "Location: https://gist.githubusercontent.com/Vs8th/5197125c5ef1e1b34b7d73adccdaf4bb/raw/cor_output_2.txt [following]\n",
            "--2025-03-26 08:19:49--  https://gist.githubusercontent.com/Vs8th/5197125c5ef1e1b34b7d73adccdaf4bb/raw/cor_output_2.txt\n",
            "Resolving gist.githubusercontent.com (gist.githubusercontent.com)... 185.199.108.133, 185.199.110.133, 185.199.111.133, ...\n",
            "Connecting to gist.githubusercontent.com (gist.githubusercontent.com)|185.199.108.133|:443... connected.\n",
            "HTTP request sent, awaiting response... 200 OK\n",
            "Length: 107 [text/plain]\n",
            "Saving to: ‘cor_output_2.txt’\n",
            "\n",
            "cor_output_2.txt    100%[===================>]     107  --.-KB/s    in 0s      \n",
            "\n",
            "Last-modified header missing -- time-stamps turned off.\n",
            "2025-03-26 08:19:49 (2.51 MB/s) - ‘cor_output_2.txt’ saved [107/107]\n",
            "\n"
          ]
        }
      ],
      "source": [
        "# Здесь будет скачиваться файл с эталонным ответом\n",
        "\n",
        "!wget -N https://gist.github.com/Vs8th/5197125c5ef1e1b34b7d73adccdaf4bb/raw/cor_output_2.txt"
      ]
    },
    {
      "cell_type": "code",
      "execution_count": 91,
      "metadata": {
        "colab": {
          "base_uri": "https://localhost:8080/"
        },
        "id": "1GWodeoioj0p",
        "outputId": "365a5f22-321e-4606-fd1d-c229fc2af7dc"
      },
      "outputs": [
        {
          "name": "stdout",
          "output_type": "stream",
          "text": [
            "Поздравляем, Вы справились!\n"
          ]
        }
      ],
      "source": [
        "with open('output2.txt', 'r') as file1:\n",
        "    res1 = file1.read()\n",
        "\n",
        "with open('cor_output_2.txt', 'r') as file2:\n",
        "    res2 = file2.read()\n",
        "\n",
        "try:\n",
        "    assert res1== res2\n",
        "except AssertionError:\n",
        "    print('Ответы не совпадают')\n",
        "else:\n",
        "    print('Поздравляем, Вы справились!')"
      ]
    },
    {
      "cell_type": "markdown",
      "metadata": {
        "id": "AwB-HtPLtjyl"
      },
      "source": [
        "#### **Задача 3**\n",
        "\n",
        "Движемся дальше - последнее, что нам нужно проверить - время выполнения. Если время выполнения превышает 5 секунд, уведомите об этом пользователя и остановите выполнение проверки."
      ]
    },
    {
      "cell_type": "markdown",
      "metadata": {
        "id": "ibykgbg_BEJS"
      },
      "source": [
        "Перед написанием кода, выполните следующую ячейку, в ней скачивается новый код пользователя, который проверит работу проверки на время выполнения."
      ]
    },
    {
      "cell_type": "code",
      "execution_count": 94,
      "metadata": {
        "colab": {
          "base_uri": "https://localhost:8080/"
        },
        "id": "8N4EK36Erkic",
        "outputId": "dd99f048-051d-4415-aa43-717dfe95340e"
      },
      "outputs": [
        {
          "name": "stdout",
          "output_type": "stream",
          "text": [
            "--2025-03-26 08:24:56--  https://gist.github.com/Vs8th/4aba49489a8b0843ef85c4a1a93f923d/raw/user_inf.py\n",
            "Resolving gist.github.com (gist.github.com)... 140.82.121.4\n",
            "Connecting to gist.github.com (gist.github.com)|140.82.121.4|:443... connected.\n",
            "HTTP request sent, awaiting response... 301 Moved Permanently\n",
            "Location: https://gist.githubusercontent.com/Vs8th/4aba49489a8b0843ef85c4a1a93f923d/raw/user_inf.py [following]\n",
            "--2025-03-26 08:24:56--  https://gist.githubusercontent.com/Vs8th/4aba49489a8b0843ef85c4a1a93f923d/raw/user_inf.py\n",
            "Resolving gist.githubusercontent.com (gist.githubusercontent.com)... 185.199.108.133, 185.199.110.133, 185.199.111.133, ...\n",
            "Connecting to gist.githubusercontent.com (gist.githubusercontent.com)|185.199.108.133|:443... connected.\n",
            "HTTP request sent, awaiting response... 200 OK\n",
            "Length: 55 [text/plain]\n",
            "Saving to: ‘user_inf.py’\n",
            "\n",
            "user_inf.py         100%[===================>]      55  --.-KB/s    in 0s      \n",
            "\n",
            "Last-modified header missing -- time-stamps turned off.\n",
            "2025-03-26 08:24:57 (833 KB/s) - ‘user_inf.py’ saved [55/55]\n",
            "\n"
          ]
        }
      ],
      "source": [
        "!wget -N https://gist.github.com/Vs8th/4aba49489a8b0843ef85c4a1a93f923d/raw/user_inf.py"
      ]
    },
    {
      "cell_type": "markdown",
      "metadata": {
        "id": "GOTB--hmt2xw"
      },
      "source": [
        "**Решение**\n",
        "\n",
        "Напишите свое решение ниже"
      ]
    },
    {
      "cell_type": "code",
      "execution_count": 104,
      "metadata": {
        "id": "fz7nRb_ntKMv"
      },
      "outputs": [],
      "source": [
        "import importlib, ast, inspect, time, multiprocessing\n",
        "\n",
        "FORBIDDEN_NAMES = ['eval']\n",
        "\n",
        "def check_for_malicious_code(code, output_file):\n",
        "  with open(output_file, 'w') as of:\n",
        "    tree = ast.parse(code)\n",
        "    try:\n",
        "      for node in ast.walk(tree):\n",
        "        # Проверка вызовов запрещенных функций\n",
        "        if isinstance(node, ast.Call):\n",
        "          # Проверяем, вызывается ли именно eval\n",
        "          if isinstance(node.func, ast.Name) and node.func.id in FORBIDDEN_NAMES:\n",
        "            raise ValueError(f'Код содержит вызов {node.func.id}()')\n",
        "\n",
        "        # Проверка запрещенных атрибутов\n",
        "        if isinstance(node, ast.Attribute) and node.attr in FORBIDDEN_NAMES:\n",
        "          raise ValueError(f'Код содержит запрещенный атрибут: {node.attr}')\n",
        "\n",
        "\n",
        "    except ValueError as err:\n",
        "      return err.args[0]\n",
        "\n",
        "    except SyntaxError as e:\n",
        "        of.write(f\"Код содержит синтаксическую ошибку: {type(e).__name__}\\n\")\n",
        "        return f\"Код содержит синтаксическую ошибку: {type(e).__name__}\"\n",
        "\n",
        "def run_tests(standard_code, user_code, test_cases, output_file):\n",
        "  with open(output_file, 'w') as of:\n",
        "    for a, b in test_cases:\n",
        "      correct_result = standard_code.add(a, b)\n",
        "      try:\n",
        "        user_result = user_code.add_numbers(a, b)\n",
        "        if user_result != correct_result:\n",
        "          of.write(f'Тест не пройден\\nОжидаемый результат: {correct_result}\\nРезультат пользователя: {user_result}\\n')\n",
        "        else:\n",
        "          of.write(f'Тест пройден\\n')\n",
        "      except AttributeError as err:\n",
        "        of.write(f'Ошибка при выполнении кода пользователя: {err}')\n",
        "        break\n",
        "\n",
        "\n",
        "# Чтение кодов из файлов\n",
        "standard_module = importlib.import_module('etalon')\n",
        "user_module = importlib.import_module('user_inf')\n",
        "\n",
        "test_cases = [(1, 2), (3, 4), (5, 6)]\n",
        "output_file = 'output3.txt'\n",
        "# Проверка на вредоносный код\n",
        "malicious_code_message = check_for_malicious_code(inspect.getsource(user_module), output_file)\n",
        "if malicious_code_message:\n",
        "    with open(output_file, 'w') as f:\n",
        "        f.write(\"Ошибка при проверке модуля user_malicious:\\n\")\n",
        "        f.write(malicious_code_message)\n",
        "else:\n",
        "  if __name__ == '__main__':\n",
        "    process = multiprocessing.Process(target=run_tests, args=(standard_module, user_module, test_cases, output_file))\n",
        "    process.start()\n",
        "    process.join(timeout=10)\n",
        "    with open('output3.txt', 'w') as f:\n",
        "      if process.is_alive():\n",
        "        process.terminate()\n",
        "        f.write('Предупреждение: время выполнения превышает 5 секунд.')\n",
        "      else:\n",
        "        f.write('Программа выполнена.')\n",
        "\n",
        "\n",
        "\n"
      ]
    },
    {
      "cell_type": "markdown",
      "metadata": {
        "id": "0-7TiI06t8D0"
      },
      "source": [
        "✏️ ✏️ ✏️\n",
        "\n",
        "**Проверка**\n",
        "\n",
        "Чтобы проверить свое решение, запустите код в следующих ячейках"
      ]
    },
    {
      "cell_type": "code",
      "execution_count": 96,
      "metadata": {
        "colab": {
          "base_uri": "https://localhost:8080/"
        },
        "id": "eOzvKzYqt_UH",
        "outputId": "7cbf45fd-138f-48dc-de7d-fcef9c5117c4"
      },
      "outputs": [
        {
          "name": "stdout",
          "output_type": "stream",
          "text": [
            "--2025-03-26 08:40:05--  https://gist.github.com/Vs8th/cfcafbd2cd46e8905555b02eae78406e/raw/cor_res_3.txt\n",
            "Resolving gist.github.com (gist.github.com)... 140.82.121.4\n",
            "Connecting to gist.github.com (gist.github.com)|140.82.121.4|:443... connected.\n",
            "HTTP request sent, awaiting response... 301 Moved Permanently\n",
            "Location: https://gist.githubusercontent.com/Vs8th/cfcafbd2cd46e8905555b02eae78406e/raw/cor_res_3.txt [following]\n",
            "--2025-03-26 08:40:05--  https://gist.githubusercontent.com/Vs8th/cfcafbd2cd46e8905555b02eae78406e/raw/cor_res_3.txt\n",
            "Resolving gist.githubusercontent.com (gist.githubusercontent.com)... 185.199.109.133, 185.199.111.133, 185.199.110.133, ...\n",
            "Connecting to gist.githubusercontent.com (gist.githubusercontent.com)|185.199.109.133|:443... connected.\n",
            "HTTP request sent, awaiting response... 200 OK\n",
            "Length: 96 [text/plain]\n",
            "Saving to: ‘cor_res_3.txt’\n",
            "\n",
            "cor_res_3.txt       100%[===================>]      96  --.-KB/s    in 0s      \n",
            "\n",
            "Last-modified header missing -- time-stamps turned off.\n",
            "2025-03-26 08:40:06 (3.39 MB/s) - ‘cor_res_3.txt’ saved [96/96]\n",
            "\n"
          ]
        }
      ],
      "source": [
        "# Здесь будет скачиваться файл с эталонным ответом\n",
        "\n",
        "!wget -N https://gist.github.com/Vs8th/cfcafbd2cd46e8905555b02eae78406e/raw/cor_res_3.txt"
      ]
    },
    {
      "cell_type": "code",
      "execution_count": 105,
      "metadata": {
        "colab": {
          "base_uri": "https://localhost:8080/"
        },
        "id": "KzV-hUKcvxb2",
        "outputId": "731291d1-d32b-446f-cdc3-817133d59582"
      },
      "outputs": [
        {
          "name": "stdout",
          "output_type": "stream",
          "text": [
            "Поздравляем, Вы справились!\n"
          ]
        }
      ],
      "source": [
        "with open('output3.txt', 'r') as file1:\n",
        "    res1 = file1.read()\n",
        "\n",
        "with open('cor_res_3.txt', 'r') as file2:\n",
        "    res2 = file2.read()\n",
        "\n",
        "try:\n",
        "    assert res1 == res2\n",
        "except AssertionError:\n",
        "    print('Ответы не совпадают')\n",
        "else:\n",
        "    print('Поздравляем, Вы справились!')"
      ]
    }
  ],
  "metadata": {
    "colab": {
      "provenance": []
    },
    "kernelspec": {
      "display_name": "Python 3",
      "name": "python3"
    },
    "language_info": {
      "name": "python"
    }
  },
  "nbformat": 4,
  "nbformat_minor": 0
}

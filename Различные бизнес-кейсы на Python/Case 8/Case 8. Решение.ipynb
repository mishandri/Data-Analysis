{
  "cells": [
    {
      "cell_type": "markdown",
      "metadata": {
        "id": "XUqCUBW5fUST"
      },
      "source": [
        "## **3 кейс**\n",
        "\n",
        "**Пользовательские сессии**"
      ]
    },
    {
      "cell_type": "markdown",
      "metadata": {
        "id": "OcK9kF9mfZIt"
      },
      "source": [
        "**Важно**\n",
        "\n",
        "Перед началом решения выполните следующую ячейку, чтобы загрузить необходимый для работы файл."
      ]
    },
    {
      "cell_type": "code",
      "execution_count": null,
      "metadata": {
        "id": "KtNBw8nOfPsB"
      },
      "outputs": [],
      "source": [
        "!wget https://gist.github.com/Vs8th/9fcfa729905072c12b1e535c71565a68/raw/sessions.csv"
      ]
    },
    {
      "cell_type": "markdown",
      "metadata": {
        "id": "JIwIK2E5fcyA"
      },
      "source": [
        "Чтобы посмотреть как он выглядит выполните следующую ячейку."
      ]
    },
    {
      "cell_type": "code",
      "execution_count": null,
      "metadata": {
        "colab": {
          "base_uri": "https://localhost:8080/",
          "height": 419
        },
        "id": "6f84pObFfbGE",
        "outputId": "dda625b7-9baf-4ba1-cf69-e48e602756e4"
      },
      "outputs": [
        {
          "data": {
            "text/html": [
              "\n",
              "  <div id=\"df-5e227086-3349-4dd0-acd0-59d74c084f7a\">\n",
              "    <div class=\"colab-df-container\">\n",
              "      <div>\n",
              "<style scoped>\n",
              "    .dataframe tbody tr th:only-of-type {\n",
              "        vertical-align: middle;\n",
              "    }\n",
              "\n",
              "    .dataframe tbody tr th {\n",
              "        vertical-align: top;\n",
              "    }\n",
              "\n",
              "    .dataframe thead th {\n",
              "        text-align: right;\n",
              "    }\n",
              "</style>\n",
              "<table border=\"1\" class=\"dataframe\">\n",
              "  <thead>\n",
              "    <tr style=\"text-align: right;\">\n",
              "      <th></th>\n",
              "      <th>user_id</th>\n",
              "      <th>session</th>\n",
              "    </tr>\n",
              "  </thead>\n",
              "  <tbody>\n",
              "    <tr>\n",
              "      <th>0</th>\n",
              "      <td>user0</td>\n",
              "      <td>[\"2023-05-06 20:43:45\", 1192, [[\"page0\", \"2023...</td>\n",
              "    </tr>\n",
              "    <tr>\n",
              "      <th>1</th>\n",
              "      <td>user1</td>\n",
              "      <td>[\"2023-05-03 15:39:47\", 1642, [[\"page0\", \"2023...</td>\n",
              "    </tr>\n",
              "    <tr>\n",
              "      <th>2</th>\n",
              "      <td>user1</td>\n",
              "      <td>[\"2023-05-16 21:24:30\", 506, [[\"page0\", \"2023-...</td>\n",
              "    </tr>\n",
              "    <tr>\n",
              "      <th>3</th>\n",
              "      <td>user1</td>\n",
              "      <td>[\"2023-05-09 01:41:35\", 1004, [[\"page0\", \"2023...</td>\n",
              "    </tr>\n",
              "    <tr>\n",
              "      <th>4</th>\n",
              "      <td>user1</td>\n",
              "      <td>[\"2023-05-26 05:31:50\", 984, [[\"page0\", \"2023-...</td>\n",
              "    </tr>\n",
              "    <tr>\n",
              "      <th>...</th>\n",
              "      <td>...</td>\n",
              "      <td>...</td>\n",
              "    </tr>\n",
              "    <tr>\n",
              "      <th>5278</th>\n",
              "      <td>user998</td>\n",
              "      <td>[\"2023-05-26 17:33:49\", 631, [[\"page0\", \"2023-...</td>\n",
              "    </tr>\n",
              "    <tr>\n",
              "      <th>5279</th>\n",
              "      <td>user998</td>\n",
              "      <td>[\"2023-05-15 23:21:39\", 1393, [[\"page0\", \"2023...</td>\n",
              "    </tr>\n",
              "    <tr>\n",
              "      <th>5280</th>\n",
              "      <td>user998</td>\n",
              "      <td>[\"2023-05-16 10:15:48\", 1448, [[\"page0\", \"2023...</td>\n",
              "    </tr>\n",
              "    <tr>\n",
              "      <th>5281</th>\n",
              "      <td>user998</td>\n",
              "      <td>[\"2023-05-26 17:06:25\", 810, [[\"page0\", \"2023-...</td>\n",
              "    </tr>\n",
              "    <tr>\n",
              "      <th>5282</th>\n",
              "      <td>user999</td>\n",
              "      <td>[\"2023-05-20 08:08:50\", 744, [[\"page0\", \"2023-...</td>\n",
              "    </tr>\n",
              "  </tbody>\n",
              "</table>\n",
              "<p>5283 rows × 2 columns</p>\n",
              "</div>\n",
              "      <button class=\"colab-df-convert\" onclick=\"convertToInteractive('df-5e227086-3349-4dd0-acd0-59d74c084f7a')\"\n",
              "              title=\"Convert this dataframe to an interactive table.\"\n",
              "              style=\"display:none;\">\n",
              "        \n",
              "  <svg xmlns=\"http://www.w3.org/2000/svg\" height=\"24px\"viewBox=\"0 0 24 24\"\n",
              "       width=\"24px\">\n",
              "    <path d=\"M0 0h24v24H0V0z\" fill=\"none\"/>\n",
              "    <path d=\"M18.56 5.44l.94 2.06.94-2.06 2.06-.94-2.06-.94-.94-2.06-.94 2.06-2.06.94zm-11 1L8.5 8.5l.94-2.06 2.06-.94-2.06-.94L8.5 2.5l-.94 2.06-2.06.94zm10 10l.94 2.06.94-2.06 2.06-.94-2.06-.94-.94-2.06-.94 2.06-2.06.94z\"/><path d=\"M17.41 7.96l-1.37-1.37c-.4-.4-.92-.59-1.43-.59-.52 0-1.04.2-1.43.59L10.3 9.45l-7.72 7.72c-.78.78-.78 2.05 0 2.83L4 21.41c.39.39.9.59 1.41.59.51 0 1.02-.2 1.41-.59l7.78-7.78 2.81-2.81c.8-.78.8-2.07 0-2.86zM5.41 20L4 18.59l7.72-7.72 1.47 1.35L5.41 20z\"/>\n",
              "  </svg>\n",
              "      </button>\n",
              "      \n",
              "  <style>\n",
              "    .colab-df-container {\n",
              "      display:flex;\n",
              "      flex-wrap:wrap;\n",
              "      gap: 12px;\n",
              "    }\n",
              "\n",
              "    .colab-df-convert {\n",
              "      background-color: #E8F0FE;\n",
              "      border: none;\n",
              "      border-radius: 50%;\n",
              "      cursor: pointer;\n",
              "      display: none;\n",
              "      fill: #1967D2;\n",
              "      height: 32px;\n",
              "      padding: 0 0 0 0;\n",
              "      width: 32px;\n",
              "    }\n",
              "\n",
              "    .colab-df-convert:hover {\n",
              "      background-color: #E2EBFA;\n",
              "      box-shadow: 0px 1px 2px rgba(60, 64, 67, 0.3), 0px 1px 3px 1px rgba(60, 64, 67, 0.15);\n",
              "      fill: #174EA6;\n",
              "    }\n",
              "\n",
              "    [theme=dark] .colab-df-convert {\n",
              "      background-color: #3B4455;\n",
              "      fill: #D2E3FC;\n",
              "    }\n",
              "\n",
              "    [theme=dark] .colab-df-convert:hover {\n",
              "      background-color: #434B5C;\n",
              "      box-shadow: 0px 1px 3px 1px rgba(0, 0, 0, 0.15);\n",
              "      filter: drop-shadow(0px 1px 2px rgba(0, 0, 0, 0.3));\n",
              "      fill: #FFFFFF;\n",
              "    }\n",
              "  </style>\n",
              "\n",
              "      <script>\n",
              "        const buttonEl =\n",
              "          document.querySelector('#df-5e227086-3349-4dd0-acd0-59d74c084f7a button.colab-df-convert');\n",
              "        buttonEl.style.display =\n",
              "          google.colab.kernel.accessAllowed ? 'block' : 'none';\n",
              "\n",
              "        async function convertToInteractive(key) {\n",
              "          const element = document.querySelector('#df-5e227086-3349-4dd0-acd0-59d74c084f7a');\n",
              "          const dataTable =\n",
              "            await google.colab.kernel.invokeFunction('convertToInteractive',\n",
              "                                                     [key], {});\n",
              "          if (!dataTable) return;\n",
              "\n",
              "          const docLinkHtml = 'Like what you see? Visit the ' +\n",
              "            '<a target=\"_blank\" href=https://colab.research.google.com/notebooks/data_table.ipynb>data table notebook</a>'\n",
              "            + ' to learn more about interactive tables.';\n",
              "          element.innerHTML = '';\n",
              "          dataTable['output_type'] = 'display_data';\n",
              "          await google.colab.output.renderOutput(dataTable, element);\n",
              "          const docLink = document.createElement('div');\n",
              "          docLink.innerHTML = docLinkHtml;\n",
              "          element.appendChild(docLink);\n",
              "        }\n",
              "      </script>\n",
              "    </div>\n",
              "  </div>\n",
              "  "
            ],
            "text/plain": [
              "      user_id                                            session\n",
              "0       user0  [\"2023-05-06 20:43:45\", 1192, [[\"page0\", \"2023...\n",
              "1       user1  [\"2023-05-03 15:39:47\", 1642, [[\"page0\", \"2023...\n",
              "2       user1  [\"2023-05-16 21:24:30\", 506, [[\"page0\", \"2023-...\n",
              "3       user1  [\"2023-05-09 01:41:35\", 1004, [[\"page0\", \"2023...\n",
              "4       user1  [\"2023-05-26 05:31:50\", 984, [[\"page0\", \"2023-...\n",
              "...       ...                                                ...\n",
              "5278  user998  [\"2023-05-26 17:33:49\", 631, [[\"page0\", \"2023-...\n",
              "5279  user998  [\"2023-05-15 23:21:39\", 1393, [[\"page0\", \"2023...\n",
              "5280  user998  [\"2023-05-16 10:15:48\", 1448, [[\"page0\", \"2023...\n",
              "5281  user998  [\"2023-05-26 17:06:25\", 810, [[\"page0\", \"2023-...\n",
              "5282  user999  [\"2023-05-20 08:08:50\", 744, [[\"page0\", \"2023-...\n",
              "\n",
              "[5283 rows x 2 columns]"
            ]
          },
          "execution_count": 2,
          "metadata": {},
          "output_type": "execute_result"
        }
      ],
      "source": [
        "import pandas as pd\n",
        "\n",
        "df = pd.read_csv('sessions.csv')\n",
        "df"
      ]
    },
    {
      "cell_type": "markdown",
      "metadata": {
        "id": "CxmnD3GvffQ4"
      },
      "source": [
        "### **Решения**"
      ]
    },
    {
      "cell_type": "markdown",
      "metadata": {
        "id": "5bdLXu2ksLB7"
      },
      "source": [
        "#### **Задача 1**\n",
        "\n",
        "Ваша задача написать функцию `get_time_to_conversion`, которая принимает на вход сессии в формате, который вы определили для себя и подсчитывает среднее время между заходом на сайт и целевым действием.\n",
        "\n",
        "Результат - число типа `float`, округленное до двух знаков после запятой, сохраните в переменную `res`"
      ]
    },
    {
      "cell_type": "markdown",
      "metadata": {
        "id": "qUL4LtIUnJge"
      },
      "source": [
        "**Решение**\n",
        "\n",
        "Напишите свое решение ниже"
      ]
    },
    {
      "cell_type": "code",
      "execution_count": 54,
      "metadata": {
        "id": "Ia39hhmZbNRW"
      },
      "outputs": [
        {
          "data": {
            "text/plain": [
              "467.24"
            ]
          },
          "execution_count": 54,
          "metadata": {},
          "output_type": "execute_result"
        }
      ],
      "source": [
        "from datetime import datetime\n",
        "\n",
        "def get_time_to_conversion(file):\n",
        "    with open(file, 'r') as f:\n",
        "        data = f.readlines()\n",
        "    data = data[1:]\n",
        "    users = []\n",
        "    for d in data:\n",
        "        a = d.find('\"[\"\"')\n",
        "        conv = d.find('conversion')\n",
        "        # Для начала попробуем так: возьмём только сессии, где есть конверсия\n",
        "        if conv != -1 :\n",
        "            # [Имя_пользователя, Дата_захода, Дата_целевого_действия, Разница_в_секундах]\n",
        "            user_name = d[:a-1]\n",
        "            start_session = datetime.strptime(d[a+4:a+23],'%Y-%m-%d %H:%M:%S')\n",
        "            end_session = datetime.strptime(d[conv+16:conv+35],'%Y-%m-%d %H:%M:%S')\n",
        "            users.append([user_name, start_session, end_session, (end_session - start_session).total_seconds()])\n",
        "    conversion = [u[3] for u in users]\n",
        "    return round(sum(conversion) / len(conversion), 2)\n",
        "res = get_time_to_conversion(\"sessions.csv\")\n",
        "res"
      ]
    },
    {
      "cell_type": "markdown",
      "metadata": {
        "id": "54Tvpn9OkDwV"
      },
      "source": [
        "✏️ ✏️ ✏️\n",
        "\n",
        "**Проверка**\n",
        "\n",
        "Чтобы проверить свое решение, запустите код в следующих ячейках"
      ]
    },
    {
      "cell_type": "code",
      "execution_count": 55,
      "metadata": {
        "colab": {
          "base_uri": "https://localhost:8080/"
        },
        "id": "LkqzVw9skKEC",
        "outputId": "fef73fd4-aee5-41cf-cd89-961e2127443e"
      },
      "outputs": [
        {
          "name": "stdout",
          "output_type": "stream",
          "text": [
            "Поздравляем, Вы справились!\n"
          ]
        }
      ],
      "source": [
        "try:\n",
        "    assert res == 467.24\n",
        "except AssertionError:\n",
        "    print('Ответы не совпадают')\n",
        "else:\n",
        "    print('Поздравляем, Вы справились!')"
      ]
    },
    {
      "cell_type": "markdown",
      "metadata": {
        "id": "QLNMvvhXoIdV"
      },
      "source": [
        "#### **Задача 2**\n",
        "\n",
        "Ваша задача написать функцию `get_session_duration`, которая принимает на вход сессии в формате, который вы определили для себя и подсчитывает сколько вообще в среднем длится сессия.\n",
        "\n",
        "Результат - число типа `float`, округленное до двух знаков после запятой, сохраните в переменную `res2`"
      ]
    },
    {
      "cell_type": "markdown",
      "metadata": {
        "id": "LThhpSINoMHN"
      },
      "source": [
        "**Решение**\n",
        "\n",
        "Напишите свое решение ниже"
      ]
    },
    {
      "cell_type": "code",
      "execution_count": 69,
      "metadata": {
        "id": "9s8JBMlboJuf"
      },
      "outputs": [
        {
          "data": {
            "text/plain": [
              "901.35"
            ]
          },
          "execution_count": 69,
          "metadata": {},
          "output_type": "execute_result"
        }
      ],
      "source": [
        "from datetime import datetime\n",
        "\n",
        "def get_session_duration(file):\n",
        "\n",
        "    with open(file, 'r') as f:\n",
        "        data = f.readlines()\n",
        "    data = data[1:]\n",
        "    users = []\n",
        "    for d in data:\n",
        "        a = d.find('\"[\"\"')\n",
        "        user_name = d[:a-1]\n",
        "        s1 = d.find('\"\", ')\n",
        "        s2 = d.find(', [[\"\"')\n",
        "        ses = int(d[s1+4:s2])\n",
        "        users.append(ses)\n",
        "    \n",
        "    return round(sum(users) / len(users), 2)\n",
        "\n",
        "res2 = get_session_duration('sessions.csv')\n",
        "res2"
      ]
    },
    {
      "cell_type": "markdown",
      "metadata": {
        "id": "GN_PNZICsxRD"
      },
      "source": [
        "✏️ ✏️ ✏️\n",
        "\n",
        "**Проверка**\n",
        "\n",
        "Чтобы проверить свое решение, запустите код в следующих ячейках"
      ]
    },
    {
      "cell_type": "code",
      "execution_count": 70,
      "metadata": {
        "id": "tys9eJRSqcEW"
      },
      "outputs": [
        {
          "name": "stdout",
          "output_type": "stream",
          "text": [
            "Поздравляем, Вы справились!\n"
          ]
        }
      ],
      "source": [
        "try:\n",
        "    assert res2 == 901.35\n",
        "except AssertionError:\n",
        "    print('Ответы не совпадают')\n",
        "else:\n",
        "    print('Поздравляем, Вы справились!')"
      ]
    },
    {
      "cell_type": "markdown",
      "metadata": {
        "id": "AwB-HtPLtjyl"
      },
      "source": [
        "#### **Задача 3**\n",
        "\n",
        "Напишите функцию `get_daily_session_count`, которая принимает на вход сессии в формате, который вы определили для себя и подсчитывает cколько разных заходов в течение дня делает пользователь.\n",
        "\n",
        "Результат - число типа `float`, округленное до двух знаков после запятой, сохраните в переменную `res3`"
      ]
    },
    {
      "cell_type": "markdown",
      "metadata": {
        "id": "GOTB--hmt2xw"
      },
      "source": [
        "**Решение**\n",
        "\n",
        "Напишите свое решение ниже"
      ]
    },
    {
      "cell_type": "code",
      "execution_count": 88,
      "metadata": {
        "id": "fz7nRb_ntKMv"
      },
      "outputs": [
        {
          "data": {
            "text/plain": [
              "1.11"
            ]
          },
          "execution_count": 88,
          "metadata": {},
          "output_type": "execute_result"
        }
      ],
      "source": [
        "from datetime import datetime\n",
        "\n",
        "def get_daily_session_count(file):\n",
        "    with open(file, 'r') as f:\n",
        "        data = f.readlines()\n",
        "    data = data[1:]\n",
        "    users = {}\n",
        "    for d in data:\n",
        "        a = d.find('\"[\"\"')\n",
        "        user_name = d[:a-1]\n",
        "        start_session = d[a+4:a+14]\n",
        "        key = (user_name, start_session)\n",
        "        if key not in users:\n",
        "            users[key] = 1\n",
        "        else:\n",
        "            users[key] += 1\n",
        "    summ = 0\n",
        "    for k, v in users.items():\n",
        "        summ += v\n",
        "    return round(summ / len(users), 2)\n",
        "\n",
        "res3 = get_daily_session_count('sessions.csv')\n",
        "res3"
      ]
    },
    {
      "cell_type": "markdown",
      "metadata": {
        "id": "0-7TiI06t8D0"
      },
      "source": [
        "✏️ ✏️ ✏️\n",
        "\n",
        "**Проверка**\n",
        "\n",
        "Чтобы проверить свое решение, запустите код в следующих ячейках"
      ]
    },
    {
      "cell_type": "code",
      "execution_count": 89,
      "metadata": {
        "id": "eOzvKzYqt_UH"
      },
      "outputs": [
        {
          "name": "stdout",
          "output_type": "stream",
          "text": [
            "Поздравляем, Вы справились!\n"
          ]
        }
      ],
      "source": [
        "try:\n",
        "    assert res3 == 1.11\n",
        "except AssertionError:\n",
        "    print('Ответы не совпадают')\n",
        "else:\n",
        "    print('Поздравляем, Вы справились!')"
      ]
    },
    {
      "cell_type": "markdown",
      "metadata": {
        "id": "R9huPDD3i9wz"
      },
      "source": [
        "#### **Задача 4**\n",
        "\n",
        "Напишите функцию `get_average_session_count`, которая принимает на вход сессии в формате, который вы определили для себя и подсчитывает сколько заходов вообще в среднем делает пользователь.\n",
        "\n",
        "Результат - число типа `float`, округленное до двух знаков после запятой, сохраните в переменную `res4`"
      ]
    },
    {
      "cell_type": "markdown",
      "metadata": {
        "id": "1CWLkmQzjLNf"
      },
      "source": [
        "**Решение**\n",
        "\n",
        "Напишите свое решение ниже"
      ]
    },
    {
      "cell_type": "code",
      "execution_count": 91,
      "metadata": {
        "id": "MaWSJGvEjJgq"
      },
      "outputs": [
        {
          "data": {
            "text/plain": [
              "5.28"
            ]
          },
          "execution_count": 91,
          "metadata": {},
          "output_type": "execute_result"
        }
      ],
      "source": [
        "from datetime import datetime\n",
        "\n",
        "def get_average_session_count(file):\n",
        "    with open(file, 'r') as f:\n",
        "        data = f.readlines()\n",
        "    data = data[1:]\n",
        "    users = {}\n",
        "    for d in data:\n",
        "        a = d.find('\"[\"\"')\n",
        "        user_name = d[:a-1]\n",
        "        start_session = d[a+4:a+14]\n",
        "        key = user_name\n",
        "        if key not in users:\n",
        "            users[key] = 1\n",
        "        else:\n",
        "            users[key] += 1\n",
        "    summ = 0\n",
        "    for k, v in users.items():\n",
        "        summ += v\n",
        "    return round(summ / len(users), 2)\n",
        "\n",
        "res4 = get_average_session_count('sessions.csv')\n",
        "res4"
      ]
    },
    {
      "cell_type": "markdown",
      "metadata": {
        "id": "nLNPyebujSh8"
      },
      "source": [
        "✏️ ✏️ ✏️\n",
        "\n",
        "**Проверка**\n",
        "\n",
        "Чтобы проверить свое решение, запустите код в следующих ячейках"
      ]
    },
    {
      "cell_type": "code",
      "execution_count": 92,
      "metadata": {
        "id": "oPvNP5sijS9v"
      },
      "outputs": [
        {
          "name": "stdout",
          "output_type": "stream",
          "text": [
            "Поздравляем, Вы справились!\n"
          ]
        }
      ],
      "source": [
        "try:\n",
        "    assert res4 == 5.28\n",
        "except AssertionError:\n",
        "    print('Ответы не совпадают')\n",
        "else:\n",
        "    print('Поздравляем, Вы справились!')"
      ]
    }
  ],
  "metadata": {
    "colab": {
      "provenance": []
    },
    "kernelspec": {
      "display_name": "Python 3",
      "name": "python3"
    },
    "language_info": {
      "codemirror_mode": {
        "name": "ipython",
        "version": 3
      },
      "file_extension": ".py",
      "mimetype": "text/x-python",
      "name": "python",
      "nbconvert_exporter": "python",
      "pygments_lexer": "ipython3",
      "version": "3.12.4"
    }
  },
  "nbformat": 4,
  "nbformat_minor": 0
}

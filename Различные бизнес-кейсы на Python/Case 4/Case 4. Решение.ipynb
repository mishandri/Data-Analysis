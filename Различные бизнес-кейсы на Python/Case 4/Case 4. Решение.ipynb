{
  "nbformat": 4,
  "nbformat_minor": 0,
  "metadata": {
    "colab": {
      "provenance": []
    },
    "kernelspec": {
      "name": "python3",
      "display_name": "Python 3"
    },
    "language_info": {
      "name": "python"
    }
  },
  "cells": [
    {
      "cell_type": "markdown",
      "source": [
        "## **1 кейс**\n",
        "\n",
        "**Работа с логами**"
      ],
      "metadata": {
        "id": "XUqCUBW5fUST"
      }
    },
    {
      "cell_type": "markdown",
      "source": [
        "**Важно**\n",
        "\n",
        "Перед началом решения выполните следующую ячейку, чтобы загрузить необходимый для работы файл."
      ],
      "metadata": {
        "id": "OcK9kF9mfZIt"
      }
    },
    {
      "cell_type": "code",
      "execution_count": 64,
      "metadata": {
        "id": "KtNBw8nOfPsB",
        "outputId": "5fc2c911-8b76-4ebf-a8eb-ac2da807afd2",
        "colab": {
          "base_uri": "https://localhost:8080/"
        }
      },
      "outputs": [
        {
          "output_type": "stream",
          "name": "stdout",
          "text": [
            "--2025-03-19 11:41:28--  https://gist.github.com/Vs8th/38d5d914171c84166728a9746d212bad/raw/auto_purchase.log\n",
            "Resolving gist.github.com (gist.github.com)... 140.82.113.4\n",
            "Connecting to gist.github.com (gist.github.com)|140.82.113.4|:443... connected.\n",
            "HTTP request sent, awaiting response... 301 Moved Permanently\n",
            "Location: https://gist.githubusercontent.com/Vs8th/38d5d914171c84166728a9746d212bad/raw/auto_purchase.log [following]\n",
            "--2025-03-19 11:41:29--  https://gist.githubusercontent.com/Vs8th/38d5d914171c84166728a9746d212bad/raw/auto_purchase.log\n",
            "Resolving gist.githubusercontent.com (gist.githubusercontent.com)... 185.199.108.133, 185.199.109.133, 185.199.110.133, ...\n",
            "Connecting to gist.githubusercontent.com (gist.githubusercontent.com)|185.199.108.133|:443... connected.\n",
            "HTTP request sent, awaiting response... 200 OK\n",
            "Length: 459418 (449K) [text/plain]\n",
            "Saving to: ‘auto_purchase.log’\n",
            "\n",
            "auto_purchase.log   100%[===================>] 448.65K  --.-KB/s    in 0.05s   \n",
            "\n",
            "Last-modified header missing -- time-stamps turned off.\n",
            "2025-03-19 11:41:29 (9.40 MB/s) - ‘auto_purchase.log’ saved [459418/459418]\n",
            "\n"
          ]
        }
      ],
      "source": [
        "!wget -N https://gist.github.com/Vs8th/38d5d914171c84166728a9746d212bad/raw/auto_purchase.log"
      ]
    },
    {
      "cell_type": "markdown",
      "source": [
        "Чтобы посмотреть как он выглядит выполните следующую ячейку."
      ],
      "metadata": {
        "id": "JIwIK2E5fcyA"
      }
    },
    {
      "cell_type": "code",
      "source": [
        "with open('auto_purchase.log', 'r') as f:\n",
        "    lines = f.readlines()\n",
        "\n",
        "for line in lines:\n",
        "  print(line)"
      ],
      "metadata": {
        "id": "6f84pObFfbGE"
      },
      "execution_count": null,
      "outputs": []
    },
    {
      "cell_type": "markdown",
      "source": [
        "### **Решения**"
      ],
      "metadata": {
        "id": "CxmnD3GvffQ4"
      }
    },
    {
      "cell_type": "markdown",
      "source": [
        "#### **Задача 1**\n",
        "\n",
        "Ваша задача написать функцию `count_success_and_failure`, которая принимает на вход путь к файлу с логами и подсчитывает количество успешных продлений и ошибок при списании. Функция должна вернуть кортеж из двух значений: количества успешных попыток и неуспешных."
      ],
      "metadata": {
        "id": "5bdLXu2ksLB7"
      }
    },
    {
      "cell_type": "markdown",
      "source": [
        "**Решение**\n",
        "\n",
        "Напишите свое решение ниже"
      ],
      "metadata": {
        "id": "qUL4LtIUnJge"
      }
    },
    {
      "cell_type": "code",
      "source": [
        "# Судя по логу, в INFO записывается вся информация, даже когда в итоге продление не удалось. Поэтому из этого количества следует вычесть ошибки\n",
        "def count_success_and_failure(file_path):\n",
        "  with open(file_path, 'r') as f:\n",
        "    lines = f.readlines()\n",
        "    err_count = 0\n",
        "    pay_count = 0\n",
        "    for line in lines:\n",
        "      condition = line.find('Обновляем подписку пользователю id') == -1\n",
        "      if line.startswith('ERROR') and line.endswith('ошибка при списании:\\n'):\n",
        "        err_count += 1\n",
        "      if line.startswith('INFO') and not condition:\n",
        "        pay_count += 1\n",
        "\n",
        "    return pay_count - err_count, err_count\n",
        "\n",
        "count_success_and_failure('auto_purchase.log')"
      ],
      "metadata": {
        "id": "Ia39hhmZbNRW",
        "colab": {
          "base_uri": "https://localhost:8080/"
        },
        "outputId": "14b68439-b69e-44de-baf1-a09d8d73b21c"
      },
      "execution_count": 66,
      "outputs": [
        {
          "output_type": "execute_result",
          "data": {
            "text/plain": [
              "(1034, 186)"
            ]
          },
          "metadata": {},
          "execution_count": 66
        }
      ]
    },
    {
      "cell_type": "markdown",
      "source": [
        "✏️ ✏️ ✏️\n",
        "\n",
        "**Проверка**\n",
        "\n",
        "Чтобы проверить свое решение, запустите код в следующих ячейках"
      ],
      "metadata": {
        "id": "54Tvpn9OkDwV"
      }
    },
    {
      "cell_type": "code",
      "source": [
        "res = count_success_and_failure('auto_purchase.log')\n",
        "\n",
        "try:\n",
        "    assert res == (1034, 186)\n",
        "except AssertionError:\n",
        "    print('Ответы не совпадают')\n",
        "else:\n",
        "    print('Поздравляем, Вы справились!')"
      ],
      "metadata": {
        "id": "LkqzVw9skKEC",
        "colab": {
          "base_uri": "https://localhost:8080/"
        },
        "outputId": "29916d86-ae92-4708-bacc-cf9331d929f8"
      },
      "execution_count": 67,
      "outputs": [
        {
          "output_type": "stream",
          "name": "stdout",
          "text": [
            "Поздравляем, Вы справились!\n"
          ]
        }
      ]
    },
    {
      "cell_type": "markdown",
      "source": [
        "#### **Задача 2**\n",
        "\n",
        "Ваша задача написать функцию `auto_renewal_sub`, которая принимает на вход путь к файлу с логами и обрабатывает количество клиентов с автопродлением подписки. Мы хотим посмотреть на изменение этого показателя в динамике: посчитайте сглаженные значения с помощью метода скользящего среднего и метода медианного сглаживания.  \n",
        "\n",
        "**Примечание:** При сглаживании берем все предыдущие значения, включая текущее, будущие значения не берем. Если в один день наблюдаем несколько записей об автопродлении - берем максимальное из имеющихся число клиентов с подпиской.\n",
        "\n",
        "Функция должна записать в файл `auto_renewal_sub.txt` два списка, предварив их соответствущими обозначениями:\n",
        "\n",
        "`Среднее: [2.0, 1.0, 0.67...]`\n",
        "\n",
        "`Медиана: [2, 2, 0...]`"
      ],
      "metadata": {
        "id": "QLNMvvhXoIdV"
      }
    },
    {
      "cell_type": "markdown",
      "source": [
        "**Решение**\n",
        "\n",
        "Напишите свое решение ниже"
      ],
      "metadata": {
        "id": "LThhpSINoMHN"
      }
    },
    {
      "cell_type": "code",
      "source": [
        "def calculate_median(data):\n",
        "  # Сортируем список\n",
        "  sorted_data = sorted(data)\n",
        "  n = len(sorted_data)\n",
        "  # Проверяем, четное или нечетное количество элементов\n",
        "  if n % 2 == 1:\n",
        "      median = sorted_data[n // 2]\n",
        "  else:\n",
        "      median = int((sorted_data[n // 2 - 1] + sorted_data[n // 2]) / 2)\n",
        "  return median\n",
        "\n",
        "def calculate_mean(data):\n",
        "  return round(sum(data)/len(data),2)\n",
        "\n",
        "\n",
        "def auto_renewal_sub(log_file_path):\n",
        "  with open(log_file_path, 'r') as f:\n",
        "    lines = f.readlines()\n",
        "    data = {}\n",
        "    # Проходим по логу и ищем итоговые строки по каждому дню\n",
        "    for line in lines:\n",
        "      pos = line.find('Cегодня ')\n",
        "      subscribe = line.find('подписки:')\n",
        "      if pos != -1:\n",
        "        # Для выполнения условия: Если в один день наблюдаем несколько записей\n",
        "        # об автопродлении - берем максимальное из имеющихся число клиентов с подпиской\n",
        "        if line[pos+8:pos+18] in data:\n",
        "          data[line[pos+8:pos+18]] = max(int(data[line[pos+8:pos+18]]), \\\n",
        "                                         int(line[subscribe+10:].split('\\n')[0]))\n",
        "        else:\n",
        "          data[line[pos+8:pos+18]] = int(line[subscribe+10:].split('\\n')[0])\n",
        "    # На всякий случай отсортируем по датам по возрастанию\n",
        "    data = {key: data[key] for key in sorted(data)}\n",
        "    # Теперь в data хранятся пары 'дата': количество подписчиков\n",
        "    # Для именно этой задачи не сильно пригодится, но так удобнее потом что-то ещё делать\n",
        "\n",
        "    # Создадим список со значениями подписок\n",
        "    subs = []\n",
        "    for key, value in data.items():\n",
        "      subs.append(value)\n",
        "\n",
        "    mean = [calculate_mean(subs[:i]) for i in range(1,len(subs)+1)]\n",
        "    median = [calculate_median(subs[:i]) for i in range(1,len(subs)+1)]\n",
        "    # Запишем результаты в файл, как требуют условия\n",
        "    with open('auto_renewal_sub.txt', 'w') as f:\n",
        "      f.write(f'Среднее: {mean}\\n')\n",
        "      f.write(f'Медиана: {median}')\n",
        "\n",
        "auto_renewal_sub('auto_purchase.log')"
      ],
      "metadata": {
        "id": "9s8JBMlboJuf"
      },
      "execution_count": 68,
      "outputs": []
    },
    {
      "cell_type": "markdown",
      "source": [
        "✏️ ✏️ ✏️\n",
        "\n",
        "**Проверка**\n",
        "\n",
        "Чтобы проверить свое решение, запустите код в следующих ячейках"
      ],
      "metadata": {
        "id": "GN_PNZICsxRD"
      }
    },
    {
      "cell_type": "code",
      "source": [
        "# Здесь будет скачиваться файл с эталонным ответом\n",
        "\n",
        "!wget -N https://gist.github.com/Vs8th/846cbc97a722ab825cda4dda3b2b3434/raw/cor_auto_renewal.txt\n",
        "\n",
        "import pandas as pd\n",
        "\n",
        "user_answer = pd.read_csv('auto_renewal_sub.txt')\n",
        "correct_answer = pd.read_csv('cor_auto_renewal.txt')"
      ],
      "metadata": {
        "id": "tys9eJRSqcEW",
        "collapsed": true,
        "outputId": "1ab70c9e-86e5-4970-daab-0031639cdeb5",
        "colab": {
          "base_uri": "https://localhost:8080/"
        }
      },
      "execution_count": 69,
      "outputs": [
        {
          "output_type": "stream",
          "name": "stdout",
          "text": [
            "--2025-03-19 11:41:29--  https://gist.github.com/Vs8th/846cbc97a722ab825cda4dda3b2b3434/raw/cor_auto_renewal.txt\n",
            "Resolving gist.github.com (gist.github.com)... 140.82.112.3\n",
            "Connecting to gist.github.com (gist.github.com)|140.82.112.3|:443... connected.\n",
            "HTTP request sent, awaiting response... 301 Moved Permanently\n",
            "Location: https://gist.githubusercontent.com/Vs8th/846cbc97a722ab825cda4dda3b2b3434/raw/cor_auto_renewal.txt [following]\n",
            "--2025-03-19 11:41:29--  https://gist.githubusercontent.com/Vs8th/846cbc97a722ab825cda4dda3b2b3434/raw/cor_auto_renewal.txt\n",
            "Resolving gist.githubusercontent.com (gist.githubusercontent.com)... 185.199.108.133, 185.199.109.133, 185.199.110.133, ...\n",
            "Connecting to gist.githubusercontent.com (gist.githubusercontent.com)|185.199.108.133|:443... connected.\n",
            "HTTP request sent, awaiting response... 200 OK\n",
            "Length: 2431 (2.4K) [text/plain]\n",
            "Saving to: ‘cor_auto_renewal.txt’\n",
            "\n",
            "cor_auto_renewal.tx 100%[===================>]   2.37K  --.-KB/s    in 0s      \n",
            "\n",
            "Last-modified header missing -- time-stamps turned off.\n",
            "2025-03-19 11:41:29 (26.0 MB/s) - ‘cor_auto_renewal.txt’ saved [2431/2431]\n",
            "\n"
          ]
        }
      ]
    },
    {
      "cell_type": "code",
      "source": [
        "try:\n",
        "  assert (user_answer == correct_answer).all().all(), 'Ответы не совпадают'\n",
        "except Exception as err:\n",
        "  raise AssertionError(f'При проверке возникла ошибка {repr(err)}')\n",
        "else:\n",
        "  print('Поздравляем, Вы справились и успешно прошли все проверки!!')"
      ],
      "metadata": {
        "colab": {
          "base_uri": "https://localhost:8080/"
        },
        "id": "a36bM9j9tD7l",
        "outputId": "dfe62138-815d-44b0-8177-4079320ab4b5"
      },
      "execution_count": 70,
      "outputs": [
        {
          "output_type": "stream",
          "name": "stdout",
          "text": [
            "Поздравляем, Вы справились и успешно прошли все проверки!!\n"
          ]
        }
      ]
    },
    {
      "cell_type": "markdown",
      "source": [
        "#### **Задача 3**\n",
        "\n",
        "Напишите функцию `sub_renewal_by_day`, которая принимает на вход путь к файлу с логами и анализирует взаимосвязь дня продления подписки и количества продлений в этот день. Функция должна записать в файл `weekdays.txt` аналитическую записку в формате:\n",
        "\n",
        "```\n",
        "Количество обновлений подписки по дням недели:\n",
        "Понедельник: 6\n",
        "Вторник: 7\n",
        "Среда: 8\n",
        "...\n",
        "```"
      ],
      "metadata": {
        "id": "AwB-HtPLtjyl"
      }
    },
    {
      "cell_type": "markdown",
      "source": [
        "**Решение**\n",
        "\n",
        "Напишите свое решение ниже"
      ],
      "metadata": {
        "id": "GOTB--hmt2xw"
      }
    },
    {
      "cell_type": "code",
      "source": [
        "from datetime import datetime\n",
        "\n",
        "def sub_renewal_by_day(file_path):\n",
        "  with open(file_path, 'r') as f:\n",
        "    lines = f.readlines()\n",
        "    # Создадим список по дням недели, чтобы использовать функцию из datetime\n",
        "    # weekday(), которая возвращает номер дня недели. 0 - Понедельник\n",
        "    days = [\"Понедельник\", \"Вторник\", \"Среда\", \"Четверг\", \\\n",
        "            \"Пятница\", \"Суббота\", \"Воскресенье\"]\n",
        "    data = {}\n",
        "    # Проходим по логу и ищем итоговые строки по каждому дню\n",
        "    for line in lines:\n",
        "      pos = line.find('Cегодня ')\n",
        "      subscribe = line.find('подписки:')\n",
        "      if pos != -1:\n",
        "        day_of_week = datetime.strptime(line[pos+8:pos+18], \\\n",
        "                                             '%Y-%m-%d').weekday()\n",
        "        # Для выполнения условия: Если в один день наблюдаем несколько записей\n",
        "        # об автопродлении - берем максимальное из имеющихся число клиентов с подпиской\n",
        "        count = int(line[subscribe+10:].split('\\n')[0])\n",
        "        if day_of_week not in data:\n",
        "          data[day_of_week] = count\n",
        "        else:\n",
        "          data[day_of_week] += count\n",
        "    # На всякий случай отсортируем по датам по возрастанию\n",
        "    data = {key: data[key] for key in sorted(data)}\n",
        "    # Теперь в data хранятся пары 'дата': количество подписчиков\n",
        "  print(data)\n",
        "  with open('weekdays.txt', 'w') as f:\n",
        "    f.write('Количество обновлений подписки по дням недели:')\n",
        "    for key, value in data.items():\n",
        "      f.write(f'{days[key]}: {value}')\n",
        "\n",
        "sub_renewal_by_day('auto_purchase.log')"
      ],
      "metadata": {
        "id": "fz7nRb_ntKMv",
        "colab": {
          "base_uri": "https://localhost:8080/"
        },
        "outputId": "252ad78c-4fb1-46f6-a784-a3b8abd7cfc3"
      },
      "execution_count": 91,
      "outputs": [
        {
          "output_type": "stream",
          "name": "stdout",
          "text": [
            "{0: 159, 1: 168, 2: 302, 3: 192, 4: 168, 5: 158, 6: 166}\n"
          ]
        }
      ]
    },
    {
      "cell_type": "code",
      "source": [
        "from datetime import datetime\n",
        "\n",
        "def sub_renewal_by_day(file_path):\n",
        "  with open(file_path, 'r') as f:\n",
        "    # Создадим список по дням недели, чтобы использовать функцию из datetime\n",
        "    # weekday(), которая возвращает номер дня недели. 0 - Понедельник\n",
        "    days = [\"Понедельник\", \"Вторник\", \"Среда\", \"Четверг\", \\\n",
        "            \"Пятница\", \"Суббота\", \"Воскресенье\"]\n",
        "    data = {k: 0 for k in range(7)}\n",
        "    lines = f.readlines()\n",
        "    for line in lines:\n",
        "      event_date = datetime.strptime(line[8:18], '%Y-%m-%d').weekday()\n",
        "      condition = line.find('Обновляем подписку пользователю id') == -1\n",
        "      if line.startswith('ERROR') and line.endswith('ошибка при списании:\\n'):\n",
        "        data[event_date] -= 1\n",
        "      if line.startswith('INFO') and not condition:\n",
        "        data[event_date] += 1\n",
        "\n",
        "  with open('weekdays.txt', 'w') as f:\n",
        "    f.write('Количество обновлений подписки по дням недели:\\n')\n",
        "    s = []\n",
        "    for key, value in data.items():\n",
        "      s.append(f'{days[key]}: {value}')\n",
        "    f.write('\\n'.join(s))\n",
        "\n",
        "sub_renewal_by_day('auto_purchase.log')"
      ],
      "metadata": {
        "id": "rSXBScDBcKNR"
      },
      "execution_count": 103,
      "outputs": []
    },
    {
      "cell_type": "markdown",
      "source": [
        "✏️ ✏️ ✏️\n",
        "\n",
        "**Проверка**\n",
        "\n",
        "Чтобы проверить свое решение, запустите код в следующих ячейках"
      ],
      "metadata": {
        "id": "0-7TiI06t8D0"
      }
    },
    {
      "cell_type": "code",
      "source": [
        "# Здесь будет скачиваться файл с эталонным ответом\n",
        "\n",
        "!wget -N https://gist.github.com/Vs8th/c4c382f50761b5b9e64795eb89d49fda/raw/cor_weekdays.txt\n",
        "\n",
        "import pandas as pd\n",
        "\n",
        "user_answer = pd.read_csv('weekdays.txt')\n",
        "correct_answer = pd.read_csv('cor_weekdays.txt')"
      ],
      "metadata": {
        "id": "eOzvKzYqt_UH",
        "colab": {
          "base_uri": "https://localhost:8080/"
        },
        "outputId": "4c3efd14-f5df-4350-d7ca-857337f23f41"
      },
      "execution_count": 105,
      "outputs": [
        {
          "output_type": "stream",
          "name": "stdout",
          "text": [
            "--2025-03-19 13:03:01--  https://gist.github.com/Vs8th/c4c382f50761b5b9e64795eb89d49fda/raw/cor_weekdays.txt\n",
            "Resolving gist.github.com (gist.github.com)... 140.82.114.4\n",
            "Connecting to gist.github.com (gist.github.com)|140.82.114.4|:443... connected.\n",
            "HTTP request sent, awaiting response... 301 Moved Permanently\n",
            "Location: https://gist.githubusercontent.com/Vs8th/c4c382f50761b5b9e64795eb89d49fda/raw/cor_weekdays.txt [following]\n",
            "--2025-03-19 13:03:01--  https://gist.githubusercontent.com/Vs8th/c4c382f50761b5b9e64795eb89d49fda/raw/cor_weekdays.txt\n",
            "Resolving gist.githubusercontent.com (gist.githubusercontent.com)... 185.199.108.133, 185.199.109.133, 185.199.110.133, ...\n",
            "Connecting to gist.githubusercontent.com (gist.githubusercontent.com)|185.199.108.133|:443... connected.\n",
            "HTTP request sent, awaiting response... 200 OK\n",
            "Length: 238 [text/plain]\n",
            "Saving to: ‘cor_weekdays.txt’\n",
            "\n",
            "cor_weekdays.txt    100%[===================>]     238  --.-KB/s    in 0s      \n",
            "\n",
            "Last-modified header missing -- time-stamps turned off.\n",
            "2025-03-19 13:03:01 (3.94 MB/s) - ‘cor_weekdays.txt’ saved [238/238]\n",
            "\n"
          ]
        }
      ]
    },
    {
      "cell_type": "code",
      "source": [
        "try:\n",
        "  assert (user_answer == correct_answer).all().all(), 'Ответы не совпадают'\n",
        "except Exception as err:\n",
        "  raise AssertionError(f'При проверке возникла ошибка {repr(err)}')\n",
        "else:\n",
        "  print('Поздравляем, Вы справились и успешно прошли все проверки!!')"
      ],
      "metadata": {
        "colab": {
          "base_uri": "https://localhost:8080/"
        },
        "id": "KzV-hUKcvxb2",
        "outputId": "6b6915c1-c9c8-4321-9682-5e8ad339cc00"
      },
      "execution_count": 106,
      "outputs": [
        {
          "output_type": "stream",
          "name": "stdout",
          "text": [
            "Поздравляем, Вы справились и успешно прошли все проверки!!\n"
          ]
        }
      ]
    }
  ]
}
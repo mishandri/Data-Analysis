{
  "cells": [
    {
      "cell_type": "markdown",
      "metadata": {
        "id": "XUqCUBW5fUST"
      },
      "source": [
        "## Трек задач"
      ]
    },
    {
      "cell_type": "markdown",
      "metadata": {
        "id": "CxmnD3GvffQ4"
      },
      "source": [
        "### **Решения**"
      ]
    },
    {
      "cell_type": "markdown",
      "metadata": {
        "id": "5bdLXu2ksLB7"
      },
      "source": [
        "#### **Задача 1**\n",
        "\n",
        "Для начала определите классы `Task` и `Project`."
      ]
    },
    {
      "cell_type": "markdown",
      "metadata": {
        "id": "qUL4LtIUnJge"
      },
      "source": [
        "**Решение**\n",
        "\n",
        "Напишите свое решение ниже"
      ]
    },
    {
      "cell_type": "code",
      "execution_count": 66,
      "metadata": {
        "id": "Ia39hhmZbNRW"
      },
      "outputs": [],
      "source": [
        "class Task:\n",
        "  def __init__(self, task_id, name, description, status, duration):\n",
        "    self.task_id = task_id\n",
        "    self.__name = name\n",
        "    self.__description = description\n",
        "    self.__status = status\n",
        "    self.duration = duration\n",
        "\n",
        "\n",
        "  def get_name(self):\n",
        "    return self.__name\n",
        "\n",
        "  def get_status(self):\n",
        "    return self.__status\n",
        "\n",
        "  def get_description(self):\n",
        "    return self.__description\n"
      ]
    },
    {
      "cell_type": "code",
      "execution_count": 67,
      "metadata": {
        "id": "i-cVKsFc-4fS"
      },
      "outputs": [],
      "source": [
        "class Project:\n",
        "\n",
        "  tasks = []\n",
        "\n",
        "  def add_task(self, Task):\n",
        "    self.tasks.append(Task)\n",
        "\n",
        "  def remove_task(self, task_id):\n",
        "    self.tasks.remove(Task.task_id)\n",
        "\n",
        "  def get_all_tasks(self):\n",
        "    return self.tasks\n",
        "\n",
        "  def __iter__(self):\n",
        "    for item in self.tasks:\n",
        "      yield item\n"
      ]
    },
    {
      "cell_type": "code",
      "execution_count": 68,
      "metadata": {
        "colab": {
          "base_uri": "https://localhost:8080/"
        },
        "id": "LkqzVw9skKEC",
        "outputId": "40ab59df-734b-47d0-c747-9ad88ed3e84f"
      },
      "outputs": [
        {
          "name": "stdout",
          "output_type": "stream",
          "text": [
            "Поздравляем, Вы справились!\n"
          ]
        }
      ],
      "source": [
        "#@title ✏️ Проверка: чтобы проверить свое решение запустите код в этой ячейке\n",
        "task1 = Task(1, \"Задача 1\", \"Описание\", \"Выполняется\", 14)\n",
        "task2 = Task(2, \"Задача 2\", \"Описание\", \"Выполняется\", 8)\n",
        "task3 = Task(3, \"Задача 3\", \"Описание\", \"Завершена\", 3)\n",
        "task4 = Task(4, \"Задача 4\", \"Описание: срочно\", \"Выполняется\", 7)\n",
        "\n",
        "project = Project()\n",
        "project.add_task(task1)\n",
        "project.add_task(task2)\n",
        "project.add_task(task3)\n",
        "project.add_task(task4)\n",
        "\n",
        "res = []\n",
        "for task in project:\n",
        "  name = task.get_name()\n",
        "  description = task.get_description()\n",
        "  status = task.get_status()\n",
        "  res.append((name, description, status))\n",
        "\n",
        "try:\n",
        "    assert res == [('Задача 1', 'Описание', 'Выполняется'),\n",
        "                   ('Задача 2', 'Описание', 'Выполняется'),\n",
        "                   ('Задача 3', 'Описание', 'Завершена'),\n",
        "                   ('Задача 4', 'Описание: срочно', 'Выполняется')]\n",
        "except AssertionError:\n",
        "    print('Ответы не совпадают')\n",
        "else:\n",
        "    print('Поздравляем, Вы справились!')"
      ]
    },
    {
      "cell_type": "markdown",
      "metadata": {
        "id": "QLNMvvhXoIdV"
      },
      "source": [
        "#### **Задача 2**\n",
        "\n",
        "Определите класс `Analysis`."
      ]
    },
    {
      "cell_type": "markdown",
      "metadata": {
        "id": "LThhpSINoMHN"
      },
      "source": [
        "**Решение**\n",
        "\n",
        "Напишите свое решение ниже"
      ]
    },
    {
      "cell_type": "code",
      "execution_count": 74,
      "metadata": {
        "id": "9s8JBMlboJuf"
      },
      "outputs": [],
      "source": [
        "class Analysis:\n",
        "\n",
        "  @staticmethod\n",
        "  def count_tasks(project):\n",
        "    cnt = 0\n",
        "    for task in project.tasks:\n",
        "      cnt += 1\n",
        "    return cnt\n",
        "\n",
        "  @staticmethod\n",
        "  def count_tasks_by_status(project, status):\n",
        "    cnt = 0\n",
        "    for task in project.tasks:\n",
        "      if task.get_status() == status:\n",
        "        cnt += 1\n",
        "    return cnt\n",
        "\n",
        "  @staticmethod\n",
        "  def find_longest_task(project):\n",
        "    max_duration = 0\n",
        "    for task in project.tasks:\n",
        "      if task.duration > max_duration:\n",
        "        max_duration = task.duration\n",
        "        longest_task = task\n",
        "    return longest_task"
      ]
    },
    {
      "cell_type": "code",
      "execution_count": 75,
      "metadata": {
        "colab": {
          "base_uri": "https://localhost:8080/"
        },
        "id": "a36bM9j9tD7l",
        "outputId": "9b52a57e-b53b-47de-a61e-e16e429ad630"
      },
      "outputs": [
        {
          "name": "stdout",
          "output_type": "stream",
          "text": [
            "Поздравляем, Вы справились!\n"
          ]
        }
      ],
      "source": [
        "#@title ✏️ Проверка: чтобы проверить свое решение запустите код в этой ячейке\n",
        "res2 = Analysis.count_tasks(project)\n",
        "res3 = Analysis.count_tasks_by_status(project, \"Выполняется\")\n",
        "res4 = Analysis.find_longest_task(project).get_name()\n",
        "\n",
        "try:\n",
        "    assert res2 == 4\n",
        "    assert res3 == 3\n",
        "    assert res4 == 'Задача 1'\n",
        "except AssertionError:\n",
        "    print('Ответы не совпадают')\n",
        "else:\n",
        "    print('Поздравляем, Вы справились!')"
      ]
    },
    {
      "cell_type": "markdown",
      "metadata": {
        "id": "AwB-HtPLtjyl"
      },
      "source": [
        "#### **Задача 3**\n",
        "\n",
        "Напишите `EnhancedAnalysis`"
      ]
    },
    {
      "cell_type": "markdown",
      "metadata": {
        "id": "GOTB--hmt2xw"
      },
      "source": [
        "**Решение**\n",
        "\n",
        "Напишите свое решение ниже"
      ]
    },
    {
      "cell_type": "code",
      "execution_count": 83,
      "metadata": {
        "id": "fz7nRb_ntKMv"
      },
      "outputs": [],
      "source": [
        "class EnhancedAnalysis(Analysis):\n",
        "  @staticmethod\n",
        "  def find_tasks_with_keywords(project, keywords):\n",
        "    tasks = []\n",
        "    for proj in project.tasks:\n",
        "      for kw in keywords:\n",
        "        if kw in proj.get_description():\n",
        "          tasks.append(proj)\n",
        "    return tasks"
      ]
    },
    {
      "cell_type": "code",
      "execution_count": 84,
      "metadata": {
        "cellView": "form",
        "colab": {
          "base_uri": "https://localhost:8080/"
        },
        "id": "KzV-hUKcvxb2",
        "outputId": "0ae6c527-056b-463c-b09a-58bd15fd4471"
      },
      "outputs": [
        {
          "name": "stdout",
          "output_type": "stream",
          "text": [
            "Поздравляем, Вы справились!\n"
          ]
        }
      ],
      "source": [
        "#@title ✏️ Проверка: чтобы проверить свое решение запустите код в этой ячейке\n",
        "keywords = [\"срочно\"]\n",
        "found_tasks = EnhancedAnalysis.find_tasks_with_keywords(project, keywords)\n",
        "res5 = []\n",
        "for task in found_tasks:\n",
        "  res5.append(task.get_name())\n",
        "\n",
        "try:\n",
        "    assert res5 == ['Задача 4']\n",
        "except AssertionError:\n",
        "    print('Ответы не совпадают')\n",
        "else:\n",
        "    print('Поздравляем, Вы справились!')"
      ]
    }
  ],
  "metadata": {
    "colab": {
      "provenance": []
    },
    "kernelspec": {
      "display_name": "Python 3",
      "name": "python3"
    },
    "language_info": {
      "name": "python"
    }
  },
  "nbformat": 4,
  "nbformat_minor": 0
}

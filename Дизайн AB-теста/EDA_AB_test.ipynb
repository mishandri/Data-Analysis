{
 "cells": [
  {
   "cell_type": "markdown",
   "id": "bd62650f",
   "metadata": {},
   "source": [
    "# A/B - test"
   ]
  },
  {
   "cell_type": "markdown",
   "id": "b8ec9eb0",
   "metadata": {},
   "source": [
    "Итак... Проверим **Гипотезу 7.** Добавить возможность издателям добавлять свои \"Платные элементы\" в блок \"Это интересно\" за дополнительную плату, что увеличит общую выручку на 15%\n",
    "\n",
    "Или:\n",
    "\n",
    "H0: Добавить возможность издателям добавлять свои \"Платные элементы\" в блок \"Это интересно\" за дополнительную плату, не увеличит общую выручку\n",
    "\n",
    "H1: Добавить возможность издателям добавлять свои \"Платные элементы\" в блок \"Это интересно\" за дополнительную плату, что увеличит общую выручку на 15%"
   ]
  },
  {
   "cell_type": "markdown",
   "id": "6b54542c",
   "metadata": {},
   "source": [
    "После проведения теста, у нас есть файл с результатами `AB_Test_revenue_only.csv`"
   ]
  },
  {
   "cell_type": "code",
   "execution_count": 1,
   "id": "ddc68350",
   "metadata": {},
   "outputs": [],
   "source": [
    "import pandas as pd\n",
    "import numpy as np\n",
    "from scipy import stats\n",
    "\n",
    "import hashlib\n",
    "\n",
    "import matplotlib.pyplot as plt\n",
    "import seaborn as sns"
   ]
  },
  {
   "cell_type": "code",
   "execution_count": 2,
   "id": "3c7e1e66",
   "metadata": {},
   "outputs": [],
   "source": [
    "# прочитаем данные\n",
    "path = 'AB_Test_revenue_only.csv'\n",
    "df = pd.read_csv(path, sep=';')"
   ]
  },
  {
   "cell_type": "code",
   "execution_count": 3,
   "id": "8928205e",
   "metadata": {},
   "outputs": [
    {
     "name": "stdout",
     "output_type": "stream",
     "text": [
      "<class 'pandas.core.frame.DataFrame'>\n",
      "RangeIndex: 10000 entries, 0 to 9999\n",
      "Data columns (total 3 columns):\n",
      " #   Column        Non-Null Count  Dtype  \n",
      "---  ------        --------------  -----  \n",
      " 0   user_id       10000 non-null  int64  \n",
      " 1   variant_name  10000 non-null  object \n",
      " 2   revenue       10000 non-null  float64\n",
      "dtypes: float64(1), int64(1), object(1)\n",
      "memory usage: 234.5+ KB\n"
     ]
    }
   ],
   "source": [
    "df.info()"
   ]
  },
  {
   "cell_type": "code",
   "execution_count": 4,
   "id": "d432b3d4",
   "metadata": {},
   "outputs": [
    {
     "data": {
      "application/vnd.microsoft.datawrangler.viewer.v0+json": {
       "columns": [
        {
         "name": "index",
         "rawType": "int64",
         "type": "integer"
        },
        {
         "name": "user_id",
         "rawType": "int64",
         "type": "integer"
        },
        {
         "name": "variant_name",
         "rawType": "object",
         "type": "string"
        },
        {
         "name": "revenue",
         "rawType": "float64",
         "type": "float"
        }
       ],
       "ref": "bf167ab7-a978-47f5-8731-8891cd50d180",
       "rows": [
        [
         "0",
         "9468",
         "control",
         "8.528104691935328"
        ],
        [
         "1",
         "9446",
         "control",
         "5.800314416734446"
        ],
        [
         "2",
         "8872",
         "control",
         "6.957475968211479"
        ]
       ],
       "shape": {
        "columns": 3,
        "rows": 3
       }
      },
      "text/html": [
       "<div>\n",
       "<style scoped>\n",
       "    .dataframe tbody tr th:only-of-type {\n",
       "        vertical-align: middle;\n",
       "    }\n",
       "\n",
       "    .dataframe tbody tr th {\n",
       "        vertical-align: top;\n",
       "    }\n",
       "\n",
       "    .dataframe thead th {\n",
       "        text-align: right;\n",
       "    }\n",
       "</style>\n",
       "<table border=\"1\" class=\"dataframe\">\n",
       "  <thead>\n",
       "    <tr style=\"text-align: right;\">\n",
       "      <th></th>\n",
       "      <th>user_id</th>\n",
       "      <th>variant_name</th>\n",
       "      <th>revenue</th>\n",
       "    </tr>\n",
       "  </thead>\n",
       "  <tbody>\n",
       "    <tr>\n",
       "      <th>0</th>\n",
       "      <td>9468</td>\n",
       "      <td>control</td>\n",
       "      <td>8.528105</td>\n",
       "    </tr>\n",
       "    <tr>\n",
       "      <th>1</th>\n",
       "      <td>9446</td>\n",
       "      <td>control</td>\n",
       "      <td>5.800314</td>\n",
       "    </tr>\n",
       "    <tr>\n",
       "      <th>2</th>\n",
       "      <td>8872</td>\n",
       "      <td>control</td>\n",
       "      <td>6.957476</td>\n",
       "    </tr>\n",
       "  </tbody>\n",
       "</table>\n",
       "</div>"
      ],
      "text/plain": [
       "   user_id variant_name   revenue\n",
       "0     9468      control  8.528105\n",
       "1     9446      control  5.800314\n",
       "2     8872      control  6.957476"
      ]
     },
     "execution_count": 4,
     "metadata": {},
     "output_type": "execute_result"
    }
   ],
   "source": [
    "df.head(3)"
   ]
  },
  {
   "cell_type": "markdown",
   "id": "6ddd67e3",
   "metadata": {},
   "source": [
    "1. Проверим пересечения групп. Посчитаем количество уникальных групп для каждого участника и посмотрим общее количество пользователей, попавших в обе группы, т.е. у которых это количество > 1"
   ]
  },
  {
   "cell_type": "code",
   "execution_count": 5,
   "id": "805679c7",
   "metadata": {},
   "outputs": [
    {
     "data": {
      "application/vnd.microsoft.datawrangler.viewer.v0+json": {
       "columns": [
        {
         "name": "user_id",
         "rawType": "int64",
         "type": "integer"
        },
        {
         "name": "variant_name",
         "rawType": "int64",
         "type": "integer"
        }
       ],
       "ref": "1512da9e-fd12-4c68-8dfc-5af5ee2422c3",
       "rows": [
        [
         "2",
         "1"
        ],
        [
         "3",
         "2"
        ],
        [
         "4",
         "1"
        ],
        [
         "5",
         "1"
        ],
        [
         "6",
         "1"
        ],
        [
         "9",
         "1"
        ],
        [
         "10",
         "2"
        ],
        [
         "11",
         "1"
        ],
        [
         "12",
         "1"
        ],
        [
         "13",
         "1"
        ],
        [
         "15",
         "1"
        ],
        [
         "18",
         "2"
        ],
        [
         "19",
         "1"
        ],
        [
         "20",
         "1"
        ],
        [
         "21",
         "1"
        ],
        [
         "25",
         "2"
        ],
        [
         "26",
         "1"
        ],
        [
         "28",
         "1"
        ],
        [
         "29",
         "1"
        ],
        [
         "32",
         "1"
        ],
        [
         "34",
         "1"
        ],
        [
         "35",
         "1"
        ],
        [
         "36",
         "1"
        ],
        [
         "40",
         "2"
        ],
        [
         "42",
         "1"
        ],
        [
         "45",
         "1"
        ],
        [
         "47",
         "1"
        ],
        [
         "48",
         "1"
        ],
        [
         "49",
         "1"
        ],
        [
         "51",
         "1"
        ],
        [
         "53",
         "1"
        ],
        [
         "54",
         "1"
        ],
        [
         "56",
         "1"
        ],
        [
         "57",
         "2"
        ],
        [
         "58",
         "1"
        ],
        [
         "59",
         "1"
        ],
        [
         "60",
         "2"
        ],
        [
         "61",
         "1"
        ],
        [
         "62",
         "1"
        ],
        [
         "63",
         "1"
        ],
        [
         "64",
         "2"
        ],
        [
         "66",
         "1"
        ],
        [
         "67",
         "2"
        ],
        [
         "71",
         "1"
        ],
        [
         "72",
         "1"
        ],
        [
         "74",
         "1"
        ],
        [
         "77",
         "1"
        ],
        [
         "78",
         "1"
        ],
        [
         "79",
         "1"
        ],
        [
         "80",
         "1"
        ]
       ],
       "shape": {
        "columns": 1,
        "rows": 6324
       }
      },
      "text/plain": [
       "user_id\n",
       "2        1\n",
       "3        2\n",
       "4        1\n",
       "5        1\n",
       "6        1\n",
       "        ..\n",
       "9993     1\n",
       "9995     1\n",
       "9996     2\n",
       "9998     1\n",
       "10000    2\n",
       "Name: variant_name, Length: 6324, dtype: int64"
      ]
     },
     "execution_count": 5,
     "metadata": {},
     "output_type": "execute_result"
    }
   ],
   "source": [
    "user_group_counts = df.groupby('user_id')['variant_name'].nunique()\n",
    "user_group_counts"
   ]
  },
  {
   "cell_type": "code",
   "execution_count": 6,
   "id": "42eadf1b",
   "metadata": {},
   "outputs": [
    {
     "data": {
      "application/vnd.microsoft.datawrangler.viewer.v0+json": {
       "columns": [
        {
         "name": "user_id",
         "rawType": "int64",
         "type": "integer"
        },
        {
         "name": "variant_name",
         "rawType": "int64",
         "type": "integer"
        }
       ],
       "ref": "fb066030-6119-4625-8a12-8b9d49fb3f67",
       "rows": [
        [
         "3",
         "2"
        ],
        [
         "10",
         "2"
        ],
        [
         "18",
         "2"
        ],
        [
         "25",
         "2"
        ],
        [
         "40",
         "2"
        ],
        [
         "57",
         "2"
        ],
        [
         "60",
         "2"
        ],
        [
         "64",
         "2"
        ],
        [
         "67",
         "2"
        ],
        [
         "86",
         "2"
        ],
        [
         "98",
         "2"
        ],
        [
         "104",
         "2"
        ],
        [
         "110",
         "2"
        ],
        [
         "114",
         "2"
        ],
        [
         "140",
         "2"
        ],
        [
         "144",
         "2"
        ],
        [
         "151",
         "2"
        ],
        [
         "152",
         "2"
        ],
        [
         "155",
         "2"
        ],
        [
         "158",
         "2"
        ],
        [
         "162",
         "2"
        ],
        [
         "171",
         "2"
        ],
        [
         "186",
         "2"
        ],
        [
         "187",
         "2"
        ],
        [
         "194",
         "2"
        ],
        [
         "203",
         "2"
        ],
        [
         "206",
         "2"
        ],
        [
         "208",
         "2"
        ],
        [
         "212",
         "2"
        ],
        [
         "218",
         "2"
        ],
        [
         "225",
         "2"
        ],
        [
         "239",
         "2"
        ],
        [
         "245",
         "2"
        ],
        [
         "250",
         "2"
        ],
        [
         "256",
         "2"
        ],
        [
         "263",
         "2"
        ],
        [
         "268",
         "2"
        ],
        [
         "284",
         "2"
        ],
        [
         "287",
         "2"
        ],
        [
         "292",
         "2"
        ],
        [
         "298",
         "2"
        ],
        [
         "303",
         "2"
        ],
        [
         "306",
         "2"
        ],
        [
         "307",
         "2"
        ],
        [
         "311",
         "2"
        ],
        [
         "333",
         "2"
        ],
        [
         "334",
         "2"
        ],
        [
         "335",
         "2"
        ],
        [
         "342",
         "2"
        ],
        [
         "345",
         "2"
        ]
       ],
       "shape": {
        "columns": 1,
        "rows": 1541
       }
      },
      "text/plain": [
       "user_id\n",
       "3        2\n",
       "10       2\n",
       "18       2\n",
       "25       2\n",
       "40       2\n",
       "        ..\n",
       "9978     2\n",
       "9979     2\n",
       "9982     2\n",
       "9996     2\n",
       "10000    2\n",
       "Name: variant_name, Length: 1541, dtype: int64"
      ]
     },
     "execution_count": 6,
     "metadata": {},
     "output_type": "execute_result"
    }
   ],
   "source": [
    "users_in_multiple_groups = user_group_counts[user_group_counts > 1]\n",
    "users_in_multiple_groups"
   ]
  },
  {
   "cell_type": "code",
   "execution_count": 7,
   "id": "fa949f3a",
   "metadata": {},
   "outputs": [
    {
     "data": {
      "text/plain": [
       "1541"
      ]
     },
     "execution_count": 7,
     "metadata": {},
     "output_type": "execute_result"
    }
   ],
   "source": [
    "num_users_in_multiple_groups = len(users_in_multiple_groups)\n",
    "num_users_in_multiple_groups"
   ]
  },
  {
   "cell_type": "markdown",
   "id": "b2438e79",
   "metadata": {},
   "source": [
    "2. Создаем множества (sets) для каждой группы пользователей (A и B) и найдём пересечение множеств для пользователей, входящих и в группу A, и в группу B"
   ]
  },
  {
   "cell_type": "code",
   "execution_count": 8,
   "id": "60992049",
   "metadata": {},
   "outputs": [],
   "source": [
    "users_in_group_A = set(df[df['variant_name'] == 'control']['user_id'])\n",
    "users_in_group_B = set(df[df['variant_name'] == 'variant']['user_id'])"
   ]
  },
  {
   "cell_type": "code",
   "execution_count": 9,
   "id": "19541d57",
   "metadata": {},
   "outputs": [
    {
     "name": "stdout",
     "output_type": "stream",
     "text": [
      "Количество пользователей, входящих в обе группы: 1541\n",
      "Пример пользователей, входящих в обе группы:\n",
      "{8192, 3, 8198, 8199, 10, 18, 25, 8220, 8223, 40, 57, 60, 8252, 64, 67, 8267, 8271, 8275, 8278, 86, 8281, 8287, 98, 8293, 104, 8300, 110, 8303, 114, 8310, 8316, 8322, 140, 144, 8339, 8340, 151, 152, 8347, 155, 8349, 158, 162, 8359, 171, 8366, 8370, 186, 187, 194, 8389, 203, 8396, 206, 208, 212, 8406, 218, 8413, 8416, 225, 8419, 8424, 239, 8432, 8437, 245, 250, 8448, 256, 8452, 263, 268, 8462, 8469, 8471, 8474, 284, 8478, 287, 8479, 8484, 292, 298, 303, 8496, 306, 307, 8498, 8501, 311, 8505, 8510, 8517, 333, 334, 335, 8527, 8530, 342, 345, 346, 8542, 351, 362, 364, 8558, 368, 8561, 370, 8564, 8566, 377, 8570, 8571, 8572, 8575, 384, 8579, 8581, 393, 8587, 395, 8589, 8591, 402, 403, 405, 8599, 8604, 413, 416, 8609, 8614, 8619, 427, 8621, 441, 8634, 442, 444, 8640, 8643, 8644, 456, 457, 8653, 464, 8660, 8664, 8672, 8676, 8684, 500, 8696, 8698, 8700, 8704, 8705, 8710, 8717, 537, 8730, 539, 542, 546, 550, 8747, 8757, 8761, 573, 576, 8768, 578, 582, 8775, 585, 588, 8781, 8783, 596, 598, 8793, 8796, 8801, 8802, 613, 618, 622, 8817, 8818, 629, 631, 633, 8832, 8842, 8844, 652, 655, 8848, 656, 8853, 8856, 668, 670, 8863, 674, 8869, 678, 679, 8872, 688, 701, 702, 714, 8910, 8918, 8921, 8922, 730, 732, 8944, 752, 757, 8954, 763, 8955, 8962, 8970, 779, 8974, 8976, 8977, 787, 789, 791, 792, 8984, 8990, 800, 8993, 8996, 8998, 8999, 9002, 812, 813, 9006, 815, 816, 9010, 9015, 824, 9017, 828, 829, 9023, 831, 9025, 834, 9030, 839, 9038, 850, 9051, 860, 872, 9064, 875, 9072, 9073, 881, 9075, 9074, 887, 890, 892, 893, 9085, 9086, 897, 9091, 9094, 9099, 9101, 913, 9110, 9113, 923, 9120, 930, 933, 942, 9135, 945, 9140, 957, 9150, 961, 963, 969, 972, 9166, 984, 9181, 9188, 997, 9190, 999, 9192, 998, 1009, 1010, 9203, 9205, 9207, 9214, 1028, 9224, 1033, 1036, 1037, 9228, 9232, 1042, 9234, 1045, 1058, 9252, 9255, 1063, 9257, 1066, 1068, 1069, 1072, 1073, 1074, 1075, 1077, 1079, 1085, 9280, 9282, 9284, 9285, 9287, 1097, 9290, 1101, 1102, 1105, 9298, 1106, 9303, 9319, 1133, 1134, 1137, 1139, 1144, 1145, 9339, 9340, 1148, 9342, 9345, 1153, 1157, 1172, 9365, 1177, 1179, 1180, 9371, 9372, 9375, 1185, 9381, 1190, 1191, 9384, 9387, 9388, 9391, 1201, 1202, 1204, 9397, 1212, 9408, 9411, 9412, 9418, 1229, 1231, 1232, 9426, 9429, 9430, 9442, 1252, 9446, 1254, 1258, 1260, 9459, 9461, 1271, 9463, 9465, 1275, 1276, 9470, 1282, 9477, 9478, 1293, 1294, 9492, 9496, 1305, 1320, 1324, 1334, 1335, 9527, 1337, 9526, 9533, 1342, 1341, 1351, 1358, 1362, 1367, 1372, 1380, 1386, 1387, 9581, 1398, 9591, 1400, 1410, 9604, 9605, 1419, 1420, 1422, 9615, 9617, 1432, 9624, 9626, 1438, 1442, 9636, 9637, 1446, 1454, 1467, 9661, 9664, 1474, 9669, 1478, 9671, 1480, 9677, 1490, 1491, 1493, 1498, 9692, 9694, 9696, 9698, 1510, 9704, 1513, 9709, 9711, 1520, 1524, 9723, 1537, 1540, 1541, 1543, 9735, 9737, 1546, 9743, 9746, 1560, 1561, 1564, 1568, 1576, 9778, 1587, 9780, 9784, 1595, 1596, 1600, 9802, 1611, 9807, 9811, 9820, 9824, 9826, 9837, 9839, 1650, 9847, 1656, 1660, 9855, 9864, 9873, 9874, 1687, 9881, 1694, 9887, 1696, 9893, 1701, 9895, 1718, 1723, 9915, 1726, 9923, 1733, 1734, 9933, 1741, 9940, 9942, 1751, 9961, 1770, 1779, 9973, 1785, 9978, 9979, 1789, 9982, 1794, 9996, 10000, 1814, 1816, 1817, 1818, 1822, 1832, 1837, 1858, 1861, 1867, 1887, 1890, 1906, 1910, 1913, 1918, 1923, 1934, 1936, 1937, 1947, 1948, 1950, 1951, 1955, 1959, 1967, 1980, 1981, 1989, 1991, 1993, 1996, 1997, 2000, 2021, 2030, 2032, 2039, 2055, 2062, 2069, 2070, 2072, 2082, 2093, 2098, 2101, 2102, 2116, 2120, 2123, 2165, 2168, 2170, 2175, 2182, 2184, 2187, 2195, 2211, 2213, 2217, 2229, 2231, 2232, 2235, 2236, 2239, 2245, 2249, 2250, 2252, 2258, 2261, 2272, 2274, 2281, 2284, 2289, 2302, 2305, 2310, 2318, 2328, 2336, 2347, 2348, 2359, 2362, 2364, 2368, 2370, 2376, 2383, 2385, 2388, 2396, 2423, 2427, 2429, 2431, 2437, 2443, 2444, 2445, 2446, 2459, 2460, 2464, 2487, 2489, 2494, 2502, 2512, 2520, 2522, 2525, 2529, 2535, 2545, 2563, 2566, 2575, 2579, 2580, 2582, 2588, 2592, 2596, 2597, 2600, 2604, 2609, 2610, 2612, 2613, 2616, 2629, 2634, 2635, 2645, 2647, 2653, 2657, 2662, 2665, 2667, 2673, 2680, 2687, 2691, 2699, 2700, 2703, 2719, 2734, 2741, 2744, 2749, 2750, 2752, 2755, 2765, 2767, 2787, 2788, 2792, 2815, 2822, 2824, 2831, 2835, 2847, 2849, 2871, 2875, 2881, 2884, 2892, 2903, 2910, 2913, 2923, 2929, 2938, 2940, 2945, 2947, 2954, 2958, 2973, 2991, 2999, 3001, 3003, 3006, 3011, 3017, 3024, 3026, 3028, 3029, 3040, 3053, 3054, 3061, 3088, 3089, 3090, 3094, 3095, 3102, 3112, 3119, 3121, 3123, 3125, 3128, 3134, 3141, 3146, 3150, 3152, 3166, 3168, 3178, 3182, 3198, 3208, 3209, 3211, 3229, 3235, 3246, 3256, 3263, 3266, 3269, 3284, 3286, 3287, 3301, 3302, 3314, 3320, 3325, 3329, 3333, 3339, 3346, 3352, 3353, 3354, 3359, 3364, 3365, 3374, 3388, 3394, 3399, 3404, 3405, 3411, 3415, 3416, 3420, 3427, 3429, 3437, 3440, 3444, 3459, 3460, 3464, 3483, 3486, 3493, 3497, 3505, 3506, 3509, 3516, 3524, 3525, 3534, 3540, 3545, 3546, 3550, 3552, 3563, 3566, 3581, 3583, 3604, 3605, 3610, 3615, 3617, 3621, 3645, 3647, 3680, 3682, 3685, 3729, 3732, 3735, 3741, 3743, 3745, 3754, 3756, 3773, 3775, 3792, 3793, 3799, 3811, 3815, 3816, 3817, 3818, 3821, 3828, 3836, 3844, 3855, 3866, 3867, 3872, 3878, 3886, 3887, 3916, 3925, 3928, 3936, 3946, 3960, 3966, 3972, 3977, 3983, 3998, 4001, 4005, 4018, 4034, 4053, 4064, 4068, 4104, 4110, 4114, 4129, 4146, 4153, 4156, 4159, 4165, 4169, 4184, 4187, 4190, 4191, 4194, 4197, 4200, 4204, 4209, 4220, 4225, 4228, 4244, 4253, 4255, 4266, 4282, 4284, 4299, 4303, 4317, 4318, 4319, 4336, 4338, 4343, 4344, 4351, 4363, 4371, 4383, 4384, 4400, 4403, 4404, 4411, 4422, 4432, 4436, 4446, 4448, 4450, 4474, 4477, 4489, 4493, 4504, 4507, 4508, 4509, 4512, 4515, 4525, 4530, 4535, 4543, 4550, 4553, 4554, 4558, 4572, 4577, 4580, 4585, 4586, 4593, 4595, 4598, 4600, 4605, 4608, 4615, 4616, 4617, 4625, 4626, 4641, 4647, 4651, 4654, 4671, 4680, 4688, 4697, 4699, 4705, 4716, 4724, 4735, 4740, 4741, 4744, 4745, 4749, 4751, 4755, 4764, 4765, 4771, 4779, 4788, 4799, 4801, 4828, 4833, 4834, 4837, 4844, 4849, 4851, 4853, 4855, 4865, 4870, 4871, 4874, 4879, 4883, 4894, 4904, 4923, 4927, 4931, 4942, 4950, 4953, 4962, 4964, 4965, 4967, 4970, 4971, 4976, 4979, 4980, 4990, 4996, 5004, 5010, 5015, 5025, 5026, 5037, 5041, 5046, 5051, 5052, 5053, 5060, 5067, 5070, 5072, 5075, 5077, 5079, 5088, 5092, 5094, 5096, 5097, 5111, 5113, 5119, 5130, 5131, 5135, 5136, 5138, 5141, 5142, 5168, 5180, 5189, 5192, 5205, 5212, 5216, 5223, 5231, 5242, 5248, 5251, 5253, 5257, 5258, 5270, 5276, 5284, 5290, 5311, 5314, 5317, 5318, 5324, 5340, 5353, 5354, 5360, 5377, 5404, 5408, 5410, 5414, 5416, 5417, 5448, 5454, 5461, 5469, 5472, 5474, 5476, 5480, 5503, 5505, 5509, 5518, 5524, 5526, 5527, 5533, 5537, 5541, 5546, 5569, 5570, 5574, 5583, 5591, 5594, 5596, 5599, 5614, 5616, 5621, 5628, 5648, 5670, 5671, 5686, 5690, 5691, 5692, 5693, 5699, 5700, 5701, 5703, 5705, 5708, 5709, 5734, 5746, 5747, 5753, 5769, 5771, 5785, 5789, 5792, 5795, 5798, 5804, 5815, 5821, 5827, 5828, 5834, 5845, 5863, 5868, 5873, 5875, 5879, 5886, 5888, 5890, 5892, 5894, 5897, 5903, 5905, 5910, 5927, 5935, 5940, 5942, 5965, 5967, 5974, 5977, 5984, 5985, 5989, 5990, 6006, 6013, 6015, 6017, 6018, 6050, 6055, 6066, 6067, 6073, 6087, 6093, 6106, 6107, 6134, 6138, 6140, 6147, 6162, 6164, 6167, 6169, 6170, 6177, 6180, 6189, 6190, 6193, 6195, 6196, 6205, 6210, 6213, 6214, 6228, 6231, 6235, 6236, 6238, 6252, 6260, 6274, 6278, 6308, 6321, 6322, 6331, 6332, 6333, 6334, 6338, 6340, 6341, 6346, 6350, 6352, 6366, 6373, 6377, 6384, 6389, 6391, 6393, 6400, 6407, 6415, 6421, 6430, 6456, 6470, 6473, 6479, 6482, 6485, 6488, 6492, 6497, 6505, 6513, 6530, 6534, 6537, 6539, 6549, 6557, 6583, 6588, 6591, 6601, 6607, 6614, 6617, 6638, 6647, 6653, 6654, 6666, 6667, 6669, 6678, 6697, 6700, 6703, 6704, 6713, 6717, 6724, 6725, 6729, 6735, 6745, 6746, 6750, 6755, 6759, 6762, 6763, 6788, 6792, 6793, 6796, 6798, 6799, 6802, 6812, 6816, 6819, 6842, 6844, 6848, 6851, 6854, 6855, 6861, 6865, 6866, 6871, 6874, 6876, 6881, 6885, 6893, 6910, 6914, 6916, 6941, 6942, 6960, 6988, 6998, 7002, 7005, 7006, 7008, 7017, 7027, 7036, 7047, 7048, 7051, 7057, 7073, 7081, 7083, 7088, 7089, 7098, 7101, 7104, 7119, 7127, 7128, 7131, 7134, 7137, 7142, 7149, 7150, 7163, 7167, 7171, 7176, 7179, 7197, 7199, 7206, 7209, 7228, 7238, 7247, 7249, 7254, 7259, 7268, 7269, 7278, 7311, 7314, 7327, 7347, 7350, 7358, 7362, 7368, 7390, 7396, 7405, 7409, 7413, 7416, 7423, 7424, 7445, 7450, 7466, 7471, 7476, 7477, 7495, 7505, 7514, 7516, 7524, 7530, 7533, 7541, 7544, 7545, 7554, 7561, 7573, 7575, 7579, 7600, 7601, 7605, 7643, 7659, 7662, 7669, 7691, 7692, 7693, 7696, 7697, 7704, 7705, 7708, 7710, 7712, 7719, 7720, 7742, 7747, 7760, 7763, 7769, 7771, 7773, 7775, 7794, 7803, 7814, 7824, 7825, 7826, 7835, 7842, 7845, 7849, 7851, 7860, 7864, 7867, 7871, 7887, 7895, 7899, 7901, 7908, 7915, 7925, 7931, 7937, 7942, 7947, 7951, 7956, 7958, 7964, 7965, 7967, 7969, 7975, 7990, 7992, 8002, 8009, 8014, 8027, 8028, 8031, 8036, 8038, 8043, 8044, 8053, 8059, 8065, 8066, 8069, 8092, 8093, 8099, 8105, 8106, 8109, 8124, 8142, 8151, 8165, 8168, 8174, 8175, 8180, 8185, 8186}\n"
     ]
    }
   ],
   "source": [
    "users_in_both_groups = users_in_group_A.intersection(users_in_group_B)\n",
    "\n",
    "# Выводим результат\n",
    "print(f\"Количество пользователей, входящих в обе группы: {len(users_in_both_groups)}\")\n",
    "\n",
    "# Выводим пример пользователей, входящих в обе группы\n",
    "print(\"Пример пользователей, входящих в обе группы:\")\n",
    "print(users_in_both_groups)"
   ]
  },
  {
   "cell_type": "markdown",
   "id": "7d38ba12",
   "metadata": {},
   "source": [
    "Для очистки выбросов можно написать функцию и проанализировать, сколько данных срезается, если ее использовать. Если удаляется более 1-5% данных, то можно регулировать значения перцентилей под вашу задачу.\n",
    "\n",
    "Эта функция удаляет значения, выходящие за пределы интерквартильного диапазона:"
   ]
  },
  {
   "cell_type": "code",
   "execution_count": 10,
   "id": "99b16863",
   "metadata": {},
   "outputs": [],
   "source": [
    "def remove_outliers_iqr(data):\n",
    "    Q1 = np.percentile(data, 25)\n",
    "    Q3 = np.percentile(data, 75)\n",
    "    IQR = Q3 - Q1\n",
    "    lower_bound = Q1 - 1.5 * IQR\n",
    "    upper_bound = Q3 + 1.5 * IQR\n",
    "\n",
    "      # Сохраняем только данные, которые не являются выбросами\n",
    "    cleaned_data = data[(data > lower_bound) & (data < upper_bound)]\n",
    "\n",
    "    return cleaned_data"
   ]
  },
  {
   "cell_type": "markdown",
   "id": "58ca0c0b",
   "metadata": {},
   "source": [
    "Пример использования этой функции:"
   ]
  },
  {
   "cell_type": "code",
   "execution_count": 11,
   "id": "328fea8f",
   "metadata": {},
   "outputs": [
    {
     "name": "stdout",
     "output_type": "stream",
     "text": [
      "Очищенные данные: [1 2 3 5 7 8]\n",
      "Процент удаленных данных: 14.29%\n"
     ]
    }
   ],
   "source": [
    "data = np.array([1, 2, 3, 5, 1000, 7, 8])\n",
    "cleaned_data = remove_outliers_iqr(data)\n",
    "percent_removed = ((len(data) - len(cleaned_data)) / len(data)) * 100\n",
    "print(\"Очищенные данные:\", cleaned_data)\n",
    "print(\"Процент удаленных данных: {:.2f}%\".format(percent_removed))"
   ]
  },
  {
   "cell_type": "code",
   "execution_count": 12,
   "id": "7549675d",
   "metadata": {},
   "outputs": [
    {
     "data": {
      "image/png": "[encoded data removed]",
      "text/plain": [
       "<Figure size 640x480 with 1 Axes>"
      ]
     },
     "metadata": {},
     "output_type": "display_data"
    }
   ],
   "source": [
    "plt.boxplot(df['revenue'])\n",
    "plt.show()"
   ]
  },
  {
   "cell_type": "markdown",
   "id": "f8f0265f",
   "metadata": {},
   "source": [
    "Можно создать новый датафрейм без выбросов с помощью функции выше:"
   ]
  },
  {
   "cell_type": "code",
   "execution_count": 13,
   "id": "4214f4fb",
   "metadata": {},
   "outputs": [],
   "source": [
    "cleaned_revenue = remove_outliers_iqr(df['revenue'])\n",
    "df_cleaned = df.loc[cleaned_revenue.index]"
   ]
  },
  {
   "cell_type": "markdown",
   "id": "c862f8da",
   "metadata": {},
   "source": [
    "> Замечание:\n",
    ">\n",
    "> Возвращается новый Series только с невыбросными значениями\n",
    ">\n",
    "> Этот Series сохраняет оригинальные индексы из датафрейма df\n",
    ">\n",
    "> Метод .loc[] выбирает строки датафрейма по указанным индексам\n",
    ">\n",
    "> Выбираются только те строки, индексы которых есть в cleaned_revenue.index\n",
    ">\n",
    "> Сохраняются ВСЕ столбцы датафрейма для этих строк"
   ]
  },
  {
   "cell_type": "code",
   "execution_count": 14,
   "id": "5a48f47f",
   "metadata": {},
   "outputs": [
    {
     "name": "stdout",
     "output_type": "stream",
     "text": [
      "<class 'pandas.core.frame.DataFrame'>\n",
      "Index: 9962 entries, 0 to 9999\n",
      "Data columns (total 3 columns):\n",
      " #   Column        Non-Null Count  Dtype  \n",
      "---  ------        --------------  -----  \n",
      " 0   user_id       9962 non-null   int64  \n",
      " 1   variant_name  9962 non-null   object \n",
      " 2   revenue       9962 non-null   float64\n",
      "dtypes: float64(1), int64(1), object(1)\n",
      "memory usage: 311.3+ KB\n"
     ]
    }
   ],
   "source": [
    "df_cleaned.info()"
   ]
  },
  {
   "cell_type": "code",
   "execution_count": 15,
   "id": "5c3d1dd0",
   "metadata": {},
   "outputs": [
    {
     "data": {
      "image/png": "[encoded data removed]",
      "text/plain": [
       "<Figure size 640x480 with 1 Axes>"
      ]
     },
     "metadata": {},
     "output_type": "display_data"
    }
   ],
   "source": [
    "plt.boxplot(df_cleaned['revenue'])\n",
    "plt.show()"
   ]
  },
  {
   "cell_type": "markdown",
   "id": "c8a16fb4",
   "metadata": {},
   "source": [
    "Перепишем эту функцию, чтобы она была применима к датафрейму:"
   ]
  },
  {
   "cell_type": "code",
   "execution_count": 16,
   "id": "b60aee4d",
   "metadata": {},
   "outputs": [],
   "source": [
    "def remove_outliers_iqr_from_df(df, column_name):\n",
    "    Q1 = np.percentile(df[column_name], 25)\n",
    "    Q3 = np.percentile(df[column_name], 75)\n",
    "    IQR = Q3 - Q1\n",
    "    lower_bound = Q1 - 1.5 * IQR\n",
    "    upper_bound = Q3 + 1.5 * IQR\n",
    "    \n",
    "    # Возвращаем отфильтрованный датафрейм\n",
    "    return df[(df[column_name] > lower_bound) & (df[column_name] < upper_bound)]"
   ]
  },
  {
   "cell_type": "code",
   "execution_count": 17,
   "id": "9df94a2d",
   "metadata": {},
   "outputs": [
    {
     "name": "stdout",
     "output_type": "stream",
     "text": [
      "<class 'pandas.core.frame.DataFrame'>\n",
      "Index: 9962 entries, 0 to 9999\n",
      "Data columns (total 3 columns):\n",
      " #   Column        Non-Null Count  Dtype  \n",
      "---  ------        --------------  -----  \n",
      " 0   user_id       9962 non-null   int64  \n",
      " 1   variant_name  9962 non-null   object \n",
      " 2   revenue       9962 non-null   float64\n",
      "dtypes: float64(1), int64(1), object(1)\n",
      "memory usage: 311.3+ KB\n"
     ]
    }
   ],
   "source": [
    "# Использование\n",
    "df_cleaned2 = remove_outliers_iqr_from_df(df, 'revenue')\n",
    "df_cleaned2.info()"
   ]
  },
  {
   "cell_type": "code",
   "execution_count": 18,
   "id": "213295b7",
   "metadata": {},
   "outputs": [
    {
     "data": {
      "image/png": "[encoded data removed]",
      "text/plain": [
       "<Figure size 640x480 with 1 Axes>"
      ]
     },
     "metadata": {},
     "output_type": "display_data"
    }
   ],
   "source": [
    "plt.boxplot(df_cleaned2['revenue'])\n",
    "plt.show()"
   ]
  },
  {
   "cell_type": "markdown",
   "id": "d01f536e",
   "metadata": {},
   "source": [
    "Проведем тест на равенство средних (средняя выручка). Применим t-критерий"
   ]
  },
  {
   "cell_type": "code",
   "execution_count": 31,
   "id": "b14ef0e0",
   "metadata": {},
   "outputs": [],
   "source": [
    "control = df_cleaned2[df_cleaned2['variant_name'] == 'control']['revenue']\n",
    "variant = df_cleaned2[df_cleaned2['variant_name'] == 'variant']['revenue']"
   ]
  },
  {
   "cell_type": "code",
   "execution_count": 32,
   "id": "554e3aeb",
   "metadata": {},
   "outputs": [
    {
     "data": {
      "text/plain": [
       "np.float64(4.7482293752218206e-129)"
      ]
     },
     "execution_count": 32,
     "metadata": {},
     "output_type": "execute_result"
    }
   ],
   "source": [
    "ttest_pvalue = stats.ttest_ind(control, variant, alternative='less').pvalue\n",
    "ttest_pvalue"
   ]
  },
  {
   "cell_type": "markdown",
   "id": "a705af6c",
   "metadata": {},
   "source": [
    "p-value очень близок к 0, значит H0 отвергаем.\n",
    "\n",
    "Посмотрим на сколько изменилась средняя выручка:"
   ]
  },
  {
   "cell_type": "code",
   "execution_count": 43,
   "id": "8b017a5b",
   "metadata": {},
   "outputs": [
    {
     "name": "stdout",
     "output_type": "stream",
     "text": [
      "19.14%\n"
     ]
    }
   ],
   "source": [
    "M_control = control.mean()\n",
    "M_variant = variant.mean()\n",
    "diff = (M_variant - M_control)/M_control * 100\n",
    "print(f'{diff:.2f}%')"
   ]
  },
  {
   "cell_type": "markdown",
   "id": "162445f3",
   "metadata": {},
   "source": [
    "Вывод: гипотеза верная, она привела к увеличению средней выручки"
   ]
  },
  {
   "cell_type": "code",
   "execution_count": 46,
   "id": "4cc6f782",
   "metadata": {},
   "outputs": [
    {
     "data": {
      "text/plain": [
       "np.float64(4.969289198975206)"
      ]
     },
     "execution_count": 46,
     "metadata": {},
     "output_type": "execute_result"
    }
   ],
   "source": [
    "M_control"
   ]
  }
 ],
 "metadata": {
  "kernelspec": {
   "display_name": "Python 3",
   "language": "python",
   "name": "python3"
  },
  "language_info": {
   "codemirror_mode": {
    "name": "ipython",
    "version": 3
   },
   "file_extension": ".py",
   "mimetype": "text/x-python",
   "name": "python",
   "nbconvert_exporter": "python",
   "pygments_lexer": "ipython3",
   "version": "3.11.4"
  }
 },
 "nbformat": 4,
 "nbformat_minor": 5
}

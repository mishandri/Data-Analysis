{
  "nbformat": 4,
  "nbformat_minor": 0,
  "metadata": {
    "colab": {
      "provenance": []
    },
    "kernelspec": {
      "name": "python3",
      "display_name": "Python 3"
    },
    "language_info": {
      "name": "python"
    }
  },
  "cells": [
    {
      "cell_type": "markdown",
      "source": [
        "## 2 кейс\n",
        "\n",
        "**В этом кейсе вы будете рассчитывать:**\n",
        "* самую эффективную платформу\n",
        "* самый успешный тип рекламной кампании\n",
        "* географию\n",
        "* рекламные расходы по городам\n",
        "* даты, в которые не запускались кампании\n",
        "* и еще кое-что"
      ],
      "metadata": {
        "id": "T_xBU6WvyPhY"
      }
    },
    {
      "cell_type": "markdown",
      "source": [
        "**Важно**\n",
        "\n",
        "Перед началом решения задачи выполните следующую ячейку - в ней скачиваются необходимые файлы.\n",
        "\n",
        "Работать вы будут с файлом `campaign_data.csv`."
      ],
      "metadata": {
        "id": "U2D5zGSdzc92"
      }
    },
    {
      "cell_type": "code",
      "execution_count": 1,
      "metadata": {
        "id": "3eJFMuMpyCp-",
        "colab": {
          "base_uri": "https://localhost:8080/"
        },
        "outputId": "33d29956-ed1a-42f6-bae7-d9a774530f9f"
      },
      "outputs": [
        {
          "output_type": "stream",
          "name": "stdout",
          "text": [
            "--2025-03-21 11:41:13--  https://gist.github.com/Vs8th/73045f9fe675f43ef7e63ab56f1c08bd/raw/campaign_data.csv\n",
            "Resolving gist.github.com (gist.github.com)... 140.82.121.4\n",
            "Connecting to gist.github.com (gist.github.com)|140.82.121.4|:443... connected.\n",
            "HTTP request sent, awaiting response... 301 Moved Permanently\n",
            "Location: https://gist.githubusercontent.com/Vs8th/73045f9fe675f43ef7e63ab56f1c08bd/raw/campaign_data.csv [following]\n",
            "--2025-03-21 11:41:13--  https://gist.githubusercontent.com/Vs8th/73045f9fe675f43ef7e63ab56f1c08bd/raw/campaign_data.csv\n",
            "Resolving gist.githubusercontent.com (gist.githubusercontent.com)... 185.199.111.133, 185.199.110.133, 185.199.109.133, ...\n",
            "Connecting to gist.githubusercontent.com (gist.githubusercontent.com)|185.199.111.133|:443... connected.\n",
            "HTTP request sent, awaiting response... 200 OK\n",
            "Length: 116478 (114K) [text/plain]\n",
            "Saving to: ‘campaign_data.csv’\n",
            "\n",
            "campaign_data.csv   100%[===================>] 113.75K  --.-KB/s    in 0.01s   \n",
            "\n",
            "2025-03-21 11:41:13 (8.18 MB/s) - ‘campaign_data.csv’ saved [116478/116478]\n",
            "\n",
            "--2025-03-21 11:41:13--  https://gist.github.com/Vs8th/2d55f7828343a0b5e570b47552c3affe/raw/marketing_campaigns.txt\n",
            "Resolving gist.github.com (gist.github.com)... 140.82.121.4\n",
            "Connecting to gist.github.com (gist.github.com)|140.82.121.4|:443... connected.\n",
            "HTTP request sent, awaiting response... 301 Moved Permanently\n",
            "Location: https://gist.githubusercontent.com/Vs8th/2d55f7828343a0b5e570b47552c3affe/raw/marketing_campaigns.txt [following]\n",
            "--2025-03-21 11:41:14--  https://gist.githubusercontent.com/Vs8th/2d55f7828343a0b5e570b47552c3affe/raw/marketing_campaigns.txt\n",
            "Resolving gist.githubusercontent.com (gist.githubusercontent.com)... 185.199.111.133, 185.199.110.133, 185.199.109.133, ...\n",
            "Connecting to gist.githubusercontent.com (gist.githubusercontent.com)|185.199.111.133|:443... connected.\n",
            "HTTP request sent, awaiting response... 200 OK\n",
            "Length: 2265 (2.2K) [text/plain]\n",
            "Saving to: ‘marketing_campaigns.txt’\n",
            "\n",
            "marketing_campaigns 100%[===================>]   2.21K  --.-KB/s    in 0s      \n",
            "\n",
            "2025-03-21 11:41:14 (26.2 MB/s) - ‘marketing_campaigns.txt’ saved [2265/2265]\n",
            "\n",
            "--2025-03-21 11:41:14--  https://gist.github.com/Vs8th/ff57611e607f407b186805ae15b08f1c/raw/cor_platform.txt\n",
            "Resolving gist.github.com (gist.github.com)... 140.82.121.4\n",
            "Connecting to gist.github.com (gist.github.com)|140.82.121.4|:443... connected.\n",
            "HTTP request sent, awaiting response... 301 Moved Permanently\n",
            "Location: https://gist.githubusercontent.com/Vs8th/ff57611e607f407b186805ae15b08f1c/raw/cor_platform.txt [following]\n",
            "--2025-03-21 11:41:14--  https://gist.githubusercontent.com/Vs8th/ff57611e607f407b186805ae15b08f1c/raw/cor_platform.txt\n",
            "Resolving gist.githubusercontent.com (gist.githubusercontent.com)... 185.199.108.133, 185.199.110.133, 185.199.109.133, ...\n",
            "Connecting to gist.githubusercontent.com (gist.githubusercontent.com)|185.199.108.133|:443... connected.\n",
            "HTTP request sent, awaiting response... 200 OK\n",
            "Length: 3580 (3.5K) [text/plain]\n",
            "Saving to: ‘cor_platform.txt’\n",
            "\n",
            "cor_platform.txt    100%[===================>]   3.50K  --.-KB/s    in 0s      \n",
            "\n",
            "2025-03-21 11:41:14 (23.3 MB/s) - ‘cor_platform.txt’ saved [3580/3580]\n",
            "\n"
          ]
        }
      ],
      "source": [
        "!wget https://gist.github.com/Vs8th/73045f9fe675f43ef7e63ab56f1c08bd/raw/campaign_data.csv\n",
        "\n",
        "!wget https://gist.github.com/Vs8th/2d55f7828343a0b5e570b47552c3affe/raw/marketing_campaigns.txt\n",
        "\n",
        "!wget https://gist.github.com/Vs8th/ff57611e607f407b186805ae15b08f1c/raw/cor_platform.txt"
      ]
    },
    {
      "cell_type": "code",
      "source": [
        "import pandas as pd\n",
        "\n",
        "df = pd.read_csv('campaign_data.csv')\n",
        "df"
      ],
      "metadata": {
        "id": "wDGa8T9iX4Nj",
        "colab": {
          "base_uri": "https://localhost:8080/",
          "height": 424
        },
        "outputId": "ee37076d-c4f5-4639-fed0-43fdf6d32659"
      },
      "execution_count": 2,
      "outputs": [
        {
          "output_type": "execute_result",
          "data": {
            "text/plain": [
              "      ID Кампании Начальная дата Конечная дата           Тип кампании  \\\n",
              "0               1     2022-01-01    2022-11-30            Контекстная   \n",
              "1               2     2022-01-01    2022-08-27  Поисковая оптимизация   \n",
              "2               3     2022-01-02    2022-03-11              Баннерная   \n",
              "3               4     2022-01-02    2022-06-20           Видеореклама   \n",
              "4               8     2022-01-04    2022-12-06  Поисковая оптимизация   \n",
              "...           ...            ...           ...                    ...   \n",
              "1015         1240     2022-12-28    2022-12-29           Видеореклама   \n",
              "1016         1241     2022-12-28    2022-12-29    Нативная интеграция   \n",
              "1017         1243     2022-12-28    2022-12-30    Нативная интеграция   \n",
              "1018         1245     2022-12-29    2022-12-29  Поисковая оптимизация   \n",
              "1019         1246     2022-12-30    2022-12-30              Баннерная   \n",
              "\n",
              "      Платформа  Бюджет         Город  Показы   Клики  Конверсия  Доход  \n",
              "0      Telegram   35693        Казань  3217.0   507.0        188  44205  \n",
              "1     Вконтакте    1986        Москва  1362.0   305.0         95   9964  \n",
              "2     Instagram    2020  Екатеринбург  2420.0   541.0         87  14792  \n",
              "3        Google   18684        Москва   728.0   406.0         73  13824  \n",
              "4     Вконтакте   47936  Екатеринбург   356.0   129.0         31   3908  \n",
              "...         ...     ...           ...     ...     ...        ...    ...  \n",
              "1015  Instagram   24525        Калуга  5610.0   732.0         93  12208  \n",
              "1016   Telegram    2904  Екатеринбург   937.0   199.0         44   2839  \n",
              "1017   Telegram   27913        Казань  9309.0  1280.0        128  30575  \n",
              "1018     Google   23648   Новосибирск   854.0   252.0         71  17632  \n",
              "1019   Telegram    1909  Екатеринбург   848.0   228.0         31   4298  \n",
              "\n",
              "[1020 rows x 11 columns]"
            ],
            "text/html": [
              "\n",
              "  <div id=\"df-457947be-97b1-4990-a739-6fa502b29e46\" class=\"colab-df-container\">\n",
              "    <div>\n",
              "<style scoped>\n",
              "    .dataframe tbody tr th:only-of-type {\n",
              "        vertical-align: middle;\n",
              "    }\n",
              "\n",
              "    .dataframe tbody tr th {\n",
              "        vertical-align: top;\n",
              "    }\n",
              "\n",
              "    .dataframe thead th {\n",
              "        text-align: right;\n",
              "    }\n",
              "</style>\n",
              "<table border=\"1\" class=\"dataframe\">\n",
              "  <thead>\n",
              "    <tr style=\"text-align: right;\">\n",
              "      <th></th>\n",
              "      <th>ID Кампании</th>\n",
              "      <th>Начальная дата</th>\n",
              "      <th>Конечная дата</th>\n",
              "      <th>Тип кампании</th>\n",
              "      <th>Платформа</th>\n",
              "      <th>Бюджет</th>\n",
              "      <th>Город</th>\n",
              "      <th>Показы</th>\n",
              "      <th>Клики</th>\n",
              "      <th>Конверсия</th>\n",
              "      <th>Доход</th>\n",
              "    </tr>\n",
              "  </thead>\n",
              "  <tbody>\n",
              "    <tr>\n",
              "      <th>0</th>\n",
              "      <td>1</td>\n",
              "      <td>2022-01-01</td>\n",
              "      <td>2022-11-30</td>\n",
              "      <td>Контекстная</td>\n",
              "      <td>Telegram</td>\n",
              "      <td>35693</td>\n",
              "      <td>Казань</td>\n",
              "      <td>3217.0</td>\n",
              "      <td>507.0</td>\n",
              "      <td>188</td>\n",
              "      <td>44205</td>\n",
              "    </tr>\n",
              "    <tr>\n",
              "      <th>1</th>\n",
              "      <td>2</td>\n",
              "      <td>2022-01-01</td>\n",
              "      <td>2022-08-27</td>\n",
              "      <td>Поисковая оптимизация</td>\n",
              "      <td>Вконтакте</td>\n",
              "      <td>1986</td>\n",
              "      <td>Москва</td>\n",
              "      <td>1362.0</td>\n",
              "      <td>305.0</td>\n",
              "      <td>95</td>\n",
              "      <td>9964</td>\n",
              "    </tr>\n",
              "    <tr>\n",
              "      <th>2</th>\n",
              "      <td>3</td>\n",
              "      <td>2022-01-02</td>\n",
              "      <td>2022-03-11</td>\n",
              "      <td>Баннерная</td>\n",
              "      <td>Instagram</td>\n",
              "      <td>2020</td>\n",
              "      <td>Екатеринбург</td>\n",
              "      <td>2420.0</td>\n",
              "      <td>541.0</td>\n",
              "      <td>87</td>\n",
              "      <td>14792</td>\n",
              "    </tr>\n",
              "    <tr>\n",
              "      <th>3</th>\n",
              "      <td>4</td>\n",
              "      <td>2022-01-02</td>\n",
              "      <td>2022-06-20</td>\n",
              "      <td>Видеореклама</td>\n",
              "      <td>Google</td>\n",
              "      <td>18684</td>\n",
              "      <td>Москва</td>\n",
              "      <td>728.0</td>\n",
              "      <td>406.0</td>\n",
              "      <td>73</td>\n",
              "      <td>13824</td>\n",
              "    </tr>\n",
              "    <tr>\n",
              "      <th>4</th>\n",
              "      <td>8</td>\n",
              "      <td>2022-01-04</td>\n",
              "      <td>2022-12-06</td>\n",
              "      <td>Поисковая оптимизация</td>\n",
              "      <td>Вконтакте</td>\n",
              "      <td>47936</td>\n",
              "      <td>Екатеринбург</td>\n",
              "      <td>356.0</td>\n",
              "      <td>129.0</td>\n",
              "      <td>31</td>\n",
              "      <td>3908</td>\n",
              "    </tr>\n",
              "    <tr>\n",
              "      <th>...</th>\n",
              "      <td>...</td>\n",
              "      <td>...</td>\n",
              "      <td>...</td>\n",
              "      <td>...</td>\n",
              "      <td>...</td>\n",
              "      <td>...</td>\n",
              "      <td>...</td>\n",
              "      <td>...</td>\n",
              "      <td>...</td>\n",
              "      <td>...</td>\n",
              "      <td>...</td>\n",
              "    </tr>\n",
              "    <tr>\n",
              "      <th>1015</th>\n",
              "      <td>1240</td>\n",
              "      <td>2022-12-28</td>\n",
              "      <td>2022-12-29</td>\n",
              "      <td>Видеореклама</td>\n",
              "      <td>Instagram</td>\n",
              "      <td>24525</td>\n",
              "      <td>Калуга</td>\n",
              "      <td>5610.0</td>\n",
              "      <td>732.0</td>\n",
              "      <td>93</td>\n",
              "      <td>12208</td>\n",
              "    </tr>\n",
              "    <tr>\n",
              "      <th>1016</th>\n",
              "      <td>1241</td>\n",
              "      <td>2022-12-28</td>\n",
              "      <td>2022-12-29</td>\n",
              "      <td>Нативная интеграция</td>\n",
              "      <td>Telegram</td>\n",
              "      <td>2904</td>\n",
              "      <td>Екатеринбург</td>\n",
              "      <td>937.0</td>\n",
              "      <td>199.0</td>\n",
              "      <td>44</td>\n",
              "      <td>2839</td>\n",
              "    </tr>\n",
              "    <tr>\n",
              "      <th>1017</th>\n",
              "      <td>1243</td>\n",
              "      <td>2022-12-28</td>\n",
              "      <td>2022-12-30</td>\n",
              "      <td>Нативная интеграция</td>\n",
              "      <td>Telegram</td>\n",
              "      <td>27913</td>\n",
              "      <td>Казань</td>\n",
              "      <td>9309.0</td>\n",
              "      <td>1280.0</td>\n",
              "      <td>128</td>\n",
              "      <td>30575</td>\n",
              "    </tr>\n",
              "    <tr>\n",
              "      <th>1018</th>\n",
              "      <td>1245</td>\n",
              "      <td>2022-12-29</td>\n",
              "      <td>2022-12-29</td>\n",
              "      <td>Поисковая оптимизация</td>\n",
              "      <td>Google</td>\n",
              "      <td>23648</td>\n",
              "      <td>Новосибирск</td>\n",
              "      <td>854.0</td>\n",
              "      <td>252.0</td>\n",
              "      <td>71</td>\n",
              "      <td>17632</td>\n",
              "    </tr>\n",
              "    <tr>\n",
              "      <th>1019</th>\n",
              "      <td>1246</td>\n",
              "      <td>2022-12-30</td>\n",
              "      <td>2022-12-30</td>\n",
              "      <td>Баннерная</td>\n",
              "      <td>Telegram</td>\n",
              "      <td>1909</td>\n",
              "      <td>Екатеринбург</td>\n",
              "      <td>848.0</td>\n",
              "      <td>228.0</td>\n",
              "      <td>31</td>\n",
              "      <td>4298</td>\n",
              "    </tr>\n",
              "  </tbody>\n",
              "</table>\n",
              "<p>1020 rows × 11 columns</p>\n",
              "</div>\n",
              "    <div class=\"colab-df-buttons\">\n",
              "\n",
              "  <div class=\"colab-df-container\">\n",
              "    <button class=\"colab-df-convert\" onclick=\"convertToInteractive('df-457947be-97b1-4990-a739-6fa502b29e46')\"\n",
              "            title=\"Convert this dataframe to an interactive table.\"\n",
              "            style=\"display:none;\">\n",
              "\n",
              "  <svg xmlns=\"http://www.w3.org/2000/svg\" height=\"24px\" viewBox=\"0 -960 960 960\">\n",
              "    <path d=\"M120-120v-720h720v720H120Zm60-500h600v-160H180v160Zm220 220h160v-160H400v160Zm0 220h160v-160H400v160ZM180-400h160v-160H180v160Zm440 0h160v-160H620v160ZM180-180h160v-160H180v160Zm440 0h160v-160H620v160Z\"/>\n",
              "  </svg>\n",
              "    </button>\n",
              "\n",
              "  <style>\n",
              "    .colab-df-container {\n",
              "      display:flex;\n",
              "      gap: 12px;\n",
              "    }\n",
              "\n",
              "    .colab-df-convert {\n",
              "      background-color: #E8F0FE;\n",
              "      border: none;\n",
              "      border-radius: 50%;\n",
              "      cursor: pointer;\n",
              "      display: none;\n",
              "      fill: #1967D2;\n",
              "      height: 32px;\n",
              "      padding: 0 0 0 0;\n",
              "      width: 32px;\n",
              "    }\n",
              "\n",
              "    .colab-df-convert:hover {\n",
              "      background-color: #E2EBFA;\n",
              "      box-shadow: 0px 1px 2px rgba(60, 64, 67, 0.3), 0px 1px 3px 1px rgba(60, 64, 67, 0.15);\n",
              "      fill: #174EA6;\n",
              "    }\n",
              "\n",
              "    .colab-df-buttons div {\n",
              "      margin-bottom: 4px;\n",
              "    }\n",
              "\n",
              "    [theme=dark] .colab-df-convert {\n",
              "      background-color: #3B4455;\n",
              "      fill: #D2E3FC;\n",
              "    }\n",
              "\n",
              "    [theme=dark] .colab-df-convert:hover {\n",
              "      background-color: #434B5C;\n",
              "      box-shadow: 0px 1px 3px 1px rgba(0, 0, 0, 0.15);\n",
              "      filter: drop-shadow(0px 1px 2px rgba(0, 0, 0, 0.3));\n",
              "      fill: #FFFFFF;\n",
              "    }\n",
              "  </style>\n",
              "\n",
              "    <script>\n",
              "      const buttonEl =\n",
              "        document.querySelector('#df-457947be-97b1-4990-a739-6fa502b29e46 button.colab-df-convert');\n",
              "      buttonEl.style.display =\n",
              "        google.colab.kernel.accessAllowed ? 'block' : 'none';\n",
              "\n",
              "      async function convertToInteractive(key) {\n",
              "        const element = document.querySelector('#df-457947be-97b1-4990-a739-6fa502b29e46');\n",
              "        const dataTable =\n",
              "          await google.colab.kernel.invokeFunction('convertToInteractive',\n",
              "                                                    [key], {});\n",
              "        if (!dataTable) return;\n",
              "\n",
              "        const docLinkHtml = 'Like what you see? Visit the ' +\n",
              "          '<a target=\"_blank\" href=https://colab.research.google.com/notebooks/data_table.ipynb>data table notebook</a>'\n",
              "          + ' to learn more about interactive tables.';\n",
              "        element.innerHTML = '';\n",
              "        dataTable['output_type'] = 'display_data';\n",
              "        await google.colab.output.renderOutput(dataTable, element);\n",
              "        const docLink = document.createElement('div');\n",
              "        docLink.innerHTML = docLinkHtml;\n",
              "        element.appendChild(docLink);\n",
              "      }\n",
              "    </script>\n",
              "  </div>\n",
              "\n",
              "\n",
              "<div id=\"df-54c82fa9-5e94-4404-bbc0-abf41fa0dae4\">\n",
              "  <button class=\"colab-df-quickchart\" onclick=\"quickchart('df-54c82fa9-5e94-4404-bbc0-abf41fa0dae4')\"\n",
              "            title=\"Suggest charts\"\n",
              "            style=\"display:none;\">\n",
              "\n",
              "<svg xmlns=\"http://www.w3.org/2000/svg\" height=\"24px\"viewBox=\"0 0 24 24\"\n",
              "     width=\"24px\">\n",
              "    <g>\n",
              "        <path d=\"M19 3H5c-1.1 0-2 .9-2 2v14c0 1.1.9 2 2 2h14c1.1 0 2-.9 2-2V5c0-1.1-.9-2-2-2zM9 17H7v-7h2v7zm4 0h-2V7h2v10zm4 0h-2v-4h2v4z\"/>\n",
              "    </g>\n",
              "</svg>\n",
              "  </button>\n",
              "\n",
              "<style>\n",
              "  .colab-df-quickchart {\n",
              "      --bg-color: #E8F0FE;\n",
              "      --fill-color: #1967D2;\n",
              "      --hover-bg-color: #E2EBFA;\n",
              "      --hover-fill-color: #174EA6;\n",
              "      --disabled-fill-color: #AAA;\n",
              "      --disabled-bg-color: #DDD;\n",
              "  }\n",
              "\n",
              "  [theme=dark] .colab-df-quickchart {\n",
              "      --bg-color: #3B4455;\n",
              "      --fill-color: #D2E3FC;\n",
              "      --hover-bg-color: #434B5C;\n",
              "      --hover-fill-color: #FFFFFF;\n",
              "      --disabled-bg-color: #3B4455;\n",
              "      --disabled-fill-color: #666;\n",
              "  }\n",
              "\n",
              "  .colab-df-quickchart {\n",
              "    background-color: var(--bg-color);\n",
              "    border: none;\n",
              "    border-radius: 50%;\n",
              "    cursor: pointer;\n",
              "    display: none;\n",
              "    fill: var(--fill-color);\n",
              "    height: 32px;\n",
              "    padding: 0;\n",
              "    width: 32px;\n",
              "  }\n",
              "\n",
              "  .colab-df-quickchart:hover {\n",
              "    background-color: var(--hover-bg-color);\n",
              "    box-shadow: 0 1px 2px rgba(60, 64, 67, 0.3), 0 1px 3px 1px rgba(60, 64, 67, 0.15);\n",
              "    fill: var(--button-hover-fill-color);\n",
              "  }\n",
              "\n",
              "  .colab-df-quickchart-complete:disabled,\n",
              "  .colab-df-quickchart-complete:disabled:hover {\n",
              "    background-color: var(--disabled-bg-color);\n",
              "    fill: var(--disabled-fill-color);\n",
              "    box-shadow: none;\n",
              "  }\n",
              "\n",
              "  .colab-df-spinner {\n",
              "    border: 2px solid var(--fill-color);\n",
              "    border-color: transparent;\n",
              "    border-bottom-color: var(--fill-color);\n",
              "    animation:\n",
              "      spin 1s steps(1) infinite;\n",
              "  }\n",
              "\n",
              "  @keyframes spin {\n",
              "    0% {\n",
              "      border-color: transparent;\n",
              "      border-bottom-color: var(--fill-color);\n",
              "      border-left-color: var(--fill-color);\n",
              "    }\n",
              "    20% {\n",
              "      border-color: transparent;\n",
              "      border-left-color: var(--fill-color);\n",
              "      border-top-color: var(--fill-color);\n",
              "    }\n",
              "    30% {\n",
              "      border-color: transparent;\n",
              "      border-left-color: var(--fill-color);\n",
              "      border-top-color: var(--fill-color);\n",
              "      border-right-color: var(--fill-color);\n",
              "    }\n",
              "    40% {\n",
              "      border-color: transparent;\n",
              "      border-right-color: var(--fill-color);\n",
              "      border-top-color: var(--fill-color);\n",
              "    }\n",
              "    60% {\n",
              "      border-color: transparent;\n",
              "      border-right-color: var(--fill-color);\n",
              "    }\n",
              "    80% {\n",
              "      border-color: transparent;\n",
              "      border-right-color: var(--fill-color);\n",
              "      border-bottom-color: var(--fill-color);\n",
              "    }\n",
              "    90% {\n",
              "      border-color: transparent;\n",
              "      border-bottom-color: var(--fill-color);\n",
              "    }\n",
              "  }\n",
              "</style>\n",
              "\n",
              "  <script>\n",
              "    async function quickchart(key) {\n",
              "      const quickchartButtonEl =\n",
              "        document.querySelector('#' + key + ' button');\n",
              "      quickchartButtonEl.disabled = true;  // To prevent multiple clicks.\n",
              "      quickchartButtonEl.classList.add('colab-df-spinner');\n",
              "      try {\n",
              "        const charts = await google.colab.kernel.invokeFunction(\n",
              "            'suggestCharts', [key], {});\n",
              "      } catch (error) {\n",
              "        console.error('Error during call to suggestCharts:', error);\n",
              "      }\n",
              "      quickchartButtonEl.classList.remove('colab-df-spinner');\n",
              "      quickchartButtonEl.classList.add('colab-df-quickchart-complete');\n",
              "    }\n",
              "    (() => {\n",
              "      let quickchartButtonEl =\n",
              "        document.querySelector('#df-54c82fa9-5e94-4404-bbc0-abf41fa0dae4 button');\n",
              "      quickchartButtonEl.style.display =\n",
              "        google.colab.kernel.accessAllowed ? 'block' : 'none';\n",
              "    })();\n",
              "  </script>\n",
              "</div>\n",
              "    </div>\n",
              "  </div>\n"
            ],
            "application/vnd.google.colaboratory.intrinsic+json": {
              "type": "dataframe",
              "variable_name": "df",
              "summary": "{\n  \"name\": \"df\",\n  \"rows\": 1020,\n  \"fields\": [\n    {\n      \"column\": \"ID \\u041a\\u0430\\u043c\\u043f\\u0430\\u043d\\u0438\\u0438\",\n      \"properties\": {\n        \"dtype\": \"number\",\n        \"std\": 357,\n        \"min\": 1,\n        \"max\": 1246,\n        \"num_unique_values\": 1020,\n        \"samples\": [\n          632,\n          731,\n          635\n        ],\n        \"semantic_type\": \"\",\n        \"description\": \"\"\n      }\n    },\n    {\n      \"column\": \"\\u041d\\u0430\\u0447\\u0430\\u043b\\u044c\\u043d\\u0430\\u044f \\u0434\\u0430\\u0442\\u0430\",\n      \"properties\": {\n        \"dtype\": \"object\",\n        \"num_unique_values\": 346,\n        \"samples\": [\n          \"2022-04-22\",\n          \"2022-06-14\",\n          \"2022-10-21\"\n        ],\n        \"semantic_type\": \"\",\n        \"description\": \"\"\n      }\n    },\n    {\n      \"column\": \"\\u041a\\u043e\\u043d\\u0435\\u0447\\u043d\\u0430\\u044f \\u0434\\u0430\\u0442\\u0430\",\n      \"properties\": {\n        \"dtype\": \"object\",\n        \"num_unique_values\": 257,\n        \"samples\": [\n          \"2022-12-24\",\n          \"2022-05-29\",\n          \"2022-09-28\"\n        ],\n        \"semantic_type\": \"\",\n        \"description\": \"\"\n      }\n    },\n    {\n      \"column\": \"\\u0422\\u0438\\u043f \\u043a\\u0430\\u043c\\u043f\\u0430\\u043d\\u0438\\u0438\",\n      \"properties\": {\n        \"dtype\": \"category\",\n        \"num_unique_values\": 6,\n        \"samples\": [\n          \"\\u041a\\u043e\\u043d\\u0442\\u0435\\u043a\\u0441\\u0442\\u043d\\u0430\\u044f\",\n          \"\\u041f\\u043e\\u0438\\u0441\\u043a\\u043e\\u0432\\u0430\\u044f \\u043e\\u043f\\u0442\\u0438\\u043c\\u0438\\u0437\\u0430\\u0446\\u0438\\u044f\",\n          \"\\u041d\\u0430\\u0442\\u0438\\u0432\\u043d\\u0430\\u044f \\u0438\\u043d\\u0442\\u0435\\u0433\\u0440\\u0430\\u0446\\u0438\\u044f\"\n        ],\n        \"semantic_type\": \"\",\n        \"description\": \"\"\n      }\n    },\n    {\n      \"column\": \"\\u041f\\u043b\\u0430\\u0442\\u0444\\u043e\\u0440\\u043c\\u0430\",\n      \"properties\": {\n        \"dtype\": \"category\",\n        \"num_unique_values\": 5,\n        \"samples\": [\n          \"\\u0412\\u043a\\u043e\\u043d\\u0442\\u0430\\u043a\\u0442\\u0435\",\n          \"\\u042f\\u043d\\u0434\\u0435\\u043a\\u0441\",\n          \"Instagram\"\n        ],\n        \"semantic_type\": \"\",\n        \"description\": \"\"\n      }\n    },\n    {\n      \"column\": \"\\u0411\\u044e\\u0434\\u0436\\u0435\\u0442\",\n      \"properties\": {\n        \"dtype\": \"number\",\n        \"std\": 14239,\n        \"min\": 1035,\n        \"max\": 49947,\n        \"num_unique_values\": 1008,\n        \"samples\": [\n          37865,\n          10554,\n          43427\n        ],\n        \"semantic_type\": \"\",\n        \"description\": \"\"\n      }\n    },\n    {\n      \"column\": \"\\u0413\\u043e\\u0440\\u043e\\u0434\",\n      \"properties\": {\n        \"dtype\": \"category\",\n        \"num_unique_values\": 8,\n        \"samples\": [\n          \"\\u041c\\u043e\\u0441\\u043a\\u0432\\u0430\",\n          \"\\u041a\\u0440\\u0430\\u0441\\u043d\\u043e\\u0434\\u0430\\u0440\",\n          \"\\u041a\\u0430\\u0437\\u0430\\u043d\\u044c\"\n        ],\n        \"semantic_type\": \"\",\n        \"description\": \"\"\n      }\n    },\n    {\n      \"column\": \"\\u041f\\u043e\\u043a\\u0430\\u0437\\u044b\",\n      \"properties\": {\n        \"dtype\": \"number\",\n        \"std\": 2987.7222111216347,\n        \"min\": 43.0,\n        \"max\": 18257.0,\n        \"num_unique_values\": 944,\n        \"samples\": [\n          977.0,\n          1284.0,\n          2997.0\n        ],\n        \"semantic_type\": \"\",\n        \"description\": \"\"\n      }\n    },\n    {\n      \"column\": \"\\u041a\\u043b\\u0438\\u043a\\u0438\",\n      \"properties\": {\n        \"dtype\": \"number\",\n        \"std\": 413.27878657633596,\n        \"min\": 8.0,\n        \"max\": 1947.0,\n        \"num_unique_values\": 710,\n        \"samples\": [\n          83.0,\n          462.0,\n          233.0\n        ],\n        \"semantic_type\": \"\",\n        \"description\": \"\"\n      }\n    },\n    {\n      \"column\": \"\\u041a\\u043e\\u043d\\u0432\\u0435\\u0440\\u0441\\u0438\\u044f\",\n      \"properties\": {\n        \"dtype\": \"number\",\n        \"std\": 55,\n        \"min\": 5,\n        \"max\": 199,\n        \"num_unique_values\": 195,\n        \"samples\": [\n          67,\n          139,\n          89\n        ],\n        \"semantic_type\": \"\",\n        \"description\": \"\"\n      }\n    },\n    {\n      \"column\": \"\\u0414\\u043e\\u0445\\u043e\\u0434\",\n      \"properties\": {\n        \"dtype\": \"number\",\n        \"std\": 10780,\n        \"min\": 284,\n        \"max\": 48465,\n        \"num_unique_values\": 999,\n        \"samples\": [\n          4930,\n          6720,\n          16454\n        ],\n        \"semantic_type\": \"\",\n        \"description\": \"\"\n      }\n    }\n  ]\n}"
            }
          },
          "metadata": {},
          "execution_count": 2
        }
      ]
    },
    {
      "cell_type": "markdown",
      "source": [
        "### **Найдите самую эффективную платформу по средним значениям конверсий**\n",
        "\n",
        "Cохраните результат в переменную `most_effective_platform`"
      ],
      "metadata": {
        "id": "s2g2hxfMzqLo"
      }
    },
    {
      "cell_type": "code",
      "source": [
        "# Ваше решение\n",
        "data = dict()\n",
        "count = dict()\n",
        "with open('campaign_data.csv', 'r') as f:\n",
        "  lines = f.readlines()\n",
        "  for line in lines[1:]:\n",
        "    platform = line.split(',')[4]\n",
        "    conversion = line.split(',')[9]\n",
        "    if platform not in data:\n",
        "      data[platform] = int(conversion)\n",
        "      count[platform] = 1\n",
        "    else:\n",
        "      data[platform] += int(conversion)\n",
        "      count[platform] += 1\n",
        "result_dict = {key: data[key]/count[key] for key in data}\n",
        "\n",
        "most_effective_platform = max(result_dict, key=result_dict.get)"
      ],
      "metadata": {
        "id": "u5l9mm-vzpJ8"
      },
      "execution_count": 20,
      "outputs": []
    },
    {
      "cell_type": "code",
      "source": [
        "#@title ✏️ Проверка: чтобы проверить свое решение запустите код в этой ячейке\n",
        "# Открываем файл с правильными ответами\n",
        "with open('marketing_campaigns.txt', 'r') as f:\n",
        "    answers = f.read().split('\\n')\n",
        "\n",
        "correct_answer = answers[0]\n",
        "\n",
        "try:\n",
        "    assert most_effective_platform == correct_answer\n",
        "except AssertionError:\n",
        "    print('Ответы не совпадают')\n",
        "else:\n",
        "    print('Поздравляем, Вы справились!')"
      ],
      "metadata": {
        "colab": {
          "base_uri": "https://localhost:8080/"
        },
        "cellView": "form",
        "id": "YGydKAis0Ae9",
        "outputId": "0fe3e38a-2823-45a3-971a-38e7c1065b57"
      },
      "execution_count": 21,
      "outputs": [
        {
          "output_type": "stream",
          "name": "stdout",
          "text": [
            "Поздравляем, Вы справились!\n"
          ]
        }
      ]
    },
    {
      "cell_type": "markdown",
      "source": [
        "### **Найдите самый успешный тип рекламной кампании по средним значениям конверсий**\n",
        "\n",
        "Сохраните результат в переменную `most_successful_campaign_type`"
      ],
      "metadata": {
        "id": "TbkdEVLI0Cor"
      }
    },
    {
      "cell_type": "code",
      "source": [
        "# Ваше решение\n",
        "\n",
        "\n",
        "most_successful_campaign_type"
      ],
      "metadata": {
        "id": "keCBmUDJ0Hho"
      },
      "execution_count": null,
      "outputs": []
    },
    {
      "cell_type": "code",
      "source": [
        "#@title ✏️ Проверка: чтобы проверить свое решение запустите код в этой ячейке\n",
        "correct_answer = answers[1]\n",
        "\n",
        "try:\n",
        "    assert most_successful_campaign_type == correct_answer\n",
        "except AssertionError:\n",
        "    print('Ответы не совпадают')\n",
        "else:\n",
        "    print('Поздравляем, Вы справились!')"
      ],
      "metadata": {
        "cellView": "form",
        "id": "fTwUwQZ40JCl",
        "colab": {
          "base_uri": "https://localhost:8080/"
        },
        "outputId": "c8c1b8d1-b8ff-435c-f96b-5024136cf34a"
      },
      "execution_count": null,
      "outputs": [
        {
          "output_type": "stream",
          "name": "stdout",
          "text": [
            "Поздравляем, Вы справились!\n"
          ]
        }
      ]
    },
    {
      "cell_type": "markdown",
      "source": [
        "### **Найдите самый успешный город проведения кампании по средним значениям конверсий**\n",
        "\n",
        "Сохраните результат в переменную `most_successful_city`"
      ],
      "metadata": {
        "id": "wxkhEVmF0PAo"
      }
    },
    {
      "cell_type": "code",
      "source": [
        "# Ваше решение\n",
        "\n",
        "\n",
        "most_successful_city"
      ],
      "metadata": {
        "id": "KS17l5Ux0UD3"
      },
      "execution_count": null,
      "outputs": []
    },
    {
      "cell_type": "code",
      "source": [
        "#@title ✏️ Проверка: чтобы проверить свое решение запустите код в этой ячейке\n",
        "correct_answer = answers[2]\n",
        "\n",
        "try:\n",
        "    assert most_successful_city == correct_answer\n",
        "except AssertionError:\n",
        "    print('Ответы не совпадают')\n",
        "else:\n",
        "    print('Поздравляем, Вы справились!')"
      ],
      "metadata": {
        "id": "k7s0V8hF0Vmx",
        "colab": {
          "base_uri": "https://localhost:8080/"
        },
        "outputId": "d12bf89d-58b1-413f-9ae7-ccec10035ff5",
        "cellView": "form"
      },
      "execution_count": null,
      "outputs": [
        {
          "output_type": "stream",
          "name": "stdout",
          "text": [
            "Поздравляем, Вы справились!\n"
          ]
        }
      ]
    },
    {
      "cell_type": "markdown",
      "source": [
        "### **Посчитайте долю затрат на рекламные кампании каждой платформы и каждого города**\n",
        "\n",
        "Сохраните результат в файл `platform_city_results.txt`\n",
        "\n",
        "Результат должен иметь такой же порядок групп, что и изначальный файл. А города внутри платформ должны быть отсортированы по убыванию доли затрат, а доля затрат должны быть округлена до 2 знаков после запятой."
      ],
      "metadata": {
        "id": "OrwoZ-wR0jJq"
      }
    },
    {
      "cell_type": "markdown",
      "source": [
        "Результат должен выглядеть примерно так:\n",
        "\n",
        "```\n",
        "Для группы Telegram:\n",
        "- Город: Москва, доля затрат на рекламу: 16.46%\n",
        "- Город: Калуга, доля затрат на рекламу: 16.2%\n",
        "- Город: Казань, доля затрат на рекламу: 14.57%\n",
        "- ...\n",
        "Для группы Вконтакте:\n",
        "- Город: Екатеринбург, доля затрат на рекламу: 17.43%\n",
        "- Город: Новосибирск, доля затрат на рекламу: 14.86%\n",
        "- Город: Санкт-Петербург, доля затрат на рекламу: 14.13%\n",
        "...\n",
        "```"
      ],
      "metadata": {
        "id": "WR6M7ooveTp-"
      }
    },
    {
      "cell_type": "code",
      "source": [
        "# Ваше решение\n",
        "\n"
      ],
      "metadata": {
        "id": "hKN7vidq0mJ3"
      },
      "execution_count": null,
      "outputs": []
    },
    {
      "cell_type": "code",
      "source": [
        "#@title ✏️ Проверка: чтобы проверить свое решение запустите код в этой ячейке\n",
        "\n",
        "with open('platform_city_results.txt', 'r') as file:\n",
        "    user_answer = file.readlines()\n",
        "\n",
        "with open('cor_platform.txt', 'r') as file:\n",
        "    correct_answer = file.readlines()\n",
        "\n",
        "try:\n",
        "    assert user_answer == correct_answer, 'Ответы не совпадают'\n",
        "except Exception as err:\n",
        "    raise AssertionError(f'При проверке возникла ошибка {repr(err)}')\n",
        "else:\n",
        "    print('Поздравляем, Вы справились и успешно прошли все проверки!!')"
      ],
      "metadata": {
        "cellView": "form",
        "id": "14KnR1gD0ou9",
        "colab": {
          "base_uri": "https://localhost:8080/"
        },
        "outputId": "d3eb4915-a17f-413e-d86f-8442fe6edbe8"
      },
      "execution_count": null,
      "outputs": [
        {
          "output_type": "stream",
          "name": "stdout",
          "text": [
            "Поздравляем, Вы справились и успешно прошли все проверки!!\n"
          ]
        }
      ]
    },
    {
      "cell_type": "markdown",
      "source": [
        "### **Напишите функцию, которая возвращает средний бюджет всех кампаний, запущенных на определенной платформе**\n",
        "\n",
        "Функция `calculate_average_budget` должна принимать путь к файлу и название плафтормы и возвращать число - средний бюджет всех кампаний, запущенных на данной платформе, округленный до двух знаков после запятой."
      ],
      "metadata": {
        "id": "QuO3ZwRI5mdH"
      }
    },
    {
      "cell_type": "code",
      "source": [
        "\n",
        "def calculate_average_budget():\n",
        "\n",
        "    # Ваше решение\n",
        "\n",
        "\n",
        "calculate_average_budget('campaign_data.csv', 'Google')"
      ],
      "metadata": {
        "id": "HxGWkaSp5kpo"
      },
      "execution_count": null,
      "outputs": []
    },
    {
      "cell_type": "code",
      "source": [
        "#@title ✏️ Проверка: чтобы проверить свое решение запустите код в этой ячейке\n",
        "correct_answer = answers[3]\n",
        "user_answer = str(calculate_average_budget('campaign_data.csv', 'Google'))\n",
        "\n",
        "try:\n",
        "    assert user_answer == correct_answer\n",
        "except AssertionError:\n",
        "    print('Ответы не совпадают')\n",
        "else:\n",
        "    print('Поздравляем, Вы справились!')"
      ],
      "metadata": {
        "id": "dpK4clbe5xiH",
        "colab": {
          "base_uri": "https://localhost:8080/"
        },
        "outputId": "3a1716e2-c8d8-42be-818b-e3e3306b4bd3",
        "cellView": "form"
      },
      "execution_count": null,
      "outputs": [
        {
          "output_type": "stream",
          "name": "stdout",
          "text": [
            "Поздравляем, Вы справились!\n"
          ]
        }
      ]
    },
    {
      "cell_type": "code",
      "source": [
        "#@title ✏️ Еще одна проверка: чтобы проверить свое решение запустите код в этой ячейке\n",
        "correct_answer = answers[4]\n",
        "user_answer = str(calculate_average_budget('campaign_data.csv', 'Вконтакте'))\n",
        "\n",
        "try:\n",
        "    assert user_answer == correct_answer\n",
        "except AssertionError:\n",
        "    print('Ответы не совпадают')\n",
        "else:\n",
        "    print('Поздравляем, Вы справились!')"
      ],
      "metadata": {
        "colab": {
          "base_uri": "https://localhost:8080/"
        },
        "cellView": "form",
        "id": "JZJiVbM-yiQe",
        "outputId": "5b352988-aee9-41e5-d67c-f3f5279ac268"
      },
      "execution_count": null,
      "outputs": [
        {
          "output_type": "stream",
          "name": "stdout",
          "text": [
            "Поздравляем, Вы справились!\n"
          ]
        }
      ]
    },
    {
      "cell_type": "markdown",
      "source": [
        "### **Напишите генератор, который будет генерировать даты, в которые НЕ запускались кампании**\n",
        "\n",
        "Функция `get_missing_campaign_dates` должна принимать путь к файлу и генерировать построчно даты, отсортированные по возрастанию, в которые не запускались кампании, в формате:\n",
        "\n",
        "```\n",
        "2022-02-29\n",
        "2022-03-28\n",
        "2022-03-29\n",
        "2022-05-30\n",
        "2022-06-13\n",
        "2022-06-27\n",
        "...\n",
        "```"
      ],
      "metadata": {
        "id": "QxiawT4of4Xj"
      }
    },
    {
      "cell_type": "code",
      "source": [
        "\n",
        "def get_missing_campaign_dates():\n",
        "\n",
        "    # Ваше решение\n",
        "\n",
        "\n",
        "get_missing_campaign_dates('campaign_data.csv')"
      ],
      "metadata": {
        "id": "urEWcCuk522y"
      },
      "execution_count": null,
      "outputs": []
    },
    {
      "cell_type": "code",
      "source": [
        "#@title ✏️ Проверка: чтобы проверить свое решение запустите код в этой ячейке\n",
        "from datetime import date\n",
        "\n",
        "correct_answer = answers[5]\n",
        "\n",
        "missing_dates = get_missing_campaign_dates('campaign_data.csv')\n",
        "user_answer = []\n",
        "for date in missing_dates:\n",
        "    a = date.strftime('%Y-%m-%d')\n",
        "    user_answer.append(a)\n",
        "\n",
        "try:\n",
        "    assert str(user_answer) == correct_answer\n",
        "except AssertionError:\n",
        "    print('Ответы не совпадают')\n",
        "else:\n",
        "    print('Поздравляем, Вы справились!')"
      ],
      "metadata": {
        "id": "xziXbjnJ549b",
        "colab": {
          "base_uri": "https://localhost:8080/"
        },
        "outputId": "97a9431b-e2f3-4f90-e2a3-e4bc736c1a32",
        "cellView": "form"
      },
      "execution_count": null,
      "outputs": [
        {
          "output_type": "stream",
          "name": "stdout",
          "text": [
            "Поздравляем, Вы справились!\n"
          ]
        }
      ]
    },
    {
      "cell_type": "markdown",
      "source": [
        "### **Напишите функцию, которая будет принимать на вход путь к файлу и возвращать сгруппированные данные по городам, содержащие суммарный бюджет и количество кликов**\n",
        "\n",
        "Функция `group_campaign_data` должна возвращать список словарей, отсортированный по городам, в формате:\n",
        "\n",
        "```python\n",
        "[{'Город': 'Нижний Новгород',\n",
        "  'Количество кликов': 616.0,\n",
        "  'Суммарный бюджет': 27585},\n",
        " {'Город': 'Новосибирск',\n",
        "  'Количество кликов': 733.0,\n",
        "  'Суммарный бюджет': 33001},\n",
        "  ...]\n",
        "```"
      ],
      "metadata": {
        "id": "6wxnUGpkhktX"
      }
    },
    {
      "cell_type": "code",
      "source": [
        "\n",
        "def group_campaign_data():\n",
        "\n",
        "    # Ваше решение\n",
        "\n",
        "\n",
        "group_campaign_data('campaign_data.csv')"
      ],
      "metadata": {
        "id": "hv7Nz3TN59Ds"
      },
      "execution_count": null,
      "outputs": []
    },
    {
      "cell_type": "code",
      "source": [
        "#@title ✏️ Проверка: чтобы проверить свое решение запустите код в этой ячейке\n",
        "correct_answer = answers[6]\n",
        "user_answer = str(group_campaign_data('campaign_data.csv'))\n",
        "\n",
        "try:\n",
        "    assert user_answer == correct_answer\n",
        "except AssertionError:\n",
        "    print('Ответы не совпадают')\n",
        "else:\n",
        "    print('Поздравляем, Вы справились!')"
      ],
      "metadata": {
        "id": "1csOLxor5_ox",
        "colab": {
          "base_uri": "https://localhost:8080/"
        },
        "outputId": "7b88e74a-f1cb-4e2e-9e88-dbe7c16d98fa",
        "cellView": "form"
      },
      "execution_count": null,
      "outputs": [
        {
          "output_type": "stream",
          "name": "stdout",
          "text": [
            "Поздравляем, Вы справились!\n"
          ]
        }
      ]
    },
    {
      "cell_type": "markdown",
      "source": [
        "### **Напишите генератор, который будет генерировать данные о кампаниях, запущенных в указанном городе и имеющих бюджет выше заданного значения**\n",
        "\n",
        "Функция `campaign_generator` должна принимать путь к файлу, город и бюджет и генерировать словари, отсортированные по возрастанию 'ID Кампании' в формате:\n",
        "\n",
        "```\n",
        "{'ID Кампании': '657', 'Тип': 'Контекстная', 'Платформа': 'Вконтакте', 'Доход': '10692'}\n",
        "{'ID Кампании': '674', 'Тип': 'Нативная интеграция', 'Платформа': 'Яндекс', 'Доход': '20766'}\n",
        "{'ID Кампании': '761', 'Тип': 'Соцсети', 'Платформа': 'Вконтакте', 'Доход': '15680'}\n",
        "```"
      ],
      "metadata": {
        "id": "eF6DMWtfifY7"
      }
    },
    {
      "cell_type": "code",
      "source": [
        "\n",
        "def campaign_generator():\n",
        "\n",
        "    # Ваше решение\n",
        "\n",
        "\n",
        "campaign_generator('campaign_data.csv', 'Москва', 25000)"
      ],
      "metadata": {
        "id": "mUDYPPqx6RPr"
      },
      "execution_count": null,
      "outputs": []
    },
    {
      "cell_type": "code",
      "source": [
        "#@title ✏️ Проверка: чтобы проверить свое решение запустите код в этой ячейке\n",
        "correct_answer = answers[7]\n",
        "\n",
        "campaigns = campaign_generator('campaign_data.csv', 'Москва', 48000)\n",
        "user_answer = []\n",
        "for campaign in campaigns:\n",
        "    user_answer.append(campaign)\n",
        "\n",
        "try:\n",
        "    assert str(user_answer) == correct_answer\n",
        "except AssertionError:\n",
        "    print('Ответы не совпадают')\n",
        "else:\n",
        "    print('Поздравляем, Вы справились!')"
      ],
      "metadata": {
        "id": "TbmDR4NP66qm",
        "colab": {
          "base_uri": "https://localhost:8080/"
        },
        "outputId": "3381cf7d-2f00-4473-809a-95da0d4e2575",
        "cellView": "form"
      },
      "execution_count": null,
      "outputs": [
        {
          "output_type": "stream",
          "name": "stdout",
          "text": [
            "Поздравляем, Вы справились!\n"
          ]
        }
      ]
    },
    {
      "cell_type": "code",
      "source": [
        "#@title ✏️ Еще одна проверка: чтобы проверить свое решение запустите код в этой ячейке\n",
        "correct_answer = answers[8]\n",
        "\n",
        "campaigns = campaign_generator('campaign_data.csv', 'Казань', 47000)\n",
        "user_answer = []\n",
        "for campaign in campaigns:\n",
        "    user_answer.append(campaign)\n",
        "\n",
        "try:\n",
        "    assert str(user_answer) == correct_answer\n",
        "except AssertionError:\n",
        "    print('Ответы не совпадают')\n",
        "else:\n",
        "    print('Поздравляем, Вы справились!')"
      ],
      "metadata": {
        "colab": {
          "base_uri": "https://localhost:8080/"
        },
        "cellView": "form",
        "id": "FFLSK9ti2FKu",
        "outputId": "6e729b41-62b4-406f-c73c-67da421de73c"
      },
      "execution_count": null,
      "outputs": [
        {
          "output_type": "stream",
          "name": "stdout",
          "text": [
            "Поздравляем, Вы справились!\n"
          ]
        }
      ]
    }
  ]
}
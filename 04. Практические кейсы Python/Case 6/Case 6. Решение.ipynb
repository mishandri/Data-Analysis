{
  "nbformat": 4,
  "nbformat_minor": 0,
  "metadata": {
    "colab": {
      "provenance": []
    },
    "kernelspec": {
      "name": "python3",
      "display_name": "Python 3"
    },
    "language_info": {
      "name": "python"
    }
  },
  "cells": [
    {
      "cell_type": "markdown",
      "source": [
        "## **1 кейс**\n",
        "\n",
        "**Система автопроверки**"
      ],
      "metadata": {
        "id": "XUqCUBW5fUST"
      }
    },
    {
      "cell_type": "markdown",
      "source": [
        "**Важно**\n",
        "\n",
        "Перед началом решения выполните следующую ячейку, чтобы загрузить два файла - эталонный код и код пользователя."
      ],
      "metadata": {
        "id": "OcK9kF9mfZIt"
      }
    },
    {
      "cell_type": "code",
      "execution_count": 1,
      "metadata": {
        "id": "KtNBw8nOfPsB",
        "colab": {
          "base_uri": "https://localhost:8080/"
        },
        "outputId": "82e85209-3c9f-40c3-bb89-e5b7e26bd53b"
      },
      "outputs": [
        {
          "output_type": "stream",
          "name": "stdout",
          "text": [
            "--2025-03-26 05:34:43--  https://gist.github.com/Vs8th/aafed81d81678c807a3ad3dbf93588b2/raw/user.py\n",
            "Resolving gist.github.com (gist.github.com)... 140.82.121.3\n",
            "Connecting to gist.github.com (gist.github.com)|140.82.121.3|:443... connected.\n",
            "HTTP request sent, awaiting response... 301 Moved Permanently\n",
            "Location: https://gist.githubusercontent.com/Vs8th/aafed81d81678c807a3ad3dbf93588b2/raw/user.py [following]\n",
            "--2025-03-26 05:34:43--  https://gist.githubusercontent.com/Vs8th/aafed81d81678c807a3ad3dbf93588b2/raw/user.py\n",
            "Resolving gist.githubusercontent.com (gist.githubusercontent.com)... 185.199.108.133, 185.199.109.133, 185.199.110.133, ...\n",
            "Connecting to gist.githubusercontent.com (gist.githubusercontent.com)|185.199.108.133|:443... connected.\n",
            "HTTP request sent, awaiting response... 200 OK\n",
            "Length: 106 [text/plain]\n",
            "Saving to: ‘user.py’\n",
            "\n",
            "user.py             100%[===================>]     106  --.-KB/s    in 0s      \n",
            "\n",
            "Last-modified header missing -- time-stamps turned off.\n",
            "2025-03-26 05:34:43 (1.91 MB/s) - ‘user.py’ saved [106/106]\n",
            "\n",
            "--2025-03-26 05:34:43--  https://gist.github.com/Vs8th/95f7897019a4213c76e5b65234d31e30/raw/etalon.py\n",
            "Resolving gist.github.com (gist.github.com)... 140.82.121.3\n",
            "Connecting to gist.github.com (gist.github.com)|140.82.121.3|:443... connected.\n",
            "HTTP request sent, awaiting response... 301 Moved Permanently\n",
            "Location: https://gist.githubusercontent.com/Vs8th/95f7897019a4213c76e5b65234d31e30/raw/etalon.py [following]\n",
            "--2025-03-26 05:34:43--  https://gist.githubusercontent.com/Vs8th/95f7897019a4213c76e5b65234d31e30/raw/etalon.py\n",
            "Resolving gist.githubusercontent.com (gist.githubusercontent.com)... 185.199.110.133, 185.199.108.133, 185.199.109.133, ...\n",
            "Connecting to gist.githubusercontent.com (gist.githubusercontent.com)|185.199.110.133|:443... connected.\n",
            "HTTP request sent, awaiting response... 200 OK\n",
            "Length: 31 [text/plain]\n",
            "Saving to: ‘etalon.py’\n",
            "\n",
            "etalon.py           100%[===================>]      31  --.-KB/s    in 0s      \n",
            "\n",
            "Last-modified header missing -- time-stamps turned off.\n",
            "2025-03-26 05:34:44 (1.34 MB/s) - ‘etalon.py’ saved [31/31]\n",
            "\n",
            "--2025-03-26 05:34:44--  https://gist.github.com/Vs8th/59f797dfbd33f9a4be1e5ed43bb42f4d/raw/res_cor.txt\n",
            "Resolving gist.github.com (gist.github.com)... 140.82.121.3\n",
            "Connecting to gist.github.com (gist.github.com)|140.82.121.3|:443... connected.\n",
            "HTTP request sent, awaiting response... 301 Moved Permanently\n",
            "Location: https://gist.githubusercontent.com/Vs8th/59f797dfbd33f9a4be1e5ed43bb42f4d/raw/res_cor.txt [following]\n",
            "--2025-03-26 05:34:44--  https://gist.githubusercontent.com/Vs8th/59f797dfbd33f9a4be1e5ed43bb42f4d/raw/res_cor.txt\n",
            "Resolving gist.githubusercontent.com (gist.githubusercontent.com)... 185.199.109.133, 185.199.108.133, 185.199.110.133, ...\n",
            "Connecting to gist.githubusercontent.com (gist.githubusercontent.com)|185.199.109.133|:443... connected.\n",
            "HTTP request sent, awaiting response... 200 OK\n",
            "Length: 355 [text/plain]\n",
            "Saving to: ‘res_cor.txt’\n",
            "\n",
            "res_cor.txt         100%[===================>]     355  --.-KB/s    in 0s      \n",
            "\n",
            "Last-modified header missing -- time-stamps turned off.\n",
            "2025-03-26 05:34:44 (4.63 MB/s) - ‘res_cor.txt’ saved [355/355]\n",
            "\n"
          ]
        }
      ],
      "source": [
        "!wget -N https://gist.github.com/Vs8th/aafed81d81678c807a3ad3dbf93588b2/raw/user.py\n",
        "\n",
        "!wget -N https://gist.github.com/Vs8th/95f7897019a4213c76e5b65234d31e30/raw/etalon.py\n",
        "\n",
        "!wget -N https://gist.github.com/Vs8th/59f797dfbd33f9a4be1e5ed43bb42f4d/raw/res_cor.txt"
      ]
    },
    {
      "cell_type": "markdown",
      "source": [
        "Давайте сразу посмотрим с каким кодом мы имеем дело."
      ],
      "metadata": {
        "id": "JIwIK2E5fcyA"
      }
    },
    {
      "cell_type": "code",
      "source": [
        "with open('etalon.py', 'r') as f:\n",
        "    lines = f.readlines()\n",
        "\n",
        "lines"
      ],
      "metadata": {
        "id": "6f84pObFfbGE",
        "colab": {
          "base_uri": "https://localhost:8080/"
        },
        "outputId": "2dc0bb60-967d-468f-b089-e9a05d706118"
      },
      "execution_count": 2,
      "outputs": [
        {
          "output_type": "execute_result",
          "data": {
            "text/plain": [
              "['def add(a, b):\\n', '    return a + b']"
            ]
          },
          "metadata": {},
          "execution_count": 2
        }
      ]
    },
    {
      "cell_type": "code",
      "source": [
        "with open('user.py', 'r') as f:\n",
        "    lines2 = f.readlines()\n",
        "\n",
        "lines2"
      ],
      "metadata": {
        "colab": {
          "base_uri": "https://localhost:8080/"
        },
        "id": "zmNFemr6OkB7",
        "outputId": "a056c458-c0ef-470f-f576-641664ca8d0c"
      },
      "execution_count": 3,
      "outputs": [
        {
          "output_type": "execute_result",
          "data": {
            "text/plain": [
              "['def add_numbers(a, b):\\n',\n",
              " '    return a - b  # Ошибка: нужно сложить, а не вычесть']"
            ]
          },
          "metadata": {},
          "execution_count": 3
        }
      ]
    },
    {
      "cell_type": "markdown",
      "source": [
        "### **Решения**"
      ],
      "metadata": {
        "id": "CxmnD3GvffQ4"
      }
    },
    {
      "cell_type": "markdown",
      "source": [
        "#### **Задача 1**\n",
        "\n",
        "Задача не из легких, поэтому начнем по шагам. Для начала напишите функцию `run_tests`, которая прочтет эталонный код и код пользователя из `.py` файлов, выполнит их и сохранит результаты в файл `output.txt`."
      ],
      "metadata": {
        "id": "5bdLXu2ksLB7"
      }
    },
    {
      "cell_type": "markdown",
      "source": [
        "**Решение**\n",
        "\n",
        "Напишите свое решение ниже"
      ],
      "metadata": {
        "id": "qUL4LtIUnJge"
      }
    },
    {
      "cell_type": "code",
      "source": [
        "import importlib\n",
        "\n",
        "def run_tests(standard_code, user_code, test_cases, output_file):\n",
        "  with open(output_file, 'w') as of:\n",
        "    for a, b in test_cases:\n",
        "      correct_result = standard_code.add(a, b)\n",
        "      try:\n",
        "        user_result = user_code.add_numbers(a, b)\n",
        "        if user_result != correct_result:\n",
        "          of.write(f'Тест не пройден\\nОжидаемый результат: {correct_result}\\nРезультат пользователя: {user_result}\\n')\n",
        "        else:\n",
        "          of.write(f'Тест пройден\\n')\n",
        "      except AttributeError as err:\n",
        "        of.write(f'Ошибка при выполнении кода пользователя: {err}')\n",
        "        break\n",
        "\n",
        "# Чтение кодов из файлов\n",
        "standard_module = importlib.import_module('etalon')\n",
        "user_module = importlib.import_module('user')\n",
        "\n",
        "test_cases = [(1, 2), (3, 4), (5, 6)]\n",
        "output_file = 'output.txt'\n",
        "run_tests(standard_module, user_module, test_cases, output_file)\n"
      ],
      "metadata": {
        "id": "ymmsa-OaYfKH"
      },
      "execution_count": 16,
      "outputs": []
    },
    {
      "cell_type": "markdown",
      "source": [
        "✏️ ✏️ ✏️\n",
        "\n",
        "**Проверка**\n",
        "\n",
        "Чтобы проверить свое решение, запустите код в следующих ячейках"
      ],
      "metadata": {
        "id": "54Tvpn9OkDwV"
      }
    },
    {
      "cell_type": "code",
      "source": [
        "with open('output.txt', 'r') as file1:\n",
        "    res1 = file1.read()\n",
        "\n",
        "with open('res_cor.txt', 'r') as file2:\n",
        "    res2 = file2.read()\n",
        "\n",
        "try:\n",
        "    assert res1 == res2\n",
        "except AssertionError:\n",
        "    print('Ответы не совпадают')\n",
        "else:\n",
        "    print('Поздравляем, Вы справились!')"
      ],
      "metadata": {
        "id": "LkqzVw9skKEC",
        "colab": {
          "base_uri": "https://localhost:8080/"
        },
        "outputId": "4bcbff96-8a7b-481c-c977-6381e0ea2375"
      },
      "execution_count": 17,
      "outputs": [
        {
          "output_type": "stream",
          "name": "stdout",
          "text": [
            "Поздравляем, Вы справились!\n"
          ]
        }
      ]
    },
    {
      "cell_type": "markdown",
      "source": [
        "#### **Задача 2**\n",
        "\n",
        "Теперь давайте двигаться дальше. Нужно добавить проверку на вредоносный код. Напишите отдельную функцию - `check_for_malicious_code`, которую мы будем вызывать перед проверкой кода."
      ],
      "metadata": {
        "id": "QLNMvvhXoIdV"
      }
    },
    {
      "cell_type": "markdown",
      "source": [
        "Перед написанием кода, выполните следующую ячейку, в ней скачивается новый код пользователя, который проверит работу функции `check_for_malicious_code`."
      ],
      "metadata": {
        "id": "YZ9QLF2YAhUG"
      }
    },
    {
      "cell_type": "code",
      "source": [
        "!wget https://gist.github.com/Vs8th/9f6a2c73c755cfcc088c7835ec4fb2c0/raw/user_malicious.py"
      ],
      "metadata": {
        "id": "KTn16q3wcTTc"
      },
      "execution_count": null,
      "outputs": []
    },
    {
      "cell_type": "markdown",
      "source": [
        "**Решение**\n",
        "\n",
        "Напишите свое решение ниже"
      ],
      "metadata": {
        "id": "LThhpSINoMHN"
      }
    },
    {
      "cell_type": "code",
      "source": [
        "\n",
        "FORBIDDEN_NAMES = ['eval', 'exec']\n",
        "\n",
        "def check_for_malicious_code(code, output_file):\n",
        "\n",
        "    ...\n",
        "\n",
        "def run_tests(standard_code, user_code, test_cases, output_file):\n",
        "\n",
        "    # сюда можете вставить ваш код из прошлой задачи\n",
        "    ...\n",
        "\n",
        "# Чтение кодов из файлов\n",
        "standard_module = ...\n",
        "user_module = ...\n",
        "\n",
        "test_cases = [(1, 2), (3, 4), (5, 6)]\n",
        "output_file = 'output2.txt'\n",
        "# Проверка на вредоносный код\n",
        "malicious_code_message = check_for_malicious_code(inspect.getsource(user_module), output_file)\n",
        "if malicious_code_message:\n",
        "    with open(output_file, 'w') as f:\n",
        "        f.write(\"Ошибка при проверке модуля user_malicious:\\n\")\n",
        "        f.write(malicious_code_message)\n",
        "else:\n",
        "    run_tests(...)\n"
      ],
      "metadata": {
        "id": "9s8JBMlboJuf"
      },
      "execution_count": null,
      "outputs": []
    },
    {
      "cell_type": "markdown",
      "source": [
        "✏️ ✏️ ✏️\n",
        "\n",
        "**Проверка**\n",
        "\n",
        "Чтобы проверить свое решение, запустите код в следующих ячейках"
      ],
      "metadata": {
        "id": "GN_PNZICsxRD"
      }
    },
    {
      "cell_type": "code",
      "source": [
        "# Здесь будет скачиваться файл с эталонным ответом\n",
        "\n",
        "!wget https://gist.github.com/Vs8th/5197125c5ef1e1b34b7d73adccdaf4bb/raw/cor_output_2.txt"
      ],
      "metadata": {
        "id": "tys9eJRSqcEW"
      },
      "execution_count": null,
      "outputs": []
    },
    {
      "cell_type": "code",
      "source": [
        "with open('output2.txt', 'r') as file1:\n",
        "    res1 = file1.read()\n",
        "\n",
        "with open('cor_output_2.txt', 'r') as file2:\n",
        "    res2 = file2.read()\n",
        "\n",
        "try:\n",
        "    assert res1== res2\n",
        "except AssertionError:\n",
        "    print('Ответы не совпадают')\n",
        "else:\n",
        "    print('Поздравляем, Вы справились!')"
      ],
      "metadata": {
        "colab": {
          "base_uri": "https://localhost:8080/"
        },
        "id": "1GWodeoioj0p",
        "outputId": "983d95ad-8e5d-4208-971b-d63156dd93d4"
      },
      "execution_count": null,
      "outputs": [
        {
          "output_type": "stream",
          "name": "stdout",
          "text": [
            "Поздравляем, Вы справились!\n"
          ]
        }
      ]
    },
    {
      "cell_type": "markdown",
      "source": [
        "#### **Задача 3**\n",
        "\n",
        "Движемся дальше - последнее, что нам нужно проверить - время выполнения. Если время выполнения превышает 5 секунд, уведомите об этом пользователя и остановите выполнение проверки."
      ],
      "metadata": {
        "id": "AwB-HtPLtjyl"
      }
    },
    {
      "cell_type": "markdown",
      "source": [
        "Перед написанием кода, выполните следующую ячейку, в ней скачивается новый код пользователя, который проверит работу проверки на время выполнения."
      ],
      "metadata": {
        "id": "ibykgbg_BEJS"
      }
    },
    {
      "cell_type": "code",
      "source": [
        "!wget https://gist.github.com/Vs8th/4aba49489a8b0843ef85c4a1a93f923d/raw/user_inf.py"
      ],
      "metadata": {
        "id": "8N4EK36Erkic"
      },
      "execution_count": null,
      "outputs": []
    },
    {
      "cell_type": "markdown",
      "source": [
        "**Решение**\n",
        "\n",
        "Напишите свое решение ниже"
      ],
      "metadata": {
        "id": "GOTB--hmt2xw"
      }
    },
    {
      "cell_type": "code",
      "source": [
        "\n",
        "FORBIDDEN_NAMES = ['eval']\n",
        "\n",
        "def check_for_malicious_code(code, output_file):\n",
        "\n",
        "    ...\n",
        "\n",
        "def run_tests(standard_code, user_code, test_cases, output_file):\n",
        "\n",
        "    # сюда можете вставить ваш код из прошлой задачи\n",
        "    # в него необходимо будет добавить проверку на время выполнения\n",
        "    ...\n",
        "\n",
        "\n",
        "# Чтение кодов из файлов\n",
        "standard_module = ...\n",
        "user_module = ...\n",
        "\n",
        "test_cases = [(1, 2), (3, 4), (5, 6)]\n",
        "output_file = 'output3.txt'\n",
        "# Проверка на вредоносный код\n",
        "malicious_code_message = check_for_malicious_code(inspect.getsource(user_module), output_file)\n",
        "if malicious_code_message:\n",
        "    with open(output_file, 'w') as f:\n",
        "        f.write(\"Ошибка при проверке модуля user_malicious:\\n\")\n",
        "        f.write(malicious_code_message)\n",
        "else:\n",
        "    run_tests(...)\n"
      ],
      "metadata": {
        "id": "fz7nRb_ntKMv"
      },
      "execution_count": null,
      "outputs": []
    },
    {
      "cell_type": "markdown",
      "source": [
        "✏️ ✏️ ✏️\n",
        "\n",
        "**Проверка**\n",
        "\n",
        "Чтобы проверить свое решение, запустите код в следующих ячейках"
      ],
      "metadata": {
        "id": "0-7TiI06t8D0"
      }
    },
    {
      "cell_type": "code",
      "source": [
        "# Здесь будет скачиваться файл с эталонным ответом\n",
        "\n",
        "!wget https://gist.github.com/Vs8th/cfcafbd2cd46e8905555b02eae78406e/raw/cor_res_3.txt"
      ],
      "metadata": {
        "id": "eOzvKzYqt_UH"
      },
      "execution_count": null,
      "outputs": []
    },
    {
      "cell_type": "code",
      "source": [
        "with open('output3.txt', 'r') as file1:\n",
        "    res1 = file1.read()\n",
        "\n",
        "with open('cor_res_3.txt', 'r') as file2:\n",
        "    res2 = file2.read()\n",
        "\n",
        "try:\n",
        "    assert res1 == res2\n",
        "except AssertionError:\n",
        "    print('Ответы не совпадают')\n",
        "else:\n",
        "    print('Поздравляем, Вы справились!')"
      ],
      "metadata": {
        "colab": {
          "base_uri": "https://localhost:8080/"
        },
        "id": "KzV-hUKcvxb2",
        "outputId": "36f5a156-e392-4a8a-f36e-f7434ac06a13"
      },
      "execution_count": null,
      "outputs": [
        {
          "output_type": "stream",
          "name": "stdout",
          "text": [
            "Поздравляем, Вы справились!\n"
          ]
        }
      ]
    },
    {
      "cell_type": "code",
      "source": [],
      "metadata": {
        "id": "hOoDBgK7sqMK"
      },
      "execution_count": null,
      "outputs": []
    }
  ]
}
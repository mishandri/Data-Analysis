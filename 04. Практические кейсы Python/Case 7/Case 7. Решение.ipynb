{
  "cells": [
    {
      "cell_type": "markdown",
      "metadata": {
        "id": "XUqCUBW5fUST"
      },
      "source": [
        "## **2 кейс**\n",
        "\n",
        "**Выгрузка активности с ItResume**"
      ]
    },
    {
      "cell_type": "markdown",
      "metadata": {
        "id": "OcK9kF9mfZIt"
      },
      "source": [
        "**Важно**\n",
        "\n",
        "Перед началом решения выполните следующую ячейку, чтобы загрузить необходимый для работы файл."
      ]
    },
    {
      "cell_type": "code",
      "execution_count": 211,
      "metadata": {
        "colab": {
          "base_uri": "https://localhost:8080/"
        },
        "id": "KtNBw8nOfPsB",
        "outputId": "68962cd4-7f32-4ed8-d8ab-8b014ed4aa0d"
      },
      "outputs": [
        {
          "name": "stdout",
          "output_type": "stream",
          "text": [
            "--2025-03-27 12:52:51--  https://gist.github.com/Vs8th/a7a7f00e6cdef1b3fe87e4d61ca56e5f/raw/codesubmit.csv\n",
            "Resolving gist.github.com (gist.github.com)... 140.82.113.3\n",
            "Connecting to gist.github.com (gist.github.com)|140.82.113.3|:443... connected.\n",
            "HTTP request sent, awaiting response... 301 Moved Permanently\n",
            "Location: https://gist.githubusercontent.com/Vs8th/a7a7f00e6cdef1b3fe87e4d61ca56e5f/raw/codesubmit.csv [following]\n",
            "--2025-03-27 12:52:51--  https://gist.githubusercontent.com/Vs8th/a7a7f00e6cdef1b3fe87e4d61ca56e5f/raw/codesubmit.csv\n",
            "Resolving gist.githubusercontent.com (gist.githubusercontent.com)... 185.199.108.133, 185.199.109.133, 185.199.110.133, ...\n",
            "Connecting to gist.githubusercontent.com (gist.githubusercontent.com)|185.199.108.133|:443... connected.\n",
            "HTTP request sent, awaiting response... 200 OK\n",
            "Length: 215378 (210K) [text/plain]\n",
            "Saving to: ‘codesubmit.csv’\n",
            "\n",
            "codesubmit.csv      100%[===================>] 210.33K  --.-KB/s    in 0.04s   \n",
            "\n",
            "Last-modified header missing -- time-stamps turned off.\n",
            "2025-03-27 12:52:51 (5.36 MB/s) - ‘codesubmit.csv’ saved [215378/215378]\n",
            "\n"
          ]
        }
      ],
      "source": [
        "!wget -N https://gist.github.com/Vs8th/a7a7f00e6cdef1b3fe87e4d61ca56e5f/raw/codesubmit.csv"
      ]
    },
    {
      "cell_type": "markdown",
      "metadata": {
        "id": "JIwIK2E5fcyA"
      },
      "source": [
        "Чтобы посмотреть как он выглядит выполните следующую ячейку."
      ]
    },
    {
      "cell_type": "code",
      "execution_count": 212,
      "metadata": {
        "colab": {
          "base_uri": "https://localhost:8080/",
          "height": 423
        },
        "id": "6f84pObFfbGE",
        "outputId": "1a8d1747-3164-436f-9755-a1487f96d823"
      },
      "outputs": [
        {
          "data": {
            "application/vnd.google.colaboratory.intrinsic+json": {
              "summary": "{\n  \"name\": \"df\",\n  \"rows\": 4999,\n  \"fields\": [\n    {\n      \"column\": \"created_at\",\n      \"properties\": {\n        \"dtype\": \"object\",\n        \"num_unique_values\": 4999,\n        \"samples\": [\n          \"2023-04-30 13:22:19.979007\",\n          \"2023-04-30 19:35:41.481381\",\n          \"2023-04-30 14:08:32.611368\"\n        ],\n        \"semantic_type\": \"\",\n        \"description\": \"\"\n      }\n    },\n    {\n      \"column\": \"user_id\",\n      \"properties\": {\n        \"dtype\": \"number\",\n        \"std\": 3921,\n        \"min\": 7,\n        \"max\": 13493,\n        \"num_unique_values\": 193,\n        \"samples\": [\n          5100,\n          12195,\n          7765\n        ],\n        \"semantic_type\": \"\",\n        \"description\": \"\"\n      }\n    },\n    {\n      \"column\": \"problem_id\",\n      \"properties\": {\n        \"dtype\": \"number\",\n        \"std\": 433,\n        \"min\": 3,\n        \"max\": 1237,\n        \"num_unique_values\": 334,\n        \"samples\": [\n          166,\n          214,\n          876\n        ],\n        \"semantic_type\": \"\",\n        \"description\": \"\"\n      }\n    },\n    {\n      \"column\": \"is_correct\",\n      \"properties\": {\n        \"dtype\": \"number\",\n        \"std\": 0.47479310070531827,\n        \"min\": 0.0,\n        \"max\": 1.0,\n        \"num_unique_values\": 2,\n        \"samples\": [\n          0.0,\n          1.0\n        ],\n        \"semantic_type\": \"\",\n        \"description\": \"\"\n      }\n    },\n    {\n      \"column\": \"type\",\n      \"properties\": {\n        \"dtype\": \"category\",\n        \"num_unique_values\": 2,\n        \"samples\": [\n          \"run\",\n          \"submit\"\n        ],\n        \"semantic_type\": \"\",\n        \"description\": \"\"\n      }\n    }\n  ]\n}",
              "type": "dataframe",
              "variable_name": "df"
            },
            "text/html": [
              "\n",
              "  <div id=\"df-62d3d5c4-daa8-4db6-ba1f-5d228bcf03e7\" class=\"colab-df-container\">\n",
              "    <div>\n",
              "<style scoped>\n",
              "    .dataframe tbody tr th:only-of-type {\n",
              "        vertical-align: middle;\n",
              "    }\n",
              "\n",
              "    .dataframe tbody tr th {\n",
              "        vertical-align: top;\n",
              "    }\n",
              "\n",
              "    .dataframe thead th {\n",
              "        text-align: right;\n",
              "    }\n",
              "</style>\n",
              "<table border=\"1\" class=\"dataframe\">\n",
              "  <thead>\n",
              "    <tr style=\"text-align: right;\">\n",
              "      <th></th>\n",
              "      <th>created_at</th>\n",
              "      <th>user_id</th>\n",
              "      <th>problem_id</th>\n",
              "      <th>is_correct</th>\n",
              "      <th>type</th>\n",
              "    </tr>\n",
              "  </thead>\n",
              "  <tbody>\n",
              "    <tr>\n",
              "      <th>0</th>\n",
              "      <td>2023-04-30 13:47:14.344471</td>\n",
              "      <td>7</td>\n",
              "      <td>870</td>\n",
              "      <td>1.0</td>\n",
              "      <td>submit</td>\n",
              "    </tr>\n",
              "    <tr>\n",
              "      <th>1</th>\n",
              "      <td>2023-04-30 13:46:15.949925</td>\n",
              "      <td>7</td>\n",
              "      <td>870</td>\n",
              "      <td>0.0</td>\n",
              "      <td>submit</td>\n",
              "    </tr>\n",
              "    <tr>\n",
              "      <th>2</th>\n",
              "      <td>2023-04-30 16:13:26.005286</td>\n",
              "      <td>173</td>\n",
              "      <td>21</td>\n",
              "      <td>1.0</td>\n",
              "      <td>submit</td>\n",
              "    </tr>\n",
              "    <tr>\n",
              "      <th>3</th>\n",
              "      <td>2023-04-30 16:13:06.739782</td>\n",
              "      <td>173</td>\n",
              "      <td>21</td>\n",
              "      <td>NaN</td>\n",
              "      <td>run</td>\n",
              "    </tr>\n",
              "    <tr>\n",
              "      <th>4</th>\n",
              "      <td>2023-04-30 15:52:00.195532</td>\n",
              "      <td>173</td>\n",
              "      <td>25</td>\n",
              "      <td>1.0</td>\n",
              "      <td>submit</td>\n",
              "    </tr>\n",
              "    <tr>\n",
              "      <th>...</th>\n",
              "      <td>...</td>\n",
              "      <td>...</td>\n",
              "      <td>...</td>\n",
              "      <td>...</td>\n",
              "      <td>...</td>\n",
              "    </tr>\n",
              "    <tr>\n",
              "      <th>4994</th>\n",
              "      <td>2023-04-30 21:52:00.269123</td>\n",
              "      <td>13493</td>\n",
              "      <td>435</td>\n",
              "      <td>NaN</td>\n",
              "      <td>run</td>\n",
              "    </tr>\n",
              "    <tr>\n",
              "      <th>4995</th>\n",
              "      <td>2023-04-30 21:51:01.094234</td>\n",
              "      <td>13493</td>\n",
              "      <td>435</td>\n",
              "      <td>1.0</td>\n",
              "      <td>submit</td>\n",
              "    </tr>\n",
              "    <tr>\n",
              "      <th>4996</th>\n",
              "      <td>2023-04-30 21:50:52.059690</td>\n",
              "      <td>13493</td>\n",
              "      <td>435</td>\n",
              "      <td>NaN</td>\n",
              "      <td>run</td>\n",
              "    </tr>\n",
              "    <tr>\n",
              "      <th>4997</th>\n",
              "      <td>2023-04-30 21:42:24.323689</td>\n",
              "      <td>13493</td>\n",
              "      <td>1086</td>\n",
              "      <td>NaN</td>\n",
              "      <td>run</td>\n",
              "    </tr>\n",
              "    <tr>\n",
              "      <th>4998</th>\n",
              "      <td>2023-04-30 21:36:13.783309</td>\n",
              "      <td>13493</td>\n",
              "      <td>1086</td>\n",
              "      <td>NaN</td>\n",
              "      <td>run</td>\n",
              "    </tr>\n",
              "  </tbody>\n",
              "</table>\n",
              "<p>4999 rows × 5 columns</p>\n",
              "</div>\n",
              "    <div class=\"colab-df-buttons\">\n",
              "\n",
              "  <div class=\"colab-df-container\">\n",
              "    <button class=\"colab-df-convert\" onclick=\"convertToInteractive('df-62d3d5c4-daa8-4db6-ba1f-5d228bcf03e7')\"\n",
              "            title=\"Convert this dataframe to an interactive table.\"\n",
              "            style=\"display:none;\">\n",
              "\n",
              "  <svg xmlns=\"http://www.w3.org/2000/svg\" height=\"24px\" viewBox=\"0 -960 960 960\">\n",
              "    <path d=\"M120-120v-720h720v720H120Zm60-500h600v-160H180v160Zm220 220h160v-160H400v160Zm0 220h160v-160H400v160ZM180-400h160v-160H180v160Zm440 0h160v-160H620v160ZM180-180h160v-160H180v160Zm440 0h160v-160H620v160Z\"/>\n",
              "  </svg>\n",
              "    </button>\n",
              "\n",
              "  <style>\n",
              "    .colab-df-container {\n",
              "      display:flex;\n",
              "      gap: 12px;\n",
              "    }\n",
              "\n",
              "    .colab-df-convert {\n",
              "      background-color: #E8F0FE;\n",
              "      border: none;\n",
              "      border-radius: 50%;\n",
              "      cursor: pointer;\n",
              "      display: none;\n",
              "      fill: #1967D2;\n",
              "      height: 32px;\n",
              "      padding: 0 0 0 0;\n",
              "      width: 32px;\n",
              "    }\n",
              "\n",
              "    .colab-df-convert:hover {\n",
              "      background-color: #E2EBFA;\n",
              "      box-shadow: 0px 1px 2px rgba(60, 64, 67, 0.3), 0px 1px 3px 1px rgba(60, 64, 67, 0.15);\n",
              "      fill: #174EA6;\n",
              "    }\n",
              "\n",
              "    .colab-df-buttons div {\n",
              "      margin-bottom: 4px;\n",
              "    }\n",
              "\n",
              "    [theme=dark] .colab-df-convert {\n",
              "      background-color: #3B4455;\n",
              "      fill: #D2E3FC;\n",
              "    }\n",
              "\n",
              "    [theme=dark] .colab-df-convert:hover {\n",
              "      background-color: #434B5C;\n",
              "      box-shadow: 0px 1px 3px 1px rgba(0, 0, 0, 0.15);\n",
              "      filter: drop-shadow(0px 1px 2px rgba(0, 0, 0, 0.3));\n",
              "      fill: #FFFFFF;\n",
              "    }\n",
              "  </style>\n",
              "\n",
              "    <script>\n",
              "      const buttonEl =\n",
              "        document.querySelector('#df-62d3d5c4-daa8-4db6-ba1f-5d228bcf03e7 button.colab-df-convert');\n",
              "      buttonEl.style.display =\n",
              "        google.colab.kernel.accessAllowed ? 'block' : 'none';\n",
              "\n",
              "      async function convertToInteractive(key) {\n",
              "        const element = document.querySelector('#df-62d3d5c4-daa8-4db6-ba1f-5d228bcf03e7');\n",
              "        const dataTable =\n",
              "          await google.colab.kernel.invokeFunction('convertToInteractive',\n",
              "                                                    [key], {});\n",
              "        if (!dataTable) return;\n",
              "\n",
              "        const docLinkHtml = 'Like what you see? Visit the ' +\n",
              "          '<a target=\"_blank\" href=https://colab.research.google.com/notebooks/data_table.ipynb>data table notebook</a>'\n",
              "          + ' to learn more about interactive tables.';\n",
              "        element.innerHTML = '';\n",
              "        dataTable['output_type'] = 'display_data';\n",
              "        await google.colab.output.renderOutput(dataTable, element);\n",
              "        const docLink = document.createElement('div');\n",
              "        docLink.innerHTML = docLinkHtml;\n",
              "        element.appendChild(docLink);\n",
              "      }\n",
              "    </script>\n",
              "  </div>\n",
              "\n",
              "\n",
              "<div id=\"df-78648add-ab6f-40f0-b252-509e133c2d42\">\n",
              "  <button class=\"colab-df-quickchart\" onclick=\"quickchart('df-78648add-ab6f-40f0-b252-509e133c2d42')\"\n",
              "            title=\"Suggest charts\"\n",
              "            style=\"display:none;\">\n",
              "\n",
              "<svg xmlns=\"http://www.w3.org/2000/svg\" height=\"24px\"viewBox=\"0 0 24 24\"\n",
              "     width=\"24px\">\n",
              "    <g>\n",
              "        <path d=\"M19 3H5c-1.1 0-2 .9-2 2v14c0 1.1.9 2 2 2h14c1.1 0 2-.9 2-2V5c0-1.1-.9-2-2-2zM9 17H7v-7h2v7zm4 0h-2V7h2v10zm4 0h-2v-4h2v4z\"/>\n",
              "    </g>\n",
              "</svg>\n",
              "  </button>\n",
              "\n",
              "<style>\n",
              "  .colab-df-quickchart {\n",
              "      --bg-color: #E8F0FE;\n",
              "      --fill-color: #1967D2;\n",
              "      --hover-bg-color: #E2EBFA;\n",
              "      --hover-fill-color: #174EA6;\n",
              "      --disabled-fill-color: #AAA;\n",
              "      --disabled-bg-color: #DDD;\n",
              "  }\n",
              "\n",
              "  [theme=dark] .colab-df-quickchart {\n",
              "      --bg-color: #3B4455;\n",
              "      --fill-color: #D2E3FC;\n",
              "      --hover-bg-color: #434B5C;\n",
              "      --hover-fill-color: #FFFFFF;\n",
              "      --disabled-bg-color: #3B4455;\n",
              "      --disabled-fill-color: #666;\n",
              "  }\n",
              "\n",
              "  .colab-df-quickchart {\n",
              "    background-color: var(--bg-color);\n",
              "    border: none;\n",
              "    border-radius: 50%;\n",
              "    cursor: pointer;\n",
              "    display: none;\n",
              "    fill: var(--fill-color);\n",
              "    height: 32px;\n",
              "    padding: 0;\n",
              "    width: 32px;\n",
              "  }\n",
              "\n",
              "  .colab-df-quickchart:hover {\n",
              "    background-color: var(--hover-bg-color);\n",
              "    box-shadow: 0 1px 2px rgba(60, 64, 67, 0.3), 0 1px 3px 1px rgba(60, 64, 67, 0.15);\n",
              "    fill: var(--button-hover-fill-color);\n",
              "  }\n",
              "\n",
              "  .colab-df-quickchart-complete:disabled,\n",
              "  .colab-df-quickchart-complete:disabled:hover {\n",
              "    background-color: var(--disabled-bg-color);\n",
              "    fill: var(--disabled-fill-color);\n",
              "    box-shadow: none;\n",
              "  }\n",
              "\n",
              "  .colab-df-spinner {\n",
              "    border: 2px solid var(--fill-color);\n",
              "    border-color: transparent;\n",
              "    border-bottom-color: var(--fill-color);\n",
              "    animation:\n",
              "      spin 1s steps(1) infinite;\n",
              "  }\n",
              "\n",
              "  @keyframes spin {\n",
              "    0% {\n",
              "      border-color: transparent;\n",
              "      border-bottom-color: var(--fill-color);\n",
              "      border-left-color: var(--fill-color);\n",
              "    }\n",
              "    20% {\n",
              "      border-color: transparent;\n",
              "      border-left-color: var(--fill-color);\n",
              "      border-top-color: var(--fill-color);\n",
              "    }\n",
              "    30% {\n",
              "      border-color: transparent;\n",
              "      border-left-color: var(--fill-color);\n",
              "      border-top-color: var(--fill-color);\n",
              "      border-right-color: var(--fill-color);\n",
              "    }\n",
              "    40% {\n",
              "      border-color: transparent;\n",
              "      border-right-color: var(--fill-color);\n",
              "      border-top-color: var(--fill-color);\n",
              "    }\n",
              "    60% {\n",
              "      border-color: transparent;\n",
              "      border-right-color: var(--fill-color);\n",
              "    }\n",
              "    80% {\n",
              "      border-color: transparent;\n",
              "      border-right-color: var(--fill-color);\n",
              "      border-bottom-color: var(--fill-color);\n",
              "    }\n",
              "    90% {\n",
              "      border-color: transparent;\n",
              "      border-bottom-color: var(--fill-color);\n",
              "    }\n",
              "  }\n",
              "</style>\n",
              "\n",
              "  <script>\n",
              "    async function quickchart(key) {\n",
              "      const quickchartButtonEl =\n",
              "        document.querySelector('#' + key + ' button');\n",
              "      quickchartButtonEl.disabled = true;  // To prevent multiple clicks.\n",
              "      quickchartButtonEl.classList.add('colab-df-spinner');\n",
              "      try {\n",
              "        const charts = await google.colab.kernel.invokeFunction(\n",
              "            'suggestCharts', [key], {});\n",
              "      } catch (error) {\n",
              "        console.error('Error during call to suggestCharts:', error);\n",
              "      }\n",
              "      quickchartButtonEl.classList.remove('colab-df-spinner');\n",
              "      quickchartButtonEl.classList.add('colab-df-quickchart-complete');\n",
              "    }\n",
              "    (() => {\n",
              "      let quickchartButtonEl =\n",
              "        document.querySelector('#df-78648add-ab6f-40f0-b252-509e133c2d42 button');\n",
              "      quickchartButtonEl.style.display =\n",
              "        google.colab.kernel.accessAllowed ? 'block' : 'none';\n",
              "    })();\n",
              "  </script>\n",
              "</div>\n",
              "    </div>\n",
              "  </div>\n"
            ],
            "text/plain": [
              "                      created_at  user_id  problem_id  is_correct    type\n",
              "0     2023-04-30 13:47:14.344471        7         870         1.0  submit\n",
              "1     2023-04-30 13:46:15.949925        7         870         0.0  submit\n",
              "2     2023-04-30 16:13:26.005286      173          21         1.0  submit\n",
              "3     2023-04-30 16:13:06.739782      173          21         NaN     run\n",
              "4     2023-04-30 15:52:00.195532      173          25         1.0  submit\n",
              "...                          ...      ...         ...         ...     ...\n",
              "4994  2023-04-30 21:52:00.269123    13493         435         NaN     run\n",
              "4995  2023-04-30 21:51:01.094234    13493         435         1.0  submit\n",
              "4996  2023-04-30 21:50:52.059690    13493         435         NaN     run\n",
              "4997  2023-04-30 21:42:24.323689    13493        1086         NaN     run\n",
              "4998  2023-04-30 21:36:13.783309    13493        1086         NaN     run\n",
              "\n",
              "[4999 rows x 5 columns]"
            ]
          },
          "execution_count": 212,
          "metadata": {},
          "output_type": "execute_result"
        }
      ],
      "source": [
        "import pandas as pd\n",
        "\n",
        "df = pd.read_csv('codesubmit.csv', sep = ';')\n",
        "df"
      ]
    },
    {
      "cell_type": "markdown",
      "metadata": {
        "id": "CxmnD3GvffQ4"
      },
      "source": [
        "### **Решения**"
      ]
    },
    {
      "cell_type": "markdown",
      "metadata": {
        "id": "5bdLXu2ksLB7"
      },
      "source": [
        "#### **Задача 1**\n",
        "\n",
        "Ваша задача - выяснить сколько в среднем тратится времени на решение задачи.\n",
        "\n",
        "**Примечание**: для правильного подсчета - рассчитайте сначала среднее время решения по каждой задаче в отдельности, и только затем находите общее среднее время решения задач.\n",
        "\n",
        "Результат - число типа `float`, округлите до 2 знаков после запятой и запишите в переменную `res`.\n"
      ]
    },
    {
      "cell_type": "markdown",
      "metadata": {
        "id": "qUL4LtIUnJge"
      },
      "source": [
        "**Решение**\n",
        "\n",
        "Напишите свое решение ниже"
      ]
    },
    {
      "cell_type": "code",
      "execution_count": 213,
      "metadata": {
        "colab": {
          "base_uri": "https://localhost:8080/"
        },
        "id": "Ia39hhmZbNRW",
        "outputId": "1e4ff6ec-aa5e-426a-ad0f-350a175a5f8c"
      },
      "outputs": [
        {
          "data": {
            "text/plain": [
              "[['2023-04-30 13:47:14.344471', '7', '870', '1', 'submit'],\n",
              " ['2023-04-30 13:46:15.949925', '7', '870', '0', 'submit'],\n",
              " ['2023-04-30 16:13:26.005286', '173', '21', '1', 'submit'],\n",
              " ['2023-04-30 16:13:06.739782', '173', '21', '', 'run'],\n",
              " ['2023-04-30 15:52:00.195532', '173', '25', '1', 'submit']]"
            ]
          },
          "execution_count": 213,
          "metadata": {},
          "output_type": "execute_result"
        }
      ],
      "source": [
        "from datetime import datetime\n",
        "data = []\n",
        "with open('codesubmit.csv', 'r') as f:\n",
        "  data = f.readlines()[1:]\n",
        "data = [s[:-1].split(';') for s in data]\n",
        "\n",
        "# Сформировал двумерный массив данных с элементами\n",
        "data[:5]"
      ]
    },
    {
      "cell_type": "code",
      "execution_count": 214,
      "metadata": {
        "id": "LpmDAqHSc0r9"
      },
      "outputs": [],
      "source": [
        "# Заменим первый столбец на тип datetime\n",
        "for d in data:\n",
        "  d[0] = datetime.strptime(d[0], '%Y-%m-%d %H:%M:%S.%f')"
      ]
    },
    {
      "cell_type": "code",
      "execution_count": 223,
      "metadata": {
        "id": "vnRpLBKPhBin"
      },
      "outputs": [],
      "source": [
        "# Найдём все submit с '1'. Это список всех успешных решений задач\n",
        "submits = [d[:3] for d in data if d[3] == '1' and d[4] == 'submit']\n",
        "# Надо найти минимальные дата-время submits для каждой пары (user_id, problem_id)\n",
        "all = {}\n",
        "for d in submits:\n",
        "  key = (d[1], d[2])\n",
        "  value = (d[0])\n",
        "\n",
        "  if key not in all or all[key] > value:\n",
        "    all[key] = value\n",
        "submits = [[v, k[0], k[1]] for k, v in all.items()]"
      ]
    },
    {
      "cell_type": "code",
      "execution_count": 224,
      "metadata": {
        "colab": {
          "base_uri": "https://localhost:8080/"
        },
        "id": "BmftT1E2gmH4",
        "outputId": "3ce5c5da-c7aa-4455-adfa-4e597e6c0291"
      },
      "outputs": [
        {
          "data": {
            "text/plain": [
              "[[datetime.datetime(2023, 4, 30, 13, 46, 15, 949925), '7', '870'],\n",
              " [datetime.datetime(2023, 4, 30, 16, 13, 6, 739782), '173', '21'],\n",
              " [datetime.datetime(2023, 4, 30, 15, 37, 3, 852246), '173', '25'],\n",
              " [datetime.datetime(2023, 4, 30, 16, 19, 37, 394470), '173', '35'],\n",
              " [datetime.datetime(2023, 4, 30, 15, 14, 13, 931621), '183', '173']]"
            ]
          },
          "execution_count": 224,
          "metadata": {},
          "output_type": "execute_result"
        }
      ],
      "source": [
        "# Надо найти минимальные дата-время попытки для каждой пары (user_id, problem_id)\n",
        "all = {}\n",
        "for d in data:\n",
        "  key = (d[1], d[2])\n",
        "  value = (d[0])\n",
        "\n",
        "  if key not in all or all[key] > value:\n",
        "    all[key] = value\n",
        "first_attempts = [[v, k[0], k[1]] for k, v in all.items()]\n",
        "first_attempts[:5]"
      ]
    },
    {
      "cell_type": "code",
      "execution_count": 225,
      "metadata": {
        "colab": {
          "base_uri": "https://localhost:8080/"
        },
        "id": "Rs7afsMQlAsh",
        "outputId": "55d19617-f761-44d0-b0b7-2078ab8a712b"
      },
      "outputs": [
        {
          "data": {
            "text/plain": [
              "[[58.394546, '7', '870'],\n",
              " [19.265504, '173', '21'],\n",
              " [896.343286, '173', '25'],\n",
              " [16560.361198, '173', '35'],\n",
              " [4223.552233, '183', '173']]"
            ]
          },
          "execution_count": 225,
          "metadata": {},
          "output_type": "execute_result"
        }
      ],
      "source": [
        "result = []\n",
        "for sub in submits:\n",
        "  for fa in first_attempts:\n",
        "    if sub[1] == fa[1] and sub[2] == fa[2] and sub[0] != fa[0]:\n",
        "      # sub[0] != fa[0] отсекает те задачи, которые были решены с первой попытки\n",
        "        result.append([(sub[0] - fa[0]).total_seconds(), sub[1], sub[2]])\n",
        "# Теперь в result хранится информация Время выполнения, Пользователь, Задача\n",
        "result[:5]"
      ]
    },
    {
      "cell_type": "code",
      "execution_count": 226,
      "metadata": {
        "id": "k2Q-BnnNnHE8"
      },
      "outputs": [],
      "source": [
        "time = {}\n",
        "count = {}\n",
        "\n",
        "for r in result:\n",
        "  key = r[2]\n",
        "  value = r[0]\n",
        "  if key not in time:\n",
        "    time[key] = value\n",
        "    count[key] = 1\n",
        "  else:\n",
        "    time[key] += value\n",
        "    count[key] += 1\n",
        "# В time - Номер задачи: суммарное время её решения\n",
        "# В count - Номер задачи: количество решений"
      ]
    },
    {
      "cell_type": "code",
      "execution_count": 227,
      "metadata": {
        "id": "-hGO7eXTn2Qp"
      },
      "outputs": [],
      "source": [
        "for key in time:\n",
        "  time[key] = time[key] / count[key]\n",
        "# Теперь в time - Номер задачи: среднее время её решения"
      ]
    },
    {
      "cell_type": "code",
      "execution_count": 228,
      "metadata": {
        "colab": {
          "base_uri": "https://localhost:8080/"
        },
        "id": "n_u1FHvzoXb0",
        "outputId": "8eee63a7-e820-40ae-9c5b-e0fc6d41867f"
      },
      "outputs": [
        {
          "data": {
            "text/plain": [
              "611.86"
            ]
          },
          "execution_count": 228,
          "metadata": {},
          "output_type": "execute_result"
        }
      ],
      "source": [
        "res = round(sum(time.values())/len(time),2)\n",
        "res"
      ]
    },
    {
      "cell_type": "markdown",
      "metadata": {
        "id": "54Tvpn9OkDwV"
      },
      "source": [
        "✏️ ✏️ ✏️\n",
        "\n",
        "**Проверка**\n",
        "\n",
        "Чтобы проверить свое решение, запустите код в следующих ячейках"
      ]
    },
    {
      "cell_type": "code",
      "execution_count": 229,
      "metadata": {
        "colab": {
          "base_uri": "https://localhost:8080/"
        },
        "id": "LkqzVw9skKEC",
        "outputId": "1287d9fb-1688-49c9-b2bc-f22ae8dc2109"
      },
      "outputs": [
        {
          "name": "stdout",
          "output_type": "stream",
          "text": [
            "Поздравляем, Вы справились!\n"
          ]
        }
      ],
      "source": [
        "try:\n",
        "    assert res == 611.86\n",
        "except AssertionError:\n",
        "    print('Ответы не совпадают')\n",
        "else:\n",
        "    print('Поздравляем, Вы справились!')"
      ]
    },
    {
      "cell_type": "markdown",
      "metadata": {
        "id": "QLNMvvhXoIdV"
      },
      "source": [
        "#### **Задача 2**\n",
        "\n",
        "Ваша задача - выяснить сколько часов в среднем проводит юзер в день на платформе. Перерывы в активности за день - не учитываем.\n",
        "\n",
        "Результат - число типа `float`, округлите до 2 знаков после запятой и запишите в переменную `res2`."
      ]
    },
    {
      "cell_type": "markdown",
      "metadata": {
        "id": "LThhpSINoMHN"
      },
      "source": [
        "**Решение**\n",
        "\n",
        "Напишите свое решение ниже"
      ]
    },
    {
      "cell_type": "code",
      "execution_count": 236,
      "metadata": {
        "id": "9s8JBMlboJuf"
      },
      "outputs": [],
      "source": [
        "from datetime import datetime\n",
        "data = []\n",
        "with open('codesubmit.csv', 'r') as f:\n",
        "  data = f.readlines()[1:]\n",
        "data = [s[:-1].split(';') for s in data]\n",
        "\n",
        "# Заменим первый столбец на тип datetime\n",
        "for d in data:\n",
        "  d[0] = datetime.strptime(d[0], '%Y-%m-%d %H:%M:%S.%f')"
      ]
    },
    {
      "cell_type": "code",
      "execution_count": 237,
      "metadata": {
        "id": "L9L8DVdg1BKd"
      },
      "outputs": [],
      "source": [
        "# В data второй столбец (d[1]) - id пользователя. Посмотрим когда было его первое касание\n",
        "all = {}\n",
        "for d in data:\n",
        "  key = d[1]\n",
        "  value = d[0]\n",
        "  if key not in all or all[key] > value:\n",
        "    all[key] = value\n",
        "first_attempts = [[v, k] for k, v in all.items()]\n",
        "\n",
        "# Аналогично для последнего касания\n",
        "all = {}\n",
        "for d in data:\n",
        "  key = d[1]\n",
        "  value = d[0]\n",
        "  if key not in all or all[key] < value:\n",
        "    all[key] = value\n",
        "last_attempts = [[v, k] for k, v in all.items()]"
      ]
    },
    {
      "cell_type": "code",
      "execution_count": 242,
      "metadata": {
        "id": "IEWKj9uA2C7M"
      },
      "outputs": [],
      "source": [
        "time_attempts = []\n",
        "for fa in first_attempts:\n",
        "  for la in last_attempts:\n",
        "    if fa[1] == la[1]:\n",
        "      time_attempts.append((la[0]-fa[0]).total_seconds()/3600)"
      ]
    },
    {
      "cell_type": "code",
      "execution_count": 246,
      "metadata": {
        "colab": {
          "base_uri": "https://localhost:8080/"
        },
        "id": "LO2ToSoM0-TV",
        "outputId": "be4819b3-9fe0-40aa-d281-057b1583f33b"
      },
      "outputs": [
        {
          "data": {
            "text/plain": [
              "1.7"
            ]
          },
          "execution_count": 246,
          "metadata": {},
          "output_type": "execute_result"
        }
      ],
      "source": [
        "res2 = round(sum(time_attempts) / len(time_attempts), 2)\n",
        "res2"
      ]
    },
    {
      "cell_type": "markdown",
      "metadata": {
        "id": "GN_PNZICsxRD"
      },
      "source": [
        "✏️ ✏️ ✏️\n",
        "\n",
        "**Проверка**\n",
        "\n",
        "Чтобы проверить свое решение, запустите код в следующих ячейках"
      ]
    },
    {
      "cell_type": "code",
      "execution_count": 247,
      "metadata": {
        "colab": {
          "base_uri": "https://localhost:8080/"
        },
        "id": "a36bM9j9tD7l",
        "outputId": "7b7675d8-586e-4e70-e445-2666c3b3f3a8"
      },
      "outputs": [
        {
          "name": "stdout",
          "output_type": "stream",
          "text": [
            "Поздравляем, Вы справились!\n"
          ]
        }
      ],
      "source": [
        "try:\n",
        "    assert res2 == 1.7\n",
        "except AssertionError:\n",
        "    print('Ответы не совпадают')\n",
        "else:\n",
        "    print('Поздравляем, Вы справились!')"
      ]
    },
    {
      "cell_type": "markdown",
      "metadata": {
        "id": "AwB-HtPLtjyl"
      },
      "source": [
        "#### **Задача 3**\n",
        "\n",
        "Теперь давайте посмотрим на активные сеансы. Выясните, сколько задач в среднем решается за один активный сеанс.\n",
        "\n",
        "**Активный сеанс** - период, когда между любой активностью пользователя разница менее или равна часу, не более\n",
        "\n",
        "**Важно**: в расчет берем не только успешные попытки решений (`is_correct=1`), а и неуспешные тоже (`is_correct=0`), и тип `run` в том числе.\n",
        "\n",
        "Результат - число типа `float`, округлите до 2 знаков после запятой и запишите в переменную `res3`."
      ]
    },
    {
      "cell_type": "markdown",
      "metadata": {
        "id": "GOTB--hmt2xw"
      },
      "source": [
        "**Решение**\n",
        "\n",
        "Напишите свое решение ниже"
      ]
    },
    {
      "cell_type": "code",
      "execution_count": 74,
      "metadata": {},
      "outputs": [],
      "source": [
        "from datetime import datetime\n",
        "data = []\n",
        "with open('codesubmit.csv', 'r') as f:\n",
        "  data = f.readlines()[1:]\n",
        "data = [s[:-1].split(';') for s in data]\n",
        "\n",
        "# Заменим первый столбец на тип datetime\n",
        "for d in data:\n",
        "  d[0] = datetime.strptime(d[0], '%Y-%m-%d %H:%M:%S.%f')\n",
        "\n",
        "data.sort() # Отсортируем по времени, чтобы сначала шли ранние сеансы"
      ]
    },
    {
      "cell_type": "code",
      "execution_count": 19,
      "metadata": {},
      "outputs": [
        {
          "data": {
            "text/plain": [
              "[[datetime.datetime(2023, 4, 30, 13, 3, 9, 703800), '6637', '843', '', 'run'],\n",
              " [datetime.datetime(2023, 4, 30, 13, 3, 13, 878247), '8948', '18', '', 'run']]"
            ]
          },
          "execution_count": 19,
          "metadata": {},
          "output_type": "execute_result"
        }
      ],
      "source": [
        "data[:2]"
      ]
    },
    {
      "cell_type": "code",
      "execution_count": null,
      "metadata": {},
      "outputs": [],
      "source": [
        "# Логика такая. Я пробегаюсь по всем пользователям, по всем задачам двойным циклом. \n",
        "# Затем беру первую дату - это будет начала сеанса, потом беру следующие даты и сравниваю с предыдущими, \n",
        "# чтобы было между ними меньше часа. Задачу можно решать и больше часа подряд - это будет один сеанс.\n",
        "# На выходе должно быть Начало_сеанса, конец_сеанса, пользователь, задача, решил_или_нет "
      ]
    },
    {
      "cell_type": "code",
      "execution_count": 78,
      "metadata": {},
      "outputs": [],
      "source": [
        "seances = {}\n",
        "\n",
        "for d in data:\n",
        "    key = (d[1], d[2])\n",
        "    if key not in seances:\n",
        "        seances[key] = [d[0], d[0], d[3]]\n",
        "    else:\n",
        "        if (seances[key][1] - d[0]).total_seconds() <= 3600:\n",
        "            seances[key][1] = d[0]\n",
        "            seances[key][2] = max(seances[key][2], d[3])"
      ]
    },
    {
      "cell_type": "code",
      "execution_count": 80,
      "metadata": {},
      "outputs": [
        {
          "data": {
            "text/plain": [
              "638"
            ]
          },
          "execution_count": 80,
          "metadata": {},
          "output_type": "execute_result"
        }
      ],
      "source": [
        "count = 0\n",
        "for k, v in seances.items():\n",
        "    if v[2] == '1':\n",
        "        count += 1\n",
        "count"
      ]
    },
    {
      "cell_type": "code",
      "execution_count": 81,
      "metadata": {
        "id": "fz7nRb_ntKMv"
      },
      "outputs": [
        {
          "data": {
            "text/plain": [
              "1.2163009404388714"
            ]
          },
          "execution_count": 81,
          "metadata": {},
          "output_type": "execute_result"
        }
      ],
      "source": [
        "res3 = len(seances)/count\n",
        "res3"
      ]
    },
    {
      "cell_type": "markdown",
      "metadata": {
        "id": "0-7TiI06t8D0"
      },
      "source": [
        "✏️ ✏️ ✏️\n",
        "\n",
        "**Проверка**\n",
        "\n",
        "Чтобы проверить свое решение, запустите код в следующих ячейках"
      ]
    },
    {
      "cell_type": "code",
      "execution_count": null,
      "metadata": {
        "id": "eOzvKzYqt_UH"
      },
      "outputs": [],
      "source": [
        "try:\n",
        "    assert res3 == 3.14\n",
        "except AssertionError:\n",
        "    print('Ответы не совпадают')\n",
        "else:\n",
        "    print('Поздравляем, Вы справились!')"
      ]
    },
    {
      "cell_type": "markdown",
      "metadata": {
        "id": "7YYyJ9pIOiu0"
      },
      "source": [
        "#### **Задача 4**\n",
        "\n",
        "И финальная - найдите самый \"популярный\" час дня на нашей платформе.\n",
        "\n",
        "Популярность определяем максимальным количеством уникальных пользователей, совершающих какую-либо активность в этот период\n",
        "\n",
        "Результат в числовом формате запишите в переменную `res4`.\n",
        "\n",
        "Например, самым популярным часом стал период с 22 до 23, тогда в переменной `res4` должно лежать **22**. Обозначающее начало этого периода."
      ]
    },
    {
      "cell_type": "markdown",
      "metadata": {
        "id": "iSMSae9APKaH"
      },
      "source": [
        "**Решение**\n",
        "\n",
        "Напишите свое решение ниже"
      ]
    },
    {
      "cell_type": "code",
      "execution_count": 83,
      "metadata": {
        "id": "YR3WT5QlPH75"
      },
      "outputs": [],
      "source": [
        "from datetime import datetime\n",
        "data = []\n",
        "with open('codesubmit.csv', 'r') as f:\n",
        "  data = f.readlines()[1:]\n",
        "data = [s[:-1].split(';') for s in data]\n",
        "\n",
        "for d in data:\n",
        "    d[0] = d[0][11:13]"
      ]
    },
    {
      "cell_type": "code",
      "execution_count": 101,
      "metadata": {},
      "outputs": [],
      "source": [
        "from collections import Counter\n",
        "\n",
        "value_counts = Counter(d[0] for d in data)\n",
        "\n",
        "# Находим самое частое значение\n",
        "most_common_value, most_common_count = value_counts.most_common(1)[0]\n",
        "res4 = int(most_common_value)"
      ]
    },
    {
      "cell_type": "markdown",
      "metadata": {
        "id": "8BacSt70PPhN"
      },
      "source": [
        "✏️ ✏️ ✏️\n",
        "\n",
        "**Проверка**\n",
        "\n",
        "Чтобы проверить свое решение, запустите код в следующих ячейках"
      ]
    },
    {
      "cell_type": "code",
      "execution_count": 102,
      "metadata": {
        "id": "8xdTbZWOPMp1"
      },
      "outputs": [
        {
          "name": "stdout",
          "output_type": "stream",
          "text": [
            "Поздравляем, Вы справились!\n"
          ]
        }
      ],
      "source": [
        "try:\n",
        "    assert res4 == 16\n",
        "except AssertionError:\n",
        "    print('Ответы не совпадают')\n",
        "else:\n",
        "    print('Поздравляем, Вы справились!')"
      ]
    }
  ],
  "metadata": {
    "colab": {
      "provenance": []
    },
    "kernelspec": {
      "display_name": "Python 3",
      "name": "python3"
    },
    "language_info": {
      "name": "python"
    }
  },
  "nbformat": 4,
  "nbformat_minor": 0
}

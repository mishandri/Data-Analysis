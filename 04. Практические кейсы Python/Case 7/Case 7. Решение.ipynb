{
  "nbformat": 4,
  "nbformat_minor": 0,
  "metadata": {
    "colab": {
      "provenance": []
    },
    "kernelspec": {
      "name": "python3",
      "display_name": "Python 3"
    },
    "language_info": {
      "name": "python"
    }
  },
  "cells": [
    {
      "cell_type": "markdown",
      "source": [
        "## **2 кейс**\n",
        "\n",
        "**Выгрузка активности с ItResume**"
      ],
      "metadata": {
        "id": "XUqCUBW5fUST"
      }
    },
    {
      "cell_type": "markdown",
      "source": [
        "**Важно**\n",
        "\n",
        "Перед началом решения выполните следующую ячейку, чтобы загрузить необходимый для работы файл."
      ],
      "metadata": {
        "id": "OcK9kF9mfZIt"
      }
    },
    {
      "cell_type": "code",
      "execution_count": 211,
      "metadata": {
        "id": "KtNBw8nOfPsB",
        "outputId": "68962cd4-7f32-4ed8-d8ab-8b014ed4aa0d",
        "colab": {
          "base_uri": "https://localhost:8080/"
        }
      },
      "outputs": [
        {
          "output_type": "stream",
          "name": "stdout",
          "text": [
            "--2025-03-27 12:52:51--  https://gist.github.com/Vs8th/a7a7f00e6cdef1b3fe87e4d61ca56e5f/raw/codesubmit.csv\n",
            "Resolving gist.github.com (gist.github.com)... 140.82.113.3\n",
            "Connecting to gist.github.com (gist.github.com)|140.82.113.3|:443... connected.\n",
            "HTTP request sent, awaiting response... 301 Moved Permanently\n",
            "Location: https://gist.githubusercontent.com/Vs8th/a7a7f00e6cdef1b3fe87e4d61ca56e5f/raw/codesubmit.csv [following]\n",
            "--2025-03-27 12:52:51--  https://gist.githubusercontent.com/Vs8th/a7a7f00e6cdef1b3fe87e4d61ca56e5f/raw/codesubmit.csv\n",
            "Resolving gist.githubusercontent.com (gist.githubusercontent.com)... 185.199.108.133, 185.199.109.133, 185.199.110.133, ...\n",
            "Connecting to gist.githubusercontent.com (gist.githubusercontent.com)|185.199.108.133|:443... connected.\n",
            "HTTP request sent, awaiting response... 200 OK\n",
            "Length: 215378 (210K) [text/plain]\n",
            "Saving to: ‘codesubmit.csv’\n",
            "\n",
            "codesubmit.csv      100%[===================>] 210.33K  --.-KB/s    in 0.04s   \n",
            "\n",
            "Last-modified header missing -- time-stamps turned off.\n",
            "2025-03-27 12:52:51 (5.36 MB/s) - ‘codesubmit.csv’ saved [215378/215378]\n",
            "\n"
          ]
        }
      ],
      "source": [
        "!wget -N https://gist.github.com/Vs8th/a7a7f00e6cdef1b3fe87e4d61ca56e5f/raw/codesubmit.csv"
      ]
    },
    {
      "cell_type": "markdown",
      "source": [
        "Чтобы посмотреть как он выглядит выполните следующую ячейку."
      ],
      "metadata": {
        "id": "JIwIK2E5fcyA"
      }
    },
    {
      "cell_type": "code",
      "source": [
        "import pandas as pd\n",
        "\n",
        "df = pd.read_csv('codesubmit.csv', sep = ';')\n",
        "df"
      ],
      "metadata": {
        "id": "6f84pObFfbGE",
        "colab": {
          "base_uri": "https://localhost:8080/",
          "height": 423
        },
        "outputId": "1a8d1747-3164-436f-9755-a1487f96d823"
      },
      "execution_count": 212,
      "outputs": [
        {
          "output_type": "execute_result",
          "data": {
            "text/plain": [
              "                      created_at  user_id  problem_id  is_correct    type\n",
              "0     2023-04-30 13:47:14.344471        7         870         1.0  submit\n",
              "1     2023-04-30 13:46:15.949925        7         870         0.0  submit\n",
              "2     2023-04-30 16:13:26.005286      173          21         1.0  submit\n",
              "3     2023-04-30 16:13:06.739782      173          21         NaN     run\n",
              "4     2023-04-30 15:52:00.195532      173          25         1.0  submit\n",
              "...                          ...      ...         ...         ...     ...\n",
              "4994  2023-04-30 21:52:00.269123    13493         435         NaN     run\n",
              "4995  2023-04-30 21:51:01.094234    13493         435         1.0  submit\n",
              "4996  2023-04-30 21:50:52.059690    13493         435         NaN     run\n",
              "4997  2023-04-30 21:42:24.323689    13493        1086         NaN     run\n",
              "4998  2023-04-30 21:36:13.783309    13493        1086         NaN     run\n",
              "\n",
              "[4999 rows x 5 columns]"
            ],
            "text/html": [
              "\n",
              "  <div id=\"df-62d3d5c4-daa8-4db6-ba1f-5d228bcf03e7\" class=\"colab-df-container\">\n",
              "    <div>\n",
              "<style scoped>\n",
              "    .dataframe tbody tr th:only-of-type {\n",
              "        vertical-align: middle;\n",
              "    }\n",
              "\n",
              "    .dataframe tbody tr th {\n",
              "        vertical-align: top;\n",
              "    }\n",
              "\n",
              "    .dataframe thead th {\n",
              "        text-align: right;\n",
              "    }\n",
              "</style>\n",
              "<table border=\"1\" class=\"dataframe\">\n",
              "  <thead>\n",
              "    <tr style=\"text-align: right;\">\n",
              "      <th></th>\n",
              "      <th>created_at</th>\n",
              "      <th>user_id</th>\n",
              "      <th>problem_id</th>\n",
              "      <th>is_correct</th>\n",
              "      <th>type</th>\n",
              "    </tr>\n",
              "  </thead>\n",
              "  <tbody>\n",
              "    <tr>\n",
              "      <th>0</th>\n",
              "      <td>2023-04-30 13:47:14.344471</td>\n",
              "      <td>7</td>\n",
              "      <td>870</td>\n",
              "      <td>1.0</td>\n",
              "      <td>submit</td>\n",
              "    </tr>\n",
              "    <tr>\n",
              "      <th>1</th>\n",
              "      <td>2023-04-30 13:46:15.949925</td>\n",
              "      <td>7</td>\n",
              "      <td>870</td>\n",
              "      <td>0.0</td>\n",
              "      <td>submit</td>\n",
              "    </tr>\n",
              "    <tr>\n",
              "      <th>2</th>\n",
              "      <td>2023-04-30 16:13:26.005286</td>\n",
              "      <td>173</td>\n",
              "      <td>21</td>\n",
              "      <td>1.0</td>\n",
              "      <td>submit</td>\n",
              "    </tr>\n",
              "    <tr>\n",
              "      <th>3</th>\n",
              "      <td>2023-04-30 16:13:06.739782</td>\n",
              "      <td>173</td>\n",
              "      <td>21</td>\n",
              "      <td>NaN</td>\n",
              "      <td>run</td>\n",
              "    </tr>\n",
              "    <tr>\n",
              "      <th>4</th>\n",
              "      <td>2023-04-30 15:52:00.195532</td>\n",
              "      <td>173</td>\n",
              "      <td>25</td>\n",
              "      <td>1.0</td>\n",
              "      <td>submit</td>\n",
              "    </tr>\n",
              "    <tr>\n",
              "      <th>...</th>\n",
              "      <td>...</td>\n",
              "      <td>...</td>\n",
              "      <td>...</td>\n",
              "      <td>...</td>\n",
              "      <td>...</td>\n",
              "    </tr>\n",
              "    <tr>\n",
              "      <th>4994</th>\n",
              "      <td>2023-04-30 21:52:00.269123</td>\n",
              "      <td>13493</td>\n",
              "      <td>435</td>\n",
              "      <td>NaN</td>\n",
              "      <td>run</td>\n",
              "    </tr>\n",
              "    <tr>\n",
              "      <th>4995</th>\n",
              "      <td>2023-04-30 21:51:01.094234</td>\n",
              "      <td>13493</td>\n",
              "      <td>435</td>\n",
              "      <td>1.0</td>\n",
              "      <td>submit</td>\n",
              "    </tr>\n",
              "    <tr>\n",
              "      <th>4996</th>\n",
              "      <td>2023-04-30 21:50:52.059690</td>\n",
              "      <td>13493</td>\n",
              "      <td>435</td>\n",
              "      <td>NaN</td>\n",
              "      <td>run</td>\n",
              "    </tr>\n",
              "    <tr>\n",
              "      <th>4997</th>\n",
              "      <td>2023-04-30 21:42:24.323689</td>\n",
              "      <td>13493</td>\n",
              "      <td>1086</td>\n",
              "      <td>NaN</td>\n",
              "      <td>run</td>\n",
              "    </tr>\n",
              "    <tr>\n",
              "      <th>4998</th>\n",
              "      <td>2023-04-30 21:36:13.783309</td>\n",
              "      <td>13493</td>\n",
              "      <td>1086</td>\n",
              "      <td>NaN</td>\n",
              "      <td>run</td>\n",
              "    </tr>\n",
              "  </tbody>\n",
              "</table>\n",
              "<p>4999 rows × 5 columns</p>\n",
              "</div>\n",
              "    <div class=\"colab-df-buttons\">\n",
              "\n",
              "  <div class=\"colab-df-container\">\n",
              "    <button class=\"colab-df-convert\" onclick=\"convertToInteractive('df-62d3d5c4-daa8-4db6-ba1f-5d228bcf03e7')\"\n",
              "            title=\"Convert this dataframe to an interactive table.\"\n",
              "            style=\"display:none;\">\n",
              "\n",
              "  <svg xmlns=\"http://www.w3.org/2000/svg\" height=\"24px\" viewBox=\"0 -960 960 960\">\n",
              "    <path d=\"M120-120v-720h720v720H120Zm60-500h600v-160H180v160Zm220 220h160v-160H400v160Zm0 220h160v-160H400v160ZM180-400h160v-160H180v160Zm440 0h160v-160H620v160ZM180-180h160v-160H180v160Zm440 0h160v-160H620v160Z\"/>\n",
              "  </svg>\n",
              "    </button>\n",
              "\n",
              "  <style>\n",
              "    .colab-df-container {\n",
              "      display:flex;\n",
              "      gap: 12px;\n",
              "    }\n",
              "\n",
              "    .colab-df-convert {\n",
              "      background-color: #E8F0FE;\n",
              "      border: none;\n",
              "      border-radius: 50%;\n",
              "      cursor: pointer;\n",
              "      display: none;\n",
              "      fill: #1967D2;\n",
              "      height: 32px;\n",
              "      padding: 0 0 0 0;\n",
              "      width: 32px;\n",
              "    }\n",
              "\n",
              "    .colab-df-convert:hover {\n",
              "      background-color: #E2EBFA;\n",
              "      box-shadow: 0px 1px 2px rgba(60, 64, 67, 0.3), 0px 1px 3px 1px rgba(60, 64, 67, 0.15);\n",
              "      fill: #174EA6;\n",
              "    }\n",
              "\n",
              "    .colab-df-buttons div {\n",
              "      margin-bottom: 4px;\n",
              "    }\n",
              "\n",
              "    [theme=dark] .colab-df-convert {\n",
              "      background-color: #3B4455;\n",
              "      fill: #D2E3FC;\n",
              "    }\n",
              "\n",
              "    [theme=dark] .colab-df-convert:hover {\n",
              "      background-color: #434B5C;\n",
              "      box-shadow: 0px 1px 3px 1px rgba(0, 0, 0, 0.15);\n",
              "      filter: drop-shadow(0px 1px 2px rgba(0, 0, 0, 0.3));\n",
              "      fill: #FFFFFF;\n",
              "    }\n",
              "  </style>\n",
              "\n",
              "    <script>\n",
              "      const buttonEl =\n",
              "        document.querySelector('#df-62d3d5c4-daa8-4db6-ba1f-5d228bcf03e7 button.colab-df-convert');\n",
              "      buttonEl.style.display =\n",
              "        google.colab.kernel.accessAllowed ? 'block' : 'none';\n",
              "\n",
              "      async function convertToInteractive(key) {\n",
              "        const element = document.querySelector('#df-62d3d5c4-daa8-4db6-ba1f-5d228bcf03e7');\n",
              "        const dataTable =\n",
              "          await google.colab.kernel.invokeFunction('convertToInteractive',\n",
              "                                                    [key], {});\n",
              "        if (!dataTable) return;\n",
              "\n",
              "        const docLinkHtml = 'Like what you see? Visit the ' +\n",
              "          '<a target=\"_blank\" href=https://colab.research.google.com/notebooks/data_table.ipynb>data table notebook</a>'\n",
              "          + ' to learn more about interactive tables.';\n",
              "        element.innerHTML = '';\n",
              "        dataTable['output_type'] = 'display_data';\n",
              "        await google.colab.output.renderOutput(dataTable, element);\n",
              "        const docLink = document.createElement('div');\n",
              "        docLink.innerHTML = docLinkHtml;\n",
              "        element.appendChild(docLink);\n",
              "      }\n",
              "    </script>\n",
              "  </div>\n",
              "\n",
              "\n",
              "<div id=\"df-78648add-ab6f-40f0-b252-509e133c2d42\">\n",
              "  <button class=\"colab-df-quickchart\" onclick=\"quickchart('df-78648add-ab6f-40f0-b252-509e133c2d42')\"\n",
              "            title=\"Suggest charts\"\n",
              "            style=\"display:none;\">\n",
              "\n",
              "<svg xmlns=\"http://www.w3.org/2000/svg\" height=\"24px\"viewBox=\"0 0 24 24\"\n",
              "     width=\"24px\">\n",
              "    <g>\n",
              "        <path d=\"M19 3H5c-1.1 0-2 .9-2 2v14c0 1.1.9 2 2 2h14c1.1 0 2-.9 2-2V5c0-1.1-.9-2-2-2zM9 17H7v-7h2v7zm4 0h-2V7h2v10zm4 0h-2v-4h2v4z\"/>\n",
              "    </g>\n",
              "</svg>\n",
              "  </button>\n",
              "\n",
              "<style>\n",
              "  .colab-df-quickchart {\n",
              "      --bg-color: #E8F0FE;\n",
              "      --fill-color: #1967D2;\n",
              "      --hover-bg-color: #E2EBFA;\n",
              "      --hover-fill-color: #174EA6;\n",
              "      --disabled-fill-color: #AAA;\n",
              "      --disabled-bg-color: #DDD;\n",
              "  }\n",
              "\n",
              "  [theme=dark] .colab-df-quickchart {\n",
              "      --bg-color: #3B4455;\n",
              "      --fill-color: #D2E3FC;\n",
              "      --hover-bg-color: #434B5C;\n",
              "      --hover-fill-color: #FFFFFF;\n",
              "      --disabled-bg-color: #3B4455;\n",
              "      --disabled-fill-color: #666;\n",
              "  }\n",
              "\n",
              "  .colab-df-quickchart {\n",
              "    background-color: var(--bg-color);\n",
              "    border: none;\n",
              "    border-radius: 50%;\n",
              "    cursor: pointer;\n",
              "    display: none;\n",
              "    fill: var(--fill-color);\n",
              "    height: 32px;\n",
              "    padding: 0;\n",
              "    width: 32px;\n",
              "  }\n",
              "\n",
              "  .colab-df-quickchart:hover {\n",
              "    background-color: var(--hover-bg-color);\n",
              "    box-shadow: 0 1px 2px rgba(60, 64, 67, 0.3), 0 1px 3px 1px rgba(60, 64, 67, 0.15);\n",
              "    fill: var(--button-hover-fill-color);\n",
              "  }\n",
              "\n",
              "  .colab-df-quickchart-complete:disabled,\n",
              "  .colab-df-quickchart-complete:disabled:hover {\n",
              "    background-color: var(--disabled-bg-color);\n",
              "    fill: var(--disabled-fill-color);\n",
              "    box-shadow: none;\n",
              "  }\n",
              "\n",
              "  .colab-df-spinner {\n",
              "    border: 2px solid var(--fill-color);\n",
              "    border-color: transparent;\n",
              "    border-bottom-color: var(--fill-color);\n",
              "    animation:\n",
              "      spin 1s steps(1) infinite;\n",
              "  }\n",
              "\n",
              "  @keyframes spin {\n",
              "    0% {\n",
              "      border-color: transparent;\n",
              "      border-bottom-color: var(--fill-color);\n",
              "      border-left-color: var(--fill-color);\n",
              "    }\n",
              "    20% {\n",
              "      border-color: transparent;\n",
              "      border-left-color: var(--fill-color);\n",
              "      border-top-color: var(--fill-color);\n",
              "    }\n",
              "    30% {\n",
              "      border-color: transparent;\n",
              "      border-left-color: var(--fill-color);\n",
              "      border-top-color: var(--fill-color);\n",
              "      border-right-color: var(--fill-color);\n",
              "    }\n",
              "    40% {\n",
              "      border-color: transparent;\n",
              "      border-right-color: var(--fill-color);\n",
              "      border-top-color: var(--fill-color);\n",
              "    }\n",
              "    60% {\n",
              "      border-color: transparent;\n",
              "      border-right-color: var(--fill-color);\n",
              "    }\n",
              "    80% {\n",
              "      border-color: transparent;\n",
              "      border-right-color: var(--fill-color);\n",
              "      border-bottom-color: var(--fill-color);\n",
              "    }\n",
              "    90% {\n",
              "      border-color: transparent;\n",
              "      border-bottom-color: var(--fill-color);\n",
              "    }\n",
              "  }\n",
              "</style>\n",
              "\n",
              "  <script>\n",
              "    async function quickchart(key) {\n",
              "      const quickchartButtonEl =\n",
              "        document.querySelector('#' + key + ' button');\n",
              "      quickchartButtonEl.disabled = true;  // To prevent multiple clicks.\n",
              "      quickchartButtonEl.classList.add('colab-df-spinner');\n",
              "      try {\n",
              "        const charts = await google.colab.kernel.invokeFunction(\n",
              "            'suggestCharts', [key], {});\n",
              "      } catch (error) {\n",
              "        console.error('Error during call to suggestCharts:', error);\n",
              "      }\n",
              "      quickchartButtonEl.classList.remove('colab-df-spinner');\n",
              "      quickchartButtonEl.classList.add('colab-df-quickchart-complete');\n",
              "    }\n",
              "    (() => {\n",
              "      let quickchartButtonEl =\n",
              "        document.querySelector('#df-78648add-ab6f-40f0-b252-509e133c2d42 button');\n",
              "      quickchartButtonEl.style.display =\n",
              "        google.colab.kernel.accessAllowed ? 'block' : 'none';\n",
              "    })();\n",
              "  </script>\n",
              "</div>\n",
              "    </div>\n",
              "  </div>\n"
            ],
            "application/vnd.google.colaboratory.intrinsic+json": {
              "type": "dataframe",
              "variable_name": "df",
              "summary": "{\n  \"name\": \"df\",\n  \"rows\": 4999,\n  \"fields\": [\n    {\n      \"column\": \"created_at\",\n      \"properties\": {\n        \"dtype\": \"object\",\n        \"num_unique_values\": 4999,\n        \"samples\": [\n          \"2023-04-30 13:22:19.979007\",\n          \"2023-04-30 19:35:41.481381\",\n          \"2023-04-30 14:08:32.611368\"\n        ],\n        \"semantic_type\": \"\",\n        \"description\": \"\"\n      }\n    },\n    {\n      \"column\": \"user_id\",\n      \"properties\": {\n        \"dtype\": \"number\",\n        \"std\": 3921,\n        \"min\": 7,\n        \"max\": 13493,\n        \"num_unique_values\": 193,\n        \"samples\": [\n          5100,\n          12195,\n          7765\n        ],\n        \"semantic_type\": \"\",\n        \"description\": \"\"\n      }\n    },\n    {\n      \"column\": \"problem_id\",\n      \"properties\": {\n        \"dtype\": \"number\",\n        \"std\": 433,\n        \"min\": 3,\n        \"max\": 1237,\n        \"num_unique_values\": 334,\n        \"samples\": [\n          166,\n          214,\n          876\n        ],\n        \"semantic_type\": \"\",\n        \"description\": \"\"\n      }\n    },\n    {\n      \"column\": \"is_correct\",\n      \"properties\": {\n        \"dtype\": \"number\",\n        \"std\": 0.47479310070531827,\n        \"min\": 0.0,\n        \"max\": 1.0,\n        \"num_unique_values\": 2,\n        \"samples\": [\n          0.0,\n          1.0\n        ],\n        \"semantic_type\": \"\",\n        \"description\": \"\"\n      }\n    },\n    {\n      \"column\": \"type\",\n      \"properties\": {\n        \"dtype\": \"category\",\n        \"num_unique_values\": 2,\n        \"samples\": [\n          \"run\",\n          \"submit\"\n        ],\n        \"semantic_type\": \"\",\n        \"description\": \"\"\n      }\n    }\n  ]\n}"
            }
          },
          "metadata": {},
          "execution_count": 212
        }
      ]
    },
    {
      "cell_type": "markdown",
      "source": [
        "### **Решения**"
      ],
      "metadata": {
        "id": "CxmnD3GvffQ4"
      }
    },
    {
      "cell_type": "markdown",
      "source": [
        "#### **Задача 1**\n",
        "\n",
        "Ваша задача - выяснить сколько в среднем тратится времени на решение задачи.\n",
        "\n",
        "**Примечание**: для правильного подсчета - рассчитайте сначала среднее время решения по каждой задаче в отдельности, и только затем находите общее среднее время решения задач.\n",
        "\n",
        "Результат - число типа `float`, округлите до 2 знаков после запятой и запишите в переменную `res`.\n"
      ],
      "metadata": {
        "id": "5bdLXu2ksLB7"
      }
    },
    {
      "cell_type": "markdown",
      "source": [
        "**Решение**\n",
        "\n",
        "Напишите свое решение ниже"
      ],
      "metadata": {
        "id": "qUL4LtIUnJge"
      }
    },
    {
      "cell_type": "code",
      "source": [
        "from datetime import datetime\n",
        "data = []\n",
        "with open('codesubmit.csv', 'r') as f:\n",
        "  data = f.readlines()[1:]\n",
        "data = [s[:-1].split(';') for s in data]\n",
        "\n",
        "# Сформировал двумерный массив данных с элементами\n",
        "data[:5]"
      ],
      "metadata": {
        "id": "Ia39hhmZbNRW",
        "colab": {
          "base_uri": "https://localhost:8080/"
        },
        "outputId": "1e4ff6ec-aa5e-426a-ad0f-350a175a5f8c"
      },
      "execution_count": 213,
      "outputs": [
        {
          "output_type": "execute_result",
          "data": {
            "text/plain": [
              "[['2023-04-30 13:47:14.344471', '7', '870', '1', 'submit'],\n",
              " ['2023-04-30 13:46:15.949925', '7', '870', '0', 'submit'],\n",
              " ['2023-04-30 16:13:26.005286', '173', '21', '1', 'submit'],\n",
              " ['2023-04-30 16:13:06.739782', '173', '21', '', 'run'],\n",
              " ['2023-04-30 15:52:00.195532', '173', '25', '1', 'submit']]"
            ]
          },
          "metadata": {},
          "execution_count": 213
        }
      ]
    },
    {
      "cell_type": "code",
      "source": [
        "# Заменим первый столбец на тип datetime\n",
        "for d in data:\n",
        "  d[0] = datetime.strptime(d[0], '%Y-%m-%d %H:%M:%S.%f')"
      ],
      "metadata": {
        "id": "LpmDAqHSc0r9"
      },
      "execution_count": 214,
      "outputs": []
    },
    {
      "cell_type": "code",
      "source": [
        "# Найдём все submit с '1'. Это список всех успешных решений задач\n",
        "submits = [d[:3] for d in data if d[3] == '1' and d[4] == 'submit']\n",
        "\n",
        "all = {}\n",
        "for d in submits:\n",
        "  key = (d[1], d[2])\n",
        "  value = (d[0])\n",
        "\n",
        "  if key not in all or all[key] > value:\n",
        "    all[key] = value\n",
        "submits = [[v, k[0], k[1]] for k, v in all.items()]"
      ],
      "metadata": {
        "id": "vnRpLBKPhBin"
      },
      "execution_count": 223,
      "outputs": []
    },
    {
      "cell_type": "code",
      "source": [
        "# Надо найти минимальные дата-время для каждой пары (user_id, problem_id)\n",
        "all = {}\n",
        "for d in data:\n",
        "  key = (d[1], d[2])\n",
        "  value = (d[0])\n",
        "\n",
        "  if key not in all or all[key] > value:\n",
        "    all[key] = value\n",
        "first_attempts = [[v, k[0], k[1]] for k, v in all.items()]\n",
        "first_attempts[:5]"
      ],
      "metadata": {
        "colab": {
          "base_uri": "https://localhost:8080/"
        },
        "id": "BmftT1E2gmH4",
        "outputId": "3ce5c5da-c7aa-4455-adfa-4e597e6c0291"
      },
      "execution_count": 224,
      "outputs": [
        {
          "output_type": "execute_result",
          "data": {
            "text/plain": [
              "[[datetime.datetime(2023, 4, 30, 13, 46, 15, 949925), '7', '870'],\n",
              " [datetime.datetime(2023, 4, 30, 16, 13, 6, 739782), '173', '21'],\n",
              " [datetime.datetime(2023, 4, 30, 15, 37, 3, 852246), '173', '25'],\n",
              " [datetime.datetime(2023, 4, 30, 16, 19, 37, 394470), '173', '35'],\n",
              " [datetime.datetime(2023, 4, 30, 15, 14, 13, 931621), '183', '173']]"
            ]
          },
          "metadata": {},
          "execution_count": 224
        }
      ]
    },
    {
      "cell_type": "code",
      "source": [
        "result = []\n",
        "for sub in submits:\n",
        "  for fa in first_attempts:\n",
        "    if sub[1] == fa[1] and sub[2] == fa[2] and sub[0] != fa[0]:\n",
        "      # sub[0] != fa[0] отсекает те задачи, которые были решены с первой попытки\n",
        "        result.append([(sub[0] - fa[0]).total_seconds(), sub[1], sub[2]])\n",
        "# Теперь в result хранится информация Время выполнения, Пользователь, Задача\n",
        "result[:5]"
      ],
      "metadata": {
        "colab": {
          "base_uri": "https://localhost:8080/"
        },
        "id": "Rs7afsMQlAsh",
        "outputId": "55d19617-f761-44d0-b0b7-2078ab8a712b"
      },
      "execution_count": 225,
      "outputs": [
        {
          "output_type": "execute_result",
          "data": {
            "text/plain": [
              "[[58.394546, '7', '870'],\n",
              " [19.265504, '173', '21'],\n",
              " [896.343286, '173', '25'],\n",
              " [16560.361198, '173', '35'],\n",
              " [4223.552233, '183', '173']]"
            ]
          },
          "metadata": {},
          "execution_count": 225
        }
      ]
    },
    {
      "cell_type": "code",
      "source": [
        "time = {}\n",
        "count = {}\n",
        "\n",
        "for r in result:\n",
        "  key = r[2]\n",
        "  value = r[0]\n",
        "  if key not in time:\n",
        "    time[key] = value\n",
        "    count[key] = 1\n",
        "  else:\n",
        "    time[key] += value\n",
        "    count[key] += 1\n",
        "# В time - Номер задачи: суммарное время её решения\n",
        "# В count - Номер задачи: количество решений"
      ],
      "metadata": {
        "id": "k2Q-BnnNnHE8"
      },
      "execution_count": 226,
      "outputs": []
    },
    {
      "cell_type": "code",
      "source": [
        "for key in time:\n",
        "  time[key] = time[key] / count[key]\n",
        "# Теперь в time - Номер задачи: среднее время её решения"
      ],
      "metadata": {
        "id": "-hGO7eXTn2Qp"
      },
      "execution_count": 227,
      "outputs": []
    },
    {
      "cell_type": "code",
      "source": [
        "res = round(sum(time.values())/len(time),2)\n",
        "res"
      ],
      "metadata": {
        "colab": {
          "base_uri": "https://localhost:8080/"
        },
        "id": "n_u1FHvzoXb0",
        "outputId": "8eee63a7-e820-40ae-9c5b-e0fc6d41867f"
      },
      "execution_count": 228,
      "outputs": [
        {
          "output_type": "execute_result",
          "data": {
            "text/plain": [
              "611.86"
            ]
          },
          "metadata": {},
          "execution_count": 228
        }
      ]
    },
    {
      "cell_type": "markdown",
      "source": [
        "✏️ ✏️ ✏️\n",
        "\n",
        "**Проверка**\n",
        "\n",
        "Чтобы проверить свое решение, запустите код в следующих ячейках"
      ],
      "metadata": {
        "id": "54Tvpn9OkDwV"
      }
    },
    {
      "cell_type": "code",
      "source": [
        "try:\n",
        "    assert res == 611.86\n",
        "except AssertionError:\n",
        "    print('Ответы не совпадают')\n",
        "else:\n",
        "    print('Поздравляем, Вы справились!')"
      ],
      "metadata": {
        "id": "LkqzVw9skKEC",
        "colab": {
          "base_uri": "https://localhost:8080/"
        },
        "outputId": "1287d9fb-1688-49c9-b2bc-f22ae8dc2109"
      },
      "execution_count": 229,
      "outputs": [
        {
          "output_type": "stream",
          "name": "stdout",
          "text": [
            "Поздравляем, Вы справились!\n"
          ]
        }
      ]
    },
    {
      "cell_type": "markdown",
      "source": [
        "#### **Задача 2**\n",
        "\n",
        "Ваша задача - выяснить сколько часов в среднем проводит юзер в день на платформе. Перерывы в активности за день - не учитываем.\n",
        "\n",
        "Результат - число типа `float`, округлите до 2 знаков после запятой и запишите в переменную `res2`."
      ],
      "metadata": {
        "id": "QLNMvvhXoIdV"
      }
    },
    {
      "cell_type": "markdown",
      "source": [
        "**Решение**\n",
        "\n",
        "Напишите свое решение ниже"
      ],
      "metadata": {
        "id": "LThhpSINoMHN"
      }
    },
    {
      "cell_type": "code",
      "source": [
        "\n",
        "# Ваше решение здесь\n",
        "\n",
        "...\n",
        "\n",
        "\n",
        "res2 ="
      ],
      "metadata": {
        "id": "9s8JBMlboJuf"
      },
      "execution_count": null,
      "outputs": []
    },
    {
      "cell_type": "markdown",
      "source": [
        "✏️ ✏️ ✏️\n",
        "\n",
        "**Проверка**\n",
        "\n",
        "Чтобы проверить свое решение, запустите код в следующих ячейках"
      ],
      "metadata": {
        "id": "GN_PNZICsxRD"
      }
    },
    {
      "cell_type": "code",
      "source": [
        "try:\n",
        "    assert res2 == 1.7\n",
        "except AssertionError:\n",
        "    print('Ответы не совпадают')\n",
        "else:\n",
        "    print('Поздравляем, Вы справились!')"
      ],
      "metadata": {
        "colab": {
          "base_uri": "https://localhost:8080/"
        },
        "id": "a36bM9j9tD7l",
        "outputId": "9dae8765-425a-4707-f1b9-62d73889a444"
      },
      "execution_count": null,
      "outputs": [
        {
          "output_type": "stream",
          "name": "stdout",
          "text": [
            "Поздравляем, Вы справились и успешно прошли все проверки!!\n"
          ]
        }
      ]
    },
    {
      "cell_type": "markdown",
      "source": [
        "#### **Задача 3**\n",
        "\n",
        "Теперь давайте посмотрим на активные сеансы. Выясните, сколько задач в среднем решается за один активный сеанс.\n",
        "\n",
        "**Активный сеанс** - период, когда между любой активностью пользователя разница менее или равна часу, не более\n",
        "\n",
        "**Важно**: в расчет берем не только успешные попытки решений (`is_correct=1`), а и неуспешные тоже (`is_correct=0`), и тип `run` в том числе.\n",
        "\n",
        "Результат - число типа `float`, округлите до 2 знаков после запятой и запишите в переменную `res3`."
      ],
      "metadata": {
        "id": "AwB-HtPLtjyl"
      }
    },
    {
      "cell_type": "markdown",
      "source": [
        "**Решение**\n",
        "\n",
        "Напишите свое решение ниже"
      ],
      "metadata": {
        "id": "GOTB--hmt2xw"
      }
    },
    {
      "cell_type": "code",
      "source": [
        "\n",
        "# Ваше решение здесь\n",
        "\n",
        "...\n",
        "\n",
        "\n",
        "res3 ="
      ],
      "metadata": {
        "id": "fz7nRb_ntKMv"
      },
      "execution_count": null,
      "outputs": []
    },
    {
      "cell_type": "markdown",
      "source": [
        "✏️ ✏️ ✏️\n",
        "\n",
        "**Проверка**\n",
        "\n",
        "Чтобы проверить свое решение, запустите код в следующих ячейках"
      ],
      "metadata": {
        "id": "0-7TiI06t8D0"
      }
    },
    {
      "cell_type": "code",
      "source": [
        "try:\n",
        "    assert res3 == 3.14\n",
        "except AssertionError:\n",
        "    print('Ответы не совпадают')\n",
        "else:\n",
        "    print('Поздравляем, Вы справились!')"
      ],
      "metadata": {
        "id": "eOzvKzYqt_UH"
      },
      "execution_count": null,
      "outputs": []
    },
    {
      "cell_type": "markdown",
      "source": [
        "#### **Задача 4**\n",
        "\n",
        "И финальная - найдите самый \"популярный\" час дня на нашей платформе.\n",
        "\n",
        "Популярность определяем максимальным количеством уникальных пользователей, совершающих какую-либо активность в этот период\n",
        "\n",
        "Результат в числовом формате запишите в переменную `res4`.\n",
        "\n",
        "Например, самым популярным часом стал период с 22 до 23, тогда в переменной `res4` должно лежать **22**. Обозначающее начало этого периода."
      ],
      "metadata": {
        "id": "7YYyJ9pIOiu0"
      }
    },
    {
      "cell_type": "markdown",
      "source": [
        "**Решение**\n",
        "\n",
        "Напишите свое решение ниже"
      ],
      "metadata": {
        "id": "iSMSae9APKaH"
      }
    },
    {
      "cell_type": "code",
      "source": [
        "\n",
        "# Ваше решение здесь\n",
        "\n",
        "...\n",
        "\n",
        "\n",
        "res4 ="
      ],
      "metadata": {
        "id": "YR3WT5QlPH75"
      },
      "execution_count": null,
      "outputs": []
    },
    {
      "cell_type": "markdown",
      "source": [
        "✏️ ✏️ ✏️\n",
        "\n",
        "**Проверка**\n",
        "\n",
        "Чтобы проверить свое решение, запустите код в следующих ячейках"
      ],
      "metadata": {
        "id": "8BacSt70PPhN"
      }
    },
    {
      "cell_type": "code",
      "source": [
        "try:\n",
        "    assert res4 == 16\n",
        "except AssertionError:\n",
        "    print('Ответы не совпадают')\n",
        "else:\n",
        "    print('Поздравляем, Вы справились!')"
      ],
      "metadata": {
        "id": "8xdTbZWOPMp1"
      },
      "execution_count": null,
      "outputs": []
    }
  ]
}
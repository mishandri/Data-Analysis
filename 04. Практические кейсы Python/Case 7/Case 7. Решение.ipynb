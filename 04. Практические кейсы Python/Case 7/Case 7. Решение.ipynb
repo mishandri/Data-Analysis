{
  "cells": [
    {
      "cell_type": "markdown",
      "metadata": {
        "id": "XUqCUBW5fUST"
      },
      "source": [
        "## **2 кейс**\n",
        "\n",
        "**Выгрузка активности с ItResume**"
      ]
    },
    {
      "cell_type": "markdown",
      "metadata": {
        "id": "OcK9kF9mfZIt"
      },
      "source": [
        "**Важно**\n",
        "\n",
        "Перед началом решения выполните следующую ячейку, чтобы загрузить необходимый для работы файл."
      ]
    },
    {
      "cell_type": "code",
      "execution_count": 211,
      "metadata": {
        "colab": {
          "base_uri": "https://localhost:8080/"
        },
        "id": "KtNBw8nOfPsB",
        "outputId": "68962cd4-7f32-4ed8-d8ab-8b014ed4aa0d"
      },
      "outputs": [
        {
          "name": "stdout",
          "output_type": "stream",
          "text": [
            "--2025-03-27 12:52:51--  https://gist.github.com/Vs8th/a7a7f00e6cdef1b3fe87e4d61ca56e5f/raw/codesubmit.csv\n",
            "Resolving gist.github.com (gist.github.com)... 140.82.113.3\n",
            "Connecting to gist.github.com (gist.github.com)|140.82.113.3|:443... connected.\n",
            "HTTP request sent, awaiting response... 301 Moved Permanently\n",
            "Location: https://gist.githubusercontent.com/Vs8th/a7a7f00e6cdef1b3fe87e4d61ca56e5f/raw/codesubmit.csv [following]\n",
            "--2025-03-27 12:52:51--  https://gist.githubusercontent.com/Vs8th/a7a7f00e6cdef1b3fe87e4d61ca56e5f/raw/codesubmit.csv\n",
            "Resolving gist.githubusercontent.com (gist.githubusercontent.com)... 185.199.108.133, 185.199.109.133, 185.199.110.133, ...\n",
            "Connecting to gist.githubusercontent.com (gist.githubusercontent.com)|185.199.108.133|:443... connected.\n",
            "HTTP request sent, awaiting response... 200 OK\n",
            "Length: 215378 (210K) [text/plain]\n",
            "Saving to: ‘codesubmit.csv’\n",
            "\n",
            "codesubmit.csv      100%[===================>] 210.33K  --.-KB/s    in 0.04s   \n",
            "\n",
            "Last-modified header missing -- time-stamps turned off.\n",
            "2025-03-27 12:52:51 (5.36 MB/s) - ‘codesubmit.csv’ saved [215378/215378]\n",
            "\n"
          ]
        }
      ],
      "source": [
        "!wget -N https://gist.github.com/Vs8th/a7a7f00e6cdef1b3fe87e4d61ca56e5f/raw/codesubmit.csv"
      ]
    },
    {
      "cell_type": "markdown",
      "metadata": {
        "id": "JIwIK2E5fcyA"
      },
      "source": [
        "Чтобы посмотреть как он выглядит выполните следующую ячейку."
      ]
    },
    {
      "cell_type": "code",
      "execution_count": 103,
      "metadata": {
        "colab": {
          "base_uri": "https://localhost:8080/",
          "height": 423
        },
        "id": "6f84pObFfbGE",
        "outputId": "1a8d1747-3164-436f-9755-a1487f96d823"
      },
      "outputs": [
        {
          "data": {
            "text/html": [
              "<div>\n",
              "<style scoped>\n",
              "    .dataframe tbody tr th:only-of-type {\n",
              "        vertical-align: middle;\n",
              "    }\n",
              "\n",
              "    .dataframe tbody tr th {\n",
              "        vertical-align: top;\n",
              "    }\n",
              "\n",
              "    .dataframe thead th {\n",
              "        text-align: right;\n",
              "    }\n",
              "</style>\n",
              "<table border=\"1\" class=\"dataframe\">\n",
              "  <thead>\n",
              "    <tr style=\"text-align: right;\">\n",
              "      <th></th>\n",
              "      <th>created_at</th>\n",
              "      <th>user_id</th>\n",
              "      <th>problem_id</th>\n",
              "      <th>is_correct</th>\n",
              "      <th>type</th>\n",
              "    </tr>\n",
              "  </thead>\n",
              "  <tbody>\n",
              "    <tr>\n",
              "      <th>0</th>\n",
              "      <td>2023-04-30 13:47:14.344471</td>\n",
              "      <td>7</td>\n",
              "      <td>870</td>\n",
              "      <td>1.0</td>\n",
              "      <td>submit</td>\n",
              "    </tr>\n",
              "    <tr>\n",
              "      <th>1</th>\n",
              "      <td>2023-04-30 13:46:15.949925</td>\n",
              "      <td>7</td>\n",
              "      <td>870</td>\n",
              "      <td>0.0</td>\n",
              "      <td>submit</td>\n",
              "    </tr>\n",
              "    <tr>\n",
              "      <th>2</th>\n",
              "      <td>2023-04-30 16:13:26.005286</td>\n",
              "      <td>173</td>\n",
              "      <td>21</td>\n",
              "      <td>1.0</td>\n",
              "      <td>submit</td>\n",
              "    </tr>\n",
              "    <tr>\n",
              "      <th>3</th>\n",
              "      <td>2023-04-30 16:13:06.739782</td>\n",
              "      <td>173</td>\n",
              "      <td>21</td>\n",
              "      <td>NaN</td>\n",
              "      <td>run</td>\n",
              "    </tr>\n",
              "    <tr>\n",
              "      <th>4</th>\n",
              "      <td>2023-04-30 15:52:00.195532</td>\n",
              "      <td>173</td>\n",
              "      <td>25</td>\n",
              "      <td>1.0</td>\n",
              "      <td>submit</td>\n",
              "    </tr>\n",
              "    <tr>\n",
              "      <th>...</th>\n",
              "      <td>...</td>\n",
              "      <td>...</td>\n",
              "      <td>...</td>\n",
              "      <td>...</td>\n",
              "      <td>...</td>\n",
              "    </tr>\n",
              "    <tr>\n",
              "      <th>4994</th>\n",
              "      <td>2023-04-30 21:52:00.269123</td>\n",
              "      <td>13493</td>\n",
              "      <td>435</td>\n",
              "      <td>NaN</td>\n",
              "      <td>run</td>\n",
              "    </tr>\n",
              "    <tr>\n",
              "      <th>4995</th>\n",
              "      <td>2023-04-30 21:51:01.094234</td>\n",
              "      <td>13493</td>\n",
              "      <td>435</td>\n",
              "      <td>1.0</td>\n",
              "      <td>submit</td>\n",
              "    </tr>\n",
              "    <tr>\n",
              "      <th>4996</th>\n",
              "      <td>2023-04-30 21:50:52.059690</td>\n",
              "      <td>13493</td>\n",
              "      <td>435</td>\n",
              "      <td>NaN</td>\n",
              "      <td>run</td>\n",
              "    </tr>\n",
              "    <tr>\n",
              "      <th>4997</th>\n",
              "      <td>2023-04-30 21:42:24.323689</td>\n",
              "      <td>13493</td>\n",
              "      <td>1086</td>\n",
              "      <td>NaN</td>\n",
              "      <td>run</td>\n",
              "    </tr>\n",
              "    <tr>\n",
              "      <th>4998</th>\n",
              "      <td>2023-04-30 21:36:13.783309</td>\n",
              "      <td>13493</td>\n",
              "      <td>1086</td>\n",
              "      <td>NaN</td>\n",
              "      <td>run</td>\n",
              "    </tr>\n",
              "  </tbody>\n",
              "</table>\n",
              "<p>4999 rows × 5 columns</p>\n",
              "</div>"
            ],
            "text/plain": [
              "                      created_at  user_id  problem_id  is_correct    type\n",
              "0     2023-04-30 13:47:14.344471        7         870         1.0  submit\n",
              "1     2023-04-30 13:46:15.949925        7         870         0.0  submit\n",
              "2     2023-04-30 16:13:26.005286      173          21         1.0  submit\n",
              "3     2023-04-30 16:13:06.739782      173          21         NaN     run\n",
              "4     2023-04-30 15:52:00.195532      173          25         1.0  submit\n",
              "...                          ...      ...         ...         ...     ...\n",
              "4994  2023-04-30 21:52:00.269123    13493         435         NaN     run\n",
              "4995  2023-04-30 21:51:01.094234    13493         435         1.0  submit\n",
              "4996  2023-04-30 21:50:52.059690    13493         435         NaN     run\n",
              "4997  2023-04-30 21:42:24.323689    13493        1086         NaN     run\n",
              "4998  2023-04-30 21:36:13.783309    13493        1086         NaN     run\n",
              "\n",
              "[4999 rows x 5 columns]"
            ]
          },
          "execution_count": 103,
          "metadata": {},
          "output_type": "execute_result"
        }
      ],
      "source": [
        "import pandas as pd\n",
        "\n",
        "df = pd.read_csv('codesubmit.csv', sep = ';')\n",
        "df"
      ]
    },
    {
      "cell_type": "markdown",
      "metadata": {
        "id": "CxmnD3GvffQ4"
      },
      "source": [
        "### **Решения**"
      ]
    },
    {
      "cell_type": "markdown",
      "metadata": {
        "id": "5bdLXu2ksLB7"
      },
      "source": [
        "#### **Задача 1**\n",
        "\n",
        "Ваша задача - выяснить сколько в среднем тратится времени на решение задачи.\n",
        "\n",
        "**Примечание**: для правильного подсчета - рассчитайте сначала среднее время решения по каждой задаче в отдельности, и только затем находите общее среднее время решения задач.\n",
        "\n",
        "Результат - число типа `float`, округлите до 2 знаков после запятой и запишите в переменную `res`.\n"
      ]
    },
    {
      "cell_type": "markdown",
      "metadata": {
        "id": "qUL4LtIUnJge"
      },
      "source": [
        "**Решение**\n",
        "\n",
        "Напишите свое решение ниже"
      ]
    },
    {
      "cell_type": "code",
      "execution_count": 213,
      "metadata": {
        "colab": {
          "base_uri": "https://localhost:8080/"
        },
        "id": "Ia39hhmZbNRW",
        "outputId": "1e4ff6ec-aa5e-426a-ad0f-350a175a5f8c"
      },
      "outputs": [
        {
          "data": {
            "text/plain": [
              "[['2023-04-30 13:47:14.344471', '7', '870', '1', 'submit'],\n",
              " ['2023-04-30 13:46:15.949925', '7', '870', '0', 'submit'],\n",
              " ['2023-04-30 16:13:26.005286', '173', '21', '1', 'submit'],\n",
              " ['2023-04-30 16:13:06.739782', '173', '21', '', 'run'],\n",
              " ['2023-04-30 15:52:00.195532', '173', '25', '1', 'submit']]"
            ]
          },
          "execution_count": 213,
          "metadata": {},
          "output_type": "execute_result"
        }
      ],
      "source": [
        "from datetime import datetime\n",
        "data = []\n",
        "with open('codesubmit.csv', 'r') as f:\n",
        "  data = f.readlines()[1:]\n",
        "data = [s[:-1].split(';') for s in data]\n",
        "\n",
        "# Сформировал двумерный массив данных с элементами\n",
        "data[:5]"
      ]
    },
    {
      "cell_type": "code",
      "execution_count": 214,
      "metadata": {
        "id": "LpmDAqHSc0r9"
      },
      "outputs": [],
      "source": [
        "# Заменим первый столбец на тип datetime\n",
        "for d in data:\n",
        "  d[0] = datetime.strptime(d[0], '%Y-%m-%d %H:%M:%S.%f')"
      ]
    },
    {
      "cell_type": "code",
      "execution_count": 223,
      "metadata": {
        "id": "vnRpLBKPhBin"
      },
      "outputs": [],
      "source": [
        "# Найдём все submit с '1'. Это список всех успешных решений задач\n",
        "submits = [d[:3] for d in data if d[3] == '1' and d[4] == 'submit']\n",
        "# Надо найти минимальные дата-время submits для каждой пары (user_id, problem_id)\n",
        "all = {}\n",
        "for d in submits:\n",
        "  key = (d[1], d[2])\n",
        "  value = (d[0])\n",
        "\n",
        "  if key not in all or all[key] > value:\n",
        "    all[key] = value\n",
        "submits = [[v, k[0], k[1]] for k, v in all.items()]"
      ]
    },
    {
      "cell_type": "code",
      "execution_count": 224,
      "metadata": {
        "colab": {
          "base_uri": "https://localhost:8080/"
        },
        "id": "BmftT1E2gmH4",
        "outputId": "3ce5c5da-c7aa-4455-adfa-4e597e6c0291"
      },
      "outputs": [
        {
          "data": {
            "text/plain": [
              "[[datetime.datetime(2023, 4, 30, 13, 46, 15, 949925), '7', '870'],\n",
              " [datetime.datetime(2023, 4, 30, 16, 13, 6, 739782), '173', '21'],\n",
              " [datetime.datetime(2023, 4, 30, 15, 37, 3, 852246), '173', '25'],\n",
              " [datetime.datetime(2023, 4, 30, 16, 19, 37, 394470), '173', '35'],\n",
              " [datetime.datetime(2023, 4, 30, 15, 14, 13, 931621), '183', '173']]"
            ]
          },
          "execution_count": 224,
          "metadata": {},
          "output_type": "execute_result"
        }
      ],
      "source": [
        "# Надо найти минимальные дата-время попытки для каждой пары (user_id, problem_id)\n",
        "all = {}\n",
        "for d in data:\n",
        "  key = (d[1], d[2])\n",
        "  value = (d[0])\n",
        "\n",
        "  if key not in all or all[key] > value:\n",
        "    all[key] = value\n",
        "first_attempts = [[v, k[0], k[1]] for k, v in all.items()]\n",
        "first_attempts[:5]"
      ]
    },
    {
      "cell_type": "code",
      "execution_count": 225,
      "metadata": {
        "colab": {
          "base_uri": "https://localhost:8080/"
        },
        "id": "Rs7afsMQlAsh",
        "outputId": "55d19617-f761-44d0-b0b7-2078ab8a712b"
      },
      "outputs": [
        {
          "data": {
            "text/plain": [
              "[[58.394546, '7', '870'],\n",
              " [19.265504, '173', '21'],\n",
              " [896.343286, '173', '25'],\n",
              " [16560.361198, '173', '35'],\n",
              " [4223.552233, '183', '173']]"
            ]
          },
          "execution_count": 225,
          "metadata": {},
          "output_type": "execute_result"
        }
      ],
      "source": [
        "result = []\n",
        "for sub in submits:\n",
        "  for fa in first_attempts:\n",
        "    if sub[1] == fa[1] and sub[2] == fa[2] and sub[0] != fa[0]:\n",
        "      # sub[0] != fa[0] отсекает те задачи, которые были решены с первой попытки\n",
        "        result.append([(sub[0] - fa[0]).total_seconds(), sub[1], sub[2]])\n",
        "# Теперь в result хранится информация Время выполнения, Пользователь, Задача\n",
        "result[:5]"
      ]
    },
    {
      "cell_type": "code",
      "execution_count": 226,
      "metadata": {
        "id": "k2Q-BnnNnHE8"
      },
      "outputs": [],
      "source": [
        "time = {}\n",
        "count = {}\n",
        "\n",
        "for r in result:\n",
        "  key = r[2]\n",
        "  value = r[0]\n",
        "  if key not in time:\n",
        "    time[key] = value\n",
        "    count[key] = 1\n",
        "  else:\n",
        "    time[key] += value\n",
        "    count[key] += 1\n",
        "# В time - Номер задачи: суммарное время её решения\n",
        "# В count - Номер задачи: количество решений"
      ]
    },
    {
      "cell_type": "code",
      "execution_count": 227,
      "metadata": {
        "id": "-hGO7eXTn2Qp"
      },
      "outputs": [],
      "source": [
        "for key in time:\n",
        "  time[key] = time[key] / count[key]\n",
        "# Теперь в time - Номер задачи: среднее время её решения"
      ]
    },
    {
      "cell_type": "code",
      "execution_count": 228,
      "metadata": {
        "colab": {
          "base_uri": "https://localhost:8080/"
        },
        "id": "n_u1FHvzoXb0",
        "outputId": "8eee63a7-e820-40ae-9c5b-e0fc6d41867f"
      },
      "outputs": [
        {
          "data": {
            "text/plain": [
              "611.86"
            ]
          },
          "execution_count": 228,
          "metadata": {},
          "output_type": "execute_result"
        }
      ],
      "source": [
        "res = round(sum(time.values())/len(time),2)\n",
        "res"
      ]
    },
    {
      "cell_type": "markdown",
      "metadata": {
        "id": "54Tvpn9OkDwV"
      },
      "source": [
        "✏️ ✏️ ✏️\n",
        "\n",
        "**Проверка**\n",
        "\n",
        "Чтобы проверить свое решение, запустите код в следующих ячейках"
      ]
    },
    {
      "cell_type": "code",
      "execution_count": 229,
      "metadata": {
        "colab": {
          "base_uri": "https://localhost:8080/"
        },
        "id": "LkqzVw9skKEC",
        "outputId": "1287d9fb-1688-49c9-b2bc-f22ae8dc2109"
      },
      "outputs": [
        {
          "name": "stdout",
          "output_type": "stream",
          "text": [
            "Поздравляем, Вы справились!\n"
          ]
        }
      ],
      "source": [
        "try:\n",
        "    assert res == 611.86\n",
        "except AssertionError:\n",
        "    print('Ответы не совпадают')\n",
        "else:\n",
        "    print('Поздравляем, Вы справились!')"
      ]
    },
    {
      "cell_type": "markdown",
      "metadata": {
        "id": "QLNMvvhXoIdV"
      },
      "source": [
        "#### **Задача 2**\n",
        "\n",
        "Ваша задача - выяснить сколько часов в среднем проводит юзер в день на платформе. Перерывы в активности за день - не учитываем.\n",
        "\n",
        "Результат - число типа `float`, округлите до 2 знаков после запятой и запишите в переменную `res2`."
      ]
    },
    {
      "cell_type": "markdown",
      "metadata": {
        "id": "LThhpSINoMHN"
      },
      "source": [
        "**Решение**\n",
        "\n",
        "Напишите свое решение ниже"
      ]
    },
    {
      "cell_type": "code",
      "execution_count": 236,
      "metadata": {
        "id": "9s8JBMlboJuf"
      },
      "outputs": [],
      "source": [
        "from datetime import datetime\n",
        "data = []\n",
        "with open('codesubmit.csv', 'r') as f:\n",
        "  data = f.readlines()[1:]\n",
        "data = [s[:-1].split(';') for s in data]\n",
        "\n",
        "# Заменим первый столбец на тип datetime\n",
        "for d in data:\n",
        "  d[0] = datetime.strptime(d[0], '%Y-%m-%d %H:%M:%S.%f')"
      ]
    },
    {
      "cell_type": "code",
      "execution_count": 237,
      "metadata": {
        "id": "L9L8DVdg1BKd"
      },
      "outputs": [],
      "source": [
        "# В data второй столбец (d[1]) - id пользователя. Посмотрим когда было его первое касание\n",
        "all = {}\n",
        "for d in data:\n",
        "  key = d[1]\n",
        "  value = d[0]\n",
        "  if key not in all or all[key] > value:\n",
        "    all[key] = value\n",
        "first_attempts = [[v, k] for k, v in all.items()]\n",
        "\n",
        "# Аналогично для последнего касания\n",
        "all = {}\n",
        "for d in data:\n",
        "  key = d[1]\n",
        "  value = d[0]\n",
        "  if key not in all or all[key] < value:\n",
        "    all[key] = value\n",
        "last_attempts = [[v, k] for k, v in all.items()]"
      ]
    },
    {
      "cell_type": "code",
      "execution_count": 242,
      "metadata": {
        "id": "IEWKj9uA2C7M"
      },
      "outputs": [],
      "source": [
        "time_attempts = []\n",
        "for fa in first_attempts:\n",
        "  for la in last_attempts:\n",
        "    if fa[1] == la[1]:\n",
        "      time_attempts.append((la[0]-fa[0]).total_seconds()/3600)"
      ]
    },
    {
      "cell_type": "code",
      "execution_count": 246,
      "metadata": {
        "colab": {
          "base_uri": "https://localhost:8080/"
        },
        "id": "LO2ToSoM0-TV",
        "outputId": "be4819b3-9fe0-40aa-d281-057b1583f33b"
      },
      "outputs": [
        {
          "data": {
            "text/plain": [
              "1.7"
            ]
          },
          "execution_count": 246,
          "metadata": {},
          "output_type": "execute_result"
        }
      ],
      "source": [
        "res2 = round(sum(time_attempts) / len(time_attempts), 2)\n",
        "res2"
      ]
    },
    {
      "cell_type": "markdown",
      "metadata": {
        "id": "GN_PNZICsxRD"
      },
      "source": [
        "✏️ ✏️ ✏️\n",
        "\n",
        "**Проверка**\n",
        "\n",
        "Чтобы проверить свое решение, запустите код в следующих ячейках"
      ]
    },
    {
      "cell_type": "code",
      "execution_count": 247,
      "metadata": {
        "colab": {
          "base_uri": "https://localhost:8080/"
        },
        "id": "a36bM9j9tD7l",
        "outputId": "7b7675d8-586e-4e70-e445-2666c3b3f3a8"
      },
      "outputs": [
        {
          "name": "stdout",
          "output_type": "stream",
          "text": [
            "Поздравляем, Вы справились!\n"
          ]
        }
      ],
      "source": [
        "try:\n",
        "    assert res2 == 1.7\n",
        "except AssertionError:\n",
        "    print('Ответы не совпадают')\n",
        "else:\n",
        "    print('Поздравляем, Вы справились!')"
      ]
    },
    {
      "cell_type": "markdown",
      "metadata": {
        "id": "AwB-HtPLtjyl"
      },
      "source": [
        "#### **Задача 3**\n",
        "\n",
        "Теперь давайте посмотрим на активные сеансы. Выясните, сколько задач в среднем решается за один активный сеанс.\n",
        "\n",
        "**Активный сеанс** - период, когда между любой активностью пользователя разница менее или равна часу, не более\n",
        "\n",
        "**Важно**: в расчет берем не только успешные попытки решений (`is_correct=1`), а и неуспешные тоже (`is_correct=0`), и тип `run` в том числе.\n",
        "\n",
        "Результат - число типа `float`, округлите до 2 знаков после запятой и запишите в переменную `res3`."
      ]
    },
    {
      "cell_type": "markdown",
      "metadata": {
        "id": "GOTB--hmt2xw"
      },
      "source": [
        "**Решение**\n",
        "\n",
        "Напишите свое решение ниже"
      ]
    },
    {
      "cell_type": "code",
      "execution_count": 167,
      "metadata": {},
      "outputs": [],
      "source": [
        "import csv\n",
        "from collections import defaultdict\n",
        "import itertools\n",
        "import datetime\n",
        "\n",
        "rows = []\n",
        "with open('codesubmit.csv', 'r') as csvfile:\n",
        "    csvreader = csv.DictReader(csvfile, delimiter=';')\n",
        "    for row in csvreader:\n",
        "        rows.append(row)"
      ]
    },
    {
      "cell_type": "code",
      "execution_count": 168,
      "metadata": {},
      "outputs": [],
      "source": [
        "from datetime import timedelta\n",
        "\n",
        "rows.sort(key=lambda x: (x['user_id'], x['created_at']))\n",
        "\n",
        "dates_by_user = {}\n",
        "for row in rows:\n",
        "    user_id = row['user_id']\n",
        "    problem_id = row['problem_id']\n",
        "    created_at = datetime.datetime.strptime(row['created_at'], '%Y-%m-%d %H:%M:%S.%f')\n",
        "    if user_id not in dates_by_user:\n",
        "        dates_by_user[user_id] = []\n",
        "    dates_by_user[user_id].append((created_at, problem_id))"
      ]
    },
    {
      "cell_type": "code",
      "execution_count": 170,
      "metadata": {},
      "outputs": [],
      "source": [
        "results = {}\n",
        "\n",
        "for user, submissions in dates_by_user.items():\n",
        "    sessions = []\n",
        "    current_session = []\n",
        "\n",
        "    for i in range(len(submissions)):\n",
        "        if i == 0:\n",
        "            current_session.append(submissions[i])\n",
        "        else:\n",
        "            time_diff = submissions[i][0] - submissions[i-1][0]\n",
        "            if time_diff > timedelta(hours=1):\n",
        "                sessions.append(current_session)\n",
        "                current_session = [submissions[i]]\n",
        "            else:\n",
        "                current_session.append(submissions[i])\n",
        "\n",
        "    # Добавляем последнюю сессию\n",
        "    sessions.append(current_session)\n",
        "\n",
        "    # Считаем количество уникальных решенных задач для каждой сессии\n",
        "    unique_problems = []\n",
        "    for session in sessions:\n",
        "        for submission in session:\n",
        "            problem_id = submission[1]\n",
        "            if problem_id not in unique_problems:\n",
        "                unique_problems.append(problem_id)\n",
        "        session_count = len(unique_problems)\n",
        "        unique_problems = []\n",
        "\n",
        "        # Сохраняем результаты\n",
        "        if user not in results:\n",
        "            results[user] = {'sessions': 0, 'problems_solved_per_session': []}\n",
        "\n",
        "        results[user]['sessions'] += 1\n",
        "        results[user]['problems_solved_per_session'].append(session_count)"
      ]
    },
    {
      "cell_type": "code",
      "execution_count": 171,
      "metadata": {},
      "outputs": [],
      "source": [
        "total_sessions = 0\n",
        "total_problems_solved = 0\n",
        "\n",
        "for user in results:\n",
        "    sessions = results[user]['sessions']\n",
        "    problems_solved = sum(results[user]['problems_solved_per_session'])\n",
        "\n",
        "    total_sessions += sessions\n",
        "    total_problems_solved += problems_solved\n",
        "\n",
        "average_problems_solved_per_session = total_problems_solved / total_sessions"
      ]
    },
    {
      "cell_type": "code",
      "execution_count": 172,
      "metadata": {
        "id": "fz7nRb_ntKMv"
      },
      "outputs": [
        {
          "data": {
            "text/plain": [
              "3.14"
            ]
          },
          "execution_count": 172,
          "metadata": {},
          "output_type": "execute_result"
        }
      ],
      "source": [
        "res3 = round(average_problems_solved_per_session, 2)\n",
        "res3"
      ]
    },
    {
      "cell_type": "markdown",
      "metadata": {
        "id": "0-7TiI06t8D0"
      },
      "source": [
        "✏️ ✏️ ✏️\n",
        "\n",
        "**Проверка**\n",
        "\n",
        "Чтобы проверить свое решение, запустите код в следующих ячейках"
      ]
    },
    {
      "cell_type": "code",
      "execution_count": 173,
      "metadata": {
        "id": "eOzvKzYqt_UH"
      },
      "outputs": [
        {
          "name": "stdout",
          "output_type": "stream",
          "text": [
            "Поздравляем, Вы справились!\n"
          ]
        }
      ],
      "source": [
        "try:\n",
        "    assert res3 == 3.14\n",
        "except AssertionError:\n",
        "    print('Ответы не совпадают')\n",
        "else:\n",
        "    print('Поздравляем, Вы справились!')"
      ]
    },
    {
      "cell_type": "markdown",
      "metadata": {
        "id": "7YYyJ9pIOiu0"
      },
      "source": [
        "#### **Задача 4**\n",
        "\n",
        "И финальная - найдите самый \"популярный\" час дня на нашей платформе.\n",
        "\n",
        "Популярность определяем максимальным количеством уникальных пользователей, совершающих какую-либо активность в этот период\n",
        "\n",
        "Результат в числовом формате запишите в переменную `res4`.\n",
        "\n",
        "Например, самым популярным часом стал период с 22 до 23, тогда в переменной `res4` должно лежать **22**. Обозначающее начало этого периода."
      ]
    },
    {
      "cell_type": "markdown",
      "metadata": {
        "id": "iSMSae9APKaH"
      },
      "source": [
        "**Решение**\n",
        "\n",
        "Напишите свое решение ниже"
      ]
    },
    {
      "cell_type": "code",
      "execution_count": 83,
      "metadata": {
        "id": "YR3WT5QlPH75"
      },
      "outputs": [],
      "source": [
        "from datetime import datetime\n",
        "data = []\n",
        "with open('codesubmit.csv', 'r') as f:\n",
        "  data = f.readlines()[1:]\n",
        "data = [s[:-1].split(';') for s in data]\n",
        "\n",
        "for d in data:\n",
        "    d[0] = d[0][11:13]"
      ]
    },
    {
      "cell_type": "code",
      "execution_count": 101,
      "metadata": {},
      "outputs": [],
      "source": [
        "from collections import Counter\n",
        "\n",
        "value_counts = Counter(d[0] for d in data)\n",
        "\n",
        "# Находим самое частое значение\n",
        "most_common_value, most_common_count = value_counts.most_common(1)[0]\n",
        "res4 = int(most_common_value)"
      ]
    },
    {
      "cell_type": "markdown",
      "metadata": {
        "id": "8BacSt70PPhN"
      },
      "source": [
        "✏️ ✏️ ✏️\n",
        "\n",
        "**Проверка**\n",
        "\n",
        "Чтобы проверить свое решение, запустите код в следующих ячейках"
      ]
    },
    {
      "cell_type": "code",
      "execution_count": 102,
      "metadata": {
        "id": "8xdTbZWOPMp1"
      },
      "outputs": [
        {
          "name": "stdout",
          "output_type": "stream",
          "text": [
            "Поздравляем, Вы справились!\n"
          ]
        }
      ],
      "source": [
        "try:\n",
        "    assert res4 == 16\n",
        "except AssertionError:\n",
        "    print('Ответы не совпадают')\n",
        "else:\n",
        "    print('Поздравляем, Вы справились!')"
      ]
    }
  ],
  "metadata": {
    "colab": {
      "provenance": []
    },
    "kernelspec": {
      "display_name": "Python 3",
      "name": "python3"
    },
    "language_info": {
      "name": "python"
    }
  },
  "nbformat": 4,
  "nbformat_minor": 0
}

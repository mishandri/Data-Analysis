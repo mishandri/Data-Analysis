{
  "nbformat": 4,
  "nbformat_minor": 0,
  "metadata": {
    "colab": {
      "provenance": []
    },
    "kernelspec": {
      "name": "python3",
      "display_name": "Python 3"
    },
    "language_info": {
      "name": "python"
    }
  },
  "cells": [
    {
      "cell_type": "markdown",
      "source": [
        "## 3 кейс\n",
        "\n",
        "**В этом кейсе вы будете рассчитывать:**\n",
        "* retention\n",
        "* rolling retention\n",
        "* lifetime\n",
        "* churn rate\n",
        "* mau\n",
        "* wau\n",
        "* dau"
      ],
      "metadata": {
        "id": "T_xBU6WvyPhY"
      }
    },
    {
      "cell_type": "markdown",
      "source": [
        "**Важно**\n",
        "\n",
        "Перед началом решения задачи выполните следующую ячейку - в ней скачиваются нужные файлы"
      ],
      "metadata": {
        "id": "U2D5zGSdzc92"
      }
    },
    {
      "cell_type": "code",
      "execution_count": 1,
      "metadata": {
        "id": "3eJFMuMpyCp-",
        "colab": {
          "base_uri": "https://localhost:8080/"
        },
        "outputId": "0e374ff6-2894-42bf-e307-1af382a2cf86"
      },
      "outputs": [
        {
          "output_type": "stream",
          "name": "stdout",
          "text": [
            "--2025-03-11 09:39:43--  https://gist.github.com/Vs8th/739269a03f2f4a7396d04d6739da3771/raw/registrations.csv\n",
            "Resolving gist.github.com (gist.github.com)... 140.82.112.4\n",
            "Connecting to gist.github.com (gist.github.com)|140.82.112.4|:443... connected.\n",
            "HTTP request sent, awaiting response... 301 Moved Permanently\n",
            "Location: https://gist.githubusercontent.com/Vs8th/739269a03f2f4a7396d04d6739da3771/raw/registrations.csv [following]\n",
            "--2025-03-11 09:39:43--  https://gist.githubusercontent.com/Vs8th/739269a03f2f4a7396d04d6739da3771/raw/registrations.csv\n",
            "Resolving gist.githubusercontent.com (gist.githubusercontent.com)... 185.199.111.133, 185.199.110.133, 185.199.108.133, ...\n",
            "Connecting to gist.githubusercontent.com (gist.githubusercontent.com)|185.199.111.133|:443... connected.\n",
            "HTTP request sent, awaiting response... 200 OK\n",
            "Length: 14918 (15K) [text/plain]\n",
            "Saving to: ‘registrations.csv.2’\n",
            "\n",
            "registrations.csv.2 100%[===================>]  14.57K  --.-KB/s    in 0.001s  \n",
            "\n",
            "2025-03-11 09:39:43 (12.0 MB/s) - ‘registrations.csv.2’ saved [14918/14918]\n",
            "\n",
            "--2025-03-11 09:39:43--  https://gist.github.com/Vs8th/aacb80595d1d6aaa2e31eb735f8bc644/raw/entries.csv\n",
            "Resolving gist.github.com (gist.github.com)... 140.82.112.4\n",
            "Connecting to gist.github.com (gist.github.com)|140.82.112.4|:443... connected.\n",
            "HTTP request sent, awaiting response... 301 Moved Permanently\n",
            "Location: https://gist.githubusercontent.com/Vs8th/aacb80595d1d6aaa2e31eb735f8bc644/raw/entries.csv [following]\n",
            "--2025-03-11 09:39:43--  https://gist.githubusercontent.com/Vs8th/aacb80595d1d6aaa2e31eb735f8bc644/raw/entries.csv\n",
            "Resolving gist.githubusercontent.com (gist.githubusercontent.com)... 185.199.111.133, 185.199.110.133, 185.199.108.133, ...\n",
            "Connecting to gist.githubusercontent.com (gist.githubusercontent.com)|185.199.111.133|:443... connected.\n",
            "HTTP request sent, awaiting response... 200 OK\n",
            "Length: 308588 (301K) [text/plain]\n",
            "Saving to: ‘entries.csv.2’\n",
            "\n",
            "entries.csv.2       100%[===================>] 301.36K  --.-KB/s    in 0.04s   \n",
            "\n",
            "2025-03-11 09:39:43 (6.96 MB/s) - ‘entries.csv.2’ saved [308588/308588]\n",
            "\n",
            "--2025-03-11 09:39:43--  https://gist.github.com/Vs8th/0e827e9a608117345dd6585ab81e8c86/raw/metrics.txt\n",
            "Resolving gist.github.com (gist.github.com)... 140.82.112.4\n",
            "Connecting to gist.github.com (gist.github.com)|140.82.112.4|:443... connected.\n",
            "HTTP request sent, awaiting response... 301 Moved Permanently\n",
            "Location: https://gist.githubusercontent.com/Vs8th/0e827e9a608117345dd6585ab81e8c86/raw/metrics.txt [following]\n",
            "--2025-03-11 09:39:43--  https://gist.githubusercontent.com/Vs8th/0e827e9a608117345dd6585ab81e8c86/raw/metrics.txt\n",
            "Resolving gist.githubusercontent.com (gist.githubusercontent.com)... 185.199.111.133, 185.199.110.133, 185.199.108.133, ...\n",
            "Connecting to gist.githubusercontent.com (gist.githubusercontent.com)|185.199.111.133|:443... connected.\n",
            "HTTP request sent, awaiting response... 200 OK\n",
            "Length: 67 [text/plain]\n",
            "Saving to: ‘metrics.txt.2’\n",
            "\n",
            "metrics.txt.2       100%[===================>]      67  --.-KB/s    in 0s      \n",
            "\n",
            "2025-03-11 09:39:43 (4.05 MB/s) - ‘metrics.txt.2’ saved [67/67]\n",
            "\n"
          ]
        }
      ],
      "source": [
        "!wget https://gist.github.com/Vs8th/739269a03f2f4a7396d04d6739da3771/raw/registrations.csv\n",
        "\n",
        "!wget https://gist.github.com/Vs8th/aacb80595d1d6aaa2e31eb735f8bc644/raw/entries.csv\n",
        "\n",
        "!wget https://gist.github.com/Vs8th/0e827e9a608117345dd6585ab81e8c86/raw/metrics.txt"
      ]
    },
    {
      "cell_type": "markdown",
      "source": [
        "Файлами для работы являются `registrations.csv` и `entries.csv`. В них хранятся данные о регистрациях пользователей и входа на платформу соответственно."
      ],
      "metadata": {
        "id": "vnMFicli7Fa7"
      }
    },
    {
      "cell_type": "code",
      "source": [
        "from os import sep\n",
        "# С pd было бы проще... Воспользуемся библиотекой csv\n",
        "import csv\n",
        "from datetime import datetime\n",
        "\n",
        "# Можно занести данные из фалйов csv либо в словари, либо в списки.\n",
        "# Если использовать словари, тогда новые записи в entries с тем же id будут\n",
        "# затирать предыдущие. Попробуем со словарями...\n",
        "with open('registrations.csv', 'r') as reg, open('entries.csv') as ent:\n",
        "  registraion = list(csv.reader(reg, delimiter=';'))\n",
        "  entries = list(csv.reader(ent, delimiter=';'))\n",
        "  registraion.pop(0)  # Уберём строку заголовков\n",
        "  entries.pop(0)      # Уберём строку заголовков"
      ],
      "metadata": {
        "id": "ejkBUFM0qdjk"
      },
      "execution_count": 2,
      "outputs": []
    },
    {
      "cell_type": "markdown",
      "source": [
        "### **Посчитайте Retention 15 дня (в процентах) для пользователей, зарегистрированных в январе**\n",
        "\n",
        "Cохраните результат в переменную `retention_15_day`\n",
        "\n",
        "**Примечание:** результат округлите до 5 знаков после запятой"
      ],
      "metadata": {
        "id": "s2g2hxfMzqLo"
      }
    },
    {
      "cell_type": "code",
      "source": [
        "# Ваше решение Retention 15 дня (в процентах)\n",
        "# Т.е. какой процент пользователей вернулся на свой 15-й день\n",
        "# Сформируем когорту пользователей, которые зарегистрировались в январе 2021\n",
        "jan_users = [user for user in registraion if '2021-01-01' <= user[1] <= '2021-01-31']\n",
        "\n",
        "# Сформируем список тех из них, которые заходили на 15-й день\n",
        "jan_users_15 = []\n",
        "for user_ent, date_ent in entries:\n",
        "  for user_jan, date_jan in jan_users:\n",
        "    if user_ent == user_jan and \\\n",
        "      (datetime.strptime(date_ent, '%Y-%m-%d') - \\\n",
        "      datetime.strptime(date_jan, '%Y-%m-%d')).days == 15:\n",
        "      jan_users_15.append([user_ent, date_ent])\n",
        "# При расчёте retention учитыюватся только уникальные юзеры:\n",
        "jan_users_15_unique = set(item[0] for item in jan_users_15)\n",
        "\n",
        "retention_15_day = round(100.0 * len(jan_users_15_unique)/len(jan_users), 5)"
      ],
      "metadata": {
        "id": "u5l9mm-vzpJ8"
      },
      "execution_count": 3,
      "outputs": []
    },
    {
      "cell_type": "code",
      "source": [
        "#@title ✏️ Проверка: чтобы проверить свое решение запустите код в этой ячейке\n",
        "# Открываем файл с правильными ответами\n",
        "with open('metrics.txt', 'r') as f:\n",
        "    answers = f.read().split('\\n')\n",
        "\n",
        "correct_answer = float(answers[0])\n",
        "\n",
        "try:\n",
        "    assert retention_15_day == correct_answer\n",
        "except AssertionError:\n",
        "    print('Ответы не совпадают')\n",
        "else:\n",
        "    print('Поздравляем, Вы справились!')"
      ],
      "metadata": {
        "cellView": "form",
        "id": "YGydKAis0Ae9",
        "colab": {
          "base_uri": "https://localhost:8080/"
        },
        "outputId": "6efe875f-a2aa-42b1-fcdd-94e217a4a02c"
      },
      "execution_count": 4,
      "outputs": [
        {
          "output_type": "stream",
          "name": "stdout",
          "text": [
            "Поздравляем, Вы справились!\n"
          ]
        }
      ]
    },
    {
      "cell_type": "markdown",
      "source": [
        "### **Посчитайте Rolling-retention 30 дня (в процентах) для пользователей из той же когорты**\n",
        "\n",
        "Сохраните результат в переменную `rolling_retention`\n",
        "\n",
        "**Примечание:** результат округлите до 5 знаков после запятой"
      ],
      "metadata": {
        "id": "TbkdEVLI0Cor"
      }
    },
    {
      "cell_type": "code",
      "source": [
        "# Ваше решение Rolling-retention 30 дня (в процентах)\n",
        "# Т.е. какой процент пользователей заходил в 30-й день и позже.\n",
        "# Когорта осталась та же jan_users\n",
        "# Сформируем список тех из них, которые заходили на 30-й день и позже\n",
        "\n",
        "jan_users_30 = []\n",
        "for user_ent, date_ent in entries:\n",
        "  for user_jan, date_jan in jan_users:\n",
        "    if user_ent == user_jan and \\\n",
        "      (datetime.strptime(date_ent, '%Y-%m-%d') - \\\n",
        "      datetime.strptime(date_jan, '%Y-%m-%d')).days >= 30:\n",
        "      jan_users_30.append([user_ent, date_ent])\n",
        "# При расчёте retention учитыюватся только уникальные юзеры:\n",
        "jan_users_30_unique = set(item[0] for item in jan_users_30)\n",
        "\n",
        "rolling_retention = round(100.0 * len(jan_users_30_unique)/len(jan_users), 5)\n"
      ],
      "metadata": {
        "id": "keCBmUDJ0Hho"
      },
      "execution_count": 5,
      "outputs": []
    },
    {
      "cell_type": "code",
      "source": [
        "#@title ✏️ Проверка: чтобы проверить свое решение запустите код в этой ячейке\n",
        "correct_answer = float(answers[1])\n",
        "\n",
        "try:\n",
        "    assert rolling_retention == correct_answer\n",
        "except AssertionError:\n",
        "    print('Ответы не совпадают')\n",
        "else:\n",
        "    print('Поздравляем, Вы справились!')"
      ],
      "metadata": {
        "cellView": "form",
        "id": "fTwUwQZ40JCl",
        "colab": {
          "base_uri": "https://localhost:8080/"
        },
        "outputId": "fbf66b55-f25a-4b3a-e1e7-33cc7118a6a9"
      },
      "execution_count": 6,
      "outputs": [
        {
          "output_type": "stream",
          "name": "stdout",
          "text": [
            "Поздравляем, Вы справились!\n"
          ]
        }
      ]
    },
    {
      "cell_type": "markdown",
      "source": [
        "### **Посчитайте Lifetime по всем пользователям, посчитанный как интеграл от n-day retention**\n",
        "\n",
        "Сохраните результат в переменную `lifetime`\n",
        "\n",
        "**Примечание:** результат округлите до 5 знаков после запятой"
      ],
      "metadata": {
        "id": "wxkhEVmF0PAo"
      }
    },
    {
      "cell_type": "code",
      "source": [
        "# Ваше решение\n",
        "# Оформим n-day retention как функцию\n",
        "def n_day(entries, registraions, n):\n",
        "  users_n = []\n",
        "  for user_ent, date_ent in entries:\n",
        "    for user_reg, date_reg in registraions:\n",
        "      if user_ent == user_reg and \\\n",
        "        (datetime.strptime(date_ent, '%Y-%m-%d') - \\\n",
        "        datetime.strptime(date_reg, '%Y-%m-%d')).days == n:\n",
        "        users_n.append([user_ent, date_reg])\n",
        "  # При расчёте retention учитыюватся только уникальные юзеры:\n",
        "  users_unique = set(item[0] for item in users_n)\n",
        "  # на всякий случай посчитаем уникальные регистрации:\n",
        "  reg_unique = set(item[0] for item in registraions)\n",
        "\n",
        "  #Здесь считаем не в %\n",
        "  return round(len(users_unique)/len(reg_unique), 5)\n",
        "\n",
        "# Максимальная разница в днях = 30\n",
        "lifetime = 0\n",
        "for i in range(31):\n",
        "  lifetime += n_day(entries,registraion, i)\n",
        "lifetime = round(lifetime, 5)"
      ],
      "metadata": {
        "id": "KS17l5Ux0UD3"
      },
      "execution_count": 7,
      "outputs": []
    },
    {
      "cell_type": "code",
      "source": [
        "#@title ✏️ Проверка: чтобы проверить свое решение запустите код в этой ячейке\n",
        "correct_answer = float(answers[2])\n",
        "\n",
        "try:\n",
        "    assert lifetime == correct_answer\n",
        "except AssertionError:\n",
        "    print('Ответы не совпадают')\n",
        "else:\n",
        "    print('Поздравляем, Вы справились!')"
      ],
      "metadata": {
        "cellView": "form",
        "id": "k7s0V8hF0Vmx",
        "colab": {
          "base_uri": "https://localhost:8080/"
        },
        "outputId": "c1bf31cf-da1e-43ab-9dfc-4d8f106afc95"
      },
      "execution_count": 8,
      "outputs": [
        {
          "output_type": "stream",
          "name": "stdout",
          "text": [
            "Поздравляем, Вы справились!\n"
          ]
        }
      ]
    },
    {
      "cell_type": "markdown",
      "source": [
        "### **Посчитайте Churn rate 29 дня (в долях), посчитанный по всем пользователям**\n",
        "\n",
        "Сохраните результат в переменную `churn_29`"
      ],
      "metadata": {
        "id": "OrwoZ-wR0jJq"
      }
    },
    {
      "cell_type": "code",
      "source": [
        "# Ваше решение\n",
        "lifetime = 0\n",
        "for i in range(30):\n",
        "  lifetime += n_day(entries,registraion, i)\n",
        "lifetime = round(lifetime, 5)\n",
        "churn_29 = round(1/lifetime, 5)\n",
        "churn_29"
      ],
      "metadata": {
        "id": "hKN7vidq0mJ3",
        "colab": {
          "base_uri": "https://localhost:8080/"
        },
        "outputId": "d89fe2fd-54e5-4361-a7ef-72bee7373ab4"
      },
      "execution_count": 95,
      "outputs": [
        {
          "output_type": "execute_result",
          "data": {
            "text/plain": [
              "2.77778"
            ]
          },
          "metadata": {},
          "execution_count": 95
        }
      ]
    },
    {
      "cell_type": "code",
      "source": [
        "#@title ✏️ Проверка: чтобы проверить свое решение запустите код в этой ячейке\n",
        "correct_answer = float(answers[3])\n",
        "\n",
        "try:\n",
        "    assert churn_29 == correct_answer\n",
        "except AssertionError:\n",
        "    print('Ответы не совпадают')\n",
        "else:\n",
        "    print('Поздравляем, Вы справились!')"
      ],
      "metadata": {
        "id": "14KnR1gD0ou9",
        "colab": {
          "base_uri": "https://localhost:8080/"
        },
        "outputId": "c2e5b577-e508-43f5-9e7c-8f808ad23a3d"
      },
      "execution_count": 94,
      "outputs": [
        {
          "output_type": "stream",
          "name": "stdout",
          "text": [
            "Ответы не совпадают\n"
          ]
        }
      ]
    },
    {
      "cell_type": "markdown",
      "source": [
        "### **Посчитайте Mau, Wau, Dau за последний месяц/неделю/день записей**\n",
        "\n",
        "Сохраните результат в переменные `dec_mau`, `dec_wau`, `dec_dau` соответственно\n",
        "\n",
        "**Примечание:** последний месяц записей - декабрь. Поэтому `mau` рассчитываем для декабря (2021 года), для `wau` берем последнюю неделю - с 25 по 31 декабря, и для `dau` соответственно последний день - 31 декабря."
      ],
      "metadata": {
        "id": "QuO3ZwRI5mdH"
      }
    },
    {
      "cell_type": "code",
      "source": [
        "# Ваше решение dec_mau\n",
        "\n",
        "# Находим уникальные пары id в декабре\n",
        "dec_users = [user for user in entries if '2021-12-01' <= user[1] <= '2021-12-31']\n",
        "unique_dec_users = set(item[0] for item in dec_users)\n",
        "\n",
        "dec_mau = len(unique_dec_users)"
      ],
      "metadata": {
        "id": "HxGWkaSp5kpo"
      },
      "execution_count": 38,
      "outputs": []
    },
    {
      "cell_type": "code",
      "source": [
        "#@title ✏️ Проверка: чтобы проверить свое решение запустите код в этой ячейке\n",
        "correct_answer = float(answers[4])\n",
        "\n",
        "try:\n",
        "    assert dec_mau == correct_answer\n",
        "except AssertionError:\n",
        "    print('Ответы не совпадают')\n",
        "else:\n",
        "    print('Поздравляем, Вы справились!')"
      ],
      "metadata": {
        "cellView": "form",
        "id": "dpK4clbe5xiH",
        "colab": {
          "base_uri": "https://localhost:8080/"
        },
        "outputId": "1ff0823e-04c0-45f4-864d-9903962a2bd0"
      },
      "execution_count": 39,
      "outputs": [
        {
          "output_type": "stream",
          "name": "stdout",
          "text": [
            "Поздравляем, Вы справились!\n"
          ]
        }
      ]
    },
    {
      "cell_type": "code",
      "source": [
        "# Ваше решение dec_wau\n",
        "\n",
        "# Находим уникальные пары id в декабре\n",
        "dec_users = [user for user in entries if '2021-12-25' <= user[1] <= '2021-12-31']\n",
        "unique_dec_users = set(item[0] for item in dec_users)\n",
        "\n",
        "dec_wau = len(unique_dec_users)"
      ],
      "metadata": {
        "id": "urEWcCuk522y"
      },
      "execution_count": 40,
      "outputs": []
    },
    {
      "cell_type": "code",
      "source": [
        "#@title ✏️ Проверка: чтобы проверить свое решение запустите код в этой ячейке\n",
        "correct_answer = float(answers[5])\n",
        "\n",
        "try:\n",
        "    assert dec_wau == correct_answer\n",
        "except AssertionError:\n",
        "    print('Ответы не совпадают')\n",
        "else:\n",
        "    print('Поздравляем, Вы справились!')"
      ],
      "metadata": {
        "cellView": "form",
        "id": "xziXbjnJ549b",
        "colab": {
          "base_uri": "https://localhost:8080/"
        },
        "outputId": "db7e35eb-dd2d-4fa6-a54f-cb7e9b9e9b42"
      },
      "execution_count": 41,
      "outputs": [
        {
          "output_type": "stream",
          "name": "stdout",
          "text": [
            "Поздравляем, Вы справились!\n"
          ]
        }
      ]
    },
    {
      "cell_type": "code",
      "source": [
        "# Ваше решение для dec_dau\n",
        "\n",
        "# Находим уникальные пары id-date в декабре\n",
        "dec_users = [user for user in entries if user[1] == '2021-12-31']\n",
        "unique_dec_users = set(item[0] for item in dec_users)\n",
        "\n",
        "dec_dau = len(unique_dec_users)"
      ],
      "metadata": {
        "id": "hv7Nz3TN59Ds"
      },
      "execution_count": 43,
      "outputs": []
    },
    {
      "cell_type": "code",
      "source": [
        "#@title ✏️ Проверка: чтобы проверить свое решение запустите код в этой ячейке\n",
        "correct_answer = float(answers[6])\n",
        "\n",
        "try:\n",
        "    assert dec_dau == correct_answer\n",
        "except AssertionError:\n",
        "    print('Ответы не совпадают')\n",
        "else:\n",
        "    print('Поздравляем, Вы справились!')"
      ],
      "metadata": {
        "cellView": "form",
        "id": "1csOLxor5_ox",
        "colab": {
          "base_uri": "https://localhost:8080/"
        },
        "outputId": "76a2b2a0-cab6-47c4-e691-d888e9770885"
      },
      "execution_count": 44,
      "outputs": [
        {
          "output_type": "stream",
          "name": "stdout",
          "text": [
            "Поздравляем, Вы справились!\n"
          ]
        }
      ]
    },
    {
      "cell_type": "markdown",
      "source": [
        "### **Посчитайте Mau, Wau, Dau усредненные**\n",
        "\n",
        "Сохраните результат в переменные `avg_mau`, `avg_wau`, `avg_dau` соответственно\n",
        "\n",
        "**Примечание:** результаты округлите до 5 знаков после запятой"
      ],
      "metadata": {
        "id": "gzElxXgv6Dyr"
      }
    },
    {
      "cell_type": "code",
      "source": [
        "# Ваше решение avg_mau\n",
        "# Здесь пойдём немного другим путём, чтобы не считать за каждый месяц вручную\n",
        "from collections import defaultdict\n",
        "from datetime import datetime\n",
        "\n",
        "users = [[item[0], item[1][:7]] for item in entries]\n",
        "unique_users = set(tuple(item) for item in users)\n",
        "# Создаём словарь для подсчёта\n",
        "date_count_dict = defaultdict(int)\n",
        "\n",
        "# Проходим по множеству и считаем количество элементов для каждой даты\n",
        "for item in unique_users:\n",
        "    date = item[1]  # Второй элемент кортежа (дата)\n",
        "    date_count_dict[date] += 1\n",
        "# Преобразуем обратно в словарь и считаем сумму\n",
        "date_count_dict = dict(date_count_dict)\n",
        "total_sum = sum(date_count_dict.values())\n",
        "avg_mau = round(total_sum/12, 5)\n",
        "avg_mau"
      ],
      "metadata": {
        "colab": {
          "base_uri": "https://localhost:8080/"
        },
        "id": "5HqVKXQ0CUql",
        "outputId": "c96fc0b4-1adc-441a-8246-9d1d3e0ef02f"
      },
      "execution_count": 59,
      "outputs": [
        {
          "output_type": "execute_result",
          "data": {
            "text/plain": [
              "102.58333"
            ]
          },
          "metadata": {},
          "execution_count": 59
        }
      ]
    },
    {
      "cell_type": "code",
      "source": [
        "#@title ✏️ Проверка: чтобы проверить свое решение запустите код в этой ячейке\n",
        "correct_answer = float(answers[7])\n",
        "\n",
        "try:\n",
        "    assert avg_mau == correct_answer\n",
        "except AssertionError:\n",
        "    print('Ответы не совпадают')\n",
        "else:\n",
        "    print('Поздравляем, Вы справились!')"
      ],
      "metadata": {
        "cellView": "form",
        "id": "CfikZaBu6V9_",
        "colab": {
          "base_uri": "https://localhost:8080/"
        },
        "outputId": "e9459602-c216-437a-c2f4-a0d8a1839fac"
      },
      "execution_count": 60,
      "outputs": [
        {
          "output_type": "stream",
          "name": "stdout",
          "text": [
            "Поздравляем, Вы справились!\n"
          ]
        }
      ]
    },
    {
      "cell_type": "code",
      "source": [
        "# Ваше решение avg_wau\n",
        "# Аналогично предыдущему, но разбиваем по неделям\n",
        "from collections import defaultdict\n",
        "from datetime import datetime\n",
        "users = []\n",
        "for id, date in entries:\n",
        "  users.append([id, (datetime.strptime(date, '%Y-%m-%d') - datetime.strptime('2021-01-01', '%Y-%m-%d')).days//7])\n",
        "unique_users = set(tuple(item) for item in users)\n",
        "# Создаём словарь для подсчёта\n",
        "date_count_dict = defaultdict(int)\n",
        "\n",
        "# Проходим по множеству и считаем количество элементов для каждой даты\n",
        "for item in unique_users:\n",
        "    week = item[1]  # Второй элемент кортежа (дата)\n",
        "    date_count_dict[week] += 1\n",
        "# Преобразуем обратно в словарь и считаем сумму\n",
        "date_count_dict = dict(date_count_dict)\n",
        "del(date_count_dict[52]) # Удалили последнюю неделю из одного дня\n",
        "total_sum = sum(date_count_dict.values())\n",
        "avg_wau = round(total_sum/52, 5)\n",
        "avg_wau"
      ],
      "metadata": {
        "id": "WydV9g9C6x7O",
        "colab": {
          "base_uri": "https://localhost:8080/"
        },
        "outputId": "77d54474-96e1-4457-af23-d6bb4a34913e"
      },
      "execution_count": 90,
      "outputs": [
        {
          "output_type": "execute_result",
          "data": {
            "text/plain": [
              "91.71154"
            ]
          },
          "metadata": {},
          "execution_count": 90
        }
      ]
    },
    {
      "cell_type": "code",
      "source": [
        "#@title ✏️ Проверка: чтобы проверить свое решение запустите код в этой ячейке\n",
        "correct_answer = float(answers[8])\n",
        "\n",
        "try:\n",
        "    assert avg_wau == correct_answer\n",
        "except AssertionError:\n",
        "    print('Ответы не совпадают')\n",
        "else:\n",
        "    print('Поздравляем, Вы справились!')"
      ],
      "metadata": {
        "cellView": "form",
        "id": "qbZgzDpV6zUl",
        "colab": {
          "base_uri": "https://localhost:8080/"
        },
        "outputId": "2351f13c-d001-4c83-dcbd-49fa4cbc2263"
      },
      "execution_count": 92,
      "outputs": [
        {
          "output_type": "stream",
          "name": "stdout",
          "text": [
            "Ответы не совпадают\n"
          ]
        }
      ]
    },
    {
      "cell_type": "code",
      "source": [
        "# Ваше решение avg_dau\n",
        "# Аналогично avg_mau, но сразу сформируем unique_users\n",
        "from collections import defaultdict\n",
        "from datetime import datetime\n",
        "\n",
        "unique_users = set(tuple(item) for item in entries)\n",
        "# Создаём словарь для подсчёта\n",
        "date_count_dict = defaultdict(int)\n",
        "\n",
        "# Проходим по множеству и считаем количество элементов для каждой даты\n",
        "for item in unique_users:\n",
        "    date = item[1]  # Второй элемент кортежа (дата)\n",
        "    date_count_dict[date] += 1\n",
        "# Преобразуем обратно в словарь и считаем сумму\n",
        "date_count_dict = dict(date_count_dict)\n",
        "total_sum = sum(date_count_dict.values())\n",
        "avg_dau = round(total_sum/365, 5)\n",
        "avg_dau"
      ],
      "metadata": {
        "id": "NgqOR38d64_T",
        "colab": {
          "base_uri": "https://localhost:8080/"
        },
        "outputId": "0872e994-d802-469f-bacc-2e5efca5b289"
      },
      "execution_count": 62,
      "outputs": [
        {
          "output_type": "execute_result",
          "data": {
            "text/plain": [
              "40.5589"
            ]
          },
          "metadata": {},
          "execution_count": 62
        }
      ]
    },
    {
      "cell_type": "code",
      "source": [
        "#@title ✏️ Проверка: чтобы проверить свое решение запустите код в этой ячейке\n",
        "correct_answer = float(answers[9])\n",
        "\n",
        "try:\n",
        "    assert avg_dau == correct_answer\n",
        "except AssertionError:\n",
        "    print('Ответы не совпадают')\n",
        "else:\n",
        "    print('Поздравляем, Вы справились!')"
      ],
      "metadata": {
        "id": "TbmDR4NP66qm",
        "cellView": "form",
        "colab": {
          "base_uri": "https://localhost:8080/"
        },
        "outputId": "5cb0258d-ace8-4479-f5b1-57440fed2077"
      },
      "execution_count": 63,
      "outputs": [
        {
          "output_type": "stream",
          "name": "stdout",
          "text": [
            "Поздравляем, Вы справились!\n"
          ]
        }
      ]
    }
  ]
}
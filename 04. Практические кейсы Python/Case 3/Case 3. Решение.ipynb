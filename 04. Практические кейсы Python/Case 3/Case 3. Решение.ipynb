{
  "nbformat": 4,
  "nbformat_minor": 0,
  "metadata": {
    "colab": {
      "provenance": []
    },
    "kernelspec": {
      "name": "python3",
      "display_name": "Python 3"
    },
    "language_info": {
      "name": "python"
    }
  },
  "cells": [
    {
      "cell_type": "markdown",
      "source": [
        "## 3 кейс\n",
        "\n",
        "**В этом кейсе вы будете рассчитывать:**\n",
        "* retention\n",
        "* rolling retention\n",
        "* lifetime\n",
        "* churn rate\n",
        "* mau\n",
        "* wau\n",
        "* dau"
      ],
      "metadata": {
        "id": "T_xBU6WvyPhY"
      }
    },
    {
      "cell_type": "markdown",
      "source": [
        "**Важно**\n",
        "\n",
        "Перед началом решения задачи выполните следующую ячейку - в ней скачиваются нужные файлы"
      ],
      "metadata": {
        "id": "U2D5zGSdzc92"
      }
    },
    {
      "cell_type": "code",
      "execution_count": 26,
      "metadata": {
        "id": "3eJFMuMpyCp-",
        "colab": {
          "base_uri": "https://localhost:8080/"
        },
        "outputId": "c5fa0a8f-c1c5-429f-d108-a7b0d42213b5"
      },
      "outputs": [
        {
          "output_type": "stream",
          "name": "stdout",
          "text": [
            "--2025-03-12 07:12:54--  https://gist.github.com/Vs8th/739269a03f2f4a7396d04d6739da3771/raw/registrations.csv\n",
            "Resolving gist.github.com (gist.github.com)... 140.82.113.4\n",
            "Connecting to gist.github.com (gist.github.com)|140.82.113.4|:443... connected.\n",
            "HTTP request sent, awaiting response... 301 Moved Permanently\n",
            "Location: https://gist.githubusercontent.com/Vs8th/739269a03f2f4a7396d04d6739da3771/raw/registrations.csv [following]\n",
            "--2025-03-12 07:12:55--  https://gist.githubusercontent.com/Vs8th/739269a03f2f4a7396d04d6739da3771/raw/registrations.csv\n",
            "Resolving gist.githubusercontent.com (gist.githubusercontent.com)... 185.199.109.133, 185.199.110.133, 185.199.111.133, ...\n",
            "Connecting to gist.githubusercontent.com (gist.githubusercontent.com)|185.199.109.133|:443... connected.\n",
            "HTTP request sent, awaiting response... 200 OK\n",
            "Length: 14918 (15K) [text/plain]\n",
            "Saving to: ‘registrations.csv.4’\n",
            "\n",
            "registrations.csv.4 100%[===================>]  14.57K  --.-KB/s    in 0.001s  \n",
            "\n",
            "2025-03-12 07:12:55 (11.0 MB/s) - ‘registrations.csv.4’ saved [14918/14918]\n",
            "\n",
            "--2025-03-12 07:12:55--  https://gist.github.com/Vs8th/aacb80595d1d6aaa2e31eb735f8bc644/raw/entries.csv\n",
            "Resolving gist.github.com (gist.github.com)... 140.82.113.4\n",
            "Connecting to gist.github.com (gist.github.com)|140.82.113.4|:443... connected.\n",
            "HTTP request sent, awaiting response... 301 Moved Permanently\n",
            "Location: https://gist.githubusercontent.com/Vs8th/aacb80595d1d6aaa2e31eb735f8bc644/raw/entries.csv [following]\n",
            "--2025-03-12 07:12:55--  https://gist.githubusercontent.com/Vs8th/aacb80595d1d6aaa2e31eb735f8bc644/raw/entries.csv\n",
            "Resolving gist.githubusercontent.com (gist.githubusercontent.com)... 185.199.109.133, 185.199.110.133, 185.199.111.133, ...\n",
            "Connecting to gist.githubusercontent.com (gist.githubusercontent.com)|185.199.109.133|:443... connected.\n",
            "HTTP request sent, awaiting response... 200 OK\n",
            "Length: 308588 (301K) [text/plain]\n",
            "Saving to: ‘entries.csv.4’\n",
            "\n",
            "entries.csv.4       100%[===================>] 301.36K  --.-KB/s    in 0.04s   \n",
            "\n",
            "2025-03-12 07:12:55 (6.83 MB/s) - ‘entries.csv.4’ saved [308588/308588]\n",
            "\n",
            "--2025-03-12 07:12:55--  https://gist.github.com/Vs8th/0e827e9a608117345dd6585ab81e8c86/raw/metrics.txt\n",
            "Resolving gist.github.com (gist.github.com)... 140.82.113.4\n",
            "Connecting to gist.github.com (gist.github.com)|140.82.113.4|:443... connected.\n",
            "HTTP request sent, awaiting response... 301 Moved Permanently\n",
            "Location: https://gist.githubusercontent.com/Vs8th/0e827e9a608117345dd6585ab81e8c86/raw/metrics.txt [following]\n",
            "--2025-03-12 07:12:55--  https://gist.githubusercontent.com/Vs8th/0e827e9a608117345dd6585ab81e8c86/raw/metrics.txt\n",
            "Resolving gist.githubusercontent.com (gist.githubusercontent.com)... 185.199.109.133, 185.199.110.133, 185.199.111.133, ...\n",
            "Connecting to gist.githubusercontent.com (gist.githubusercontent.com)|185.199.109.133|:443... connected.\n",
            "HTTP request sent, awaiting response... 200 OK\n",
            "Length: 67 [text/plain]\n",
            "Saving to: ‘metrics.txt.4’\n",
            "\n",
            "metrics.txt.4       100%[===================>]      67  --.-KB/s    in 0s      \n",
            "\n",
            "2025-03-12 07:12:55 (2.98 MB/s) - ‘metrics.txt.4’ saved [67/67]\n",
            "\n"
          ]
        }
      ],
      "source": [
        "!wget https://gist.github.com/Vs8th/739269a03f2f4a7396d04d6739da3771/raw/registrations.csv\n",
        "\n",
        "!wget https://gist.github.com/Vs8th/aacb80595d1d6aaa2e31eb735f8bc644/raw/entries.csv\n",
        "\n",
        "!wget https://gist.github.com/Vs8th/0e827e9a608117345dd6585ab81e8c86/raw/metrics.txt"
      ]
    },
    {
      "cell_type": "markdown",
      "source": [
        "Файлами для работы являются `registrations.csv` и `entries.csv`. В них хранятся данные о регистрациях пользователей и входа на платформу соответственно."
      ],
      "metadata": {
        "id": "vnMFicli7Fa7"
      }
    },
    {
      "cell_type": "code",
      "source": [
        "from os import sep\n",
        "# С pd было бы проще... Воспользуемся библиотекой csv\n",
        "import csv\n",
        "from datetime import datetime\n",
        "\n",
        "# Можно занести данные из фалйов csv либо в словари, либо в списки.\n",
        "# Если использовать словари, тогда новые записи в entries с тем же id будут\n",
        "# затирать предыдущие. Попробуем со словарями...\n",
        "with open('registrations.csv', 'r') as reg, open('entries.csv') as ent:\n",
        "  registrations = list(csv.reader(reg, delimiter=';'))\n",
        "  entries = list(csv.reader(ent, delimiter=';'))\n",
        "  registrations.pop(0)  # Уберём строку заголовков\n",
        "  entries.pop(0)      # Уберём строку заголовков\n",
        "\n",
        "# Пользователи и дни входа с момента регистрации\n",
        "user_days_from_reg = []\n",
        "for user_ent, date_ent in entries:\n",
        "  for user_reg, date_reg in registrations:\n",
        "    if user_ent == user_reg:\n",
        "      diff = (datetime.strptime(date_ent, '%Y-%m-%d') - \\\n",
        "              datetime.strptime(date_reg, '%Y-%m-%d')).days\n",
        "      if diff != 0:\n",
        "        user_days_from_reg.append([user_ent, diff])"
      ],
      "metadata": {
        "id": "ejkBUFM0qdjk"
      },
      "execution_count": 27,
      "outputs": []
    },
    {
      "cell_type": "markdown",
      "source": [
        "### **Посчитайте Retention 15 дня (в процентах) для пользователей, зарегистрированных в январе**\n",
        "\n",
        "Cохраните результат в переменную `retention_15_day`\n",
        "\n",
        "**Примечание:** результат округлите до 5 знаков после запятой"
      ],
      "metadata": {
        "id": "s2g2hxfMzqLo"
      }
    },
    {
      "cell_type": "code",
      "source": [
        "# Ваше решение Retention 15 дня (в процентах)\n",
        "# Т.е. какой процент пользователей вернулся на свой 15-й день\n",
        "# Сформируем когорту пользователей, которые зарегистрировались в январе 2021\n",
        "jan_users = [user for user in registrations if '2021-01-01' <= user[1] <= '2021-01-31']\n",
        "\n",
        "# Сформируем список тех из них, которые заходили на 15-й день\n",
        "jan_users_15 = []\n",
        "for user_jan in jan_users:\n",
        "  for user in user_days_from_reg:\n",
        "    if user[1] == 15 and user[0] == user_jan[0]:\n",
        "      jan_users_15.append(user[0])\n",
        "\n",
        "jan_users_15_unique = set(item for item in jan_users_15)\n",
        "\n",
        "retention_15_day = round(100.0 * len(jan_users_15_unique)/len(jan_users), 5)"
      ],
      "metadata": {
        "id": "4KCz-QBT6fNn"
      },
      "execution_count": 28,
      "outputs": []
    },
    {
      "cell_type": "code",
      "source": [
        "#@title ✏️ Проверка: чтобы проверить свое решение запустите код в этой ячейке\n",
        "# Открываем файл с правильными ответами\n",
        "with open('metrics.txt', 'r') as f:\n",
        "    answers = f.read().split('\\n')\n",
        "\n",
        "correct_answer = float(answers[0])\n",
        "\n",
        "try:\n",
        "    assert retention_15_day == correct_answer\n",
        "except AssertionError:\n",
        "    print('Ответы не совпадают')\n",
        "else:\n",
        "    print('Поздравляем, Вы справились!')"
      ],
      "metadata": {
        "cellView": "form",
        "id": "YGydKAis0Ae9",
        "colab": {
          "base_uri": "https://localhost:8080/"
        },
        "outputId": "9a46d67b-752a-4093-fa3f-afdd1e05ce50"
      },
      "execution_count": 29,
      "outputs": [
        {
          "output_type": "stream",
          "name": "stdout",
          "text": [
            "Поздравляем, Вы справились!\n"
          ]
        }
      ]
    },
    {
      "cell_type": "markdown",
      "source": [
        "### **Посчитайте Rolling-retention 30 дня (в процентах) для пользователей из той же когорты**\n",
        "\n",
        "Сохраните результат в переменную `rolling_retention`\n",
        "\n",
        "**Примечание:** результат округлите до 5 знаков после запятой"
      ],
      "metadata": {
        "id": "TbkdEVLI0Cor"
      }
    },
    {
      "cell_type": "code",
      "source": [
        "# Ваше решение Rolling-retention 30 дня (в процентах)\n",
        "# Т.е. какой процент пользователей заходил в 30-й день и позже.\n",
        "# Когорта осталась та же jan_users\n",
        "# Сформируем список тех из них, которые заходили на 30-й день и позже\n",
        "\n",
        "jan_users_30 = []\n",
        "for user_jan in jan_users:\n",
        "  for user in user_days_from_reg:\n",
        "    if user[1] >= 30 and user[0] == user_jan[0]:\n",
        "      jan_users_30.append(user[0])\n",
        "\n",
        "# При расчёте retention учитыюватся только уникальные юзеры:\n",
        "jan_users_30_unique = set(item for item in jan_users_30)\n",
        "\n",
        "rolling_retention = round(100.0 * len(jan_users_30_unique)/len(jan_users), 5)\n",
        "\n",
        "rolling_retention"
      ],
      "metadata": {
        "colab": {
          "base_uri": "https://localhost:8080/"
        },
        "id": "AGBrF4bj8joW",
        "outputId": "73af16fe-2d7a-4fe7-c687-c47cc6258b55"
      },
      "execution_count": 30,
      "outputs": [
        {
          "output_type": "execute_result",
          "data": {
            "text/plain": [
              "29.06977"
            ]
          },
          "metadata": {},
          "execution_count": 30
        }
      ]
    },
    {
      "cell_type": "code",
      "source": [
        "#@title ✏️ Проверка: чтобы проверить свое решение запустите код в этой ячейке\n",
        "correct_answer = float(answers[1])\n",
        "\n",
        "try:\n",
        "    assert rolling_retention == correct_answer\n",
        "except AssertionError:\n",
        "    print('Ответы не совпадают')\n",
        "else:\n",
        "    print('Поздравляем, Вы справились!')"
      ],
      "metadata": {
        "cellView": "form",
        "id": "fTwUwQZ40JCl",
        "colab": {
          "base_uri": "https://localhost:8080/"
        },
        "outputId": "d05949ac-c649-4c5f-b652-1a1d622907c6"
      },
      "execution_count": 31,
      "outputs": [
        {
          "output_type": "stream",
          "name": "stdout",
          "text": [
            "Поздравляем, Вы справились!\n"
          ]
        }
      ]
    },
    {
      "cell_type": "markdown",
      "source": [
        "### **Посчитайте Lifetime по всем пользователям, посчитанный как интеграл от n-day retention**\n",
        "\n",
        "Сохраните результат в переменную `lifetime`\n",
        "\n",
        "**Примечание:** результат округлите до 5 знаков после запятой"
      ],
      "metadata": {
        "id": "wxkhEVmF0PAo"
      }
    },
    {
      "cell_type": "code",
      "source": [
        "# Ваше решение\n",
        "# Оформим n-day retention как функцию\n",
        "def n_day(entries, registrations, n):\n",
        "  users_n = []\n",
        "  for user_ent, date_ent in entries:\n",
        "    for user_reg, date_reg in registrations:\n",
        "      if user_ent == user_reg and \\\n",
        "        (datetime.strptime(date_ent, '%Y-%m-%d') - \\\n",
        "        datetime.strptime(date_reg, '%Y-%m-%d')).days == n:\n",
        "        users_n.append([user_ent, date_reg])\n",
        "  # При расчёте retention учитыюватся только уникальные юзеры:\n",
        "  users_unique = set(item[0] for item in users_n)\n",
        "  # на всякий случай посчитаем уникальные регистрации:\n",
        "  reg_unique = set(item[0] for item in registrations)\n",
        "\n",
        "  #Здесь считаем не в %\n",
        "  return round(len(users_unique)/len(reg_unique), 5)\n",
        "\n",
        "# Максимальная разница в днях = 30\n",
        "lifetime = 0\n",
        "for i in range(31):\n",
        "  lifetime += n_day(entries,registrations, i)\n",
        "lifetime = round(lifetime, 5)"
      ],
      "metadata": {
        "id": "KS17l5Ux0UD3"
      },
      "execution_count": 32,
      "outputs": []
    },
    {
      "cell_type": "code",
      "source": [
        "#@title ✏️ Проверка: чтобы проверить свое решение запустите код в этой ячейке\n",
        "correct_answer = float(answers[2])\n",
        "\n",
        "try:\n",
        "    assert lifetime == correct_answer\n",
        "except AssertionError:\n",
        "    print('Ответы не совпадают')\n",
        "else:\n",
        "    print('Поздравляем, Вы справились!')"
      ],
      "metadata": {
        "cellView": "form",
        "id": "k7s0V8hF0Vmx",
        "colab": {
          "base_uri": "https://localhost:8080/"
        },
        "outputId": "21e391b5-5d7d-4b0f-efcf-fd937229c60e"
      },
      "execution_count": 33,
      "outputs": [
        {
          "output_type": "stream",
          "name": "stdout",
          "text": [
            "Поздравляем, Вы справились!\n"
          ]
        }
      ]
    },
    {
      "cell_type": "markdown",
      "source": [
        "### **Посчитайте Churn rate 29 дня (в долях), посчитанный по всем пользователям**\n",
        "\n",
        "Сохраните результат в переменную `churn_29`"
      ],
      "metadata": {
        "id": "OrwoZ-wR0jJq"
      }
    },
    {
      "cell_type": "code",
      "source": [
        "# Ваше решение\n",
        "users_29 = []\n",
        "for user in user_days_from_reg:\n",
        "  if user[1] >= 29:\n",
        "    users_29.append(user[0])\n",
        "\n",
        "# При расчёте retention учитыюватся только уникальные юзеры:\n",
        "users_29_unique = set(users_29)\n",
        "churn_29 = (len(registrations)-len(users_29_unique))/len(registrations)\n",
        "churn_29\n"
      ],
      "metadata": {
        "id": "hKN7vidq0mJ3",
        "colab": {
          "base_uri": "https://localhost:8080/"
        },
        "outputId": "fea33471-ec06-4fb7-bcbf-ab77b1fe6a5a"
      },
      "execution_count": 34,
      "outputs": [
        {
          "output_type": "execute_result",
          "data": {
            "text/plain": [
              "0.509"
            ]
          },
          "metadata": {},
          "execution_count": 34
        }
      ]
    },
    {
      "cell_type": "code",
      "source": [
        "#@title ✏️ Проверка: чтобы проверить свое решение запустите код в этой ячейке\n",
        "correct_answer = float(answers[3])\n",
        "\n",
        "try:\n",
        "    assert churn_29 == correct_answer\n",
        "except AssertionError:\n",
        "    print('Ответы не совпадают')\n",
        "else:\n",
        "    print('Поздравляем, Вы справились!')"
      ],
      "metadata": {
        "id": "14KnR1gD0ou9",
        "colab": {
          "base_uri": "https://localhost:8080/"
        },
        "outputId": "93c7dad1-28d5-4d3e-f893-f67cbf64fffa",
        "cellView": "form"
      },
      "execution_count": 35,
      "outputs": [
        {
          "output_type": "stream",
          "name": "stdout",
          "text": [
            "Поздравляем, Вы справились!\n"
          ]
        }
      ]
    },
    {
      "cell_type": "markdown",
      "source": [
        "### **Посчитайте Mau, Wau, Dau за последний месяц/неделю/день записей**\n",
        "\n",
        "Сохраните результат в переменные `dec_mau`, `dec_wau`, `dec_dau` соответственно\n",
        "\n",
        "**Примечание:** последний месяц записей - декабрь. Поэтому `mau` рассчитываем для декабря (2021 года), для `wau` берем последнюю неделю - с 25 по 31 декабря, и для `dau` соответственно последний день - 31 декабря."
      ],
      "metadata": {
        "id": "QuO3ZwRI5mdH"
      }
    },
    {
      "cell_type": "code",
      "source": [
        "# Ваше решение dec_mau\n",
        "\n",
        "# Находим уникальные пары id в декабре\n",
        "dec_users = [user for user in entries if '2021-12-01' <= user[1] <= '2021-12-31']\n",
        "unique_dec_users = set(item[0] for item in dec_users)\n",
        "\n",
        "dec_mau = len(unique_dec_users)"
      ],
      "metadata": {
        "id": "HxGWkaSp5kpo"
      },
      "execution_count": 36,
      "outputs": []
    },
    {
      "cell_type": "code",
      "source": [
        "#@title ✏️ Проверка: чтобы проверить свое решение запустите код в этой ячейке\n",
        "correct_answer = float(answers[4])\n",
        "\n",
        "try:\n",
        "    assert dec_mau == correct_answer\n",
        "except AssertionError:\n",
        "    print('Ответы не совпадают')\n",
        "else:\n",
        "    print('Поздравляем, Вы справились!')"
      ],
      "metadata": {
        "cellView": "form",
        "id": "dpK4clbe5xiH",
        "colab": {
          "base_uri": "https://localhost:8080/"
        },
        "outputId": "c10748be-892b-4d18-efb9-a0e8f2ed7cf5"
      },
      "execution_count": 37,
      "outputs": [
        {
          "output_type": "stream",
          "name": "stdout",
          "text": [
            "Поздравляем, Вы справились!\n"
          ]
        }
      ]
    },
    {
      "cell_type": "code",
      "source": [
        "# Ваше решение dec_wau\n",
        "\n",
        "# Находим уникальные пары id в декабре\n",
        "dec_users = [user for user in entries if '2021-12-25' <= user[1] <= '2021-12-31']\n",
        "unique_dec_users = set(item[0] for item in dec_users)\n",
        "\n",
        "dec_wau = len(unique_dec_users)"
      ],
      "metadata": {
        "id": "urEWcCuk522y"
      },
      "execution_count": 38,
      "outputs": []
    },
    {
      "cell_type": "code",
      "source": [
        "#@title ✏️ Проверка: чтобы проверить свое решение запустите код в этой ячейке\n",
        "correct_answer = float(answers[5])\n",
        "\n",
        "try:\n",
        "    assert dec_wau == correct_answer\n",
        "except AssertionError:\n",
        "    print('Ответы не совпадают')\n",
        "else:\n",
        "    print('Поздравляем, Вы справились!')"
      ],
      "metadata": {
        "cellView": "form",
        "id": "xziXbjnJ549b",
        "colab": {
          "base_uri": "https://localhost:8080/"
        },
        "outputId": "cc1f34ab-d199-498f-dd82-74f46935e681"
      },
      "execution_count": 39,
      "outputs": [
        {
          "output_type": "stream",
          "name": "stdout",
          "text": [
            "Поздравляем, Вы справились!\n"
          ]
        }
      ]
    },
    {
      "cell_type": "code",
      "source": [
        "# Ваше решение для dec_dau\n",
        "\n",
        "# Находим уникальные пары id-date в декабре\n",
        "dec_users = [user for user in entries if user[1] == '2021-12-31']\n",
        "unique_dec_users = set(item[0] for item in dec_users)\n",
        "\n",
        "dec_dau = len(unique_dec_users)"
      ],
      "metadata": {
        "id": "hv7Nz3TN59Ds"
      },
      "execution_count": 40,
      "outputs": []
    },
    {
      "cell_type": "code",
      "source": [
        "#@title ✏️ Проверка: чтобы проверить свое решение запустите код в этой ячейке\n",
        "correct_answer = float(answers[6])\n",
        "\n",
        "try:\n",
        "    assert dec_dau == correct_answer\n",
        "except AssertionError:\n",
        "    print('Ответы не совпадают')\n",
        "else:\n",
        "    print('Поздравляем, Вы справились!')"
      ],
      "metadata": {
        "cellView": "form",
        "id": "1csOLxor5_ox",
        "colab": {
          "base_uri": "https://localhost:8080/"
        },
        "outputId": "146241b4-64ed-4ff0-a94b-01745aae3667"
      },
      "execution_count": 41,
      "outputs": [
        {
          "output_type": "stream",
          "name": "stdout",
          "text": [
            "Поздравляем, Вы справились!\n"
          ]
        }
      ]
    },
    {
      "cell_type": "markdown",
      "source": [
        "### **Посчитайте Mau, Wau, Dau усредненные**\n",
        "\n",
        "Сохраните результат в переменные `avg_mau`, `avg_wau`, `avg_dau` соответственно\n",
        "\n",
        "**Примечание:** результаты округлите до 5 знаков после запятой"
      ],
      "metadata": {
        "id": "gzElxXgv6Dyr"
      }
    },
    {
      "cell_type": "code",
      "source": [
        "# Ваше решение avg_mau\n",
        "from collections import defaultdict\n",
        "from datetime import datetime\n",
        "users = []\n",
        "counts = defaultdict(set)\n",
        "\n",
        "for id, date in entries:\n",
        "  date_YM = date[:7]\n",
        "  users.append([id, date_YM])\n",
        "  # Формируем ключ в формате \"ГОД-НОМЕР_НЕДЕЛИ\"\n",
        "  key = f\"{date_YM}\"\n",
        "  counts[key].add(id)\n",
        "\n",
        "count_of_unique_user_ids = {}\n",
        "for key, value in counts.items():\n",
        "    count_of_unique_user_ids[key] = len(value)\n",
        "\n",
        "sum = 0\n",
        "for key, value in count_of_unique_user_ids.items():\n",
        "    sum += value\n",
        "\n",
        "avg_mau = round(sum/len(count_of_unique_user_ids), 5)\n",
        "avg_mau\n"
      ],
      "metadata": {
        "colab": {
          "base_uri": "https://localhost:8080/"
        },
        "id": "5HqVKXQ0CUql",
        "outputId": "14b7de24-033b-42f2-a29f-6c6f252b87e6"
      },
      "execution_count": 67,
      "outputs": [
        {
          "output_type": "execute_result",
          "data": {
            "text/plain": [
              "102.58333"
            ]
          },
          "metadata": {},
          "execution_count": 67
        }
      ]
    },
    {
      "cell_type": "code",
      "source": [
        "#@title ✏️ Проверка: чтобы проверить свое решение запустите код в этой ячейке\n",
        "correct_answer = float(answers[7])\n",
        "\n",
        "try:\n",
        "    assert avg_mau == correct_answer\n",
        "except AssertionError:\n",
        "    print('Ответы не совпадают')\n",
        "else:\n",
        "    print('Поздравляем, Вы справились!')"
      ],
      "metadata": {
        "cellView": "form",
        "id": "CfikZaBu6V9_"
      },
      "execution_count": null,
      "outputs": []
    },
    {
      "cell_type": "code",
      "source": [
        "# Ваше решение avg_wau\n",
        "# Аналогично предыдущему, но разбиваем по неделям\n",
        "from collections import defaultdict\n",
        "from datetime import datetime\n",
        "users = []\n",
        "counts = defaultdict(set)\n",
        "\n",
        "for id, date in entries:\n",
        "  date_obj = datetime.strptime(date, '%Y-%m-%d')\n",
        "# Получаем номер недели в году и год с помощью метода isocalendar()\n",
        "  year, week_num, _ = date_obj.isocalendar()\n",
        "  users.append([id, week_num])\n",
        "  # Формируем ключ в формате \"ГОД-НОМЕР_НЕДЕЛИ\"\n",
        "  key = f\"{year}-{week_num}\"\n",
        "  counts[key].add(id)\n",
        "\n",
        "count_of_unique_user_ids = {}\n",
        "for key, value in counts.items():\n",
        "    count_of_unique_user_ids[key] = len(value)\n",
        "\n",
        "sum = 0\n",
        "for key, value in count_of_unique_user_ids.items():\n",
        "    sum += value\n",
        "\n",
        "avg_wau = round(sum/len(count_of_unique_user_ids), 5)\n",
        "avg_wau"
      ],
      "metadata": {
        "id": "WydV9g9C6x7O",
        "colab": {
          "base_uri": "https://localhost:8080/"
        },
        "outputId": "2d311906-131b-4057-d92f-bfa0f5e97f4d"
      },
      "execution_count": 50,
      "outputs": [
        {
          "output_type": "execute_result",
          "data": {
            "text/plain": [
              "89.86792"
            ]
          },
          "metadata": {},
          "execution_count": 50
        }
      ]
    },
    {
      "cell_type": "code",
      "source": [
        "#@title ✏️ Проверка: чтобы проверить свое решение запустите код в этой ячейке\n",
        "correct_answer = float(answers[8])\n",
        "\n",
        "try:\n",
        "    assert avg_wau == correct_answer\n",
        "except AssertionError:\n",
        "    print('Ответы не совпадают')\n",
        "else:\n",
        "    print('Поздравляем, Вы справились!')"
      ],
      "metadata": {
        "cellView": "form",
        "id": "qbZgzDpV6zUl",
        "colab": {
          "base_uri": "https://localhost:8080/"
        },
        "outputId": "3cad0559-8ae9-4423-93fc-5df6529fe603"
      },
      "execution_count": 51,
      "outputs": [
        {
          "output_type": "stream",
          "name": "stdout",
          "text": [
            "Поздравляем, Вы справились!\n"
          ]
        }
      ]
    },
    {
      "cell_type": "code",
      "source": [
        "# Ваше решение avg_dau\n",
        "# Аналогично avg_mau, но сразу сформируем unique_users\n",
        "from collections import defaultdict\n",
        "from datetime import datetime\n",
        "\n",
        "unique_users = set(tuple(item) for item in entries)\n",
        "# Создаём словарь для подсчёта\n",
        "date_count_dict = defaultdict(int)\n",
        "\n",
        "# Проходим по множеству и считаем количество элементов для каждой даты\n",
        "for item in unique_users:\n",
        "    date = item[1]  # Второй элемент кортежа (дата)\n",
        "    date_count_dict[date] += 1\n",
        "# Преобразуем обратно в словарь и считаем сумму\n",
        "date_count_dict = dict(date_count_dict)\n",
        "total_sum = sum(date_count_dict.values())\n",
        "avg_dau = round(total_sum/365, 5)\n",
        "avg_dau"
      ],
      "metadata": {
        "id": "NgqOR38d64_T"
      },
      "execution_count": null,
      "outputs": []
    },
    {
      "cell_type": "code",
      "source": [
        "#@title ✏️ Проверка: чтобы проверить свое решение запустите код в этой ячейке\n",
        "correct_answer = float(answers[9])\n",
        "\n",
        "try:\n",
        "    assert avg_dau == correct_answer\n",
        "except AssertionError:\n",
        "    print('Ответы не совпадают')\n",
        "else:\n",
        "    print('Поздравляем, Вы справились!')"
      ],
      "metadata": {
        "id": "TbmDR4NP66qm",
        "cellView": "form"
      },
      "execution_count": null,
      "outputs": []
    }
  ]
}
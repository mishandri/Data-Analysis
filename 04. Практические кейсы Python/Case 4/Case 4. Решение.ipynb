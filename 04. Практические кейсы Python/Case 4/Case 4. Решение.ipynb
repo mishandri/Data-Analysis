{
  "cells": [
    {
      "cell_type": "markdown",
      "metadata": {
        "id": "XUqCUBW5fUST"
      },
      "source": [
        "## 3 кейс\n",
        "\n",
        "**Работа с логами**"
      ]
    },
    {
      "cell_type": "markdown",
      "metadata": {
        "id": "OcK9kF9mfZIt"
      },
      "source": [
        "**Важно**\n",
        "\n",
        "Перед началом решения выполните следующую ячейку, чтобы загрузить необходимый для работы файл."
      ]
    },
    {
      "cell_type": "code",
      "execution_count": null,
      "metadata": {
        "colab": {
          "base_uri": "https://localhost:8080/"
        },
        "id": "KtNBw8nOfPsB",
        "outputId": "6653d14d-766b-46b1-d599-22447c813489"
      },
      "outputs": [
        {
          "name": "stdout",
          "output_type": "stream",
          "text": [
            "--2025-03-17 13:17:24--  https://gist.github.com/Vs8th/38d5d914171c84166728a9746d212bad/raw/auto_purchase.log\n",
            "Resolving gist.github.com (gist.github.com)... 140.82.116.3\n",
            "Connecting to gist.github.com (gist.github.com)|140.82.116.3|:443... connected.\n",
            "HTTP request sent, awaiting response... 301 Moved Permanently\n",
            "Location: https://gist.githubusercontent.com/Vs8th/38d5d914171c84166728a9746d212bad/raw/auto_purchase.log [following]\n",
            "--2025-03-17 13:17:24--  https://gist.githubusercontent.com/Vs8th/38d5d914171c84166728a9746d212bad/raw/auto_purchase.log\n",
            "Resolving gist.githubusercontent.com (gist.githubusercontent.com)... 185.199.108.133, 185.199.109.133, 185.199.110.133, ...\n",
            "Connecting to gist.githubusercontent.com (gist.githubusercontent.com)|185.199.108.133|:443... connected.\n",
            "HTTP request sent, awaiting response... 200 OK\n",
            "Length: 459418 (449K) [text/plain]\n",
            "Saving to: ‘auto_purchase.log’\n",
            "\n",
            "auto_purchase.log   100%[===================>] 448.65K  --.-KB/s    in 0.03s   \n",
            "\n",
            "2025-03-17 13:17:25 (13.8 MB/s) - ‘auto_purchase.log’ saved [459418/459418]\n",
            "\n"
          ]
        }
      ],
      "source": [
        "!wget https://gist.github.com/Vs8th/38d5d914171c84166728a9746d212bad/raw/auto_purchase.log"
      ]
    },
    {
      "cell_type": "markdown",
      "metadata": {
        "id": "JIwIK2E5fcyA"
      },
      "source": [
        "Чтобы посмотреть как он выглядит выполните следующую ячейку."
      ]
    },
    {
      "cell_type": "code",
      "execution_count": null,
      "metadata": {
        "id": "6f84pObFfbGE"
      },
      "outputs": [],
      "source": [
        "with open('auto_purchase.log', 'r') as f:\n",
        "    lines = f.readlines()\n",
        "\n",
        "for line in lines[0-10]:\n",
        "  print(line)"
      ]
    },
    {
      "cell_type": "markdown",
      "metadata": {
        "id": "CxmnD3GvffQ4"
      },
      "source": [
        "### **Решения**"
      ]
    },
    {
      "cell_type": "markdown",
      "metadata": {
        "id": "5bdLXu2ksLB7"
      },
      "source": [
        "#### **Задача 1**\n",
        "\n",
        "Ваша задача написать функцию `count_success_and_failure`, которая принимает на вход путь к файлу с логами и подсчитывает количество успешных продлений и ошибок при списании. Функция должна вернуть кортеж из двух значений: количества успешных попыток и неуспешных."
      ]
    },
    {
      "cell_type": "markdown",
      "metadata": {
        "id": "qUL4LtIUnJge"
      },
      "source": [
        "**Решение**\n",
        "\n",
        "Напишите свое решение ниже"
      ]
    },
    {
      "cell_type": "code",
      "execution_count": null,
      "metadata": {
        "colab": {
          "base_uri": "https://localhost:8080/"
        },
        "id": "Ia39hhmZbNRW",
        "outputId": "71684bcc-82e6-4ebd-be5c-0f2335c18640"
      },
      "outputs": [
        {
          "data": {
            "text/plain": [
              "(1034, 186)"
            ]
          },
          "execution_count": 7,
          "metadata": {},
          "output_type": "execute_result"
        }
      ],
      "source": [
        "# Судя по логу, в INFO записывается вся информация, даже когда в итоге продление не удалось. Поэтому из этого количества следует вычесть ошибки\n",
        "def count_success_and_failure(file_path):\n",
        "  with open(file_path, 'r') as f:\n",
        "    lines = f.readlines()\n",
        "    err_count = 0\n",
        "    pay_count = 0\n",
        "    for line in lines:\n",
        "      condition = line.find('Обновляем подписку пользователю id') == -1\n",
        "      if line.startswith('ERROR') and line.endswith('ошибка при списании:\\n'):\n",
        "        err_count += 1\n",
        "      if line.startswith('INFO') and not condition:\n",
        "        pay_count += 1\n",
        "\n",
        "    return pay_count - err_count, err_count\n",
        "\n",
        "count_success_and_failure('auto_purchase.log')"
      ]
    },
    {
      "cell_type": "markdown",
      "metadata": {
        "id": "54Tvpn9OkDwV"
      },
      "source": [
        "✏️ ✏️ ✏️\n",
        "\n",
        "**Проверка**\n",
        "\n",
        "Чтобы проверить свое решение, запустите код в следующих ячейках"
      ]
    },
    {
      "cell_type": "code",
      "execution_count": null,
      "metadata": {
        "colab": {
          "base_uri": "https://localhost:8080/"
        },
        "id": "LkqzVw9skKEC",
        "outputId": "16ed24c6-4e52-4ca4-e4d4-dccad90a5e9f"
      },
      "outputs": [
        {
          "name": "stdout",
          "output_type": "stream",
          "text": [
            "Поздравляем, Вы справились!\n"
          ]
        }
      ],
      "source": [
        "res = count_success_and_failure('auto_purchase.log')\n",
        "\n",
        "try:\n",
        "    assert res == (1034, 186)\n",
        "except AssertionError:\n",
        "    print('Ответы не совпадают')\n",
        "else:\n",
        "    print('Поздравляем, Вы справились!')"
      ]
    },
    {
      "cell_type": "markdown",
      "metadata": {
        "id": "QLNMvvhXoIdV"
      },
      "source": [
        "#### **Задача 2**\n",
        "\n",
        "Ваша задача написать функцию `auto_renewal_sub`, которая принимает на вход путь к файлу с логами и обрабатывает количество клиентов с автопродлением подписки. Мы хотим посмотреть на изменение этого показателя в динамике: посчитайте сглаженные значения с помощью метода скользящего среднего и метода медианного сглаживания.  \n",
        "\n",
        "**Примечание:** При сглаживании берем все предыдущие значения, включая текущее, будущие значения не берем. Если в один день наблюдаем несколько записей об автопродлении - берем максимальное из имеющихся число клиентов с подпиской.\n",
        "\n",
        "Функция должна записать в файл `auto_renewal_sub.txt` два списка, предварив их соответствущими обозначениями:\n",
        "\n",
        "`Среднее: [2.0, 1.0, 0.67...]`\n",
        "\n",
        "`Медиана: [2, 2, 0...]`"
      ]
    },
    {
      "cell_type": "markdown",
      "metadata": {
        "id": "LThhpSINoMHN"
      },
      "source": [
        "**Решение**\n",
        "\n",
        "Напишите свое решение ниже"
      ]
    },
    {
      "cell_type": "code",
      "execution_count": null,
      "metadata": {
        "colab": {
          "base_uri": "https://localhost:8080/"
        },
        "id": "9s8JBMlboJuf",
        "outputId": "803e5fd6-3739-4275-de9a-6e80470a8af3"
      },
      "outputs": [],
      "source": []
    },
    {
      "cell_type": "code",
      "execution_count": null,
      "metadata": {
        "id": "721qltQOQgMF"
      },
      "outputs": [],
      "source": []
    },
    {
      "cell_type": "markdown",
      "metadata": {
        "id": "GN_PNZICsxRD"
      },
      "source": [
        "✏️ ✏️ ✏️\n",
        "\n",
        "**Проверка**\n",
        "\n",
        "Чтобы проверить свое решение, запустите код в следующих ячейках"
      ]
    },
    {
      "cell_type": "code",
      "execution_count": null,
      "metadata": {
        "colab": {
          "base_uri": "https://localhost:8080/"
        },
        "collapsed": true,
        "id": "tys9eJRSqcEW",
        "outputId": "f76db676-0c7f-4b1b-8be6-2c8ad286448b"
      },
      "outputs": [
        {
          "name": "stdout",
          "output_type": "stream",
          "text": [
            "--2024-06-25 18:40:56--  https://gist.github.com/Vs8th/846cbc97a722ab825cda4dda3b2b3434/raw/cor_auto_renewal.txt\n",
            "Resolving gist.github.com (gist.github.com)... 140.82.116.4\n",
            "Connecting to gist.github.com (gist.github.com)|140.82.116.4|:443... connected.\n",
            "HTTP request sent, awaiting response... 301 Moved Permanently\n",
            "Location: https://gist.githubusercontent.com/Vs8th/846cbc97a722ab825cda4dda3b2b3434/raw/cor_auto_renewal.txt [following]\n",
            "--2024-06-25 18:40:56--  https://gist.githubusercontent.com/Vs8th/846cbc97a722ab825cda4dda3b2b3434/raw/cor_auto_renewal.txt\n",
            "Resolving gist.githubusercontent.com (gist.githubusercontent.com)... 185.199.111.133, 185.199.108.133, 185.199.110.133, ...\n",
            "Connecting to gist.githubusercontent.com (gist.githubusercontent.com)|185.199.111.133|:443... connected.\n",
            "HTTP request sent, awaiting response... 200 OK\n",
            "Length: 2431 (2.4K) [text/plain]\n",
            "Saving to: ‘cor_auto_renewal.txt’\n",
            "\n",
            "\rcor_auto_renewal.tx   0%[                    ]       0  --.-KB/s               \rcor_auto_renewal.tx 100%[===================>]   2.37K  --.-KB/s    in 0s      \n",
            "\n",
            "2024-06-25 18:40:56 (47.3 MB/s) - ‘cor_auto_renewal.txt’ saved [2431/2431]\n",
            "\n"
          ]
        }
      ],
      "source": [
        "# Здесь будет скачиваться файл с эталонным ответом\n",
        "\n",
        "!wget https://gist.github.com/Vs8th/846cbc97a722ab825cda4dda3b2b3434/raw/cor_auto_renewal.txt\n",
        "\n",
        "import pandas as pd\n",
        "\n",
        "user_answer = pd.read_csv('auto_renewal_sub.txt')\n",
        "correct_answer = pd.read_csv('cor_auto_renewal.txt')"
      ]
    },
    {
      "cell_type": "code",
      "execution_count": null,
      "metadata": {
        "colab": {
          "base_uri": "https://localhost:8080/"
        },
        "id": "a36bM9j9tD7l",
        "outputId": "7bbf8c2a-33f4-4602-c5a8-09339cddac80"
      },
      "outputs": [
        {
          "name": "stdout",
          "output_type": "stream",
          "text": [
            "Поздравляем, Вы справились и успешно прошли все проверки!!\n"
          ]
        }
      ],
      "source": [
        "try:\n",
        "  assert (user_answer == correct_answer).all().all(), 'Ответы не совпадают'\n",
        "except Exception as err:\n",
        "  raise AssertionError(f'При проверке возникла ошибка {repr(err)}')\n",
        "else:\n",
        "  print('Поздравляем, Вы справились и успешно прошли все проверки!!')"
      ]
    },
    {
      "cell_type": "markdown",
      "metadata": {
        "id": "AwB-HtPLtjyl"
      },
      "source": [
        "#### **Задача 3**\n",
        "\n",
        "Напишите функцию `sub_renewal_by_day`, которая принимает на вход путь к файлу с логами и анализирует взаимосвязь дня продления подписки и количества продлений в этот день. Функция должна записать в файл `weekdays.txt` аналитическую записку в формате:\n",
        "\n",
        "**`Количество обновлений подписки по дням недели:`**\n",
        "\n",
        "**`Понедельник: 6`**\n",
        "\n",
        "**`Вторник: 7`**\n",
        "\n",
        "**`Среда: 8`**\n",
        "\n",
        "**`...`**"
      ]
    },
    {
      "cell_type": "markdown",
      "metadata": {
        "id": "GOTB--hmt2xw"
      },
      "source": [
        "**Решение**\n",
        "\n",
        "Напишите свое решение ниже"
      ]
    },
    {
      "cell_type": "code",
      "execution_count": null,
      "metadata": {
        "id": "fz7nRb_ntKMv"
      },
      "outputs": [],
      "source": [
        "\n",
        "def sub_renewal_by_day(file_path):\n",
        "\n",
        "    ...\n",
        "\n",
        "sub_renewal_by_day('auto_purchase.log')"
      ]
    },
    {
      "cell_type": "markdown",
      "metadata": {
        "id": "0-7TiI06t8D0"
      },
      "source": [
        "✏️ ✏️ ✏️\n",
        "\n",
        "**Проверка**\n",
        "\n",
        "Чтобы проверить свое решение, запустите код в следующих ячейках"
      ]
    },
    {
      "cell_type": "code",
      "execution_count": null,
      "metadata": {
        "id": "eOzvKzYqt_UH"
      },
      "outputs": [],
      "source": [
        "# Здесь будет скачиваться файл с эталонным ответом\n",
        "\n",
        "!wget https://gist.github.com/Vs8th/c4c382f50761b5b9e64795eb89d49fda/raw/cor_weekdays.txt\n",
        "\n",
        "import pandas as pd\n",
        "\n",
        "user_answer = pd.read_csv('weekdays.txt')\n",
        "correct_answer = pd.read_csv('cor_weekdays.txt')"
      ]
    },
    {
      "cell_type": "code",
      "execution_count": null,
      "metadata": {
        "colab": {
          "base_uri": "https://localhost:8080/"
        },
        "id": "KzV-hUKcvxb2",
        "outputId": "56f6f0b7-44b8-472c-926c-8037fcd43069"
      },
      "outputs": [
        {
          "name": "stdout",
          "output_type": "stream",
          "text": [
            "Поздравляем, Вы справились и успешно прошли все проверки!!\n"
          ]
        }
      ],
      "source": [
        "try:\n",
        "  assert (user_answer == correct_answer).all().all(), 'Ответы не совпадают'\n",
        "except Exception as err:\n",
        "  raise AssertionError(f'При проверке возникла ошибка {repr(err)}')\n",
        "else:\n",
        "  print('Поздравляем, Вы справились и успешно прошли все проверки!!')"
      ]
    }
  ],
  "metadata": {
    "colab": {
      "provenance": []
    },
    "kernelspec": {
      "display_name": "Python 3",
      "name": "python3"
    },
    "language_info": {
      "name": "python"
    }
  },
  "nbformat": 4,
  "nbformat_minor": 0
}
